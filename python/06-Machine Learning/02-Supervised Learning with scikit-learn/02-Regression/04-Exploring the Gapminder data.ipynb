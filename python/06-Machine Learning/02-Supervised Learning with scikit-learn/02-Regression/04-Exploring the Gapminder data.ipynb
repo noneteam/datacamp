{
 "cells": [
  {
   "cell_type": "markdown",
   "metadata": {},
   "source": [
    "# Exploring the Gapminder data"
   ]
  },
  {
   "cell_type": "markdown",
   "metadata": {},
   "source": [
    "#### EXERCISE:\n",
    "As always, it is important to explore your data before building models. On the right, we have constructed a heatmap showing the correlation between the different features of the Gapminder dataset, which has been pre-loaded into a DataFrame as <code>df</code> and is available for exploration in the IPython Shell. Cells that are in green show positive correlation, while cells that are in red show negative correlation. Take a moment to explore this: Which features are positively correlated with <code>life</code>, and which ones are negatively correlated? Does this match your intuition?\n",
    "\n",
    "Then, in the IPython Shell, explore the DataFrame using pandas methods such as <code>.info()</code>, <code>.describe()</code>, <code>.head()</code>.\n",
    "\n",
    "In case you are curious, the heatmap was generated using <a href=\"http://seaborn.pydata.org/generated/seaborn.heatmap.html\" target=\"_blank\" rel=\"noopener noreferrer\">Seaborn's heatmap function</a> and the following line of code, where <code>df.corr()</code> computes the pairwise correlation between columns:\n",
    "\n",
    "<code>sns.heatmap(df.corr(), square=True, cmap='RdYlGn')</code>\n",
    "\n",
    "Once you have a feel for the data, consider the statements below and select the one that is <strong>not</strong> true. After this, Hugo will explain the mechanics of linear regression in the next video and you will be on your way building regression models!"
   ]
  },
  {
   "cell_type": "markdown",
   "metadata": {},
   "source": [
    "#### POSSIBLE ANSWERS:\n",
    "* The DataFrame has `139` samples (or rows) and `9` columns.\n",
    "* `life` and `fertility` are negatively correlated.\n",
    "* The mean of `life` is `69.602878`.\n",
    "* `fertility` is of type `int64`.\n",
    "* `GDP` and `life` are positively correlated."
   ]
  }
 ],
 "metadata": {
  "kernelspec": {
   "display_name": "Python 3",
   "language": "python",
   "name": "python3"
  },
  "language_info": {
   "codemirror_mode": {
    "name": "ipython",
    "version": 3
   },
   "file_extension": ".py",
   "mimetype": "text/x-python",
   "name": "python",
   "nbconvert_exporter": "python",
   "pygments_lexer": "ipython3",
   "version": "3.6.7"
  }
 },
 "nbformat": 4,
 "nbformat_minor": 2
}
