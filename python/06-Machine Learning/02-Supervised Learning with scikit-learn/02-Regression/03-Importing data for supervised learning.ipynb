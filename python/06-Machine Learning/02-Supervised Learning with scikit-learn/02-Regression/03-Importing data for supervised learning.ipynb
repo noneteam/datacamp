{
 "cells": [
  {
   "cell_type": "markdown",
   "metadata": {},
   "source": [
    "# Importing data for supervised learning"
   ]
  },
  {
   "cell_type": "markdown",
   "metadata": {},
   "source": [
    "#### EXERCISE:\n",
    "In this chapter, you will work with <a href=\"https://www.gapminder.org/data/\" target=\"_blank\" rel=\"noopener noreferrer\">Gapminder</a> data that we have consolidated into one CSV file available in the workspace as <code>'gapminder.csv'</code>. Specifically, your goal will be to use this data to predict the life expectancy in a given country based on features such as the country's GDP, fertility rate, and population. As in Chapter 1, the dataset has been preprocessed.\n",
    "\n",
    "Since the target variable here is quantitative, this is a regression problem. To begin, you will fit a linear regression with just one feature: <code>'fertility'</code>, which is the average number of children a woman in a given country gives birth to. In later exercises, you will use all the features to build regression models.\n",
    "\n",
    "Before that, however, you need to import the data and get it into the form needed by scikit-learn. This involves creating feature and target variable arrays. Furthermore, since you are going to use only one feature to begin with, you need to do some reshaping using NumPy's <code>.reshape()</code> method. Don't worry too much about this reshaping right now, but it is something you will have to do occasionally when working with scikit-learn so it is useful to practice."
   ]
  },
  {
   "cell_type": "markdown",
   "metadata": {},
   "source": [
    "#### INSTRUCTIONS:\n",
    "* Import <code>numpy</code> and <code>pandas</code> as their standard aliases.\n",
    "* Read the file <code>'gapminder.csv'</code> into a DataFrame <code>df</code> using the <code>read_csv()</code> function.\n",
    "* Create array <code>X</code> for the <code>'fertility'</code> feature  and array <code>y</code> for the <code>'life'</code> target variable.\n",
    "* Reshape the arrays by using the <code>.reshape()</code> method and passing in <code>-1</code> and <code>1</code>."
   ]
  },
  {
   "cell_type": "markdown",
   "metadata": {},
   "source": [
    "#### SCRIPT.PY:"
   ]
  },
  {
   "cell_type": "code",
   "execution_count": 8,
   "metadata": {},
   "outputs": [
    {
     "name": "stdout",
     "output_type": "stream",
     "text": [
      "Dimensions of y before reshaping: (139,)\n",
      "Dimensions of X before reshaping: (139,)\n",
      "Dimensions of y after reshaping: (139, 1)\n",
      "Dimensions of X after reshaping: (139, 1)\n"
     ]
    }
   ],
   "source": [
    "# Import numpy and pandas\n",
    "import numpy as np\n",
    "import pandas as pd\n",
    "\n",
    "# Read the CSV file into a DataFrame: df\n",
    "df = pd.read_csv(\"gapminder.csv\")\n",
    "\n",
    "# Create arrays for features and target variable\n",
    "y = df[\"life\"].values\n",
    "X = df[\"fertility\"].values\n",
    "\n",
    "# Print the dimensions of X and y before reshaping\n",
    "print(\"Dimensions of y before reshaping: {}\".format(y.shape))\n",
    "print(\"Dimensions of X before reshaping: {}\".format(X.shape))\n",
    "\n",
    "# Reshape X and y\n",
    "y = y.reshape(-1, 1)\n",
    "X = X.reshape(-1, 1)\n",
    "\n",
    "# Print the dimensions of X and y after reshaping\n",
    "print(\"Dimensions of y after reshaping: {}\".format(y.shape))\n",
    "print(\"Dimensions of X after reshaping: {}\".format(X.shape))"
   ]
  }
 ],
 "metadata": {
  "kernelspec": {
   "display_name": "Python 3",
   "language": "python",
   "name": "python3"
  },
  "language_info": {
   "codemirror_mode": {
    "name": "ipython",
    "version": 3
   },
   "file_extension": ".py",
   "mimetype": "text/x-python",
   "name": "python",
   "nbconvert_exporter": "python",
   "pygments_lexer": "ipython3",
   "version": "3.6.7"
  }
 },
 "nbformat": 4,
 "nbformat_minor": 2
}
