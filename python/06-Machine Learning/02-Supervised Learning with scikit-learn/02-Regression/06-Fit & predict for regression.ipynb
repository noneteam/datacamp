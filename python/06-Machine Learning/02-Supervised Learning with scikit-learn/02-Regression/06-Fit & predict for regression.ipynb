{
 "cells": [
  {
   "cell_type": "markdown",
   "metadata": {},
   "source": [
    "# Fit & predict for regression"
   ]
  },
  {
   "cell_type": "markdown",
   "metadata": {},
   "source": [
    "#### EXERCISE:\n",
    "Now, you will fit a linear regression and predict life expectancy using just one feature. You saw Andy do this earlier using the <code>'RM'</code> feature of the Boston housing dataset. In this exercise, you will use the <code>'fertility'</code> feature of the Gapminder dataset. Since the goal is to predict life expectancy, the target variable here is <code>'life'</code>. The array for the target variable has been pre-loaded as <code>y</code> and the array for <code>'fertility'</code> has been pre-loaded as <code>X_fertility</code>.\n",
    "\n",
    "A scatter plot with <code>'fertility'</code> on the x-axis and <code>'life'</code> on the y-axis has been generated. As you can see, there is a strongly negative correlation, so a linear regression should be able to capture this trend. Your job is to fit a linear regression and then predict the life expectancy, overlaying these predicted values on the plot to generate a regression line. You will also compute and print the $R^2$ score using sckit-learn's <code>.score()</code> method."
   ]
  },
  {
   "cell_type": "markdown",
   "metadata": {},
   "source": [
    "#### INSTRUCTIONS:\n",
    "* Import <code>LinearRegression</code> from <code>sklearn.linear_model</code>.\n",
    "* Create a <code>LinearRegression</code> regressor called <code>reg</code>.\n",
    "* Set up the prediction space to range from the minimum to the maximum of <code>X_fertility</code>. This has been done for you.\n",
    "* Fit the regressor to the data (<code>X_fertility</code> and <code>y</code>) and compute its predictions using the <code>.predict()</code> method and the <code>prediction_space</code> array.\n",
    "* Compute and print the  $R^2$ score using the <code>.score()</code> method.\n",
    "* Overlay the plot with your linear regression line. This has been done for you, so hit 'Submit Answer' to see the result!"
   ]
  },
  {
   "cell_type": "markdown",
   "metadata": {},
   "source": [
    "#### SCRIPT.PY:"
   ]
  },
  {
   "cell_type": "code",
   "execution_count": null,
   "metadata": {},
   "outputs": [],
   "source": [
    "# Import LinearRegression\n",
    "____\n",
    "\n",
    "# Create the regressor: reg\n",
    "reg = ____\n",
    "\n",
    "# Create the prediction space\n",
    "prediction_space = np.linspace(min(X_fertility), max(X_fertility)).reshape(-1,1)\n",
    "\n",
    "# Fit the model to the data\n",
    "____\n",
    "\n",
    "# Compute predictions over the prediction space: y_pred\n",
    "y_pred = ____\n",
    "\n",
    "# Print R^2 \n",
    "print(reg.score(____, ____))\n",
    "\n",
    "# Plot regression line\n",
    "plt.plot(prediction_space, y_pred, color='black', linewidth=3)\n",
    "plt.show()\n"
   ]
  }
 ],
 "metadata": {
  "kernelspec": {
   "display_name": "Python 3",
   "language": "python",
   "name": "python3"
  },
  "language_info": {
   "codemirror_mode": {
    "name": "ipython",
    "version": 3
   },
   "file_extension": ".py",
   "mimetype": "text/x-python",
   "name": "python",
   "nbconvert_exporter": "python",
   "pygments_lexer": "ipython3",
   "version": "3.6.7"
  }
 },
 "nbformat": 4,
 "nbformat_minor": 2
}
