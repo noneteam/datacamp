{
 "cells": [
  {
   "cell_type": "markdown",
   "metadata": {},
   "source": [
    "# Numerical EDA"
   ]
  },
  {
   "cell_type": "markdown",
   "metadata": {},
   "source": [
    "#### EXERCISE:\n",
    "In this chapter, you'll be working with a dataset obtained from the <a href=\"https://archive.ics.uci.edu/ml/datasets/Congressional+Voting+Records\" target=\"_blank\" rel=\"noopener noreferrer\">UCI Machine Learning Repository</a> consisting of votes made by US House of Representatives Congressmen. Your goal will be to predict their party affiliation ('Democrat' or 'Republican') based on how they voted on certain key issues. Here, it's worth noting that we have preprocessed this dataset to deal with missing values. This is so that your focus can be directed towards understanding how to train and evaluate supervised learning models. Once you have mastered these fundamentals, you will be introduced to preprocessing techniques in Chapter 4 and have the chance to apply them there yourself - including on this very same dataset!\n",
    "\n",
    "Before thinking about what supervised learning models you can apply to this, however, you need to perform Exploratory data analysis (EDA) in order to understand the structure of the data. For a refresher on the importance of EDA, check out the first two chapters of <a href=\"https://www.datacamp.com/courses/statistical-thinking-in-python-part-1\" target=\"_blank\" rel=\"noopener noreferrer\">Statistical Thinking in Python (Part 1)</a>. \n",
    "\n",
    "Get started with your EDA now by exploring this voting records dataset numerically. It has been pre-loaded for you into a DataFrame called <code>df</code>.  Use pandas' <code>.head()</code>, <code>.info()</code>, and <code>.describe()</code> methods in the IPython Shell to explore the DataFrame, and select the statement below that is <strong>not</strong> true."
   ]
  },
  {
   "cell_type": "markdown",
   "metadata": {},
   "source": [
    "#### POSSIBLE ANSWERS:\n",
    "* The DataFrame has a total of <code>435</code> rows and <code>17</code> columns.\n",
    "* Except for <code>'party'</code>, all of the columns are of type <code>int64</code>.\n",
    "* The first two rows of the DataFrame consist of votes made by Republicans and the next three rows consist of votes made by Democrats.\n",
    "* There are 17 <em>predictor variables</em>, or <em>features</em>, in this DataFrame.\n",
    "* The target variable in this DataFrame is <code>'party'</code>."
   ]
  }
 ],
 "metadata": {
  "kernelspec": {
   "display_name": "Python 3",
   "language": "python",
   "name": "python3"
  },
  "language_info": {
   "codemirror_mode": {
    "name": "ipython",
    "version": 3
   },
   "file_extension": ".py",
   "mimetype": "text/x-python",
   "name": "python",
   "nbconvert_exporter": "python",
   "pygments_lexer": "ipython3",
   "version": "3.6.7"
  }
 },
 "nbformat": 4,
 "nbformat_minor": 2
}
