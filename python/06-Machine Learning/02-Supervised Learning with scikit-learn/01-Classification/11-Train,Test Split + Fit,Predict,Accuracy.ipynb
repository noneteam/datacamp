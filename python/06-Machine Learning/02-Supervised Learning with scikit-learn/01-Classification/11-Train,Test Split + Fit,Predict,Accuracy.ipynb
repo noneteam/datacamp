{
 "cells": [
  {
   "cell_type": "markdown",
   "metadata": {},
   "source": [
    "# Train/Test Split + Fit/Predict/Accuracy"
   ]
  },
  {
   "cell_type": "markdown",
   "metadata": {},
   "source": [
    "#### EXERCISE:\n",
    "Now that you have learned about the importance of splitting your data into training and test sets, it's time to practice doing this on the digits dataset! After creating arrays for the features and target variable, you will split them into training and test sets, fit a k-NN classifier to the training data, and then compute its accuracy using the <code>.score()</code> method."
   ]
  },
  {
   "cell_type": "markdown",
   "metadata": {},
   "source": [
    "#### INSTRUCTIONS:\n",
    "* Import <code>KNeighborsClassifier</code> from <code>sklearn.neighbors</code> and <code>train_test_split</code> from <code>sklearn.model_selection</code>.\n",
    "* Create an array for the features using <code>digits.data</code> and an array for the target using <code>digits.target</code>.\n",
    "* Create stratified training and test sets using <code>0.2</code> for the size of the test set. Use a random state of <code>42</code>. Stratify the split according to the labels so that they are distributed in the training and test sets as they are in the original dataset.\n",
    "* Create a k-NN classifier with <code>7</code> neighbors and fit it to the training data.</li>\n",
    "* Compute and print the accuracy of the classifier's predictions using the <code>.score()</code> method."
   ]
  },
  {
   "cell_type": "markdown",
   "metadata": {},
   "source": [
    "#### SCRIPT.PY:"
   ]
  },
  {
   "cell_type": "code",
   "execution_count": null,
   "metadata": {},
   "outputs": [],
   "source": [
    "# Import necessary modules\n",
    "____\n",
    "____\n",
    "\n",
    "# Create feature and target arrays\n",
    "X = ____\n",
    "y = ____\n",
    "\n",
    "# Split into training and test set\n",
    "X_train, X_test, y_train, y_test = ____(____, ____, test_size = ____, random_state=____, stratify=____)\n",
    "\n",
    "# Create a k-NN classifier with 7 neighbors: knn\n",
    "knn = ____\n",
    "\n",
    "# Fit the classifier to the training data\n",
    "____\n",
    "\n",
    "# Print the accuracy\n",
    "print(knn.score(____, ____))"
   ]
  }
 ],
 "metadata": {
  "kernelspec": {
   "display_name": "Python 3",
   "language": "python",
   "name": "python3"
  },
  "language_info": {
   "codemirror_mode": {
    "name": "ipython",
    "version": 3
   },
   "file_extension": ".py",
   "mimetype": "text/x-python",
   "name": "python",
   "nbconvert_exporter": "python",
   "pygments_lexer": "ipython3",
   "version": "3.6.7"
  }
 },
 "nbformat": 4,
 "nbformat_minor": 2
}
