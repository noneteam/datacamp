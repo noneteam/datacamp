{
 "cells": [
  {
   "cell_type": "markdown",
   "metadata": {},
   "source": [
    "# Visual EDA"
   ]
  },
  {
   "cell_type": "markdown",
   "metadata": {},
   "source": [
    "#### EXERCISE:\n",
    "The Numerical EDA you did in the previous exercise gave you some very important information, such as the names and data types of the columns, and the dimensions of the DataFrame. Following this with some visual EDA will give you an even better understanding of the data. In the video, Hugo used the <code>scatter_matrix()</code> function on the Iris data for this purpose. However, you may have noticed in the previous exercise that all the features in this dataset are binary; that is, they are either 0 or 1. So a different type of plot would be more useful here, such as <a href=\"http://seaborn.pydata.org/generated/seaborn.countplot.html\" target=\"_blank\" rel=\"noopener noreferrer\">Seaborn's <code>countplot</code></a>.\n",
    "\n",
    "Given on the right is a <code>countplot</code> of the <code>'education'</code> bill, generated from the following code:\n",
    "\n",
    "<pre><code>plt.figure()\n",
    "sns.countplot(x='education', hue='party', data=df, palette='RdBu')\n",
    "plt.xticks([0,1], ['No', 'Yes'])\n",
    "plt.show()\n",
    "</code></pre>\n",
    "\n",
    "In <code>sns.countplot()</code>, we specify the x-axis data to be <code>'education'</code>, and hue to be <code>'party'</code>. Recall that <code>'party'</code> is also our target variable. So the resulting plot shows the difference in voting behavior between the two parties for the <code>'education'</code> bill, with each party colored differently. We manually specified the color to be <code>'RdBu'</code>, as the Republican party has been traditionally associated with red, and the Democratic party with blue.\n",
    "\n",
    "It seems like Democrats voted resoundingly <em>against</em> this bill, compared to Republicans. This is the kind of information that our machine learning model will seek to learn when we try to predict party affiliation solely based on voting behavior. An expert in U.S politics may be able to predict this without machine learning, but probably not instantaneously - and certainly not if we are dealing with hundreds of samples!\n",
    "\n",
    "In the IPython Shell, explore the voting behavior further by generating countplots for the <code>'satellite'</code> and <code>'missile'</code> bills, and answer the following question: Of these two bills, for which ones do Democrats vote resoundingly in <em>favor</em> of, compared to Republicans? Be sure to begin your plotting statements for each figure with <code>plt.figure()</code> so that a new figure will be set up. Otherwise, your plots will be overlayed onto the same figure."
   ]
  },
  {
   "cell_type": "markdown",
   "metadata": {},
   "source": [
    "#### POSSIBLE ANSWERS:\n",
    "* `'satellite'`.\n",
    "* `'missile'`.\n",
    "* Both `'satellite'` and `'missile'`.\n",
    "* Neither `'satellite'` nor `'missile'`."
   ]
  }
 ],
 "metadata": {
  "kernelspec": {
   "display_name": "Python 3",
   "language": "python",
   "name": "python3"
  },
  "language_info": {
   "codemirror_mode": {
    "name": "ipython",
    "version": 3
   },
   "file_extension": ".py",
   "mimetype": "text/x-python",
   "name": "python",
   "nbconvert_exporter": "python",
   "pygments_lexer": "ipython3",
   "version": "3.6.7"
  }
 },
 "nbformat": 4,
 "nbformat_minor": 2
}
