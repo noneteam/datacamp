{
 "cells": [
  {
   "cell_type": "markdown",
   "metadata": {},
   "source": [
    "# The digits recognition dataset"
   ]
  },
  {
   "cell_type": "markdown",
   "metadata": {},
   "source": [
    "#### EXERCISE:\n",
    "Up until now, you have been performing binary classification, since the target variable had two possible outcomes. Hugo, however, got to perform\n",
    "multi-class classification in the videos, where the target variable could take on three possible outcomes. Why does he get to have all the fun?!\n",
    "In the following exercises, you'll be working with the <a href=\"http://yann.lecun.com/exdb/mnist/\" target=\"_blank\" rel=\"noopener noreferrer\">MNIST</a> digits recognition dataset, which has\n",
    "10 classes, the digits 0 through 9! A reduced version of the MNIST dataset is one of scikit-learn's included datasets, and that is the one we will use in this exercise.\n",
    "\n",
    "Each sample in this scikit-learn dataset is an 8x8 image representing a handwritten digit. Each pixel is represented by an integer in the range 0 to 16, indicating varying levels of black. Recall that scikit-learn's built-in datasets are of type <code>Bunch</code>, which are dictionary-like objects. Helpfully for the MNIST dataset, scikit-learn provides an <code>'images'</code> key in addition to the <code>'data'</code> and <code>'target'</code> keys that you have seen with the Iris data. Because it is a 2D array of the images corresponding to each sample, this <code>'images'</code> key is useful for visualizing the images, as you'll see in this exercise (for more on plotting 2D arrays, see <a href=\"https://www.datacamp.com/courses/introduction-to-data-visualization-with-python\" target=\"_blank\" rel=\"noopener noreferrer\">Chapter 2</a> of DataCamp's course on Data Visualization with Python). On the other hand, the <code>'data'</code> key contains the feature array - that is, the images as a flattened array of 64 pixels.\n",
    "\n",
    "Notice that you can access the keys of these <code>Bunch</code> objects in two different ways: By using the <code>.</code> notation, as in <code>digits.images</code>, or the <code>[]</code> notation, as in <code>digits['images']</code>.\n",
    "\n",
    "For more on the MNIST data, check out <a href=\"https://campus.datacamp.com/courses/importing-data-in-python-part-1/introduction-and-flat-files-1?ex=10\" target=\"_blank\" rel=\"noopener noreferrer\">this exercise</a> in Part 1 of DataCamp's Importing Data in Python course. There, the full version of the MNIST dataset is used, in which the images are 28x28. It is a famous dataset in machine learning and computer vision, and frequently used as a benchmark to evaluate the performance of a new model."
   ]
  },
  {
   "cell_type": "markdown",
   "metadata": {},
   "source": [
    "#### INSTRUCTIONS:\n",
    "* Import <code>datasets</code> from <code>sklearn</code> and <code>matplotlib.pyplot</code> as <code>plt</code>.\n",
    "* Load the digits dataset using the <code>.load_digits()</code> method on <code>datasets</code>.\n",
    "* Print the keys and <code>DESCR</code> of digits.\n",
    "* Print the shape of <code>images</code> and <code>data</code> keys using the <code>.</code> notation.\n",
    "* Display the 1011th image using <code>plt.imshow()</code>. This has been done for you, so hit 'Submit Answer' to see which handwritten digit this happens to be!"
   ]
  },
  {
   "cell_type": "markdown",
   "metadata": {},
   "source": [
    "#### SCRIPT.PY:"
   ]
  },
  {
   "cell_type": "code",
   "execution_count": null,
   "metadata": {},
   "outputs": [],
   "source": [
    "# Import necessary modules\n",
    "from sklearn import datasets\n",
    "import matplotlib.pyplot as plt\n",
    "\n",
    "# Load the digits dataset: digits\n",
    "digits = ____\n",
    "\n",
    "# Print the keys and DESCR of the dataset\n",
    "print(____)\n",
    "print(____)\n",
    "\n",
    "# Print the shape of the images and data keys\n",
    "print(____.____.shape)\n",
    "print(____.____.shape)\n",
    "\n",
    "# Display digit 1010\n",
    "plt.imshow(digits.images[1010], cmap=plt.cm.gray_r, interpolation='nearest')\n",
    "plt.show()"
   ]
  }
 ],
 "metadata": {
  "kernelspec": {
   "display_name": "Python 3",
   "language": "python",
   "name": "python3"
  },
  "language_info": {
   "codemirror_mode": {
    "name": "ipython",
    "version": 3
   },
   "file_extension": ".py",
   "mimetype": "text/x-python",
   "name": "python",
   "nbconvert_exporter": "python",
   "pygments_lexer": "ipython3",
   "version": "3.6.7"
  }
 },
 "nbformat": 4,
 "nbformat_minor": 2
}
