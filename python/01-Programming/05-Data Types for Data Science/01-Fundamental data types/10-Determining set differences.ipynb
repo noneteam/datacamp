{
 "cells": [
  {
   "cell_type": "markdown",
   "metadata": {},
   "source": [
    "# Determining set differences"
   ]
  },
  {
   "cell_type": "markdown",
   "metadata": {},
   "source": [
    "#### EXERCISE:\n",
    "Another way of comparing sets is to use the <code>difference()</code> method. It returns\n",
    "all the items found in one set but not another. It's important to remember the \n",
    "set you call the method on will be the one from which the items are returned. Unlike\n",
    "tuples, you can <code>add()</code> items to a set. A set will only add items that do not exist\n",
    "in the set.\n",
    "\n",
    "In this exercise, you'll explore what names were common in 2011, but are no longer common in 2014. The set\n",
    "<code>baby_names_2014</code> has been pre-loaded into your workspace. As in the previous exercise, the names have been converted to title case to ensure a proper comparison."
   ]
  },
  {
   "cell_type": "markdown",
   "metadata": {},
   "source": [
    "#### INSTRUCTIONS:\n",
    "* Create an empty set called <code>baby_names_2011</code>. You can do this using <code>set()</code>.\n",
    "* Use a <code>for</code> loop to iterate over each <code>row</code> in <code>records</code>:\n",
    " * If the <em>first</em> column of each <code>row</code> in <code>records</code> is <code>'2011'</code>, add its <em>fourth</em> column to <code>baby_names_2011</code>. Remember that Python is 0-indexed!\n",
    "* Find the difference between <code>baby_names_2011</code> and <code>baby_names_2014</code>. Store the result as <code>differences</code>.\n",
    "* Print the <code>differences</code>. This has been done for you, so hit 'Submit Answer' to see the result!"
   ]
  },
  {
   "cell_type": "markdown",
   "metadata": {},
   "source": [
    "#### SCRIPT.PY:"
   ]
  },
  {
   "cell_type": "code",
   "execution_count": null,
   "metadata": {},
   "outputs": [],
   "source": [
    "# Create the empty set: baby_names_2011\n",
    "baby_names_2011 = ____\n",
    "\n",
    "# Loop over records and add the names from 2011 to the baby_names_2011 set\n",
    "for ____ in ____:\n",
    "    # Check if the first column is '2011'\n",
    "    if ____ ____ '____':\n",
    "        # Add the fourth column to the set\n",
    "        ____\n",
    "\n",
    "# Find the difference between 2011 and 2014: differences\n",
    "differences = ____\n",
    "\n",
    "# Print the differences\n",
    "print(differences)\n"
   ]
  }
 ],
 "metadata": {
  "kernelspec": {
   "display_name": "Python 3",
   "language": "python",
   "name": "python3"
  },
  "language_info": {
   "codemirror_mode": {
    "name": "ipython",
    "version": 3
   },
   "file_extension": ".py",
   "mimetype": "text/x-python",
   "name": "python",
   "nbconvert_exporter": "python",
   "pygments_lexer": "ipython3",
   "version": "3.6.7"
  }
 },
 "nbformat": 4,
 "nbformat_minor": 2
}
