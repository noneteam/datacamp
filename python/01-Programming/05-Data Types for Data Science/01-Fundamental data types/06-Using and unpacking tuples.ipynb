{
 "cells": [
  {
   "cell_type": "markdown",
   "metadata": {},
   "source": [
    "# Using and unpacking tuples"
   ]
  },
  {
   "cell_type": "markdown",
   "metadata": {},
   "source": [
    "#### EXERCISE:\n",
    "Tuples are made of several items just like a list, but they cannot be modified in any way. It\n",
    "is very common for tuples to be used to represent data from a database. If you have a tuple like\n",
    "<code>('chocolate chip cookies', 15)</code> and you want to access each part of the data, you can use an\n",
    "index just like a list. However, you can also \"unpack\" the tuple into multiple variables such \n",
    "as <code>type, count = ('chocolate chip cookies', 15)</code> that will set <code>type</code> to <code>'chocolate chip cookies'</code> and <code>count</code> to <code>15</code>.\n",
    "\n",
    "Often you'll want to pair up multiple array data types. The <code>zip()</code> function does just that. \n",
    "It will return a list of tuples containing one element from each list passed into <code>zip()</code>.\n",
    "\n",
    "When looping over a list, you can also track your position in the list by using the <code>enumerate()</code> function. The function returns  the index of the list item you are currently on in the list and the list item itself.\n",
    "\n",
    "You'll practice using the <code>enumerate()</code> and <code>zip()</code> functions in this exercise, in which your job is to pair up the most common boy and girl names. Two lists - <code>girl_names</code> and <code>boy_names</code> - have been pre-loaded into your workspace."
   ]
  },
  {
   "cell_type": "markdown",
   "metadata": {},
   "source": [
    "#### INSTRUCTIONS:\n",
    "* Use the <code>zip()</code> function to pair up <code>girl_names</code> and <code>boy_names</code> into a variable called <code>pairs</code>.\n",
    "* Use a <code>for</code> loop to loop through <code>pairs</code>, using <code>enumerate()</code> to keep track of your position. Unpack <code>pairs</code> into the variables <code>idx</code> and <code>pair</code>.\n",
    "* Inside the <code>for</code> loop:\n",
    " * Unpack <code>pair</code> into the variables <code>girl_name</code> and <code>boy_name</code>.\n",
    " * Print the rank, girl name, and boy name, in that order. The rank is contained in <code>idx</code>."
   ]
  },
  {
   "cell_type": "markdown",
   "metadata": {},
   "source": [
    "#### SCRIPT.PY:"
   ]
  },
  {
   "cell_type": "code",
   "execution_count": 2,
   "metadata": {},
   "outputs": [
    {
     "name": "stdout",
     "output_type": "stream",
     "text": [
      "Rank 0: TAYLOR and LUCAS\n",
      "Rank 1: London and MOSHE\n",
      "Rank 2: Serenity and Elijah\n",
      "Rank 3: AALIYAH and BENJAMIN\n",
      "Rank 4: SERENITY and JOSEPH\n",
      "Rank 5: Sarah and Aiden\n",
      "Rank 6: MADISON and JEREMIAH\n",
      "Rank 7: Sofia and CHRISTOPHER\n",
      "Rank 8: GABRIELLE and Josiah\n",
      "Rank 9: CHAYA and DAVID\n",
      "Rank 10: MAKAYLA and MUHAMMAD\n",
      "Rank 11: Kayla and Lucas\n",
      "Rank 12: Samantha and ALEXANDER\n",
      "Rank 13: Ava and Jason\n",
      "Rank 14: TIFFANY and ISAIAH\n",
      "Rank 15: Emma and David\n",
      "Rank 16: SARAH and SAMUEL\n",
      "Rank 17: NEVAEH and Joshua\n",
      "Rank 18: Victoria and Muhammad\n",
      "Rank 19: Ashley and Samuel\n",
      "Rank 20: Skylar and JOSIAH\n",
      "Rank 21: SOPHIA and MATTHEW\n",
      "Rank 22: LEAH and Amir\n",
      "Rank 23: Esther and ANTHONY\n",
      "Rank 24: ANGELA and ANGEL\n",
      "Rank 25: Taylor and JACOB\n",
      "Rank 26: Claire and Jack\n",
      "Rank 27: KAYLA and Ethan\n",
      "Rank 28: Miriam and AIDEN\n",
      "Rank 29: ESTHER and JOSHUA\n",
      "Rank 30: Alina and Alexander\n",
      "Rank 31: HAILEY and James\n",
      "Rank 32: ABIGAIL and JASON\n",
      "Rank 33: AVA and DANIEL\n",
      "Rank 34: CHANA and RYAN\n",
      "Rank 35: GENESIS and Carter\n",
      "Rank 36: GRACE and Michael\n",
      "Rank 37: Anna and Angel\n",
      "Rank 38: CHLOE and Jeremiah\n",
      "Rank 39: Valentina and Noah\n",
      "Rank 40: Savannah and JAMES\n",
      "Rank 41: Rachel and Mason\n",
      "Rank 42: ASHLEY and CHRISTIAN\n",
      "Rank 43: Mariam and KEVIN\n",
      "Rank 44: ISABELLA and ETHAN\n",
      "Rank 45: Leah and Matthew\n",
      "Rank 46: JADA and Daniel\n",
      "Rank 47: Zoe and Dylan\n",
      "Rank 48: MIRIAM and JUSTIN\n",
      "Rank 49: Chaya and William\n",
      "Rank 50: Chloe and Eric\n",
      "Rank 51: Emily and JACK\n",
      "Rank 52: RACHEL and Ryan\n",
      "Rank 53: Camila and NOAH\n",
      "Rank 54: ELLA and ELIJAH\n",
      "Rank 55: CAMILA and MICHAEL\n",
      "Rank 56: SOFIA and MASON\n",
      "Rank 57: EMILY and TYLER\n",
      "Rank 58: Fatoumata and Sebastian\n",
      "Rank 59: EMMA and Joseph\n",
      "Rank 60: Sophia and Liam\n",
      "Rank 61: Olivia and JAYDEN\n",
      "Rank 62: Isabella and Moshe\n",
      "Rank 63: FIONA and Benjamin\n",
      "Rank 64: MIA and Jacob\n",
      "Rank 65: Grace and SEBASTIAN\n",
      "Rank 66: Aaliyah and ERIC\n",
      "Rank 67: Chana and Jayden\n"
     ]
    }
   ],
   "source": [
    "girl_names = ['TAYLOR', 'London', 'Serenity', 'AALIYAH', 'SERENITY', 'Sarah', 'MADISON', 'Sofia', 'GABRIELLE', 'CHAYA', 'MAKAYLA', 'Kayla', 'Samantha', 'Ava', 'TIFFANY', 'Emma', 'SARAH', 'NEVAEH', 'Victoria', 'Ashley', 'Skylar', 'SOPHIA', 'LEAH', 'Esther', 'ANGELA', 'Taylor', 'Claire', 'KAYLA', 'Miriam', 'ESTHER', 'Alina', 'HAILEY', 'ABIGAIL', 'AVA', 'CHANA', 'GENESIS', 'GRACE', 'Anna', 'CHLOE', 'Valentina', 'Savannah', 'Rachel', 'ASHLEY', 'Mariam', 'ISABELLA', 'Leah', 'JADA', 'Zoe', 'MIRIAM', 'Chaya', 'Chloe', 'Emily', 'RACHEL', 'Camila', 'ELLA', 'CAMILA', 'SOFIA', 'EMILY', 'Fatoumata', 'EMMA', 'Sophia', 'Olivia', 'Isabella', 'FIONA', 'MIA', 'Grace', 'Aaliyah', 'Chana', 'Madison', 'LONDON', 'Mia', 'Angela', 'Brielle', 'OLIVIA']\n",
    "boy_names = ['LUCAS', 'MOSHE', 'Elijah', 'BENJAMIN', 'JOSEPH', 'Aiden', 'JEREMIAH', 'CHRISTOPHER', 'Josiah', 'DAVID', 'MUHAMMAD', 'Lucas', 'ALEXANDER', 'Jason', 'ISAIAH', 'David', 'SAMUEL', 'Joshua', 'Muhammad', 'Samuel', 'JOSIAH', 'MATTHEW', 'Amir', 'ANTHONY', 'ANGEL', 'JACOB', 'Jack', 'Ethan', 'AIDEN', 'JOSHUA', 'Alexander', 'James', 'JASON', 'DANIEL', 'RYAN', 'Carter', 'Michael', 'Angel', 'Jeremiah', 'Noah', 'JAMES', 'Mason', 'CHRISTIAN', 'KEVIN', 'ETHAN', 'Matthew', 'Daniel', 'Dylan', 'JUSTIN', 'William', 'Eric', 'JACK', 'Ryan', 'NOAH', 'ELIJAH', 'MICHAEL', 'MASON', 'TYLER', 'Sebastian', 'Joseph', 'Liam', 'JAYDEN', 'Moshe', 'Benjamin', 'Jacob', 'SEBASTIAN', 'ERIC', 'Jayden']\n",
    "# Pair up the boy and girl names: pairs\n",
    "pairs = zip(girl_names, boy_names)\n",
    "\n",
    "# Iterate over pairs\n",
    "for idx, pair in enumerate(pairs):\n",
    "    # Unpack pair: girl_name, boy_name\n",
    "    girl_name, boy_name = pair\n",
    "    # Print the rank and names associated with each rank\n",
    "    print('Rank {}: {} and {}'.format(idx, girl_name, boy_name))"
   ]
  }
 ],
 "metadata": {
  "kernelspec": {
   "display_name": "Python 3",
   "language": "python",
   "name": "python3"
  },
  "language_info": {
   "codemirror_mode": {
    "name": "ipython",
    "version": 3
   },
   "file_extension": ".py",
   "mimetype": "text/x-python",
   "name": "python",
   "nbconvert_exporter": "python",
   "pygments_lexer": "ipython3",
   "version": "3.6.7"
  }
 },
 "nbformat": 4,
 "nbformat_minor": 2
}
