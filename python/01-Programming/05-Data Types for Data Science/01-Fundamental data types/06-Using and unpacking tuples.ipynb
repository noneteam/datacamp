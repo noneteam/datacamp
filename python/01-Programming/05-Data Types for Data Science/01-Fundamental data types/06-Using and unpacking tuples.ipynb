{
 "cells": [
  {
   "cell_type": "markdown",
   "metadata": {},
   "source": [
    "# Using and unpacking tuples"
   ]
  },
  {
   "cell_type": "markdown",
   "metadata": {},
   "source": [
    "#### EXERCISE:\n",
    "Tuples are made of several items just like a list, but they cannot be modified in any way. It\n",
    "is very common for tuples to be used to represent data from a database. If you have a tuple like\n",
    "<code>('chocolate chip cookies', 15)</code> and you want to access each part of the data, you can use an\n",
    "index just like a list. However, you can also \"unpack\" the tuple into multiple variables such \n",
    "as <code>type, count = ('chocolate chip cookies', 15)</code> that will set <code>type</code> to <code>'chocolate chip cookies'</code> and <code>count</code> to <code>15</code>.\n",
    "\n",
    "Often you'll want to pair up multiple array data types. The <code>zip()</code> function does just that. \n",
    "It will return a list of tuples containing one element from each list passed into <code>zip()</code>.\n",
    "\n",
    "When looping over a list, you can also track your position in the list by using the <code>enumerate()</code> function. The function returns  the index of the list item you are currently on in the list and the list item itself.\n",
    "\n",
    "You'll practice using the <code>enumerate()</code> and <code>zip()</code> functions in this exercise, in which your job is to pair up the most common boy and girl names. Two lists - <code>girl_names</code> and <code>boy_names</code> - have been pre-loaded into your workspace."
   ]
  },
  {
   "cell_type": "markdown",
   "metadata": {},
   "source": [
    "#### INSTRUCTIONS:\n",
    "* Use the <code>zip()</code> function to pair up <code>girl_names</code> and <code>boy_names</code> into a variable called <code>pairs</code>.\n",
    "* Use a <code>for</code> loop to loop through <code>pairs</code>, using <code>enumerate()</code> to keep track of your position. Unpack <code>pairs</code> into the variables <code>idx</code> and <code>pair</code>.\n",
    "* Inside the <code>for</code> loop:\n",
    " * Unpack <code>pair</code> into the variables <code>girl_name</code> and <code>boy_name</code>.\n",
    " * Print the rank, girl name, and boy name, in that order. The rank is contained in <code>idx</code>."
   ]
  },
  {
   "cell_type": "markdown",
   "metadata": {},
   "source": [
    "#### SCRIPT.PY:"
   ]
  },
  {
   "cell_type": "code",
   "execution_count": 2,
   "metadata": {},
   "outputs": [],
   "source": [
    "# Pair up the boy and girl names: pairs\n",
    "pairs = ____\n",
    "\n",
    "# Iterate over pairs\n",
    "for ____, ____ in ____:\n",
    "    # Unpack pair: girl_name, boy_name\n",
    "    ____, ____ = ____\n",
    "    # Print the rank and names associated with each rank\n",
    "    print('Rank {}: {} and {}'.format(____, ____, ____))\n"
   ]
  }
 ],
 "metadata": {
  "kernelspec": {
   "display_name": "Python 3",
   "language": "python",
   "name": "python3"
  },
  "language_info": {
   "codemirror_mode": {
    "name": "ipython",
    "version": 3
   },
   "file_extension": ".py",
   "mimetype": "text/x-python",
   "name": "python",
   "nbconvert_exporter": "python",
   "pygments_lexer": "ipython3",
   "version": "3.6.7"
  }
 },
 "nbformat": 4,
 "nbformat_minor": 2
}
