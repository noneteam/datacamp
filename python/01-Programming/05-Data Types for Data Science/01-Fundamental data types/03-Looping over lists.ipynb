{
 "cells": [
  {
   "cell_type": "markdown",
   "metadata": {},
   "source": [
    "# Looping over lists"
   ]
  },
  {
   "cell_type": "markdown",
   "metadata": {},
   "source": [
    "#### EXERCISE:\n",
    "You can use a <code>for</code> loop to iterate through all the items in a list. You can take\n",
    "that a step further with the <code>sorted()</code> function which will sort the data in a list\n",
    "from lowest to highest in the case of numbers and alphabetical order if the list \n",
    "contains strings.\n",
    "\n",
    "The <code>sorted()</code> function returns a new list and does not affect\n",
    "the list you passed into the function. You can learn more about <code>sorted()</code> in\n",
    "the Python <a href=\"https://docs.python.org/3/library/functions.html#sorted\" target=\"_blank\">documentation</a>.\n",
    "\n",
    "A list of lists, <code>records</code> has been pre-loaded. If you explore it in the IPython Shell, you'll see that each entry is a list of this form:\n",
    "\n",
    "<code>['2011', 'FEMALE', 'HISPANIC', 'GERALDINE', '13', '75']</code>\n",
    "\n",
    "The name of the baby (<code>'GERALDINE'</code>) is the <em>fourth</em> entry of this list. Your job in this exercise is to loop over this list of lists and append the names of each baby to a new list called <code>baby_names</code>."
   ]
  },
  {
   "cell_type": "markdown",
   "metadata": {},
   "source": [
    "#### INSTRUCTIONS:\n",
    "* Create an empty list called <code>baby_names</code>.\n",
    "* Use a <code>for</code> loop to iterate over each <code>row</code> of <code>records</code>:\n",
    " * Append the name in <code>records</code> to <code>baby_names</code>. The name is stored in the fourth element of <code>row</code>.\n",
    "* Print each name in <code>baby_names</code> in alphabetical order. To do this:\n",
    " * Use the <code>sorted()</code> function as part of a <code>for</code> loop to iterate over the sorted names, printing each one."
   ]
  },
  {
   "cell_type": "markdown",
   "metadata": {},
   "source": [
    "#### SCRIPT.PY:"
   ]
  },
  {
   "cell_type": "code",
   "execution_count": 2,
   "metadata": {},
   "outputs": [],
   "source": [
    "# Create the empty list: baby_names\n",
    "baby_names = ____\n",
    "\n",
    "# Loop over records \n",
    "for ____ in ____:\n",
    "    # Add the name to the list\n",
    "    ____\n",
    "    \n",
    "# Sort the names in alphabetical order\n",
    "for name in ____:\n",
    "    # Print each name\n",
    "    print(name)\n",
    "    "
   ]
  }
 ],
 "metadata": {
  "kernelspec": {
   "display_name": "Python 3",
   "language": "python",
   "name": "python3"
  },
  "language_info": {
   "codemirror_mode": {
    "name": "ipython",
    "version": 3
   },
   "file_extension": ".py",
   "mimetype": "text/x-python",
   "name": "python",
   "nbconvert_exporter": "python",
   "pygments_lexer": "ipython3",
   "version": "3.6.7"
  }
 },
 "nbformat": 4,
 "nbformat_minor": 2
}
