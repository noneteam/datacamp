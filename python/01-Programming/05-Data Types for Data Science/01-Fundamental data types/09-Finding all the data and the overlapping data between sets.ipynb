{
 "cells": [
  {
   "cell_type": "markdown",
   "metadata": {},
   "source": [
    "# Finding all the data and the overlapping data between sets"
   ]
  },
  {
   "cell_type": "markdown",
   "metadata": {},
   "source": [
    "#### EXERCISE:\n",
    "Sets have several methods to combine, compare, and study them all based on mathematical\n",
    "set theory. The <code>.union()</code> method returns a set of all the names found in the set you used\n",
    "the method on plus any sets passed as arguments to the method. You can also look for \n",
    "overlapping data in sets by using the <code>.intersection()</code> method on a set and passing \n",
    "another set as an argument. It will return an empty set if nothing matches.\n",
    "\n",
    "Your job in this exercise is to find the union and intersection in the names from 2011 and 2014. For this purpose, two sets have been pre-loaded into your workspace: <code>baby_names_2011</code> and <code>baby_names_2014</code>.\n",
    "\n",
    "One quirk in the baby names dataset is that names in 2011 and 2012 are all in upper case, while names in 2013 and 2014 are in title case (where the first letter of each name is capitalized). Consequently, if you were to compare the 2011 and 2014 data in this form, you would find no overlapping names between the two years! To remedy this, we converted the names in 2011 to title case using Python's <code>.title()</code> method.\n",
    "\n",
    "Real-world data can often come with quirks like this - it's important to catch them to ensure your results are meaningful."
   ]
  },
  {
   "cell_type": "markdown",
   "metadata": {},
   "source": [
    "#### INSTRUCTIONS:\n",
    "* Combine all the names in <code>baby_names_2011</code> and <code>baby_names_2014</code> by computing their union. Store the result as <code>all_names</code>.\n",
    "* Print the number of names that occur in <code>all_names</code>. You can use the <code>len()</code> function to compute the number of names in <code>all_names</code>.\n",
    "* Find all the names that occur in both <code>baby_names_2011</code> and <code>baby_names_2014</code> by computing their intersection. Store the result as <code>overlapping_names</code>.\n",
    "* Print the number of names that occur in <code>overlapping_names</code>."
   ]
  },
  {
   "cell_type": "markdown",
   "metadata": {},
   "source": [
    "#### SCRIPT.PY:"
   ]
  },
  {
   "cell_type": "code",
   "execution_count": null,
   "metadata": {},
   "outputs": [],
   "source": [
    "# Find the union: all_names\n",
    "all_names = ____\n",
    "\n",
    "# Print the count of names in all_names\n",
    "print(____)\n",
    "\n",
    "# Find the intersection: overlapping_names\n",
    "overlapping_names = ____\n",
    "\n",
    "# Print the count of names in overlapping_names\n",
    "print(____)\n"
   ]
  }
 ],
 "metadata": {
  "kernelspec": {
   "display_name": "Python 3",
   "language": "python",
   "name": "python3"
  },
  "language_info": {
   "codemirror_mode": {
    "name": "ipython",
    "version": 3
   },
   "file_extension": ".py",
   "mimetype": "text/x-python",
   "name": "python",
   "nbconvert_exporter": "python",
   "pygments_lexer": "ipython3",
   "version": "3.6.7"
  }
 },
 "nbformat": 4,
 "nbformat_minor": 2
}
