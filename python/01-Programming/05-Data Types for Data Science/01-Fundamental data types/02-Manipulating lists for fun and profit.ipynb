{
 "cells": [
  {
   "cell_type": "markdown",
   "metadata": {},
   "source": [
    "# Manipulating lists for fun and profit"
   ]
  },
  {
   "cell_type": "markdown",
   "metadata": {},
   "source": [
    "#### EXERCISE:\n",
    "You may be familiar with adding individual data elements to a list by using the <code>.append()</code> \n",
    "method. However, if you want to combine a list with another array type (list, set, tuple), you \n",
    "can use the <code>.extend()</code> method on the list.\n",
    "\n",
    "You can also use the <code>.index()</code> method to find the position of an item in a list. You can then use that position to remove the item with the <code>.pop()</code> method.\n",
    "\n",
    "In this exercise, you'll practice using all these methods!"
   ]
  },
  {
   "cell_type": "markdown",
   "metadata": {},
   "source": [
    "#### INSTRUCTIONS:\n",
    "* Create a list called <code>baby_names</code> with the names <code>'Ximena'</code>, <code>'Aliza'</code>, <code>'Ayden'</code>, and <code>'Calvin'</code>.\n",
    "* Use the <code>.extend()</code> method on <code>baby_names</code> to add <code>'Rowen'</code> and <code>'Sandeep'</code> and print the list.\n",
    "* Use the <code>.index()</code> method to find the position of <code>'Aliza'</code> in the list. Save the result as <code>position</code>.\n",
    "* Use the <code>.pop()</code> method with <code>position</code> to remove <code>'Aliza'</code> from the list.\n",
    "* Print the <code>baby_names</code> list. This has been done for you, so hit 'Submit Answer' to see the results!"
   ]
  },
  {
   "cell_type": "markdown",
   "metadata": {},
   "source": [
    "#### SCRIPT.PY:"
   ]
  },
  {
   "cell_type": "code",
   "execution_count": 1,
   "metadata": {},
   "outputs": [
    {
     "name": "stdout",
     "output_type": "stream",
     "text": [
      "['Ximena', 'Aliza', 'Ayden', 'Calvin', 'Rowen', 'Sandeep']\n",
      "['Ximena', 'Ayden', 'Calvin', 'Rowen', 'Sandeep']\n"
     ]
    }
   ],
   "source": [
    "# Create a list containing the names: baby_names\n",
    "baby_names = ['Ximena', 'Aliza', 'Ayden', 'Calvin']\n",
    "\n",
    "# Extend baby_names with 'Rowen' and 'Sandeep'\n",
    "baby_names.extend(['Rowen', 'Sandeep'])\n",
    "\n",
    "# Print baby_names\n",
    "print(baby_names)\n",
    "\n",
    "# Find the position of 'Aliza': position\n",
    "position = baby_names.index('Aliza')\n",
    "\n",
    "# Remove 'Aliza' from baby_names\n",
    "baby_names.pop(position)\n",
    "\n",
    "# Print baby_names\n",
    "print(baby_names)\n"
   ]
  }
 ],
 "metadata": {
  "kernelspec": {
   "display_name": "Python 3",
   "language": "python",
   "name": "python3"
  },
  "language_info": {
   "codemirror_mode": {
    "name": "ipython",
    "version": 3
   },
   "file_extension": ".py",
   "mimetype": "text/x-python",
   "name": "python",
   "nbconvert_exporter": "python",
   "pygments_lexer": "ipython3",
   "version": "3.6.7"
  }
 },
 "nbformat": 4,
 "nbformat_minor": 2
}
