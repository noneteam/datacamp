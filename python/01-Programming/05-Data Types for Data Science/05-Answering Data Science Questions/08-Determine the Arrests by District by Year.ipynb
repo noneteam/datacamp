{
 "cells": [
  {
   "cell_type": "markdown",
   "metadata": {},
   "source": [
    "# Determine the Arrests by District by Year"
   ]
  },
  {
   "cell_type": "markdown",
   "metadata": {},
   "source": [
    "#### EXERCISE:\n",
    "Using your <code>crimes_by_district</code> dictionary from the previous exercise, you'll now determine the number arrests in each City \n",
    "district for each year. <code>Counter</code> is already imported for you. You'll want to use the IPython Shell to explore the \n",
    "<code>crimes_by_district</code> dictionary to determine how to check if an arrest was made."
   ]
  },
  {
   "cell_type": "markdown",
   "metadata": {},
   "source": [
    "#### INSTRUCTIONS:\n",
    "* Loop over the <code>crimes_by_district</code> dictionary, unpacking it into the variables <code>district</code> and <code>crimes</code>.\n",
    " * Create an empty Counter object called <code>year_count</code>.\n",
    " * Loop over the <code>crimes</code>:\n",
    "  * If there was an arrest,\n",
    "   * Convert <code>crime['Date']</code> to a datetime object called <code>year</code>.\n",
    "   * Add the crime to the Counter for the <code>year</code>, by using <code>year</code> as the key of <code>year_count</code>.\n",
    "  </li>\n",
    " * Print the Counter. This has been done for you, so hit 'Submit Answer' to see the result!"
   ]
  },
  {
   "cell_type": "markdown",
   "metadata": {},
   "source": [
    "#### SCRIPT.PY:"
   ]
  },
  {
   "cell_type": "code",
   "execution_count": 19,
   "metadata": {},
   "outputs": [
    {
     "name": "stdout",
     "output_type": "stream",
     "text": [
      "14\n",
      "Counter({2016: 59, 2017: 8})\n",
      "24\n",
      "Counter({2016: 51, 2017: 10})\n",
      "6\n",
      "Counter({2016: 157, 2017: 32})\n",
      "15\n",
      "Counter({2016: 154, 2017: 16})\n",
      "12\n",
      "Counter({2016: 72, 2017: 9})\n",
      "7\n",
      "Counter({2016: 181, 2017: 27})\n",
      "1\n",
      "Counter({2016: 124, 2017: 15})\n",
      "11\n",
      "Counter({2016: 275, 2017: 53})\n",
      "18\n",
      "Counter({2016: 92, 2017: 17})\n",
      "22\n",
      "Counter({2016: 78, 2017: 12})\n",
      "5\n",
      "Counter({2016: 149, 2017: 30})\n",
      "16\n",
      "Counter({2016: 66, 2017: 9})\n",
      "9\n",
      "Counter({2016: 116, 2017: 17})\n",
      "8\n",
      "Counter({2016: 124, 2017: 26})\n",
      "3\n",
      "Counter({2016: 98, 2017: 18})\n",
      "2\n",
      "Counter({2016: 84, 2017: 15})\n",
      "19\n",
      "Counter({2016: 88, 2017: 11})\n",
      "10\n",
      "Counter({2016: 144, 2017: 20})\n",
      "4\n",
      "Counter({2016: 134, 2017: 15})\n",
      "17\n",
      "Counter({2016: 38, 2017: 5})\n",
      "20\n",
      "Counter({2016: 27, 2017: 8})\n",
      "25\n",
      "Counter({2016: 150, 2017: 26})\n",
      "31\n",
      "Counter({2016: 1})\n"
     ]
    }
   ],
   "source": [
    "import csv\n",
    "from collections import defaultdict, Counter\n",
    "from datetime import datetime\n",
    "csvfile = open(\"crime_sampler.csv\")\n",
    "crimes_by_district = defaultdict(list)\n",
    "for row in csv.DictReader(csvfile):\n",
    "    district = row.pop(\"District\")\n",
    "    crimes_by_district[district].append(row)\n",
    "# Loop over the crimes_by_district using expansion as district and crimes\n",
    "for district, crimes in crimes_by_district.items():\n",
    "    # Print the district\n",
    "    print(district)\n",
    "    \n",
    "    # Create an empty Counter object: year_count\n",
    "    year_count = Counter()\n",
    "  \n",
    "    # Loop over the crimes:\n",
    "    for crime in crimes:\n",
    "        # If there was an arrest\n",
    "        if crime['Arrest'] == 'true':\n",
    "            # Convert the Date to a datetime and get the year\n",
    "            year = datetime.strptime(crime[\"Date\"], '%m/%d/%Y %I:%M:%S %p').year\n",
    "            # Increment the Counter for the year\n",
    "            year_count[year] += 1\n",
    "            \n",
    "    # Print the counter\n",
    "    print(year_count)"
   ]
  }
 ],
 "metadata": {
  "kernelspec": {
   "display_name": "Python 3",
   "language": "python",
   "name": "python3"
  },
  "language_info": {
   "codemirror_mode": {
    "name": "ipython",
    "version": 3
   },
   "file_extension": ".py",
   "mimetype": "text/x-python",
   "name": "python",
   "nbconvert_exporter": "python",
   "pygments_lexer": "ipython3",
   "version": "3.6.7"
  }
 },
 "nbformat": 4,
 "nbformat_minor": 2
}
