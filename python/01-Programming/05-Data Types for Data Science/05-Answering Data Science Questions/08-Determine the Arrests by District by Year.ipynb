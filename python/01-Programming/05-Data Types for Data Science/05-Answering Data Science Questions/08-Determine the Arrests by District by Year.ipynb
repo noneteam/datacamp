{
 "cells": [
  {
   "cell_type": "markdown",
   "metadata": {},
   "source": [
    "# Determine the Arrests by District by Year"
   ]
  },
  {
   "cell_type": "markdown",
   "metadata": {},
   "source": [
    "#### EXERCISE:\n",
    "Using your <code>crimes_by_district</code> dictionary from the previous exercise, you'll now determine the number arrests in each City \n",
    "district for each year. <code>Counter</code> is already imported for you. You'll want to use the IPython Shell to explore the \n",
    "<code>crimes_by_district</code> dictionary to determine how to check if an arrest was made."
   ]
  },
  {
   "cell_type": "markdown",
   "metadata": {},
   "source": [
    "#### INSTRUCTIONS:\n",
    "* Loop over the <code>crimes_by_district</code> dictionary, unpacking it into the variables <code>district</code> and <code>crimes</code>.\n",
    " * Create an empty Counter object called <code>year_count</code>.\n",
    " * Loop over the <code>crimes</code>:\n",
    "  * If there was an arrest,\n",
    "   * Convert <code>crime['Date']</code> to a datetime object called <code>year</code>.\n",
    "   * Add the crime to the Counter for the <code>year</code>, by using <code>year</code> as the key of <code>year_count</code>.\n",
    "  </li>\n",
    " * Print the Counter. This has been done for you, so hit 'Submit Answer' to see the result!"
   ]
  },
  {
   "cell_type": "markdown",
   "metadata": {},
   "source": [
    "#### SCRIPT.PY:"
   ]
  },
  {
   "cell_type": "code",
   "execution_count": null,
   "metadata": {},
   "outputs": [],
   "source": [
    "# Loop over the crimes_by_district using expansion as district and crimes\n",
    "for ____, ____ in ____:\n",
    "    # Print the district\n",
    "    print(district)\n",
    "    \n",
    "    # Create an empty Counter object: year_count\n",
    "    year_count = ____\n",
    "    \n",
    "    # Loop over the crimes:\n",
    "    for crime in ____:\n",
    "        # If there was an arrest\n",
    "        if ____['____'] == '____':\n",
    "            # Convert the Date to a datetime and get the year\n",
    "            year = ____(____, '%m/%d/%Y %I:%M:%S %p').year\n",
    "            # Increment the Counter for the year\n",
    "            ____ += 1\n",
    "            \n",
    "    # Print the counter\n",
    "    print(year_count)"
   ]
  }
 ],
 "metadata": {
  "kernelspec": {
   "display_name": "Python 3",
   "language": "python",
   "name": "python3"
  },
  "language_info": {
   "codemirror_mode": {
    "name": "ipython",
    "version": 3
   },
   "file_extension": ".py",
   "mimetype": "text/x-python",
   "name": "python",
   "nbconvert_exporter": "python",
   "pygments_lexer": "ipython3",
   "version": "3.6.7"
  }
 },
 "nbformat": 4,
 "nbformat_minor": 2
}
