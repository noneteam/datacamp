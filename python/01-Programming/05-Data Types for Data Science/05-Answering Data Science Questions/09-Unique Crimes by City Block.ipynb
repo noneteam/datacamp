{
 "cells": [
  {
   "cell_type": "markdown",
   "metadata": {},
   "source": [
    "# Unique Crimes by City Block"
   ]
  },
  {
   "cell_type": "markdown",
   "metadata": {},
   "source": [
    "#### EXERCISE:\n",
    "You're in the home stretch!\n",
    "\n",
    "Here, your data has been reshaped into a dictionary called <code>crimes_by_block</code> in which crimes are listed by city block. Your task in this exercise is to get a unique list of crimes that have occurred on a couple of the blocks that have been selected for you to learn more about. You might remember that you used <code>set()</code> to solve problems like this in Chapter 1.\n",
    "\n",
    "Go for it!"
   ]
  },
  {
   "cell_type": "markdown",
   "metadata": {},
   "source": [
    "#### INSTRUCTIONS:\n",
    "* Create a unique list of crimes for the <code>'001XX N STATE ST'</code> block called <code>n_state_st_crimes</code> and print it.\n",
    "* Create a unique list of crimes for the <code>'0000X W TERMINAL ST'</code> block called <code>w_terminal_st_crimes</code> and print it.\n",
    "* Find the crimes committed on <code>001XX N STATE ST</code> but not <code>0000X W TERMINAL ST</code>. Store the result as <code>crime_differences</code> and print it."
   ]
  },
  {
   "cell_type": "markdown",
   "metadata": {},
   "source": [
    "#### SCRIPT.PY:"
   ]
  },
  {
   "cell_type": "code",
   "execution_count": 17,
   "metadata": {},
   "outputs": [
    {
     "name": "stdout",
     "output_type": "stream",
     "text": [
      "{'DECEPTIVE PRACTICE', 'CRIMINAL DAMAGE', 'THEFT', 'BATTERY', 'OTHER OFFENSE', 'ASSAULT', 'CRIMINAL TRESPASS', 'ROBBERY'}\n",
      "{'CRIMINAL DAMAGE', 'DECEPTIVE PRACTICE', 'NARCOTICS', 'THEFT', 'PUBLIC PEACE VIOLATION', 'OTHER OFFENSE', 'ASSAULT', 'CRIMINAL TRESPASS'}\n",
      "{'ROBBERY', 'BATTERY'}\n"
     ]
    }
   ],
   "source": [
    "import csv\n",
    "from collections import defaultdict, Counter\n",
    "from datetime import datetime\n",
    "csvfile = open(\"crime_sampler.csv\")\n",
    "crimes_by_block = defaultdict(list)\n",
    "for row in csv.DictReader(csvfile):\n",
    "    crimes_by_block[row[\"Block\"]].append(row[\"Primary Type\"])\n",
    "# Create a unique list of crimes for the first block: n_state_st_crimes\n",
    "n_state_st_crimes = set(crimes_by_block[\"001XX N STATE ST\"])\n",
    "\n",
    "# Print the list\n",
    "print(n_state_st_crimes)\n",
    "\n",
    "# Create a unique list of crimes for the second block: w_terminal_st_crimes\n",
    "w_terminal_st_crimes = set(crimes_by_block[\"0000X W TERMINAL ST\"])\n",
    "\n",
    "# Print the list\n",
    "print(w_terminal_st_crimes)\n",
    "\n",
    "# Find the differences between the two blocks: crime_differences\n",
    "crime_differences = n_state_st_crimes.difference(w_terminal_st_crimes)\n",
    "\n",
    "# Print the differences\n",
    "print(crime_differences)"
   ]
  }
 ],
 "metadata": {
  "kernelspec": {
   "display_name": "Python 3",
   "language": "python",
   "name": "python3"
  },
  "language_info": {
   "codemirror_mode": {
    "name": "ipython",
    "version": 3
   },
   "file_extension": ".py",
   "mimetype": "text/x-python",
   "name": "python",
   "nbconvert_exporter": "python",
   "pygments_lexer": "ipython3",
   "version": "3.6.7"
  }
 },
 "nbformat": 4,
 "nbformat_minor": 2
}
