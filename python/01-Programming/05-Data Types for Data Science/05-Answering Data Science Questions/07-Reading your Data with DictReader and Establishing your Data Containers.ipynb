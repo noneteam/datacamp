{
 "cells": [
  {
   "cell_type": "markdown",
   "metadata": {},
   "source": [
    "# Reading your Data with DictReader and Establishing your Data Containers"
   ]
  },
  {
   "cell_type": "markdown",
   "metadata": {},
   "source": [
    "#### EXERCISE:\n",
    "Your data file, <code>crime_sampler.csv</code> contains in positional order: the date, block where it occurred, \n",
    "primary type of the crime, description of the crime, description of the location, if an arrest was made, \n",
    "was it a domestic case, and city district.\n",
    "\n",
    "You'll now use a DictReader to load up a dictionary to hold your data with the district as the key and the rest of the\n",
    "data in a list. The <code>csv</code>, <code>defaultdict</code>, and <code>datetime</code> modules have already been imported for you."
   ]
  },
  {
   "cell_type": "markdown",
   "metadata": {},
   "source": [
    "#### INSTRUCTIONS:\n",
    "* Create a Python file object in read mode for <code>crime_sampler.csv</code> called <code>csvfile</code>.\n",
    "* Create a dictionary that defaults to a list called <code>crimes_by_district</code>.\n",
    "* Loop over a DictReader of the CSV file:\n",
    " * Pop <code>'District'</code> from each row and store it as <code>district</code>.\n",
    " * Append the rest of the data (<code>row</code>) to the <code>district</code> key of <code>crimes_by_district</code>."
   ]
  },
  {
   "cell_type": "markdown",
   "metadata": {},
   "source": [
    "#### SCRIPT.PY:"
   ]
  },
  {
   "cell_type": "code",
   "execution_count": null,
   "metadata": {},
   "outputs": [],
   "source": [
    "# Create the CSV file: csvfile\n",
    "csvfile = ____\n",
    "\n",
    "# Create a dictionary that defaults to a list: crimes_by_district\n",
    "crimes_by_district = ____\n",
    "\n",
    "# Loop over a DictReader of the CSV file\n",
    "for row in ____:\n",
    "    # Pop the district from each row: district\n",
    "    district = ____\n",
    "    # Append the rest of the data to the list for proper district in crimes_by_district\n",
    "    ____\n"
   ]
  }
 ],
 "metadata": {
  "kernelspec": {
   "display_name": "Python 3",
   "language": "python",
   "name": "python3"
  },
  "language_info": {
   "codemirror_mode": {
    "name": "ipython",
    "version": 3
   },
   "file_extension": ".py",
   "mimetype": "text/x-python",
   "name": "python",
   "nbconvert_exporter": "python",
   "pygments_lexer": "ipython3",
   "version": "3.6.7"
  }
 },
 "nbformat": 4,
 "nbformat_minor": 2
}
