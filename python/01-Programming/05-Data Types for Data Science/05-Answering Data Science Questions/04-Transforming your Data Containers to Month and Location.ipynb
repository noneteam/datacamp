{
 "cells": [
  {
   "cell_type": "markdown",
   "metadata": {},
   "source": [
    "# Transforming your Data Containers to Month and Location"
   ]
  },
  {
   "cell_type": "markdown",
   "metadata": {},
   "source": [
    "#### EXERCISE:\n",
    "Now let's flip your <code>crime_data</code> list into a dictionary keyed by month with a list of location \n",
    "values for each month, and filter down to the records for the year 2016. Remember you can use\n",
    "the shell to look at the <code>crime_data</code> list, such as <code>crime_data[1][4]</code> to see the location of the \n",
    "crime in the second item of the list (since lists start at 0)."
   ]
  },
  {
   "cell_type": "markdown",
   "metadata": {},
   "source": [
    "#### INSTRUCTIONS:\n",
    "* Import <code>defaultdict</code> from <code>collections</code> and <code>datetime</code> from <code>datetime</code>.\n",
    "* Create a dictionary that defaults to a <code>list</code> called <code>locations_by_month</code>.\n",
    "* Loop over the <code>crime_data</code> list:\n",
    " * Convert the first element to a date object exactly like you did in the previous exercise.\n",
    " * If the year is <code>2016</code>, set the key of <code>locations_by_month</code> to be the <code>month</code> of <code>date</code> and append the location (fifth element of <code>row</code>) to the values list.\n",
    "* Print the dictionary. This has been done for you, so hit 'Submit Answer' to see the result!"
   ]
  },
  {
   "cell_type": "markdown",
   "metadata": {},
   "source": [
    "#### SCRIPT.PY:"
   ]
  },
  {
   "cell_type": "code",
   "execution_count": 5,
   "metadata": {},
   "outputs": [
    {
     "name": "stdout",
     "output_type": "stream",
     "text": [
      "defaultdict(<class 'list'>, {5: 'RESTAURANT', 3: 'STREET', 4: 'RESIDENCE', 6: 'STREET', 7: 'ALLEY', 10: 'STREET', 12: 'SIDEWALK', 1: 'SIDEWALK', 9: 'STREET', 11: 'SCHOOL, PUBLIC, BUILDING', 8: 'SMALL RETAIL STORE', 2: 'APARTMENT'})\n"
     ]
    }
   ],
   "source": [
    "import csv\n",
    "csvfile = open(\"crime_sampler.csv\", \"r\")\n",
    "crime_data = []\n",
    "for row in csv.reader(csvfile):\n",
    "    crime_data.append(row)\n",
    "crime_data.pop(0)\n",
    "# Import necessary modules\n",
    "from collections import defaultdict\n",
    "from datetime import datetime\n",
    "\n",
    "# Create a dictionary that defaults to a list: locations_by_month\n",
    "locations_by_month = defaultdict(list)\n",
    "\n",
    "# Loop over the crime_data list\n",
    "for row in crime_data:\n",
    "    # Convert the first element to a date object\n",
    "    date = datetime.strptime(row[0], '%m/%d/%Y %I:%M:%S %p')\n",
    "    \n",
    "    # If the year is 2016 \n",
    "    if date.year == 2016:\n",
    "        # Set the dictionary key to the month and add the location (fifth element) to the values list\n",
    "        locations_by_month[date.month] = row[4]\n",
    "    \n",
    "# Print the dictionary\n",
    "print(locations_by_month)"
   ]
  },
  {
   "cell_type": "code",
   "execution_count": null,
   "metadata": {},
   "outputs": [],
   "source": []
  }
 ],
 "metadata": {
  "kernelspec": {
   "display_name": "Python 3",
   "language": "python",
   "name": "python3"
  },
  "language_info": {
   "codemirror_mode": {
    "name": "ipython",
    "version": 3
   },
   "file_extension": ".py",
   "mimetype": "text/x-python",
   "name": "python",
   "nbconvert_exporter": "python",
   "pygments_lexer": "ipython3",
   "version": "3.6.7"
  }
 },
 "nbformat": 4,
 "nbformat_minor": 2
}
