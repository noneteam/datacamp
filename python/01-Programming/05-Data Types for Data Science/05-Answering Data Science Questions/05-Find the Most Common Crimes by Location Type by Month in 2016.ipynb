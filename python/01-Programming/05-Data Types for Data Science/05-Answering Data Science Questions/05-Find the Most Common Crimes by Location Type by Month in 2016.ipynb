{
 "cells": [
  {
   "cell_type": "markdown",
   "metadata": {},
   "source": [
    "# Find the Most Common Crimes by Location Type by Month in 2016"
   ]
  },
  {
   "cell_type": "markdown",
   "metadata": {},
   "source": [
    "#### EXERCISE:\n",
    "Using the <code>locations_by_month</code> dictionary from the prior exercise, you'll now determine common crimes by month and location type.\n",
    "Because your dataset is so large, it's a good idea to use Counter to look at an aspect of it in an easier to \n",
    "manageable size and learn more about it."
   ]
  },
  {
   "cell_type": "markdown",
   "metadata": {},
   "source": [
    "#### INSTRUCTIONS:\n",
    "* Import <code>Counter</code> from <code>collections</code>.\n",
    "* Loop over the items from your dictionary, using tuple expansion to unpack <code>locations_by_month.items()</code> into <code>month</code> and <code>locations</code>.\n",
    " * Make a Counter of the <code>locations</code> called <code>location_count</code>.\n",
    " * Print the <code>month</code>.\n",
    " * Print the five most common crime locations."
   ]
  },
  {
   "cell_type": "markdown",
   "metadata": {},
   "source": [
    "#### SCRIPT.PY:"
   ]
  },
  {
   "cell_type": "code",
   "execution_count": null,
   "metadata": {},
   "outputs": [],
   "source": [
    "# Import Counter from collections\n",
    "____\n",
    "\n",
    "# Loop over the items from locations_by_month using tuple expansion of the month and locations\n",
    "for ____, ____ in ____:\n",
    "    # Make a Counter of the locations\n",
    "    location_count = ____\n",
    "    # Print the month \n",
    "    print(____)\n",
    "    # Print the most common location\n",
    "    print(____)"
   ]
  }
 ],
 "metadata": {
  "kernelspec": {
   "display_name": "Python 3",
   "language": "python",
   "name": "python3"
  },
  "language_info": {
   "codemirror_mode": {
    "name": "ipython",
    "version": 3
   },
   "file_extension": ".py",
   "mimetype": "text/x-python",
   "name": "python",
   "nbconvert_exporter": "python",
   "pygments_lexer": "ipython3",
   "version": "3.6.7"
  }
 },
 "nbformat": 4,
 "nbformat_minor": 2
}
