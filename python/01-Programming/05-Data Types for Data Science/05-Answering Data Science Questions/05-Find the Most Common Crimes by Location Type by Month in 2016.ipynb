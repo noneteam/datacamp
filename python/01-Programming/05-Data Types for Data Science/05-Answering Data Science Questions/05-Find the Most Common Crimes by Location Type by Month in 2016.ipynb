{
 "cells": [
  {
   "cell_type": "markdown",
   "metadata": {},
   "source": [
    "# Find the Most Common Crimes by Location Type by Month in 2016"
   ]
  },
  {
   "cell_type": "markdown",
   "metadata": {},
   "source": [
    "#### EXERCISE:\n",
    "Using the <code>locations_by_month</code> dictionary from the prior exercise, you'll now determine common crimes by month and location type.\n",
    "Because your dataset is so large, it's a good idea to use Counter to look at an aspect of it in an easier to \n",
    "manageable size and learn more about it."
   ]
  },
  {
   "cell_type": "markdown",
   "metadata": {},
   "source": [
    "#### INSTRUCTIONS:\n",
    "* Import <code>Counter</code> from <code>collections</code>.\n",
    "* Loop over the items from your dictionary, using tuple expansion to unpack <code>locations_by_month.items()</code> into <code>month</code> and <code>locations</code>.\n",
    " * Make a Counter of the <code>locations</code> called <code>location_count</code>.\n",
    " * Print the <code>month</code>.\n",
    " * Print the five most common crime locations."
   ]
  },
  {
   "cell_type": "markdown",
   "metadata": {},
   "source": [
    "#### SCRIPT.PY:"
   ]
  },
  {
   "cell_type": "code",
   "execution_count": 8,
   "metadata": {},
   "outputs": [
    {
     "name": "stdout",
     "output_type": "stream",
     "text": [
      "5\n",
      "[('STREET', 241), ('RESIDENCE', 175), ('APARTMENT', 128), ('SIDEWALK', 111), ('OTHER', 41)]\n",
      "3\n",
      "[('STREET', 240), ('RESIDENCE', 190), ('APARTMENT', 139), ('SIDEWALK', 99), ('OTHER', 52)]\n",
      "4\n",
      "[('STREET', 213), ('RESIDENCE', 171), ('APARTMENT', 152), ('SIDEWALK', 96), ('OTHER', 40)]\n",
      "6\n",
      "[('STREET', 245), ('RESIDENCE', 164), ('APARTMENT', 159), ('SIDEWALK', 123), ('PARKING LOT/GARAGE(NON.RESID.)', 44)]\n",
      "7\n",
      "[('STREET', 309), ('RESIDENCE', 177), ('APARTMENT', 166), ('SIDEWALK', 125), ('OTHER', 47)]\n",
      "10\n",
      "[('STREET', 248), ('RESIDENCE', 206), ('APARTMENT', 122), ('SIDEWALK', 92), ('OTHER', 62)]\n",
      "12\n",
      "[('STREET', 207), ('RESIDENCE', 158), ('APARTMENT', 136), ('OTHER', 47), ('SIDEWALK', 46)]\n",
      "1\n",
      "[('STREET', 196), ('RESIDENCE', 160), ('APARTMENT', 153), ('SIDEWALK', 72), ('PARKING LOT/GARAGE(NON.RESID.)', 43)]\n",
      "9\n",
      "[('STREET', 279), ('RESIDENCE', 183), ('APARTMENT', 144), ('SIDEWALK', 121), ('OTHER', 39)]\n",
      "11\n",
      "[('STREET', 236), ('RESIDENCE', 182), ('APARTMENT', 154), ('SIDEWALK', 75), ('OTHER', 41)]\n",
      "8\n",
      "[('STREET', 280), ('RESIDENCE', 199), ('APARTMENT', 144), ('SIDEWALK', 109), ('OTHER', 47)]\n",
      "2\n",
      "[('STREET', 188), ('RESIDENCE', 159), ('APARTMENT', 144), ('SIDEWALK', 73), ('OTHER', 40)]\n"
     ]
    }
   ],
   "source": [
    "import csv\n",
    "from collections import defaultdict\n",
    "from datetime import datetime\n",
    "csvfile = open(\"crime_sampler.csv\", \"r\")\n",
    "crime_data = []\n",
    "for row in csv.reader(csvfile):\n",
    "    crime_data.append(row)\n",
    "crime_data.pop(0)\n",
    "locations_by_month = defaultdict(list)\n",
    "for row in crime_data:\n",
    "    date = datetime.strptime(row[0], '%m/%d/%Y %I:%M:%S %p')\n",
    "    if date.year == 2016:\n",
    "        locations_by_month[date.month].append(row[4])\n",
    "# Import Counter from collections\n",
    "from collections import Counter\n",
    "\n",
    "# Loop over the items from locations_by_month using tuple expansion of the month and locations\n",
    "for month, locations in locations_by_month.items():\n",
    "    # Make a Counter of the locations\n",
    "    location_count = Counter(locations)\n",
    "    # Print the month \n",
    "    print(month)\n",
    "    # Print the most common location\n",
    "    print(location_count.most_common(5))"
   ]
  }
 ],
 "metadata": {
  "kernelspec": {
   "display_name": "Python 3",
   "language": "python",
   "name": "python3"
  },
  "language_info": {
   "codemirror_mode": {
    "name": "ipython",
    "version": 3
   },
   "file_extension": ".py",
   "mimetype": "text/x-python",
   "name": "python",
   "nbconvert_exporter": "python",
   "pygments_lexer": "ipython3",
   "version": "3.6.7"
  }
 },
 "nbformat": 4,
 "nbformat_minor": 2
}
