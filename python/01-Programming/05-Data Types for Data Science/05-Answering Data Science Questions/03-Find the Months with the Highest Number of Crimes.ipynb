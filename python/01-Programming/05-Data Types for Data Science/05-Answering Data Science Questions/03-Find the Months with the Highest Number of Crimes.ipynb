{
 "cells": [
  {
   "cell_type": "markdown",
   "metadata": {},
   "source": [
    "# Find the Months with the Highest Number of Crimes"
   ]
  },
  {
   "cell_type": "markdown",
   "metadata": {},
   "source": [
    "#### EXERCISE:\n",
    "Using the <code>crime_data</code> list from the prior exercise, you'll answer a common question that arises\n",
    "when dealing with crime data: How many crimes are committed each month?\n",
    "\n",
    "Feel free to use the IPython Shell to explore the \n",
    "<code>crime_data</code> list - it has been pre-loaded for you. For example, <code>crime_data[0][0]</code> will show you the first \n",
    "column of the first row which, in this case, is the date and time time that the crime occurred."
   ]
  },
  {
   "cell_type": "markdown",
   "metadata": {},
   "source": [
    "#### INSTRUCTIONS:\n",
    "* Import <code>Counter</code> from <code>collections</code> and <code>datetime</code> from <code>datetime</code>.\n",
    "* Create a Counter object called <code>crimes_by_month</code>.\n",
    "* Loop over the <code>crime_data</code> list:\n",
    " * Using the <code>datetime.strptime()</code> function, convert the first element of each item into a Python Datetime Object called <code>date</code>.\n",
    " * Increment the counter for the month associated with this row by one. You can access the month of <code>date</code> using <code>date.month</code>.\n",
    "* Print the 3 most common months for crime."
   ]
  },
  {
   "cell_type": "markdown",
   "metadata": {},
   "source": [
    "#### SCRIPT.PY:"
   ]
  },
  {
   "cell_type": "code",
   "execution_count": 2,
   "metadata": {},
   "outputs": [
    {
     "name": "stdout",
     "output_type": "stream",
     "text": [
      "[(1, 1948), (2, 1862), (7, 1257)]\n"
     ]
    }
   ],
   "source": [
    "import csv\n",
    "csvfile = open(\"crime_sampler.csv\", \"r\")\n",
    "crime_data = []\n",
    "for row in csv.reader(csvfile):\n",
    "    crime_data.append((row[0], row[2], row[4], row[5]))\n",
    "crime_data.pop(0)\n",
    "# Import necessary modules\n",
    "from collections import Counter\n",
    "from datetime import datetime\n",
    "\n",
    "# Create a Counter Object: crimes_by_month\n",
    "crimes_by_month = Counter()\n",
    "\n",
    "# Loop over the crime_data list\n",
    "for item in crime_data:\n",
    "    \n",
    "    # Convert the first element of each item into a Python Datetime Object: date\n",
    "    date = datetime.strptime(item[0], '%m/%d/%Y %I:%M:%S %p')\n",
    "    \n",
    "    # Increment the counter for the month of the row by one\n",
    "    crimes_by_month[date.month] += 1\n",
    "    \n",
    "# Print the 3 most common months for crime\n",
    "print(crimes_by_month.most_common(3))"
   ]
  },
  {
   "cell_type": "code",
   "execution_count": null,
   "metadata": {},
   "outputs": [],
   "source": []
  }
 ],
 "metadata": {
  "kernelspec": {
   "display_name": "Python 3",
   "language": "python",
   "name": "python3"
  },
  "language_info": {
   "codemirror_mode": {
    "name": "ipython",
    "version": 3
   },
   "file_extension": ".py",
   "mimetype": "text/x-python",
   "name": "python",
   "nbconvert_exporter": "python",
   "pygments_lexer": "ipython3",
   "version": "3.6.7"
  }
 },
 "nbformat": 4,
 "nbformat_minor": 2
}
