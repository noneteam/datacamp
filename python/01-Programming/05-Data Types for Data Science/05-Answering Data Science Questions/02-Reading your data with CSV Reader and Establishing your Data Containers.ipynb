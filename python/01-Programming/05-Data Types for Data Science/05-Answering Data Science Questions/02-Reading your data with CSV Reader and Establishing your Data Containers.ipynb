{
 "cells": [
  {
   "cell_type": "markdown",
   "metadata": {},
   "source": [
    "# Reading your data with CSV Reader and Establishing your Data Containers"
   ]
  },
  {
   "cell_type": "markdown",
   "metadata": {},
   "source": [
    "#### EXERCISE:\n",
    "Let's get started! The exercises in this chapter are intentionally more challenging, to give you a chance to really solidify your knowledge. Don't lose heart if you find yourself stuck; think back to the concepts you've learned in previous chapters and how you can apply them to this crime dataset. Good luck!\n",
    "\n",
    "Your data file, <code>crime_sampler.csv</code> contains the date (1st column), block where it occurred (2nd column), \n",
    "primary type of the crime (3rd),  description of the crime (4th), description of the location (5th), \n",
    "if an arrest was made (6th), was it a domestic case (7th), and city district (8th).\n",
    "\n",
    "Here, however, you'll focus only 4 columns: The date, type of crime, location, and whether or not the crime resulted in an arrest.\n",
    "\n",
    "Your job in this exercise is to use a CSV Reader to load up a list to hold the data you're going to analyze."
   ]
  },
  {
   "cell_type": "markdown",
   "metadata": {},
   "source": [
    "#### INSTRUCTIONS:\n",
    "* Import the Python <code>csv</code> module.\n",
    "* Create a Python file object in read mode for <code>crime_sampler.csv</code> called <code>csvfile</code>.\n",
    "* Create an empty list called <code>crime_data</code>.\n",
    "* Loop over a csv reader on the file object :\n",
    " * Inside the loop, append the date (first element), type of crime (third element), location description (fifth element), and arrest (sixth element) to the <code>crime_data</code> list.\n",
    "* Remove the first element (headers) from the <code>crime_data</code> list.\n",
    "* Print the first 10 records of the <code>crime_data</code> list. This has been done for you, so hit 'Submit Answer' to see the result!"
   ]
  },
  {
   "cell_type": "markdown",
   "metadata": {},
   "source": [
    "#### SCRIPT.PY:"
   ]
  },
  {
   "cell_type": "code",
   "execution_count": null,
   "metadata": {},
   "outputs": [],
   "source": [
    "# Import the csv module\n",
    "____\n",
    "\n",
    "# Create the file object: csvfile\n",
    "csvfile = ____\n",
    "\n",
    "# Create an empty list: crime_data\n",
    "crime_data = ____\n",
    "\n",
    "# Loop over a csv reader on the file object\n",
    "for row in ____:\n",
    "\n",
    "    # Append the date, type of crime, location description, and arrest\n",
    "    crime_data.append((row[0], row[2], row[4], row[5]))\n",
    "    \n",
    "# Remove the first element from crime_data\n",
    "____\n",
    "\n",
    "# Print the first 10 records\n",
    "print(crime_data[:10])"
   ]
  }
 ],
 "metadata": {
  "kernelspec": {
   "display_name": "Python 3",
   "language": "python",
   "name": "python3"
  },
  "language_info": {
   "codemirror_mode": {
    "name": "ipython",
    "version": 3
   },
   "file_extension": ".py",
   "mimetype": "text/x-python",
   "name": "python",
   "nbconvert_exporter": "python",
   "pygments_lexer": "ipython3",
   "version": "3.6.7"
  }
 },
 "nbformat": 4,
 "nbformat_minor": 2
}
