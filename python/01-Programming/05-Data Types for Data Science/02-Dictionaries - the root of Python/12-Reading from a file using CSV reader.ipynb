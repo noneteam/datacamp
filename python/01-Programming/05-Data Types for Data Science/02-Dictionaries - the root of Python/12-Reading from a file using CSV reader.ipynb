{
 "cells": [
  {
   "cell_type": "markdown",
   "metadata": {},
   "source": [
    "# Reading from a file using CSV reader"
   ]
  },
  {
   "cell_type": "markdown",
   "metadata": {},
   "source": [
    "#### EXERCISE:\n",
    "Python provides a wonderful module called <code>csv</code> to work with CSV files. You can \n",
    "pass the <code>.reader()</code> method of <code>csv</code> a Python file object and use it as you would any other iterable. \n",
    "To create a Python file object, you use the <code>open()</code> function, which accepts a file name and a mode. \n",
    "The mode is typically <code>'r'</code> for read or <code>'w'</code> for write.\n",
    "\n",
    "Though you won't use it for this exercise, often CSV files will have a header row with field names, and you will need to use slice notation such as <code>[1:]</code> to skip the header row.\n",
    "\n",
    "You'll now use the <code>csv</code> module to read the <code>baby_names.csv</code> file and fill the <code>baby_names</code> dictionary with data. This\n",
    "<code>baby_names</code> dictionary has already been created for you."
   ]
  },
  {
   "cell_type": "markdown",
   "metadata": {},
   "source": [
    "#### INSTRUCTIONS:\n",
    "* Import the python <code>csv</code> module.\n",
    "* Create a Python file object in read mode for <code>baby_names.csv</code> called <code>csvfile</code>.\n",
    "* Loop over a csv reader on the file object. Inside the loop:\n",
    " * Print each <code>row</code>.\n",
    " * Add the rank (the 6th element of <code>row</code>) as the key and name (the 4th element of <code>row</code>) as the value to the existing dictionary (<code>baby_names</code>).\n",
    "* Print the keys of <code>baby_names</code>."
   ]
  },
  {
   "cell_type": "markdown",
   "metadata": {},
   "source": [
    "#### SCRIPT.PY:"
   ]
  },
  {
   "cell_type": "code",
   "execution_count": null,
   "metadata": {},
   "outputs": [],
   "source": [
    "# Import the python CSV module\n",
    "____\n",
    "\n",
    "# Create a python file object in read mode for the baby_names.csv file: csvfile\n",
    "csvfile = ____\n",
    "\n",
    "# Loop over a csv reader on the file object\n",
    "for row in ____:\n",
    "    # Print each row \n",
    "    print(____)\n",
    "    # Add the rank and name to the dictionary\n",
    "    ____ = ____\n",
    "\n",
    "# Print the dictionary keys\n",
    "print(____)"
   ]
  }
 ],
 "metadata": {
  "kernelspec": {
   "display_name": "Python 3",
   "language": "python",
   "name": "python3"
  },
  "language_info": {
   "codemirror_mode": {
    "name": "ipython",
    "version": 3
   },
   "file_extension": ".py",
   "mimetype": "text/x-python",
   "name": "python",
   "nbconvert_exporter": "python",
   "pygments_lexer": "ipython3",
   "version": "3.6.7"
  }
 },
 "nbformat": 4,
 "nbformat_minor": 2
}
