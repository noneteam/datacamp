{
 "cells": [
  {
   "cell_type": "markdown",
   "metadata": {},
   "source": [
    "# Safely finding by key"
   ]
  },
  {
   "cell_type": "markdown",
   "metadata": {},
   "source": [
    "#### EXERCISE:\n",
    "As demonstrated in the video, if you attempt to access a key that isn't\n",
    "present in a dictionary, you'll get a <code>KeyError</code>. One option to handle this \n",
    "type of error is to use a <code>try: except:</code> block. You can learn more about\n",
    "error handling in <a href=\"https://www.datacamp.com/courses/python-data-science-toolbox-part-1\" target=\"_blank\">Python Data Science Toolbox (Part 1)</a>, specifically in <a href=\"https://campus.datacamp.com/courses/python-data-science-toolbox-part-1/lambda-functions-and-error-handling?ex=7\" target=\"_blank\">this</a> video.\n",
    "\n",
    "Python provides a faster, more versatile tool to help with this problem in the form of the <code>.get()</code>\n",
    "method. The <code>.get()</code> method allows you to supply the name of a key, and optionally, what\n",
    "you'd like to have returned if the key is not found.\n",
    "\n",
    "You'll be using same <code>names</code> dictionary from the previous exercise and will gain practice using the <code>.get()</code> method."
   ]
  },
  {
   "cell_type": "markdown",
   "metadata": {},
   "source": [
    "#### INSTRUCTIONS:\n",
    "* Safely print rank <code>7</code> from the <code>names</code> dictionary.\n",
    "* Safely print the <strong>type</strong> of rank <code>100</code> from the <code>names</code> dictionary.\n",
    "* Safely print rank <code>105</code> from the <code>names</code> dictionary or <code>'Not Found'</code> if <code>105</code> is not found."
   ]
  },
  {
   "cell_type": "markdown",
   "metadata": {},
   "source": [
    "#### SCRIPT.PY:"
   ]
  },
  {
   "cell_type": "code",
   "execution_count": 4,
   "metadata": {},
   "outputs": [
    {
     "name": "stdout",
     "output_type": "stream",
     "text": [
      "CHAYA\n",
      "<class 'NoneType'>\n",
      "Not Found\n"
     ]
    }
   ],
   "source": [
    "names = {1: 'EMMA', 2: 'LEAH', 3: 'SARAH', 4: 'SOPHIA', 5: 'ESTHER', 6: 'RACHEL', 7: 'CHAYA', 8: 'AVA', 9: 'CHANA', 10: 'MIRIAM', 11: 'ELLA', 12: 'EMILY', 13: 'MIA', 14: 'SARA', 15: 'CHARLOTTE', 16: 'ISABELLA', 17: 'MAYA', 18: 'ELIZABETH', 19: 'ABIGAIL', 20: 'ALEXANDRA', 21: 'VICTORIA', 22: 'LILY', 23: 'SOFIA', 24: 'RIVKA', 25: 'ZOE', 26: 'JULIA', 27: 'SOPHIE', 28: 'GABRIELLA', 29: 'HANNAH', 30: 'GRACE', 31: 'AVERY', 32: 'STELLA', 33: 'SHAINDY', 34: 'FAIGY', 35: 'GITTY', 36: 'MADISON', 37: 'MALKY', 38: 'EVA', 39: 'MALKA', 40: 'ALEXA', 41: 'MADELINE', 42: 'PENELOPE', 43: 'TOBY', 44: 'RIVKY', 45: 'NICOLE', 46: 'VIOLET', 47: 'NATALIE', 48: 'REBECCA', 49: 'MARIA', 50: 'YITTY', 51: 'NINA', 52: 'KATHERINE', 53: 'RILEY', 54: 'SIENNA', 55: 'SYDNEY', 56: 'VIVIENNE', 57: 'VALENTINA', 58: 'TALIA', 59: 'JOSEPHINE', 60: 'FRANCESCA', 61: 'ZISSY', 62: 'SURY', 63: 'NAOMI', 64: 'YIDES', 65: 'SKYLAR', 66: 'VERONICA', 67: 'TAYLOR', 68: 'ZOEY', 69: 'LILIANA', 70: 'YAEL', 71: 'SAVANNAH', 72: 'VANESSA', 73: 'SIMONE', 74: 'SLOANE', 75: 'VERA', 76: 'YEHUDIS', 77: 'SYLVIA', 78: 'SIMA', 79: 'SHAINA', 80: 'TZIPORA', 81: 'YITTA', 82: 'TZIVIA', 83: 'YARA'}\n",
    "# Safely print rank 7 from the names dictionary\n",
    "print(names.get(7))\n",
    "\n",
    "# Safely print the type of rank 100 from the names dictionary\n",
    "print(type(names.get(100)))\n",
    "\n",
    "# Safely print rank 105 from the names dictionary or 'Not Found'\n",
    "print(names.get(105, 'Not Found'))\n"
   ]
  }
 ],
 "metadata": {
  "kernelspec": {
   "display_name": "Python 3",
   "language": "python",
   "name": "python3"
  },
  "language_info": {
   "codemirror_mode": {
    "name": "ipython",
    "version": 3
   },
   "file_extension": ".py",
   "mimetype": "text/x-python",
   "name": "python",
   "nbconvert_exporter": "python",
   "pygments_lexer": "ipython3",
   "version": "3.6.7"
  }
 },
 "nbformat": 4,
 "nbformat_minor": 2
}
