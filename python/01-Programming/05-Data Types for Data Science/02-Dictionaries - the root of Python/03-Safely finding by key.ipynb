{
 "cells": [
  {
   "cell_type": "markdown",
   "metadata": {},
   "source": [
    "# Safely finding by key"
   ]
  },
  {
   "cell_type": "markdown",
   "metadata": {},
   "source": [
    "#### EXERCISE:\n",
    "As demonstrated in the video, if you attempt to access a key that isn't\n",
    "present in a dictionary, you'll get a <code>KeyError</code>. One option to handle this \n",
    "type of error is to use a <code>try: except:</code> block. You can learn more about\n",
    "error handling in <a href=\"https://www.datacamp.com/courses/python-data-science-toolbox-part-1\" target=\"_blank\">Python Data Science Toolbox (Part 1)</a>, specifically in <a href=\"https://campus.datacamp.com/courses/python-data-science-toolbox-part-1/lambda-functions-and-error-handling?ex=7\" target=\"_blank\">this</a> video.\n",
    "\n",
    "Python provides a faster, more versatile tool to help with this problem in the form of the <code>.get()</code>\n",
    "method. The <code>.get()</code> method allows you to supply the name of a key, and optionally, what\n",
    "you'd like to have returned if the key is not found.\n",
    "\n",
    "You'll be using same <code>names</code> dictionary from the previous exercise and will gain practice using the <code>.get()</code> method."
   ]
  },
  {
   "cell_type": "markdown",
   "metadata": {},
   "source": [
    "#### INSTRUCTIONS:\n",
    "* Safely print rank <code>7</code> from the <code>names</code> dictionary.\n",
    "* Safely print the <strong>type</strong> of rank <code>100</code> from the <code>names</code> dictionary.\n",
    "* Safely print rank <code>105</code> from the <code>names</code> dictionary or <code>'Not Found'</code> if <code>105</code> is not found."
   ]
  },
  {
   "cell_type": "markdown",
   "metadata": {},
   "source": [
    "#### SCRIPT.PY:"
   ]
  },
  {
   "cell_type": "code",
   "execution_count": null,
   "metadata": {},
   "outputs": [],
   "source": [
    "# Safely print rank 7 from the names dictionary\n",
    "____\n",
    "\n",
    "# Safely print the type of rank 100 from the names dictionary\n",
    "____\n",
    "\n",
    "# Safely print rank 105 from the names dictionary or 'Not Found'\n",
    "____\n"
   ]
  }
 ],
 "metadata": {
  "kernelspec": {
   "display_name": "Python 3",
   "language": "python",
   "name": "python3"
  },
  "language_info": {
   "codemirror_mode": {
    "name": "ipython",
    "version": 3
   },
   "file_extension": ".py",
   "mimetype": "text/x-python",
   "name": "python",
   "nbconvert_exporter": "python",
   "pygments_lexer": "ipython3",
   "version": "3.6.7"
  }
 },
 "nbformat": 4,
 "nbformat_minor": 2
}
