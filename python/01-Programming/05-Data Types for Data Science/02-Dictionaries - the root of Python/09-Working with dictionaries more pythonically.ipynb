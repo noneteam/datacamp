{
 "cells": [
  {
   "cell_type": "markdown",
   "metadata": {},
   "source": [
    "# Working with dictionaries more pythonically"
   ]
  },
  {
   "cell_type": "markdown",
   "metadata": {},
   "source": [
    "#### EXERCISE:\n",
    "So far, you've worked a lot with the keys of a dictionary to access data, but \n",
    "in Python, the  prefered manner for iterating over items in a dictionary is with the \n",
    "<code>.items()</code> method.\n",
    "\n",
    "This returns each key and value from the dictionary as a tuple, which you can unpack in a <code>for</code> loop. You'll now get practice doing this."
   ]
  },
  {
   "cell_type": "markdown",
   "metadata": {},
   "source": [
    "#### INSTRUCTIONS:\n",
    "* Iterate over <code>baby_names[2014]</code>, unpacking it into <code>rank</code> and <code>name</code>.\n",
    " * Print each <code>rank</code> and <code>name</code>.\n",
    "* Repeat the process for <code>baby_names[2012]</code>."
   ]
  },
  {
   "cell_type": "markdown",
   "metadata": {},
   "source": [
    "#### SCRIPT.PY:"
   ]
  },
  {
   "cell_type": "code",
   "execution_count": null,
   "metadata": {},
   "outputs": [],
   "source": [
    "# Iterate over the 2014 nested dictionary\n",
    "for ____, ____ in ____:\n",
    "    # Print rank and name\n",
    "    print(____, ____)\n",
    "    \n",
    "# Iterate over the 2012 nested dictionary\n",
    "\n",
    "    # Print rank and name\n",
    "  "
   ]
  }
 ],
 "metadata": {
  "kernelspec": {
   "display_name": "Python 3",
   "language": "python",
   "name": "python3"
  },
  "language_info": {
   "codemirror_mode": {
    "name": "ipython",
    "version": 3
   },
   "file_extension": ".py",
   "mimetype": "text/x-python",
   "name": "python",
   "nbconvert_exporter": "python",
   "pygments_lexer": "ipython3",
   "version": "3.6.7"
  }
 },
 "nbformat": 4,
 "nbformat_minor": 2
}
