{
 "cells": [
  {
   "cell_type": "markdown",
   "metadata": {},
   "source": [
    "# Dealing with nested data"
   ]
  },
  {
   "cell_type": "markdown",
   "metadata": {},
   "source": [
    "#### EXERCISE:\n",
    "A dictionary can contain another dictionary as the value of a key, and this is a very common way to deal with repeating data structures such as yearly, monthly or weekly data. All the same rules apply when creating or accessing the dictionary.\n",
    "\n",
    "For example, if you had a dictionary that had a ranking of my cookie consumption by year and type of cookie. It might\n",
    "look like <code>cookies = {'2017': {'chocolate chip': 483, 'peanut butter': 115}, '2016': {'chocolate chip': 9513, 'peanut butter': 6792}}</code>.\n",
    "I could access how many chocolate chip cookies I ate in 2016 using <code>cookies['2016']['chocolate chip']</code>.\n",
    "\n",
    "When exploring a new dictionary, it can be helpful to use the <code>.keys()</code> method to get an idea\n",
    "of what data might be available within the dictionary. You can also iterate over a dictionary\n",
    "and it will return each key in the dictionary for you to use inside the loop. Here, a dictionary called <code>boy_names</code> has been loaded into your workspace. It consists of all male names in <em>2013</em> and <em>2014</em>."
   ]
  },
  {
   "cell_type": "markdown",
   "metadata": {},
   "source": [
    "#### INSTRUCTIONS:\n",
    "* Print the keys of the <code>boy_names</code> dictionary.\n",
    "* Print the keys of the <code>boy_names</code> dictionary for the year <code>2013</code>.\n",
    "* Loop over the <code>boy_names</code> dictionary.\n",
    " * Inside the loop, safely print the year and the third ranked name. Print <code>'Unknown'</code> if the third ranked name is not found."
   ]
  },
  {
   "cell_type": "markdown",
   "metadata": {},
   "source": [
    "#### SCRIPT.PY:"
   ]
  },
  {
   "cell_type": "code",
   "execution_count": 7,
   "metadata": {},
   "outputs": [
    {
     "name": "stdout",
     "output_type": "stream",
     "text": [
      "dict_keys([2012, 2013, 2014])\n",
      "dict_keys([1, 2, 3, 4, 5, 6, 7, 8, 9, 10, 11, 12, 13, 14, 15, 16, 17, 18, 19, 20, 21, 22, 23, 24, 25, 26, 27, 28, 29, 30, 31, 32, 33, 34, 35, 36, 37, 38, 39, 40, 41, 42, 43, 44, 45, 46, 47, 48, 49, 50, 51, 52, 53, 54, 55, 56, 57, 58, 59, 60, 61, 62, 63, 64, 65, 66, 67, 68, 69, 70, 71, 72, 73, 74, 75, 76, 77, 78, 79, 80, 81, 82, 83, 84, 85, 86, 87, 88, 89, 90, 91, 92, 93, 94, 95, 96, 97, 98, 99, 100])\n",
      "2012 Unknown\n",
      "2013 Michael\n",
      "2014 Michael\n"
     ]
    }
   ],
   "source": [
    "boy_names = {2012: {}, 2013: {1: 'David', 2: 'Joseph', 3: 'Michael', 4: 'Moshe', 5: 'Daniel', 6: 'Benjamin', 7: 'James', 8: 'Jacob', 9: 'Jack', 10: 'Alexander', 11: 'William', 12: 'John', 13: 'Henry', 14: 'Noah', 15: 'Samuel', 16: 'Nicholas', 17: 'Matthew', 18: 'Adam', 19: 'Chaim', 20: 'Abraham', 21: 'Liam', 22: 'Ryan', 23: 'Lucas', 24: 'Anthony', 25: 'Isaac', 26: 'Oliver', 27: 'Andrew', 28: 'Gabriel', 29: 'Yosef', 30: 'Leo', 31: 'Thomas', 32: 'Luke', 33: 'Jackson', 34: 'Shimon', 35: 'Theodore', 36: 'Joshua', 37: 'Christopher', 38: 'Sebastian', 39: 'Mason', 40: 'Eli', 41: 'Nathan', 42: 'Aaron', 43: 'Zachary', 44: 'Aron', 45: 'Luca', 46: 'Yehuda', 47: 'Yitzchok', 48: 'Owen', 49: 'Menachem', 50: 'Logan', 51: 'Aiden', 52: 'Yisroel', 53: 'Peter', 54: 'Yaakov', 55: 'Yakov', 56: 'Omar', 57: 'Levi', 58: 'Simon', 59: 'Shmuel', 60: 'Patrick', 61: 'Connor', 62: 'Jonah', 63: 'Zev', 64: 'Tzvi', 65: 'Nathaniel', 66: 'Harrison', 67: 'Tyler', 68: 'Mark', 69: 'Hunter', 70: 'Mohamed', 71: 'Lipa', 72: 'Mendel', 73: 'Sean', 74: 'Sam', 75: 'Solomon', 76: 'Martin', 77: 'Edward', 78: 'Wyatt', 79: 'Parker', 80: 'Steven', 81: 'Yechiel', 82: 'Nicolas', 83: 'Timothy', 84: 'Spencer', 85: 'Usher', 86: 'Rafael', 87: 'Yusuf', 88: 'Yehoshua', 89: 'Shaya', 90: 'Rayan', 91: 'Tristan', 92: 'Yossi', 93: 'Wesley', 94: 'Yoel', 95: 'Sawyer', 96: 'Yousef', 97: 'Walter', 98: 'Zalmen', 99: 'Yeshaya', 100: 'Yitzchak'}, 2014: {1: 'Joseph', 2: 'David', 3: 'Michael', 4: 'Moshe', 5: 'Jacob', 6: 'Benjamin', 7: 'Alexander', 8: 'Daniel', 9: 'Samuel', 10: 'Jack', 11: 'James', 12: 'Adam', 13: 'William', 14: 'Henry', 15: 'Abraham', 16: 'Nicholas', 17: 'John', 18: 'Ethan', 19: 'Liam', 20: 'Ryan', 21: 'Noah', 22: 'Matthew', 23: 'Chaim', 24: 'Theodore', 25: 'Isaac', 26: 'Lucas', 27: 'Thomas', 28: 'Yosef', 29: 'Anthony', 30: 'Oliver', 31: 'Max', 32: 'Gabriel', 33: 'Eli', 34: 'Shimon', 35: 'Luke', 36: 'Mason', 37: 'Mordechai', 38: 'Andrew', 39: 'Zachary', 40: 'Owen', 41: 'Yehuda', 42: 'Jackson', 43: 'Yisroel', 44: 'Nathan', 45: 'Aiden', 46: 'Christopher', 47: 'Jonathan', 48: 'Asher', 49: 'Logan', 50: 'Robert', 51: 'Yitzchok', 52: 'George', 53: 'Christian', 54: 'Aron', 55: 'Mark', 56: 'Levi', 57: 'Shmuel', 58: 'Miles', 59: 'Shlomo', 60: 'Peter', 61: 'Sean', 62: 'Eliezer', 63: 'Solomon', 64: 'Gavin', 65: 'Zev', 66: 'Nathaniel', 67: 'Yaakov', 68: 'Yakov', 69: 'Hunter', 70: 'Vincent', 71: 'Ari', 72: 'Edward', 73: 'Yechiel', 74: 'Oscar', 75: 'Shia', 76: 'Leonardo', 77: 'Victor', 78: 'Tyler', 79: 'Wyatt', 80: 'Sam', 81: 'Shaya', 82: 'Ian', 83: 'Raphael', 84: 'Philip', 85: 'Timothy', 86: 'Yehoshua', 87: 'Xavier', 88: 'Youssef', 89: 'Simcha', 90: 'Naftali', 91: 'Ronan', 92: 'Usher', 93: 'Shmiel', 94: 'Yousef', 95: 'Naftuli', 96: 'Yusuf', 97: 'Yossi', 98: 'Yisrael', 99: 'Shea', 100: 'Yoel', 101: 'Yahya', 102: 'Yidel'}}\n",
    "# Print a list of keys from the boy_names dictionary\n",
    "print(boy_names.keys())\n",
    "\n",
    "# Print a list of keys from the boy_names dictionary for the year 2013\n",
    "print(boy_names.get(2013).keys())\n",
    "\n",
    "# Loop over the dictionary\n",
    "for year in boy_names:\n",
    "    # Safely print the year and the third ranked name or 'Unknown'\n",
    "    print(year, boy_names[year].get(3, 'Unknown'))\n"
   ]
  }
 ],
 "metadata": {
  "kernelspec": {
   "display_name": "Python 3",
   "language": "python",
   "name": "python3"
  },
  "language_info": {
   "codemirror_mode": {
    "name": "ipython",
    "version": 3
   },
   "file_extension": ".py",
   "mimetype": "text/x-python",
   "name": "python",
   "nbconvert_exporter": "python",
   "pygments_lexer": "ipython3",
   "version": "3.6.7"
  }
 },
 "nbformat": 4,
 "nbformat_minor": 2
}
