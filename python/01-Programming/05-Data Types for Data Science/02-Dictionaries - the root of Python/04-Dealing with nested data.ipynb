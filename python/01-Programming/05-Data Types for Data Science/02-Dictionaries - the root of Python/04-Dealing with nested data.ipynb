{
 "cells": [
  {
   "cell_type": "markdown",
   "metadata": {},
   "source": [
    "# Dealing with nested data"
   ]
  },
  {
   "cell_type": "markdown",
   "metadata": {},
   "source": [
    "#### EXERCISE:\n",
    "A dictionary can contain another dictionary as the value of a key, and this is a very common way to deal with repeating data structures such as yearly, monthly or weekly data. All the same rules apply when creating or accessing the dictionary.\n",
    "\n",
    "For example, if you had a dictionary that had a ranking of my cookie consumption by year and type of cookie. It might\n",
    "look like <code>cookies = {'2017': {'chocolate chip': 483, 'peanut butter': 115}, '2016': {'chocolate chip': 9513, 'peanut butter': 6792}}</code>.\n",
    "I could access how many chocolate chip cookies I ate in 2016 using <code>cookies['2016']['chocolate chip']</code>.\n",
    "\n",
    "When exploring a new dictionary, it can be helpful to use the <code>.keys()</code> method to get an idea\n",
    "of what data might be available within the dictionary. You can also iterate over a dictionary\n",
    "and it will return each key in the dictionary for you to use inside the loop. Here, a dictionary called <code>boy_names</code> has been loaded into your workspace. It consists of all male names in <em>2013</em> and <em>2014</em>."
   ]
  },
  {
   "cell_type": "markdown",
   "metadata": {},
   "source": [
    "#### INSTRUCTIONS:\n",
    "* Print the keys of the <code>boy_names</code> dictionary.\n",
    "* Print the keys of the <code>boy_names</code> dictionary for the year <code>2013</code>.\n",
    "* Loop over the <code>boy_names</code> dictionary.\n",
    " * Inside the loop, safely print the year and the third ranked name. Print <code>'Unknown'</code> if the third ranked name is not found."
   ]
  },
  {
   "cell_type": "markdown",
   "metadata": {},
   "source": [
    "#### SCRIPT.PY:"
   ]
  },
  {
   "cell_type": "code",
   "execution_count": null,
   "metadata": {},
   "outputs": [],
   "source": [
    "# Print a list of keys from the boy_names dictionary\n",
    "print(____)\n",
    "\n",
    "# Print a list of keys from the boy_names dictionary for the year 2013\n",
    "print(____)\n",
    "\n",
    "# Loop over the dictionary\n",
    "for year in boy_names:\n",
    "    # Safely print the year and the third ranked name or 'Unknown'\n",
    "    print(year, boy_names[____].____(____, ____))\n"
   ]
  }
 ],
 "metadata": {
  "kernelspec": {
   "display_name": "Python 3",
   "language": "python",
   "name": "python3"
  },
  "language_info": {
   "codemirror_mode": {
    "name": "ipython",
    "version": 3
   },
   "file_extension": ".py",
   "mimetype": "text/x-python",
   "name": "python",
   "nbconvert_exporter": "python",
   "pygments_lexer": "ipython3",
   "version": "3.6.7"
  }
 },
 "nbformat": 4,
 "nbformat_minor": 2
}
