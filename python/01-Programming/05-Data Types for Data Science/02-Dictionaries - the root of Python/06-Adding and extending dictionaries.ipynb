{
 "cells": [
  {
   "cell_type": "markdown",
   "metadata": {},
   "source": [
    "# Adding and extending dictionaries"
   ]
  },
  {
   "cell_type": "markdown",
   "metadata": {},
   "source": [
    "#### EXERCISE:\n",
    "If you have a dictionary and you want to add data to it, you can simply create a new key and\n",
    "assign the data you desire to it. It's important to remember that if it's a nested dictionary, \n",
    "then all the keys in the data path must exist, and each key in the path must be assigned \n",
    "individually.\n",
    "\n",
    "You can also use the <code>.update()</code> method to update a dictionary with keys and values\n",
    "from another dictionary, tuples or keyword arguments.\n",
    "\n",
    "Here, you'll combine several techniques used in\n",
    "prior exercises to setup your dictionary in a way that makes it easy to find the least popular \n",
    "baby name for each year.\n",
    "\n",
    "Your job is to add data for the year 2011 to your dictionary by assignment, 2012 by update, and then find the least popular baby name for each year."
   ]
  },
  {
   "cell_type": "markdown",
   "metadata": {},
   "source": [
    "#### INSTRUCTIONS:\n",
    "* Assign the <code>names_2011</code> dictionary as the <strong>value</strong> to the <code>2011</code> <strong>key</strong> of the <code>boy_names</code> dictionary.\n",
    "* Update the <code>2012</code> key in the <code>boy_names</code> dictionary with the following data in a list of tuples: <code>(1, 'Casey'), (2, 'Aiden')</code>.\n",
    "* Loop over the <code>boy_names</code> dictionary.\n",
    " * Inside the first <code>for</code> loop, use another <code>for</code> loop to loop over and sort the data for each <code>year</code> of <code>boy_names</code> by descending rank.\n",
    " * Make sure you have a rank and print <code>'No Data Available'</code> if not. This has been done for you.\n",
    " * Safely print the year and least popular name or <code>'Not Available'</code> if it is not found. Take advantage of the <code>.get()</code> method."
   ]
  },
  {
   "cell_type": "markdown",
   "metadata": {},
   "source": [
    "#### SCRIPT.PY:"
   ]
  },
  {
   "cell_type": "code",
   "execution_count": 8,
   "metadata": {},
   "outputs": [],
   "source": [
    "boy_names = {2012: {}, 2013: {1: 'David', 2: 'Joseph', 3: 'Michael', 4: 'Moshe', 5: 'Daniel', 6: 'Benjamin', 7: 'James', 8: 'Jacob', 9: 'Jack', 10: 'Alexander', 11: 'William', 12: 'John', 13: 'Henry', 14: 'Noah', 15: 'Samuel', 16: 'Nicholas', 17: 'Matthew', 18: 'Adam', 19: 'Chaim', 20: 'Abraham', 21: 'Liam', 22: 'Ryan', 23: 'Lucas', 24: 'Anthony', 25: 'Isaac', 26: 'Oliver', 27: 'Andrew', 28: 'Gabriel', 29: 'Yosef', 30: 'Leo', 31: 'Thomas', 32: 'Luke', 33: 'Jackson', 34: 'Shimon', 35: 'Theodore', 36: 'Joshua', 37: 'Christopher', 38: 'Sebastian', 39: 'Mason', 40: 'Eli', 41: 'Nathan', 42: 'Aaron', 43: 'Zachary', 44: 'Aron', 45: 'Luca', 46: 'Yehuda', 47: 'Yitzchok', 48: 'Owen', 49: 'Menachem', 50: 'Logan', 51: 'Aiden', 52: 'Yisroel', 53: 'Peter', 54: 'Yaakov', 55: 'Yakov', 56: 'Omar', 57: 'Levi', 58: 'Simon', 59: 'Shmuel', 60: 'Patrick', 61: 'Connor', 62: 'Jonah', 63: 'Zev', 64: 'Tzvi', 65: 'Nathaniel', 66: 'Harrison', 67: 'Tyler', 68: 'Mark', 69: 'Hunter', 70: 'Mohamed', 71: 'Lipa', 72: 'Mendel', 73: 'Sean', 74: 'Sam', 75: 'Solomon', 76: 'Martin', 77: 'Edward', 78: 'Wyatt', 79: 'Parker', 80: 'Steven', 81: 'Yechiel', 82: 'Nicolas', 83: 'Timothy', 84: 'Spencer', 85: 'Usher', 86: 'Rafael', 87: 'Yusuf', 88: 'Yehoshua', 89: 'Shaya', 90: 'Rayan', 91: 'Tristan', 92: 'Yossi', 93: 'Wesley', 94: 'Yoel', 95: 'Sawyer', 96: 'Yousef', 97: 'Walter', 98: 'Zalmen', 99: 'Yeshaya', 100: 'Yitzchak'}, 2014: {1: 'Joseph', 2: 'David', 3: 'Michael', 4: 'Moshe', 5: 'Jacob', 6: 'Benjamin', 7: 'Alexander', 8: 'Daniel', 9: 'Samuel', 10: 'Jack', 11: 'James', 12: 'Adam', 13: 'William', 14: 'Henry', 15: 'Abraham', 16: 'Nicholas', 17: 'John', 18: 'Ethan', 19: 'Liam', 20: 'Ryan', 21: 'Noah', 22: 'Matthew', 23: 'Chaim', 24: 'Theodore', 25: 'Isaac', 26: 'Lucas', 27: 'Thomas', 28: 'Yosef', 29: 'Anthony', 30: 'Oliver', 31: 'Max', 32: 'Gabriel', 33: 'Eli', 34: 'Shimon', 35: 'Luke', 36: 'Mason', 37: 'Mordechai', 38: 'Andrew', 39: 'Zachary', 40: 'Owen', 41: 'Yehuda', 42: 'Jackson', 43: 'Yisroel', 44: 'Nathan', 45: 'Aiden', 46: 'Christopher', 47: 'Jonathan', 48: 'Asher', 49: 'Logan', 50: 'Robert', 51: 'Yitzchok', 52: 'George', 53: 'Christian', 54: 'Aron', 55: 'Mark', 56: 'Levi', 57: 'Shmuel', 58: 'Miles', 59: 'Shlomo', 60: 'Peter', 61: 'Sean', 62: 'Eliezer', 63: 'Solomon', 64: 'Gavin', 65: 'Zev', 66: 'Nathaniel', 67: 'Yaakov', 68: 'Yakov', 69: 'Hunter', 70: 'Vincent', 71: 'Ari', 72: 'Edward', 73: 'Yechiel', 74: 'Oscar', 75: 'Shia', 76: 'Leonardo', 77: 'Victor', 78: 'Tyler', 79: 'Wyatt', 80: 'Sam', 81: 'Shaya', 82: 'Ian', 83: 'Raphael', 84: 'Philip', 85: 'Timothy', 86: 'Yehoshua', 87: 'Xavier', 88: 'Youssef', 89: 'Simcha', 90: 'Naftali', 91: 'Ronan', 92: 'Usher', 93: 'Shmiel', 94: 'Yousef', 95: 'Naftuli', 96: 'Yusuf', 97: 'Yossi', 98: 'Yisrael', 99: 'Shea', 100: 'Yoel', 101: 'Yahya', 102: 'Yidel'}}\n",
    "names_2011 = {1: 'Michael', 2: 'Joseph', 3: 'Jacob', 4: 'David', 5: 'Benjamin', 6: 'Moshe', 7: 'Daniel', 8: 'Alexander', 9: 'Matthew', 10: 'Jack', 11: 'Samuel', 12: 'James', 13: 'William', 14: 'John', 15: 'Nicholas', 16: 'Henry', 17: 'Chaim', 18: 'Anthony', 19: 'Andrew', 20: 'Liam', 21: 'Charles', 22: 'Lucas', 23: 'Dylan', 24: 'Ryan', 25: 'Thomas', 26: 'Ethan', 27: 'Menachem', 28: 'Yosef', 29: 'Luke', 30: 'Oliver', 31: 'Noah', 32: 'Eli', 33: 'Gabriel', 34: 'Max', 35: 'Shimon', 36: 'Isaac', 37: 'Joshua', 38: 'Zachary', 39: 'Leo', 40: 'Julian', 41: 'Aiden', 42: 'Jake', 43: 'Mordechai', 44: 'Yisroel', 45: 'Yehuda', 46: 'Sebastian', 47: 'Mark', 48: 'Robert', 49: 'Logan', 50: 'George', 51: 'Owen', 52: 'Vincent', 53: 'Tyler', 54: 'Yakov', 55: 'Aidan', 56: 'Yitzchok', 57: 'Asher', 58: 'Theodore', 59: 'Peter', 60: 'Solomon', 61: 'Zev', 62: 'Nathaniel', 63: 'Yaakov', 64: 'Shmuel', 65: 'Shulem', 66: 'Tzvi', 67: 'Levi', 68: 'Jayden', 69: 'Mohamed', 70: 'Cole', 71: 'Sean', 72: 'Sam', 73: 'Victor', 74: 'Omar', 75: 'Steven', 76: 'Moses', 77: 'Shia', 78: 'Usher', 79: 'Nicolas', 80: 'Yechiel', 81: 'Shaya', 82: 'Wyatt', 83: 'Tristan', 84: 'Louis', 85: 'Yehoshua', 86: 'Sholom', 87: 'Yoel', 88: 'Rocco', 89: 'Xavier', 90: 'Yitzchak', 91: 'Shea', 92: 'Spencer', 93: 'Zalmen', 94: 'Yida', 95: 'Yousef', 96: 'Youssef', 97: 'Yonah'}\n",
    "# Assign the names_2011 dictionary as the value to the 2011 key of boy_names\n",
    "boy_names[2011] = names_2011\n",
    "\n",
    "# Update the 2012 key in the boy_names dictionary\n",
    "\n",
    "\n",
    "# Loop over the boy_names dictionary \n",
    "for year in ____:\n",
    "    # Loop over and sort the data for each year by descending rank\n",
    "    for rank in ____(____, reverse=True)[:1]:\n",
    "        # Check that you have a rank\n",
    "        if not rank:\n",
    "            print(year, 'No Data Available')\n",
    "        # Safely print the year and the least popular name or 'Not Available'\n",
    "        print(year, ____)"
   ]
  }
 ],
 "metadata": {
  "kernelspec": {
   "display_name": "Python 3",
   "language": "python",
   "name": "python3"
  },
  "language_info": {
   "codemirror_mode": {
    "name": "ipython",
    "version": 3
   },
   "file_extension": ".py",
   "mimetype": "text/x-python",
   "name": "python",
   "nbconvert_exporter": "python",
   "pygments_lexer": "ipython3",
   "version": "3.6.7"
  }
 },
 "nbformat": 4,
 "nbformat_minor": 2
}
