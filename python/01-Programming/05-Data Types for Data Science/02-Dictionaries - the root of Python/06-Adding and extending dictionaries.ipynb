{
 "cells": [
  {
   "cell_type": "markdown",
   "metadata": {},
   "source": [
    "# Adding and extending dictionaries"
   ]
  },
  {
   "cell_type": "markdown",
   "metadata": {},
   "source": [
    "#### EXERCISE:\n",
    "If you have a dictionary and you want to add data to it, you can simply create a new key and\n",
    "assign the data you desire to it. It's important to remember that if it's a nested dictionary, \n",
    "then all the keys in the data path must exist, and each key in the path must be assigned \n",
    "individually.\n",
    "\n",
    "You can also use the <code>.update()</code> method to update a dictionary with keys and values\n",
    "from another dictionary, tuples or keyword arguments.\n",
    "\n",
    "Here, you'll combine several techniques used in\n",
    "prior exercises to setup your dictionary in a way that makes it easy to find the least popular \n",
    "baby name for each year.\n",
    "\n",
    "Your job is to add data for the year 2011 to your dictionary by assignment, 2012 by update, and then find the least popular baby name for each year."
   ]
  },
  {
   "cell_type": "markdown",
   "metadata": {},
   "source": [
    "#### INSTRUCTIONS:\n",
    "* Assign the <code>names_2011</code> dictionary as the <strong>value</strong> to the <code>2011</code> <strong>key</strong> of the <code>boy_names</code> dictionary.\n",
    "* Update the <code>2012</code> key in the <code>boy_names</code> dictionary with the following data in a list of tuples: <code>(1, 'Casey'), (2, 'Aiden')</code>.\n",
    "* Loop over the <code>boy_names</code> dictionary.\n",
    " * Inside the first <code>for</code> loop, use another <code>for</code> loop to loop over and sort the data for each <code>year</code> of <code>boy_names</code> by descending rank.\n",
    " * Make sure you have a rank and print <code>'No Data Available'</code> if not. This has been done for you.\n",
    " * Safely print the year and least popular name or <code>'Not Available'</code> if it is not found. Take advantage of the <code>.get()</code> method."
   ]
  },
  {
   "cell_type": "markdown",
   "metadata": {},
   "source": [
    "#### SCRIPT.PY:"
   ]
  },
  {
   "cell_type": "code",
   "execution_count": null,
   "metadata": {},
   "outputs": [],
   "source": [
    "# Assign the names_2011 dictionary as the value to the 2011 key of boy_names\n",
    "____ = ____\n",
    "\n",
    "# Update the 2012 key in the boy_names dictionary\n",
    "____\n",
    "\n",
    "# Loop over the boy_names dictionary \n",
    "for year in ____:\n",
    "    # Loop over and sort the data for each year by descending rank\n",
    "    for rank in ____(____, reverse=True)[:1]:\n",
    "        # Check that you have a rank\n",
    "        if not rank:\n",
    "            print(year, 'No Data Available')\n",
    "        # Safely print the year and the least popular name or 'Not Available'\n",
    "        print(year, ____)"
   ]
  }
 ],
 "metadata": {
  "kernelspec": {
   "display_name": "Python 3",
   "language": "python",
   "name": "python3"
  },
  "language_info": {
   "codemirror_mode": {
    "name": "ipython",
    "version": 3
   },
   "file_extension": ".py",
   "mimetype": "text/x-python",
   "name": "python",
   "nbconvert_exporter": "python",
   "pygments_lexer": "ipython3",
   "version": "3.6.7"
  }
 },
 "nbformat": 4,
 "nbformat_minor": 2
}
