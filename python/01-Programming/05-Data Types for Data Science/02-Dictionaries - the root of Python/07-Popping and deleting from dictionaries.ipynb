{
 "cells": [
  {
   "cell_type": "markdown",
   "metadata": {},
   "source": [
    "# Popping and deleting from dictionaries"
   ]
  },
  {
   "cell_type": "markdown",
   "metadata": {},
   "source": [
    "#### EXERCISE:\n",
    "Often, you will want to remove keys and value from a dictionary. You can do so using the \n",
    "<code>del</code> Python instruction. It's important to remember that del will throw a <code>KeyError</code> if\n",
    "the key you are trying to delete does not exist. You can not use it with the <code>.get()</code> method\n",
    "to safely delete items; however, it can be used with <code>try: catch:</code>.\n",
    "\n",
    "If you want to save that deleted data into another variable for further processing, the <code>.pop()</code> dictionary \n",
    "method will do just that. You can supply a default value for <code>.pop()</code> much like you did \n",
    "for <code>.get()</code> to safely deal with missing keys. It's also typical to use <code>.pop()</code> instead of \n",
    "<code>del</code> since it is a safe method.\n",
    "\n",
    "Here, you'll remove <code>2011</code> and <code>2015</code> to save them for later, and then delete <code>2012</code> from the dictionary."
   ]
  },
  {
   "cell_type": "markdown",
   "metadata": {},
   "source": [
    "#### INSTRUCTIONS:\n",
    "* Remove <code>2011</code> from <code>female_names</code> and store it as <code>female_names_2011</code>.\n",
    "* Safely remove <code>2015</code> from <code>female_names</code> with a empty dictionary as the default and store it as <code>female_names_2015</code>. To do this, pass in an empty dictionary <code>{}</code> as a second argument to <code>.pop()</code>.\n",
    "* Delete <code>2012</code> from <code>female_names</code>.\n",
    "* Print <code>female_names</code>."
   ]
  },
  {
   "cell_type": "markdown",
   "metadata": {},
   "source": [
    "#### SCRIPT.PY:"
   ]
  },
  {
   "cell_type": "code",
   "execution_count": null,
   "metadata": {},
   "outputs": [],
   "source": [
    "# Remove 2011 and store it: female_names_2011\n",
    "female_names_2011 = ____\n",
    "\n",
    "# Safely remove 2015 with an empty dictionary as the default: female_names_2015\n",
    "female_names_2015 = ____\n",
    "\n",
    "# Delete 2012\n",
    "____ ____\n",
    "\n",
    "# Print female_names\n",
    "____\n"
   ]
  }
 ],
 "metadata": {
  "kernelspec": {
   "display_name": "Python 3",
   "language": "python",
   "name": "python3"
  },
  "language_info": {
   "codemirror_mode": {
    "name": "ipython",
    "version": 3
   },
   "file_extension": ".py",
   "mimetype": "text/x-python",
   "name": "python",
   "nbconvert_exporter": "python",
   "pygments_lexer": "ipython3",
   "version": "3.6.7"
  }
 },
 "nbformat": 4,
 "nbformat_minor": 2
}
