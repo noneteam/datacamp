{
 "cells": [
  {
   "cell_type": "markdown",
   "metadata": {},
   "source": [
    "# Creating a dictionary from a file"
   ]
  },
  {
   "cell_type": "markdown",
   "metadata": {},
   "source": [
    "#### EXERCISE:\n",
    "The <code>csv</code> module also provides a way to directly create a dictionary from a CSV file with\n",
    "the <code>DictReader</code> class. If the file has a header row, that row will automatically be used as \n",
    "the keys for the dictionary. However, if not, you can supply a list of keys to be used. Each row\n",
    "from the file is returned as a dictionary. Using <code>DictReader</code> can make it much easier to read\n",
    "your code and understand what data is being used, especially when compared to the numbered indexes\n",
    "you used in the prior exercise.\n",
    "\n",
    "Your job in this exercise is to create a dictionary directly from the data file using <code>DictReader</code>. NOTE: The misspellings are\n",
    "from the original data, and this is a very common issue. Again, the <code>baby_names</code> dictionary has\n",
    "already been created for you."
   ]
  },
  {
   "cell_type": "markdown",
   "metadata": {},
   "source": [
    "#### INSTRUCTIONS:\n",
    "* Import the Python <code>csv</code> module.\n",
    "* Create a Python file object in read mode for the <code>baby_names.csv</code> called <code>csvfile</code>.\n",
    "* Loop over a csv <code>DictReader</code> on <code>csvfile</code>. Inside the loop:\n",
    " * Print each <code>row</code>.\n",
    " * Add the <code>'RANK'</code> of each <code>row</code> as the key and <code>'NAME'</code> of each <code>row</code> as the value to the existing dictionary.\n",
    "* Print the dictionary keys."
   ]
  },
  {
   "cell_type": "markdown",
   "metadata": {},
   "source": [
    "#### SCRIPT.PY:"
   ]
  },
  {
   "cell_type": "code",
   "execution_count": null,
   "metadata": {},
   "outputs": [],
   "source": [
    "# Import the python CSV module\n",
    "____\n",
    "\n",
    "# Create a python file object in read mode for the `baby_names.csv` file: csvfile\n",
    "csvfile = ____\n",
    "\n",
    "# Loop over a DictReader on the file\n",
    "for row in ____:\n",
    "    # Print each row \n",
    "    print(row)\n",
    "    # Add the rank and name to the dictionary: baby_names\n",
    "    ____ = ____\n",
    "\n",
    "# Print the dictionary keys\n",
    "____\n"
   ]
  }
 ],
 "metadata": {
  "kernelspec": {
   "display_name": "Python 3",
   "language": "python",
   "name": "python3"
  },
  "language_info": {
   "codemirror_mode": {
    "name": "ipython",
    "version": 3
   },
   "file_extension": ".py",
   "mimetype": "text/x-python",
   "name": "python",
   "nbconvert_exporter": "python",
   "pygments_lexer": "ipython3",
   "version": "3.6.7"
  }
 },
 "nbformat": 4,
 "nbformat_minor": 2
}
