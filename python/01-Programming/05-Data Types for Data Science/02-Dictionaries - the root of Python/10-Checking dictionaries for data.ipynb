{
 "cells": [
  {
   "cell_type": "markdown",
   "metadata": {},
   "source": [
    "# Checking dictionaries for data"
   ]
  },
  {
   "cell_type": "markdown",
   "metadata": {},
   "source": [
    "#### EXERCISE:\n",
    "You can check to see if a key exists in a dictionary by using the <code>in</code> expression.\n",
    "\n",
    "For example, you can check to see if <code>'cookies'</code> is a key in the dictionary by using \n",
    "<code>if 'cookies' in recipes_dict:</code> this allows you to safely react to data being present \n",
    "in the dictionary.\n",
    "\n",
    "You can also use the <code>in</code> expression so see if data is in the value\n",
    "of a dictionary such as <code>if 'cookies' in recipes_dict.values()</code>. Remember you have to \n",
    "handle nested dictionaries differently as illustrated in the video and previous exercises, \n",
    "and use the <code>in</code> expression on each nested dictionary."
   ]
  },
  {
   "cell_type": "markdown",
   "metadata": {},
   "source": [
    "#### INSTRUCTIONS:\n",
    "* Check to see if <code>2011</code> is in the <code>baby_names</code> dictionary.\n",
    " * Print <code>'Found 2011'</code> if it is present.\n",
    "* Check to see if <code>1</code> is in <code>baby_names[2012]</code>.\n",
    " * Print <code>'Found Rank 1 in 2012'</code> if found and <code>'Rank 1 missing from 2012'</code> if not found.\n",
    "* Check to see if rank <code>5</code> is in <code>baby_names[2013]</code>.\n",
    " * Print <code>'Found Rank 5'</code> if it is present."
   ]
  },
  {
   "cell_type": "markdown",
   "metadata": {},
   "source": [
    "#### SCRIPT.PY:"
   ]
  },
  {
   "cell_type": "code",
   "execution_count": 2,
   "metadata": {},
   "outputs": [
    {
     "name": "stdout",
     "output_type": "stream",
     "text": [
      "Rank 1 missing from 2012\n",
      "Found Rank 5\n"
     ]
    }
   ],
   "source": [
    "baby_names = {2012: {}, 2013: {1: 'David', 2: 'Joseph', 3: 'Michael', 4: 'Moshe', 5: 'Daniel', 6: 'Benjamin', 7: 'James', 8: 'Jacob', 9: 'Jack', 10: 'Alexander'}, 2014: {1: 'Joseph', 2: 'David', 3: 'Michael', 4: 'Moshe', 5: 'Jacob', 6: 'Benjamin', 7: 'Alexander', 8: 'Daniel', 9: 'Samuel', 10: 'Jack'}}\n",
    "# Check to see if 2011 is in baby_names\n",
    "if 2011 in baby_names:\n",
    "    # Print 'Found 2011'\n",
    "    print('Found 2011')\n",
    "    \n",
    "# Check to see if rank 1 is in 2012\n",
    "if 1 in baby_names[2012]:\n",
    "    # Print 'Found Rank 1 in 2012' if found\n",
    "    print('Found Rank 1 in 2012')\n",
    "else:\n",
    "    # Print 'Rank 1 missing from 2012' if not found\n",
    "    print('Rank 1 missing from 2012')\n",
    "    \n",
    "# Check to see if Rank 5 is in 2013\n",
    "if 5 in baby_names[2013]:\n",
    "   # Print 'Found Rank 5'\n",
    "   print('Found Rank 5')"
   ]
  }
 ],
 "metadata": {
  "kernelspec": {
   "display_name": "Python 3",
   "language": "python",
   "name": "python3"
  },
  "language_info": {
   "codemirror_mode": {
    "name": "ipython",
    "version": 3
   },
   "file_extension": ".py",
   "mimetype": "text/x-python",
   "name": "python",
   "nbconvert_exporter": "python",
   "pygments_lexer": "ipython3",
   "version": "3.6.7"
  }
 },
 "nbformat": 4,
 "nbformat_minor": 2
}
