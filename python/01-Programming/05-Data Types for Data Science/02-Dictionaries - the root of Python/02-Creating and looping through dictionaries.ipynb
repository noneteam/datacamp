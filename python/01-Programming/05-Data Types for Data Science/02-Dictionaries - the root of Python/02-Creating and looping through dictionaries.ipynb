{
 "cells": [
  {
   "cell_type": "markdown",
   "metadata": {},
   "source": [
    "# Creating and looping through dictionaries"
   ]
  },
  {
   "cell_type": "markdown",
   "metadata": {},
   "source": [
    "#### EXERCISE:\n",
    "You'll often encounter the need to loop over some array type data, like in Chapter 1, and provide it some structure \n",
    "so you can find the data you desire quickly.\n",
    "\n",
    "You start that by creating an empty dictionary and assigning part of your array data as the key and the rest as the value.\n",
    "\n",
    "Previously, you used <code>sorted()</code> to organize your data in a list. Dictionaries can also be \n",
    "sorted. By default, using <code>sorted()</code> on a dictionary will sort by the keys of the dictionary. \n",
    "You can also reverse the order by passing <code>reverse=True</code> as a keyword argument.\n",
    "\n",
    "Finally, since sorted returns a list, you can use slice notation to select only part of the list. For \n",
    "example, <code>[:10]</code> will slice the first ten items off a list and return only those items."
   ]
  },
  {
   "cell_type": "markdown",
   "metadata": {},
   "source": [
    "#### INSTRUCTIONS:\n",
    "* Create an empty dictionary called <code>names</code>.\n",
    "* Loop over <code>female_baby_names_2012</code>, unpacking it into the variables <code>name</code> and <code>rank</code>.\n",
    "* Inside the loop, add each <code>name</code> to the <code>names</code> dictionary using the <code>rank</code> as the key.\n",
    "* Sort the <code>names</code> dictionary in descending order, select the first ten items. Print each item."
   ]
  },
  {
   "cell_type": "markdown",
   "metadata": {},
   "source": [
    "#### SCRIPT.PY:"
   ]
  },
  {
   "cell_type": "code",
   "execution_count": 1,
   "metadata": {},
   "outputs": [
    {
     "name": "stdout",
     "output_type": "stream",
     "text": [
      "ROSIE\n",
      "ESTER\n",
      "ALANA\n",
      "FRANCES\n",
      "CHELSEA\n",
      "AVRIL\n",
      "ALESSIA\n",
      "LUCIA\n",
      "VERA\n",
      "NATALY\n"
     ]
    }
   ],
   "source": [
    "female_baby_names_2012 = {('JOSEPHINE', 59), ('LILAH', 80), ('GERALDINE', 78), ('KELLY', 68), ('AMIYAH', 43), ('ARIELLE', 77), ('CELIA', 82), ('HANNAH', 35), ('VERONICA', 74), ('BELLA', 71), ('ERIN', 39), ('JENNY', 29), ('AYANNA', 44), ('MARYAM', 83), ('PHOEBE', 73), ('VERA', 75), ('HELEN', 43), ('CHAYA', 7), ('SABRINA', 64), ('EVELYN', 19), ('TATIANA', 75), ('EMMA', 5), ('RIFKY', 79), ('MIKAYLA', 76), ('AISHA', 44), ('WYNTER', 47), ('RACHEL', 6), ('GITTY', 35), ('JORDAN', 47), ('KIMBERLY', 20), ('VIRGINIA', 81), ('VIOLET', 72), ('ELISHEVA', 76), ('ZAHRA', 41), ('SOFIA', 23), ('ESTHER', 5), ('CAROLINE', 45), ('HELEN', 76), ('KIARA', 44), ('ELIZABETH', 24), ('JULIA', 26), ('HADLEY', 80), ('ESTY', 81), ('ASHLEY', 7), ('MADELYN', 72), ('BRIELLE', 17), ('ANNE', 81), ('AMANDA', 33), ('ALICE', 19), ('JOYCE', 83), ('LEAH', 39), ('ISABELLA', 6), ('AYESHA', 36), ('ESME', 77), ('AUBREY', 63), ('APRIL', 74), ('AMINA', 77), ('CAMILA', 6), ('AYA', 82), ('MARIA', 49), ('TZIVIA', 82), ('WINNIE', 26), ('TIFFANY', 15), ('KAITLYN', 43), ('MALIA', 36), ('FIONA', 64), ('SALMA', 78), ('SAVANNAH', 21), ('LIANA', 80), ('VALERIE', 76), ('SOPHIA', 34), ('IRENE', 32), ('EDEN', 67), ('CHARLOTTE', 77), ('POLINA', 81), ('SHERLYN', 57), ('ELISE', 47), ('JAYLENE', 65), ('GITTEL', 72), ('SKYLAR', 16), ('AHUVA', 78), ('CATHERINE', 60), ('KATELYN', 43), ('JULIA', 45), ('AVA', 8), ('JANA', 77), ('EVA', 27), ('VICKY', 30), ('SAMANTHA', 39), ('HARMONY', 35), ('ELIANA', 50), ('SONIA', 83), ('AMY', 80), ('TORI', 44), ('MEGAN', 79), ('RUCHY', 71), ('ISABELA', 76), ('MELISSA', 80), ('JASMINE', 31), ('ANNIE', 30), ('ESMERALDA', 65), ('BRIANNA', 69), ('KAILEY', 72), ('ARIANA', 38), ('EVANGELINE', 78), ('SASHA', 80), ('AVIGAIL', 80), ('HINDY', 53), ('JOSELYN', 66), ('ANGEL', 43), ('LILY', 45), ('AMIRAH', 31), ('MADELEINE', 45), ('HAZEL', 45), ('ANA', 51), ('AMAYA', 21), ('ALINA', 71), ('CHRISTINA', 79), ('LESLEY', 79), ('ANNA', 27), ('CAMILLA', 77), ('SOPHIE', 17), ('MELANIE', 34), ('JAZMINE', 74), ('ALYSSA', 71), ('KAYLEE', 83), ('CHARLOTTE', 15), ('CAMILLE', 47), ('GABRIELLA', 32), ('JOANNA', 19), ('SABRINA', 33), ('BIANCA', 67), ('JADE', 34), ('NATHALY', 73), ('ANGELINA', 32), ('JOCELYN', 36), ('AALIYAH', 10), ('REEM', 83), ('LAUREN', 26), ('ZOEY', 68), ('ANDREA', 40), ('ARIANNA', 34), ('ZOE', 22), ('AMANDA', 76), ('ALEXIA', 77), ('JENNIFER', 80), ('ANNA', 18), ('CAROLINA', 83), ('FRAIDY', 75), ('MIKAYLA', 40), ('BEATRICE', 64), ('MANDY', 40), ('MARINA', 83), ('KIMBERLY', 42), ('TALIA', 58), ('AMELIA', 47), ('SAMIYAH', 45), ('MYA', 56), ('TIANA', 40), ('LAYLA', 37), ('BRIANNA', 26), ('NOOR', 81), ('ARIEL', 73), ('CHRISTINE', 41), ('LESLY', 74), ('ALISA', 81), ('CHAVA', 55), ('NATALIE', 26), ('DAISY', 82), ('JOLIE', 82), ('MADISON', 35), ('ANYA', 36), ('ANISHA', 41), ('GIULIA', 81), ('JESSICA', 46), ('DIANA', 47), ('HAILEY', 30), ('MAGGIE', 39), ('LUCIA', 61), ('PAOLA', 76), ('AMALIA', 82), ('SASHA', 44), ('DAPHNE', 44), ('ARYA', 42), ('DANNA', 57), ('JADE', 26), ('MIA', 18), ('DEVORA', 77), ('JAYLAH', 71), ('FIONA', 10), ('MIRANDA', 73), ('FATIMA', 73), ('MICHAELA', 80), ('RAIZEL', 76), ('CARMEN', 70), ('CHRISTINA', 37), ('JULIETTE', 68), ('MELANIE', 12), ('JOCELYN', 50), ('NICOLE', 23), ('STACY', 76), ('GIANNA', 40), ('OLIVIA', 3), ('RIVKA', 24), ('AMINA', 37), ('LIBA', 80), ('NICOLE', 45), ('HAILEY', 57), ('AMINATA', 37), ('MCKENZIE', 35), ('ALYSSA', 41), ('ELENA', 73), ('FRADY', 82), ('AMY', 32), ('MIRI', 80), ('ELEANOR', 40), ('ASHLEY', 14), ('MARIAH', 64), ('JANIYAH', 42), ('JESSICA', 17), ('SARAH', 46), ('CHANIE', 83), ('VIOLET', 46), ('NATHALIE', 70), ('JORDYN', 38), ('AMY', 26), ('ARIA', 76), ('LILY', 22), ('MARGOT', 82), ('STEPHANIE', 47), ('VICTORIA', 19), ('MADELINE', 75), ('JULIA', 69), ('NYLAH', 27), ('TALIA', 46), ('HAZEL', 74), ('PARIS', 29), ('CYNTHIA', 36), ('NATALIE', 50), ('DORIS', 42), ('CHAVY', 79), ('ALEXA', 40), ('OLIVIA', 8), ('NAYELI', 67), ('FAITH', 17), ('KHLOE', 12), ('SYEDA', 45), ('KAYLEE', 28), ('ALESSANDRA', 78), ('NATALIA', 76), ('KATELYN', 81), ('STACEY', 78), ('ELOISE', 62), ('HALEY', 72), ('CHANY', 49), ('SAGE', 83), ('ALEXA', 28), ('JOLIN', 45), ('VALENTINA', 26), ('HAWA', 44), ('MARILYN', 78), ('PEYTON', 22), ('CHLOE', 24), ('AMANDA', 47), ('ADRIANNA', 46), ('ANGELA', 63), ('SABRINA', 77), ('DIANA', 73), ('SHOSHANA', 78), ('GABRIELA', 83), ('SELENA', 33), ('JASMIN', 79), ('RIVKY', 44), ('GRACE', 59), ('ZARA', 38), ('PAIGE', 32), ('JANELLE', 40), ('JENNIFER', 32), ('ALICIA', 71), ('NATALIE', 47), ('MIRANDA', 44), ('ABIGAIL', 5), ('MALIYAH', 43), ('JULIANA', 75), ('ELLIANA', 82), ('ELLIE', 38), ('ZURI', 47), ('DESTINY', 49), ('FAIGA', 64), ('PAIGE', 77), ('JUDY', 45), ('TAMIA', 37), ('EVELYN', 43), ('GEMMA', 71), ('HAREEM', 44), ('KAYLIN', 79), ('MINDY', 63), ('SCARLET', 69), ('AMALIA', 79), ('RAIZY', 43), ('EMILIA', 71), ('JULIE', 76), ('ALIZA', 73), ('SHARON', 41), ('GUADALUPE', 55), ('KYLEE', 42), ('MEGAN', 46), ('ALEXIS', 70), ('EMMA', 1), ('AMELIA', 41), ('RUBY', 55), ('TAYLOR', 67), ('LONDYN', 37), ('DAPHNE', 77), ('JULIET', 55), ('ETTY', 74), ('NATHALIA', 79), ('LILLIAN', 39), ('BRIELLE', 72), ('OLIVIA', 22), ('ALIYAH', 72), ('SHAINA', 79), ('YAMILETH', 77), ('SERENA', 33), ('DALIA', 82), ('GIANNA', 45), ('ANIYAH', 75), ('MCKENZIE', 76), ('ITZEL', 67), ('NEVAEH', 68), ('REBECCA', 41), ('MIRACLE', 39), ('SAMANTHA', 11), ('BREINDY', 81), ('ADELAIDE', 74), ('ALYSSA', 28), ('PIPER', 75), ('AUBREE', 43), ('EMERSON', 82), ('SAVANNAH', 48), ('KATIE', 76), ('NECHAMA', 68), ('KATHERINE', 52), ('ANAIS', 79), ('SYDNEY', 42), ('ALISHA', 42), ('YARETZI', 41), ('SAVANNAH', 71), ('SADIE', 57), ('OUMOU', 44), ('MILA', 53), ('GRACE', 37), ('ELLA', 70), ('ARIEL', 22), ('VICTORIA', 30), ('SOPHIE', 27), ('EMILY', 4), ('ATHENA', 45), ('SHIRLEY', 35), ('ELSA', 79), ('SKYLAR', 65), ('BINTOU', 46), ('AALIYAH', 26), ('FATOUMATA', 15), ('BRIANNA', 45), ('EVA', 38), ('ELIANNY', 79), ('DIYA', 44), ('MAYA', 27), ('GISELLE', 49), ('MIREL', 79), ('CHEYENNE', 47), ('XIN', 38), ('ARIANNA', 20), ('ASHLEY', 64), ('LOUISA', 77), ('BELLA', 36), ('KATIE', 43), ('MATILDA', 78), ('KAYLEE', 17), ('ANGELIQUE', 63), ('DANIELLA', 68), ('KATHERINE', 19), ('LONDON', 2), ('HANNA', 70), ('PEYTON', 73), ('RACHEL', 67), ('TESSA', 82), ('LEAH', 2), ('JULIANNA', 76), ('GENEVIEVE', 75), ('ELEANOR', 48), ('MAKENZIE', 46), ('ALISSON', 73), ('QUINN', 73), ('AVA', 12), ('KAYLA', 38), ('MARGARET', 64), ('STEPHANIE', 41), ('VALENTINA', 57), ('VICTORIA', 21), ('VIVIAN', 70), ('MIA', 3), ('KELSEY', 78), ('TENZIN', 24), ('HENNY', 79), ('FAITH', 45), ('LAURA', 78), ('SUMMER', 76), ('XIMENA', 74), ('NYLAH', 73), ('TAYLOR', 3), ('KAREN', 61), ('SOFIA', 5), ('AMIRA', 80), ('MELANIE', 83), ('FANTA', 41), ('CHLOE', 34), ('JESSICA', 62), ('SKYLA', 29), ('SOFIA', 31), ('NINA', 38), ('CHLOE', 4), ('JANNAT', 37), ('LILY', 33), ('GIA', 77), ('JAZZLYN', 79), ('LILLIAN', 50), ('ADINA', 73), ('MACKENZIE', 37), ('LANA', 79), ('GABRIELLA', 28), ('SUMMER', 45), ('ADRIANNA', 70), ('ESTER', 82), ('RILEY', 45), ('MARIA', 35), ('ADELE', 78), ('KEIRA', 69), ('ANGELINA', 44), ('SLOANE', 74), ('BLIMA', 56), ('GABRIELA', 29), ('SIENA', 76), ('CHELSEA', 29), ('MARIAH', 35), ('REAGAN', 71), ('EMILIA', 49), ('ARELY', 77), ('FATIMA', 22), ('MILAN', 34), ('JENNA', 76), ('MARIAMA', 33), ('ANASTASIA', 74), ('CLAIRE', 28), ('MIAH', 78), ('ALICE', 42), ('MADELEINE', 58), ('LIA', 59), ('NINA', 51), ('ADA', 79), ('SARAI', 70), ('SIMONE', 73), ('LYLA', 82), ('ZAINAB', 37), ('CATALINA', 64), ('ARIEL', 43), ('MYA', 36), ('CHANA', 9), ('ISABELLA', 1), ('GABRIELLE', 76), ('SIENNA', 54), ('VANESSA', 72), ('DANIELLE', 80), ('YIDES', 64), ('MADISON', 1), ('LUCIA', 76), ('GIULIANA', 51), ('KATE', 38), ('WENDY', 78), ('ALINA', 25), ('PEYTON', 82), ('MALKY', 37), ('LAUREN', 43), ('VIVIAN', 17), ('VIVIENNE', 56), ('SARIAH', 42), ('ALEXANDRA', 48), ('LYRIC', 41), ('PERLA', 67), ('AUBREY', 83), ('MARIANA', 78), ('JAYLIN', 74), ('MADELYN', 78), ('LEILA', 63), ('SYDNEY', 40), ('FAITH', 83), ('AMBER', 47), ('DENISE', 79), ('CHARLOTTE', 33), ('ALANA', 32), ('ISABELLE', 72), ('KAYLA', 33), ('AUBREY', 31), ('TZIPORA', 80), ('CASSANDRA', 83), ('MICHELLE', 43), ('CHELSEA', 37), ('MIKAYLA', 81), ('GABRIELLA', 40), ('ALANA', 81), ('SCARLETT', 50), ('ADA', 43), ('SOPHIA', 2), ('MADISON', 8), ('KELSEY', 41), ('ALEXA', 45), ('MAYA', 29), ('QUEENIE', 35), ('LEA', 70), ('LILIANA', 69), ('ARIANNA', 22), ('ALANI', 75), ('LARA', 77), ('NICOLE', 33), ('JOYCE', 27), ('KAYLEE', 31), ('SANAI', 38), ('MAKAYLA', 11), ('PENELOPE', 72), ('ASHLEY', 40), ('ALEXANDRA', 43), ('SARAH', 12), ('AILEEN', 62), ('EVANGELINE', 79), ('ARIANA', 37), ('DANIELA', 31), ('JIMENA', 76), ('CHLOE', 1), ('HAILEY', 9), ('NORA', 61), ('CHRISTINA', 78), ('SANDRA', 79), ('LONDON', 52), ('ELISA', 78), ('LAUREN', 71), ('ARIANNA', 64), ('NAOMI', 63), ('SARA', 68), ('ANNABEL', 82), ('KYLIE', 54), ('ARIA', 38), ('MIA', 13), ('ANNABELLE', 43), ('CHELSEA', 44), ('MARIAM', 73), ('FRIMET', 80), ('IDY', 78), ('ROSE', 57), ('EVA', 47), ('AISHA', 38), ('DAISY', 64), ('LAILA', 59), ('GRACE', 30), ('LIANA', 79), ('HEAVEN', 32), ('SHIRA', 77), ('LIVIA', 79), ('SCARLETT', 29), ('SARAH', 3), ('EILEEN', 40), ('ALIYAH', 37), ('SHIFRA', 74), ('ATHENA', 81), ('JALIYAH', 41), ('AYLIN', 69), ('ARIELLA', 65), ('DESTINY', 20), ('ELIZA', 75), ('DANIELLA', 59), ('YITTY', 50), ('SKYLAH', 43), ('NAOMI', 54), ('STELLA', 32), ('COLETTE', 76), ('MIA', 10), ('ANALIA', 74), ('BRIANA', 55), ('MIKAELA', 75), ('KHLOE', 43), ('ALEXIS', 37), ('SERENITY', 7), ('BRYANNA', 73), ('AVIVA', 81), ('MAE', 83), ('CORA', 76), ('KAMILA', 60), ('AUDREY', 55), ('MAYA', 17), ('KATELYN', 68), ('YESENIA', 78), ('JAYDA', 45), ('KARINA', 78), ('SELMA', 83), ('MARYAM', 42), ('ABIGAIL', 19), ('KAYLIE', 76), ('BRITNEY', 74), ('LIV', 83), ('DULCE', 79), ('FRANCESCA', 60), ('CAROLINE', 44), ('NATALIA', 53), ('VERONICA', 66), ('HAFSA', 44), ('HARPER', 50), ('ELIZABETH', 25), ('ALONDRA', 72), ('KASSANDRA', 76), ('ELISE', 79), ('HANNAH', 13), ('AMBER', 36), ('IVY', 20), ('ARIANA', 64), ('GABRIELLA', 21), ('AUDREY', 20), ('RILEY', 34), ('JADA', 30), ('JULIETTE', 69), ('GRACE', 8), ('ZOEY', 58), ('AMELIE', 82), ('AMIRA', 41), ('GIANNA', 41), ('ESTHER', 39), ('GENESIS', 36), ('MILAGROS', 79), ('ALEXANDRA', 20), ('FATIMA', 29), ('ABIGAIL', 26), ('JACQUELINE', 59), ('JOY', 41), ('SAVANNAH', 44), ('LUZ', 69), ('ABBY', 44), ('JOANNA', 82), ('JADA', 76), ('LEORA', 80), ('ZOE', 25), ('BONNIE', 43), ('MARIAM', 24), ('ISLA', 71), ('JULIANNA', 75), ('ANAYA', 43), ('VIOLET', 45), ('ALICIA', 42), ('ALINA', 77), ('MICHELLE', 55), ('MELANIE', 44), ('ANGELA', 7), ('VICTORIA', 18), ('FAIGY', 34), ('ARIA', 33), ('SAMARA', 42), ('FERNANDA', 79), ('HAZEL', 77), ('MANHA', 40), ('ALLYSON', 71), ('AMAYA', 53), ('SAMANTHA', 32), ('YOCHEVED', 61), ('ZOEY', 35), ('EILEEN', 78), ('AVERY', 31), ('ISABELLA', 16), ('AMBER', 64), ('KAITLYN', 35), ('JAYLEEN', 53), ('ANGELINA', 38), ('SARA', 31), ('GABRIELLE', 17), ('BRUCHY', 72), ('YITTA', 81), ('JAYLA', 65), ('TINA', 40), ('BRACHA', 60), ('FRANCES', 80), ('ROSIE', 83), ('KATIE', 81), ('LEAH', 14), ('ELENA', 61), ('AICHA', 43), ('JOHANNA', 73), ('EMMA', 31), ('AISSATOU', 44), ('CRYSTAL', 72), ('HANA', 80), ('CLARA', 51), ('LIZ', 79), ('CLAIRE', 48), ('VALERIE', 37), ('AMAYA', 44), ('BRITTANY', 68), ('KATE', 76), ('JULISSA', 73), ('OLIVE', 75), ('PEARL', 62), ('JAZMIN', 74), ('ADRIANNA', 69), ('EMILY', 23), ('JANICE', 41), ('PRINCESS', 46), ('SAMANTHA', 21), ('ADRIANA', 32), ('NYLA', 14), ('LENA', 78), ('ALESSANDRA', 72), ('ELLE', 73), ('JADE', 82), ('HEAVEN', 72), ('TOBY', 43), ('ALICE', 67), ('LEAH', 23), ('SHAINDY', 33), ('ZOE', 23), ('GENESIS', 10), ('IRIS', 78), ('ESTELLE', 82), ('LOLA', 78), ('KARLA', 70), ('MELODY', 43), ('JANE', 73), ('AURORA', 78), ('SURY', 62), ('CINDY', 40), ('KAYLA', 55), ('JAYLA', 32), ('KIMORA', 34), ('LAYLA', 42), ('ROSELYN', 74), ('NATALY', 74), ('ANNA', 79), ('IVANNA', 77), ('SKYLAR', 73), ('STELLA', 22), ('AWA', 47), ('MELINA', 77), ('BLIMY', 72), ('DANA', 75), ('ELLIE', 70), ('ELAINE', 34), ('ABIGAIL', 15), ('REBECCA', 48), ('RACHEL', 31), ('DAHLIA', 78), ('KAREN', 42), ('MADELINE', 41), ('BRENDA', 77), ('JAELYN', 79), ('ARIEL', 82), ('LINA', 81), ('JORDAN', 81), ('CAITLIN', 83), ('LYDIA', 42), ('RUBY', 72), ('MADISON', 36), ('YEHUDIS', 76), ('ELINA', 41), ('HELEN', 79), ('ELIZABETH', 27), ('SAVANNA', 78), ('JAZLYN', 67), ('EVE', 80), ('MEGAN', 36), ('MAKAYLA', 68), ('SYDNEY', 55), ('ALLISON', 19), ('SIMA', 78), ('DAYANA', 60), ('EMELY', 24), ('KYLIE', 40), ('CECILIA', 43), ('RIHANNA', 76), ('VALERIA', 52), ('LILLY', 74), ('ADRIANA', 50), ('ADDISON', 61), ('BROOKE', 67), ('ROSA', 78), ('ANGIE', 69), ('PERL', 81), ('CECILIA', 65), ('ALEJANDRA', 75), ('ALLISON', 39), ('ISABELLE', 38), ('PERRY', 76), ('JESSICA', 76), ('IZABELLA', 66), ('ALLISON', 77), ('GEORGIA', 77), ('ZISSY', 61), ('CONNIE', 40), ('ARISHA', 44), ('ELIZABETH', 18), ('JUDY', 80), ('MAEVE', 72), ('RAQUEL', 81), ('HAYLEE', 79), ('ZOE', 27), ('SALOME', 79), ('ANIYA', 46), ('INES', 83), ('ERIN', 46), ('ARIA', 77), ('VANESSA', 45), ('LIA', 74), ('LAUREN', 68), ('AMELIA', 28), ('ROCHEL', 73), ('CATHERINE', 74), ('FATIMA', 81), ('SUMMER', 31), ('GOLDA', 80), ('BRIANNA', 13), ('MARY', 70), ('YARA', 83), ('MILA', 41), ('MICHELLE', 47), ('ELIANA', 55), ('LAILA', 20), ('IMANI', 24), ('MELANY', 59), ('RILEY', 53), ('PENELOPE', 42), ('CAROLINE', 75), ('HELENA', 78), ('SELENA', 74), ('SOPHIE', 73), ('ALANA', 71), ('KAYA', 83), ('KATHRYN', 76), ('MORGAN', 71), ('ATHENA', 72), ('NIA', 26), ('LIZBETH', 64), ('SARAI', 41), ('LIBBY', 69), ('HANNAH', 59), ('ELLA', 7), ('AVERY', 72), ('ARIELLE', 79), ('LILY', 72), ('MALKA', 39), ('MIRIAM', 10), ('NOEMI', 76), ('GOLDY', 68), ('STELLA', 79), ('SHERRY', 42), ('AVERY', 34), ('HANNAH', 29), ('CYNTHIA', 77), ('YAEL', 70), ('FAITH', 68), ('SIENNA', 73), ('AMANDA', 46), ('MALAK', 75), ('ISABEL', 69), ('WILLA', 76), ('ARIELLE', 34), ('AMELIA', 35), ('BATSHEVA', 39), ('HEIDI', 79), ('GRETA', 80), ('LILA', 44), ('LITZY', 60), ('ALEXANDRIA', 83), ('PENELOPE', 45), ('KAITLYN', 58), ('MILEY', 72), ('SELINA', 16), ('MIRIAM', 79), ('ANGELINA', 45), ('JASMINE', 59), ('SERENITY', 36), ('PARIS', 73), ('PAULA', 79), ('LINDA', 38), ('AMINA', 46), ('IRIS', 34), ('GIADA', 80), ('SARA', 14), ('DELILAH', 64), ('MAYA', 50), ('HEIDY', 76), ('EVELYN', 42), ('LESLIE', 55), ('SARAH', 29), ('AVRIL', 78), ('KYLA', 42), ('KYLIE', 27), ('ALISON', 57), ('ANNABELLE', 79), ('PESSY', 66), ('TIFFANY', 67), ('ANTONIA', 81), ('JULIE', 79), ('TAMAR', 81), ('ELENA', 44), ('KIARA', 64), ('MILA', 63), ('JASMINE', 83), ('STEPHANIE', 36), ('HINDA', 78), ('KHLOE', 39), ('ALMA', 83), ('ERICA', 32), ('KIRA', 80), ('ESTHER', 76), ('CRYSTAL', 38), ('JAMIE', 72), ('SKYE', 44), ('DYLAN', 70), ('BIANCA', 83), ('LAYLA', 50), ('NOA', 65), ('LEILANI', 40), ('SANIYAH', 41), ('SYLVIE', 83), ('LAILA', 74), ('PEREL', 80), ('DEBORAH', 47), ('IVY', 76), ('KENNEDY', 32), ('TRINITY', 38), ('SANAA', 35), ('ROIZY', 82), ('ELLA', 11), ('ALYSSA', 37), ('LUNA', 58), ('CINDY', 78), ('CHELSEA', 79), ('LEILA', 62), ('RYAN', 80), ('ALESSIA', 77), ('NATASHA', 65), ('VANESSA', 40), ('ANIYAH', 28), ('EMMA', 9), ('HADASSAH', 83), ('AYLA', 75), ('BAILA', 48), ('MORGAN', 33), ('MOLLY', 48), ('RUTH', 76), ('PHOEBE', 33), ('MELISSA', 38), ('DANIELA', 83), ('KAYLA', 6), ('NAOMI', 25), ('ALANI', 44), ('AMELIE', 78), ('ERIKA', 78), ('REBECCA', 71), ('ROSA', 76), ('JACQUELINE', 67), ('OLIVIA', 4), ('JENNIFER', 31), ('KEYLA', 75), ('LILIANA', 68), ('JULIET', 67), ('MACKENZIE', 71), ('BELLA', 43), ('KALIYAH', 47), ('SHAYLA', 47), ('CATHERINE', 29), ('AMBERLY', 78), ('ARIANA', 30), ('JASMINE', 29), ('HAILEY', 16), ('MELODY', 59), ('GIA', 57), ('ISABEL', 49), ('ANGEL', 41), ('MELODY', 29), ('PHOENIX', 46), ('CAROLINA', 76), ('MICHELLE', 11), ('JULIANA', 61), ('NEVAEH', 9), ('AVA', 13), ('JUNE', 81), ('CHRISTINA', 43), ('EMILY', 12), ('REESE', 68), ('DANIELLE', 47), ('ANGELICA', 70), ('DINA', 49), ('AVA', 23), ('TASNIM', 45), ('KAITLYN', 77), ('VIVIANA', 77), ('NICOLETTE', 79), ('DEVORAH', 56), ('ALEXIS', 45), ('SKYLA', 73), ('SOPHIA', 4), ('LEILANI', 54), ('SYLVIA', 77), ('LAURA', 79), ('AUTUMN', 29), ('LUCY', 42), ('MACKENZIE', 78), ('KELLY', 42)}\n",
    "# Create an empty dictionary: names\n",
    "names = dict()\n",
    "\n",
    "# Loop over the girl names\n",
    "for name, rank in female_baby_names_2012:\n",
    "    # Add each name to the names dictionary using rank as the key\n",
    "    names[rank] = name\n",
    "    \n",
    "# Sort the names list by rank in descending order and slice the first 10 items\n",
    "for rank in sorted(names, reverse=True)[:10]:\n",
    "    # Print each item\n",
    "    print(names[rank])"
   ]
  }
 ],
 "metadata": {
  "kernelspec": {
   "display_name": "Python 3",
   "language": "python",
   "name": "python3"
  },
  "language_info": {
   "codemirror_mode": {
    "name": "ipython",
    "version": 3
   },
   "file_extension": ".py",
   "mimetype": "text/x-python",
   "name": "python",
   "nbconvert_exporter": "python",
   "pygments_lexer": "ipython3",
   "version": "3.6.7"
  }
 },
 "nbformat": 4,
 "nbformat_minor": 2
}
