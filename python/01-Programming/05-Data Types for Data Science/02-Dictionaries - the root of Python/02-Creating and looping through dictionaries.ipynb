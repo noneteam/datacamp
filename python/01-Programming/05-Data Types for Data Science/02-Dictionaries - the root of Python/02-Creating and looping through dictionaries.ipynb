{
 "cells": [
  {
   "cell_type": "markdown",
   "metadata": {},
   "source": [
    "# Creating and looping through dictionaries"
   ]
  },
  {
   "cell_type": "markdown",
   "metadata": {},
   "source": [
    "#### EXERCISE:\n",
    "You'll often encounter the need to loop over some array type data, like in Chapter 1, and provide it some structure \n",
    "so you can find the data you desire quickly.\n",
    "\n",
    "You start that by creating an empty dictionary and assigning part of your array data as the key and the rest as the value.\n",
    "\n",
    "Previously, you used <code>sorted()</code> to organize your data in a list. Dictionaries can also be \n",
    "sorted. By default, using <code>sorted()</code> on a dictionary will sort by the keys of the dictionary. \n",
    "You can also reverse the order by passing <code>reverse=True</code> as a keyword argument.\n",
    "\n",
    "Finally, since sorted returns a list, you can use slice notation to select only part of the list. For \n",
    "example, <code>[:10]</code> will slice the first ten items off a list and return only those items."
   ]
  },
  {
   "cell_type": "markdown",
   "metadata": {},
   "source": [
    "#### INSTRUCTIONS:\n",
    "* Create an empty dictionary called <code>names</code>.\n",
    "* Loop over <code>female_baby_names_2012</code>, unpacking it into the variables <code>name</code> and <code>rank</code>.\n",
    "* Inside the loop, add each <code>name</code> to the <code>names</code> dictionary using the <code>rank</code> as the key.\n",
    "* Sort the <code>names</code> dictionary in descending order, select the first ten items. Print each item."
   ]
  },
  {
   "cell_type": "markdown",
   "metadata": {},
   "source": [
    "#### SCRIPT.PY:"
   ]
  },
  {
   "cell_type": "code",
   "execution_count": null,
   "metadata": {},
   "outputs": [],
   "source": [
    "# Create an empty dictionary: names\n",
    "\n",
    "\n",
    "# Loop over the girl names\n",
    "for ____, ____ in ____:\n",
    "    # Add each name to the names dictionary using rank as the key\n",
    "    ____\n",
    "    \n",
    "# Sort the names list by rank in descending order and slice the first 10 items\n",
    "for rank in ____:\n",
    "    # Print each item\n",
    "    print(names[rank])"
   ]
  }
 ],
 "metadata": {
  "kernelspec": {
   "display_name": "Python 3",
   "language": "python",
   "name": "python3"
  },
  "language_info": {
   "codemirror_mode": {
    "name": "ipython",
    "version": 3
   },
   "file_extension": ".py",
   "mimetype": "text/x-python",
   "name": "python",
   "nbconvert_exporter": "python",
   "pygments_lexer": "ipython3",
   "version": "3.6.7"
  }
 },
 "nbformat": 4,
 "nbformat_minor": 2
}
