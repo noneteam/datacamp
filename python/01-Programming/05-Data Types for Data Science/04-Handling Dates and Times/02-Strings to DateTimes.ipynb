{
 "cells": [
  {
   "cell_type": "markdown",
   "metadata": {},
   "source": [
    "# Strings to DateTimes"
   ]
  },
  {
   "cell_type": "markdown",
   "metadata": {},
   "source": [
    "#### EXERCISE:\n",
    "Time to begin your DateTime journey! You'll start by using the <code>.strptime()</code> method from the datetime object\n",
    "as shown in the video, passing it both the string and the format. A full \n",
    "list of the format string components is available in the Python \n",
    "<a href=\"https://docs.python.org/3/library/datetime.html#strftime-strptime-behavior\" target=\"_blank\">documentation</a>.\n",
    "\n",
    "You'll be using the datetime column from the Chicago \n",
    "Transist Authority data, which is available as \n",
    "<code>dates_list</code>. Feel free to explore it in the IPython Shell: You'll see that it has the format of Month, Day, Year."
   ]
  },
  {
   "cell_type": "markdown",
   "metadata": {},
   "source": [
    "#### INSTRUCTIONS:\n",
    "* Import the <code>datetime</code> object from <code>datetime</code>.\n",
    "* Iterate over the <code>dates_list</code>, using <code>date_str</code> as your iterator variable.\n",
    "* Convert each <code>date_str</code> into a datetime object called <code>date_dt</code> using the <code>datetime.strptime()</code> function, with <code>'%m/%d/%Y'</code> as your format.\n",
    "* Print each <code>date_dt</code>."
   ]
  },
  {
   "cell_type": "markdown",
   "metadata": {},
   "source": [
    "#### SCRIPT.PY:"
   ]
  },
  {
   "cell_type": "code",
   "execution_count": null,
   "metadata": {},
   "outputs": [],
   "source": [
    "# Import the datetime object from datetime\n",
    "____\n",
    "\n",
    "# Iterate over the dates_list \n",
    "for ____ in ____:\n",
    "    # Convert each date to a datetime object: date_dt\n",
    "    date_dt = ____\n",
    "    \n",
    "    # Print each date_dt\n",
    "    print(____)"
   ]
  }
 ],
 "metadata": {
  "kernelspec": {
   "display_name": "Python 3",
   "language": "python",
   "name": "python3"
  },
  "language_info": {
   "codemirror_mode": {
    "name": "ipython",
    "version": 3
   },
   "file_extension": ".py",
   "mimetype": "text/x-python",
   "name": "python",
   "nbconvert_exporter": "python",
   "pygments_lexer": "ipython3",
   "version": "3.6.7"
  }
 },
 "nbformat": 4,
 "nbformat_minor": 2
}
