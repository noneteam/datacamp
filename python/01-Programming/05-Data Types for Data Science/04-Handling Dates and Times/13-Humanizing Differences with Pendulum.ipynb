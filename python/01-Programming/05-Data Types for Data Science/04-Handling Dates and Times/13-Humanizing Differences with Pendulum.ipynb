{
 "cells": [
  {
   "cell_type": "markdown",
   "metadata": {},
   "source": [
    "# Humanizing Differences with Pendulum"
   ]
  },
  {
   "cell_type": "markdown",
   "metadata": {},
   "source": [
    "#### EXERCISE:\n",
    "Pendulum provides a powerful way to convert strings to <code>pendulum</code> <code>datetime</code> objects via\n",
    "the <code>.parse()</code> method.  Just pass it a date string and it will attempt to convert into \n",
    "a valid <code>pendulum</code> <code>datetime</code>. By default, <code>.parse()</code> can process dates in ISO 8601 format. To allow it to parse other date formats, pass <code>strict = False</code>.\n",
    "\n",
    "It also has a wonderful alternative to <code>timedelta</code>. When calculating the difference between two dates by subtraction, <code>pendulum</code> provides \n",
    "methods such as <code>.in_days()</code> to output the difference in a chosen metric. These are just the beginning \n",
    "of what pendulum can do for you.\n",
    "\n",
    "A list of tuples called <code>date_ranges</code> is provided for you. This is the same list of tuples\n",
    "that contain two dates that was used a few exercises prior. You'll be focusing on \n",
    "comparing ranges of records.\n",
    "\n",
    "You can learn more in the <a href=\"https://pendulum.eustace.io/docs/\" target=\"_blank\">pendulum documentation</a>. Here, it has been imported for you."
   ]
  },
  {
   "cell_type": "markdown",
   "metadata": {},
   "source": [
    "#### INSTRUCTIONS:\n",
    "* Iterate over the <code>date_ranges</code> list, unpacking it into <code>start_date</code> and <code>end_date</code>. These dates are not in ISO 8601 format.\n",
    "* Use <code>pendulum</code> to convert the <code>start_date</code> string to a <code>pendulum</code> date called <code>start_dt</code>.\n",
    "* Use <code>pendulum</code> to convert the <code>end_date</code> string to <code>pendulum</code> date called <code>end_dt</code>.\n",
    "* Calculate the difference between <code>end_dt</code> and <code>start_dt</code>. Store the result as <code>diff_period</code>.\n",
    "* Print the difference in days, using the <code>.in_days()</code> method."
   ]
  },
  {
   "cell_type": "markdown",
   "metadata": {},
   "source": [
    "#### SCRIPT.PY:"
   ]
  },
  {
   "cell_type": "code",
   "execution_count": null,
   "metadata": {},
   "outputs": [],
   "source": [
    "# Iterate over date_ranges\n",
    "for ____, ____ in ____:\n",
    "\n",
    "    # Convert the start_date string to a pendulum date: start_dt \n",
    "    start_dt = ____\n",
    "    \n",
    "    # Convert the end_date string to a pendulum date: end_dt \n",
    "    end_dt = ____\n",
    "    \n",
    "    # Print the End and Start Date\n",
    "    print(end_dt, start_dt)\n",
    "    \n",
    "    # Calculate the difference between end_dt and start_dt: diff_period\n",
    "    diff_period = ____ - ____\n",
    "    \n",
    "    # Print the difference in days\n",
    "    ____"
   ]
  }
 ],
 "metadata": {
  "kernelspec": {
   "display_name": "Python 3",
   "language": "python",
   "name": "python3"
  },
  "language_info": {
   "codemirror_mode": {
    "name": "ipython",
    "version": 3
   },
   "file_extension": ".py",
   "mimetype": "text/x-python",
   "name": "python",
   "nbconvert_exporter": "python",
   "pygments_lexer": "ipython3",
   "version": "3.6.7"
  }
 },
 "nbformat": 4,
 "nbformat_minor": 2
}
