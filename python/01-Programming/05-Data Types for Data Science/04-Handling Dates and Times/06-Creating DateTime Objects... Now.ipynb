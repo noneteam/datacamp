{
 "cells": [
  {
   "cell_type": "markdown",
   "metadata": {},
   "source": [
    "# Creating DateTime Objects... Now"
   ]
  },
  {
   "cell_type": "markdown",
   "metadata": {},
   "source": [
    "#### EXERCISE:\n",
    "Often when working with <code>datetime</code> objects, you'll want to work on windows or ranges that start from\n",
    "the current date and time.  You can do this using the <code>datetime</code> now functions. There is a <code>.now()</code> \n",
    "method on the <code>datetime</code> object in the <code>datetime</code> module and a <code>.utcnow()</code> method. The <code>.now()</code> method\n",
    "returns the current local time on the machine on which it is run, and <code>.utcnow()</code> does the same\n",
    "thing but returns the value in UTC time. You'll need to be very familiar with these methods.\n",
    "\n",
    "No dataset is used in this exercise, but bear with us as you'll need to do this often\n",
    "to compare year/month-to-date etc."
   ]
  },
  {
   "cell_type": "markdown",
   "metadata": {},
   "source": [
    "#### INSTRUCTIONS:\n",
    "* Import <code>datetime</code> from the <code>datetime</code> module.\n",
    "* Store the local datetime as <code>local_dt</code> and print it.\n",
    "* Store the UTC datetime as <code>utc_dt</code> and print it."
   ]
  },
  {
   "cell_type": "markdown",
   "metadata": {},
   "source": [
    "#### SCRIPT.PY:"
   ]
  },
  {
   "cell_type": "code",
   "execution_count": null,
   "metadata": {},
   "outputs": [],
   "source": [
    "# Import datetime from the datetime module\n",
    "____\n",
    "\n",
    "# Compute the local datetime: local_dt\n",
    "local_dt = ____\n",
    "\n",
    "# Print the local datetime\n",
    "print(local_dt)\n",
    "\n",
    "# Compute the UTC datetime: utc_dt\n",
    "utc_dt = ____\n",
    "\n",
    "# Print the UTC datetime\n",
    "print(utc_dt)"
   ]
  }
 ],
 "metadata": {
  "kernelspec": {
   "display_name": "Python 3",
   "language": "python",
   "name": "python3"
  },
  "language_info": {
   "codemirror_mode": {
    "name": "ipython",
    "version": 3
   },
   "file_extension": ".py",
   "mimetype": "text/x-python",
   "name": "python",
   "nbconvert_exporter": "python",
   "pygments_lexer": "ipython3",
   "version": "3.6.7"
  }
 },
 "nbformat": 4,
 "nbformat_minor": 2
}
