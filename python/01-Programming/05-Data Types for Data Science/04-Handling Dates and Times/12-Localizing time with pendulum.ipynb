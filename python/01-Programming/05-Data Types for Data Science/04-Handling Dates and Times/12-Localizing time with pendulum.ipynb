{
 "cells": [
  {
   "cell_type": "markdown",
   "metadata": {},
   "source": [
    "# Localizing time with pendulum"
   ]
  },
  {
   "cell_type": "markdown",
   "metadata": {},
   "source": [
    "#### EXERCISE:\n",
    "Here, you're going to use <code>pendulum</code> to practice doing some common datetime operations!"
   ]
  },
  {
   "cell_type": "markdown",
   "metadata": {},
   "source": [
    "#### INSTRUCTIONS:\n",
    "* Import the <code>pendulum</code> module.\n",
    "* Create a now datetime for Tokyo (<code>'Asia/Tokyo'</code>) called <code>tokyo_dt</code>.\n",
    "* Covert <code>tokyo_dt</code> to Los Angeles time (<code>'America/Los_Angeles'</code>). Store the result as <code>la_dt</code>.\n",
    "* Print the ISO 8601 string of <code>la_dt</code>, using the <code>.to_iso8601_string()</code> method."
   ]
  },
  {
   "cell_type": "markdown",
   "metadata": {},
   "source": [
    "#### SCRIPT.PY:"
   ]
  },
  {
   "cell_type": "code",
   "execution_count": null,
   "metadata": {},
   "outputs": [],
   "source": [
    "# Import the pendulum module\n",
    "____\n",
    "\n",
    "# Create a now datetime for Tokyo: tokyo_dt\n",
    "tokyo_dt = ____\n",
    "\n",
    "# Covert the tokyo_dt to Los Angeles: la_dt\n",
    "la_dt = ____\n",
    "\n",
    "# Print the ISO 8601 string of la_dt\n",
    "print(____)"
   ]
  }
 ],
 "metadata": {
  "kernelspec": {
   "display_name": "Python 3",
   "language": "python",
   "name": "python3"
  },
  "language_info": {
   "codemirror_mode": {
    "name": "ipython",
    "version": 3
   },
   "file_extension": ".py",
   "mimetype": "text/x-python",
   "name": "python",
   "nbconvert_exporter": "python",
   "pygments_lexer": "ipython3",
   "version": "3.6.7"
  }
 },
 "nbformat": 4,
 "nbformat_minor": 2
}
