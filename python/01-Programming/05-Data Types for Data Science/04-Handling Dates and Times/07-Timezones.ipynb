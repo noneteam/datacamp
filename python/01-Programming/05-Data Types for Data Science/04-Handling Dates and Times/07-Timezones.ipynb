{
 "cells": [
  {
   "cell_type": "markdown",
   "metadata": {},
   "source": [
    "# Timezones"
   ]
  },
  {
   "cell_type": "markdown",
   "metadata": {},
   "source": [
    "#### EXERCISE:\n",
    "In order to work effectively with other timezones, you can use the <code>pytz</code> library. To use timezones, \n",
    "you need to import the <code>timezone</code> object from the <code>pytz</code> module. Then you can use the <code>timezone</code> \n",
    "constructor and pass it a name of a timezone, such as <code>CT = timezone('US/Central')</code>. You can get \n",
    "a full list of timezone names at \n",
    "<a href=\"https://en.wikipedia.org/wiki/List_of_tz_database_time_zones\" target=\"_blank\">Wikipedia</a>. In Python 3, \n",
    "you can make a datetime object \"aware\" by passing a timezone as the <code>tzinfo</code> keyword argument \n",
    "to the <code>.replace()</code> method on a datetime instance.\n",
    "\n",
    "An \"aware\" datetime object has an <code>.astimezone()</code> method that accepts a timezone object and returns\n",
    "a new datetime object in the desired timezone. If the tzinfo is not set for the datetime object it \n",
    "assumes the timezone of the computer you are working on.\n",
    "\n",
    "A list, <code>daily_summaries</code>, has been supplied for you it contains the <code>datetime</code> and rail ridership for \n",
    "trains going to New York. You need to determine the time in New York so you can align it with the New York\n",
    "Transit Authority data."
   ]
  },
  {
   "cell_type": "markdown",
   "metadata": {},
   "source": [
    "#### INSTRUCTIONS:\n",
    "* Create a Timezone object for Chicago (<code>'US/Central'</code>) called <code>chicago_usa_tz</code>.\n",
    "* Create a Timezone object for New York (<code>'US/Eastern'</code>) called <code>ny_usa_tz</code>.\n",
    "* Iterate over the <code>daily_summaries</code>, unpacking it into the variables <code>orig_dt</code> and <code>ridership</code>.\n",
    " * Make the <code>orig_dt</code> timezone \"aware\" for Chicago, using <code>chicago_usa_tz</code>. Store the result in <code>chicago_dt</code>.\n",
    " * Convert <code>chicago_dt</code> to the New York timezone, <code>ny_dt</code>.\n",
    " * Print the <code>chicago_dt</code>, <code>ny_dt</code>, and <code>ridership</code>."
   ]
  },
  {
   "cell_type": "markdown",
   "metadata": {},
   "source": [
    "#### SCRIPT.PY:"
   ]
  },
  {
   "cell_type": "code",
   "execution_count": null,
   "metadata": {},
   "outputs": [],
   "source": [
    "# Create a Timezone object for Chicago\n",
    "chicago_usa_tz = ____\n",
    "\n",
    "# Create a Timezone object for New York\n",
    "ny_usa_tz = ____\n",
    "\n",
    "# Iterate over the daily_summaries list\n",
    "for ____, ____ in ____:\n",
    "\n",
    "    # Make the orig_dt timezone \"aware\" for Chicago\n",
    "    chicago_dt = ____\n",
    "    \n",
    "    # Convert chicago_dt to the New York Timezone\n",
    "    ny_dt = ____\n",
    "    \n",
    "    # Print the chicago_dt, ny_dt, and ridership\n",
    "    print('Chicago: %s, NY: %s, Ridership: %s' % (chicago_dt, ny_dt, ridership))"
   ]
  }
 ],
 "metadata": {
  "kernelspec": {
   "display_name": "Python 3",
   "language": "python",
   "name": "python3"
  },
  "language_info": {
   "codemirror_mode": {
    "name": "ipython",
    "version": 3
   },
   "file_extension": ".py",
   "mimetype": "text/x-python",
   "name": "python",
   "nbconvert_exporter": "python",
   "pygments_lexer": "ipython3",
   "version": "3.6.7"
  }
 },
 "nbformat": 4,
 "nbformat_minor": 2
}
