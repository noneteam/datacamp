{
 "cells": [
  {
   "cell_type": "markdown",
   "metadata": {},
   "source": [
    "# Pieces of Time"
   ]
  },
  {
   "cell_type": "markdown",
   "metadata": {},
   "source": [
    "#### EXERCISE:\n",
    "When working with datetime objects, you'll often want to group them by some \n",
    "component of the datetime such as the month, year, day, etc. Each of these\n",
    "are available as attributes on an instance of a <code>datetime</code> object.\n",
    "\n",
    "You're going to work with the summary of the CTA's daily ridership. It contains \n",
    "the following columns, in order: <code>service_date</code>, <code>day_type</code>, <code>bus</code>, <code>rail_boardings</code>, \n",
    "and <code>total_rides</code>. The modules <code>defaultdict</code> and <code>datetime</code> have already been imported for you."
   ]
  },
  {
   "cell_type": "markdown",
   "metadata": {},
   "source": [
    "#### INSTRUCTIONS:\n",
    "* Create a <code>defaultdict</code> of an integer called <code>monthly_total_rides</code>.\n",
    "* Loop over the list <code>daily_summaries</code>, which contains the columns mentioned above in the assignment text.\n",
    " * Convert the <code>service_date</code> (1st element of <code>daily_summary</code>) to a <code>datetime</code> object called <code>service_datetime</code>. Use <code>'%m/%d/%Y'</code> as your format string.\n",
    " * Use the <code>month</code> of the <code>service_datetime</code> as the dict key and add the <code>total_rides</code> (5th element of <code>daily_summary</code>) to the current amount for the month. Be sure to convert this into an integer.\n",
    "* Print <code>monthly_total_rides</code>."
   ]
  },
  {
   "cell_type": "markdown",
   "metadata": {},
   "source": [
    "#### SCRIPT.PY:"
   ]
  },
  {
   "cell_type": "code",
   "execution_count": null,
   "metadata": {},
   "outputs": [],
   "source": [
    "# Create a defaultdict of an integer: monthly_total_rides\n",
    "monthly_total_rides = ____\n",
    "\n",
    "# Loop over the list daily_summaries\n",
    "for daily_summary in daily_summaries:\n",
    "    # Convert the service_date to a datetime object\n",
    "    service_datetime = ____\n",
    "\n",
    "    # Add the total rides to the current amount for the month\n",
    "    monthly_total_rides[____] += int(____)\n",
    "    \n",
    "# Print monthly_total_rides\n",
    "print(monthly_total_rides)"
   ]
  }
 ],
 "metadata": {
  "kernelspec": {
   "display_name": "Python 3",
   "language": "python",
   "name": "python3"
  },
  "language_info": {
   "codemirror_mode": {
    "name": "ipython",
    "version": 3
   },
   "file_extension": ".py",
   "mimetype": "text/x-python",
   "name": "python",
   "nbconvert_exporter": "python",
   "pygments_lexer": "ipython3",
   "version": "3.6.7"
  }
 },
 "nbformat": 4,
 "nbformat_minor": 2
}
