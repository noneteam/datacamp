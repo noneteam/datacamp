{
 "cells": [
  {
   "cell_type": "markdown",
   "metadata": {},
   "source": [
    "# Converting to a String"
   ]
  },
  {
   "cell_type": "markdown",
   "metadata": {},
   "source": [
    "#### EXERCISE:\n",
    "Converting from a datetime object to a string is done with \n",
    "the <code>.strftime()</code> method on a instance of the datetime object. You pass a format\n",
    "string just like the ones used in the prior exercise.\n",
    "\n",
    "There is also a widely \n",
    "used string output standard called ISO-8601. It has a shortcut method named <code>.isoformat()</code>. \n",
    "I encourage you to use it anytime you write out to a file.\n",
    "\n",
    "All the datetimes you created for the transit data in the prior exercise are saved in the \n",
    "<code>datetimes_list</code>."
   ]
  },
  {
   "cell_type": "markdown",
   "metadata": {},
   "source": [
    "#### INSTRUCTIONS:\n",
    "* Loop over the first 10 items of the <code>datetimes_list</code>, using <code>item</code> as your iterator variable.\n",
    " * Print out the <code>item</code> as a string in the format of <code>'MM/DD/YYYY'</code>. For this, the format string is <code>'%m/%d/%Y'</code>.\n",
    " * Print out the <code>item</code> as an ISO standard string."
   ]
  },
  {
   "cell_type": "markdown",
   "metadata": {},
   "source": [
    "#### SCRIPT.PY:"
   ]
  },
  {
   "cell_type": "code",
   "execution_count": null,
   "metadata": {},
   "outputs": [],
   "source": [
    "# Loop over the first 10 items of the datetimes_list\n",
    "for item in datetimes_list[:10]:\n",
    "    # Print out the record as a string in the format of 'MM/DD/YYYY'\n",
    "    print(____)\n",
    "    \n",
    "    # Print out the record as an ISO standard string\n",
    "    print(____)"
   ]
  }
 ],
 "metadata": {
  "kernelspec": {
   "display_name": "Python 3",
   "language": "python",
   "name": "python3"
  },
  "language_info": {
   "codemirror_mode": {
    "name": "ipython",
    "version": 3
   },
   "file_extension": ".py",
   "mimetype": "text/x-python",
   "name": "python",
   "nbconvert_exporter": "python",
   "pygments_lexer": "ipython3",
   "version": "3.6.7"
  }
 },
 "nbformat": 4,
 "nbformat_minor": 2
}
