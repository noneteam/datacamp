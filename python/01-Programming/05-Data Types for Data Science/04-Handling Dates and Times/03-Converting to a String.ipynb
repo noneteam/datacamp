{
 "cells": [
  {
   "cell_type": "markdown",
   "metadata": {},
   "source": [
    "# Converting to a String"
   ]
  },
  {
   "cell_type": "markdown",
   "metadata": {},
   "source": [
    "#### EXERCISE:\n",
    "Converting from a datetime object to a string is done with \n",
    "the <code>.strftime()</code> method on a instance of the datetime object. You pass a format\n",
    "string just like the ones used in the prior exercise.\n",
    "\n",
    "There is also a widely \n",
    "used string output standard called ISO-8601. It has a shortcut method named <code>.isoformat()</code>. \n",
    "I encourage you to use it anytime you write out to a file.\n",
    "\n",
    "All the datetimes you created for the transit data in the prior exercise are saved in the \n",
    "<code>datetimes_list</code>."
   ]
  },
  {
   "cell_type": "markdown",
   "metadata": {},
   "source": [
    "#### INSTRUCTIONS:\n",
    "* Loop over the first 10 items of the <code>datetimes_list</code>, using <code>item</code> as your iterator variable.\n",
    " * Print out the <code>item</code> as a string in the format of <code>'MM/DD/YYYY'</code>. For this, the format string is <code>'%m/%d/%Y'</code>.\n",
    " * Print out the <code>item</code> as an ISO standard string."
   ]
  },
  {
   "cell_type": "markdown",
   "metadata": {},
   "source": [
    "#### SCRIPT.PY:"
   ]
  },
  {
   "cell_type": "code",
   "execution_count": 11,
   "metadata": {},
   "outputs": [
    {
     "name": "stdout",
     "output_type": "stream",
     "text": [
      "02/19/2001\n",
      "2001-02-19T00:00:00\n",
      "04/10/2001\n",
      "2001-04-10T00:00:00\n",
      "05/30/2001\n",
      "2001-05-30T00:00:00\n",
      "07/19/2001\n",
      "2001-07-19T00:00:00\n",
      "09/07/2001\n",
      "2001-09-07T00:00:00\n",
      "10/27/2001\n",
      "2001-10-27T00:00:00\n",
      "12/16/2001\n",
      "2001-12-16T00:00:00\n",
      "02/04/2002\n",
      "2002-02-04T00:00:00\n",
      "03/26/2002\n",
      "2002-03-26T00:00:00\n",
      "05/15/2002\n",
      "2002-05-15T00:00:00\n"
     ]
    }
   ],
   "source": [
    "from datetime import datetime\n",
    "datetimes_list = list(map(lambda item: datetime.strptime(item, \"%m/%d/%Y\"), ['02/19/2001', '04/10/2001', '05/30/2001', '07/19/2001', '09/07/2001', '10/27/2001', '12/16/2001', '02/04/2002', '03/26/2002', '05/15/2002', '07/04/2002', '08/23/2002', '10/12/2002', '12/01/2002', '01/20/2003', '03/11/2003', '04/30/2003', '06/19/2003', '08/08/2003', '09/27/2003', '11/16/2003', '01/05/2004', '02/24/2004', '04/14/2004', '06/03/2004', '07/23/2004', '09/11/2004', '10/31/2004', '12/20/2004', '02/08/2005', '03/30/2005', '05/19/2005', '07/08/2005', '08/27/2005', '10/16/2005', '12/05/2005', '01/24/2006', '03/15/2006', '05/04/2006', '06/23/2006', '08/12/2006', '10/01/2006', '11/20/2006', '01/09/2007', '02/28/2007', '04/19/2007', '06/08/2007', '07/28/2007', '09/16/2007', '11/05/2007', '12/25/2007', '02/13/2008', '04/03/2008', '05/23/2008', '07/12/2008', '08/31/2008', '10/20/2008', '12/09/2008', '01/28/2009', '03/19/2009', '05/08/2009', '06/27/2009', '08/16/2009', '10/05/2009', '11/24/2009', '01/13/2010', '03/04/2010', '04/23/2010', '06/12/2010', '08/01/2010', '09/20/2010', '11/09/2010', '12/29/2010', '02/17/2011', '04/08/2011', '05/28/2011', '07/17/2011', '09/05/2011', '10/24/2011', '11/12/2011', '01/01/2012', '02/20/2012', '04/10/2012', '05/30/2012', '07/19/2012', '09/07/2012', '10/27/2012', '12/16/2012', '02/04/2013', '03/26/2013', '05/15/2013', '07/04/2013', '08/23/2013', '10/12/2013', '12/01/2013', '01/20/2014', '03/11/2014', '04/30/2014', '06/19/2014', '08/08/2014', '09/27/2014', '11/16/2014', '07/05/2014', '01/24/2015', '03/15/2015', '05/04/2015', '06/23/2015', '08/12/2015', '10/01/2015', '11/20/2015', '01/09/2016', '02/28/2016', '04/18/2016', '06/07/2016', '07/27/2016', '09/15/2016', '11/04/2016']))\n",
    "# Loop over the first 10 items of the datetimes_list\n",
    "for item in datetimes_list[:10]:\n",
    "    # Print out the record as a string in the format of 'MM/DD/YYYY'\n",
    "    print(datetime.strftime(item, format=\"%m/%d/%Y\"))\n",
    "    \n",
    "    # Print out the record as an ISO standard string\n",
    "    print(datetime.isoformat(item))"
   ]
  }
 ],
 "metadata": {
  "kernelspec": {
   "display_name": "Python 3",
   "language": "python",
   "name": "python3"
  },
  "language_info": {
   "codemirror_mode": {
    "name": "ipython",
    "version": 3
   },
   "file_extension": ".py",
   "mimetype": "text/x-python",
   "name": "python",
   "nbconvert_exporter": "python",
   "pygments_lexer": "ipython3",
   "version": "3.6.7"
  }
 },
 "nbformat": 4,
 "nbformat_minor": 2
}
