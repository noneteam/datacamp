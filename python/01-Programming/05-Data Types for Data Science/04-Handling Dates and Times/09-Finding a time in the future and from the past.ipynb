{
 "cells": [
  {
   "cell_type": "markdown",
   "metadata": {},
   "source": [
    "# Finding a time in the future and from the past"
   ]
  },
  {
   "cell_type": "markdown",
   "metadata": {},
   "source": [
    "#### EXERCISE:\n",
    "Another common case when working with times is to get a date 30, 60, or 90 days in the past\n",
    "from some date. In Python, the <code>timedelta</code> object from the <code>datetime</code> module is used to represent\n",
    "differences in <code>datetime</code> objects. You can create a <code>timedelta</code> by passing any number of keyword\n",
    "arguments such as days, seconds, microseconds, milliseconds, minutes, hours, and weeks to <code>timedelta()</code>.\n",
    "\n",
    "Once you have a timedelta object, you can add or subtract it from a <code>datetime</code> object to get a \n",
    "<code>datetime</code> object relative to the original <code>datetime</code> object.\n",
    "\n",
    "A dictionary, <code>daily_summaries</code>, has been supplied for you. It contains the <code>datetime</code> as the key with \n",
    "a dict as the value that has <code>'day_type'</code> and <code>'total_ridership'</code> keys. A list of <code>datetime</code>s to review called\n",
    "<code>review_dates</code> is also available."
   ]
  },
  {
   "cell_type": "markdown",
   "metadata": {},
   "source": [
    "#### INSTRUCTIONS:\n",
    "* Import <code>timedelta</code> from the <code>datetime</code> module.* Build a <code>timedelta</code> of 30 days called <code>glanceback</code> using <code>timedelta()</code>.\n",
    "* Iterate over the <code>review_dates</code>, using <code>date</code> as your iterator variable.\n",
    " * Calculate the date 30 days back by subtracting <code>glanceback</code> from <code>date</code>.\n",
    " * Print the <code>date</code>, along with <code>'day_type'</code> and <code>'total_ridership'</code> from <code>daily_summaries</code> for that <code>date</code>.\n",
    " * Print the <code>prior_period_dt</code>, along with <code>'day_type'</code> and <code>'total_ridership'</code> from <code>daily_summaries</code> for that <code>date</code> (<code>prior_period_dt</code>)."
   ]
  },
  {
   "cell_type": "markdown",
   "metadata": {},
   "source": [
    "#### SCRIPT.PY:"
   ]
  },
  {
   "cell_type": "code",
   "execution_count": null,
   "metadata": {},
   "outputs": [],
   "source": [
    "# Import timedelta from the datetime module\n",
    "____\n",
    "\n",
    "# Build a timedelta of 30 days: glanceback\n",
    "glanceback = ____\n",
    "\n",
    "# Iterate over the review_dates as date\n",
    "for ____ in ____:\n",
    "    # Calculate the date 30 days back: prior_period_dt\n",
    "    prior_period_dt = ____ - ____\n",
    "    \n",
    "    # Print the review_date, day_type and total_ridership\n",
    "    print('Date: %s, Type: %s, Total Ridership: %s' %\n",
    "         (____, \n",
    "          ____[____]['____'], \n",
    "          ____[____]['____']))\n",
    "\n",
    "    # Print the prior_period_dt, day_type and total_ridership\n",
    "    print('Date: %s, Type: %s, Total Ridership: %s' %\n",
    "         (____, \n",
    "          ____, \n",
    "          ____))"
   ]
  }
 ],
 "metadata": {
  "kernelspec": {
   "display_name": "Python 3",
   "language": "python",
   "name": "python3"
  },
  "language_info": {
   "codemirror_mode": {
    "name": "ipython",
    "version": 3
   },
   "file_extension": ".py",
   "mimetype": "text/x-python",
   "name": "python",
   "nbconvert_exporter": "python",
   "pygments_lexer": "ipython3",
   "version": "3.6.7"
  }
 },
 "nbformat": 4,
 "nbformat_minor": 2
}
