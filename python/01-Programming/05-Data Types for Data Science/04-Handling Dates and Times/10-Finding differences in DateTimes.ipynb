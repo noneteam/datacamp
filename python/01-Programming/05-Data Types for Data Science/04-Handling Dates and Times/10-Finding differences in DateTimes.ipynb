{
 "cells": [
  {
   "cell_type": "markdown",
   "metadata": {},
   "source": [
    "# Finding differences in DateTimes"
   ]
  },
  {
   "cell_type": "markdown",
   "metadata": {},
   "source": [
    "#### EXERCISE:\n",
    "Just like you were able to subtract a <code>timedelta</code> from a <code>datetime</code> to find a date\n",
    "in the past, you can also calculate the difference between two dates to get the \n",
    "<code>timedelta</code> between in return. Here, you'll find out how much time has elapsed between \n",
    "two transit dates.\n",
    "\n",
    "A list of tuples called <code>date_ranges</code> is provided for you. We took the dates from our \n",
    "dataset at every 30th record, and we paired up the records into tuples in a \n",
    "stepwise fashion."
   ]
  },
  {
   "cell_type": "markdown",
   "metadata": {},
   "source": [
    "#### INSTRUCTIONS:\n",
    "* Iterate over <code>date_ranges</code>, unpacking it into <code>start_date</code> and <code>end_date</code>.\n",
    " * Print the <code>end_date</code> and <code>start_date</code> using the same <code>print()</code> function.\n",
    " * Print the difference between each <code>end_date</code> and <code>start_date</code>."
   ]
  },
  {
   "cell_type": "markdown",
   "metadata": {},
   "source": [
    "#### SCRIPT.PY:"
   ]
  },
  {
   "cell_type": "code",
   "execution_count": null,
   "metadata": {},
   "outputs": [],
   "source": [
    "# Iterate over the date_ranges\n",
    "for ____, ____ in ____:\n",
    "    # Print the End and Start Date\n",
    "    print(____, ____)\n",
    "    # Print the difference between each end and start date\n",
    "    ____\n"
   ]
  }
 ],
 "metadata": {
  "kernelspec": {
   "display_name": "Python 3",
   "language": "python",
   "name": "python3"
  },
  "language_info": {
   "codemirror_mode": {
    "name": "ipython",
    "version": 3
   },
   "file_extension": ".py",
   "mimetype": "text/x-python",
   "name": "python",
   "nbconvert_exporter": "python",
   "pygments_lexer": "ipython3",
   "version": "3.6.7"
  }
 },
 "nbformat": 4,
 "nbformat_minor": 2
}
