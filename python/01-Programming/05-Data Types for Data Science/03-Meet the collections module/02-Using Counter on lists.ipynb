{
 "cells": [
  {
   "cell_type": "markdown",
   "metadata": {},
   "source": [
    "# Using Counter on lists"
   ]
  },
  {
   "cell_type": "markdown",
   "metadata": {},
   "source": [
    "#### EXERCISE:\n",
    "<code>Counter</code> is a powerful tool for counting, validating, and learning more about \n",
    "the elements within a dataset that is found in the <code>collections</code> module. You \n",
    "pass an iterable (list, set, tuple) or a dictionary to the <code>Counter</code>. You can\n",
    "also use the <code>Counter</code> object similarly to a dictionary with key/value assignment,\n",
    "for example <code>counter[key] = value</code>.\n",
    "\n",
    "A common usage for <code>Counter</code> is checking data for consistency prior to using it, so let's do just that. \n",
    "In this exercise, you'll be using data from the Chicago Transit Authority on ridership."
   ]
  },
  {
   "cell_type": "markdown",
   "metadata": {},
   "source": [
    "#### INSTRUCTIONS:\n",
    "* Import the <code>Counter</code> object from <code>collections</code>.\n",
    "* Print the first ten items from the <code>stations</code> list.\n",
    "* Create a <code>Counter</code> of the <code>stations</code> list called <code>station_count</code>.\n",
    "* Print the <code>station_count</code>."
   ]
  },
  {
   "cell_type": "markdown",
   "metadata": {},
   "source": [
    "#### SCRIPT.PY:"
   ]
  },
  {
   "cell_type": "code",
   "execution_count": null,
   "metadata": {},
   "outputs": [],
   "source": [
    "# Import the Counter object\n",
    "____\n",
    "\n",
    "# Print the first ten items from the stations list\n",
    "____\n",
    "\n",
    "# Create a Counter of the stations list: station_count\n",
    "station_count = ____\n",
    "\n",
    "# Print the station_count\n",
    "____\n"
   ]
  }
 ],
 "metadata": {
  "kernelspec": {
   "display_name": "Python 3",
   "language": "python",
   "name": "python3"
  },
  "language_info": {
   "codemirror_mode": {
    "name": "ipython",
    "version": 3
   },
   "file_extension": ".py",
   "mimetype": "text/x-python",
   "name": "python",
   "nbconvert_exporter": "python",
   "pygments_lexer": "ipython3",
   "version": "3.6.7"
  }
 },
 "nbformat": 4,
 "nbformat_minor": 2
}
