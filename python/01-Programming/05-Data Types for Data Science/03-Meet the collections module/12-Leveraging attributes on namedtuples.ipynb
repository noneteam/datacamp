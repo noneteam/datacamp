{
 "cells": [
  {
   "cell_type": "markdown",
   "metadata": {},
   "source": [
    "# Leveraging attributes on namedtuples"
   ]
  },
  {
   "cell_type": "markdown",
   "metadata": {},
   "source": [
    "#### EXERCISE:\n",
    "Once you have a namedtuple, you can write more expressive code that is easier to understand. Remember,\n",
    "you can access the elements in the tuple by their name as an attribute. For example, you can access the\n",
    "date of the namedtuples in the previous exercise using the <code>.date</code> attribute.\n",
    "\n",
    "Here, you'll use the tuples you made in the previous exercise to see how this works."
   ]
  },
  {
   "cell_type": "markdown",
   "metadata": {},
   "source": [
    "#### INSTRUCTIONS:\n",
    "* Iterate over the first twenty <code>item</code>s in the <code>labeled_entries</code> list.\n",
    " * Print each <code>item</code>'s <code>stop</code>.\n",
    " * Print each <code>item</code>'s <code>date</code>.\n",
    " * Print each <code>item</code>'s <code>riders</code>."
   ]
  },
  {
   "cell_type": "markdown",
   "metadata": {},
   "source": [
    "#### SCRIPT.PY:"
   ]
  },
  {
   "cell_type": "code",
   "execution_count": null,
   "metadata": {},
   "outputs": [],
   "source": [
    "# Iterate over the first twenty items in labeled_entries\n",
    "for ____ in ____:\n",
    "    # Print each item's stop\n",
    "    ____\n",
    "\n",
    "    # Print each item's date\n",
    "    ____\n",
    "\n",
    "    # Print each item's riders\n",
    "    ____\n",
    "    "
   ]
  }
 ],
 "metadata": {
  "kernelspec": {
   "display_name": "Python 3",
   "language": "python",
   "name": "python3"
  },
  "language_info": {
   "codemirror_mode": {
    "name": "ipython",
    "version": 3
   },
   "file_extension": ".py",
   "mimetype": "text/x-python",
   "name": "python",
   "nbconvert_exporter": "python",
   "pygments_lexer": "ipython3",
   "version": "3.6.7"
  }
 },
 "nbformat": 4,
 "nbformat_minor": 2
}
