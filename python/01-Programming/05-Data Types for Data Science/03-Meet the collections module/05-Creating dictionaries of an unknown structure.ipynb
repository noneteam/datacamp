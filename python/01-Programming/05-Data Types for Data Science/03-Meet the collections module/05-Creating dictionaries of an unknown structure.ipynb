{
 "cells": [
  {
   "cell_type": "markdown",
   "metadata": {},
   "source": [
    "# Creating dictionaries of an unknown structure"
   ]
  },
  {
   "cell_type": "markdown",
   "metadata": {},
   "source": [
    "#### EXERCISE:\n",
    "Occasionally, you'll need a structure to hold nested data, and you may not be certain that the keys will all actually exist. This can be an issue if you're trying to append items to a list for that key. You might remember the NYC data that we explored in the video. In order to solve the problem with a regular dictionary, you'll need to test that the key exists in the dictionary, and if not, add it with an empty list.\n",
    "\n",
    "You'll be working with a list of entries that contains ridership details on the Chicago transit system. You're going to solve this same type of problem with a much easier solution in the next exercise."
   ]
  },
  {
   "cell_type": "markdown",
   "metadata": {},
   "source": [
    "#### INSTRUCTIONS:\n",
    "* Create an empty dictionary called <code>ridership</code>.\n",
    "* Iterate over <code>entries</code>, unpacking it into the variables <code>date</code>, <code>stop</code>, and <code>riders</code>.\n",
    "* Check to see if the date already exists in the ridership dictionary. If it <strong>does</strong> <strong>not</strong> exist, create an empty list for the date key.\n",
    "* Append a tuple consisting of <code>stop</code> and <code>riders</code> to the <code>date</code> key of the <code>ridership</code> dictionary.\n",
    "* Print the ridership for <code>'03/09/2016'</code>."
   ]
  },
  {
   "cell_type": "markdown",
   "metadata": {},
   "source": [
    "#### SCRIPT.PY:"
   ]
  },
  {
   "cell_type": "code",
   "execution_count": null,
   "metadata": {},
   "outputs": [],
   "source": [
    "# Create an empty dictionary: ridership\n",
    "ridership = ____\n",
    "\n",
    "# Iterate over the entries\n",
    "for ____, ____, ____ in ____:\n",
    "    # Check to see if date is already in the dictionary\n",
    "    if ____ not in ____:\n",
    "        # Create an empty list for any missing date\n",
    "        ridership[date] = ____\n",
    "    # Append the stop and riders as a tuple to the date keys list\n",
    "    ridership[date].____\n",
    "    \n",
    "# Print the ridership for '03/09/2016'\n",
    "print(____)"
   ]
  }
 ],
 "metadata": {
  "kernelspec": {
   "display_name": "Python 3",
   "language": "python",
   "name": "python3"
  },
  "language_info": {
   "codemirror_mode": {
    "name": "ipython",
    "version": 3
   },
   "file_extension": ".py",
   "mimetype": "text/x-python",
   "name": "python",
   "nbconvert_exporter": "python",
   "pygments_lexer": "ipython3",
   "version": "3.6.7"
  }
 },
 "nbformat": 4,
 "nbformat_minor": 2
}
