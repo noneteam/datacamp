{
 "cells": [
  {
   "cell_type": "markdown",
   "metadata": {},
   "source": [
    "# Creating namedtuples for storing data"
   ]
  },
  {
   "cell_type": "markdown",
   "metadata": {},
   "source": [
    "#### EXERCISE:\n",
    "Often times when working with data, you will use a dictionary just so you can use\n",
    "key names to make reading the code and accessing the data easier to understand. Python \n",
    "has another container called a <code>namedtuple</code> that is a tuple, but has names for each\n",
    "position of the tuple. You create one by passing a name for the tuple type and a \n",
    "list of field names.\n",
    "\n",
    "For example, <code>Cookie = namedtuple(\"Cookie\", ['name', 'quantity'])</code> will \n",
    "create a container, and you can create new ones of the type using <code>Cookie('chocolate chip', 1)</code>\n",
    "where you can access the name using the <code>name</code> attribute, and then get the quantity using \n",
    "the <code>quantity</code> attribute.\n",
    "\n",
    "In this exercise, you're going to restructure the transit data you've been working with into namedtuples for more descriptive code."
   ]
  },
  {
   "cell_type": "markdown",
   "metadata": {},
   "source": [
    "#### INSTRUCTIONS:\n",
    "* Import <code>namedtuple</code> from <code>collections</code>.\n",
    "* Create a namedtuple called <code>DateDetails</code> with a type name of <code>DateDetails</code> and fields of <code>'date'</code>, <code>'stop'</code>, and <code>'riders'</code>.\n",
    "* Create a list called <code>labeled_entries</code>.\n",
    "* Iterate over <code>entries</code>, unpacking it into <code>date</code>, <code>stop</code>, and <code>riders</code>.\n",
    "* Create a new DateDetails namedtuple instance for each entry and append it to <code>labeled_entries</code>.\n",
    "* Print the first 5 items in <code>labeled_entries</code>. This has been done for you, so hit 'Submit Answer' to see the result!"
   ]
  },
  {
   "cell_type": "markdown",
   "metadata": {},
   "source": [
    "#### SCRIPT.PY:"
   ]
  },
  {
   "cell_type": "code",
   "execution_count": null,
   "metadata": {},
   "outputs": [],
   "source": [
    "# Import namedtuple from collections\n",
    "from collections import namedtuple\n",
    "\n",
    "# Create the namedtuple: DateDetails\n",
    "DateDetails = namedtuple('DateDetails', ['date', 'stop', 'riders'])\n",
    "\n",
    "# Create the empty list: labeled_entries\n",
    "labeled_entries = []\n",
    "\n",
    "# Iterate over the entries\n",
    "for ____, ____, ____ in ____:\n",
    "    # Append a new DateDetails namedtuple instance for each entry to labeled_entries\n",
    "    ____\n",
    "    \n",
    "# Print the first 5 items in labeled_entries\n",
    "print(labeled_entries[:5])\n"
   ]
  }
 ],
 "metadata": {
  "kernelspec": {
   "display_name": "Python 3",
   "language": "python",
   "name": "python3"
  },
  "language_info": {
   "codemirror_mode": {
    "name": "ipython",
    "version": 3
   },
   "file_extension": ".py",
   "mimetype": "text/x-python",
   "name": "python",
   "nbconvert_exporter": "python",
   "pygments_lexer": "ipython3",
   "version": "3.6.7"
  }
 },
 "nbformat": 4,
 "nbformat_minor": 2
}
