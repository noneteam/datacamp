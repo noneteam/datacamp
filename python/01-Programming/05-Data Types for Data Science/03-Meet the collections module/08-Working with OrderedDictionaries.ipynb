{
 "cells": [
  {
   "cell_type": "markdown",
   "metadata": {},
   "source": [
    "# Working with OrderedDictionaries"
   ]
  },
  {
   "cell_type": "markdown",
   "metadata": {},
   "source": [
    "#### EXERCISE:\n",
    "Recently in Python 3.6, dictionaries were made to maintain the order in which \n",
    "the keys were inserted; however, in all versions prior to that you need to \n",
    "use an <code>OrderedDict</code> to maintain insertion order.\n",
    "\n",
    "Let's create a dictionary of all the stop times by route and rider, then use it to find the ridership throughout the day."
   ]
  },
  {
   "cell_type": "markdown",
   "metadata": {},
   "source": [
    "#### INSTRUCTIONS:\n",
    "* Import <code>OrderedDict</code> from <code>collections</code>.\n",
    "* Create an <code>OrderedDict</code> called <code>ridership_date</code>.\n",
    "* Iterate over the list <code>entries</code>, unpacking it into <code>date</code> and <code>riders</code>.\n",
    "* If a key does <strong>not</strong> exist in <code>ridership_date</code> for the <code>date</code>, set it equal to <code>0</code> (if only you could use defaultdict here!)\n",
    "* Add <code>riders</code> to the <code>date</code> key of <code>ridership_date</code>.\n",
    "* Print the first <code>31</code> records. Remember to convert the items into a list."
   ]
  },
  {
   "cell_type": "markdown",
   "metadata": {},
   "source": [
    "#### SCRIPT.PY:"
   ]
  },
  {
   "cell_type": "code",
   "execution_count": null,
   "metadata": {},
   "outputs": [],
   "source": [
    "# Import OrderedDict from collections\n",
    "____\n",
    "\n",
    "# Create an OrderedDict called: ridership_date\n",
    "ridership_date = ____\n",
    "\n",
    "# Iterate over the entries\n",
    "for ____, ____ in ____:\n",
    "    # If a key does not exist in ridership_date, set it to 0\n",
    "    if not ____ in ____:\n",
    "        ____ = 0\n",
    "        \n",
    "    # Add riders to the date key in ridership_date\n",
    "    ____ += ____\n",
    "    \n",
    "# Print the first 31 records\n",
    "____\n"
   ]
  }
 ],
 "metadata": {
  "kernelspec": {
   "display_name": "Python 3",
   "language": "python",
   "name": "python3"
  },
  "language_info": {
   "codemirror_mode": {
    "name": "ipython",
    "version": 3
   },
   "file_extension": ".py",
   "mimetype": "text/x-python",
   "name": "python",
   "nbconvert_exporter": "python",
   "pygments_lexer": "ipython3",
   "version": "3.6.7"
  }
 },
 "nbformat": 4,
 "nbformat_minor": 2
}
