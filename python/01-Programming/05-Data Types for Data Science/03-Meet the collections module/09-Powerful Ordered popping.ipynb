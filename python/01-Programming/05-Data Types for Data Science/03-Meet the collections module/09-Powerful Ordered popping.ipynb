{
 "cells": [
  {
   "cell_type": "markdown",
   "metadata": {},
   "source": [
    "# Powerful Ordered popping"
   ]
  },
  {
   "cell_type": "markdown",
   "metadata": {},
   "source": [
    "#### EXERCISE:\n",
    "Where OrderedDicts really shine is when you need to access the data in\n",
    "the dictionary in the order you added it. OrderedDict has a <code>.popitem()</code>\n",
    "method that will return items in reverse of which they were inserted. You can\n",
    "also pass <code>.popitem()</code> the <code>last=False</code> keyword argument and go through \n",
    "the items in the order of how they were added.\n",
    "\n",
    "Here, you'll use the <code>ridership_date</code> OrderedDict you created in the previous exercise."
   ]
  },
  {
   "cell_type": "markdown",
   "metadata": {},
   "source": [
    "#### INSTRUCTIONS:\n",
    "* Print the first key in <code>ridership_date</code> (Remember to make keys a list before slicing).\n",
    "* Pop the first item from <code>ridership_date</code> and print it.\n",
    "* Print the last key in <code>ridership_date</code>.\n",
    "* Pop the last item from <code>ridership_date</code> and print it."
   ]
  },
  {
   "cell_type": "markdown",
   "metadata": {},
   "source": [
    "#### SCRIPT.PY:"
   ]
  },
  {
   "cell_type": "code",
   "execution_count": null,
   "metadata": {},
   "outputs": [],
   "source": [
    "# Print the first key in ridership_date\n",
    "____\n",
    "\n",
    "# Pop the first item from ridership_date and print it\n",
    "____\n",
    "\n",
    "# Print the last key in ridership_date\n",
    "____\n",
    "\n",
    "# Pop the last item from ridership_date and print it\n",
    "____\n"
   ]
  }
 ],
 "metadata": {
  "kernelspec": {
   "display_name": "Python 3",
   "language": "python",
   "name": "python3"
  },
  "language_info": {
   "codemirror_mode": {
    "name": "ipython",
    "version": 3
   },
   "file_extension": ".py",
   "mimetype": "text/x-python",
   "name": "python",
   "nbconvert_exporter": "python",
   "pygments_lexer": "ipython3",
   "version": "3.6.7"
  }
 },
 "nbformat": 4,
 "nbformat_minor": 2
}
