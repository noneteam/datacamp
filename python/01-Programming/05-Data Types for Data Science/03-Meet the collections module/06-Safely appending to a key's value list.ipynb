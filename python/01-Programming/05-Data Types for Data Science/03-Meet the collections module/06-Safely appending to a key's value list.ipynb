{
 "cells": [
  {
   "cell_type": "markdown",
   "metadata": {},
   "source": [
    "# Safely appending to a key's value list"
   ]
  },
  {
   "cell_type": "markdown",
   "metadata": {},
   "source": [
    "#### EXERCISE:\n",
    "Often when working with dictionaries, you know the data type you want to have each key\n",
    "be; however, some data types such as lists have to be initialized on each key before\n",
    "you can append to that list.\n",
    "\n",
    "A <code>defaultdict</code> allows you to define what each uninitialized \n",
    "key will contain. When establishing a <code>defaultdict</code>, you pass it the type you want it to \n",
    "be, such as a <code>list</code>, <code>tuple</code>, <code>set</code>, <code>int</code>, <code>string</code>, <code>dictionary</code> or any other valid\n",
    "type object."
   ]
  },
  {
   "cell_type": "markdown",
   "metadata": {},
   "source": [
    "#### INSTRUCTIONS:\n",
    "* Import <code>defaultdict</code> from <code>collections</code>.\n",
    "* Create a <code>defaultdict</code> with a default type of <code>list</code> called <code>ridership</code>.\n",
    "* Iterate over the list <code>entries</code>, unpacking it into the variables <code>date</code>, <code>stop</code>, and <code>riders</code>, exactly as you did in the previous exercise.\n",
    " * Use <code>stop</code> as the key of the <code>ridership</code> dictionary and append <code>riders</code> to its value.\n",
    "* Print the first 10 items of the ridership dictionary. You can use the <code>.items()</code> method for this. Remember, you have to convert <code>ridership.items()</code> to a list before slicing."
   ]
  },
  {
   "cell_type": "markdown",
   "metadata": {},
   "source": [
    "#### SCRIPT.PY:"
   ]
  },
  {
   "cell_type": "code",
   "execution_count": null,
   "metadata": {},
   "outputs": [],
   "source": [
    "# Import defaultdict\n",
    "____\n",
    "\n",
    "# Create a defaultdict with a default type of list: ridership\n",
    "ridership = ____\n",
    "\n",
    "# Iterate over the entries\n",
    "for ____, ____, ____ in ____:\n",
    "    # Use the stop as the key of ridership and append the riders to its value\n",
    "    ____\n",
    "    \n",
    "# Print the first 10 items of the ridership dictionary\n",
    "print(____(____)[:10])"
   ]
  }
 ],
 "metadata": {
  "kernelspec": {
   "display_name": "Python 3",
   "language": "python",
   "name": "python3"
  },
  "language_info": {
   "codemirror_mode": {
    "name": "ipython",
    "version": 3
   },
   "file_extension": ".py",
   "mimetype": "text/x-python",
   "name": "python",
   "nbconvert_exporter": "python",
   "pygments_lexer": "ipython3",
   "version": "3.6.7"
  }
 },
 "nbformat": 4,
 "nbformat_minor": 2
}
