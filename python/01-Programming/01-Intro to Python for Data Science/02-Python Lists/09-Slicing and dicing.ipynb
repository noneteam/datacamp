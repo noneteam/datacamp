{
 "cells": [
  {
   "cell_type": "markdown",
   "metadata": {},
   "source": [
    "# Slicing and dicing"
   ]
  },
  {
   "cell_type": "markdown",
   "metadata": {},
   "source": [
    "#### EXERCISE:\n",
    "Selecting single values from a list is just one part of the story. It's also possible to slice your list, which means selecting multiple elements from your list. Use the following syntax:\n",
    "<pre><code>my_list[start:end]\n",
    "</code></pre>\n",
    "The <code>start</code> index will be included, while the <code>end</code> index is not.\n",
    "\n",
    "The code sample below shows an example. A list with <code>\"b\"</code> and <code>\"c\"</code>, corresponding to indexes 1 and 2, are selected from a list <code>x</code>:\n",
    "<pre><code>x = [\"a\", \"b\", \"c\", \"d\"]\n",
    "x[1:3]\n",
    "</code></pre>\n",
    "The elements with index 1 and 2 are included, while the element with index 3 is not."
   ]
  },
  {
   "cell_type": "markdown",
   "metadata": {},
   "source": [
    "#### INSTRUCTIONS:\n",
    "* Use slicing to create a list, <code>downstairs</code>, that contains the first 6 elements of <code>areas</code>.\n",
    "* Do a similar thing to create a new variable, <code>upstairs</code>, that contains the last 4 elements of <code>areas</code>.\n",
    "* Print both <code>downstairs</code> and <code>upstairs</code> using <code>print()</code>."
   ]
  },
  {
   "cell_type": "markdown",
   "metadata": {},
   "source": [
    "#### SCRIPT.PY:"
   ]
  },
  {
   "cell_type": "code",
   "execution_count": null,
   "metadata": {},
   "outputs": [],
   "source": [
    "# Create the areas list\n",
    "areas = [\"hallway\", 11.25, \"kitchen\", 18.0, \"living room\", 20.0, \"bedroom\", 10.75, \"bathroom\", 9.50]\n",
    "\n",
    "# Use slicing to create downstairs\n",
    "\n",
    "\n",
    "# Use slicing to create upstairs\n",
    "\n",
    "\n",
    "# Print out downstairs and upstairs"
   ]
  }
 ],
 "metadata": {
  "kernelspec": {
   "display_name": "Python 3",
   "language": "python",
   "name": "python3"
  },
  "language_info": {
   "codemirror_mode": {
    "name": "ipython",
    "version": 3
   },
   "file_extension": ".py",
   "mimetype": "text/x-python",
   "name": "python",
   "nbconvert_exporter": "python",
   "pygments_lexer": "ipython3",
   "version": "3.6.6"
  }
 },
 "nbformat": 4,
 "nbformat_minor": 2
}
