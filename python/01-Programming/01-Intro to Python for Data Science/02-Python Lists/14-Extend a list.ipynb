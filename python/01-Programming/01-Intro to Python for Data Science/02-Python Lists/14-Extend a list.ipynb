{
 "cells": [
  {
   "cell_type": "markdown",
   "metadata": {},
   "source": [
    "# Extend a list"
   ]
  },
  {
   "cell_type": "markdown",
   "metadata": {},
   "source": [
    "#### EXERCISE:\n",
    "If you can change elements in a list, you sure want to be able to add elements to it, right? You can use the <code>+</code> operator:\n",
    "<pre><code>x = [\"a\", \"b\", \"c\", \"d\"]\n",
    "y = x + [\"e\", \"f\"]\n",
    "</code></pre>\n",
    "You just won the lottery, awesome! You decide to build a poolhouse and a garage. Can you add the information to the <code>areas</code> list?"
   ]
  },
  {
   "cell_type": "markdown",
   "metadata": {},
   "source": [
    "#### INSTRUCTIONS:\n",
    "* Use the <code>+</code> operator to paste the list <code>[\"poolhouse\", 24.5]</code> to the end of the <code>areas</code> list. Store the resulting list as <code>areas_1</code>.\n",
    "* Further extend <code>areas_1</code> by adding data on your garage. Add the string <code>\"garage\"</code> and float <code>15.45</code>. Name the resulting list <code>areas_2</code>."
   ]
  },
  {
   "cell_type": "markdown",
   "metadata": {},
   "source": [
    "#### SCRIPT.PY:"
   ]
  },
  {
   "cell_type": "code",
   "execution_count": null,
   "metadata": {},
   "outputs": [],
   "source": [
    "# Create the areas list and make some changes\n",
    "areas = [\"hallway\", 11.25, \"kitchen\", 18.0, \"chill zone\", 20.0,\n",
    "         \"bedroom\", 10.75, \"bathroom\", 10.50]\n",
    "\n",
    "# Add poolhouse data to areas, new list is areas_1\n",
    "\n",
    "\n",
    "# Add garage data to areas_1, new list is areas_2\n"
   ]
  }
 ],
 "metadata": {
  "kernelspec": {
   "display_name": "Python 3",
   "language": "python",
   "name": "python3"
  },
  "language_info": {
   "codemirror_mode": {
    "name": "ipython",
    "version": 3
   },
   "file_extension": ".py",
   "mimetype": "text/x-python",
   "name": "python",
   "nbconvert_exporter": "python",
   "pygments_lexer": "ipython3",
   "version": "3.6.6"
  }
 },
 "nbformat": 4,
 "nbformat_minor": 2
}
