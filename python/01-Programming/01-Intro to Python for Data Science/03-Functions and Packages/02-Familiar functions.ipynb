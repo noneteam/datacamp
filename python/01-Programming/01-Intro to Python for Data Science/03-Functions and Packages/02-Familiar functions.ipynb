{
 "cells": [
  {
   "cell_type": "markdown",
   "metadata": {},
   "source": [
    "# Familiar functions"
   ]
  },
  {
   "cell_type": "markdown",
   "metadata": {},
   "source": [
    "#### EXERCISE:\n",
    "Out of the box, Python offers a bunch of built-in functions to make your life as a data scientist easier. You already know two such functions: <code>print()</code> and <code>type()</code>. You've also used the functions <code>str()</code>, <code>int()</code>, <code>bool()</code> and <code>float()</code> to switch between data types. These are built-in functions as well.\n",
    "\n",
    "Calling a function is easy. To get the type of <code>3.0</code> and store the output as a new variable, <code>result</code>, you can use the following:\n",
    "<pre><code>result = type(3.0)\n",
    "</code></pre>\n",
    "The general recipe for calling functions and saving the result to a variable is thus:\n",
    "<pre><code>output = function_name(input)\n",
    "</code></pre>"
   ]
  },
  {
   "cell_type": "markdown",
   "metadata": {},
   "source": [
    "#### INSTRUCTIONS:\n",
    "* Use <code>print()</code> in combination with <code>type()</code> to print out the type of <code>var1</code>.\n",
    "* Use <code>len()</code> to get the length of the list <code>var1</code>. Wrap it in a <code>print()</code> call to directly print it out.\n",
    "* Use <code>int()</code> to convert <code>var2</code> to an integer. Store the output as <code>out2</code>."
   ]
  },
  {
   "cell_type": "markdown",
   "metadata": {},
   "source": [
    "#### SCRIPT.PY:"
   ]
  },
  {
   "cell_type": "code",
   "execution_count": null,
   "metadata": {},
   "outputs": [],
   "source": [
    "# Create variables var1 and var2\n",
    "var1 = [1, 2, 3, 4]\n",
    "var2 = True\n",
    "\n",
    "# Print out type of var1\n",
    "\n",
    "\n",
    "# Print out length of var1\n",
    "\n",
    "\n",
    "# Convert var2 to an integer: out2\n"
   ]
  }
 ],
 "metadata": {
  "kernelspec": {
   "display_name": "Python 3",
   "language": "python",
   "name": "python3"
  },
  "language_info": {
   "codemirror_mode": {
    "name": "ipython",
    "version": 3
   },
   "file_extension": ".py",
   "mimetype": "text/x-python",
   "name": "python",
   "nbconvert_exporter": "python",
   "pygments_lexer": "ipython3",
   "version": "3.6.6"
  }
 },
 "nbformat": 4,
 "nbformat_minor": 2
}
