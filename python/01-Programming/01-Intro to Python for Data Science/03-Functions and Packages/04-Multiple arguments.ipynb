{
 "cells": [
  {
   "cell_type": "markdown",
   "metadata": {},
   "source": [
    "# Multiple arguments"
   ]
  },
  {
   "cell_type": "markdown",
   "metadata": {},
   "source": [
    "#### EXERCISE:\n",
    "In the previous exercise, the square brackets around <code>imag</code> in the documentation showed us that the <code>imag</code> argument is optional. But Python also uses a different way to tell users about arguments being optional.\n",
    "\n",
    "Have a look at the documentation of <code>sorted()</code> by typing <code>help(sorted)</code> in the IPython Shell.\n",
    "\n",
    "You'll see that <code>sorted()</code> takes three arguments: <code>iterable</code>, <code>key</code> and <code>reverse</code>.\n",
    "\n",
    "<code>key=None</code> means that if you don't specify the <code>key</code> argument, it will be <code>None</code>. <code>reverse=False</code> means that if you don't specify the <code>reverse</code> argument, it will be <code>False</code>.\n",
    "\n",
    "In this exercise, you'll only have to specify <code>iterable</code> and <code>reverse</code>, not <code>key</code>. The first input you pass to <code>sorted()</code> will be matched to the <code>iterable</code> argument, but what about the second input? To tell Python you want to specify <code>reverse</code> without changing anything about <code>key</code>, you can use <code>=</code>:\n",
    "<pre><code>sorted(___, reverse = ___)</code></pre>\n",
    "Two lists have been created for you on the right. Can you paste them together and sort them in descending order?\n",
    "\n",
    "Note: For now, we can understand an iterable as being any collection of objects, e.g. a List."
   ]
  },
  {
   "cell_type": "markdown",
   "metadata": {},
   "source": [
    "#### INSTRUCTIONS:\n",
    "* Use <code>+</code> to merge the contents of <code>first</code> and <code>second</code> into a new list: <code>full</code>.\n",
    "* Call <code>sorted()</code> on <code>full</code> and specify the <code>reverse</code> argument to be <code>True</code>. Save the sorted list as <code>full_sorted</code>.\n",
    "* Finish off by printing out <code>full_sorted</code>."
   ]
  },
  {
   "cell_type": "markdown",
   "metadata": {},
   "source": [
    "#### SCRIPT.PY:"
   ]
  },
  {
   "cell_type": "code",
   "execution_count": null,
   "metadata": {},
   "outputs": [],
   "source": [
    "# Create lists first and second\n",
    "first = [11.25, 18.0, 20.0]\n",
    "second = [10.75, 9.50]\n",
    "\n",
    "# Paste together first and second: full\n",
    "\n",
    "\n",
    "# Sort full in descending order: full_sorted\n",
    "\n",
    "\n",
    "# Print out full_sorted\n"
   ]
  }
 ],
 "metadata": {
  "kernelspec": {
   "display_name": "Python 3",
   "language": "python",
   "name": "python3"
  },
  "language_info": {
   "codemirror_mode": {
    "name": "ipython",
    "version": 3
   },
   "file_extension": ".py",
   "mimetype": "text/x-python",
   "name": "python",
   "nbconvert_exporter": "python",
   "pygments_lexer": "ipython3",
   "version": "3.6.6"
  }
 },
 "nbformat": 4,
 "nbformat_minor": 2
}
