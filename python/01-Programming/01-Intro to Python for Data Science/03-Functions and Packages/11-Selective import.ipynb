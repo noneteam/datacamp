{
 "cells": [
  {
   "cell_type": "markdown",
   "metadata": {},
   "source": [
    "# Selective import"
   ]
  },
  {
   "cell_type": "markdown",
   "metadata": {},
   "source": [
    "#### EXERCISE:\n",
    "General imports, like <code>import math</code>, make <b>all</b> functionality from the <code>math</code> package available to you. However, if you decide to only use a specific part of a package, you can always make your import more selective:\n",
    "<pre><code>from math import pi</code></pre>\n",
    "Let's say the Moon's orbit around planet Earth is a perfect circle, with a radius <code>r</code> (in km) that is defined in the script."
   ]
  },
  {
   "cell_type": "markdown",
   "metadata": {},
   "source": [
    "#### INSTRUCTIONS:\n",
    "* Perform a selective import from the <code>math</code> package where you only import the <code>radians</code> function.\n",
    "* Calculate the distance travelled by the Moon over 12 degrees of its orbit. Assign the result to <code>dist</code>. You can calculate this as <code>r * phi</code>, where <code>r</code> is the radius and <code>phi</code> is the angle in radians. To convert an angle in degrees to an angle in radians, use the <code>radians()</code> function, which you just imported.\n",
    "* Print out <code>dist</code>."
   ]
  },
  {
   "cell_type": "markdown",
   "metadata": {},
   "source": [
    "#### SCRIPT.PY:"
   ]
  },
  {
   "cell_type": "code",
   "execution_count": null,
   "metadata": {},
   "outputs": [],
   "source": [
    "# Definition of radius\n",
    "r = 192500\n",
    "\n",
    "# Import radians function of math package\n",
    "import radians from math\n",
    "\n",
    "\n",
    "# Travel distance of Moon over 12 degrees. Store in dist.\n",
    "\n",
    "\n",
    "# Print out dist\n"
   ]
  }
 ],
 "metadata": {
  "kernelspec": {
   "display_name": "Python 3",
   "language": "python",
   "name": "python3"
  },
  "language_info": {
   "codemirror_mode": {
    "name": "ipython",
    "version": 3
   },
   "file_extension": ".py",
   "mimetype": "text/x-python",
   "name": "python",
   "nbconvert_exporter": "python",
   "pygments_lexer": "ipython3",
   "version": "3.6.6"
  }
 },
 "nbformat": 4,
 "nbformat_minor": 2
}
