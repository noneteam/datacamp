{
 "cells": [
  {
   "cell_type": "markdown",
   "metadata": {},
   "source": [
    "# List Methods (2)"
   ]
  },
  {
   "cell_type": "markdown",
   "metadata": {},
   "source": [
    "#### EXERCISE:\n",
    "Most list methods will change the list they're called on. Examples are:\n",
    "\n",
    "* <code>append()</code>, that adds an element to the list it is called on,\n",
    "* <code>remove()</code>, that removes the first element of a list that matches the input, and\n",
    "* <code>reverse()</code>, that reverses the order of the elements in the list it is called on.\n",
    "\n",
    "You'll be working on the list with the area of different parts of the house: <code>areas</code>."
   ]
  },
  {
   "cell_type": "markdown",
   "metadata": {},
   "source": [
    "#### INSTRUCTIONS:\n",
    "* Use <code>append()</code> twice to add the size of the poolhouse and the garage again: <code>24.5</code> and <code>15.45</code>, respectively. Make sure to add them in this order.\n",
    "* Print out <code>areas</code>\n",
    "* Use the <code>reverse()</code> method to reverse the order of the elements in <code>areas</code>.\n",
    "* Print out <code>areas</code> once more."
   ]
  },
  {
   "cell_type": "markdown",
   "metadata": {},
   "source": [
    "#### SCRIPT.PY:"
   ]
  },
  {
   "cell_type": "code",
   "execution_count": null,
   "metadata": {},
   "outputs": [],
   "source": [
    "# Create list areas\n",
    "areas = [11.25, 18.0, 20.0, 10.75, 9.50]\n",
    "\n",
    "# Use append twice to add poolhouse and garage size\n",
    "\n",
    "\n",
    "\n",
    "# Print out areas\n",
    "\n",
    "\n",
    "# Reverse the orders of the elements in areas\n",
    "\n",
    "\n",
    "# Print out areas"
   ]
  }
 ],
 "metadata": {
  "kernelspec": {
   "display_name": "Python 3",
   "language": "python",
   "name": "python3"
  },
  "language_info": {
   "codemirror_mode": {
    "name": "ipython",
    "version": 3
   },
   "file_extension": ".py",
   "mimetype": "text/x-python",
   "name": "python",
   "nbconvert_exporter": "python",
   "pygments_lexer": "ipython3",
   "version": "3.6.6"
  }
 },
 "nbformat": 4,
 "nbformat_minor": 2
}
