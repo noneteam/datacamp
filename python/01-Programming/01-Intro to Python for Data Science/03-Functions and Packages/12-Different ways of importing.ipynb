{
 "cells": [
  {
   "cell_type": "markdown",
   "metadata": {},
   "source": [
    "# Different ways of importing"
   ]
  },
  {
   "cell_type": "markdown",
   "metadata": {},
   "source": [
    "#### EXERCISE:\n",
    "There are several ways to import packages and modules into Python. Depending on the import call, you'll have to use different Python code.\n",
    "\n",
    "Suppose you want to use the function <code>inv()</code>, which is in the <code>linalg</code> subpackage of the <code>scipy</code> package. You want to be able to use this function as follows:\n",
    "<pre><code>my_inv([[1,2], [3,4]])</code></pre>\n",
    "Which <code>import</code> statement will you need in order to run the above code without an error?"
   ]
  },
  {
   "cell_type": "markdown",
   "metadata": {},
   "source": [
    "#### POSSIBLE ANSWERS:\n",
    "* <code>import scipy</code>\n",
    "* <code>import scipy.linalg</code>\n",
    "* <code>from scipy.linalg import my_inv</code>\n",
    "* <code>from scipy.linalg import inv as my_inv</code>"
   ]
  }
 ],
 "metadata": {
  "kernelspec": {
   "display_name": "Python 3",
   "language": "python",
   "name": "python3"
  },
  "language_info": {
   "codemirror_mode": {
    "name": "ipython",
    "version": 3
   },
   "file_extension": ".py",
   "mimetype": "text/x-python",
   "name": "python",
   "nbconvert_exporter": "python",
   "pygments_lexer": "ipython3",
   "version": "3.6.6"
  }
 },
 "nbformat": 4,
 "nbformat_minor": 2
}
