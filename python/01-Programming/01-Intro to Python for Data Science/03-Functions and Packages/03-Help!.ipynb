{
 "cells": [
  {
   "cell_type": "markdown",
   "metadata": {},
   "source": [
    "# Help!"
   ]
  },
  {
   "cell_type": "markdown",
   "metadata": {},
   "source": [
    "#### EXERCISE:\n",
    "Maybe you already know the name of a Python function, but you still have to figure out how to use it. Ironically, you have to ask for information about a function with another function: <code>help()</code>. In IPython specifically, you can also use ? before the function name.\n",
    "\n",
    "To get help on the <code>max()</code> function, for example, you can use one of these calls:\n",
    "<pre><code>help(max)\n",
    "?max\n",
    "</code></pre>\n",
    "Use the Shell on the right to open up the documentation on <code>complex()</code>. Which of the following statements is true?"
   ]
  },
  {
   "cell_type": "markdown",
   "metadata": {},
   "source": [
    "#### POSSIBLE ANSWERS:\n",
    "* <code>complex()</code> takes exactly two arguments: <code>real</code> and [, imag].\n",
    "* <code>complex()</code> takes two arguments: <code>real</code> and <code>imag</code>. Both these arguments are required.\n",
    "* <code>complex()</code> takes two arguments: <code>real</code> and <code>imag</code>. <code>real</code> is a required argument, <code>imag</code> is an optional argument.\n",
    "* <code>complex()</code> takes two arguments: <code>real</code> and <code>imag</code>. If you don't specify <code>imag</code>, it is set to 1 by Python."
   ]
  }
 ],
 "metadata": {
  "kernelspec": {
   "display_name": "Python 3",
   "language": "python",
   "name": "python3"
  },
  "language_info": {
   "codemirror_mode": {
    "name": "ipython",
    "version": 3
   },
   "file_extension": ".py",
   "mimetype": "text/x-python",
   "name": "python",
   "nbconvert_exporter": "python",
   "pygments_lexer": "ipython3",
   "version": "3.6.6"
  }
 },
 "nbformat": 4,
 "nbformat_minor": 2
}
