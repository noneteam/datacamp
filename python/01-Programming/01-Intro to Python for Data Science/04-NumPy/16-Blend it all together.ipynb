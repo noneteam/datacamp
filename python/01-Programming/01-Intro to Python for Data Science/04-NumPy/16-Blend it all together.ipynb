{
 "cells": [
  {
   "cell_type": "markdown",
   "metadata": {},
   "source": [
    "# Blend it all together"
   ]
  },
  {
   "cell_type": "markdown",
   "metadata": {},
   "source": [
    "#### EXERCISE:\n",
    "In the last few exercises you've learned everything there is to know about heights and weights of baseball players. Now it's time to dive into another sport: soccer.\n",
    "\n",
    "You've contacted FIFA for some data and they handed you two lists. The lists are the following:\n",
    "<pre><code>positions = ['GK', 'M', 'A', 'D', ...]\n",
    "heights = [191, 184, 185, 180, ...]\n",
    "</code></pre>\n",
    "\n",
    "Each element in the lists corresponds to a player. The first list, <code>positions</code>, contains strings representing each player's position. The possible positions are: <code>'GK'</code> (goalkeeper), <code>'M'</code> (midfield), <code>'A'</code> (attack) and <code>'D'</code> (defense). The second list, <code>heights</code>, contains integers representing the height of the player in cm. The first player in the lists is a goalkeeper and is pretty tall (191 cm).\n",
    "\n",
    "You're fairly confident that the median height of goalkeepers is higher than that of other players on the soccer field. Some of your friends don't believe you, so you are determined to show them using the data you received from FIFA and your newly acquired Python skills."
   ]
  },
  {
   "cell_type": "markdown",
   "metadata": {},
   "source": [
    "#### INSTRUCTIONS:\n",
    "* Convert <code>heights</code> and <code>positions</code>, which are regular lists, to numpy arrays. Call them <code>np_heights</code> and <code>np_positions</code>.\n",
    "* Extract all the heights of the goalkeepers. You can use a little trick here: use <code>np_positions == 'GK'</code> as an index for <code>np_heights</code>. Assign the result to <code>gk_heights</code>.\n",
    "* Extract all the heights of all the other players. This time use <code>np_positions != 'GK'</code> as an index for <code>np_heights</code>. Assign the result to <code>other_heights</code>.\n",
    "* Print out the median height of the goalkeepers using <code>np.median()</code>. Replace <code>None</code> with the correct code.\n",
    "* Do the same for the other players. Print out their median height. Replace <code>None</code> with the correct code."
   ]
  },
  {
   "cell_type": "markdown",
   "metadata": {},
   "source": [
    "#### SCRIPT.PY:"
   ]
  },
  {
   "cell_type": "code",
   "execution_count": null,
   "metadata": {},
   "outputs": [],
   "source": [
    "# heights and positions are available as lists\n",
    "\n",
    "# Import numpy\n",
    "import numpy as np\n",
    "\n",
    "# Convert positions and heights to numpy arrays: np_positions, np_heights\n",
    "\n",
    "\n",
    "\n",
    "# Heights of the goalkeepers: gk_heights\n",
    "\n",
    "\n",
    "# Heights of the other players: other_heights\n",
    "\n",
    "\n",
    "# Print out the median height of goalkeepers. Replace 'None'\n",
    "print(\"Median height of goalkeepers: \" + str(None))\n",
    "\n",
    "# Print out the median height of other players. Replace 'None'\n",
    "print(\"Median height of other players: \" + str(None))"
   ]
  }
 ],
 "metadata": {
  "kernelspec": {
   "display_name": "Python 3",
   "language": "python",
   "name": "python3"
  },
  "language_info": {
   "codemirror_mode": {
    "name": "ipython",
    "version": 3
   },
   "file_extension": ".py",
   "mimetype": "text/x-python",
   "name": "python",
   "nbconvert_exporter": "python",
   "pygments_lexer": "ipython3",
   "version": "3.6.6"
  }
 },
 "nbformat": 4,
 "nbformat_minor": 2
}
