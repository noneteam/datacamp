{
 "cells": [
  {
   "cell_type": "markdown",
   "metadata": {},
   "source": [
    "# Baseball players' height"
   ]
  },
  {
   "cell_type": "markdown",
   "metadata": {},
   "source": [
    "#### EXERCISE:\n",
    "You are a huge baseball fan. You decide to call the MLB (Major League Baseball) and ask around for some more statistics on the height of the main players. They pass along data on more than a thousand players, which is stored as a regular Python list: <code>height_in</code>. The height is expressed in inches. Can you make a <code>numpy</code> array out of it and convert the units to meters?\n",
    "<code>height_in</code> is already available and the <code>numpy</code> package is loaded, so you can start straight away (Source: <a href=\"http://wiki.stat.ucla.edu/socr/index.php/SOCR_Data_MLB_HeightsWeights\" target=\"_blank\">stat.ucla.edu</a>)."
   ]
  },
  {
   "cell_type": "markdown",
   "metadata": {},
   "source": [
    "#### INSTRUCTIONS:\n",
    "* Create a <code>numpy</code> array from <code>height_in</code>. Name this new array <code>np_height_in</code>.\n",
    "* Print <code>np_height_in</code>.\n",
    "* Multiply <code>np_height_in</code> with <code>0.0254</code> to convert all height measurements from inches to meters. Store the new values in a new array, <code>np_height_m</code>.\n",
    "* Print out <code>np_height_m</code> and check if the output makes sense."
   ]
  },
  {
   "cell_type": "markdown",
   "metadata": {},
   "source": [
    "#### SCRIPT.PY:"
   ]
  },
  {
   "cell_type": "code",
   "execution_count": null,
   "metadata": {},
   "outputs": [],
   "source": [
    "# height is available as a regular list\n",
    "\n",
    "# Import numpy\n",
    "import numpy as np\n",
    "\n",
    "# Create a numpy array from height: np_height_in\n",
    "\n",
    "\n",
    "# Print out np_height\n",
    "\n",
    "\n",
    "# Convert np_height to m: np_height_m\n",
    "\n",
    "\n",
    "# Print np_height_m\n"
   ]
  }
 ],
 "metadata": {
  "kernelspec": {
   "display_name": "Python 3",
   "language": "python",
   "name": "python3"
  },
  "language_info": {
   "codemirror_mode": {
    "name": "ipython",
    "version": 3
   },
   "file_extension": ".py",
   "mimetype": "text/x-python",
   "name": "python",
   "nbconvert_exporter": "python",
   "pygments_lexer": "ipython3",
   "version": "3.6.6"
  }
 },
 "nbformat": 4,
 "nbformat_minor": 2
}
