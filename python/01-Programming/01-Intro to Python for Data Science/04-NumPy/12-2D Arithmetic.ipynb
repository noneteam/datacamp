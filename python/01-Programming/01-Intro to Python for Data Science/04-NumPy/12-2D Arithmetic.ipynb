{
 "cells": [
  {
   "cell_type": "markdown",
   "metadata": {},
   "source": [
    "# 2D Arithmetic"
   ]
  },
  {
   "cell_type": "markdown",
   "metadata": {},
   "source": [
    "#### EXERCISE:\n",
    "Remember how you calculated the Body Mass Index for all baseball players? <code>numpy</code> was able to perform all calculations element-wise (i.e. element by element). For 2D <code>numpy</code> arrays this isn't any different! You can combine matrices with single numbers, with vectors, and with other matrices.\n",
    "\n",
    "Execute the code below in the IPython shell and see if you understand:\n",
    "<pre><code>import numpy as np\n",
    "np_mat = np.array([[1, 2],\n",
    "                   [3, 4],\n",
    "                   [5, 6]])\n",
    "np_mat * 2\n",
    "np_mat + np.array([10, 10])\n",
    "np_mat + np_mat\n",
    "</code></pre>\n",
    "<code>np_baseball</code> is coded for you; it's again a 2D <code>numpy</code> array with 3 columns representing height (in inches), weight (in pounds) and age (in years)."
   ]
  },
  {
   "cell_type": "markdown",
   "metadata": {},
   "source": [
    "#### INSTRUCTIONS:\n",
    "* You managed to get hold of the changes in height, weight and age of all baseball players. It is available as a 2D <code>numpy</code> array, <code>updated</code>. Add <code>np_baseball</code> and <code>updated</code> and print out the result.\n",
    "* You want to convert the units of height and weight to metric (meters and kilograms respectively). As a first step, create a <code>numpy</code> array with three values: <code>0.0254</code>, <code>0.453592</code> and <code>1</code>. Name this array <code>conversion</code>.\n",
    "* Multiply <code>np_baseball</code> with <code>conversion</code> and print out the result."
   ]
  },
  {
   "cell_type": "markdown",
   "metadata": {},
   "source": [
    "#### SCRIPT.PY:"
   ]
  },
  {
   "cell_type": "code",
   "execution_count": null,
   "metadata": {},
   "outputs": [],
   "source": [
    "# baseball is available as a regular list of lists\n",
    "# updated is available as 2D numpy array\n",
    "\n",
    "# Import numpy package\n",
    "import numpy as np\n",
    "\n",
    "# Create np_baseball (3 cols)\n",
    "np_baseball = np.array(baseball)\n",
    "\n",
    "# Print out addition of np_baseball and updated\n",
    "\n",
    "\n",
    "# Create numpy array: conversion\n",
    "\n",
    "\n",
    "# Print out product of np_baseball and conversion\n"
   ]
  }
 ],
 "metadata": {
  "kernelspec": {
   "display_name": "Python 3",
   "language": "python",
   "name": "python3"
  },
  "language_info": {
   "codemirror_mode": {
    "name": "ipython",
    "version": 3
   },
   "file_extension": ".py",
   "mimetype": "text/x-python",
   "name": "python",
   "nbconvert_exporter": "python",
   "pygments_lexer": "ipython3",
   "version": "3.6.6"
  }
 },
 "nbformat": 4,
 "nbformat_minor": 2
}
