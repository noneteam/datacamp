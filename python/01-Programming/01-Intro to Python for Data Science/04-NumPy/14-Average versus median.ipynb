{
 "cells": [
  {
   "cell_type": "markdown",
   "metadata": {},
   "source": [
    "# Average versus median"
   ]
  },
  {
   "cell_type": "markdown",
   "metadata": {},
   "source": [
    "#### EXERCISE:\n",
    "You now know how to use <code>numpy</code> functions to get a better feeling for your data. It basically comes down to importing <code>numpy</code> and then calling several simple functions on the <code>numpy</code> arrays:\n",
    "\n",
    "<pre><code>import numpy as np\n",
    "x = [1, 4, 8, 10, 12]\n",
    "np.mean(x)\n",
    "np.median(x)\n",
    "</code></pre>\n",
    "\n",
    "The baseball data is available as a 2D <code>numpy</code> array with 3 columns (height, weight, age) and 1015 rows. The name of this <code>numpy</code> array is <code>np_baseball</code>. After restructuring the data, however, you notice that some height values are abnormally high. Follow the instructions and discover which summary statistic is best suited if you're dealing with so-called <em>outliers</em>."
   ]
  },
  {
   "cell_type": "markdown",
   "metadata": {},
   "source": [
    "#### INSTRUCTIONS:\n",
    "* Create <code>numpy</code> array <code>np_height_in</code> that is equal to first column of <code>np_baseball</code>.\n",
    "* Print out the mean of <code>np_height_in</code>.\n",
    "* Print out the median of <code>np_height_in</code>."
   ]
  },
  {
   "cell_type": "markdown",
   "metadata": {},
   "source": [
    "#### SCRIPT.PY:"
   ]
  },
  {
   "cell_type": "code",
   "execution_count": null,
   "metadata": {},
   "outputs": [],
   "source": [
    "# np_baseball is available\n",
    "\n",
    "# Import numpy\n",
    "import numpy as np\n",
    "\n",
    "# Create np_height_in from np_baseball\n",
    "\n",
    "\n",
    "# Print out the mean of np_height_in\n",
    "\n",
    "\n",
    "# Print out the median of np_height_in\n"
   ]
  }
 ],
 "metadata": {
  "kernelspec": {
   "display_name": "Python 3",
   "language": "python",
   "name": "python3"
  },
  "language_info": {
   "codemirror_mode": {
    "name": "ipython",
    "version": 3
   },
   "file_extension": ".py",
   "mimetype": "text/x-python",
   "name": "python",
   "nbconvert_exporter": "python",
   "pygments_lexer": "ipython3",
   "version": "3.6.6"
  }
 },
 "nbformat": 4,
 "nbformat_minor": 2
}
