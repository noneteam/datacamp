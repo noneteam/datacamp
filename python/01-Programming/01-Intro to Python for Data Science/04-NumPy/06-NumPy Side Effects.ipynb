{
 "cells": [
  {
   "cell_type": "markdown",
   "metadata": {},
   "source": [
    "# NumPy Side Effects"
   ]
  },
  {
   "cell_type": "markdown",
   "metadata": {},
   "source": [
    "#### EXERCISE:\n",
    "As Filip explained before, <code>numpy</code> is great for doing vector arithmetic. If you compare its functionality with regular Python lists, however, some things have changed.\n",
    "\n",
    "First of all, <code>numpy</code> arrays cannot contain elements with different types. If you try to build such a list, some of the elements' types are changed to end up with a homogeneous list. This is known as <em>type coercion</em>.\n",
    "\n",
    "Second, the typical arithmetic operators, such as <code>+</code>, <code>-</code>, <code>*</code> and <code>/</code> have a different meaning for regular Python lists and <code>numpy</code> arrays.\n",
    "\n",
    "Have a look at this line of code:\n",
    "\n",
    "<pre><code>np.array([True, 1, 2]) + np.array([3, 4, False])\n",
    "</code></pre>\n",
    "\n",
    "Can you tell which code chunk builds the exact same Python object? The <code>numpy</code> package is already imported as <code>np</code>, so you can start experimenting in the IPython Shell straight away!"
   ]
  },
  {
   "cell_type": "markdown",
   "metadata": {},
   "source": [
    "#### POSSIBLE ANSWERS:\n",
    "* <code>np.array([True, 1, 2, 3, 4, False])</code>\n",
    "* <code>np.array([4, 3, 0]) + np.array([0, 2, 2])</code>\n",
    "* <code>np.array([1, 1, 2]) + np.array([3, 4, -1])</code>\n",
    "* <code>np.array([0, 1, 2, 3, 4, 5])</code>"
   ]
  }
 ],
 "metadata": {
  "kernelspec": {
   "display_name": "Python 3",
   "language": "python",
   "name": "python3"
  },
  "language_info": {
   "codemirror_mode": {
    "name": "ipython",
    "version": 3
   },
   "file_extension": ".py",
   "mimetype": "text/x-python",
   "name": "python",
   "nbconvert_exporter": "python",
   "pygments_lexer": "ipython3",
   "version": "3.6.6"
  }
 },
 "nbformat": 4,
 "nbformat_minor": 2
}
