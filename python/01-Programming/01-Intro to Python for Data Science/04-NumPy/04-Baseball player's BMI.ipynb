{
 "cells": [
  {
   "cell_type": "markdown",
   "metadata": {},
   "source": [
    "# Baseball player's BMI"
   ]
  },
  {
   "cell_type": "markdown",
   "metadata": {},
   "source": [
    "#### EXERCISE:\n",
    "The MLB also offers to let you analyze their weight data. Again, both are available as regular Python lists: <code>height_in</code> and <code>weight</code>. <code>height_in</code> is in inches and <code>weight_lb</code> is in pounds.\n",
    "\n",
    "It's now possible to calculate the BMI of each baseball player. Python code to convert <code>height_in</code> to a <code>numpy</code> array with the correct units is already available in the workspace. Follow the instructions step by step and finish the game!"
   ]
  },
  {
   "cell_type": "markdown",
   "metadata": {},
   "source": [
    "#### INSTRUCTIONS:\n",
    "* Create a <code>numpy</code> array from the <code>weight_lb</code> list with the correct units. Multiply by <code>0.453592</code> to go from pounds to kilograms. Store the resulting <code>numpy</code> array as <code>np_weight_kg</code>.\n",
    "* Use <code>np_height_m</code> and <code>np_weight_kg</code> to calculate the BMI of each player. Use the following equation: <span class=\"MathJax_Preview\" style=\"color: inherit; display: none;\"></span><div class=\"MathJax_Display\" style=\"text-align: center;\"><span class=\"MathJax\" id=\"MathJax-Element-1-Frame\" tabindex=\"0\" style=\"text-align: center; position: relative;\" data-mathml=\"<math xmlns=&quot;http://www.w3.org/1998/Math/MathML&quot; display=&quot;block&quot;><mrow class=&quot;MJX-TeXAtom-ORD&quot;><mi mathvariant=&quot;normal&quot;>B</mi><mi mathvariant=&quot;normal&quot;>M</mi><mi mathvariant=&quot;normal&quot;>I</mi></mrow><mo>=</mo><mfrac><mrow class=&quot;MJX-TeXAtom-ORD&quot;><mi mathvariant=&quot;normal&quot;>w</mi><mi mathvariant=&quot;normal&quot;>e</mi><mi mathvariant=&quot;normal&quot;>i</mi><mi mathvariant=&quot;normal&quot;>g</mi><mi mathvariant=&quot;normal&quot;>h</mi><mi mathvariant=&quot;normal&quot;>t</mi><mo stretchy=&quot;false&quot;>(</mo><mi mathvariant=&quot;normal&quot;>k</mi><mi mathvariant=&quot;normal&quot;>g</mi><mo stretchy=&quot;false&quot;>)</mo></mrow><msup><mrow class=&quot;MJX-TeXAtom-ORD&quot;><mi mathvariant=&quot;normal&quot;>h</mi><mi mathvariant=&quot;normal&quot;>e</mi><mi mathvariant=&quot;normal&quot;>i</mi><mi mathvariant=&quot;normal&quot;>g</mi><mi mathvariant=&quot;normal&quot;>h</mi><mi mathvariant=&quot;normal&quot;>t</mi><mo stretchy=&quot;false&quot;>(</mo><mi mathvariant=&quot;normal&quot;>m</mi><mo stretchy=&quot;false&quot;>)</mo></mrow><mn>2</mn></msup></mfrac></math>\" role=\"presentation\"><nobr aria-hidden=\"true\"><span class=\"math\" id=\"MathJax-Span-1\" style=\"width: 9.755em; display: inline-block;\"><span style=\"display: inline-block; position: relative; width: 8.405em; height: 0px; font-size: 116%;\"><span style=\"position: absolute; clip: rect(0.734em, 1008.41em, 3.705em, -1000em); top: -2.371em; left: 0em;\"><span class=\"mrow\" id=\"MathJax-Span-2\"><span class=\"texatom\" id=\"MathJax-Span-3\"><span class=\"mrow\" id=\"MathJax-Span-4\"><span class=\"mi\" id=\"MathJax-Span-5\" style=\"font-family: MathJax_Main;\">B</span><span class=\"mi\" id=\"MathJax-Span-6\" style=\"font-family: MathJax_Main;\">M</span><span class=\"mi\" id=\"MathJax-Span-7\" style=\"font-family: MathJax_Main;\">I</span></span></span><span class=\"mo\" id=\"MathJax-Span-8\" style=\"font-family: MathJax_Main; padding-left: 0.278em;\">=</span><span class=\"mfrac\" id=\"MathJax-Span-9\" style=\"padding-left: 0.278em;\"><span style=\"display: inline-block; position: relative; width: 4.883em; height: 0px; margin-right: 0.12em; margin-left: 0.12em;\"><span style=\"position: absolute; clip: rect(3.075em, 1004.6em, 4.399em, -1000em); top: -4.712em; left: 50%; margin-left: -2.348em;\"><span class=\"texatom\" id=\"MathJax-Span-10\"><span class=\"mrow\" id=\"MathJax-Span-11\"><span class=\"mi\" id=\"MathJax-Span-12\" style=\"font-family: MathJax_Main;\">w</span><span class=\"mi\" id=\"MathJax-Span-13\" style=\"font-family: MathJax_Main;\">e</span><span class=\"mi\" id=\"MathJax-Span-14\" style=\"font-family: MathJax_Main;\">i</span><span class=\"mi\" id=\"MathJax-Span-15\" style=\"font-family: MathJax_Main;\">g</span><span class=\"mi\" id=\"MathJax-Span-16\" style=\"font-family: MathJax_Main;\">h</span><span class=\"mi\" id=\"MathJax-Span-17\" style=\"font-family: MathJax_Main;\">t</span><span class=\"mo\" id=\"MathJax-Span-18\" style=\"font-family: MathJax_Main;\">(</span><span class=\"mi\" id=\"MathJax-Span-19\" style=\"font-family: MathJax_Main;\">k</span><span class=\"mi\" id=\"MathJax-Span-20\" style=\"font-family: MathJax_Main;\">g</span><span class=\"mo\" id=\"MathJax-Span-21\" style=\"font-family: MathJax_Main;\">)</span></span></span><span style=\"display: inline-block; width: 0px; height: 3.987em;\"></span></span><span style=\"position: absolute; clip: rect(2.878em, 1004.76em, 4.399em, -1000em); top: -3.064em; left: 50%; margin-left: -2.381em;\"><span class=\"msubsup\" id=\"MathJax-Span-22\"><span style=\"display: inline-block; position: relative; width: 4.763em; height: 0px;\"><span style=\"position: absolute; clip: rect(3.075em, 1004.24em, 4.399em, -1000em); top: -3.987em; left: 0em;\"><span class=\"texatom\" id=\"MathJax-Span-23\"><span class=\"mrow\" id=\"MathJax-Span-24\"><span class=\"mi\" id=\"MathJax-Span-25\" style=\"font-family: MathJax_Main;\">h</span><span class=\"mi\" id=\"MathJax-Span-26\" style=\"font-family: MathJax_Main;\">e</span><span class=\"mi\" id=\"MathJax-Span-27\" style=\"font-family: MathJax_Main;\">i</span><span class=\"mi\" id=\"MathJax-Span-28\" style=\"font-family: MathJax_Main;\">g</span><span class=\"mi\" id=\"MathJax-Span-29\" style=\"font-family: MathJax_Main;\">h</span><span class=\"mi\" id=\"MathJax-Span-30\" style=\"font-family: MathJax_Main;\">t</span><span class=\"mo\" id=\"MathJax-Span-31\" style=\"font-family: MathJax_Main;\">(</span><span class=\"mi\" id=\"MathJax-Span-32\" style=\"font-family: MathJax_Main;\">m</span><span class=\"mo\" id=\"MathJax-Span-33\" style=\"font-family: MathJax_Main;\">)</span></span></span><span style=\"display: inline-block; width: 0px; height: 3.987em;\"></span></span><span style=\"position: absolute; top: -4.464em; left: 4.334em;\"><span class=\"mn\" id=\"MathJax-Span-34\" style=\"font-size: 70.7%; font-family: MathJax_Main;\">2</span><span style=\"display: inline-block; width: 0px; height: 3.987em;\"></span></span></span></span><span style=\"display: inline-block; width: 0px; height: 3.987em;\"></span></span><span style=\"position: absolute; clip: rect(0.849em, 1004.88em, 1.239em, -1000em); top: -1.298em; left: 0em;\"><span style=\"display: inline-block; overflow: hidden; vertical-align: 0em; border-top: 1.3px solid; width: 4.883em; height: 0px;\"></span><span style=\"display: inline-block; width: 0px; height: 1.078em;\"></span></span></span></span></span><span style=\"display: inline-block; width: 0px; height: 2.371em;\"></span></span></span><span style=\"display: inline-block; overflow: hidden; vertical-align: -1.423em; border-left: 0px solid; width: 0px; height: 3.196em;\"></span></span></nobr><span class=\"MJX_Assistive_MathML MJX_Assistive_MathML_Block\" role=\"presentation\"><math xmlns=\"http://www.w3.org/1998/Math/MathML\" display=\"block\"><mrow class=\"MJX-TeXAtom-ORD\"><mi mathvariant=\"normal\">B</mi><mi mathvariant=\"normal\">M</mi><mi mathvariant=\"normal\">I</mi></mrow><mo>=</mo><mfrac><mrow class=\"MJX-TeXAtom-ORD\"><mi mathvariant=\"normal\">w</mi><mi mathvariant=\"normal\">e</mi><mi mathvariant=\"normal\">i</mi><mi mathvariant=\"normal\">g</mi><mi mathvariant=\"normal\">h</mi><mi mathvariant=\"normal\">t</mi><mo stretchy=\"false\">(</mo><mi mathvariant=\"normal\">k</mi><mi mathvariant=\"normal\">g</mi><mo stretchy=\"false\">)</mo></mrow><msup><mrow class=\"MJX-TeXAtom-ORD\"><mi mathvariant=\"normal\">h</mi><mi mathvariant=\"normal\">e</mi><mi mathvariant=\"normal\">i</mi><mi mathvariant=\"normal\">g</mi><mi mathvariant=\"normal\">h</mi><mi mathvariant=\"normal\">t</mi><mo stretchy=\"false\">(</mo><mi mathvariant=\"normal\">m</mi><mo stretchy=\"false\">)</mo></mrow><mn>2</mn></msup></mfrac></math></span></span></div><script type=\"math/tex; mode=display\" id=\"MathJax-Element-1\"> \\mathrm{BMI} = \\frac{\\mathrm{weight (kg)}}{\\mathrm{height (m)}^2}</script> Save the resulting <code>numpy</code> array as <code>bmi</code>.\n",
    "* Print out <code>bmi</code>."
   ]
  },
  {
   "cell_type": "markdown",
   "metadata": {},
   "source": [
    "#### SCRIPT.PY:"
   ]
  },
  {
   "cell_type": "code",
   "execution_count": null,
   "metadata": {},
   "outputs": [],
   "source": [
    "# height and weight are available as regular lists\n",
    "\n",
    "# Import numpy\n",
    "import numpy as np\n",
    "\n",
    "# Create array from height_in with metric units: np_height_m\n",
    "np_height_m = np.array(height_in) * 0.0254\n",
    "\n",
    "# Create array from weight_lb with metric units: np_weight_kg\n",
    "\n",
    "\n",
    "# Calculate the BMI: bmi\n",
    "\n",
    "\n",
    "# Print out bmi\n"
   ]
  }
 ],
 "metadata": {
  "kernelspec": {
   "display_name": "Python 3",
   "language": "python",
   "name": "python3"
  },
  "language_info": {
   "codemirror_mode": {
    "name": "ipython",
    "version": 3
   },
   "file_extension": ".py",
   "mimetype": "text/x-python",
   "name": "python",
   "nbconvert_exporter": "python",
   "pygments_lexer": "ipython3",
   "version": "3.6.6"
  }
 },
 "nbformat": 4,
 "nbformat_minor": 2
}
