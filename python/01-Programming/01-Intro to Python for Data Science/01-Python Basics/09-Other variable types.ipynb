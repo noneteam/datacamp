{
 "cells": [
  {
   "cell_type": "markdown",
   "metadata": {},
   "source": [
    "# Other variable types"
   ]
  },
  {
   "cell_type": "markdown",
   "metadata": {},
   "source": [
    "#### EXERCISE:\n",
    "In the previous exercise, you worked with two Python data types:\n",
    "* <code>int</code>, or integer: a number without a fractional part. <code>savings</code>, with the value <code>100</code>, is an example of an integer.\n",
    "* <code>float</code>, or floating point: a number that has both an integer and fractional part, separated by a point. <code>growth_multiplier</code>, with the value <code>1.1</code>, is an example of a float.\n",
    "Next to numerical data types, there are two other very common data types:\n",
    "\n",
    "* <code>str</code>, or string: a type to represent text. You can use single or double quotes to build a string.\n",
    "* <code>bool</code>, or boolean: a type to represent logical values. Can only be <code>True</code> or <code>False</code> (the capitalization is important!)."
   ]
  },
  {
   "cell_type": "markdown",
   "metadata": {},
   "source": [
    "#### INSTRUCTIONS:\n",
    "* Create a new string, <code>desc</code>, with the value <code>\"compound interest\"</code>.\n",
    "* Create a new boolean, <code>profitable</code>, with the value <code>True</code>."
   ]
  },
  {
   "cell_type": "markdown",
   "metadata": {},
   "source": [
    "#### SCRIPT.PY:"
   ]
  },
  {
   "cell_type": "code",
   "execution_count": null,
   "metadata": {},
   "outputs": [],
   "source": [
    "# Create a variable desc\n",
    "\n",
    "\n",
    "# Create a variable profitable\n"
   ]
  }
 ],
 "metadata": {
  "kernelspec": {
   "display_name": "Python 3",
   "language": "python",
   "name": "python3"
  },
  "language_info": {
   "codemirror_mode": {
    "name": "ipython",
    "version": 3
   },
   "file_extension": ".py",
   "mimetype": "text/x-python",
   "name": "python",
   "nbconvert_exporter": "python",
   "pygments_lexer": "ipython3",
   "version": "3.6.6"
  }
 },
 "nbformat": 4,
 "nbformat_minor": 2
}
