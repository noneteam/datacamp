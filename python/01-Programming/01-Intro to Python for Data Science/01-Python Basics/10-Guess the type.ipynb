{
 "cells": [
  {
   "cell_type": "markdown",
   "metadata": {},
   "source": [
    "# Guess the type"
   ]
  },
  {
   "cell_type": "markdown",
   "metadata": {},
   "source": [
    "#### EXERCISE:\n",
    "To find out the type of a value or a variable that refers to that value, you can use the <code>type()</code> function. Suppose you've defined a variable <code>a</code>, but you forgot the type of this variable. To determine the type of <code>a</code>, simply execute:\n",
    "<pre><code>type(a)</code></pre>\n",
    "We already went ahead and created three variables: <code>a</code>, <code>b</code> and <code>c</code>. You can use the IPython shell on the right to discover their type. Which of the following options is correct?"
   ]
  },
  {
   "cell_type": "markdown",
   "metadata": {},
   "source": [
    "#### INSTRUCTIONS (Possible Answers):\n",
    "* <code>a</code> is of type <code>int</code>, <code>b</code> is of type <code>str</code>, <code>c</code> is of type <code>bool</code>\n",
    "* <code>a</code> is of type <code>float</code>, <code>b</code> is of type <code>bool</code>, <code>c</code> is of type <code>str</code>\n",
    "* <code>a</code> is of type <code>float</code>, <code>b</code> is of type <code>str</code>, <code>c</code> is of type <code>bool</code>\n",
    "* <code>a</code> is of type <code>int</code>, <code>b</code> is of type <code>bool</code>, <code>c</code> is of type <code>str</code>\n"
   ]
  }
 ],
 "metadata": {
  "kernelspec": {
   "display_name": "Python 3",
   "language": "python",
   "name": "python3"
  },
  "language_info": {
   "codemirror_mode": {
    "name": "ipython",
    "version": 3
   },
   "file_extension": ".py",
   "mimetype": "text/x-python",
   "name": "python",
   "nbconvert_exporter": "python",
   "pygments_lexer": "ipython3",
   "version": "3.6.6"
  }
 },
 "nbformat": 4,
 "nbformat_minor": 2
}
