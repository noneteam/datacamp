{
 "cells": [
  {
   "cell_type": "markdown",
   "metadata": {},
   "source": [
    "# Calculations with variables"
   ]
  },
  {
   "cell_type": "markdown",
   "metadata": {},
   "source": [
    "#### EXERCISE:\n",
    "Remember how you calculated the money you ended up with after 7 years of investing &#36;100? You did something like this:\n",
    "<pre><code>100 * 1.1 ** 7</code></pre>\n",
    "Instead of calculating with the actual values, you can use variables instead. The <code>savings</code> variable you've created in the previous exercise represents the $100 you started with. It's up to you to create a new variable to represent <code>1.1</code> and then redo the calculations!"
   ]
  },
  {
   "cell_type": "markdown",
   "metadata": {},
   "source": [
    "#### INSTRUCTIONS:\n",
    "* Create a variable <code>growth_multiplier</code>, equal to <code>1.1</code>.\n",
    "* Create a variable, <code>result</code>, equal to the amount of money you saved after <code>7</code> years.\n",
    "* Print out the value of <code>result</code>."
   ]
  },
  {
   "cell_type": "markdown",
   "metadata": {},
   "source": [
    "#### SCRIPT.PY:"
   ]
  },
  {
   "cell_type": "code",
   "execution_count": null,
   "metadata": {},
   "outputs": [],
   "source": [
    "# Create a variable savings\n",
    "savings = 100\n",
    "\n",
    "# Create a variable growth_multiplier\n",
    "\n",
    "\n",
    "# Calculate result\n",
    "\n",
    "\n",
    "# Print out result\n"
   ]
  }
 ],
 "metadata": {
  "kernelspec": {
   "display_name": "Python 3",
   "language": "python",
   "name": "python3"
  },
  "language_info": {
   "codemirror_mode": {
    "name": "ipython",
    "version": 3
   },
   "file_extension": ".py",
   "mimetype": "text/x-python",
   "name": "python",
   "nbconvert_exporter": "python",
   "pygments_lexer": "ipython3",
   "version": "3.6.6"
  }
 },
 "nbformat": 4,
 "nbformat_minor": 2
}
