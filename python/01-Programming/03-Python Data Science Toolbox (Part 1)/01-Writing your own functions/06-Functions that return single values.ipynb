{
 "cells": [
  {
   "cell_type": "markdown",
   "metadata": {},
   "source": [
    "# Functions that return single values"
   ]
  },
  {
   "cell_type": "markdown",
   "metadata": {},
   "source": [
    "#### EXERCISE:\n",
    "You're getting very good at this! Try your hand at another modification to the <code>shout()</code> function so that it now <em>returns</em> a single value instead of printing within the function. Recall that the <code>return</code> keyword lets you return values from functions. Parts of the function <code>shout()</code>, which you wrote earlier, are shown. Returning values is generally more desirable than printing them out because, as you saw earlier, a <code>print()</code> call assigned to a variable has type <code>NoneType</code>."
   ]
  },
  {
   "cell_type": "markdown",
   "metadata": {},
   "source": [
    "#### INSTRUCTIONS:\n",
    "* In the function body, concatenate the string in <code>word</code> with <code>'!!!'</code> and assign to <code>shout_word</code>.\n",
    "* Replace the <code>print()</code> statement with the appropriate <code>return</code> statement.\n",
    "* Call the <code>shout()</code> function, passing to it the string, <code>'congratulations'</code>, and assigning the call to the variable, <code>yell</code>.\n",
    "* To check if <code>yell</code> contains the value returned by <code>shout()</code>, print the value of <code>yell</code>."
   ]
  },
  {
   "cell_type": "markdown",
   "metadata": {},
   "source": [
    "#### SCRIPT.PY:"
   ]
  },
  {
   "cell_type": "code",
   "execution_count": 1,
   "metadata": {},
   "outputs": [
    {
     "name": "stdout",
     "output_type": "stream",
     "text": [
      "congratulations!!!\n"
     ]
    }
   ],
   "source": [
    "# Define shout with the parameter, word\n",
    "def shout(word):\n",
    "    \"\"\"Return a string with three exclamation marks\"\"\"\n",
    "    # Concatenate the strings: shout_word\n",
    "    shout_word = word + \"!!!\"\n",
    "\n",
    "    # Replace print with return\n",
    "    return shout_word\n",
    "\n",
    "# Pass 'congratulations' to shout: yell\n",
    "yell = shout(\"congratulations\")\n",
    "\n",
    "# Print yell\n",
    "print(yell)\n"
   ]
  }
 ],
 "metadata": {
  "kernelspec": {
   "display_name": "Python 3",
   "language": "python",
   "name": "python3"
  },
  "language_info": {
   "codemirror_mode": {
    "name": "ipython",
    "version": 3
   },
   "file_extension": ".py",
   "mimetype": "text/x-python",
   "name": "python",
   "nbconvert_exporter": "python",
   "pygments_lexer": "ipython3",
   "version": "3.6.6"
  }
 },
 "nbformat": 4,
 "nbformat_minor": 2
}
