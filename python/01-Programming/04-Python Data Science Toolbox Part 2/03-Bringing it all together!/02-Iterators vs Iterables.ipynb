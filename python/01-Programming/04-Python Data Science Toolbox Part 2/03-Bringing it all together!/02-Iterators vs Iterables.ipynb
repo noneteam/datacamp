{
 "cells": [
  {
   "cell_type": "markdown",
   "metadata": {},
   "source": [
    "# Iterators vs Iterables"
   ]
  },
  {
   "cell_type": "markdown",
   "metadata": {},
   "source": [
    "#### EXERCISE:\n",
    "Let's do a quick recall of what you've learned about <strong>iterables</strong> and <strong>iterators</strong>. Recall from the video that an <em>iterable</em> is an object that can return an <em>iterator</em>, while an <em>iterator</em> is an object that keeps state and produces the next value when you call <code>next()</code> on it. In this exercise, you will identify which object is an <em>iterable</em> and which is an <em>iterator</em>.\n",
    "\n",
    "The environment has been pre-loaded with the variables <code>flash1</code> and <code>flash2</code>. Try printing out their values with <code>print()</code> and <code>next()</code> to figure out which is an <em>iterable</em> and which is an <em>iterator</em>."
   ]
  },
  {
   "cell_type": "markdown",
   "metadata": {},
   "source": [
    "#### POSSIBLE ANSWERS:\n",
    "* Both <code>flash1</code> and <code>flash2</code> are iterators.\n",
    "* Both <code>flash1</code> and <code>flash2</code> are iterables.\n",
    "* <code>flash1</code> is an iterable and <code>flash2</code> is an iterator."
   ]
  }
 ],
 "metadata": {
  "kernelspec": {
   "display_name": "Python 3",
   "language": "python",
   "name": "python3"
  },
  "language_info": {
   "codemirror_mode": {
    "name": "ipython",
    "version": 3
   },
   "file_extension": ".py",
   "mimetype": "text/x-python",
   "name": "python",
   "nbconvert_exporter": "python",
   "pygments_lexer": "ipython3",
   "version": "3.6.6"
  }
 },
 "nbformat": 4,
 "nbformat_minor": 2
}
