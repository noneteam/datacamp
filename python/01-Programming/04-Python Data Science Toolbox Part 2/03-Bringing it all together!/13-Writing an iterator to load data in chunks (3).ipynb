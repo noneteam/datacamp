{
 "cells": [
  {
   "cell_type": "markdown",
   "metadata": {},
   "source": [
    "# Writing an iterator to load data in chunks (3)"
   ]
  },
  {
   "cell_type": "markdown",
   "metadata": {},
   "source": [
    "#### EXERCISE:\n",
    "You're getting used to reading and processing data in chunks by now. Let's push your skills a little further by adding a column to a DataFrame.\n",
    "\n",
    "Starting from the code of the previous exercise, you will be using a <em>list comprehension</em> to create the values for a new column <code>'Total Urban Population'</code> from the list of tuples that you generated earlier. Recall from the previous exercise that the first and second elements of each tuple consist of, respectively, values from the columns <code>'Total Population'</code> and <code>'Urban population (% of total)'</code>. The values in this new column <code>'Total Urban Population'</code>, therefore, are the product of the first and second element in each tuple. Furthermore, because the 2nd element is a percentage, you need to divide the entire result by <code>100</code>, or alternatively, multiply it by <code>0.01</code>.\n",
    "\n",
    "You will also plot the data from this new column to create a visualization of the urban population data.</p>\n",
    "\n",
    "The packages <code>pandas</code> and <code>matplotlib.pyplot</code> have been imported as <code>pd</code> and <code>plt</code> respectively for your use."
   ]
  },
  {
   "cell_type": "markdown",
   "metadata": {},
   "source": [
    "#### INSTRUCTIONS:\n",
    "* Write a list comprehension to generate a list of values from <code>pops_list</code> for the new column <code>'Total Urban Population'</code>. The <em>output expression</em> should be the product of the first and second element in each tuple in <code>pops_list</code>. Because the 2nd element is a percentage, you also need to either multiply the result by <code>0.01</code> or divide it by <code>100</code>. In addition, note that the column <code>'Total Urban Population'</code> should only be able to take on integer values. To ensure this, make sure you cast the <em>output expression</em> to an integer with <code>int()</code>.\n",
    "* Create a <em>scatter</em> plot where the x-axis are values from the <code>'Year'</code> column and the y-axis are values from the <code>'Total Urban Population'</code> column."
   ]
  },
  {
   "cell_type": "markdown",
   "metadata": {},
   "source": [
    "#### SCRIPT.PY:"
   ]
  },
  {
   "cell_type": "code",
   "execution_count": null,
   "metadata": {},
   "outputs": [],
   "source": [
    "# Code from previous exercise\n",
    "urb_pop_reader = pd.read_csv('ind_pop_data.csv', chunksize=1000)\n",
    "df_urb_pop = next(urb_pop_reader)\n",
    "df_pop_ceb = df_urb_pop[df_urb_pop['CountryCode'] == 'CEB']\n",
    "pops = zip(df_pop_ceb['Total Population'], \n",
    "           df_pop_ceb['Urban population (% of total)'])\n",
    "pops_list = list(pops)\n",
    "\n",
    "# Use list comprehension to create new DataFrame column 'Total Urban Population'\n",
    "df_pop_ceb['Total Urban Population'] = [____]\n",
    "\n",
    "# Plot urban population data\n",
    "df_pop_ceb.plot(kind=____, x=____, y=____)\n",
    "plt.show()"
   ]
  }
 ],
 "metadata": {
  "kernelspec": {
   "display_name": "Python 3",
   "language": "python",
   "name": "python3"
  },
  "language_info": {
   "codemirror_mode": {
    "name": "ipython",
    "version": 3
   },
   "file_extension": ".py",
   "mimetype": "text/x-python",
   "name": "python",
   "nbconvert_exporter": "python",
   "pygments_lexer": "ipython3",
   "version": "3.6.6"
  }
 },
 "nbformat": 4,
 "nbformat_minor": 2
}
