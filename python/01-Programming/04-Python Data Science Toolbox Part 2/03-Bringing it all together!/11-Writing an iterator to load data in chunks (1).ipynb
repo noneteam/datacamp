{
 "cells": [
  {
   "cell_type": "markdown",
   "metadata": {},
   "source": [
    "# Writing an iterator to load data in chunks (1)"
   ]
  },
  {
   "cell_type": "markdown",
   "metadata": {},
   "source": [
    "#### EXERCISE:\n",
    "Another way to read data too large to store in memory in chunks is to read the file in as DataFrames of a certain length, say, 100. For example, with the pandas package (imported as <code>pd</code>), you can do <code>pd.read_csv(filename, chunksize=100)</code>. This creates an iterable <strong>reader object</strong>, which means that you can use <code>next()</code> on it.\n",
    "\n",
    "In this exercise, you will read a file in small DataFrame chunks with <code>read_csv()</code>. You're going to use the World Bank Indicators data <code>'ind_pop.csv'</code>, available in your current directory, to look at the urban population indicator for numerous countries and years."
   ]
  },
  {
   "cell_type": "markdown",
   "metadata": {},
   "source": [
    "#### INSTRUCTIONS:\n",
    "* Use <code>pd.read_csv()</code> to read in <code>'ind_pop.csv'</code> in chunks of size 10. Assign the result to <code>df_reader</code>.\n",
    "* Print the first two chunks from <code>df_reader</code>."
   ]
  },
  {
   "cell_type": "markdown",
   "metadata": {},
   "source": [
    "#### SCRIPT.PY:"
   ]
  },
  {
   "cell_type": "code",
   "execution_count": null,
   "metadata": {},
   "outputs": [],
   "source": [
    "# Import the pandas package\n",
    "import pandas as pd\n",
    "\n",
    "# Initialize reader object: df_reader\n",
    "df_reader = ____(____, ____)\n",
    "\n",
    "# Print two chunks\n",
    "print(____)\n",
    "print(____)\n"
   ]
  }
 ],
 "metadata": {
  "kernelspec": {
   "display_name": "Python 3",
   "language": "python",
   "name": "python3"
  },
  "language_info": {
   "codemirror_mode": {
    "name": "ipython",
    "version": 3
   },
   "file_extension": ".py",
   "mimetype": "text/x-python",
   "name": "python",
   "nbconvert_exporter": "python",
   "pygments_lexer": "ipython3",
   "version": "3.6.6"
  }
 },
 "nbformat": 4,
 "nbformat_minor": 2
}
