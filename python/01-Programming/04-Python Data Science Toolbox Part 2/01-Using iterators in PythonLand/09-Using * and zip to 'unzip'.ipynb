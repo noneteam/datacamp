{
 "cells": [
  {
   "cell_type": "markdown",
   "metadata": {},
   "source": [
    "# Using * and zip to 'unzip'"
   ]
  },
  {
   "cell_type": "markdown",
   "metadata": {},
   "source": [
    "#### EXERCISE:\n",
    "You know how to use <code>zip()</code> as well as how to print out values from a <code>zip</code> object. Excellent!\n",
    "\n",
    "Let's play around with <code>zip()</code> a little more. There is no <em>unzip</em> function for doing the reverse of what <code>zip()</code> does. We can, however, reverse what has been <code>zip</code>ped together by using <code>zip()</code> with a little help from <code>*</code>! <code>*</code> unpacks an <em>iterable</em> such as a list or a tuple into <em>positional arguments</em> in a function call.\n",
    "\n",
    "In this exercise, you will use <code>*</code> in a call to <code>zip()</code> to unpack the tuples produced by <code>zip()</code>.\n",
    "\n",
    "Two tuples of strings, <code>mutants</code> and <code>powers</code> have been pre-loaded."
   ]
  },
  {
   "cell_type": "markdown",
   "metadata": {},
   "source": [
    "#### INSTRUCTIONS:\n",
    "* Create a <code>zip</code> object by using <code>zip()</code> on <code>mutants</code> and <code>powers</code>, in that order. Assign the result to <code>z1</code>.\n",
    "* Print the tuples in <code>z1</code> by unpacking them into positional arguments using the <code>*</code> operator in a <code>print()</code> call.\n",
    "* Because the previous <code>print()</code> call would have exhausted the elements in <code>z1</code>, recreate the <code>zip</code> object you defined earlier and assign the result again to <code>z1</code>.\n",
    "* 'Unzip' the tuples in <code>z1</code> by unpacking them into positional arguments using the <code>*</code> operator in a <code>zip()</code> call. Assign the results to <code>result1</code> and <code>result2</code>, in that order.\n",
    "* The last <code>print()</code> statements prints the output of comparing <code>result1</code> to <code>mutants</code> and <code>result2</code> to <code>powers</code>. Click <code>Submit Answer</code> to see if the unpacked <code>result1</code> and <code>result2</code> are equivalent to <code>mutants</code> and <code>powers</code>, respectively."
   ]
  },
  {
   "cell_type": "markdown",
   "metadata": {},
   "source": [
    "#### SCRIPT.PY:"
   ]
  },
  {
   "cell_type": "code",
   "execution_count": 8,
   "metadata": {},
   "outputs": [
    {
     "name": "stdout",
     "output_type": "stream",
     "text": [
      "('charles xavier', 'telepathy') ('bobby drake', 'thermokinesis') ('kurt wagner', 'teleportation') ('max eisenhardt', 'magnetokinesis') ('kitty pryde', 'intangibility')\n",
      "True\n",
      "True\n"
     ]
    }
   ],
   "source": [
    "mutants = ('charles xavier',\n",
    "           'bobby drake',\n",
    "           'kurt wagner',\n",
    "           'max eisenhardt',\n",
    "           'kitty pryde')\n",
    "powers = ('telepathy',\n",
    "          'thermokinesis',\n",
    "          'teleportation',\n",
    "          'magnetokinesis',\n",
    "          'intangibility')\n",
    "# Create a zip object from mutants and powers: z1\n",
    "z1 = zip(mutants, powers)\n",
    "\n",
    "# Print the tuples in z1 by unpacking with *\n",
    "print(*z1)\n",
    "\n",
    "# Re-create a zip object from mutants and powers: z1\n",
    "z1 = zip(mutants, powers)\n",
    "\n",
    "# 'Unzip' the tuples in z1 by unpacking with * and zip(): result1, result2\n",
    "result1, result2 = zip(*z1)\n",
    "\n",
    "# Check if unpacked tuples are equivalent to original tuples\n",
    "print(result1 == mutants)\n",
    "print(result2 == powers)\n"
   ]
  }
 ],
 "metadata": {
  "kernelspec": {
   "display_name": "Python 3",
   "language": "python",
   "name": "python3"
  },
  "language_info": {
   "codemirror_mode": {
    "name": "ipython",
    "version": 3
   },
   "file_extension": ".py",
   "mimetype": "text/x-python",
   "name": "python",
   "nbconvert_exporter": "python",
   "pygments_lexer": "ipython3",
   "version": "3.6.6"
  }
 },
 "nbformat": 4,
 "nbformat_minor": 2
}
