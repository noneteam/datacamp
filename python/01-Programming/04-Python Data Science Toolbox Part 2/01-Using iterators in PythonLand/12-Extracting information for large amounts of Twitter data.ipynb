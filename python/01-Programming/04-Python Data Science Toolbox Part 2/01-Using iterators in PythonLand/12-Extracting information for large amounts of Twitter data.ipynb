{
 "cells": [
  {
   "cell_type": "markdown",
   "metadata": {},
   "source": [
    "# Extracting information for large amounts of Twitter data"
   ]
  },
  {
   "cell_type": "markdown",
   "metadata": {},
   "source": [
    "#### EXERCISE:\n",
    "Great job chunking out that file in the previous exercise. You now know how to deal with situations where you need to process a very large file and that's a very useful skill to have!\n",
    "\n",
    "It's good to know how to process a file in smaller, more manageable chunks, but it can become very tedious having to write and rewrite the same code for the same task each time. In this exercise, you will be making your code more <em>reusable</em> by putting your work in the last exercise in a <em>function definition</em>.\n",
    "\n",
    "The pandas package has been imported as <code>pd</code> and the file <code>'tweets.csv'</code> is in your current directory for your use."
   ]
  },
  {
   "cell_type": "markdown",
   "metadata": {},
   "source": [
    "#### INSTRUCTIONS:\n",
    "* Define the function <code>count_entries()</code>, which has 3 parameters. The first parameter is <code>csv_file</code> for the filename, the second is <code>c_size</code> for the chunk size, and the last is <code>colname</code> for the column name.\n",
    "* Iterate over the file in <code>csv_file</code> file by using a <code>for</code> loop. Use the loop variable <code>chunk</code> and iterate over the call to <code>pd.read_csv()</code>, passing <code>c_size</code> to <code>chunksize</code>.\n",
    "* In the inner loop, iterate over the column given by <code>colname</code> in <code>chunk</code> by using a <code>for</code> loop. Use the loop variable <code>entry</code>.\n",
    "* Call the <code>count_entries()</code> function by passing to it the filename <code>'tweets.csv'</code>, the size of chunks <code>10</code>, and the name of the column to count, <code>'lang'</code>. Assign the result of the call to the variable <code>result_counts</code>."
   ]
  },
  {
   "cell_type": "markdown",
   "metadata": {},
   "source": [
    "#### SCRIPT.PY:"
   ]
  },
  {
   "cell_type": "code",
   "execution_count": null,
   "metadata": {},
   "outputs": [],
   "source": [
    "# Define count_entries()\n",
    "def ____():\n",
    "    \"\"\"Return a dictionary with counts of\n",
    "    occurrences as value for each key.\"\"\"\n",
    "    \n",
    "    # Initialize an empty dictionary: counts_dict\n",
    "    counts_dict = {}\n",
    "\n",
    "    # Iterate over the file chunk by chunk\n",
    "    for ____ in ____:\n",
    "\n",
    "        # Iterate over the column in DataFrame\n",
    "        for ____ in ____:\n",
    "            if entry in counts_dict.keys():\n",
    "                counts_dict[entry] += 1\n",
    "            else:\n",
    "                counts_dict[entry] = 1\n",
    "\n",
    "    # Return counts_dict\n",
    "    return counts_dict\n",
    "\n",
    "# Call count_entries(): result_counts\n",
    "result_counts = ____\n",
    "\n",
    "# Print result_counts\n",
    "print(result_counts)\n"
   ]
  }
 ],
 "metadata": {
  "kernelspec": {
   "display_name": "Python 3",
   "language": "python",
   "name": "python3"
  },
  "language_info": {
   "codemirror_mode": {
    "name": "ipython",
    "version": 3
   },
   "file_extension": ".py",
   "mimetype": "text/x-python",
   "name": "python",
   "nbconvert_exporter": "python",
   "pygments_lexer": "ipython3",
   "version": "3.6.6"
  }
 },
 "nbformat": 4,
 "nbformat_minor": 2
}
