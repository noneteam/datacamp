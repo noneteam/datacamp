{
 "cells": [
  {
   "cell_type": "markdown",
   "metadata": {},
   "source": [
    "# Iterators as function arguments"
   ]
  },
  {
   "cell_type": "markdown",
   "metadata": {},
   "source": [
    "#### EXERCISE:\n",
    "You've been using the <code>iter()</code> function to get an iterator object, as well as the <code>next()</code> function to retrieve the values one by one from the iterator object.\n",
    "\n",
    "There are also functions that take iterators as arguments. For example, the <code>list()</code> and <code>sum()</code> functions return a list and the sum of elements, respectively.\n",
    "\n",
    "In this exercise, you will use these functions by passing an iterator from <code>range()</code> and then printing the results of the function calls."
   ]
  },
  {
   "cell_type": "markdown",
   "metadata": {},
   "source": [
    "#### INSTRUCTIONS:\n",
    "* Create a <code>range</code> object that would produce the values from 10 to 20 using <code>range()</code>. Assign the result to <code>values</code>.\n",
    "* Use the <code>list()</code> function to create a list of values from the range object <code>values</code>. Assign the result to <code>values_list</code>.\n",
    "* Use the <code>sum()</code> function to get the sum of the values from 10 to 20 from the range object <code>values</code>. Assign the result to <code>values_sum</code>."
   ]
  },
  {
   "cell_type": "markdown",
   "metadata": {},
   "source": [
    "#### SCRIPT.PY:"
   ]
  },
  {
   "cell_type": "code",
   "execution_count": null,
   "metadata": {},
   "outputs": [],
   "source": [
    "# Create a range object: values\n",
    "values = ____\n",
    "\n",
    "# Print the range object\n",
    "print(values)\n",
    "\n",
    "# Create a list of integers: values_list\n",
    "values_list = ____\n",
    "\n",
    "# Print values_list\n",
    "print(values_list)\n",
    "\n",
    "# Get the sum of values: values_sum\n",
    "values_sum = ____\n",
    "\n",
    "# Print values_sum\n",
    "print(values_sum)\n"
   ]
  }
 ],
 "metadata": {
  "kernelspec": {
   "display_name": "Python 3",
   "language": "python",
   "name": "python3"
  },
  "language_info": {
   "codemirror_mode": {
    "name": "ipython",
    "version": 3
   },
   "file_extension": ".py",
   "mimetype": "text/x-python",
   "name": "python",
   "nbconvert_exporter": "python",
   "pygments_lexer": "ipython3",
   "version": "3.6.6"
  }
 },
 "nbformat": 4,
 "nbformat_minor": 2
}
