{
 "cells": [
  {
   "cell_type": "markdown",
   "metadata": {},
   "source": [
    "# Iterating over iterables (2)"
   ]
  },
  {
   "cell_type": "markdown",
   "metadata": {},
   "source": [
    "#### EXERCISE:\n",
    "One of the things you learned about in this chapter is that not all iterables are <em>actual</em> lists. A couple of examples that we looked at are <em>strings</em> and the use of the <code>range()</code> function. In this exercise, we will focus on the <code>range()</code> function.\n",
    "\n",
    "You can use <code>range()</code> in a <code>for</code> loop <em>as if</em> it's a list to be iterated over:\n",
    "\n",
    "<pre><code>for i in range(5):\n",
    "    print(i)\n",
    "</code></pre>\n",
    "\n",
    "Recall that <code>range()</code> doesn't actually create the list; instead, it creates a range object with an iterator that produces the values until it reaches the limit (in the example, until the value 4). If <code>range()</code> created the actual list, calling it with a value of $10^{100}$ may not work, especially since a number as big as that may go over a regular computer's memory. The value $10^{100}$ is actually what's called a <strong>Googol</strong> which is a 1 followed by a hundred 0s. That's a huge number!\n",
    "\n",
    "Your task for this exercise is to show that calling <code>range()</code> with $10^{100}$ won't actually pre-create the list."
   ]
  },
  {
   "cell_type": "markdown",
   "metadata": {},
   "source": [
    "#### INSTRUCTIONS:\n",
    "* Create an <strong>iterator</strong> object <code>small_value</code> over <code>range(3)</code> using the function <code>iter()</code>.\n",
    "* Using a <code>for</code> loop, iterate over <code>range(3)</code>, printing the value for every iteration. Use <code>num</code> as the loop variable.\n",
    "* <li>Create an <strong>iterator</strong> object <code>googol</code> over <code>range(10 ** 100)</code>."
   ]
  },
  {
   "cell_type": "markdown",
   "metadata": {},
   "source": [
    "#### SCRIPT.PY:"
   ]
  },
  {
   "cell_type": "code",
   "execution_count": null,
   "metadata": {},
   "outputs": [],
   "source": [
    "# Create an iterator for range(3): small_value\n",
    "small_value = ____\n",
    "\n",
    "# Print the values in small_value\n",
    "print(next(small_value))\n",
    "print(next(small_value))\n",
    "print(next(small_value))\n",
    "\n",
    "# Loop over range(3) and print the values\n",
    "\n",
    "\n",
    "\n",
    "# Create an iterator for range(10 ** 100): googol\n",
    "googol = ____\n",
    "\n",
    "# Print the first 5 values from googol\n",
    "print(next(googol))\n",
    "print(next(googol))\n",
    "print(next(googol))\n",
    "print(next(googol))\n",
    "print(next(googol))\n"
   ]
  }
 ],
 "metadata": {
  "kernelspec": {
   "display_name": "Python 3",
   "language": "python",
   "name": "python3"
  },
  "language_info": {
   "codemirror_mode": {
    "name": "ipython",
    "version": 3
   },
   "file_extension": ".py",
   "mimetype": "text/x-python",
   "name": "python",
   "nbconvert_exporter": "python",
   "pygments_lexer": "ipython3",
   "version": "3.6.6"
  }
 },
 "nbformat": 4,
 "nbformat_minor": 2
}
