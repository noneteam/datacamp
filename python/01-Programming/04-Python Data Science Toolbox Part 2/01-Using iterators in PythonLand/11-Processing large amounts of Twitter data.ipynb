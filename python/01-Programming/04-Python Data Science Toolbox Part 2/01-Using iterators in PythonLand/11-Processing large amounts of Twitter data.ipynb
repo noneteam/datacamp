{
 "cells": [
  {
   "cell_type": "markdown",
   "metadata": {},
   "source": [
    "# Processing large amounts of Twitter data"
   ]
  },
  {
   "cell_type": "markdown",
   "metadata": {},
   "source": [
    "#### EXERCISE:\n",
    "Sometimes, the data we have to process reaches a size that is too much for a computer's memory to handle. This is a common problem faced by data scientists. A solution to this is to process an entire data source chunk by chunk, instead of a single go all at once.\n",
    "\n",
    "In this exercise, you will do just that. You will process a large csv file of Twitter data in the same way that you processed <code>'tweets.csv'</code> in <em>Bringing it all together</em> exercises of the prequel course, but this time, working on it in chunks of 10 entries at a time.\n",
    "\n",
    "If you are interested in learning how to access Twitter data so you can work with it on your own system, refer to Part 2 of the DataCamp course on Importing Data in Python.\n",
    "\n",
    "The pandas package has been imported as <code>pd</code> and the file <code>'tweets.csv'</code> is in your current directory for your use. Go for it!"
   ]
  },
  {
   "cell_type": "markdown",
   "metadata": {},
   "source": [
    "#### INSTRUCTIONS:\n",
    "* Initialize an empty dictionary <code>counts_dict</code> for storing the results of processing the Twitter data.\n",
    "* Iterate over the <code>'tweets.csv'</code> file by using a <code>for</code> loop. Use the loop variable <code>chunk</code> and iterate over the call to <code>pd.read_csv()</code> with a <code>chunksize</code> of 10.\n",
    "* In the inner loop, iterate over the column <code>'lang'</code> in <code>chunk</code> by using a <code>for</code> loop. Use the loop variable <code>entry</code>."
   ]
  },
  {
   "cell_type": "markdown",
   "metadata": {},
   "source": [
    "#### SCRIPT.PY:"
   ]
  },
  {
   "cell_type": "code",
   "execution_count": null,
   "metadata": {},
   "outputs": [],
   "source": [
    "# Initialize an empty dictionary: counts_dict\n",
    "\n",
    "\n",
    "# Iterate over the file chunk by chunk\n",
    "for ____ in ____:\n",
    "\n",
    "    # Iterate over the column in DataFrame\n",
    "    for ____ in ____:\n",
    "        if entry in counts_dict.keys():\n",
    "            counts_dict[entry] += 1\n",
    "        else:\n",
    "            counts_dict[entry] = 1\n",
    "\n",
    "# Print the populated dictionary\n",
    "print(counts_dict)\n"
   ]
  }
 ],
 "metadata": {
  "kernelspec": {
   "display_name": "Python 3",
   "language": "python",
   "name": "python3"
  },
  "language_info": {
   "codemirror_mode": {
    "name": "ipython",
    "version": 3
   },
   "file_extension": ".py",
   "mimetype": "text/x-python",
   "name": "python",
   "nbconvert_exporter": "python",
   "pygments_lexer": "ipython3",
   "version": "3.6.6"
  }
 },
 "nbformat": 4,
 "nbformat_minor": 2
}
