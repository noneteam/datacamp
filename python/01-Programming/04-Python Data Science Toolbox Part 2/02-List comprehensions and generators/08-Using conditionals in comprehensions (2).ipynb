{
 "cells": [
  {
   "cell_type": "markdown",
   "metadata": {},
   "source": [
    "# Using conditionals in comprehensions (2)"
   ]
  },
  {
   "cell_type": "markdown",
   "metadata": {},
   "source": [
    "#### EXERCISE:\n",
    "In the previous exercise, you used an <code>if</code> conditional statement in the <em>predicate expression</em> part of a list comprehension to evaluate an iterator variable. In this exercise, you will use an <code>if-else</code> statement on the <em>output expression</em> of the list.\n",
    "\n",
    "You will work on the same list, <code>fellowship</code> and, using a list comprehension and an <code>if-else</code> conditional statement in the output expression, create a list that keeps members of <code>fellowship</code> with 7 or more characters and replaces others with an empty string. Use <code>member</code> as the iterator variable in the list comprehension."
   ]
  },
  {
   "cell_type": "markdown",
   "metadata": {},
   "source": [
    "#### INSTRUCTIONS:\n",
    "* In the output expression, keep the string as-is <strong>if</strong> the number of characters is &gt;= 7, <strong>else</strong> replace it with an <em>empty string</em> - that is, <code>''</code> or <code>\"\"</code>."
   ]
  },
  {
   "cell_type": "markdown",
   "metadata": {},
   "source": [
    "#### SCRIPT.PY:"
   ]
  },
  {
   "cell_type": "code",
   "execution_count": null,
   "metadata": {},
   "outputs": [],
   "source": [
    "# Create a list of strings: fellowship\n",
    "fellowship = ['frodo', 'samwise', 'merry', 'aragorn', 'legolas', 'boromir', 'gimli']\n",
    "\n",
    "# Create list comprehension: new_fellowship\n",
    "new_fellowship = [____ for ____ in fellowship]\n",
    "\n",
    "# Print the new list\n",
    "print(new_fellowship)\n"
   ]
  }
 ],
 "metadata": {
  "kernelspec": {
   "display_name": "Python 3",
   "language": "python",
   "name": "python3"
  },
  "language_info": {
   "codemirror_mode": {
    "name": "ipython",
    "version": 3
   },
   "file_extension": ".py",
   "mimetype": "text/x-python",
   "name": "python",
   "nbconvert_exporter": "python",
   "pygments_lexer": "ipython3",
   "version": "3.6.6"
  }
 },
 "nbformat": 4,
 "nbformat_minor": 2
}
