{
 "cells": [
  {
   "cell_type": "markdown",
   "metadata": {},
   "source": [
    "# Write your own generator expressions"
   ]
  },
  {
   "cell_type": "markdown",
   "metadata": {},
   "source": [
    "#### EXERCISE:\n",
    "You are familiar with what generators and generator expressions are, as well as its difference from list comprehensions. In this exercise, you will practice building generator expressions on your own.\n",
    "\n",
    "Recall that generator expressions basically have the same syntax as list comprehensions, except that it uses parentheses <code>()</code> instead of brackets <code>[]</code>; this should make things feel familiar! Furthermore, if you have ever iterated over a dictionary with <code>.items()</code>, or used the <code>range()</code> function, for example, you have already encountered and used generators before, without knowing it! When you use these functions, Python creates generators for you behind the scenes.\n",
    "\n",
    "Now, you will start simple by creating a generator object that produces numeric values."
   ]
  },
  {
   "cell_type": "markdown",
   "metadata": {},
   "source": [
    "#### INSTRUCTIONS:\n",
    "* Create a generator object that will produce values from <code>0</code> to <code>30</code>. Assign the result to <code>result</code> and use <code>num</code> as the iterator variable in the generator expression.\n",
    "* Print the first <code>5</code> values by using <code>next()</code> appropriately in <code>print()</code>.\n",
    "* Print the rest of the values by using a <code>for</code> loop to iterate over the generator object."
   ]
  },
  {
   "cell_type": "markdown",
   "metadata": {},
   "source": [
    "#### SCRIPT.PY:"
   ]
  },
  {
   "cell_type": "code",
   "execution_count": null,
   "metadata": {},
   "outputs": [],
   "source": [
    "# Create generator object: result\n",
    "result = ____\n",
    "\n",
    "# Print the first 5 values\n",
    "print(____)\n",
    "print(____)\n",
    "print(____)\n",
    "print(____)\n",
    "print(____)\n",
    "\n",
    "# Print the rest of the values\n",
    "for value in ____:\n",
    "    print(value)\n"
   ]
  }
 ],
 "metadata": {
  "kernelspec": {
   "display_name": "Python 3",
   "language": "python",
   "name": "python3"
  },
  "language_info": {
   "codemirror_mode": {
    "name": "ipython",
    "version": 3
   },
   "file_extension": ".py",
   "mimetype": "text/x-python",
   "name": "python",
   "nbconvert_exporter": "python",
   "pygments_lexer": "ipython3",
   "version": "3.6.6"
  }
 },
 "nbformat": 4,
 "nbformat_minor": 2
}
