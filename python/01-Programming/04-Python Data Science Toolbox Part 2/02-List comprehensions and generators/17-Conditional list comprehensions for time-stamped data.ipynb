{
 "cells": [
  {
   "cell_type": "markdown",
   "metadata": {},
   "source": [
    "# Conditional list comprehensions for time-stamped data"
   ]
  },
  {
   "cell_type": "markdown",
   "metadata": {},
   "source": [
    "#### EXERCISE:\n",
    "Great, you've successfully extracted the data of interest, the time, from a pandas DataFrame! Let's tweak your work further by adding a conditional that further specifies which entries to select.\n",
    "\n",
    "In this exercise, you will be using a list comprehension to extract the time from time-stamped Twitter data. You will add a conditional expression to the list comprehension so that you only select the times in which <code>entry[17:19]</code> is equal to <code>'19'</code>. The pandas package has been imported as <code>pd</code> and the file <code>'tweets.csv'</code> has been imported as the <code>df</code> DataFrame for your use."
   ]
  },
  {
   "cell_type": "markdown",
   "metadata": {},
   "source": [
    "#### INSTRUCTIONS:\n",
    "* Extract the column <code>'created_at'</code> from <code>df</code> and assign the result to <code>tweet_time</code>.\n",
    "* Create a list comprehension that extracts the time from each row in <code>tweet_time</code>. Each row is a string that represents a timestamp, and you will access the <em>12th to 19th characters</em> in the string to extract the time. Use <code>entry</code> as the <em>iterator variable</em> and assign the result to <code>tweet_clock_time</code>. Additionally, add a conditional expression that checks whether <code>entry[17:19]</code> is equal to <code>'19'</code>."
   ]
  },
  {
   "cell_type": "markdown",
   "metadata": {},
   "source": [
    "#### SCRIPT.PY:"
   ]
  },
  {
   "cell_type": "code",
   "execution_count": null,
   "metadata": {},
   "outputs": [],
   "source": [
    "# Extract the created_at column from df: tweet_time\n",
    "tweet_time = df['created_at']\n",
    "\n",
    "# Extract the clock time: tweet_clock_time\n",
    "tweet_clock_time = [____ for ____ in ____ if ____ == ____]\n",
    "\n",
    "# Print the extracted times\n",
    "print(tweet_clock_time)\n"
   ]
  }
 ],
 "metadata": {
  "kernelspec": {
   "display_name": "Python 3",
   "language": "python",
   "name": "python3"
  },
  "language_info": {
   "codemirror_mode": {
    "name": "ipython",
    "version": 3
   },
   "file_extension": ".py",
   "mimetype": "text/x-python",
   "name": "python",
   "nbconvert_exporter": "python",
   "pygments_lexer": "ipython3",
   "version": "3.6.6"
  }
 },
 "nbformat": 4,
 "nbformat_minor": 2
}
