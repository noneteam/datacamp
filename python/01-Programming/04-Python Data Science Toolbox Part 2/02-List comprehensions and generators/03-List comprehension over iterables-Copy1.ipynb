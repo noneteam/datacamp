{
 "cells": [
  {
   "cell_type": "markdown",
   "metadata": {},
   "source": [
    "# List comprehension over iterables"
   ]
  },
  {
   "cell_type": "markdown",
   "metadata": {},
   "source": [
    "#### EXERCISE:\n",
    "You know that list comprehensions can be built over iterables. Given the following objects below, which of these can we build list comprehensions over?\n",
    "\n",
    "<pre><code>doctor = ['house', 'cuddy', 'chase', 'thirteen', 'wilson']\n",
    "\n",
    "range(50)\n",
    "\n",
    "underwood = 'After all, we are nothing more or less than what we choose to reveal.'\n",
    "\n",
    "jean = '24601'\n",
    "\n",
    "flash = ['jay garrick', 'barry allen', 'wally west', 'bart allen']\n",
    "\n",
    "valjean = 24601\n",
    "</code></pre>"
   ]
  },
  {
   "cell_type": "markdown",
   "metadata": {},
   "source": [
    "#### POSSIBLE ANSWERS:\n",
    "* You can build list comprehensions over all the objects except the string of number characters <code>jean</code>.\n",
    "* You can build list comprehensions over all the objects except the string lists <code>doctor</code> and <code>flash</code>.\n",
    "* You can build list comprehensions over all the objects except <code>range(50)</code>.\n",
    "* You can build list comprehensions over all the objects except the integer object <code>valjean</code>."
   ]
  }
 ],
 "metadata": {
  "kernelspec": {
   "display_name": "Python 3",
   "language": "python",
   "name": "python3"
  },
  "language_info": {
   "codemirror_mode": {
    "name": "ipython",
    "version": 3
   },
   "file_extension": ".py",
   "mimetype": "text/x-python",
   "name": "python",
   "nbconvert_exporter": "python",
   "pygments_lexer": "ipython3",
   "version": "3.6.6"
  }
 },
 "nbformat": 4,
 "nbformat_minor": 2
}
