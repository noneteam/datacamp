{
 "cells": [
  {
   "cell_type": "markdown",
   "metadata": {},
   "source": [
    "# Write a basic list comprehension"
   ]
  },
  {
   "cell_type": "markdown",
   "metadata": {},
   "source": [
    "#### EXERCISE:\n",
    "In this exercise, you will practice what you've learned from the video about writing list comprehensions. You will write a list comprehension and identify the output that will be produced.\n",
    "\n",
    "The following list has been pre-loaded in the environment.\n",
    "\n",
    "<pre><code>doctor = ['house', 'cuddy', 'chase', 'thirteen', 'wilson']\n",
    "</code></pre>\n",
    "\n",
    "How would a list comprehension that produces a list of the <strong>first character</strong> of each string in <code>doctor</code> look like? Note that the list comprehension uses <code>doc</code> as the iterator variable. What will the output be?"
   ]
  },
  {
   "cell_type": "markdown",
   "metadata": {},
   "source": [
    "#### POSSIBLE ANSWERS:\n",
    "* The list comprehension is <code>[for doc in doctor: doc[0]]</code> and produces the list <code>['h', 'c', 'c', 't', 'w']</code>.\n",
    "* The list comprehension is <code>[doc[0] for doc in doctor]</code> and produces the list <code>['h', 'c', 'c', 't', 'w']</code>.\n",
    "* The list comprehension is <code>[doc[0] in doctor]</code> and produces the list <code>['h', 'c', 'c', 't', 'w']</code>."
   ]
  }
 ],
 "metadata": {
  "kernelspec": {
   "display_name": "Python 3",
   "language": "python",
   "name": "python3"
  },
  "language_info": {
   "codemirror_mode": {
    "name": "ipython",
    "version": 3
   },
   "file_extension": ".py",
   "mimetype": "text/x-python",
   "name": "python",
   "nbconvert_exporter": "python",
   "pygments_lexer": "ipython3",
   "version": "3.6.6"
  }
 },
 "nbformat": 4,
 "nbformat_minor": 2
}
