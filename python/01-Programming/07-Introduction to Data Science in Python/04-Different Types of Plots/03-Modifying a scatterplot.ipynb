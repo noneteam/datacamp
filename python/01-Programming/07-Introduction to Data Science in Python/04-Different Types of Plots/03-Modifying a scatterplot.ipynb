{
 "cells": [
  {
   "cell_type": "markdown",
   "metadata": {},
   "source": [
    "# Modifying a scatterplot"
   ]
  },
  {
   "cell_type": "markdown",
   "metadata": {},
   "source": [
    "#### EXERCISE:\n",
    "In the previous exercise, we created a scatter plot to show Freddy Frequentist's cell phone data.\n",
    "\n",
    "In this exercise, we've done some magic so that the plot will appear over a map of our town.  If we just plot the data as we did before, we won't be able to see the map or pick out the areas with the most points.  We can fix this by changing the colors, markers, and transparency of the scatter plot.\n",
    "\n",
    "As before, the <code>matplotlib</code> module has been imported under the alias <code>plt</code>, and the cellphone data is in the DataFrame <code>cellphone</code>."
   ]
  },
  {
   "cell_type": "markdown",
   "metadata": {},
   "source": [
    "#### INSTRUCTION:\n",
    "* Change the color of the points to <code>'red'</code>."
   ]
  },
  {
   "cell_type": "markdown",
   "metadata": {},
   "source": [
    "#### SCRIPT.PY:"
   ]
  },
  {
   "cell_type": "code",
   "execution_count": null,
   "metadata": {},
   "outputs": [],
   "source": [
    "# Change the marker color to red\n",
    "plt.scatter(cellphone.x, cellphone.y,\n",
    "           ____=____)\n",
    "\n",
    "# Add labels\n",
    "plt.ylabel('Longitude')\n",
    "plt.xlabel('Latitude')\n",
    "\n",
    "# Display the plot\n",
    "plt.show()"
   ]
  },
  {
   "cell_type": "markdown",
   "metadata": {},
   "source": [
    "#### INSTRUCTION:\n",
    "* Change the marker shape to square."
   ]
  },
  {
   "cell_type": "code",
   "execution_count": null,
   "metadata": {},
   "outputs": [],
   "source": [
    "# Change the marker shape to square\n",
    "plt.scatter(cellphone.x, cellphone.y,\n",
    "           color='red',\n",
    "           ____=____)\n",
    "\n",
    "# Add labels\n",
    "plt.ylabel('Longitude')\n",
    "plt.xlabel('Latitude')\n",
    "\n",
    "# Display the plot\n",
    "plt.show()"
   ]
  },
  {
   "cell_type": "markdown",
   "metadata": {},
   "source": [
    "#### INSTRUCTION:\n",
    "* Change the transparency of the scatterplot to <code>0.1</code>."
   ]
  },
  {
   "cell_type": "code",
   "execution_count": null,
   "metadata": {},
   "outputs": [],
   "source": [
    "# Change the transparency to 0.1\n",
    "plt.scatter(cellphone.x, cellphone.y,\n",
    "           color='red',\n",
    "           marker='s',\n",
    "           ____=____)\n",
    "\n",
    "# Add labels\n",
    "plt.ylabel('Longitude')\n",
    "plt.xlabel('Latitude')\n",
    "\n",
    "# Display the plot\n",
    "plt.show()"
   ]
  }
 ],
 "metadata": {
  "kernelspec": {
   "display_name": "Python 3",
   "language": "python",
   "name": "python3"
  },
  "language_info": {
   "codemirror_mode": {
    "name": "ipython",
    "version": 3
   },
   "file_extension": ".py",
   "mimetype": "text/x-python",
   "name": "python",
   "nbconvert_exporter": "python",
   "pygments_lexer": "ipython3",
   "version": "3.6.7"
  }
 },
 "nbformat": 4,
 "nbformat_minor": 2
}
