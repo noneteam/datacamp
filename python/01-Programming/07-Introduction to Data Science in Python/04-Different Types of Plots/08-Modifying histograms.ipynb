{
 "cells": [
  {
   "cell_type": "markdown",
   "metadata": {},
   "source": [
    "# Modifying histograms"
   ]
  },
  {
   "cell_type": "markdown",
   "metadata": {},
   "source": [
    "#### EXERCISE:\n",
    "Let's explore how changes to keyword parameters in a histogram can change the output.  Recall that:\n",
    "\n",
    "* <code>range</code> sets the minimum and maximum datapoints that we will include in our histogram.\n",
    "* <code>bins</code> sets the number of points in our histogram.\n",
    "\n",
    "We'll be exploring the weights of various puppies from the DataFrame <code>puppy_weight</code>. <code>matplotlib</code> has been loaded under the alias <code>plt</code>."
   ]
  },
  {
   "cell_type": "markdown",
   "metadata": {},
   "source": [
    "#### INSTRUCTION:\n",
    "* Create a histogram of the column <code>weight</code> from the DataFrame <code>puppy_weight</code>."
   ]
  },
  {
   "cell_type": "markdown",
   "metadata": {},
   "source": [
    "#### SCRIPT.PY:"
   ]
  },
  {
   "cell_type": "code",
   "execution_count": null,
   "metadata": {},
   "outputs": [],
   "source": [
    "# Create a histogram of the column weight\n",
    "# from the DataFrame puppy_weight\n",
    "____(____.____)\n",
    "\n",
    "# Add labels\n",
    "plt.xlabel('Puppy Weight (lbs)')\n",
    "plt.ylabel('Number of Puppies')\n",
    "\n",
    "# Display\n",
    "plt.show()"
   ]
  },
  {
   "cell_type": "markdown",
   "metadata": {},
   "source": [
    "#### INSTRUCTION:\n",
    "* Change the number of bins to 50."
   ]
  },
  {
   "cell_type": "code",
   "execution_count": null,
   "metadata": {},
   "outputs": [],
   "source": [
    "# Change the number of bins to 50\n",
    "plt.hist(puppy_weight.weight,\n",
    "        ____=____)\n",
    "\n",
    "# Add labels\n",
    "plt.xlabel('Puppy Weight (lbs)')\n",
    "plt.ylabel('Number of Puppies')\n",
    "\n",
    "# Display\n",
    "plt.show()"
   ]
  },
  {
   "cell_type": "markdown",
   "metadata": {},
   "source": [
    "#### INSTRUCTION:\n",
    "* Change the range to start at 5 and end at 35."
   ]
  },
  {
   "cell_type": "code",
   "execution_count": null,
   "metadata": {},
   "outputs": [],
   "source": [
    "# Change the range to start at 5 and end at 35\n",
    "plt.hist(puppy_weight.weight,\n",
    "        ____=(____, ____))\n",
    "\n",
    "# Add labels\n",
    "plt.xlabel('Puppy Weight (lbs)')\n",
    "plt.ylabel('Number of Puppies')\n",
    "\n",
    "# Display\n",
    "plt.show()"
   ]
  }
 ],
 "metadata": {
  "kernelspec": {
   "display_name": "Python 3",
   "language": "python",
   "name": "python3"
  },
  "language_info": {
   "codemirror_mode": {
    "name": "ipython",
    "version": 3
   },
   "file_extension": ".py",
   "mimetype": "text/x-python",
   "name": "python",
   "nbconvert_exporter": "python",
   "pygments_lexer": "ipython3",
   "version": "3.6.7"
  }
 },
 "nbformat": 4,
 "nbformat_minor": 2
}
