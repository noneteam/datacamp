{
 "cells": [
  {
   "cell_type": "markdown",
   "metadata": {},
   "source": [
    "# Charting cellphone data"
   ]
  },
  {
   "cell_type": "markdown",
   "metadata": {},
   "source": [
    "#### EXERCISE:\n",
    "We know that Freddy Frequentist is the one who kidnapped Bayes the Golden Retriever.  Now we need to learn where he is hiding.\n",
    "\n",
    "Our friends at the police station have acquired cell phone data, which gives some of Freddie's locations over the past three weeks.  It's stored in the DataFrame <code>cellphone</code>.  The x-coordinates are in the column <code>'x'</code> and the y-coordinates are in the column <code>'y'</code>.\n",
    "\n",
    "The <code>matplotlib</code> module has been imported under the alias <code>plt</code>."
   ]
  },
  {
   "cell_type": "markdown",
   "metadata": {},
   "source": [
    "#### INSTRUCTIONS:\n",
    "* Display the first five rows of the DataFrame and determine which columns to plot\n",
    "* Create a scatter plot of the data in <code>cellphone</code>."
   ]
  },
  {
   "cell_type": "markdown",
   "metadata": {},
   "source": [
    "#### SCRIPT.PY:"
   ]
  },
  {
   "cell_type": "code",
   "execution_count": null,
   "metadata": {},
   "outputs": [],
   "source": [
    "# Explore the data\n",
    "print(cellphone.____)\n",
    "\n",
    "# Create a scatter plot of the data from the DataFrame cellphone\n",
    "plt.____(____, ____)\n",
    "\n",
    "# Add labels\n",
    "plt.ylabel('Longitude')\n",
    "plt.xlabel('Latitude')\n",
    "\n",
    "# Display the plot\n",
    "plt.show()"
   ]
  }
 ],
 "metadata": {
  "kernelspec": {
   "display_name": "Python 3",
   "language": "python",
   "name": "python3"
  },
  "language_info": {
   "codemirror_mode": {
    "name": "ipython",
    "version": 3
   },
   "file_extension": ".py",
   "mimetype": "text/x-python",
   "name": "python",
   "nbconvert_exporter": "python",
   "pygments_lexer": "ipython3",
   "version": "3.6.7"
  }
 },
 "nbformat": 4,
 "nbformat_minor": 2
}
