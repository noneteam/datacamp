{
 "cells": [
  {
   "cell_type": "markdown",
   "metadata": {},
   "source": [
    "# Build a simple bar chart"
   ]
  },
  {
   "cell_type": "markdown",
   "metadata": {},
   "source": [
    "#### EXERCISE:\n",
    "Officer Deshaun wants to plot the average number of hours worked per week for him and his coworkers.  He has stored the hours worked in a DataFrame called <code>hours</code>, which has columns <code>officer</code> and <code>avg_hours_worked</code>.  Recall that the function <code>plt.bar()</code> takes two arguments: the labels for each bar, and the height of each bar.  Both of these can be found in our DataFrame."
   ]
  },
  {
   "cell_type": "markdown",
   "metadata": {},
   "source": [
    "#### INSTRUCTION:\n",
    "* Display the DataFrame <code>hours</code> using a <code>print</code> command."
   ]
  },
  {
   "cell_type": "markdown",
   "metadata": {},
   "source": [
    "#### SCRIPT.PY:"
   ]
  },
  {
   "cell_type": "code",
   "execution_count": 3,
   "metadata": {},
   "outputs": [
    {
     "name": "stdout",
     "output_type": "stream",
     "text": [
      "   officer  avg_hours_worked  std_hours_worked\n",
      "0  Deshaun                45                 3\n",
      "1  Mengfei                33                 9\n",
      "2   Aditya                42                 5\n"
     ]
    }
   ],
   "source": [
    "%matplotlib inline\n",
    "from matplotlib import pyplot as plt\n",
    "import pandas as pd\n",
    "hours = pd.DataFrame([[\"Deshaun\", 45, 3], [\"Mengfei\", 33, 9], [\"Aditya\", 42, 5]],\n",
    "                     columns=[\"officer\", \"avg_hours_worked\", \"std_hours_worked\"])\n",
    "# Display the DataFrame hours using print\n",
    "print(hours)"
   ]
  },
  {
   "cell_type": "markdown",
   "metadata": {},
   "source": [
    "#### INSTRUCTION:\n",
    "* Create a bar chart of the column <code>avg_hours_worked</code> for each <code>officer</code> from the DataFrame <code>hours</code>."
   ]
  },
  {
   "cell_type": "code",
   "execution_count": 5,
   "metadata": {},
   "outputs": [
    {
     "name": "stdout",
     "output_type": "stream",
     "text": [
      "   officer  avg_hours_worked  std_hours_worked\n",
      "0  Deshaun                45                 3\n",
      "1  Mengfei                33                 9\n",
      "2   Aditya                42                 5\n"
     ]
    },
    {
     "data": {
      "image/png": "[encoded data removed]",
      "text/plain": [
       "<Figure size 432x288 with 1 Axes>"
      ]
     },
     "metadata": {
      "needs_background": "light"
     },
     "output_type": "display_data"
    }
   ],
   "source": [
    "# Display the DataFrame hours using print\n",
    "print(hours)\n",
    "\n",
    "# Create a bar plot from the DataFrame hours\n",
    "plt.bar(hours.officer, hours.avg_hours_worked)\n",
    "\n",
    "# Display the plot\n",
    "plt.show()"
   ]
  },
  {
   "cell_type": "markdown",
   "metadata": {},
   "source": [
    "#### INSTRUCTION:\n",
    "* Use the column <code>std_hours_worked</code> (the standard deviation of the hours worked) to add error bars to the bar chart."
   ]
  },
  {
   "cell_type": "code",
   "execution_count": 9,
   "metadata": {},
   "outputs": [
    {
     "name": "stdout",
     "output_type": "stream",
     "text": [
      "   officer  avg_hours_worked  std_hours_worked\n",
      "0  Deshaun                45                 3\n",
      "1  Mengfei                33                 9\n",
      "2   Aditya                42                 5\n"
     ]
    },
    {
     "data": {
      "image/png": "[encoded data removed]",
      "text/plain": [
       "<Figure size 432x288 with 1 Axes>"
      ]
     },
     "metadata": {
      "needs_background": "light"
     },
     "output_type": "display_data"
    }
   ],
   "source": [
    "# Display the DataFrame hours using print\n",
    "print(hours)\n",
    "\n",
    "# Create a bar plot from the DataFrame hours\n",
    "plt.bar(hours.officer, hours.avg_hours_worked,\n",
    "        # Add error bars\n",
    "        yerr=hours.std_hours_worked)\n",
    "\n",
    "# Display the plot\n",
    "plt.show()"
   ]
  }
 ],
 "metadata": {
  "kernelspec": {
   "display_name": "Python 3",
   "language": "python",
   "name": "python3"
  },
  "language_info": {
   "codemirror_mode": {
    "name": "ipython",
    "version": 3
   },
   "file_extension": ".py",
   "mimetype": "text/x-python",
   "name": "python",
   "nbconvert_exporter": "python",
   "pygments_lexer": "ipython3",
   "version": "3.6.7"
  }
 },
 "nbformat": 4,
 "nbformat_minor": 2
}
