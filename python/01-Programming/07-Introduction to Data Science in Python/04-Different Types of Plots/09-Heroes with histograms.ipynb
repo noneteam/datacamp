{
 "cells": [
  {
   "cell_type": "markdown",
   "metadata": {},
   "source": [
    "# Heroes with histograms"
   ]
  },
  {
   "cell_type": "markdown",
   "metadata": {},
   "source": [
    "#### EXERCISE:\n",
    "We've identified that the kidnapper is Fred Frequentist.  Now we need to know where Fred is hiding Bayes.\n",
    "\n",
    "A shoe print at the crime scene contains a specific type of gravel.  Based on the distribution of gravel radii, we can determine where the kidnapper recently visited.  It might be:\n",
    "\n",
    "* <img src=\"blue_meadows_park.jpg\" alt=\"blue-meadows-park\">\n",
    "* <img src=\"shady_groves_campsite.jpg\" alt=\"shady-groves-campsite\">\n",
    "* <img src=\"happy_mountain_trailhead.jpg\" alt=\"happy-mountain-trailhead\">\n",
    "\n",
    "The radii of individual gravel pieces has been loaded into the DataFrame <code>gravel</code>, and <code>matplotlib</code> has been loaded under the alias <code>plt</code>."
   ]
  },
  {
   "cell_type": "markdown",
   "metadata": {},
   "source": [
    "#### INSTRUCTION:\n",
    "* Create a histogram of <code>gravel.radius</code>."
   ]
  },
  {
   "cell_type": "markdown",
   "metadata": {},
   "source": [
    "#### SCRIPT.PY:"
   ]
  },
  {
   "cell_type": "code",
   "execution_count": 1,
   "metadata": {},
   "outputs": [
    {
     "data": {
      "image/png": "[encoded data removed]",
      "text/plain": [
       "<Figure size 432x288 with 1 Axes>"
      ]
     },
     "metadata": {
      "needs_background": "light"
     },
     "output_type": "display_data"
    }
   ],
   "source": [
    "%matplotlib inline\n",
    "from matplotlib import pyplot as plt\n",
    "import pandas as pd\n",
    "gravel = pd.read_csv(\"gravel.csv\")\n",
    "# Create a histogram of gravel.radius\n",
    "plt.hist(gravel.radius)\n",
    "\n",
    "# Display histogram\n",
    "plt.show()"
   ]
  },
  {
   "cell_type": "markdown",
   "metadata": {},
   "source": [
    "#### INSTRUCTION:\n",
    "* Modify the histogram such that the histogram is divided into <code>40</code> bins and the range is from <code>2</code> to <code>8</code>."
   ]
  },
  {
   "cell_type": "code",
   "execution_count": 2,
   "metadata": {},
   "outputs": [
    {
     "data": {
      "image/png": "[encoded data removed]",
      "text/plain": [
       "<Figure size 432x288 with 1 Axes>"
      ]
     },
     "metadata": {
      "needs_background": "light"
     },
     "output_type": "display_data"
    }
   ],
   "source": [
    "# Create a histogram\n",
    "# Range is 2 to 8, with 40 bins\n",
    "plt.hist(gravel.radius, range=(2,8), bins=40)\n",
    "\n",
    "# Display histogram\n",
    "plt.show()"
   ]
  },
  {
   "cell_type": "markdown",
   "metadata": {},
   "source": [
    "#### INSTRUCTION:\n",
    "* Normalize your histogram so that the sum of the bins adds to 1."
   ]
  },
  {
   "cell_type": "code",
   "execution_count": 7,
   "metadata": {},
   "outputs": [
    {
     "data": {
      "image/png": "[encoded data removed]",
      "text/plain": [
       "<Figure size 432x288 with 1 Axes>"
      ]
     },
     "metadata": {
      "needs_background": "light"
     },
     "output_type": "display_data"
    }
   ],
   "source": [
    "# Create a histogram\n",
    "# Normalize to 1\n",
    "plt.hist(gravel.radius,\n",
    "         bins=40,\n",
    "         range=(2, 8),\n",
    "         density=True)\n",
    "\n",
    "# Display histogram\n",
    "plt.show()"
   ]
  },
  {
   "cell_type": "markdown",
   "metadata": {},
   "source": [
    "#### INSTRUCTION:\n",
    "* Label the x-axis (<code>Gravel Radius (mm)</code>), the y-axis (<code>Frequency</code>), and the title(<code>Sample from Shoeprint</code>)."
   ]
  },
  {
   "cell_type": "code",
   "execution_count": 10,
   "metadata": {},
   "outputs": [
    {
     "data": {
      "image/png": "[encoded data removed]",
      "text/plain": [
       "<Figure size 432x288 with 1 Axes>"
      ]
     },
     "metadata": {
      "needs_background": "light"
     },
     "output_type": "display_data"
    }
   ],
   "source": [
    "# Create a histogram\n",
    "plt.hist(gravel.radius,\n",
    "         bins=40,\n",
    "         range=(2, 8),\n",
    "         density=True)\n",
    "\n",
    "# Label plot\n",
    "plt.xlabel('Gravel Radius (mm)')\n",
    "plt.ylabel('Frequency')\n",
    "plt.title('Sample from Shoeprint')\n",
    "\n",
    "# Display histogram\n",
    "plt.show()"
   ]
  }
 ],
 "metadata": {
  "kernelspec": {
   "display_name": "Python 3",
   "language": "python",
   "name": "python3"
  },
  "language_info": {
   "codemirror_mode": {
    "name": "ipython",
    "version": 3
   },
   "file_extension": ".py",
   "mimetype": "text/x-python",
   "name": "python",
   "nbconvert_exporter": "python",
   "pygments_lexer": "ipython3",
   "version": "3.6.7"
  }
 },
 "nbformat": 4,
 "nbformat_minor": 2
}
