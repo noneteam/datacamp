{
 "cells": [
  {
   "cell_type": "markdown",
   "metadata": {},
   "source": [
    "# Load a DataFrame"
   ]
  },
  {
   "cell_type": "markdown",
   "metadata": {},
   "source": [
    "#### EXERCISE:\n",
    "A ransom note was left at the scene of Bayes' kidnapping.  Eventually, we'll want to analyze the frequency with which each letter occurs in the note, to help us identify the kidnapper.  For now, we just need to load the data from <code>ransom.csv</code> into Python.\n",
    "\n",
    "We'll load the data into a DataFrame, a special <em>data type</em> from the <code>pandas</code> module.  It represents spreadsheet-like data (something with rows and columns).\n",
    "\n",
    "We can create a DataFrame from a CSV (comma-separated value) file by using the function <code>pd.read_csv</code>."
   ]
  },
  {
   "cell_type": "markdown",
   "metadata": {},
   "source": [
    "#### INSTRUCTIONS:\n",
    "* Use <code>pd.read_csv</code> to load data from a CSV file called <code>ransom.csv</code>.  This file represents the frequency of each letter in the ransom note for Bayes."
   ]
  },
  {
   "cell_type": "markdown",
   "metadata": {},
   "source": [
    "#### SCRIPT.PY:"
   ]
  },
  {
   "cell_type": "code",
   "execution_count": 1,
   "metadata": {},
   "outputs": [
    {
     "name": "stdout",
     "output_type": "stream",
     "text": [
      "    letter_index letter  frequency\n",
      "0              1      A       7.38\n",
      "1              2      B       1.09\n",
      "2              3      C       2.46\n",
      "3              4      D       4.10\n",
      "4              5      E      12.84\n",
      "5              6      F       1.37\n",
      "6              7      G       1.09\n",
      "7              8      H       3.55\n",
      "8              9      I       7.65\n",
      "9             10      J       0.00\n",
      "10            11      K       3.01\n",
      "11            12      L       3.28\n",
      "12            13      M       2.46\n",
      "13            14      N       7.38\n",
      "14            15      O       6.83\n",
      "15            16      P       7.65\n",
      "16            17      Q       0.00\n",
      "17            18      R       4.92\n",
      "18            19      S       4.10\n",
      "19            20      T       6.28\n",
      "20            21      U       4.37\n",
      "21            22      V       1.09\n",
      "22            23      W       2.46\n",
      "23            24      X       0.00\n",
      "24            25      Y       4.64\n",
      "25            26      Z       0.00\n"
     ]
    }
   ],
   "source": [
    "# Import pandas\n",
    "import pandas as pd\n",
    "\n",
    "# Load the 'ransom.csv' into a DataFrame\n",
    "r = pd.read_csv('ransom.csv')\n",
    "\n",
    "# Display DataFrame\n",
    "print(r)"
   ]
  }
 ],
 "metadata": {
  "kernelspec": {
   "display_name": "Python 3",
   "language": "python",
   "name": "python3"
  },
  "language_info": {
   "codemirror_mode": {
    "name": "ipython",
    "version": 3
   },
   "file_extension": ".py",
   "mimetype": "text/x-python",
   "name": "python",
   "nbconvert_exporter": "python",
   "pygments_lexer": "ipython3",
   "version": "3.6.7"
  }
 },
 "nbformat": 4,
 "nbformat_minor": 2
}
