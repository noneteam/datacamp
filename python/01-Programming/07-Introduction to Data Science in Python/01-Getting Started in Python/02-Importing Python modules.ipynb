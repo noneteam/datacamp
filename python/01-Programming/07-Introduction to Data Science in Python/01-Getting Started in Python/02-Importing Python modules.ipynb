{
 "cells": [
  {
   "cell_type": "markdown",
   "metadata": {},
   "source": [
    "# Importing Python modules"
   ]
  },
  {
   "cell_type": "markdown",
   "metadata": {},
   "source": [
    "#### EXERCISE:\n",
    "Modules (sometimes called <em>packages</em> or <em>libraries</em>) help group together related sets of tools in Python.  In this exercise, we'll examine two modules that are frequently used by Data Scientists:\n",
    "\n",
    "1. <code>statsmodels</code>: used in machine learning; usually aliased as <code>sm</code>\n",
    "2. <code>seaborn</code>: a visualization library; usually aliased as <code>sns</code>\n",
    "\n",
    "Note that each module has a standard alias, which allows you to access the tools inside of the module without typing as many characters.  For example, aliasing lets us shorten <code>seaborn.scatterplot()</code> to <code>sns.scatterplot()</code>."
   ]
  },
  {
   "cell_type": "markdown",
   "metadata": {},
   "source": [
    "#### INSTRUCTION:\n",
    "* In the script editor, use an <code>import</code> statement to import <code>statsmodels</code>."
   ]
  },
  {
   "cell_type": "markdown",
   "metadata": {},
   "source": [
    "#### SCRIPT.PY:"
   ]
  },
  {
   "cell_type": "code",
   "execution_count": null,
   "metadata": {},
   "outputs": [],
   "source": [
    "# Use an import statement to import statsmodels\n",
    "____ ____"
   ]
  },
  {
   "cell_type": "markdown",
   "metadata": {},
   "source": [
    "#### INSTRUCTION:\n",
    "* Add an <code>as</code> statement to <em>alias</em> <code>statsmodels</code> to <code>sm</code>."
   ]
  },
  {
   "cell_type": "code",
   "execution_count": null,
   "metadata": {},
   "outputs": [],
   "source": [
    "# Import statsmodels under the alias sm\n",
    "import statsmodels as ____"
   ]
  },
  {
   "cell_type": "markdown",
   "metadata": {},
   "source": [
    "#### INSTRUCTION:\n",
    "* Add an <code>as</code> statement to <em>alias</em> <code>seaborn</code> to <code>sns</code>."
   ]
  },
  {
   "cell_type": "code",
   "execution_count": null,
   "metadata": {},
   "outputs": [],
   "source": [
    "# Use an import statement to import seaborn with alias sns\n",
    "import ____ ____ ____"
   ]
  }
 ],
 "metadata": {
  "kernelspec": {
   "display_name": "Python 3",
   "language": "python",
   "name": "python3"
  },
  "language_info": {
   "codemirror_mode": {
    "name": "ipython",
    "version": 3
   },
   "file_extension": ".py",
   "mimetype": "text/x-python",
   "name": "python",
   "nbconvert_exporter": "python",
   "pygments_lexer": "ipython3",
   "version": "3.6.7"
  }
 },
 "nbformat": 4,
 "nbformat_minor": 2
}
