{
 "cells": [
  {
   "cell_type": "markdown",
   "metadata": {},
   "source": [
    "# Creating strings"
   ]
  },
  {
   "cell_type": "markdown",
   "metadata": {},
   "source": [
    "#### EXERCISE:\n",
    "Let's continue to fill out the Missing Puppy Report for Bayes.  In the previous exercise, we defined <code>bayes_age</code>, which was a <em>float</em>, which represents a number.\n",
    "    \n",
    "In this exercise, we'll define <code>favorite_toy</code> and <code>owner</code>, which will both be <em>strings</em>.  A <em>string</em> represents text.  A <em>string</em> is surrounded by quotation marks (<code>'</code> or <code>\"</code>) and can contain letters, numbers, and special characters.  It doesn't matter if you use single (<code>'</code>) or double (<code>\"</code>) quotes, but it's important to be consistent throughout your code."
   ]
  },
  {
   "cell_type": "markdown",
   "metadata": {},
   "source": [
    "#### INSTRUCTIONS:\n",
    "* Define a variable called <code>favorite_toy</code> whose value is <code>\"Mr. Squeaky\"</code>.\n",
    "* Define a variable called <code>owner</code> whose value is <code>'DataCamp'</code>.\n",
    "* Show the values assigned to these variables."
   ]
  },
  {
   "cell_type": "markdown",
   "metadata": {},
   "source": [
    "#### SCRIPT.PY:"
   ]
  },
  {
   "cell_type": "code",
   "execution_count": 4,
   "metadata": {},
   "outputs": [
    {
     "name": "stdout",
     "output_type": "stream",
     "text": [
      "Mr. Squeaky\n",
      "DataCamp\n"
     ]
    }
   ],
   "source": [
    "# Bayes' favorite toy\n",
    "favorite_toy = \"Mr. Squeaky\"\n",
    "\n",
    "# Bayes' owner\n",
    "owner = 'DataCamp'\n",
    "\n",
    "# Display variables\n",
    "print(favorite_toy)\n",
    "print(owner)"
   ]
  }
 ],
 "metadata": {
  "kernelspec": {
   "display_name": "Python 3",
   "language": "python",
   "name": "python3"
  },
  "language_info": {
   "codemirror_mode": {
    "name": "ipython",
    "version": 3
   },
   "file_extension": ".py",
   "mimetype": "text/x-python",
   "name": "python",
   "nbconvert_exporter": "python",
   "pygments_lexer": "ipython3",
   "version": "3.6.7"
  }
 },
 "nbformat": 4,
 "nbformat_minor": 2
}
