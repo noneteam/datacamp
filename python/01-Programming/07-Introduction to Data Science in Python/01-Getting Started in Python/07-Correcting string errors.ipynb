{
 "cells": [
  {
   "cell_type": "markdown",
   "metadata": {},
   "source": [
    "# Correcting string errors"
   ]
  },
  {
   "cell_type": "markdown",
   "metadata": {},
   "source": [
    "#### EXERCISE:\n",
    "It's easy to make errors when you're trying to type strings quickly.\n",
    "\n",
    "* Don't forget to use quotes!  Without quotes, you'll get a name error.\n",
    "\n",
    "<pre><code>owner = DataCamp\n",
    "</code></pre>\n",
    "\n",
    "* Use the same type of quotation mark.  If you start with a single quote, and end with a double quote, you'll get a syntax error.\n",
    "\n",
    "<pre><code>fur_color = \"blonde'\n",
    "</code></pre>\n",
    "\n",
    "Someone at the police station made an error when filling out the final lines of Bayes' Missing Puppy Report.  In this exercise, you will correct the errors."
   ]
  },
  {
   "cell_type": "markdown",
   "metadata": {},
   "source": [
    "#### INSTRUCTIONS:\n",
    "* Correct the mistakes in the code so that it runs without producing syntax errors."
   ]
  },
  {
   "cell_type": "markdown",
   "metadata": {},
   "source": [
    "#### SCRIPT.PY:"
   ]
  },
  {
   "cell_type": "code",
   "execution_count": 4,
   "metadata": {},
   "outputs": [],
   "source": [
    "# One or more of the following lines contains an error\n",
    "# Correct it so that it runs without producing syntax errors\n",
    "birthday = \"2017-07-14\"\n",
    "case_id = 'DATACAMP!123-456?'"
   ]
  }
 ],
 "metadata": {
  "kernelspec": {
   "display_name": "Python 3",
   "language": "python",
   "name": "python3"
  },
  "language_info": {
   "codemirror_mode": {
    "name": "ipython",
    "version": 3
   },
   "file_extension": ".py",
   "mimetype": "text/x-python",
   "name": "python",
   "nbconvert_exporter": "python",
   "pygments_lexer": "ipython3",
   "version": "3.6.7"
  }
 },
 "nbformat": 4,
 "nbformat_minor": 2
}
