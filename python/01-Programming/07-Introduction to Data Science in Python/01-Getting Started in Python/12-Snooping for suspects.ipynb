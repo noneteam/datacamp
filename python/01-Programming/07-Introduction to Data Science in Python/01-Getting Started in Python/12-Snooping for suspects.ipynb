{
 "cells": [
  {
   "cell_type": "markdown",
   "metadata": {},
   "source": [
    "# Snooping for suspects"
   ]
  },
  {
   "cell_type": "markdown",
   "metadata": {},
   "source": [
    "#### EXERCISE:\n",
    "We need to narrow down the list of suspects for the kidnapping of Bayes.  Once we have a list of suspects, we'll ask them for writing samples and compare them to the ransom note.\n",
    "\n",
    "A witness to the crime noticed a green truck leaving the scene of the crime whose license plate began with 'FRQ'.  We'll use this information to search for some suspects.\n",
    "\n",
    "As a detective, you have access to a special function called <code>lookup_plate</code>.\n",
    "\n",
    "<code>lookup_plate</code> accepts one positional argument: A string representing a license plate."
   ]
  },
  {
   "cell_type": "markdown",
   "metadata": {},
   "source": [
    "#### INSTRUCTION:\n",
    "* Create a variable called <code>plate</code> that represents the observed license plate: the first three letters were <code>FRQ</code>, but the witness couldn't see the final 4 letters.  Use asterisks (<code>*</code>) to represent missing letters."
   ]
  },
  {
   "cell_type": "code",
   "execution_count": 3,
   "metadata": {},
   "outputs": [],
   "source": [
    "def lookup_plate(plate_str, color=None):\n",
    "  if type(plate_str) != str:\n",
    "    print(\"Error! Please input a string!\")\n",
    "    return False\n",
    "  elif len(plate_str) != 7:\n",
    "    print(\"Error! License plate must have 7 characters.  Use a * for missing characters.\")\n",
    "    return False\n",
    "  elif plate_str == 'FRQ****':\n",
    "    if color is None:\n",
    "      print('''\n",
    "      Fred Frequentist\n",
    "      John W. Tukey\n",
    "      Ronald Aylmer Fisher\n",
    "      Karl Pearson\n",
    "      Gertrude Cox\n",
    "      Kirstine Smith\n",
    "      ''')\n",
    "      return True\n",
    "    elif color == 'Green':\n",
    "      print('''\n",
    "      Fred Frequentist\n",
    "      Ronald Aylmer Fisher\n",
    "      Gertrude Cox\n",
    "      Kirstine Smith\n",
    "      ''')\n",
    "      return True\n",
    "    else:\n",
    "      print('Error! No cars of that color found!')\n",
    "      return False\n",
    "  elif plate_str == 'EXAMPLE':\n",
    "    print('''\n",
    "    Christopher Eccleston\n",
    "    Matt Smith\n",
    "    David Tenant\n",
    "    Peter Capaldi\n",
    "    Jodie Whittaker\n",
    "    ''')\n",
    "    return True\n",
    "  else:\n",
    "    print(\"Error! Plate not found!\")\n",
    "    return False"
   ]
  },
  {
   "cell_type": "markdown",
   "metadata": {},
   "source": [
    "#### SCRIPT.PY:"
   ]
  },
  {
   "cell_type": "code",
   "execution_count": 1,
   "metadata": {},
   "outputs": [],
   "source": [
    "# Define plate to represenent a plate beginning with FRQ\n",
    "# Use * to represent the missing four letters\n",
    "plate = \"FRQ****\""
   ]
  },
  {
   "cell_type": "markdown",
   "metadata": {},
   "source": [
    "#### INSTRUCTION:\n",
    "* Call <code>lookup_plate()</code> using the variable <code>plate</code>"
   ]
  },
  {
   "cell_type": "code",
   "execution_count": 4,
   "metadata": {},
   "outputs": [
    {
     "name": "stdout",
     "output_type": "stream",
     "text": [
      "\n",
      "      Fred Frequentist\n",
      "      John W. Tukey\n",
      "      Ronald Aylmer Fisher\n",
      "      Karl Pearson\n",
      "      Gertrude Cox\n",
      "      Kirstine Smith\n",
      "      \n"
     ]
    },
    {
     "data": {
      "text/plain": [
       "True"
      ]
     },
     "execution_count": 4,
     "metadata": {},
     "output_type": "execute_result"
    }
   ],
   "source": [
    "# Call the function lookup_plate()\n",
    "lookup_plate(plate)"
   ]
  },
  {
   "cell_type": "markdown",
   "metadata": {},
   "source": [
    "#### INSTRUCTION:\n",
    "* Calling <code>lookup_plate()</code> with the license plate <code>FRQ****</code> produced too many results.  Luckily, <code>lookup_plate()</code> also accepts a keyword argument: <code>color</code>.  Use the color of the car (<code>'Green'</code>) to get a smaller list."
   ]
  },
  {
   "cell_type": "code",
   "execution_count": 5,
   "metadata": {},
   "outputs": [
    {
     "name": "stdout",
     "output_type": "stream",
     "text": [
      "\n",
      "      Fred Frequentist\n",
      "      Ronald Aylmer Fisher\n",
      "      Gertrude Cox\n",
      "      Kirstine Smith\n",
      "      \n"
     ]
    },
    {
     "data": {
      "text/plain": [
       "True"
      ]
     },
     "execution_count": 5,
     "metadata": {},
     "output_type": "execute_result"
    }
   ],
   "source": [
    "# Call lookup_plate() with the keyword argument for color\n",
    "lookup_plate(plate, color='Green')"
   ]
  }
 ],
 "metadata": {
  "kernelspec": {
   "display_name": "Python 3",
   "language": "python",
   "name": "python3"
  },
  "language_info": {
   "codemirror_mode": {
    "name": "ipython",
    "version": 3
   },
   "file_extension": ".py",
   "mimetype": "text/x-python",
   "name": "python",
   "nbconvert_exporter": "python",
   "pygments_lexer": "ipython3",
   "version": "3.6.7"
  }
 },
 "nbformat": 4,
 "nbformat_minor": 2
}
