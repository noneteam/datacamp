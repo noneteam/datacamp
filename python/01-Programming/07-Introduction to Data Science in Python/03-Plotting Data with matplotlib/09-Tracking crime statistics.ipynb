{
 "cells": [
  {
   "cell_type": "markdown",
   "metadata": {},
   "source": [
    "# Tracking crime statistics"
   ]
  },
  {
   "cell_type": "markdown",
   "metadata": {},
   "source": [
    "#### EXERCISE:\n",
    "Sergeant Laura wants to do some background research to help her better understand the cultural context for Bayes' kidnapping.  She has plotted Burglary rates in three U.S. cities using data from the <a href=\"https://www.ucrdatatool.gov/Search/Crime/Local/LocalCrimeLarge.cfm\" target=\"_blank\">Uniform Crime Reporting Statistics</a>.\n",
    "\n",
    "She wants to present this data to her officers, and she wants the image to be as beautiful as possible to effectively tell her data story.\n",
    "\n",
    "Recall:\n",
    "\n",
    "* You can change <code>linestyle</code> to dotted (<code>':'</code>), dashed(<code>'--'</code>), or no line (<code>''</code>).\n",
    "* You can change the <code>marker</code> to circle (<code>'o'</code>), diamond(<code>'d'</code>), or square (<code>'s'</code>)."
   ]
  },
  {
   "cell_type": "markdown",
   "metadata": {},
   "source": [
    "#### INSTRUCTIONS:\n",
    "* Change the color of Phoenix to <code>\"DarkCyan\"</code>.\n",
    "* Make the Los Angeles line dotted.\n",
    "* Add square markers to Philadelphia."
   ]
  },
  {
   "cell_type": "markdown",
   "metadata": {},
   "source": [
    "#### SCRIPT.PY:"
   ]
  },
  {
   "cell_type": "code",
   "execution_count": null,
   "metadata": {},
   "outputs": [],
   "source": [
    "# Change the color of Phoenix to `\"DarkCyan\"`\n",
    "plt.plot(data[\"Year\"], data[\"Phoenix Police Dept\"], label=\"Phoenix\", ____)\n",
    "\n",
    "# Make the Los Angeles line dotted\n",
    "plt.plot(data[\"Year\"], data[\"Los Angeles Police Dept\"], label=\"Los Angeles\", ____)\n",
    "\n",
    "# Add square markers to Philedelphia\n",
    "plt.plot(data[\"Year\"], data[\"Philadelphia Police Dept\"], label=\"Philadelphia\", ____)\n",
    "\n",
    "# Add a legend\n",
    "plt.legend()\n",
    "\n",
    "# Display the plot\n",
    "plt.show()"
   ]
  }
 ],
 "metadata": {
  "kernelspec": {
   "display_name": "Python 3",
   "language": "python",
   "name": "python3"
  },
  "language_info": {
   "codemirror_mode": {
    "name": "ipython",
    "version": 3
   },
   "file_extension": ".py",
   "mimetype": "text/x-python",
   "name": "python",
   "nbconvert_exporter": "python",
   "pygments_lexer": "ipython3",
   "version": "3.6.7"
  }
 },
 "nbformat": 4,
 "nbformat_minor": 2
}
