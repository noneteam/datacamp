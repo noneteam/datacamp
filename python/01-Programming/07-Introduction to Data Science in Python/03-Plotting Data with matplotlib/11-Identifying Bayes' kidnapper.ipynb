{
 "cells": [
  {
   "cell_type": "markdown",
   "metadata": {},
   "source": [
    "# Identifying Bayes' kidnapper"
   ]
  },
  {
   "cell_type": "markdown",
   "metadata": {},
   "source": [
    "#### EXERCISE:\n",
    "We've narrowed the possible kidnappers down to two suspects:\n",
    "\n",
    "* Fred Frequentist (<code>suspect1</code>)\n",
    "* Gertrude Cox (<code>suspect2</code>)\n",
    "\n",
    "The kidnapper left a long ransom note containing several unusual phrases. Help DataCamp by using a line plot to compare the frequency of letters in the ransom note to samples from the two main suspects.\n",
    "\n",
    "Three DataFrames have been loaded:\n",
    "\n",
    "* <code>ransom</code> contains the letter frequencies for the ransom note.<\n",
    "* <code>suspect1</code> contains the letter frequencies for the sample from Fred Frequentist.\n",
    "* <code>suspect2</code> contains the letter frequencies for the sample from Gertrude Cox.\n",
    "\n",
    "Each DataFrame contain two columns <code>letter</code> and <code>frequency</code>."
   ]
  },
  {
   "cell_type": "markdown",
   "metadata": {},
   "source": [
    "#### INSTRUCTION:\n",
    "* Plot the letter frequencies from the ransom note. The x-values should be <code>ransom.letter</code>. The y-values should be <code>ransom.frequency</code>.  The label should be the string <code>'Ransom'</code>.  The line should be dotted and <code>gray</code>."
   ]
  },
  {
   "cell_type": "markdown",
   "metadata": {},
   "source": [
    "#### SCRIPT.PY:"
   ]
  },
  {
   "cell_type": "code",
   "execution_count": null,
   "metadata": {},
   "outputs": [],
   "source": [
    "# x should be ransom.letter and y should be ransom.frequency\n",
    "plt.plot(____.____, ____.____,\n",
    "         # Label should be \"Ransom\"\n",
    "         ____=\"Ransom\",\n",
    "         # Plot the ransom letter as a dotted gray line\n",
    "         ____=':', ____='gray')\n",
    "\n",
    "# Display the plot\n",
    "plt.show()"
   ]
  },
  {
   "cell_type": "markdown",
   "metadata": {},
   "source": [
    "#### INSTRUCTION:\n",
    "* Plot a line for the data in <code>suspect1</code>.  Use a keyword argument to label that line <code>'Fred Frequentist'</code>)."
   ]
  },
  {
   "cell_type": "code",
   "execution_count": null,
   "metadata": {},
   "outputs": [],
   "source": [
    "# Plot each line\n",
    "plt.plot(ransom.letter, ransom.frequency,\n",
    "         label='Ransom', linestyle=':', color='gray')\n",
    "\n",
    "# X-values should be suspect1.letter\n",
    "# Y-values should be suspect1.frequency\n",
    "# Label should be \"Fred Frequentist\"\n",
    "plt.plot(____, ____, ____=____)\n",
    "\n",
    "# Display the plot\n",
    "plt.show()"
   ]
  },
  {
   "cell_type": "markdown",
   "metadata": {},
   "source": [
    "#### INSTRUCTION:\n",
    "* Plot a line for the data in <code>suspect2</code> (labeled <code>'Gertrude Cox'</code>)."
   ]
  },
  {
   "cell_type": "code",
   "execution_count": null,
   "metadata": {},
   "outputs": [],
   "source": [
    "# Plot each line\n",
    "plt.plot(ransom.letter, ransom.frequency,\n",
    "         label='Ransom', linestyle=':', color='gray')\n",
    "plt.plot(suspect1.letter, suspect1.frequency,\n",
    "         label='Fred Frequentist')\n",
    "\n",
    "# X-values should be suspect2.letter\n",
    "# Y-values should be suspect2.frequency\n",
    "# Label should be \"Gertrude Cox\"\n",
    "____\n",
    "\n",
    "# Display plot\n",
    "plt.show()"
   ]
  },
  {
   "cell_type": "markdown",
   "metadata": {},
   "source": [
    "#### INSTRUCTION:\n",
    "* Label the x-axis (<code>Letter</code>) and the y-axis (<code>Frequency</code>), and add a legend."
   ]
  },
  {
   "cell_type": "code",
   "execution_count": null,
   "metadata": {},
   "outputs": [],
   "source": [
    "# Plot each line\n",
    "plt.plot(ransom.letter, ransom.frequency,\n",
    "         label='Ransom', linestyle=':', color='gray')\n",
    "plt.plot(suspect1.letter, suspect1.frequency, label='Fred Frequentist')\n",
    "plt.plot(suspect2.letter, suspect2.frequency, label='Gertrude Cox')\n",
    "\n",
    "# Add x- and y-labels\n",
    "plt.____(\"Letter\")\n",
    "plt.____(\"Frequency\")\n",
    "\n",
    "# Add a legend\n",
    "plt.____()\n",
    "\n",
    "# Display plot\n",
    "plt.show()"
   ]
  }
 ],
 "metadata": {
  "kernelspec": {
   "display_name": "Python 3",
   "language": "python",
   "name": "python3"
  },
  "language_info": {
   "codemirror_mode": {
    "name": "ipython",
    "version": 3
   },
   "file_extension": ".py",
   "mimetype": "text/x-python",
   "name": "python",
   "nbconvert_exporter": "python",
   "pygments_lexer": "ipython3",
   "version": "3.6.7"
  }
 },
 "nbformat": 4,
 "nbformat_minor": 2
}
