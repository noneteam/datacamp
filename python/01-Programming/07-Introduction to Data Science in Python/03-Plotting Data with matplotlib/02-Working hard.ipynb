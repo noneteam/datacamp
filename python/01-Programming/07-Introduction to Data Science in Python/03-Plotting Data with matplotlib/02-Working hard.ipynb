{
 "cells": [
  {
   "cell_type": "markdown",
   "metadata": {},
   "source": [
    "# Working hard"
   ]
  },
  {
   "cell_type": "markdown",
   "metadata": {},
   "source": [
    "#### EXERCISE:\n",
    "Several police officers have been working hard to help us solve the mystery of Bayes, the kidnapped Golden Retriever.  Their commanding officer wants to know exactly how hard each officer has been working on this case.  Officer Deshaun has created DataFrames called <code>deshaun</code> to track the amount of time he spent working on this case.  The DataFrame contains two columns:\n",
    "\n",
    "* <code>day_of_week</code>: a string representing the day of the week\n",
    "* <code>hours_worked</code>: the number of hours that a particular officer worked on the Bayes case'"
   ]
  },
  {
   "cell_type": "markdown",
   "metadata": {},
   "source": [
    "#### INSTRUCTION:\n",
    "* From <code>matplotlib</code>, import the module <code>pyplot</code> under the alias <code>plt</code>"
   ]
  },
  {
   "cell_type": "markdown",
   "metadata": {},
   "source": [
    "#### SCRIPT.PY:"
   ]
  },
  {
   "cell_type": "code",
   "execution_count": 12,
   "metadata": {},
   "outputs": [],
   "source": [
    "%matplotlib inline\n",
    "import pandas as pd\n",
    "deshaun = pd.DataFrame([['M', 8], ['Tu', 5], ['W', 3], ['Th', 5], ['F', 8]],\n",
    "                       columns=['day_of_week', 'hours_worked'])\n",
    "# From matplotlib, import pyplot under the alias plt\n",
    "from matplotlib import pyplot as plt"
   ]
  },
  {
   "cell_type": "markdown",
   "metadata": {},
   "source": [
    "#### INSTRUCTION:\n",
    "* Plot Officer Deshaun's hours worked using the columns <code>day_of_week</code> and <code>hours_worked</code> from <code>deshaun</code>."
   ]
  },
  {
   "cell_type": "code",
   "execution_count": 16,
   "metadata": {},
   "outputs": [
    {
     "data": {
      "text/plain": [
       "[<matplotlib.lines.Line2D at 0x7f0d1fe2a198>]"
      ]
     },
     "execution_count": 16,
     "metadata": {},
     "output_type": "execute_result"
    },
    {
     "data": {
      "image/png": "[encoded data removed]",
      "text/plain": [
       "<Figure size 432x288 with 1 Axes>"
      ]
     },
     "metadata": {
      "needs_background": "light"
     },
     "output_type": "display_data"
    }
   ],
   "source": [
    "# Plot Officer Deshaun's hours_worked vs. day_of_week\n",
    "plt.plot(deshaun.day_of_week, deshaun.hours_worked)"
   ]
  },
  {
   "cell_type": "markdown",
   "metadata": {},
   "source": [
    "#### INSTRUCTION:\n",
    "* Display the plot."
   ]
  },
  {
   "cell_type": "code",
   "execution_count": 17,
   "metadata": {},
   "outputs": [],
   "source": [
    "# Display Deshaun's plot\n",
    "plt.show()"
   ]
  }
 ],
 "metadata": {
  "kernelspec": {
   "display_name": "Python 3",
   "language": "python",
   "name": "python3"
  },
  "language_info": {
   "codemirror_mode": {
    "name": "ipython",
    "version": 3
   },
   "file_extension": ".py",
   "mimetype": "text/x-python",
   "name": "python",
   "nbconvert_exporter": "python",
   "pygments_lexer": "ipython3",
   "version": "3.6.7"
  }
 },
 "nbformat": 4,
 "nbformat_minor": 2
}
