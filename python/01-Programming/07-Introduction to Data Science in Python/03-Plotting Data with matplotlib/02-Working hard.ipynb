{
 "cells": [
  {
   "cell_type": "markdown",
   "metadata": {},
   "source": [
    "# Working hard"
   ]
  },
  {
   "cell_type": "markdown",
   "metadata": {},
   "source": [
    "#### EXERCISE:\n",
    "Several police officers have been working hard to help us solve the mystery of Bayes, the kidnapped Golden Retriever.  Their commanding officer wants to know exactly how hard each officer has been working on this case.  Officer Deshaun has created DataFrames called <code>deshaun</code> to track the amount of time he spent working on this case.  The DataFrame contains two columns:\n",
    "\n",
    "* <code>day_of_week</code>: a string representing the day of the week\n",
    "* <code>hours_worked</code>: the number of hours that a particular officer worked on the Bayes case'"
   ]
  },
  {
   "cell_type": "markdown",
   "metadata": {},
   "source": [
    "#### INSTRUCTION:\n",
    "* From <code>matplotlib</code>, import the module <code>pyplot</code> under the alias <code>plt</code>"
   ]
  },
  {
   "cell_type": "markdown",
   "metadata": {},
   "source": [
    "#### SCRIPT.PY:"
   ]
  },
  {
   "cell_type": "code",
   "execution_count": null,
   "metadata": {},
   "outputs": [],
   "source": [
    "# From matplotlib, import pyplot under the alias plt\n",
    "from ____ import ____ as ____"
   ]
  },
  {
   "cell_type": "markdown",
   "metadata": {},
   "source": [
    "#### INSTRUCTION:\n",
    "* Plot Officer Deshaun's hours worked using the columns <code>day_of_week</code> and <code>hours_worked</code> from <code>deshaun</code>."
   ]
  },
  {
   "cell_type": "code",
   "execution_count": null,
   "metadata": {},
   "outputs": [],
   "source": [
    "# Plot Officer Deshaun's hours_worked vs. day_of_week\n",
    "plt.____(deshaun.____, deshaun._____)"
   ]
  },
  {
   "cell_type": "markdown",
   "metadata": {},
   "source": [
    "#### INSTRUCTION:\n",
    "* Display the plot."
   ]
  },
  {
   "cell_type": "code",
   "execution_count": null,
   "metadata": {},
   "outputs": [],
   "source": [
    "# Display Deshaun's plot\n",
    "____"
   ]
  }
 ],
 "metadata": {
  "kernelspec": {
   "display_name": "Python 3",
   "language": "python",
   "name": "python3"
  },
  "language_info": {
   "codemirror_mode": {
    "name": "ipython",
    "version": 3
   },
   "file_extension": ".py",
   "mimetype": "text/x-python",
   "name": "python",
   "nbconvert_exporter": "python",
   "pygments_lexer": "ipython3",
   "version": "3.6.7"
  }
 },
 "nbformat": 4,
 "nbformat_minor": 2
}
