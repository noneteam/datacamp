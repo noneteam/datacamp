{
 "cells": [
  {
   "cell_type": "markdown",
   "metadata": {},
   "source": [
    "# Selecting missing puppies"
   ]
  },
  {
   "cell_type": "markdown",
   "metadata": {},
   "source": [
    "#### EXERCISE:\n",
    "Let's return to our DataFrame of missing puppies, which is loaded as <code>mpr</code>.  Let's select a few different rows to learn more about the other missing dogs."
   ]
  },
  {
   "cell_type": "markdown",
   "metadata": {},
   "source": [
    "#### INSTRUCTIONS:\n",
    "* Select the dogs where <code>Age</code> is greater than <code>2</code>.\n",
    "* Select the dogs whose <code>Status</code> is equal to <code>Still Missing</code>.\n",
    "* Select all dogs whose <code>Dog Breed</code> is not equal to <code>Poodle</code>."
   ]
  },
  {
   "cell_type": "markdown",
   "metadata": {},
   "source": [
    "#### SCRIPT.PY:"
   ]
  },
  {
   "cell_type": "code",
   "execution_count": 2,
   "metadata": {},
   "outputs": [
    {
     "name": "stdout",
     "output_type": "stream",
     "text": [
      "  Dog Name             Owner Name       Dog Breed Missing?  Age\n",
      "2   Sparky             Dr. Apache   Border Collie    Found    3\n",
      "3  Theorem  Joseph-Louis Lagrange  French Bulldog    Found    4\n",
      "5    Benny   Hillary Green-Lerman          Poodle    Found    3\n",
      "  Dog Name Owner Name         Dog Breed       Missing?  Age\n",
      "0    Bayes   DataCamp  Golden Retriever  Still Missing    1\n",
      "1  Sigmoid                    Dachshund  Still Missing    2\n",
      "  Dog Name            Owner Name Dog Breed Missing?  Age\n",
      "5    Benny  Hillary Green-Lerman    Poodle    Found    3\n"
     ]
    }
   ],
   "source": [
    "import pandas as pd\n",
    "mpr = pd.DataFrame([\n",
    "    [\"Bayes\", \"DataCamp\", \"Golden Retriever\", \"Still Missing\", 1],\n",
    "    [\"Sigmoid\", \"\", \"Dachshund\", \"Still Missing\", 2],\n",
    "    [\"Sparky\", \"Dr. Apache\", \"Border Collie\", \"Found\", 3],\n",
    "    [\"Theorem\", \"Joseph-Louis Lagrange\", \"French Bulldog\", \"Found\", 4],\n",
    "    [\"Ned\", \"Tim Oliphant\", \"Shih Tzu\", \"Shih Tzu\", 2],\n",
    "    [\"Benny\", \"Hillary Green-Lerman\", \"Poodle\", \"Found\", 3]\n",
    "], columns=[\"Dog Name\", \"Owner Name\", \"Dog Breed\", \"Missing?\", \"Age\"])\n",
    "# Select the dogs where Age is greater than 2\n",
    "greater_than_2 = mpr[mpr.Age > 2]\n",
    "print(greater_than_2)\n",
    "\n",
    "# Select the dogs whose Status is equal to Still Missing\n",
    "still_missing = mpr[mpr[\"Missing?\"] == \"Still Missing\"]\n",
    "print(still_missing)\n",
    "\n",
    "# Select all dogs whose Dog Breed is not equal to Poodle\n",
    "not_poodle = mpr[mpr[\"Dog Breed\"] == \"Poodle\"]\n",
    "print(not_poodle)"
   ]
  }
 ],
 "metadata": {
  "kernelspec": {
   "display_name": "Python 3",
   "language": "python",
   "name": "python3"
  },
  "language_info": {
   "codemirror_mode": {
    "name": "ipython",
    "version": 3
   },
   "file_extension": ".py",
   "mimetype": "text/x-python",
   "name": "python",
   "nbconvert_exporter": "python",
   "pygments_lexer": "ipython3",
   "version": "3.6.7"
  }
 },
 "nbformat": 4,
 "nbformat_minor": 2
}
