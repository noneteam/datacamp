{
 "cells": [
  {
   "cell_type": "markdown",
   "metadata": {},
   "source": [
    "# Two methods for selecting columns"
   ]
  },
  {
   "cell_type": "markdown",
   "metadata": {},
   "source": [
    "#### EXERCISE:\n",
    "Once again, we've loaded the credit card records of our four suspects into a DataFrame called <code>credit_records</code>.  Let's examine the items that they've purchased.\n",
    "\n",
    "The <code>pandas</code> module has been imported under the alias <code>pd</code>.\n",
    "The DataFrame <code>credit_records</code> has already been imported."
   ]
  },
  {
   "cell_type": "markdown",
   "metadata": {},
   "source": [
    "#### INSTRUCTION:\n",
    "* Select the column <code>item</code> from <code>credit_records</code> using brackets and string notation."
   ]
  },
  {
   "cell_type": "markdown",
   "metadata": {},
   "source": [
    "#### SCRIPT.PY:"
   ]
  },
  {
   "cell_type": "code",
   "execution_count": 2,
   "metadata": {},
   "outputs": [
    {
     "name": "stdout",
     "output_type": "stream",
     "text": [
      "0          broccoli\n",
      "1       fizzy drink\n",
      "2          broccoli\n",
      "3          broccoli\n",
      "4             shirt\n",
      "5            burger\n",
      "6             fries\n",
      "7             pants\n",
      "8             shirt\n",
      "9             shirt\n",
      "10            pants\n",
      "11      fizzy drink\n",
      "12          carwash\n",
      "13     cheeseburger\n",
      "14            pants\n",
      "15     cheeseburger\n",
      "16         broccoli\n",
      "17          carwash\n",
      "18      fizzy drink\n",
      "19            shirt\n",
      "20      fizzy drink\n",
      "21          carwash\n",
      "22             eggs\n",
      "23           burger\n",
      "24     cheeseburger\n",
      "25           cheese\n",
      "26            fries\n",
      "27           cheese\n",
      "28            dress\n",
      "29            dress\n",
      "           ...     \n",
      "74           cheese\n",
      "75             milk\n",
      "76            dress\n",
      "77     cheeseburger\n",
      "78            shirt\n",
      "79            pants\n",
      "80            pants\n",
      "81         broccoli\n",
      "82            shirt\n",
      "83            fries\n",
      "84            dress\n",
      "85            pants\n",
      "86             milk\n",
      "87              gas\n",
      "88            fries\n",
      "89              gas\n",
      "90            fries\n",
      "91           burger\n",
      "92            pants\n",
      "93             milk\n",
      "94      fizzy drink\n",
      "95     cheeseburger\n",
      "96        cucumbers\n",
      "97      fizzy drink\n",
      "98            pants\n",
      "99            shirt\n",
      "100           pants\n",
      "101           dress\n",
      "102          burger\n",
      "103       cucumbers\n",
      "Name: item, Length: 104, dtype: object\n"
     ]
    }
   ],
   "source": [
    "import pandas as pd\n",
    "credit_records = pd.read_csv(\"credit_records.csv\")\n",
    "# Select the column item from credit_records\n",
    "# Use brackets and string notation\n",
    "items = credit_records[\"item\"]\n",
    "\n",
    "# Display the results\n",
    "print(items)"
   ]
  },
  {
   "cell_type": "markdown",
   "metadata": {},
   "source": [
    "#### INSTRUCTION:\n",
    "* Select the column <code>item</code> from <code>credit_records</code> using dot notation."
   ]
  },
  {
   "cell_type": "code",
   "execution_count": 3,
   "metadata": {},
   "outputs": [
    {
     "name": "stdout",
     "output_type": "stream",
     "text": [
      "0          broccoli\n",
      "1       fizzy drink\n",
      "2          broccoli\n",
      "3          broccoli\n",
      "4             shirt\n",
      "5            burger\n",
      "6             fries\n",
      "7             pants\n",
      "8             shirt\n",
      "9             shirt\n",
      "10            pants\n",
      "11      fizzy drink\n",
      "12          carwash\n",
      "13     cheeseburger\n",
      "14            pants\n",
      "15     cheeseburger\n",
      "16         broccoli\n",
      "17          carwash\n",
      "18      fizzy drink\n",
      "19            shirt\n",
      "20      fizzy drink\n",
      "21          carwash\n",
      "22             eggs\n",
      "23           burger\n",
      "24     cheeseburger\n",
      "25           cheese\n",
      "26            fries\n",
      "27           cheese\n",
      "28            dress\n",
      "29            dress\n",
      "           ...     \n",
      "74           cheese\n",
      "75             milk\n",
      "76            dress\n",
      "77     cheeseburger\n",
      "78            shirt\n",
      "79            pants\n",
      "80            pants\n",
      "81         broccoli\n",
      "82            shirt\n",
      "83            fries\n",
      "84            dress\n",
      "85            pants\n",
      "86             milk\n",
      "87              gas\n",
      "88            fries\n",
      "89              gas\n",
      "90            fries\n",
      "91           burger\n",
      "92            pants\n",
      "93             milk\n",
      "94      fizzy drink\n",
      "95     cheeseburger\n",
      "96        cucumbers\n",
      "97      fizzy drink\n",
      "98            pants\n",
      "99            shirt\n",
      "100           pants\n",
      "101           dress\n",
      "102          burger\n",
      "103       cucumbers\n",
      "Name: item, Length: 104, dtype: object\n"
     ]
    }
   ],
   "source": [
    "# Select the column item from credit_records\n",
    "# Use dot notation\n",
    "items = credit_records.item\n",
    "\n",
    "# Display the results\n",
    "print(items)"
   ]
  }
 ],
 "metadata": {
  "kernelspec": {
   "display_name": "Python 3",
   "language": "python",
   "name": "python3"
  },
  "language_info": {
   "codemirror_mode": {
    "name": "ipython",
    "version": 3
   },
   "file_extension": ".py",
   "mimetype": "text/x-python",
   "name": "python",
   "nbconvert_exporter": "python",
   "pygments_lexer": "ipython3",
   "version": "3.6.7"
  }
 },
 "nbformat": 4,
 "nbformat_minor": 2
}
