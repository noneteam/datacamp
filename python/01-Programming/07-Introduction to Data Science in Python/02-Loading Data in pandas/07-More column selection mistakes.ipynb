{
 "cells": [
  {
   "cell_type": "markdown",
   "metadata": {},
   "source": [
    "# More column selection mistakes"
   ]
  },
  {
   "cell_type": "markdown",
   "metadata": {},
   "source": [
    "#### EXERCISE:\n",
    "Another junior detective is examining a DataFrame of Missing Puppy Reports.  He's made some mistakes that cause the code to fail.\n",
    "\n",
    "The <code>pandas</code> module has been loaded under the alias <code>pd</code>, and the DataFrame is called <code>mpr</code>."
   ]
  },
  {
   "cell_type": "markdown",
   "metadata": {},
   "source": [
    "#### INSTRUCTION:\n",
    "* Inspect the DataFrame <code>mpr</code> using <code>info()</code>."
   ]
  },
  {
   "cell_type": "markdown",
   "metadata": {},
   "source": [
    "#### SCRIPT.PY:"
   ]
  },
  {
   "cell_type": "code",
   "execution_count": 10,
   "metadata": {},
   "outputs": [
    {
     "name": "stdout",
     "output_type": "stream",
     "text": [
      "<class 'pandas.core.frame.DataFrame'>\n",
      "RangeIndex: 4 entries, 0 to 3\n",
      "Data columns (total 4 columns):\n",
      "Dog Name      4 non-null object\n",
      "Owner Name    4 non-null object\n",
      "Dog Breed     4 non-null object\n",
      "Missing?      4 non-null object\n",
      "dtypes: object(4)\n",
      "memory usage: 208.0+ bytes\n",
      "None\n"
     ]
    }
   ],
   "source": [
    "import pandas as pd\n",
    "mpr = pd.DataFrame([\n",
    "    [\"Bayes\", \"DataCamp\", \"Golden Retriever\", \"Still Missing\"],\n",
    "    [\"Sigmoid\", \"\", \"Dachshund\", \"Still Missing\"],\n",
    "    [\"Sparky\", \"Dr. Apache\", \"Border Collie\", \"Found\"],\n",
    "    [\"Theorem\", \"Joseph-Louis Lagrange\", \"French Bulldog\", \"Found\"]\n",
    "], columns=[\"Dog Name\", \"Owner Name\", \"Dog Breed\", \"Missing?\"])\n",
    "# Use info() to inspect mpr\n",
    "print(mpr.info())"
   ]
  },
  {
   "cell_type": "markdown",
   "metadata": {},
   "source": [
    "#### INSTRUCTION:\n",
    "* Correct the mistakes in the code so that it runs without errors."
   ]
  },
  {
   "cell_type": "code",
   "execution_count": 13,
   "metadata": {},
   "outputs": [
    {
     "name": "stdout",
     "output_type": "stream",
     "text": [
      "0      Bayes\n",
      "1    Sigmoid\n",
      "2     Sparky\n",
      "3    Theorem\n",
      "Name: Dog Name, dtype: object\n",
      "0    Still Missing\n",
      "1    Still Missing\n",
      "2            Found\n",
      "3            Found\n",
      "Name: Missing?, dtype: object\n"
     ]
    }
   ],
   "source": [
    "# The following code contains one or more errors\n",
    "# Correct the mistakes in the code so that it runs without errors\n",
    "\n",
    "# Select column \"Dog Name\" from mpr\n",
    "name = mpr[\"Dog Name\"]\n",
    "\n",
    "# Select column \"Missing?\" from mpr\n",
    "is_missing = mpr[\"Missing?\"]\n",
    "\n",
    "# Display the columns\n",
    "print(name)\n",
    "print(is_missing)"
   ]
  },
  {
   "cell_type": "markdown",
   "metadata": {},
   "source": [
    "#### QUESTION:\n",
    "Why did this code generate an error?\n",
    "\n",
    "<pre><code>name = mpr.Dog Name\n",
    "</code></pre>"
   ]
  },
  {
   "cell_type": "markdown",
   "metadata": {},
   "source": [
    "#### POSSIBLE ANSWERS:\n",
    "* We need to remove the space in <code>Dog Name</code>.\n",
    "* If a column name has capital letters, then it needs to be in brackets and string notation.\n",
    "* If a column name contains a space, then it needs to be in brackets and string notation."
   ]
  }
 ],
 "metadata": {
  "kernelspec": {
   "display_name": "Python 3",
   "language": "python",
   "name": "python3"
  },
  "language_info": {
   "codemirror_mode": {
    "name": "ipython",
    "version": 3
   },
   "file_extension": ".py",
   "mimetype": "text/x-python",
   "name": "python",
   "nbconvert_exporter": "python",
   "pygments_lexer": "ipython3",
   "version": "3.6.7"
  }
 },
 "nbformat": 4,
 "nbformat_minor": 2
}
