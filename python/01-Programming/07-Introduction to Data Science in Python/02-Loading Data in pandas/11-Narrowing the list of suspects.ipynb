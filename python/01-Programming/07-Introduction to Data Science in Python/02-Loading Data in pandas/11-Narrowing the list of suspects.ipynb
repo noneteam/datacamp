{
 "cells": [
  {
   "cell_type": "markdown",
   "metadata": {},
   "source": [
    "# Narrowing the list of suspects"
   ]
  },
  {
   "cell_type": "markdown",
   "metadata": {},
   "source": [
    "#### EXERCISE:\n",
    "In Chapter 1, we found a list of people whose cars matched the description of the one that kidnapped Bayes:\n",
    "\n",
    "* Fred Frequentist\n",
    "* Ronald Aylmer Fisher\n",
    "* Gertrude Cox\n",
    "* Kirstine Smith\n",
    "\n",
    "We'd like to narrow this list down, so we obtained credit card records for each suspect.  We'd like to know if any of them recently purchased dog treats to use in the kidnapping.  If they did, they would have visited <code>'Pet Paradise'</code>.\n",
    "\n",
    "The credit records have been loaded into a DataFrame called <code>credit_records</code>."
   ]
  },
  {
   "cell_type": "markdown",
   "metadata": {},
   "source": [
    "#### INSTRUCTION:\n",
    "* Select rows of <code>credit_records</code> such that the column <code>location</code> is equal to <code>'Pet Paradise'</code>."
   ]
  },
  {
   "cell_type": "markdown",
   "metadata": {},
   "source": [
    "#### SCRIPT.PY:"
   ]
  },
  {
   "cell_type": "code",
   "execution_count": 2,
   "metadata": {},
   "outputs": [
    {
     "name": "stdout",
     "output_type": "stream",
     "text": [
      "             suspect      location              date          item  price\n",
      "8   Fred Frequentist  Pet Paradise  January 14, 2018    dog treats   8.75\n",
      "9   Fred Frequentist  Pet Paradise  January 14, 2018    dog collar  12.25\n",
      "28      Gertrude Cox  Pet Paradise  January 13, 2018  dog chew toy   5.95\n",
      "29      Gertrude Cox  Pet Paradise  January 13, 2018    dog treats   8.75\n"
     ]
    }
   ],
   "source": [
    "import pandas as pd\n",
    "credit_records = pd.read_csv(\"credit_records2.csv\")\n",
    "# Select purchases from 'Pet Paradise'\n",
    "purchase = credit_records[credit_records.location == 'Pet Paradise']\n",
    "\n",
    "# Display\n",
    "print(purchase)"
   ]
  },
  {
   "cell_type": "markdown",
   "metadata": {},
   "source": [
    "#### QUESTION:\n",
    "* Which suspects purchased pet supplies before the kidnapping?"
   ]
  },
  {
   "cell_type": "markdown",
   "metadata": {},
   "source": [
    "#### POSSIBLE ANSWERS::\n",
    "* Fred Frequentist and Ronald Aylmer Fisher\n",
    "* Gertrude Cox and Kirstine Smith\n",
    "* Fred Frequentist and Gertrude Cox\n",
    "* Ronald Aylmer Fisher and Kirstine Smith"
   ]
  }
 ],
 "metadata": {
  "kernelspec": {
   "display_name": "Python 3",
   "language": "python",
   "name": "python3"
  },
  "language_info": {
   "codemirror_mode": {
    "name": "ipython",
    "version": 3
   },
   "file_extension": ".py",
   "mimetype": "text/x-python",
   "name": "python",
   "nbconvert_exporter": "python",
   "pygments_lexer": "ipython3",
   "version": "3.6.7"
  }
 },
 "nbformat": 4,
 "nbformat_minor": 2
}
