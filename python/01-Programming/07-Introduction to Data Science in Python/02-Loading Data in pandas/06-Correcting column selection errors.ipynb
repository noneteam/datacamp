{
 "cells": [
  {
   "cell_type": "markdown",
   "metadata": {},
   "source": [
    "# Correcting column selection errors"
   ]
  },
  {
   "cell_type": "markdown",
   "metadata": {},
   "source": [
    "#### EXERCISE:\n",
    "A junior detective tried to access the location columns of <code>credit_records</code>, but he made some mistakes.  Help correct his code so that we can search for suspicious purchases.\n",
    "\n",
    "In all exercises going forward, <code>pandas</code> will be imported as <code>pd</code>.\n",
    "The DataFrame <code>credit_records</code> has already been imported."
   ]
  },
  {
   "cell_type": "markdown",
   "metadata": {},
   "source": [
    "#### INSTRUCTION:\n",
    "* Correct the code so that it runs without errors."
   ]
  },
  {
   "cell_type": "markdown",
   "metadata": {},
   "source": [
    "#### SCRIPT.PY:"
   ]
  },
  {
   "cell_type": "code",
   "execution_count": 1,
   "metadata": {},
   "outputs": [
    {
     "name": "stdout",
     "output_type": "stream",
     "text": [
      "0       Groceries R Us\n",
      "1      Petroleum Plaza\n",
      "2       Groceries R Us\n",
      "3       Groceries R Us\n",
      "4        Clothing Club\n",
      "5          Burger Mart\n",
      "6          Burger Mart\n",
      "7        Clothing Club\n",
      "8        Clothing Club\n",
      "9        Clothing Club\n",
      "10       Clothing Club\n",
      "11     Petroleum Plaza\n",
      "12     Petroleum Plaza\n",
      "13         Burger Mart\n",
      "14       Clothing Club\n",
      "15         Burger Mart\n",
      "16      Groceries R Us\n",
      "17     Petroleum Plaza\n",
      "18     Petroleum Plaza\n",
      "19       Clothing Club\n",
      "20     Petroleum Plaza\n",
      "21     Petroleum Plaza\n",
      "22      Groceries R Us\n",
      "23         Burger Mart\n",
      "24         Burger Mart\n",
      "25      Groceries R Us\n",
      "26         Burger Mart\n",
      "27      Groceries R Us\n",
      "28       Clothing Club\n",
      "29       Clothing Club\n",
      "            ...       \n",
      "74      Groceries R Us\n",
      "75      Groceries R Us\n",
      "76       Clothing Club\n",
      "77         Burger Mart\n",
      "78       Clothing Club\n",
      "79       Clothing Club\n",
      "80       Clothing Club\n",
      "81      Groceries R Us\n",
      "82       Clothing Club\n",
      "83         Burger Mart\n",
      "84       Clothing Club\n",
      "85       Clothing Club\n",
      "86      Groceries R Us\n",
      "87     Petroleum Plaza\n",
      "88         Burger Mart\n",
      "89     Petroleum Plaza\n",
      "90         Burger Mart\n",
      "91         Burger Mart\n",
      "92       Clothing Club\n",
      "93      Groceries R Us\n",
      "94     Petroleum Plaza\n",
      "95         Burger Mart\n",
      "96      Groceries R Us\n",
      "97     Petroleum Plaza\n",
      "98       Clothing Club\n",
      "99       Clothing Club\n",
      "100      Clothing Club\n",
      "101      Clothing Club\n",
      "102        Burger Mart\n",
      "103     Groceries R Us\n",
      "Name: location, Length: 104, dtype: object\n"
     ]
    }
   ],
   "source": [
    "import pandas as pd\n",
    "credit_records = pd.read_csv(\"credit_records.csv\")\n",
    "# One or more lines of code contain errors.\n",
    "# Fix the errors so that the code runs.\n",
    "\n",
    "# Select the location column in credit_records\n",
    "location = credit_records[\"location\"]\n",
    "\n",
    "# Select the item column in credit_records\n",
    "items = credit_records.item\n",
    "\n",
    "# Display results\n",
    "print(location)"
   ]
  }
 ],
 "metadata": {
  "kernelspec": {
   "display_name": "Python 3",
   "language": "python",
   "name": "python3"
  },
  "language_info": {
   "codemirror_mode": {
    "name": "ipython",
    "version": 3
   },
   "file_extension": ".py",
   "mimetype": "text/x-python",
   "name": "python",
   "nbconvert_exporter": "python",
   "pygments_lexer": "ipython3",
   "version": "3.6.7"
  }
 },
 "nbformat": 4,
 "nbformat_minor": 2
}
