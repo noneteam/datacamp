{
 "cells": [
  {
   "cell_type": "markdown",
   "metadata": {},
   "source": [
    "# Loading a DataFrame"
   ]
  },
  {
   "cell_type": "markdown",
   "metadata": {},
   "source": [
    "#### EXERCISE:\n",
    "We're still working hard to solve the kidnapping of Bayes, the Golden Retriever.  Previously, we used a license plate spotted at the crime scene to narrow the list of suspects to:\n",
    "\n",
    "* Fred Frequentist\n",
    "* Ronald Aylmer Fisher\n",
    "* Gertrude Cox\n",
    "* Kirstine Smith\n",
    "\n",
    "We've obtained credit card records for all four suspects.  Perhaps some of them made suspicious purchases before the kidnapping?\n",
    "\n",
    "The records are in a CSV called <code>\"credit_records.csv\"</code>."
   ]
  },
  {
   "cell_type": "markdown",
   "metadata": {},
   "source": [
    "#### INSTRUCTIONS:\n",
    "* Import the <code>pandas</code> module under the alias <code>pd</code>.\n",
    "* Load the CSV <code>\"credit_records.csv\"</code> into a DataFrame called <code>credit_records</code>.\n",
    "* Display the first five rows of <code>credit_records</code> using the <code>.head()</code> method."
   ]
  },
  {
   "cell_type": "markdown",
   "metadata": {},
   "source": [
    "#### SCRIPT.PY:"
   ]
  },
  {
   "cell_type": "code",
   "execution_count": 3,
   "metadata": {},
   "outputs": [
    {
     "name": "stdout",
     "output_type": "stream",
     "text": [
      "            suspect         location              date         item  price\n",
      "0    Kirstine Smith   Groceries R Us   January 6, 2018     broccoli   1.25\n",
      "1      Gertrude Cox  Petroleum Plaza   January 6, 2018  fizzy drink   1.90\n",
      "2  Fred Frequentist   Groceries R Us   January 6, 2018     broccoli   1.25\n",
      "3      Gertrude Cox   Groceries R Us  January 12, 2018     broccoli   1.25\n",
      "4    Kirstine Smith    Clothing Club   January 9, 2018        shirt  14.25\n"
     ]
    }
   ],
   "source": [
    "# Import pandas under the alias pd\n",
    "import pandas as pd\n",
    "\n",
    "# Load the CSV \"credit_records.csv\"\n",
    "credit_records = pd.read_csv(\"credit_records.csv\")\n",
    "\n",
    "# Display the first five rows of credit_records using the .head() method\n",
    "print(credit_records.head(5))"
   ]
  }
 ],
 "metadata": {
  "kernelspec": {
   "display_name": "Python 3",
   "language": "python",
   "name": "python3"
  },
  "language_info": {
   "codemirror_mode": {
    "name": "ipython",
    "version": 3
   },
   "file_extension": ".py",
   "mimetype": "text/x-python",
   "name": "python",
   "nbconvert_exporter": "python",
   "pygments_lexer": "ipython3",
   "version": "3.6.7"
  }
 },
 "nbformat": 4,
 "nbformat_minor": 2
}
