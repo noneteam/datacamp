{
 "cells": [
  {
   "cell_type": "markdown",
   "metadata": {},
   "source": [
    "# Loading a DataFrame"
   ]
  },
  {
   "cell_type": "markdown",
   "metadata": {},
   "source": [
    "#### EXERCISE:\n",
    "We're still working hard to solve the kidnapping of Bayes, the Golden Retriever.  Previously, we used a license plate spotted at the crime scene to narrow the list of suspects to:\n",
    "\n",
    "* Fred Frequentist\n",
    "* Ronald Aylmer Fisher\n",
    "* Gertrude Cox\n",
    "* Kirstine Smith\n",
    "\n",
    "We've obtained credit card records for all four suspects.  Perhaps some of them made suspicious purchases before the kidnapping?\n",
    "\n",
    "The records are in a CSV called <code>\"credit_records.csv\"</code>."
   ]
  },
  {
   "cell_type": "markdown",
   "metadata": {},
   "source": [
    "#### INSTRUCTIONS:\n",
    "* Import the <code>pandas</code> module under the alias <code>pd</code>.\n",
    "* Load the CSV <code>\"credit_records.csv\"</code> into a DataFrame called <code>credit_records</code>.\n",
    "* Display the first five rows of <code>credit_records</code> using the <code>.head()</code> method."
   ]
  },
  {
   "cell_type": "markdown",
   "metadata": {},
   "source": [
    "#### SCRIPT.PY:"
   ]
  },
  {
   "cell_type": "code",
   "execution_count": null,
   "metadata": {},
   "outputs": [],
   "source": [
    "# Import pandas under the alias pd\n",
    "____\n",
    "\n",
    "# Load the CSV \"credit_records.csv\"\n",
    "credit_records = ____\n",
    "\n",
    "# Display the first five rows of credit_records using the .head() method\n",
    "print(____)"
   ]
  }
 ],
 "metadata": {
  "kernelspec": {
   "display_name": "Python 3",
   "language": "python",
   "name": "python3"
  },
  "language_info": {
   "codemirror_mode": {
    "name": "ipython",
    "version": 3
   },
   "file_extension": ".py",
   "mimetype": "text/x-python",
   "name": "python",
   "nbconvert_exporter": "python",
   "pygments_lexer": "ipython3",
   "version": "3.6.7"
  }
 },
 "nbformat": 4,
 "nbformat_minor": 2
}
