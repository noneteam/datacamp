{
 "cells": [
  {
   "cell_type": "markdown",
   "metadata": {},
   "source": [
    "# Python's built-in scope"
   ]
  },
  {
   "cell_type": "markdown",
   "metadata": {},
   "source": [
    "#### EXERCISE:\n",
    "Here you're going to check out Python's built-in scope, which is really just a built-in module called <code>builtins</code>. However, to query <code>builtins</code>, you'll need to <code>import builtins</code> 'because the name builtins is not itself built in...No, I’m serious!' (<em>Learning Python</em>, 5th edition, Mark Lutz).\n",
    "After executing <code>import builtins</code> in the IPython Shell, execute <code>dir(builtins)</code> to print a list of all the names in the module <code>builtins</code>. Have a look and you'll see a bunch of names that you'll recognize! Which of the following names is NOT in the module builtins?"
   ]
  },
  {
   "cell_type": "markdown",
   "metadata": {},
   "source": [
    "#### POSSIBLE ANSWERS:\n",
    "* 'sum'\n",
    "* 'range'\n",
    "* 'array'\n",
    "* 'tuple'"
   ]
  }
 ],
 "metadata": {
  "kernelspec": {
   "display_name": "Python 3",
   "language": "python",
   "name": "python3"
  },
  "language_info": {
   "codemirror_mode": {
    "name": "ipython",
    "version": 3
   },
   "file_extension": ".py",
   "mimetype": "text/x-python",
   "name": "python",
   "nbconvert_exporter": "python",
   "pygments_lexer": "ipython3",
   "version": "3.6.6"
  }
 },
 "nbformat": 4,
 "nbformat_minor": 2
}
