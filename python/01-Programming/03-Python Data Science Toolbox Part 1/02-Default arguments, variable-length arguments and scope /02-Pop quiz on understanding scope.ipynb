{
 "cells": [
  {
   "cell_type": "markdown",
   "metadata": {},
   "source": [
    "# Pop quiz on understanding scope"
   ]
  },
  {
   "cell_type": "markdown",
   "metadata": {},
   "source": [
    "#### EXERCISE:\n",
    "In this exercise, you will practice what you've learned about scope in functions. The variable <code>num</code> has been predefined as <code>5</code>, alongside the following function definitions:\n",
    "\n",
    "<pre><code>def func1():\n",
    "    num = 3\n",
    "    print(num)\n",
    "\n",
    "def func2():\n",
    "    global num\n",
    "    double_num = num * 2\n",
    "    num = 6\n",
    "    print(double_num)\n",
    "</code></pre>\n",
    "\n",
    "Try calling <code>func1()</code> and <code>func2()</code> in the shell, then answer the following questions:\n",
    "\n",
    "* What are the values printed out when you call <code>func1()</code> and <code>func2()</code>?\n",
    "* What is the value of <code>num</code> in the global scope after calling <code>func1()</code> and <code>func2()</code>?"
   ]
  },
  {
   "cell_type": "markdown",
   "metadata": {},
   "source": [
    "#### POSSIBLE ANSWERS:\n",
    "* <code>func1()</code> prints out <code>3</code>, <code>func2()</code> prints out <code>6</code>, and the value of <code>num</code> in the global scope is <code>3</code>.\n",
    "* <code>func1()</code> prints out <code>3</code>, <code>func2()</code> prints out <code>3</code>, and the value of <code>num</code> in the global scope is <code>3</code>.\n",
    "* <code>func1()</code> prints out <code>3</code>, <code>func2()</code> prints out <code>10</code>, and the value of <code>num</code> in the global scope is <code>10</code>.\n",
    "* <code>func1()</code> prints out <code>3</code>, <code>func2()</code> prints out <code>10</code>, and the value of <code>num</code> in the global scope is <code>6</code>."
   ]
  }
 ],
 "metadata": {
  "kernelspec": {
   "display_name": "Python 3",
   "language": "python",
   "name": "python3"
  },
  "language_info": {
   "codemirror_mode": {
    "name": "ipython",
    "version": 3
   },
   "file_extension": ".py",
   "mimetype": "text/x-python",
   "name": "python",
   "nbconvert_exporter": "python",
   "pygments_lexer": "ipython3",
   "version": "3.6.6"
  }
 },
 "nbformat": 4,
 "nbformat_minor": 2
}
