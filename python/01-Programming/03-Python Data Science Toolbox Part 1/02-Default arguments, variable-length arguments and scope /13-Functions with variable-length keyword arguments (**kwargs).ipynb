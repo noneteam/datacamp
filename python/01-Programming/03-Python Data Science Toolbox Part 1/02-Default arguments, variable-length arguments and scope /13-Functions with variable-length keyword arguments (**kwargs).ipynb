{
 "cells": [
  {
   "cell_type": "markdown",
   "metadata": {},
   "source": [
    "# Functions with variable-length keyword arguments (**kwargs)"
   ]
  },
  {
   "cell_type": "markdown",
   "metadata": {},
   "source": [
    "#### EXERCISE:\n",
    "Let's push further on what you've learned about flexible arguments - you've used <code>*args</code>, you're now going to use <code>**kwargs</code>! What makes <code>**kwargs</code> different is that it allows you to pass a variable number of <em>keyword arguments</em> to functions. Recall from the previous video that, within the function definition, <code>kwargs</code> is a dictionary.\n",
    "\n",
    "To understand this idea better, you're going to use <code>**kwargs</code> in this exercise to define a function that accepts a variable number of keyword arguments. The function simulates a simple status report system that prints out the status of a character in a movie."
   ]
  },
  {
   "cell_type": "markdown",
   "metadata": {},
   "source": [
    "#### INSTRUCTIONS:\n",
    "* Complete the function header with the function name <code>report_status</code>. It accepts a single flexible argument <code>**kwargs</code>.\n",
    "* Iterate over the key-value pairs of <code>kwargs</code> to print out the keys and values, separated by a colon ':'.\n",
    "* In the first call to <code>report_status()</code>, pass the following keyword-value pairs: <code>name=\"luke\"</code>, <code>affiliation=\"jedi\"</code> and <code>status=\"missing\"</code>.\n",
    "* In the second call to <code>report_status()</code>, pass the following keyword-value pairs: <code>name=\"anakin\"</code>, <code>affiliation=\"sith lord\"</code> and <code>status=\"deceased\"</code>."
   ]
  },
  {
   "cell_type": "markdown",
   "metadata": {},
   "source": [
    "#### SCRIPT.PY:"
   ]
  },
  {
   "cell_type": "code",
   "execution_count": 4,
   "metadata": {},
   "outputs": [
    {
     "name": "stdout",
     "output_type": "stream",
     "text": [
      "\n",
      "BEGIN: REPORT\n",
      "\n",
      "name: luke\n",
      "affiliation: jedi\n",
      "status: missing\n",
      "\n",
      "END REPORT\n",
      "\n",
      "BEGIN: REPORT\n",
      "\n",
      "ame: anakin\n",
      "affiliation: sith lord\n",
      "status: deceased\n",
      "\n",
      "END REPORT\n"
     ]
    }
   ],
   "source": [
    "# Define report_status\n",
    "def report_status(**kwargs):\n",
    "    \"\"\"Print out the status of a movie character.\"\"\"\n",
    "\n",
    "    print(\"\\nBEGIN: REPORT\\n\")\n",
    "\n",
    "    # Iterate over the key-value pairs of kwargs\n",
    "    for key, value in kwargs.items():\n",
    "        # Print out the keys and values, separated by a colon ':'\n",
    "        print(key + \": \" + value)\n",
    "\n",
    "    print(\"\\nEND REPORT\")\n",
    "\n",
    "# First call to report_status()\n",
    "report_status(name=\"luke\", affiliation=\"jedi\", status=\"missing\")\n",
    "\n",
    "# Second call to report_status()\n",
    "report_status(ame=\"anakin\", affiliation=\"sith lord\", status=\"deceased\")"
   ]
  }
 ],
 "metadata": {
  "kernelspec": {
   "display_name": "Python 3",
   "language": "python",
   "name": "python3"
  },
  "language_info": {
   "codemirror_mode": {
    "name": "ipython",
    "version": 3
   },
   "file_extension": ".py",
   "mimetype": "text/x-python",
   "name": "python",
   "nbconvert_exporter": "python",
   "pygments_lexer": "ipython3",
   "version": "3.6.6"
  }
 },
 "nbformat": 4,
 "nbformat_minor": 2
}
