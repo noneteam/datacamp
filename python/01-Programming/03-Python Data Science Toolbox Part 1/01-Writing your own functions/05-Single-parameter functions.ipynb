{
 "cells": [
  {
   "cell_type": "markdown",
   "metadata": {},
   "source": [
    "# Single-parameter functions"
   ]
  },
  {
   "cell_type": "markdown",
   "metadata": {},
   "source": [
    "#### EXERCISE:\n",
    "Congratulations! You have successfully defined <em>and</em> called your own function! That's pretty cool.\n",
    "\n",
    "In the previous exercise, you defined and called the function <code>shout()</code>, which printed out a string concatenated with <code>'!!!'</code>.\n",
    "You will now update <code>shout()</code> by adding a <em>parameter</em> so that it can accept and process any string <em>argument</em> passed to it. Also note that <code>shout(word)</code>, the part of the <em>header</em> that specifies the function name and parameter(s), is known as the <em>signature</em> of the function. You may encounter this term in the wild!"
   ]
  },
  {
   "cell_type": "markdown",
   "metadata": {},
   "source": [
    "#### INSTRUCTIONS:\n",
    "* Complete the function header by adding the parameter name, <code>word</code>.\n",
    "* Assign the result of concatenating <code>word</code> with <code>'!!!'</code> to <code>shout_word</code>.\n",
    "* Print the value of <code>shout_word</code>.\n",
    "* Call the <code>shout()</code> function, passing to it the string, <code>'congratulations'</code>."
   ]
  },
  {
   "cell_type": "markdown",
   "metadata": {},
   "source": [
    "#### SCRIPT.PY:"
   ]
  },
  {
   "cell_type": "code",
   "execution_count": null,
   "metadata": {},
   "outputs": [],
   "source": [
    "# Define shout with the parameter, word\n",
    "def shout(____):\n",
    "    \"\"\"Print a string with three exclamation marks\"\"\"\n",
    "    # Concatenate the strings: shout_word\n",
    "    ____ = ____ + '!!!'\n",
    "\n",
    "    # Print shout_word\n",
    "    print(____)\n",
    "\n",
    "# Call shout with the string 'congratulations'\n",
    "\n"
   ]
  }
 ],
 "metadata": {
  "kernelspec": {
   "display_name": "Python 3",
   "language": "python",
   "name": "python3"
  },
  "language_info": {
   "codemirror_mode": {
    "name": "ipython",
    "version": 3
   },
   "file_extension": ".py",
   "mimetype": "text/x-python",
   "name": "python",
   "nbconvert_exporter": "python",
   "pygments_lexer": "ipython3",
   "version": "3.6.6"
  }
 },
 "nbformat": 4,
 "nbformat_minor": 2
}
