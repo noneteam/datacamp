{
 "cells": [
  {
   "cell_type": "markdown",
   "metadata": {},
   "source": [
    "# Recapping built-in functions"
   ]
  },
  {
   "cell_type": "markdown",
   "metadata": {},
   "source": [
    "#### EXERCISE:\n",
    "In the video, Hugo briefly examined the return behavior of the built-in functions <code>print()</code> and <code>str()</code>. Here, you will use both functions and examine their return values. A variable <code>x</code> has been preloaded for this exercise. Run the code below in the console. Pay close attention to the results to answer the question that follows.\n",
    "\n",
    "* Assign <code>str(x)</code> to a variable <code>y1</code>: <code>y1 = str(x)</code>\n",
    "* Assign <code>print(x)</code> to a variable <code>y2</code>: <code>y2 = print(x)</code>\n",
    "* Check the types of the variables <code>x</code>, <code>y1</code>, and <code>y2</code>.\n",
    "\n",
    "What are the types of <code>x</code>, <code>y1</code>, and <code>y2</code>?"
   ]
  },
  {
   "cell_type": "markdown",
   "metadata": {},
   "source": [
    "#### POSSIBLE ANSWERS:\n",
    "* They are all <code>str</code> types.\n",
    "* <code>x</code> is a <code>float</code>, <code>y1</code> is an <code>float</code>, and <code>y2</code> is a <code>str</code>.\n",
    "* <code>x</code> is a <code>float</code>, <code>y1</code> is a <code>str</code>, and <code>y2</code> is a <code>NoneType</code>.\n",
    "* They are all <code>NoneType</code> types."
   ]
  }
 ],
 "metadata": {
  "kernelspec": {
   "display_name": "Python 3",
   "language": "python",
   "name": "python3"
  },
  "language_info": {
   "codemirror_mode": {
    "name": "ipython",
    "version": 3
   },
   "file_extension": ".py",
   "mimetype": "text/x-python",
   "name": "python",
   "nbconvert_exporter": "python",
   "pygments_lexer": "ipython3",
   "version": "3.6.6"
  }
 },
 "nbformat": 4,
 "nbformat_minor": 2
}
