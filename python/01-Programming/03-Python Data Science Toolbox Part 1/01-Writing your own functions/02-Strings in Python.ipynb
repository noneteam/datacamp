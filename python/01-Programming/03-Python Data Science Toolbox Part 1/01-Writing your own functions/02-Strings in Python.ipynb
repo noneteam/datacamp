{
 "cells": [
  {
   "cell_type": "markdown",
   "metadata": {},
   "source": [
    "# Strings in Python"
   ]
  },
  {
   "cell_type": "markdown",
   "metadata": {},
   "source": [
    "#### EXERCISE:\n",
    "In the video, you learned of another standard Python datatype, <strong>strings</strong>. Recall that these represent textual data. To assign the string <code>'DataCamp'</code> to a variable <code>company</code>, you execute:\n",
    "\n",
    "<pre><code>company = 'DataCamp'\n",
    "</code></pre>\n",
    "\n",
    "You've also learned to use the operations <code>+</code> and <code>*</code> with strings. Unlike with numeric types such as ints and floats, the <code>+</code> operator <em>concatenates</em> strings together, while the <code>*</code> concatenates multiple copies of a string together. In this exercise, you will use the <code>+</code> and <code>*</code> operations on strings to answer the question below. Execute the following code in the shell:\n",
    "\n",
    "<pre><code>object1 = \"data\" + \"analysis\" + \"visualization\"\n",
    "object2 = 1 * 3\n",
    "object3 = \"1\" * 3\n",
    "</code></pre>\n",
    "\n",
    "What are the values in <code>object1</code>, <code>object2</code>, and <code>object3</code>, respectively?"
   ]
  },
  {
   "cell_type": "markdown",
   "metadata": {},
   "source": [
    "#### POSSIBLE ANSWERS:\n",
    "* <code>object1</code> contains <code>\"data + analysis + visualization\"</code>, <code>object2</code> contains <code>\"1*3\"</code>, <code>object3</code> contains <code>13</code>.\n",
    "* <code>object1</code> contains <code>\"data+analysis+visualization\"</code>, <code>object2</code> contains <code>3</code>, <code>object3</code> contains <code>\"13\"</code>.\n",
    "* <code>object1</code> contains <code>\"dataanalysisvisualization\"</code>, <code>object2</code> contains <code>3</code>, <code>object3</code> contains <code>\"111\"</code>."
   ]
  }
 ],
 "metadata": {
  "kernelspec": {
   "display_name": "Python 3",
   "language": "python",
   "name": "python3"
  },
  "language_info": {
   "codemirror_mode": {
    "name": "ipython",
    "version": 3
   },
   "file_extension": ".py",
   "mimetype": "text/x-python",
   "name": "python",
   "nbconvert_exporter": "python",
   "pygments_lexer": "ipython3",
   "version": "3.6.6"
  }
 },
 "nbformat": 4,
 "nbformat_minor": 2
}
