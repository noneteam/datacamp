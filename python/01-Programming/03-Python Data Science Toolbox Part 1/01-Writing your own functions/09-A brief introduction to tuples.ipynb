{
 "cells": [
  {
   "cell_type": "markdown",
   "metadata": {},
   "source": [
    "# A brief introduction to tuples"
   ]
  },
  {
   "cell_type": "markdown",
   "metadata": {},
   "source": [
    "#### EXERCISE:\n",
    "Alongside learning about functions, you've also learned about tuples! Here, you will practice what you've learned about tuples: how to construct, unpack, and access tuple elements. Recall how Hugo unpacked the tuple <code>even_nums</code> in the video:\n",
    "\n",
    "<code>a, b, c = even_nums</code>\n",
    "\n",
    "A three-element tuple named <code>nums</code> has been preloaded for this exercise. Before completing the script, perform the following:\n",
    "\n",
    "* Print out the value of <code>nums</code> in the IPython shell. Note the elements in the tuple.\n",
    "* In the IPython shell, try to change the first element of <code>nums</code> to the value <em>2</em> by doing an assignment: <code>nums[0] = 2</code>. What happens?"
   ]
  },
  {
   "cell_type": "markdown",
   "metadata": {},
   "source": [
    "#### INSTRUCTIONS:\n",
    "* Unpack <code>nums</code> to the variables <code>num1</code>, <code>num2</code>, and <code>num3</code>.\n",
    "* Construct a new tuple, <code>even_nums</code> composed of the same elements in <code>nums</code>, but with the 1st element replaced with the value, <em>2</em>."
   ]
  },
  {
   "cell_type": "markdown",
   "metadata": {},
   "source": [
    "#### SCRIPT.PY:"
   ]
  },
  {
   "cell_type": "code",
   "execution_count": null,
   "metadata": {},
   "outputs": [],
   "source": [
    "# Unpack nums into num1, num2, and num3\n",
    "\n",
    "\n",
    "# Construct even_nums\n",
    "\n"
   ]
  }
 ],
 "metadata": {
  "kernelspec": {
   "display_name": "Python 3",
   "language": "python",
   "name": "python3"
  },
  "language_info": {
   "codemirror_mode": {
    "name": "ipython",
    "version": 3
   },
   "file_extension": ".py",
   "mimetype": "text/x-python",
   "name": "python",
   "nbconvert_exporter": "python",
   "pygments_lexer": "ipython3",
   "version": "3.6.6"
  }
 },
 "nbformat": 4,
 "nbformat_minor": 2
}
