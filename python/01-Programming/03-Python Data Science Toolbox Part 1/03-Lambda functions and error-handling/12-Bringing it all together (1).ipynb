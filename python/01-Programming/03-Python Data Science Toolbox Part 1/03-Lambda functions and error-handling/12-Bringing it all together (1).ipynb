{
 "cells": [
  {
   "cell_type": "markdown",
   "metadata": {},
   "source": [
    "# Bringing it all together (1)"
   ]
  },
  {
   "cell_type": "markdown",
   "metadata": {},
   "source": [
    "#### EXERCISE:\n",
    "This is awesome! You have now learned how to write anonymous functions using <code>lambda</code>, how to pass lambda functions as arguments to other functions such as <code>map()</code>, <code>filter()</code>, and <code>reduce()</code>, as well as how to write errors and output custom error messages within your functions. You will now put together these learnings to good use by working with a Twitter dataset. Before practicing your new error handling skills,in this exercise, you will write a lambda function and use <code>filter()</code> to select retweets, that is, tweets that begin with the string <code>'RT'</code>.\n",
    "\n",
    "To help you accomplish this, the Twitter data has been imported into the DataFrame, <code>tweets_df</code>. Go for it!"
   ]
  },
  {
   "cell_type": "markdown",
   "metadata": {},
   "source": [
    "#### INSTRUCTIONS:\n",
    "* In the <code>filter()</code> call, pass a lambda function and the sequence of tweets as strings, <code>tweets_df['text']</code>. The lambda function should check if the first 2 characters in a tweet <code>x</code> are 'RT'. Assign the resulting filter object to <code>result</code>.  To get the first 2 characters in a tweet <code>x</code>, use <code>x[0:2]</code>. To check equality, use a Boolean filter with <code>==</code>.\n",
    "* Convert <code>result</code> to a list and print out the list."
   ]
  },
  {
   "cell_type": "markdown",
   "metadata": {},
   "source": [
    "#### SCRIPT.PY:"
   ]
  },
  {
   "cell_type": "code",
   "execution_count": null,
   "metadata": {},
   "outputs": [],
   "source": [
    "# Select retweets from the Twitter DataFrame: result\n",
    "result = filter(____, ____)\n",
    "\n",
    "# Create list from filter object result: res_list\n",
    "____\n",
    "\n",
    "# Print all retweets in res_list\n",
    "for tweet in res_list:\n",
    "    print(tweet)\n"
   ]
  }
 ],
 "metadata": {
  "kernelspec": {
   "display_name": "Python 3",
   "language": "python",
   "name": "python3"
  },
  "language_info": {
   "codemirror_mode": {
    "name": "ipython",
    "version": 3
   },
   "file_extension": ".py",
   "mimetype": "text/x-python",
   "name": "python",
   "nbconvert_exporter": "python",
   "pygments_lexer": "ipython3",
   "version": "3.6.6"
  }
 },
 "nbformat": 4,
 "nbformat_minor": 2
}
