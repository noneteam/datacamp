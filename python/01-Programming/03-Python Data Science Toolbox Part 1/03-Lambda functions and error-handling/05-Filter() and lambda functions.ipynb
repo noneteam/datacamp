{
 "cells": [
  {
   "cell_type": "markdown",
   "metadata": {},
   "source": [
    "# Filter() and lambda functions"
   ]
  },
  {
   "cell_type": "markdown",
   "metadata": {},
   "source": [
    "#### EXERCISE:\n",
    "In the previous exercise, you used lambda functions to anonymously embed an operation within <code>map()</code>. You will practice this again in this exercise by using a lambda function with <code>filter()</code>, which may be new to you! The function <code>filter()</code> offers a way to filter out elements from a list that don't satisfy certain criteria.\n",
    "\n",
    "Your goal in this exercise is to use <code>filter()</code> to create, from an input list of strings, a new list that contains only strings that have more than 6 characters."
   ]
  },
  {
   "cell_type": "markdown",
   "metadata": {},
   "source": [
    "#### INSTRUCTIONS:\n",
    "* In the <code>filter()</code> call, pass a lambda function and the list of strings, <code>fellowship</code>. The lambda function should check if the number of characters in a string <code>member</code> is greater than 6; use the <code>len()</code> function to do this. Assign the resulting filter object to <code>result</code>.\n",
    "* Convert <code>result</code> to a list and print out the list."
   ]
  },
  {
   "cell_type": "markdown",
   "metadata": {},
   "source": [
    "#### SCRIPT.PY:"
   ]
  },
  {
   "cell_type": "code",
   "execution_count": null,
   "metadata": {},
   "outputs": [],
   "source": [
    "# Create a list of strings: fellowship\n",
    "fellowship = ['frodo', 'samwise', 'merry', 'pippin', 'aragorn', 'boromir', 'legolas', 'gimli', 'gandalf']\n",
    "\n",
    "# Use filter() to apply a lambda function over fellowship: result\n",
    "____ = filter(____, ____)\n",
    "\n",
    "# Convert result to a list: result_list\n",
    "____\n",
    "\n",
    "# Convert result into a list and print it\n",
    "print(result_list)\n"
   ]
  }
 ],
 "metadata": {
  "kernelspec": {
   "display_name": "Python 3",
   "language": "python",
   "name": "python3"
  },
  "language_info": {
   "codemirror_mode": {
    "name": "ipython",
    "version": 3
   },
   "file_extension": ".py",
   "mimetype": "text/x-python",
   "name": "python",
   "nbconvert_exporter": "python",
   "pygments_lexer": "ipython3",
   "version": "3.6.6"
  }
 },
 "nbformat": 4,
 "nbformat_minor": 2
}
