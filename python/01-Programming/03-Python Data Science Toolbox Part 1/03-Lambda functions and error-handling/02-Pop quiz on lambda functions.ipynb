{
 "cells": [
  {
   "cell_type": "markdown",
   "metadata": {},
   "source": [
    "# Pop quiz on lambda functions"
   ]
  },
  {
   "cell_type": "markdown",
   "metadata": {},
   "source": [
    "#### EXERCISE:\n",
    "In this exercise, you will practice writing a simple lambda function and calling this function. Recall what you know about lambda functions and answer the following questions:\n",
    "\n",
    "* How would you write a lambda function <code>add_bangs</code> that adds three exclamation points <code>'!!!'</code> to the end of a string <code>a</code>?\n",
    "* How would you call <code>add_bangs</code> with the argument <code>'hello'</code>?\n",
    "\n",
    "You may use the IPython shell to test your code."
   ]
  },
  {
   "cell_type": "markdown",
   "metadata": {},
   "source": [
    "#### POSSIBLE ANSWERS:\n",
    "* The lambda function definition is: <code>add_bangs = (a + '!!!')</code>, and the function call is: <code>add_bangs('hello')</code>.\n",
    "* The lambda function definition is: <code>add_bangs = (lambda a: a + '!!!')</code>, and the function call is: <code>add_bangs('hello')</code>.\n",
    "* The lambda function definition is: <code>(lambda a: a + '!!!') = add_bangs</code>, and the function call is: <code>add_bangs('hello')</code>."
   ]
  }
 ],
 "metadata": {
  "kernelspec": {
   "display_name": "Python 3",
   "language": "python",
   "name": "python3"
  },
  "language_info": {
   "codemirror_mode": {
    "name": "ipython",
    "version": 3
   },
   "file_extension": ".py",
   "mimetype": "text/x-python",
   "name": "python",
   "nbconvert_exporter": "python",
   "pygments_lexer": "ipython3",
   "version": "3.6.6"
  }
 },
 "nbformat": 4,
 "nbformat_minor": 2
}
