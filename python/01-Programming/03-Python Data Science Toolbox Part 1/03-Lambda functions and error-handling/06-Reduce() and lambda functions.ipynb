{
 "cells": [
  {
   "cell_type": "markdown",
   "metadata": {},
   "source": [
    "# Reduce() and lambda functions"
   ]
  },
  {
   "cell_type": "markdown",
   "metadata": {},
   "source": [
    "#### EXERCISE:\n",
    "You're getting very good at using lambda functions! Here's one more function to add to your repertoire of skills. The <code>reduce()</code> function is useful for performing some computation on a list and, unlike <code>map()</code> and <code>filter()</code>, returns a single value as a result. To use <code>reduce()</code>, you must import it from the <code>functools</code> module.\n",
    "\n",
    "Remember <code>gibberish()</code> from a few exercises back?\n",
    "\n",
    "<pre><code># Define gibberish\n",
    "def gibberish(*args):\n",
    "    \"\"\"Concatenate strings in *args together.\"\"\"\n",
    "    hodgepodge = ''\n",
    "    for word in args:\n",
    "        hodgepodge += word\n",
    "    return hodgepodge\n",
    "</code></pre>\n",
    "\n",
    "<code>gibberish()</code> simply takes a list of strings as an argument and returns, as a single-value result, the concatenation of all of these strings. In this exercise, you will replicate this functionality by using <code>reduce()</code> and a lambda function that concatenates strings together."
   ]
  },
  {
   "cell_type": "markdown",
   "metadata": {},
   "source": [
    "#### INSTRUCTIONS:\n",
    "* Import the <code>reduce</code> function from the <code>functools</code> module.\n",
    "* In the <code>reduce()</code> call, pass a lambda function that takes two string arguments <code>item1</code> and <code>item2</code> and concatenates them; also pass the list of strings, <code>stark</code>. Assign the result to <code>result</code>. The first argument to <code>reduce()</code> should be the lambda function and the second argument is the list <code>stark</code>."
   ]
  },
  {
   "cell_type": "markdown",
   "metadata": {},
   "source": [
    "#### SCRIPT.PY:"
   ]
  },
  {
   "cell_type": "code",
   "execution_count": null,
   "metadata": {},
   "outputs": [],
   "source": [
    "# Import reduce from functools\n",
    "\n",
    "\n",
    "# Create a list of strings: stark\n",
    "stark = ['robb', 'sansa', 'arya', 'brandon', 'rickon']\n",
    "\n",
    "# Use reduce() to apply a lambda function over stark: result\n",
    "result = reduce(____, ____)\n",
    "\n",
    "# Print the result\n",
    "print(result)\n"
   ]
  }
 ],
 "metadata": {
  "kernelspec": {
   "display_name": "Python 3",
   "language": "python",
   "name": "python3"
  },
  "language_info": {
   "codemirror_mode": {
    "name": "ipython",
    "version": 3
   },
   "file_extension": ".py",
   "mimetype": "text/x-python",
   "name": "python",
   "nbconvert_exporter": "python",
   "pygments_lexer": "ipython3",
   "version": "3.6.6"
  }
 },
 "nbformat": 4,
 "nbformat_minor": 2
}
