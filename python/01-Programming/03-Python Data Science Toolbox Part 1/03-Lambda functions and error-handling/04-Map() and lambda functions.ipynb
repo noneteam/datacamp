{
 "cells": [
  {
   "cell_type": "markdown",
   "metadata": {},
   "source": [
    "# Map() and lambda functions"
   ]
  },
  {
   "cell_type": "markdown",
   "metadata": {},
   "source": [
    "#### EXERCISE:\n",
    "So far, you've used lambda functions to write short, simple functions as well as to redefine functions with simple functionality. The best use case for lambda functions, however, are for when you want these simple functionalities to be anonymously embedded within larger expressions. What that means is that the functionality is not stored in the environment, unlike a function defined with <code>def</code>. To understand this idea better, you will use a lambda function in the context of the <code>map()</code> function.\n",
    "\n",
    "Recall from the video that <code>map()</code> applies a function over an object, such as a list. Here, you can use lambda functions to define the function that <code>map()</code> will use to process the object. For example:\n",
    "\n",
    "<pre><code>nums = [2, 4, 6, 8, 10]\n",
    "\n",
    "result = map(lambda a: a ** 2, nums)\n",
    "</code></pre>\n",
    "\n",
    "You can see here that a lambda function, which raises a value <code>a</code> to the power of 2, is passed to <code>map()</code> alongside a list of numbers, <code>nums</code>. The <em>map object</em> that results from the call to <code>map()</code> is stored in <code>result</code>. You will now practice the use of lambda functions with <code>map()</code>. For this exercise, you will map the functionality of the <code>add_bangs()</code> function you defined in previous exercises over a list of strings."
   ]
  },
  {
   "cell_type": "markdown",
   "metadata": {},
   "source": [
    "#### INSTRUCTIONS:\n",
    "* In the <code>map()</code> call, pass a lambda function that concatenates the string <code>'!!!'</code> to a string <code>item</code>; also pass the list of strings, <code>spells</code>. Assign the resulting map object to <code>shout_spells</code>.\n",
    "* Convert <code>shout_spells</code> to a list and print out the list."
   ]
  },
  {
   "cell_type": "markdown",
   "metadata": {},
   "source": [
    "#### SCRIPT.PY:"
   ]
  },
  {
   "cell_type": "code",
   "execution_count": 1,
   "metadata": {},
   "outputs": [
    {
     "name": "stdout",
     "output_type": "stream",
     "text": [
      "['protego!!!', 'accio!!!', 'expecto patronum!!!', 'legilimens!!!']\n"
     ]
    }
   ],
   "source": [
    "# Create a list of strings: spells\n",
    "spells = [\"protego\", \"accio\", \"expecto patronum\", \"legilimens\"]\n",
    "\n",
    "# Use map() to apply a lambda function over spells: shout_spells\n",
    "shout_spells = map(lambda item: item + \"!!!\", spells)\n",
    "\n",
    "# Convert shout_spells to a list: shout_spells_list\n",
    "shout_spells_list = list(shout_spells)\n",
    "\n",
    "# Convert shout_spells into a list and print it\n",
    "print(shout_spells_list)\n"
   ]
  }
 ],
 "metadata": {
  "kernelspec": {
   "display_name": "Python 3",
   "language": "python",
   "name": "python3"
  },
  "language_info": {
   "codemirror_mode": {
    "name": "ipython",
    "version": 3
   },
   "file_extension": ".py",
   "mimetype": "text/x-python",
   "name": "python",
   "nbconvert_exporter": "python",
   "pygments_lexer": "ipython3",
   "version": "3.6.6"
  }
 },
 "nbformat": 4,
 "nbformat_minor": 2
}
