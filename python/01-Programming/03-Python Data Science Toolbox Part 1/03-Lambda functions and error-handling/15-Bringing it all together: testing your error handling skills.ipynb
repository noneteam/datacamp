{
 "cells": [
  {
   "cell_type": "markdown",
   "metadata": {},
   "source": [
    "# Bringing it all together: testing your error handling skills"
   ]
  },
  {
   "cell_type": "markdown",
   "metadata": {},
   "source": [
    "#### EXERCISE:\n",
    "You have just written error handling into your <code>count_entries()</code> function so that, when the user passes the function a column (as 2nd argument) NOT contained in the DataFrame (1st argument), a <code>ValueError</code> is thrown. You're now going to play with this function: it is loaded into pre-exercise code, as is the DataFrame <code>tweets_df</code>. Try calling <code>count_entries(tweets_df, 'lang')</code> to confirm that the function behaves as it should. Then call <code>count_entries(tweets_df, 'lang1')</code>: what is the last line of the output?"
   ]
  },
  {
   "cell_type": "markdown",
   "metadata": {},
   "source": [
    "#### POSSIBLE ANSWERS:\n",
    "* 'ValueError: The DataFrame does not have the requested column.'\n",
    "* 'ValueError: The DataFrame does not have a lang1 column.'\n",
    "* 'TypeError: The DataFrame does not have the requested column.'"
   ]
  }
 ],
 "metadata": {
  "kernelspec": {
   "display_name": "Python 3",
   "language": "python",
   "name": "python3"
  },
  "language_info": {
   "codemirror_mode": {
    "name": "ipython",
    "version": 3
   },
   "file_extension": ".py",
   "mimetype": "text/x-python",
   "name": "python",
   "nbconvert_exporter": "python",
   "pygments_lexer": "ipython3",
   "version": "3.6.6"
  }
 },
 "nbformat": 4,
 "nbformat_minor": 2
}
