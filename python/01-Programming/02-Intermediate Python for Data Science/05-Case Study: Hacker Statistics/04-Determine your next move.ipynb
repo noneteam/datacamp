{
 "cells": [
  {
   "cell_type": "markdown",
   "metadata": {},
   "source": [
    "# Determine your next move"
   ]
  },
  {
   "cell_type": "markdown",
   "metadata": {},
   "source": [
    "#### EXERCISE:\n",
    "In the Empire State Building bet, your next move depends on the number of eyes you throw with the dice. We can perfectly code this with an <code>if</code>-<code>elif</code>-<code>else</code> construct!\n",
    "\n",
    "The sample code assumes that you're currently at step 50. Can you fill in the missing pieces to finish the script? <code>numpy</code> is already imported as <code>np</code> and the seed has been set to <code>123</code>, so you don't have to worry about that anymore."
   ]
  },
  {
   "cell_type": "markdown",
   "metadata": {},
   "source": [
    "#### INSTRUCTIONS:\n",
    "* Roll the dice. Use <code>randint()</code> to create the variable <code>dice</code>.\n",
    "* Finish the <code>if</code>-<code>elif</code>-<code>else</code> construct by replacing <code>___</code>:\n",
    " * If <code>dice</code> is 1 or 2, you go one step down.\n",
    " * if <code>dice</code> is 3, 4 or 5, you go one step up.\n",
    " * Else, you throw the dice again. The number of eyes is the number of steps you go up.\n",
    "* Print out <code>dice</code> and <code>step</code>. Given the value of <code>dice</code>, was <code>step</code> updated correctly?"
   ]
  },
  {
   "cell_type": "markdown",
   "metadata": {},
   "source": [
    "#### SCRIPT.PY:"
   ]
  },
  {
   "cell_type": "code",
   "execution_count": null,
   "metadata": {},
   "outputs": [],
   "source": [
    "# Numpy is imported, seed is set\n",
    "\n",
    "# Starting step\n",
    "step = 50\n",
    "\n",
    "# Roll the dice\n",
    "\n",
    "\n",
    "# Finish the control construct\n",
    "if dice <= 2 :\n",
    "    step = step - 1\n",
    "elif ___ :\n",
    "    ___\n",
    "___ :\n",
    "    step = step + np.random.randint(1,7)\n",
    "\n",
    "# Print out dice and step\n"
   ]
  }
 ],
 "metadata": {
  "kernelspec": {
   "display_name": "Python 3",
   "language": "python",
   "name": "python3"
  },
  "language_info": {
   "codemirror_mode": {
    "name": "ipython",
    "version": 3
   },
   "file_extension": ".py",
   "mimetype": "text/x-python",
   "name": "python",
   "nbconvert_exporter": "python",
   "pygments_lexer": "ipython3",
   "version": "3.6.6"
  }
 },
 "nbformat": 4,
 "nbformat_minor": 2
}
