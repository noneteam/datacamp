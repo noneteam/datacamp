{
 "cells": [
  {
   "cell_type": "markdown",
   "metadata": {},
   "source": [
    "# The next step"
   ]
  },
  {
   "cell_type": "markdown",
   "metadata": {},
   "source": [
    "#### EXERCISE:\n",
    "Before, you have already written Python code that determines the next step based on the previous step. Now it's time to put this code inside a <code>for</code> loop so that we can simulate a random walk."
   ]
  },
  {
   "cell_type": "markdown",
   "metadata": {},
   "source": [
    "#### INSTRUCTIONS:\n",
    "* Make a list <code>random_walk</code> that contains the first step, which is the integer 0.\n",
    "* Finish the <code>for</code> loop:\n",
    " * The loop should run <code>100</code> times.\n",
    " * On each iteration, set <code>step</code> equal to the last element in the <code>random_walk</code> list. You can use the index <code>-1</code> for this.\n",
    "* Next, let the <code>if</code>-<code>elif</code>-<code>else</code> construct update <code>step</code> for you.\n",
    "* The code that appends <code>step</code> to <code>random_walk</code> is already coded.\n",
    "* Print out <code>random_walk</code>."
   ]
  },
  {
   "cell_type": "markdown",
   "metadata": {},
   "source": [
    "#### SCRIPT.PY:"
   ]
  },
  {
   "cell_type": "code",
   "execution_count": null,
   "metadata": {},
   "outputs": [],
   "source": [
    "# Numpy is imported, seed is set\n",
    "\n",
    "# Initialize random_walk\n",
    "\n",
    "\n",
    "# Complete the ___\n",
    "for x in ___ :\n",
    "    # Set step: last element in random_walk\n",
    "    ___\n",
    "\n",
    "    # Roll the dice\n",
    "    dice = np.random.randint(1,7)\n",
    "\n",
    "    # Determine next step\n",
    "    if dice <= 2:\n",
    "        step = step - 1\n",
    "    elif dice <= 5:\n",
    "        step = step + 1\n",
    "    else:\n",
    "        step = step + np.random.randint(1,7)\n",
    "\n",
    "    # append next_step to random_walk\n",
    "    random_walk.append(step)\n",
    "\n",
    "# Print random_walk\n"
   ]
  }
 ],
 "metadata": {
  "kernelspec": {
   "display_name": "Python 3",
   "language": "python",
   "name": "python3"
  },
  "language_info": {
   "codemirror_mode": {
    "name": "ipython",
    "version": 3
   },
   "file_extension": ".py",
   "mimetype": "text/x-python",
   "name": "python",
   "nbconvert_exporter": "python",
   "pygments_lexer": "ipython3",
   "version": "3.6.6"
  }
 },
 "nbformat": 4,
 "nbformat_minor": 2
}
