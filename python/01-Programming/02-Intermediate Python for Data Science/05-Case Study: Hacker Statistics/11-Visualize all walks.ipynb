{
 "cells": [
  {
   "cell_type": "markdown",
   "metadata": {},
   "source": [
    "# Visualize all walks"
   ]
  },
  {
   "cell_type": "markdown",
   "metadata": {},
   "source": [
    "#### EXERCISE:\n",
    "<code>all_walks</code> is a list of lists: every sub-list represents a single random walk. If you convert this list of lists to a Numpy array, you can start making interesting plots! <code>matplotlib.pyplot</code> is already imported as <code>plt</code>.\n",
    "\n",
    "The nested <code>for</code> loop is already coded for you - don't worry about it. For now, focus on the code that comes after this <code>for</code> loop."
   ]
  },
  {
   "cell_type": "markdown",
   "metadata": {},
   "source": [
    "#### INSTRUCTIONS:\n",
    "* Use <code>np.array()</code> to convert <code>all_walks</code> to a Numpy array, <code>np_aw</code>.\n",
    "* Try to use <code>plt.plot()</code> on <code>np_aw</code>. Also include <code>plt.show()</code>. Does it work out of the box?\n",
    "* Transpose <code>np_aw</code> by calling <code>np.transpose()</code> on <code>np_aw</code>. Call the result <code>np_aw_t</code>. Now every row in <code>np_all_walks</code> represents the position after 1 throw for the 10 random walks.\n",
    "* Use <code>plt.plot()</code> to plot <code>np_aw_t</code>; also include a <code>plt.show()</code>. Does it look better this time?"
   ]
  },
  {
   "cell_type": "markdown",
   "metadata": {},
   "source": [
    "#### SCRIPT.PY:"
   ]
  },
  {
   "cell_type": "code",
   "execution_count": null,
   "metadata": {},
   "outputs": [],
   "source": [
    "# numpy and matplotlib imported, seed set.\n",
    "\n",
    "# initialize and populate all_walks\n",
    "all_walks = []\n",
    "for i in range(10) :\n",
    "    random_walk = [0]\n",
    "    for x in range(100) :\n",
    "        step = random_walk[-1]\n",
    "        dice = np.random.randint(1,7)\n",
    "        if dice <= 2:\n",
    "            step = max(0, step - 1)\n",
    "        elif dice <= 5:\n",
    "            step = step + 1\n",
    "        else:\n",
    "            step = step + np.random.randint(1,7)\n",
    "        random_walk.append(step)\n",
    "    all_walks.append(random_walk)\n",
    "\n",
    "# Convert all_walks to Numpy array: np_aw\n",
    "\n",
    "\n",
    "# Plot np_aw and show\n",
    "\n",
    "\n",
    "# Clear the figure\n",
    "plt.clf()\n",
    "\n",
    "# Transpose np_aw: np_aw_t\n",
    "\n",
    "\n",
    "# Plot np_aw_t and show"
   ]
  }
 ],
 "metadata": {
  "kernelspec": {
   "display_name": "Python 3",
   "language": "python",
   "name": "python3"
  },
  "language_info": {
   "codemirror_mode": {
    "name": "ipython",
    "version": 3
   },
   "file_extension": ".py",
   "mimetype": "text/x-python",
   "name": "python",
   "nbconvert_exporter": "python",
   "pygments_lexer": "ipython3",
   "version": "3.6.6"
  }
 },
 "nbformat": 4,
 "nbformat_minor": 2
}
