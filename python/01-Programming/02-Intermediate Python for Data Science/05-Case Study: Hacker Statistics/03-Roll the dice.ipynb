{
 "cells": [
  {
   "cell_type": "markdown",
   "metadata": {},
   "source": [
    "# Roll the dice"
   ]
  },
  {
   "cell_type": "markdown",
   "metadata": {},
   "source": [
    "#### EXERCISE:\n",
    "In the previous exercise, you used <code>rand()</code>, that generates a random float between 0 and 1.\n",
    "\n",
    "As Filip explained in the video you can just as well use <code>randint()</code>, also a function of the <code>random</code> package, to generate integers randomly. The following call generates the integer 4, 5, 6 or 7 randomly. <strong>8 is not included</strong>.\n",
    "\n",
    "<pre><code>import numpy as np\n",
    "np.random.randint(4, 8)\n",
    "</code></pre>\n",
    "\n",
    "Numpy has already been imported as <code>np</code> and a seed has been set. Can you roll some dice?"
   ]
  },
  {
   "cell_type": "markdown",
   "metadata": {},
   "source": [
    "#### INSTRUCTIONS:\n",
    "* Use <code>randint()</code> with the appropriate arguments to randomly generate the integer 1, 2, 3, 4, 5 or 6. This simulates a dice. Print it out.\n",
    "* Repeat the outcome to see if the second throw is different. Again, print out the result."
   ]
  },
  {
   "cell_type": "markdown",
   "metadata": {},
   "source": [
    "#### SCRIPT.PY:"
   ]
  },
  {
   "cell_type": "code",
   "execution_count": null,
   "metadata": {},
   "outputs": [],
   "source": [
    "# Import numpy and set seed\n",
    "import numpy as np\n",
    "np.random.seed(123)\n",
    "\n",
    "# Use randint() to simulate a dice\n",
    "\n",
    "\n",
    "# Use randint() again\n"
   ]
  }
 ],
 "metadata": {
  "kernelspec": {
   "display_name": "Python 3",
   "language": "python",
   "name": "python3"
  },
  "language_info": {
   "codemirror_mode": {
    "name": "ipython",
    "version": 3
   },
   "file_extension": ".py",
   "mimetype": "text/x-python",
   "name": "python",
   "nbconvert_exporter": "python",
   "pygments_lexer": "ipython3",
   "version": "3.6.6"
  }
 },
 "nbformat": 4,
 "nbformat_minor": 2
}
