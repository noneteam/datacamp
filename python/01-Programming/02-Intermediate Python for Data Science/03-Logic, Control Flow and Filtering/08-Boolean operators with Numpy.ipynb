{
 "cells": [
  {
   "cell_type": "markdown",
   "metadata": {},
   "source": [
    "# Boolean operators with Numpy"
   ]
  },
  {
   "cell_type": "markdown",
   "metadata": {},
   "source": [
    "#### EXERCISE:\n",
    "Before, the operational operators like <code>&lt;</code> and <code>&gt;=</code> worked with Numpy arrays out of the box. Unfortunately, this is not true for the boolean operators <code>and</code>, <code>or</code>, and <code>not</code>.\n",
    "\n",
    "To use these operators with Numpy, you will need <code>np.logical_and()</code>, <code>np.logical_or()</code> and <code>np.logical_not()</code>. Here's an example on the <code>my_house</code> and <code>your_house</code> arrays from before to give you an idea:\n",
    "\n",
    "<pre><code>np.logical_and(your_house &gt; 13, \n",
    "               your_house &lt; 15)\n",
    "</code></pre>"
   ]
  },
  {
   "cell_type": "markdown",
   "metadata": {},
   "source": [
    "#### INSTRUCTIONS:\n",
    "* Generate boolean arrays that answer the following questions:</li>\n",
    " * Which areas in <code>my_house</code> are greater than <code>18.5</code> or smaller than <code>10</code>?\n",
    " * Which areas are smaller than <code>11</code> in both <code>my_house</code> and <code>your_house</code>?\n",
    "\n",
    "Make sure to wrap both commands in <code>print()</code> statement, so that you can inspect the output."
   ]
  },
  {
   "cell_type": "markdown",
   "metadata": {},
   "source": [
    "#### SCRIPT.PY:"
   ]
  },
  {
   "cell_type": "code",
   "execution_count": 3,
   "metadata": {},
   "outputs": [
    {
     "name": "stdout",
     "output_type": "stream",
     "text": [
      "[False  True False  True]\n",
      "[False False False  True]\n"
     ]
    }
   ],
   "source": [
    "# Create arrays\n",
    "import numpy as np\n",
    "my_house = np.array([18.0, 20.0, 10.75, 9.50])\n",
    "your_house = np.array([14.0, 24.0, 14.25, 9.0])\n",
    "\n",
    "# my_house greater than 18.5 or smaller than 10\n",
    "print(np.logical_or(my_house > 18.5, my_house < 10))\n",
    "\n",
    "# Both my_house and your_house smaller than 11\n",
    "print(np.logical_and(my_house < 11, your_house < 11))"
   ]
  }
 ],
 "metadata": {
  "kernelspec": {
   "display_name": "Python 3",
   "language": "python",
   "name": "python3"
  },
  "language_info": {
   "codemirror_mode": {
    "name": "ipython",
    "version": 3
   },
   "file_extension": ".py",
   "mimetype": "text/x-python",
   "name": "python",
   "nbconvert_exporter": "python",
   "pygments_lexer": "ipython3",
   "version": "3.6.6"
  }
 },
 "nbformat": 4,
 "nbformat_minor": 2
}
