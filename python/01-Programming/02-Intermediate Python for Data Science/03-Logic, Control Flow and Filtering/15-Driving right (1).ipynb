{
 "cells": [
  {
   "cell_type": "markdown",
   "metadata": {},
   "source": [
    "# Driving right (1)"
   ]
  },
  {
   "cell_type": "markdown",
   "metadata": {},
   "source": [
    "#### EXERCISE:\n",
    "Remember that <code>cars</code> dataset, containing the cars per 1000 people (<code>cars_per_cap</code>) and whether people drive right (<code>drives_right</code>) for different countries (<code>country</code>)? The code that imports this data in CSV format into Python as a DataFrame is available on the right.\n",
    "\n",
    "In the video, you saw a step-by-step approach to filter observations from a DataFrame based on boolean arrays. Let's start simple and try to find all observations in <code>cars</code> where <code>drives_right</code> is <code>True</code>.\n",
    "\n",
    "<code>drives_right</code> is a boolean column, so you'll have to extract it as a Series and then use this boolean Series to select observations from <code>cars</code>."
   ]
  },
  {
   "cell_type": "markdown",
   "metadata": {},
   "source": [
    "#### INSTRUCTIONS:\n",
    "* Extract the <code>drives_right</code> column <em>as a Pandas Series</em> and store it as <code>dr</code>.\n",
    "* Use <code>dr</code>, a boolean Series, to subset the <code>cars</code> DataFrame. Store the resulting selection in <code>sel</code>.\n",
    "* Print <code>sel</code>, and assert that <code>drives_right</code> is <code>True</code> for all observations."
   ]
  },
  {
   "cell_type": "markdown",
   "metadata": {},
   "source": [
    "#### SCRIPT.PY:"
   ]
  },
  {
   "cell_type": "code",
   "execution_count": 4,
   "metadata": {},
   "outputs": [
    {
     "name": "stdout",
     "output_type": "stream",
     "text": [
      "     cars_per_cap        country  drives_right\n",
      "US            809  United States          True\n",
      "RU            200         Russia          True\n",
      "MOR            70        Morocco          True\n",
      "EG             45          Egypt          True\n"
     ]
    }
   ],
   "source": [
    "# Import cars data\n",
    "import pandas as pd\n",
    "cars = pd.read_csv('../02-Dictionaries & Pandas/cars.csv', index_col = 0)\n",
    "\n",
    "# Extract drives_right column as Series: dr\n",
    "dr = cars.loc[:, 'drives_right']\n",
    "\n",
    "# Use dr to subset cars: sel\n",
    "sel = cars[dr]\n",
    "\n",
    "# Print sel\n",
    "print(sel)"
   ]
  }
 ],
 "metadata": {
  "kernelspec": {
   "display_name": "Python 3",
   "language": "python",
   "name": "python3"
  },
  "language_info": {
   "codemirror_mode": {
    "name": "ipython",
    "version": 3
   },
   "file_extension": ".py",
   "mimetype": "text/x-python",
   "name": "python",
   "nbconvert_exporter": "python",
   "pygments_lexer": "ipython3",
   "version": "3.6.6"
  }
 },
 "nbformat": 4,
 "nbformat_minor": 2
}
