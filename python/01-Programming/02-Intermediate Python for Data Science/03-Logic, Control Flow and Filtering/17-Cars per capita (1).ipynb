{
 "cells": [
  {
   "cell_type": "markdown",
   "metadata": {},
   "source": [
    "# Cars per capita (1)"
   ]
  },
  {
   "cell_type": "markdown",
   "metadata": {},
   "source": [
    "#### EXERCISE:\n",
    "Let's stick to the <code>cars</code> data some more. This time you want to find out which countries have a high <em>cars per capita</em> figure. In other words, in which countries do many people have a car, or maybe multiple cars.\n",
    "\n",
    "Similar to the previous example, you'll want to build up a boolean Series, that you can then use to subset the <code>cars</code> DataFrame to select certain observations. If you want to do this in a one-liner, that's perfectly fine!"
   ]
  },
  {
   "cell_type": "markdown",
   "metadata": {},
   "source": [
    "#### INSTRUCTIONS:\n",
    "* Select the <code>cars_per_cap</code> column from <code>cars</code> as a Pandas Series and store it as <code>cpc</code>.\n",
    "* Use <code>cpc</code> in combination with a comparison operator and <code>500</code>. You want to end up with a boolean Series that's <code>True</code> if the corresponding country has a <code>cars_per_cap</code> of more than <code>500</code> and <code>False</code> otherwise. Store this boolean Series as <code>many_cars</code>.\n",
    "* Use <code>many_cars</code> to subset <code>cars</code>, similar to what you did before. Store the result as <code>car_maniac</code>.\n",
    "* Print out <code>car_maniac</code> to see if you got it right."
   ]
  },
  {
   "cell_type": "markdown",
   "metadata": {},
   "source": [
    "#### SCRIPT.PY:"
   ]
  },
  {
   "cell_type": "code",
   "execution_count": null,
   "metadata": {},
   "outputs": [],
   "source": [
    "# Import cars data\n",
    "import pandas as pd\n",
    "cars = pd.read_csv('cars.csv', index_col = 0)\n",
    "\n",
    "# Create car_maniac: observations that have a cars_per_cap over 500\n",
    "\n",
    "\n",
    "\n",
    "\n",
    "# Print car_maniac\n"
   ]
  }
 ],
 "metadata": {
  "kernelspec": {
   "display_name": "Python 3",
   "language": "python",
   "name": "python3"
  },
  "language_info": {
   "codemirror_mode": {
    "name": "ipython",
    "version": 3
   },
   "file_extension": ".py",
   "mimetype": "text/x-python",
   "name": "python",
   "nbconvert_exporter": "python",
   "pygments_lexer": "ipython3",
   "version": "3.6.6"
  }
 },
 "nbformat": 4,
 "nbformat_minor": 2
}
