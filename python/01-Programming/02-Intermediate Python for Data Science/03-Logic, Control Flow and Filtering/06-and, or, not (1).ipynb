{
 "cells": [
  {
   "cell_type": "markdown",
   "metadata": {},
   "source": [
    "# and, or, not (1)"
   ]
  },
  {
   "cell_type": "markdown",
   "metadata": {},
   "source": [
    "#### EXERCISE:\n",
    "A boolean is either <code>1</code> or <code>0</code>, <code>True</code> or <code>False</code>. With boolean operators such as <code>and</code>, <code>or</code> and <code>not</code>, you can combine these booleans to perform more advanced queries on your data.\n",
    "\n",
    "In the sample code on the right, two variables are defined: <code>my_kitchen</code> and <code>your_kitchen</code>, representing areas."
   ]
  },
  {
   "cell_type": "markdown",
   "metadata": {},
   "source": [
    "#### INSTRUCTIONS:\n",
    "* Write Python expressions, wrapped in a <code>print()</code> function, to check whether:\n",
    " * <code>my_kitchen</code> is bigger than 10 and smaller than 18.\n",
    " * <code>my_kitchen</code> is smaller than 14 or bigger than 17.\n",
    " * double the area of <code>my_kitchen</code> is smaller than triple the area of <code>your_kitchen</code>."
   ]
  },
  {
   "cell_type": "markdown",
   "metadata": {},
   "source": [
    "#### SCRIPT.PY:"
   ]
  },
  {
   "cell_type": "code",
   "execution_count": null,
   "metadata": {},
   "outputs": [],
   "source": [
    "# Define variables\n",
    "my_kitchen = 18.0\n",
    "your_kitchen = 14.0\n",
    "\n",
    "# my_kitchen bigger than 10 and smaller than 18?\n",
    "\n",
    "\n",
    "# my_kitchen smaller than 14 or bigger than 17?\n",
    "\n",
    "\n",
    "# Double my_kitchen smaller than triple your_kitchen?\n"
   ]
  }
 ],
 "metadata": {
  "kernelspec": {
   "display_name": "Python 3",
   "language": "python",
   "name": "python3"
  },
  "language_info": {
   "codemirror_mode": {
    "name": "ipython",
    "version": 3
   },
   "file_extension": ".py",
   "mimetype": "text/x-python",
   "name": "python",
   "nbconvert_exporter": "python",
   "pygments_lexer": "ipython3",
   "version": "3.6.6"
  }
 },
 "nbformat": 4,
 "nbformat_minor": 2
}
