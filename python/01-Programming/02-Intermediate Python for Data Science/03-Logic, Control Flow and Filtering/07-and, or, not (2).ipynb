{
 "cells": [
  {
   "cell_type": "markdown",
   "metadata": {},
   "source": [
    "# and, or, not (2)"
   ]
  },
  {
   "cell_type": "markdown",
   "metadata": {},
   "source": [
    "#### EXERCISE:\n",
    "To see if you completely understood the boolean operators, have a look at the following piece of Python code:\n",
    "\n",
    "<pre><code>x = 8\n",
    "y = 9\n",
    "not(not(x &lt; 3) and not(y &gt; 14 or y &gt; 10))\n",
    "</code></pre>\n",
    "\n",
    "What will the result be if you execute these three commands in the IPython Shell?\n",
    "\n",
    "<em>NB: Notice that <code>not</code> has a higher priority than <code>and</code> and <code>or</code>, it is executed first.</em>"
   ]
  },
  {
   "cell_type": "markdown",
   "metadata": {},
   "source": [
    "#### POSSIBLE ANSWERS:\n",
    "* True\n",
    "* False\n",
    "* Running these commands will result in an error."
   ]
  }
 ],
 "metadata": {
  "kernelspec": {
   "display_name": "Python 3",
   "language": "python",
   "name": "python3"
  },
  "language_info": {
   "codemirror_mode": {
    "name": "ipython",
    "version": 3
   },
   "file_extension": ".py",
   "mimetype": "text/x-python",
   "name": "python",
   "nbconvert_exporter": "python",
   "pygments_lexer": "ipython3",
   "version": "3.6.6"
  }
 },
 "nbformat": 4,
 "nbformat_minor": 2
}
