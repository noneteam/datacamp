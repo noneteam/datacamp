{
 "cells": [
  {
   "cell_type": "markdown",
   "metadata": {},
   "source": [
    "# Equality"
   ]
  },
  {
   "cell_type": "markdown",
   "metadata": {},
   "source": [
    "#### EXERCISE:\n",
    "To check if two Python values, or variables, are equal you can use <code>==</code>. To check for inequality, you need <code>!=</code>. As a refresher, have a look at the following examples that all result in <code>True</code>. Feel free to try them out in the IPython Shell.\n",
    "\n",
    "<pre><code>2 == (1 + 1)\n",
    "\"intermediate\" != \"python\"\n",
    "True != False\n",
    "\"Python\" != \"python\"\n",
    "</code></pre>\n",
    "\n",
    "When you write these comparisons in a script, you will need to wrap a <code>print()</code> function around them to see the output."
   ]
  },
  {
   "cell_type": "markdown",
   "metadata": {},
   "source": [
    "#### INSTRUCTIONS:\n",
    "* In the editor on the right, write code to see if <code>True</code> equals <code>False</code>.</li>\n",
    "* Write Python code to check if <code>-5 * 15</code> is <em>not</em> equal to <code>75</code>.\n",
    "* Ask Python whether the strings <code>\"pyscript\"</code> and <code>\"PyScript\"</code> are equal.\n",
    "* What happens if you compare booleans and integers? Write code to see if <code>True</code> and <code>1</code> are equal."
   ]
  },
  {
   "cell_type": "markdown",
   "metadata": {},
   "source": [
    "#### SCRIPT.PY:"
   ]
  },
  {
   "cell_type": "code",
   "execution_count": null,
   "metadata": {},
   "outputs": [],
   "source": [
    "# Comparison of booleans\n",
    "\n",
    "\n",
    "# Comparison of integers\n",
    "\n",
    "\n",
    "# Comparison of strings\n",
    "\n",
    "\n",
    "# Compare a boolean with an integer\n"
   ]
  }
 ],
 "metadata": {
  "kernelspec": {
   "display_name": "Python 3",
   "language": "python",
   "name": "python3"
  },
  "language_info": {
   "codemirror_mode": {
    "name": "ipython",
    "version": 3
   },
   "file_extension": ".py",
   "mimetype": "text/x-python",
   "name": "python",
   "nbconvert_exporter": "python",
   "pygments_lexer": "ipython3",
   "version": "3.6.6"
  }
 },
 "nbformat": 4,
 "nbformat_minor": 2
}
