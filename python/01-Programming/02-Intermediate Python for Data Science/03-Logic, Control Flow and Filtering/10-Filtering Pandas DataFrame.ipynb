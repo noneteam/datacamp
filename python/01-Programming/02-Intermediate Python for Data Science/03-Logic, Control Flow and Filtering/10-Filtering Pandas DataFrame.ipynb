{
 "cells": [
  {
   "cell_type": "markdown",
   "metadata": {},
   "source": [
    "# Filtering Pandas DataFrame"
   ]
  },
  {
   "cell_type": "markdown",
   "metadata": {},
   "source": [
    "#### EXERCISE:\n",
    "To experiment with <code>if</code> and <code>else</code> a bit, have a look at this code sample:\n",
    "\n",
    "<pre><code>area = 10.0\n",
    "if(area &lt; 9) :\n",
    "    print(\"small\")\n",
    "elif(area &lt; 12) :\n",
    "    print(\"medium\")\n",
    "else :\n",
    "    print(\"large\")\n",
    "</code></pre>\n",
    "\n",
    "What will the output be if you run this piece of code in the IPython Shell?"
   ]
  },
  {
   "cell_type": "markdown",
   "metadata": {},
   "source": [
    "#### POSSIBLE ANSWERS:\n",
    "* <code>small</code>\n",
    "* <code>medium</code>\n",
    "* <code>large</code>\n",
    "* The syntax is incorrect; this code will produce an error."
   ]
  }
 ],
 "metadata": {
  "kernelspec": {
   "display_name": "Python 3",
   "language": "python",
   "name": "python3"
  },
  "language_info": {
   "codemirror_mode": {
    "name": "ipython",
    "version": 3
   },
   "file_extension": ".py",
   "mimetype": "text/x-python",
   "name": "python",
   "nbconvert_exporter": "python",
   "pygments_lexer": "ipython3",
   "version": "3.6.6"
  }
 },
 "nbformat": 4,
 "nbformat_minor": 2
}
