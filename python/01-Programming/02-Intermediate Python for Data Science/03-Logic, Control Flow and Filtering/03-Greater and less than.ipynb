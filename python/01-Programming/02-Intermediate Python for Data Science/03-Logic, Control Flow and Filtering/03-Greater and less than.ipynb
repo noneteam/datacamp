{
 "cells": [
  {
   "cell_type": "markdown",
   "metadata": {},
   "source": [
    "# Greater and less than"
   ]
  },
  {
   "cell_type": "markdown",
   "metadata": {},
   "source": [
    "#### EXERCISE:\n",
    "In the video, Filip also talked about the less than and greater than signs, <code>&lt;</code> and <code>&gt;</code> in Python. You can combine them with an equals sign: <code>&lt;=</code> and <code>&gt;=</code>. Pay attention: <code>&lt;=</code> is valid syntax, but <code>=&lt;</code> is not.\n",
    "\n",
    "All Python expressions in the following code chunk evaluate to <code>True</code>:\n",
    "\n",
    "<pre><code>3 &lt; 4\n",
    "3 &lt;= 4\n",
    "\"alpha\" &lt;= \"beta\"\n",
    "</code></pre>\n",
    "\n",
    "Remember that for string comparison, Python determines the relationship based on alphabetical order."
   ]
  },
  {
   "cell_type": "markdown",
   "metadata": {},
   "source": [
    "#### INSTRUCTIONS:\n",
    "* Write Python expressions, wrapped in a <code>print()</code> function, to check whether:\n",
    " * <code>x</code> is greater than or equal to <code>-10</code>. <code>x</code> has already been defined for you.\n",
    " * <code>\"test\"</code> is less than or equal to <code>y</code>. <code>y</code> has already been defined for you.\n",
    " * <code>True</code> is greater than <code>False</code>."
   ]
  },
  {
   "cell_type": "markdown",
   "metadata": {},
   "source": [
    "#### SCRIPT.PY:"
   ]
  },
  {
   "cell_type": "code",
   "execution_count": 1,
   "metadata": {},
   "outputs": [
    {
     "name": "stdout",
     "output_type": "stream",
     "text": [
      "False\n",
      "True\n",
      "True\n"
     ]
    }
   ],
   "source": [
    "# Comparison of integers\n",
    "x = -3 * 6\n",
    "print(x >= -10)\n",
    "\n",
    "# Comparison of strings\n",
    "y = \"test\"\n",
    "print(\"test\" <= y)\n",
    "\n",
    "# Comparison of booleans\n",
    "print(True > False)"
   ]
  }
 ],
 "metadata": {
  "kernelspec": {
   "display_name": "Python 3",
   "language": "python",
   "name": "python3"
  },
  "language_info": {
   "codemirror_mode": {
    "name": "ipython",
    "version": 3
   },
   "file_extension": ".py",
   "mimetype": "text/x-python",
   "name": "python",
   "nbconvert_exporter": "python",
   "pygments_lexer": "ipython3",
   "version": "3.6.6"
  }
 },
 "nbformat": 4,
 "nbformat_minor": 2
}
