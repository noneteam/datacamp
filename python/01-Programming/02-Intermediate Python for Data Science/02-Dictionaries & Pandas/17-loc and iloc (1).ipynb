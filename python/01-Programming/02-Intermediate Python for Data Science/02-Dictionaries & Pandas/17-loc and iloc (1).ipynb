{
 "cells": [
  {
   "cell_type": "markdown",
   "metadata": {},
   "source": [
    "# loc and iloc (1)"
   ]
  },
  {
   "cell_type": "markdown",
   "metadata": {},
   "source": [
    "#### EXERCISE:\n",
    "With <code>loc</code> and <code>iloc</code> you can do practically any data selection operation on DataFrames you can think of. <code>loc</code> is label-based, which means that you have to specify rows and columns based on their row and column labels. <code>iloc</code> is integer index based, so you have to specify rows and columns by their integer index like you did in the previous exercise.</p>\n",
    "\n",
    "Try out the following commands in the IPython Shell to experiment with <code>loc</code> and <code>iloc</code> to select observations. Each pair of commands here gives the same result.\n",
    "\n",
    "<pre><code>cars.loc['RU']\n",
    "cars.iloc[4]\n",
    "\n",
    "cars.loc[['RU']]\n",
    "cars.iloc[[4]]\n",
    "\n",
    "cars.loc[['RU', 'AUS']]\n",
    "cars.iloc[[4, 1]]\n",
    "</code></pre>\n",
    "\n",
    "As before, code is included that imports the cars data as a Pandas DataFrame."
   ]
  },
  {
   "cell_type": "markdown",
   "metadata": {},
   "source": [
    "#### INSTRUCTIONS:\n",
    "* Use <code>loc</code> or <code>iloc</code> to select the observation corresponding to Japan as a Series. The label of this row is <code>JAP</code>, the index is <code>2</code>. Make sure to print the resulting Series.\n",
    "* Use <code>loc</code> or <code>iloc</code> to select the observations for Australia and Egypt as a DataFrame. You can find out about the labels/indexes of these rows by inspecting <code>cars</code> in the IPython Shell. Make sure to print the resulting DataFrame."
   ]
  },
  {
   "cell_type": "markdown",
   "metadata": {},
   "source": [
    "#### SCRIPT.PY:"
   ]
  },
  {
   "cell_type": "code",
   "execution_count": null,
   "metadata": {},
   "outputs": [],
   "source": [
    "# Import cars data\n",
    "import pandas as pd\n",
    "cars = pd.read_csv('cars.csv', index_col = 0)\n",
    "\n",
    "# Print out observation for Japan\n",
    "\n",
    "\n",
    "# Print out observations for Australia and Egypt\n"
   ]
  }
 ],
 "metadata": {
  "kernelspec": {
   "display_name": "Python 3",
   "language": "python",
   "name": "python3"
  },
  "language_info": {
   "codemirror_mode": {
    "name": "ipython",
    "version": 3
   },
   "file_extension": ".py",
   "mimetype": "text/x-python",
   "name": "python",
   "nbconvert_exporter": "python",
   "pygments_lexer": "ipython3",
   "version": "3.6.6"
  }
 },
 "nbformat": 4,
 "nbformat_minor": 2
}
