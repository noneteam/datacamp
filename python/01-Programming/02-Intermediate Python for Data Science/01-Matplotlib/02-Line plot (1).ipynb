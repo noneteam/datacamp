{
 "cells": [
  {
   "cell_type": "markdown",
   "metadata": {},
   "source": [
    "# Line plot (1)"
   ]
  },
  {
   "cell_type": "markdown",
   "metadata": {},
   "source": [
    "#### EXERCISE:\n",
    "With matplotlib, you can create a bunch of different plots in Python. The most basic plot is the line plot. A general recipe is given here.\n",
    "\n",
    "<pre><code>import matplotlib.pyplot as plt\n",
    "plt.plot(x,y)\n",
    "plt.show()\n",
    "</code></pre>\n",
    "\n",
    "In the video, you already saw how much the world population has grown over the past years. Will it continue to do so? The world bank has estimates of the world population for the years 1950 up to 2100. The years are loaded in your workspace as a list called <code>year</code>, and the corresponding populations as a list called <code>pop</code>."
   ]
  },
  {
   "cell_type": "markdown",
   "metadata": {},
   "source": [
    "#### INSTRUCTIONS:\n",
    "* <code>print()</code> the last item from both the <code>year</code> and the <code>pop</code> list to see what the predicted population for the year 2100 is. Use two <code>print()</code> functions.</li>\n",
    "* Before you can start, you should import <code>matplotlib.pyplot</code> as <code>plt</code>. <code>pyplot</code> is a sub-package of <code>matplotlib</code>, hence the dot.</li>\n",
    "* Use <code>plt.plot()</code> to build a line plot. <code>year</code> should be mapped on the horizontal axis, <code>pop</code> on the vertical axis. Don't forget to finish off with the <code>show()</code> function to actually display the plot."
   ]
  },
  {
   "cell_type": "markdown",
   "metadata": {},
   "source": [
    "#### SCRIPT.PY:"
   ]
  },
  {
   "cell_type": "code",
   "execution_count": null,
   "metadata": {},
   "outputs": [],
   "source": [
    "# Print the last item from year and pop\n",
    "\n",
    "\n",
    "\n",
    "# Import matplotlib.pyplot as plt\n",
    "\n",
    "\n",
    "# Make a line plot: year on the x-axis, pop on the y-axis\n",
    "\n",
    "\n",
    "# Display the plot with plt.show()\n"
   ]
  }
 ],
 "metadata": {
  "kernelspec": {
   "display_name": "Python 3",
   "language": "python",
   "name": "python3"
  },
  "language_info": {
   "codemirror_mode": {
    "name": "ipython",
    "version": 3
   },
   "file_extension": ".py",
   "mimetype": "text/x-python",
   "name": "python",
   "nbconvert_exporter": "python",
   "pygments_lexer": "ipython3",
   "version": "3.6.6"
  }
 },
 "nbformat": 4,
 "nbformat_minor": 2
}
