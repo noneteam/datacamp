{
 "cells": [
  {
   "cell_type": "markdown",
   "metadata": {},
   "source": [
    "# Ticks"
   ]
  },
  {
   "cell_type": "markdown",
   "metadata": {},
   "source": [
    "#### EXERCISE:\n",
    "The customizations you've coded up to now are available in the script, in a more concise form.\n",
    "\n",
    "In the video, Filip has demonstrated how you could control the y-ticks by specifying two arguments:\n",
    "\n",
    "<pre><code>plt.yticks([0,1,2], [\"one\",\"two\",\"three\"])\n",
    "</code></pre>\n",
    "\n",
    "In this example, the ticks corresponding to the numbers 0, 1 and 2 will be replaced by <em>one</em>, <em>two</em> and <em>three</em>, respectively.\n",
    "\n",
    "Let's do a similar thing for the x-axis of your world development chart, with the <code>xticks()</code> function. The tick values <code>1000</code>, <code>10000</code> and <code>100000</code> should be replaced by <code>1k</code>, <code>10k</code> and <code>100k</code>. To this end, two lists have already been created for you: <code>tick_val</code> and <code>tick_lab</code>."
   ]
  },
  {
   "cell_type": "markdown",
   "metadata": {},
   "source": [
    "#### INSTRUCTIONS:\n",
    "* Use <code>tick_val</code> and <code>tick_lab</code> as inputs to the <code>xticks()</code> function to make the the plot more readable.\n",
    "* As usual, display the plot with <code>plt.show()</code> after you've added the customizations."
   ]
  },
  {
   "cell_type": "markdown",
   "metadata": {},
   "source": [
    "#### SCRIPT.PY:"
   ]
  },
  {
   "cell_type": "code",
   "execution_count": null,
   "metadata": {},
   "outputs": [],
   "source": [
    "# Scatter plot\n",
    "plt.scatter(gdp_cap, life_exp)\n",
    "\n",
    "# Previous customizations\n",
    "plt.xscale('log') \n",
    "plt.xlabel('GDP per Capita [in USD]')\n",
    "plt.ylabel('Life Expectancy [in years]')\n",
    "plt.title('World Development in 2007')\n",
    "\n",
    "# Definition of tick_val and tick_lab\n",
    "tick_val = [1000, 10000, 100000]\n",
    "tick_lab = ['1k', '10k', '100k']\n",
    "\n",
    "# Adapt the ticks on the x-axis\n",
    "\n",
    "\n",
    "# After customizing, display the plot\n"
   ]
  }
 ],
 "metadata": {
  "kernelspec": {
   "display_name": "Python 3",
   "language": "python",
   "name": "python3"
  },
  "language_info": {
   "codemirror_mode": {
    "name": "ipython",
    "version": 3
   },
   "file_extension": ".py",
   "mimetype": "text/x-python",
   "name": "python",
   "nbconvert_exporter": "python",
   "pygments_lexer": "ipython3",
   "version": "3.6.6"
  }
 },
 "nbformat": 4,
 "nbformat_minor": 2
}
