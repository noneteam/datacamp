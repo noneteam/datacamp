{
 "cells": [
  {
   "cell_type": "markdown",
   "metadata": {},
   "source": [
    "# Build a histogram (1)"
   ]
  },
  {
   "cell_type": "markdown",
   "metadata": {},
   "source": [
    "#### EXERCISE:\n",
    "<code>life_exp</code>, the list containing data on the life expectancy for different countries in 2007, is available in your Python shell.\n",
    "To see how life expectancy in different countries is distributed, let's create a histogram of <code>life_exp</code>.\n",
    "\n",
    "<code>matplotlib.pyplot</code> is already available as <code>plt</code>."
   ]
  },
  {
   "cell_type": "markdown",
   "metadata": {},
   "source": [
    "#### INSTRUCTIONS:\n",
    "* Use <code>plt.hist()</code> to create a histogram of the values in <code>life_exp</code>. Do not specify the number of bins; Python will set the number of bins to 10 by default for you.\n",
    "* Add <code>plt.show()</code> to actually display the histogram. Can you tell which bin contains the most observations?"
   ]
  },
  {
   "cell_type": "markdown",
   "metadata": {},
   "source": [
    "#### SCRIPT.PY:"
   ]
  },
  {
   "cell_type": "code",
   "execution_count": null,
   "metadata": {},
   "outputs": [],
   "source": [
    "# Create histogram of life_exp data\n",
    "\n",
    "\n",
    "# Display histogram\n"
   ]
  }
 ],
 "metadata": {
  "kernelspec": {
   "display_name": "Python 3",
   "language": "python",
   "name": "python3"
  },
  "language_info": {
   "codemirror_mode": {
    "name": "ipython",
    "version": 3
   },
   "file_extension": ".py",
   "mimetype": "text/x-python",
   "name": "python",
   "nbconvert_exporter": "python",
   "pygments_lexer": "ipython3",
   "version": "3.6.7"
  }
 },
 "nbformat": 4,
 "nbformat_minor": 2
}
