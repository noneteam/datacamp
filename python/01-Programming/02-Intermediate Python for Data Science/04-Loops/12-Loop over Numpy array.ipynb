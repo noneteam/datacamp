{
 "cells": [
  {
   "cell_type": "markdown",
   "metadata": {},
   "source": [
    "# Loop over Numpy array"
   ]
  },
  {
   "cell_type": "markdown",
   "metadata": {},
   "source": [
    "#### EXERCISE:\n",
    "If you're dealing with a 1D Numpy array, looping over all elements can be as simple as:\n",
    "\n",
    "<pre><code>for x in my_array :\n",
    "    ...\n",
    "</code></pre>\n",
    "\n",
    "If you're dealing with a 2D Numpy array, it's more complicated. A 2D array is built up of multiple 1D arrays. To explicitly iterate over all separate elements of a multi-dimensional array, you'll need this syntax:\n",
    "\n",
    "<pre><code>for x in np.nditer(my_array) :\n",
    "    ...\n",
    "</code></pre>\n",
    "\n",
    "Two Numpy arrays that you might recognize from the intro course are available in your Python session: <code>np_height</code>, a Numpy array containing the heights of Major League Baseball players, and <code>np_baseball</code>, a 2D Numpy array that contains both the heights (first column) and weights (second column) of those players."
   ]
  },
  {
   "cell_type": "markdown",
   "metadata": {},
   "source": [
    "#### INSTRUCTIONS:\n",
    "* Import the <code>numpy</code> package under the local alias <code>np</code>.\n",
    "* Write a <code>for</code> loop that iterates over all elements in <code>np_height</code> and prints out <code>\"x inches\"</code> for each element, where x is the value in the array.\n",
    "* Write a <code>for</code> loop that visits every element of the <code>np_baseball</code> array and prints it out."
   ]
  },
  {
   "cell_type": "markdown",
   "metadata": {},
   "source": [
    "#### SCRIPT.PY:"
   ]
  },
  {
   "cell_type": "code",
   "execution_count": null,
   "metadata": {},
   "outputs": [],
   "source": [
    "# Import numpy as np\n",
    "\n",
    "\n",
    "# For loop over np_height\n",
    "\n",
    "\n",
    "# For loop over np_baseball"
   ]
  }
 ],
 "metadata": {
  "kernelspec": {
   "display_name": "Python 3",
   "language": "python",
   "name": "python3"
  },
  "language_info": {
   "codemirror_mode": {
    "name": "ipython",
    "version": 3
   },
   "file_extension": ".py",
   "mimetype": "text/x-python",
   "name": "python",
   "nbconvert_exporter": "python",
   "pygments_lexer": "ipython3",
   "version": "3.6.6"
  }
 },
 "nbformat": 4,
 "nbformat_minor": 2
}
