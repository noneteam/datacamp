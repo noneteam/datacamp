{
 "cells": [
  {
   "cell_type": "markdown",
   "metadata": {},
   "source": [
    "# while: warming up"
   ]
  },
  {
   "cell_type": "markdown",
   "metadata": {},
   "source": [
    "#### EXERCISE:\n",
    "The while loop is like a repeated if statement. The code is executed over and over again, as long as the condition is <code>True</code>. Have another look at its recipe.\n",
    "\n",
    "<pre><code>while condition :\n",
    "    expression\n",
    "</code></pre>\n",
    "\n",
    "Can you tell how many printouts the following <code>while</code> loop will do?</p>\n",
    "<pre><code>x = 1\n",
    "while x &lt; 4 :\n",
    "    print(x)\n",
    "    x = x + 1\n",
    "</code></pre>"
   ]
  },
  {
   "cell_type": "markdown",
   "metadata": {},
   "source": [
    "#### POSSIBLE ANSWERS:\n",
    "* 0\n",
    "* 1\n",
    "* 2\n",
    "* 3\n",
    "* 4"
   ]
  }
 ],
 "metadata": {
  "kernelspec": {
   "display_name": "Python 3",
   "language": "python",
   "name": "python3"
  },
  "language_info": {
   "codemirror_mode": {
    "name": "ipython",
    "version": 3
   },
   "file_extension": ".py",
   "mimetype": "text/x-python",
   "name": "python",
   "nbconvert_exporter": "python",
   "pygments_lexer": "ipython3",
   "version": "3.6.6"
  }
 },
 "nbformat": 4,
 "nbformat_minor": 2
}
