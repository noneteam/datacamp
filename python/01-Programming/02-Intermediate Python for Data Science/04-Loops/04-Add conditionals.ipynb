{
 "cells": [
  {
   "cell_type": "markdown",
   "metadata": {},
   "source": [
    "# Add conditionals"
   ]
  },
  {
   "cell_type": "markdown",
   "metadata": {},
   "source": [
    "#### EXERCISE:\n",
    "The <code>while</code> loop that corrects the <code>offset</code> is a good start, but what if <code>offset</code> is negative? You can try to run the sample code on the right where <code>offset</code> is initialized to <code>-6</code>, but your sessions will be disconnected. The <code>while</code> loop will never stop running, because <code>offset</code> will be further decreased on every run. <code>offset != 0</code> will never become <code>False</code> and the <code>while</code> loop continues forever.\n",
    "\n",
    "Fix things by putting an <code>if</code>-<code>else</code> statement inside the <code>while</code> loop."
   ]
  },
  {
   "cell_type": "markdown",
   "metadata": {},
   "source": [
    "#### INSTRUCTIONS:\n",
    "* Inside the <code>while</code> loop, replace <code>offset = offset - 1</code> by an <code>if</code>-<code>else</code> statement:\n",
    " * If <code>offset</code> is greater than zero, you should decrease <code>offset</code> by 1.\n",
    " * Else, you should increase <code>offset</code> by 1.\n",
    "* If you've coded things correctly, hitting <em>Submit Answer</em> should work this time."
   ]
  },
  {
   "cell_type": "markdown",
   "metadata": {},
   "source": [
    "#### SCRIPT.PY:"
   ]
  },
  {
   "cell_type": "code",
   "execution_count": 1,
   "metadata": {},
   "outputs": [
    {
     "name": "stdout",
     "output_type": "stream",
     "text": [
      "correcting...\n",
      "-5\n",
      "correcting...\n",
      "-4\n",
      "correcting...\n",
      "-3\n",
      "correcting...\n",
      "-2\n",
      "correcting...\n",
      "-1\n",
      "correcting...\n",
      "0\n"
     ]
    }
   ],
   "source": [
    "# Initialize offset\n",
    "offset = -6\n",
    "\n",
    "# Code the while loop\n",
    "while offset != 0 :\n",
    "    print(\"correcting...\")\n",
    "    if (offset > 0):\n",
    "        offset = offset - 1\n",
    "    else:\n",
    "        offset = offset + 1\n",
    "    print(offset)"
   ]
  }
 ],
 "metadata": {
  "kernelspec": {
   "display_name": "Python 3",
   "language": "python",
   "name": "python3"
  },
  "language_info": {
   "codemirror_mode": {
    "name": "ipython",
    "version": 3
   },
   "file_extension": ".py",
   "mimetype": "text/x-python",
   "name": "python",
   "nbconvert_exporter": "python",
   "pygments_lexer": "ipython3",
   "version": "3.6.6"
  }
 },
 "nbformat": 4,
 "nbformat_minor": 2
}
