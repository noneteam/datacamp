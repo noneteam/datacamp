{
 "cells": [
  {
   "cell_type": "markdown",
   "metadata": {},
   "source": [
    "# Basic while loop"
   ]
  },
  {
   "cell_type": "markdown",
   "metadata": {},
   "source": [
    "#### EXERCISE:\n",
    "Below you can find the example from the video where the <code>error</code> variable, initially equal to <code>50.0</code>, is divided by 4 and printed out on every run:\n",
    "\n",
    "<pre><code>error = 50.0\n",
    "while error &gt; 1 :\n",
    "    error = error / 4\n",
    "    print(error)\n",
    "</code></pre>\n",
    "\n",
    "This example will come in handy, because it's time to build a <code>while</code> loop yourself! We're going to code a <code>while</code> loop that implements a very basic control system for an inverted pendulum. If there's an offset from standing perfectly straight, the <code>while</code> loop will incrementally fix this offset."
   ]
  },
  {
   "cell_type": "markdown",
   "metadata": {},
   "source": [
    "#### INSTRUCTIONS:\n",
    "* Create the variable <code>offset</code> with an initial value of <code>8</code>.\n",
    "* Code a <code>while</code> loop that keeps running as long as <code>offset</code> is not equal to <code>0</code>. Inside the <code>while</code> loop:\n",
    "* Print out the sentence \"correcting...\".\n",
    "* Next, decrease the value of <code>offset</code> by 1. You can do this with <code>offset = offset - 1</code>.\n",
    "* Finally, print out <code>offset</code> so you can see how it changes."
   ]
  },
  {
   "cell_type": "markdown",
   "metadata": {},
   "source": [
    "#### SCRIPT.PY:"
   ]
  },
  {
   "cell_type": "code",
   "execution_count": null,
   "metadata": {},
   "outputs": [],
   "source": [
    "# Initialize offset\n",
    "\n",
    "\n",
    "# Code the while loop\n"
   ]
  }
 ],
 "metadata": {
  "kernelspec": {
   "display_name": "Python 3",
   "language": "python",
   "name": "python3"
  },
  "language_info": {
   "codemirror_mode": {
    "name": "ipython",
    "version": 3
   },
   "file_extension": ".py",
   "mimetype": "text/x-python",
   "name": "python",
   "nbconvert_exporter": "python",
   "pygments_lexer": "ipython3",
   "version": "3.6.6"
  }
 },
 "nbformat": 4,
 "nbformat_minor": 2
}
