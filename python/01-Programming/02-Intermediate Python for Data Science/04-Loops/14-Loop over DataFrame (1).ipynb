{
 "cells": [
  {
   "cell_type": "markdown",
   "metadata": {},
   "source": [
    "# Loop over DataFrame (1)"
   ]
  },
  {
   "cell_type": "markdown",
   "metadata": {},
   "source": [
    "#### EXERCISE:\n",
    "Iterating over a Pandas DataFrame is typically done with the <code>iterrows()</code> method. Used in a <code>for</code> loop, every observation is iterated over and on every iteration the row label and actual row contents are available:\n",
    "\n",
    "<pre><code>for lab, row in brics.iterrows() :\n",
    "    ...\n",
    "</code></pre>\n",
    "\n",
    "In this and the following exercises you will be working on the <code>cars</code> DataFrame. It contains information on the cars per capita and whether people drive right or left for seven countries in the world."
   ]
  },
  {
   "cell_type": "markdown",
   "metadata": {},
   "source": [
    "#### INSTRUCTIONS:\n",
    "Write a <code>for</code> loop that iterates over the rows of <code>cars</code> and on each iteration perform two <code>print()</code> calls: one to print out the row label and one to print out all of the rows contents."
   ]
  },
  {
   "cell_type": "markdown",
   "metadata": {},
   "source": [
    "#### SCRIPT.PY:"
   ]
  },
  {
   "cell_type": "code",
   "execution_count": null,
   "metadata": {},
   "outputs": [],
   "source": [
    "# Import cars data\n",
    "import pandas as pd\n",
    "cars = pd.read_csv('cars.csv', index_col = 0)\n",
    "\n",
    "# Iterate over rows of cars\n"
   ]
  }
 ],
 "metadata": {
  "kernelspec": {
   "display_name": "Python 3",
   "language": "python",
   "name": "python3"
  },
  "language_info": {
   "codemirror_mode": {
    "name": "ipython",
    "version": 3
   },
   "file_extension": ".py",
   "mimetype": "text/x-python",
   "name": "python",
   "nbconvert_exporter": "python",
   "pygments_lexer": "ipython3",
   "version": "3.6.6"
  }
 },
 "nbformat": 4,
 "nbformat_minor": 2
}
