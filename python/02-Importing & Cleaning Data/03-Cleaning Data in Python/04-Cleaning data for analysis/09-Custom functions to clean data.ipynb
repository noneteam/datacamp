{
 "cells": [
  {
   "cell_type": "markdown",
   "metadata": {},
   "source": [
    "# Custom functions to clean data"
   ]
  },
  {
   "cell_type": "markdown",
   "metadata": {},
   "source": [
    "#### EXERCISE:\n",
    "You'll now practice writing functions to clean data.\n",
    "\n",
    "The tips dataset has been pre-loaded into a DataFrame called <code>tips</code>. It has a <code>'sex'</code> column that contains the values <code>'Male'</code> or <code>'Female'</code>. Your job is to write a function that will recode <code>'Female'</code> to <code>0</code>, <code>'Male'</code> to <code>1</code>, and return <code>np.nan</code> for all entries of <code>'sex'</code> that are neither <code>'Female'</code> nor <code>'Male'</code>.\n",
    "\n",
    "Recoding variables like this is a common data cleaning task. Functions provide a mechanism for you to abstract away complex bits of code as well as reuse code. This makes your code more readable and less error prone.\n",
    "\n",
    "As Dan showed you in the videos, you can use the <code>.apply()</code> method to <em>apply</em> a function across entire rows or columns of DataFrames. However, note that each column of a DataFrame is a pandas Series. Functions can also be applied across Series. Here, you will apply your function over the <code>'sex'</code> column."
   ]
  },
  {
   "cell_type": "markdown",
   "metadata": {},
   "source": [
    "#### INSTRUCTIONS:\n",
    "* Define a function named <code>recode_gender()</code> that has one parameter: <code>gender</code>.\n",
    " * If <code>gender</code> equals <code>'Male'</code>, return <code>1</code>.\n",
    " * Else, if <code>gender</code> equals <code>'Female'</code>, return <code>0</code>.\n",
    " * If <code>gender</code> does not equal <code>'Male'</code> or <code>'Female'</code>, return <code>np.nan</code>. NumPy has been pre-imported for you.\n",
    "* Apply your <code>recode_gender()</code> function over <code>tips.sex</code> using the <code>.apply()</code> method to create a new column: <code>'recode'</code>. Note that when passing in a function inside the <code>.apply()</code> method, you don't need to specify the parentheses after the function name.\n",
    "* Hit 'Submit Answer' and take note of the new <code>'gender_recode'</code> column in the <code>tips</code> DataFrame!"
   ]
  },
  {
   "cell_type": "markdown",
   "metadata": {},
   "source": [
    "#### SCRIPT.PY:"
   ]
  },
  {
   "cell_type": "code",
   "execution_count": 2,
   "metadata": {},
   "outputs": [
    {
     "name": "stdout",
     "output_type": "stream",
     "text": [
      "   total_bill   tip     sex smoker  day    time  size  recode\n",
      "0       16.99  1.01  Female     No  Sun  Dinner     2       0\n",
      "1       10.34  1.66    Male     No  Sun  Dinner     3       1\n",
      "2       21.01  3.50    Male     No  Sun  Dinner     3       1\n",
      "3       23.68  3.31    Male     No  Sun  Dinner     2       1\n",
      "4       24.59  3.61  Female     No  Sun  Dinner     4       0\n"
     ]
    }
   ],
   "source": [
    "import numpy as np\n",
    "import pandas as pd\n",
    "tips = pd.read_csv(\"tips.csv\")\n",
    "# Define recode_gender()\n",
    "def recode_gender(gender):\n",
    "\n",
    "    # Return 0 if gender is 'Female'\n",
    "    if gender == 'Female':\n",
    "        return 0\n",
    "    \n",
    "    # Return 1 if gender is 'Male'    \n",
    "    elif gender == 'Male':\n",
    "        return 1\n",
    "    \n",
    "    # Return np.nan    \n",
    "    else:\n",
    "        return np.nan\n",
    "\n",
    "# Apply the function to the sex column\n",
    "tips['recode'] = tips['sex'].apply(recode_gender)\n",
    "\n",
    "# Print the first five rows of tips\n",
    "print(tips.head())\n"
   ]
  }
 ],
 "metadata": {
  "kernelspec": {
   "display_name": "Python 3",
   "language": "python",
   "name": "python3"
  },
  "language_info": {
   "codemirror_mode": {
    "name": "ipython",
    "version": 3
   },
   "file_extension": ".py",
   "mimetype": "text/x-python",
   "name": "python",
   "nbconvert_exporter": "python",
   "pygments_lexer": "ipython3",
   "version": "3.6.7"
  }
 },
 "nbformat": 4,
 "nbformat_minor": 2
}
