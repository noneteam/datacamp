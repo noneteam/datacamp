{
 "cells": [
  {
   "cell_type": "markdown",
   "metadata": {},
   "source": [
    "# Converting data types"
   ]
  },
  {
   "cell_type": "markdown",
   "metadata": {},
   "source": [
    "#### EXERCISE:\n",
    "In this exercise, you'll see how ensuring all categorical variables in a DataFrame are of type <code>category</code> reduces memory usage.\n",
    "\n",
    "The <a href=\"https://github.com/mwaskom/seaborn-data/blob/master/tips.csv\" target=\"_blank\">tips dataset</a> has been loaded into a DataFrame called <code>tips</code>. This data contains information about how much a customer tipped, whether the customer was male or female, a smoker or not, etc.\n",
    "\n",
    "Look at the output of <code>tips.info()</code> in the IPython Shell. You'll note that two columns that should be categorical - <code>sex</code> and <code>smoker</code> - are instead of type <code>object</code>, which is pandas' way of storing arbitrary strings. Your job is to convert these two columns to type <code>category</code> and note the reduced memory usage."
   ]
  },
  {
   "cell_type": "markdown",
   "metadata": {},
   "source": [
    "#### INSTRUCTIONS:\n",
    "* Convert the <code>sex</code> column of the <code>tips</code> DataFrame to type <code>'category'</code> using the <code>.astype()</code> method.\n",
    "* Convert the <code>smoker</code> column of the <code>tips</code> DataFrame.\n",
    "* Print the memory usage of <code>tips</code> after converting the data types of the columns. Use the <code>.info()</code> method to do this."
   ]
  },
  {
   "cell_type": "markdown",
   "metadata": {},
   "source": [
    "#### SCRIPT.PY:"
   ]
  },
  {
   "cell_type": "code",
   "execution_count": null,
   "metadata": {},
   "outputs": [],
   "source": [
    "# Convert the sex column to type 'category'\n",
    "tips.sex = tips.sex.____(____)\n",
    "\n",
    "# Convert the smoker column to type 'category'\n",
    "tips.smoker = ____\n",
    "\n",
    "# Print the info of tips\n",
    "print(____)\n"
   ]
  }
 ],
 "metadata": {
  "kernelspec": {
   "display_name": "Python 3",
   "language": "python",
   "name": "python3"
  },
  "language_info": {
   "codemirror_mode": {
    "name": "ipython",
    "version": 3
   },
   "file_extension": ".py",
   "mimetype": "text/x-python",
   "name": "python",
   "nbconvert_exporter": "python",
   "pygments_lexer": "ipython3",
   "version": "3.6.7"
  }
 },
 "nbformat": 4,
 "nbformat_minor": 2
}
