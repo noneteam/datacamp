{
 "cells": [
  {
   "cell_type": "markdown",
   "metadata": {},
   "source": [
    "# Testing your data with asserts"
   ]
  },
  {
   "cell_type": "markdown",
   "metadata": {},
   "source": [
    "#### EXERCISE:\n",
    "Here, you'll practice writing assert statements using the Ebola dataset from previous chapters to programmatically check for missing values and to confirm that all values are positive. The dataset has been pre-loaded into a DataFrame called <code>ebola</code>.\n",
    "\n",
    "In the video, you saw Dan use the <code>.all()</code> method together with the <code>.notnull()</code> DataFrame method to check for missing values in a column. The <code>.all()</code> method returns <code>True</code> if all values are <code>True</code>. When used on a DataFrame, it returns a Series of Booleans - one for each column in the DataFrame. So if you are using it on a DataFrame, like in this exercise, you need to chain another <code>.all()</code> method so that you return only one <code>True</code> or <code>False</code> value. When using these within an assert statement, nothing will be returned if the assert statement is true: This is how you can confirm that the data you are checking are valid.\n",
    "\n",
    "Note: You can use <code>pd.notnull(df)</code> as an alternative to <code>df.notnull()</code>."
   ]
  },
  {
   "cell_type": "markdown",
   "metadata": {},
   "source": [
    "#### INSTRUCTIONS:\n",
    "* Write an assert statement to confirm that there are no missing values in <code>ebola</code>.\n",
    " * Use the <code>pd.notnull()</code> function on <code>ebola</code> (or the <code>.notnull()</code> method of <code>ebola</code>) and chain two <code>.all()</code> methods (that is, <code>.all().all()</code>). The first <code>.all()</code> method will return a <code>True</code> or <code>False</code> for each column, while the second <code>.all()</code> method will return a single <code>True</code> or <code>False</code>.\n",
    "* Write an assert statement to confirm that all values in <code>ebola</code> are greater than or equal to <code>0</code>.\n",
    " * Chain two <code>all()</code> methods to the Boolean condition (<code>ebola &gt;= 0)</code>."
   ]
  },
  {
   "cell_type": "markdown",
   "metadata": {},
   "source": [
    "#### SCRIPT.PY:"
   ]
  },
  {
   "cell_type": "code",
   "execution_count": null,
   "metadata": {},
   "outputs": [],
   "source": [
    "# Assert that there are no missing values\n",
    "assert ____\n",
    "\n",
    "# Assert that all values are >= 0\n",
    "assert (ebola >= 0).____\n"
   ]
  }
 ],
 "metadata": {
  "kernelspec": {
   "display_name": "Python 3",
   "language": "python",
   "name": "python3"
  },
  "language_info": {
   "codemirror_mode": {
    "name": "ipython",
    "version": 3
   },
   "file_extension": ".py",
   "mimetype": "text/x-python",
   "name": "python",
   "nbconvert_exporter": "python",
   "pygments_lexer": "ipython3",
   "version": "3.6.7"
  }
 },
 "nbformat": 4,
 "nbformat_minor": 2
}
