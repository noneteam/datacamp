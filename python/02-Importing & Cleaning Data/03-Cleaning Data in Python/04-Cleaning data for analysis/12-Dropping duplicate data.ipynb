{
 "cells": [
  {
   "cell_type": "markdown",
   "metadata": {},
   "source": [
    "# Dropping duplicate data"
   ]
  },
  {
   "cell_type": "markdown",
   "metadata": {},
   "source": [
    "#### EXERCISE:\n",
    "Duplicate data causes a variety of problems. From the point of view of performance,\n",
    "they use up unnecessary amounts of memory and cause unneeded calculations to be performed when processing data.\n",
    "In addition, they can also bias any analysis results.\n",
    "\n",
    "A dataset consisting of the performance of songs on the Billboard charts has been pre-loaded into a DataFrame called <code>billboard</code>. Check out its columns in the IPython Shell. Your job in this exercise is to subset this DataFrame and then drop all duplicate rows."
   ]
  },
  {
   "cell_type": "markdown",
   "metadata": {},
   "source": [
    "#### INSTRUCTIONS:\n",
    "* Create a new DataFrame called <code>tracks</code> that contains the following columns from <code>billboard</code>: <code>'year'</code>, <code>'artist'</code>, <code>'track'</code>, and <code>'time'</code>.\n",
    "* Print the <code>info</code> of <code>tracks</code>. This has been done for you.\n",
    "* Drop duplicate rows from <code>tracks</code> using the <code>.drop_duplicates()</code> method. Save the result to <code>tracks_no_duplicates</code>.\n",
    "* Print the <code>info</code> of <code>tracks_no_duplicates</code>. This has been done for you, so hit 'Submit Answer' to see the results!"
   ]
  },
  {
   "cell_type": "markdown",
   "metadata": {},
   "source": [
    "#### SCRIPT.PY:"
   ]
  },
  {
   "cell_type": "code",
   "execution_count": null,
   "metadata": {},
   "outputs": [],
   "source": [
    "# Create the new DataFrame: tracks\n",
    "tracks = billboard[[____]]\n",
    "\n",
    "# Print info of tracks\n",
    "print(tracks.info())\n",
    "\n",
    "# Drop the duplicates: tracks_no_duplicates\n",
    "tracks_no_duplicates = ____\n",
    "\n",
    "# Print info of tracks\n",
    "print(tracks_no_duplicates.info())\n"
   ]
  }
 ],
 "metadata": {
  "kernelspec": {
   "display_name": "Python 3",
   "language": "python",
   "name": "python3"
  },
  "language_info": {
   "codemirror_mode": {
    "name": "ipython",
    "version": 3
   },
   "file_extension": ".py",
   "mimetype": "text/x-python",
   "name": "python",
   "nbconvert_exporter": "python",
   "pygments_lexer": "ipython3",
   "version": "3.6.7"
  }
 },
 "nbformat": 4,
 "nbformat_minor": 2
}
