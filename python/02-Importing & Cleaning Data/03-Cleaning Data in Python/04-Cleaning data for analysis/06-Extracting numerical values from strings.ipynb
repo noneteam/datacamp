{
 "cells": [
  {
   "cell_type": "markdown",
   "metadata": {},
   "source": [
    "# Extracting numerical values from strings"
   ]
  },
  {
   "cell_type": "markdown",
   "metadata": {},
   "source": [
    "#### EXERCISE:\n",
    "Extracting numbers from strings is a common task, particularly when working with unstructured data or log files.\n",
    "\n",
    "Say you have the following string: <code>'the recipe calls for 6 strawberries and 2 bananas'</code>.\n",
    "\n",
    "It would be useful to extract the <code>6</code> and the <code>2</code> from this string to be saved for later use when comparing strawberry to banana ratios.\n",
    "\n",
    "When using a regular expression to extract multiple numbers (or multiple pattern matches, to be exact), you can use the <code>re.findall()</code> function. Dan did not discuss this in the video, but it is straightforward to use: You pass in a pattern and a string to <code>re.findall()</code>, and it will return a list of the matches."
   ]
  },
  {
   "cell_type": "markdown",
   "metadata": {},
   "source": [
    "#### INSTRUCTIONS:\n",
    "* Import <code>re</code>.\n",
    "* Write a pattern that will find all the numbers in the following string: <code>'the recipe calls for 10 strawberries and 1 banana'</code>. To do this:\n",
    " * Use the <code>re.findall()</code> function and pass it two arguments: the pattern, followed by the string.\n",
    " * <code>\\d</code> is the pattern required to find digits. This should be followed with a <code>+</code> so that the previous element is matched one or more times. This ensures that <code>10</code> is viewed as one number and not as <code>1</code> and <code>0</code>.\n",
    "* Print the matches to confirm that your regular expression found the values <code>10</code> and <code>1</code>."
   ]
  },
  {
   "cell_type": "markdown",
   "metadata": {},
   "source": [
    "#### SCRIPT.PY:"
   ]
  },
  {
   "cell_type": "code",
   "execution_count": null,
   "metadata": {},
   "outputs": [],
   "source": [
    "# Import the regular expression module\n",
    "____\n",
    "\n",
    "# Find the numeric values: matches\n",
    "matches = re.findall('____', 'the recipe calls for 10 strawberries and 1 banana')\n",
    "\n",
    "# Print the matches\n",
    "print(____)\n"
   ]
  }
 ],
 "metadata": {
  "kernelspec": {
   "display_name": "Python 3",
   "language": "python",
   "name": "python3"
  },
  "language_info": {
   "codemirror_mode": {
    "name": "ipython",
    "version": 3
   },
   "file_extension": ".py",
   "mimetype": "text/x-python",
   "name": "python",
   "nbconvert_exporter": "python",
   "pygments_lexer": "ipython3",
   "version": "3.6.7"
  }
 },
 "nbformat": 4,
 "nbformat_minor": 2
}
