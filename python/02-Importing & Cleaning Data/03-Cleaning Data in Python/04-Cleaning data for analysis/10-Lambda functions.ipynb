{
 "cells": [
  {
   "cell_type": "markdown",
   "metadata": {},
   "source": [
    "# Lambda functions"
   ]
  },
  {
   "cell_type": "markdown",
   "metadata": {},
   "source": [
    "#### EXERCISE:\n",
    "You'll now be introduced to a powerful Python feature that will help you clean your data more effectively: lambda functions. Instead of using the <code>def</code> syntax that you used in the previous exercise, lambda functions let you make simple, one-line functions.\n",
    "\n",
    "For example, here's a function that squares a variable used in an <code>.apply()</code> method:</p>\n",
    "<pre><code>def my_square(x):\n",
    "    return x ** 2\n",
    "\n",
    "df.apply(my_square)\n",
    "</code></pre>\n",
    "\n",
    "The equivalent code using a lambda function is:\n",
    "\n",
    "<pre><code>df.apply(lambda x: x ** 2)\n",
    "</code></pre>\n",
    "\n",
    "The lambda function takes one parameter - the variable <code>x</code>. The function itself just squares <code>x</code> and returns the result, which is whatever the one line of code evaluates to. In this way, lambda functions can make your code concise and Pythonic.\n",
    "\n",
    "The tips dataset has been pre-loaded into a DataFrame called <code>tips</code>. Your job is to clean its <code>'total_dollar'</code> column by removing the dollar sign. You'll do this using two different methods: With the <code>.replace()</code> method, and with regular expressions. The regular expression module <code>re</code> has been pre-imported."
   ]
  },
  {
   "cell_type": "markdown",
   "metadata": {},
   "source": [
    "#### INSTRUCTIONS:\n",
    "* Use the <code>.replace()</code> method inside a lambda function to remove the dollar sign from the <code>'total_dollar'</code> column of <code>tips</code>.\n",
    " * You need to specify two arguments to the <code>.replace()</code> method: The string to be replaced (<code>'$'</code>), and the string to replace it by (<code>''</code>).\n",
    " * Apply the lambda function over the <code>'total_dollar'</code> column of <code>tips</code>.\n",
    "* Use a regular expression to remove the dollar sign from the <code>'total_dollar'</code> column of <code>tips</code>.\n",
    " * The pattern has been provided for you: It is the first argument of the <code>re.findall()</code> function.\n",
    " * Complete the rest of the lambda function and apply it over the <code>'total_dollar'</code> column of <code>tips</code>. Notice that because <code>re.findall()</code> returns a list, you have to slice it in order to access the actual value.\n",
    "* Hit 'Submit Answer' to verify that you have removed the dollar sign from the column."
   ]
  },
  {
   "cell_type": "markdown",
   "metadata": {},
   "source": [
    "#### SCRIPT.PY:"
   ]
  },
  {
   "cell_type": "code",
   "execution_count": 6,
   "metadata": {},
   "outputs": [
    {
     "name": "stdout",
     "output_type": "stream",
     "text": [
      "   total_bill   tip     sex smoker  day    time  size total_dollar  \\\n",
      "0       16.99  1.01  Female     No  Sun  Dinner     2       $16.99   \n",
      "1       10.34  1.66    Male     No  Sun  Dinner     3       $10.34   \n",
      "2       21.01  3.50    Male     No  Sun  Dinner     3       $21.01   \n",
      "3       23.68  3.31    Male     No  Sun  Dinner     2       $23.68   \n",
      "4       24.59  3.61  Female     No  Sun  Dinner     4       $24.59   \n",
      "\n",
      "  total_dollar_replace total_dollar_re  \n",
      "0                16.99           16.99  \n",
      "1                10.34           10.34  \n",
      "2                21.01           21.01  \n",
      "3                23.68           23.68  \n",
      "4                24.59           24.59  \n"
     ]
    }
   ],
   "source": [
    "import re\n",
    "import pandas as pd\n",
    "tips = pd.read_csv(\"tips.csv\")\n",
    "tips[\"total_dollar\"] = tips[\"total_bill\"].apply(lambda x: \"$\"+str(x))\n",
    "# Write the lambda function using replace\n",
    "tips['total_dollar_replace'] = tips.total_dollar.apply(lambda x: x.replace('$', ''))\n",
    "\n",
    "# Write the lambda function using regular expressions\n",
    "tips['total_dollar_re'] = tips.total_dollar.apply(lambda x: re.findall('\\d+\\.\\d+', x)[0])\n",
    "\n",
    "# Print the head of tips\n",
    "print(tips.head())\n"
   ]
  }
 ],
 "metadata": {
  "kernelspec": {
   "display_name": "Python 3",
   "language": "python",
   "name": "python3"
  },
  "language_info": {
   "codemirror_mode": {
    "name": "ipython",
    "version": 3
   },
   "file_extension": ".py",
   "mimetype": "text/x-python",
   "name": "python",
   "nbconvert_exporter": "python",
   "pygments_lexer": "ipython3",
   "version": "3.6.7"
  }
 },
 "nbformat": 4,
 "nbformat_minor": 2
}
