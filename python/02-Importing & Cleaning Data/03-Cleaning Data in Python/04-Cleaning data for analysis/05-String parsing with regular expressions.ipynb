{
 "cells": [
  {
   "cell_type": "markdown",
   "metadata": {},
   "source": [
    "# String parsing with regular expressions"
   ]
  },
  {
   "cell_type": "markdown",
   "metadata": {},
   "source": [
    "#### EXERCISE:\n",
    "In the video, Dan introduced you to the basics of regular expressions, which are powerful ways of defining patterns to match strings. This exercise will get you started with writing them.\n",
    "\n",
    "When working with data, it is sometimes necessary to write a regular expression to look for properly entered values.\n",
    "Phone numbers in a dataset is a common field that needs to be checked for validity. Your job in this exercise is to define a regular expression to match US phone numbers that fit the pattern of <code>xxx-xxx-xxxx</code>.\n",
    "\n",
    "The <a href=\"https://docs.python.org/3/library/re.html\" target=\"_blank\">regular expression module</a> in python is <code>re</code>.\n",
    "When performing pattern matching on data, since the pattern will be used for a match across multiple rows,\n",
    "it's better to compile the pattern first using <code>re.compile()</code>, and then use the compiled pattern to match values."
   ]
  },
  {
   "cell_type": "markdown",
   "metadata": {},
   "source": [
    "#### INSTRUCTIONS:\n",
    "* Import <code>re</code>.\n",
    "* Compile a pattern that matches a phone number of the format <code>xxx-xxx-xxxx</code>.\n",
    " * Use <code>\\d{x}</code> to match <code>x</code> digits. Here you'll need to use it three times: twice to match <code>3</code> digits, and once to match <code>4</code> digits.\n",
    " * Place the regular expression inside <code>re.compile()</code>.\n",
    "* Using the <code>.match()</code> method on <code>prog</code>, check whether the pattern matches the string <code>'123-456-7890'</code>.\n",
    "* Using the same approach, now check whether the pattern matches the string <code>'1123-456-7890'</code>."
   ]
  },
  {
   "cell_type": "markdown",
   "metadata": {},
   "source": [
    "#### SCRIPT.PY:"
   ]
  },
  {
   "cell_type": "code",
   "execution_count": null,
   "metadata": {},
   "outputs": [],
   "source": [
    "# Import the regular expression module\n",
    "____\n",
    "\n",
    "# Compile the pattern: prog\n",
    "prog = ____('____-____-____')\n",
    "\n",
    "# See if the pattern matches\n",
    "result = ____('____')\n",
    "print(bool(result))\n",
    "\n",
    "# See if the pattern matches\n",
    "result2 = ____\n",
    "print(bool(result2))\n"
   ]
  }
 ],
 "metadata": {
  "kernelspec": {
   "display_name": "Python 3",
   "language": "python",
   "name": "python3"
  },
  "language_info": {
   "codemirror_mode": {
    "name": "ipython",
    "version": 3
   },
   "file_extension": ".py",
   "mimetype": "text/x-python",
   "name": "python",
   "nbconvert_exporter": "python",
   "pygments_lexer": "ipython3",
   "version": "3.6.7"
  }
 },
 "nbformat": 4,
 "nbformat_minor": 2
}
