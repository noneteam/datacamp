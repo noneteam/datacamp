{
 "cells": [
  {
   "cell_type": "markdown",
   "metadata": {},
   "source": [
    "# Frequency counts for categorical data"
   ]
  },
  {
   "cell_type": "markdown",
   "metadata": {},
   "source": [
    "#### EXERCISE:\n",
    "As you've seen, <code>.describe()</code> can only be used on numeric columns. So how can you diagnose data issues when you have categorical data? \n",
    "One way is by using the <code>.value_counts()</code> method, which returns the frequency counts for each unique value in a column!\n",
    "\n",
    "This method also has an optional parameter called <code>dropna</code> which is <code>True</code> by default.\n",
    "What this means is if you have missing data in a column, it will not give a frequency count of them.\n",
    "You want to set the <code>dropna</code> column to <code>False</code> so if there are missing values in a column, it will give you the frequency counts.\n",
    "\n",
    "In this exercise, you're going to look at the <code>'Borough'</code>, <code>'State'</code>, and <code>'Site Fill'</code> columns to make sure all the values in there are valid. When looking at the output, do a sanity check: Are all values in the <code>'State'</code> column from <code>NY</code>, for example? Since the dataset consists of applications filed in NY, you would expect this to be the case."
   ]
  },
  {
   "cell_type": "markdown",
   "metadata": {},
   "source": [
    "#### INSTRUCTIONS:\n",
    "* Print the value counts for:\n",
    " * The <code>'Borough'</code> column.\n",
    " * The <code>'State'</code> column.\n",
    " * The <code>'Site Fill'</code> column."
   ]
  },
  {
   "cell_type": "markdown",
   "metadata": {},
   "source": [
    "#### SCRIPT.PY:"
   ]
  },
  {
   "cell_type": "code",
   "execution_count": null,
   "metadata": {},
   "outputs": [],
   "source": [
    "# Print the value counts for 'Borough'\n",
    "print(df['____'].____(dropna=False))\n",
    "\n",
    "# Print the value_counts for 'State'\n",
    "print(____)\n",
    "\n",
    "# Print the value counts for 'Site Fill'\n",
    "print(____)\n"
   ]
  }
 ],
 "metadata": {
  "kernelspec": {
   "display_name": "Python 3",
   "language": "python",
   "name": "python3"
  },
  "language_info": {
   "codemirror_mode": {
    "name": "ipython",
    "version": 3
   },
   "file_extension": ".py",
   "mimetype": "text/x-python",
   "name": "python",
   "nbconvert_exporter": "python",
   "pygments_lexer": "ipython3",
   "version": "3.6.7"
  }
 },
 "nbformat": 4,
 "nbformat_minor": 2
}
