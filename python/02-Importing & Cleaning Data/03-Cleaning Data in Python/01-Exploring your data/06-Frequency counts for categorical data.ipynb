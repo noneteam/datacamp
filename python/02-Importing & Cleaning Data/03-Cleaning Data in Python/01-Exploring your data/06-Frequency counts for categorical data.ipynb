{
 "cells": [
  {
   "cell_type": "markdown",
   "metadata": {},
   "source": [
    "# Frequency counts for categorical data"
   ]
  },
  {
   "cell_type": "markdown",
   "metadata": {},
   "source": [
    "#### EXERCISE:\n",
    "As you've seen, <code>.describe()</code> can only be used on numeric columns. So how can you diagnose data issues when you have categorical data? \n",
    "One way is by using the <code>.value_counts()</code> method, which returns the frequency counts for each unique value in a column!\n",
    "\n",
    "This method also has an optional parameter called <code>dropna</code> which is <code>True</code> by default.\n",
    "What this means is if you have missing data in a column, it will not give a frequency count of them.\n",
    "You want to set the <code>dropna</code> column to <code>False</code> so if there are missing values in a column, it will give you the frequency counts.\n",
    "\n",
    "In this exercise, you're going to look at the <code>'Borough'</code>, <code>'State'</code>, and <code>'Site Fill'</code> columns to make sure all the values in there are valid. When looking at the output, do a sanity check: Are all values in the <code>'State'</code> column from <code>NY</code>, for example? Since the dataset consists of applications filed in NY, you would expect this to be the case."
   ]
  },
  {
   "cell_type": "markdown",
   "metadata": {},
   "source": [
    "#### INSTRUCTIONS:\n",
    "* Print the value counts for:\n",
    " * The <code>'Borough'</code> column.\n",
    " * The <code>'State'</code> column.\n",
    " * The <code>'Site Fill'</code> column."
   ]
  },
  {
   "cell_type": "markdown",
   "metadata": {},
   "source": [
    "#### SCRIPT.PY:"
   ]
  },
  {
   "cell_type": "code",
   "execution_count": 5,
   "metadata": {},
   "outputs": [
    {
     "name": "stdout",
     "output_type": "stream",
     "text": [
      "MANHATTAN        6310\n",
      "BROOKLYN         2866\n",
      "QUEENS           2121\n",
      "BRONX             974\n",
      "STATEN ISLAND     575\n",
      "Name: Borough, dtype: int64\n",
      "NY    12391\n",
      "NJ      241\n",
      "PA       38\n",
      "CA       20\n",
      "OH       19\n",
      "FL       17\n",
      "IL       17\n",
      "CT       16\n",
      "TX       13\n",
      "TN       10\n",
      "DC        7\n",
      "MD        7\n",
      "KS        6\n",
      "MA        6\n",
      "GA        6\n",
      "VA        5\n",
      "CO        4\n",
      "AZ        3\n",
      "WI        3\n",
      "MN        3\n",
      "SC        3\n",
      "NC        2\n",
      "RI        2\n",
      "UT        2\n",
      "VT        1\n",
      "NM        1\n",
      "MI        1\n",
      "WA        1\n",
      "IN        1\n",
      "Name: State, dtype: int64\n",
      "NOT APPLICABLE                              7806\n",
      "NaN                                         4205\n",
      "ON-SITE                                      519\n",
      "OFF-SITE                                     186\n",
      "USE UNDER 300 CU.YD                          130\n",
      "Name: Site Fill, dtype: int64\n"
     ]
    }
   ],
   "source": [
    "import pandas as pd\n",
    "df = pd.read_csv(\"dob_job_application_filings_subset.csv\")\n",
    "# Print the value counts for 'Borough'\n",
    "print(df['Borough'].value_counts(dropna=False))\n",
    "\n",
    "# Print the value_counts for 'State'\n",
    "print(df['State'].value_counts(dropna=False))\n",
    "\n",
    "# Print the value counts for 'Site Fill'\n",
    "print(df['Site Fill'].value_counts(dropna=False))\n"
   ]
  }
 ],
 "metadata": {
  "kernelspec": {
   "display_name": "Python 3",
   "language": "python",
   "name": "python3"
  },
  "language_info": {
   "codemirror_mode": {
    "name": "ipython",
    "version": 3
   },
   "file_extension": ".py",
   "mimetype": "text/x-python",
   "name": "python",
   "nbconvert_exporter": "python",
   "pygments_lexer": "ipython3",
   "version": "3.6.7"
  }
 },
 "nbformat": 4,
 "nbformat_minor": 2
}
