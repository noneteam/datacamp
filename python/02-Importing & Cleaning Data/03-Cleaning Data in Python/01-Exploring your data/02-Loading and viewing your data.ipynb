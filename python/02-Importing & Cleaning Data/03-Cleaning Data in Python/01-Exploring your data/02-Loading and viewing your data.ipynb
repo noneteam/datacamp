{
 "cells": [
  {
   "cell_type": "markdown",
   "metadata": {},
   "source": [
    "# Loading and viewing your data"
   ]
  },
  {
   "cell_type": "markdown",
   "metadata": {},
   "source": [
    "#### EXERCISE:\n",
    "In this chapter, you're going to look at a subset of the Department of Buildings Job Application Filings dataset\n",
    "from the <a href=\"http://opendata.cityofnewyork.us/\" target=\"_blank\">NYC Open Data</a> portal. This dataset consists of job applications filed on January 22, 2017.\n",
    "\n",
    "Your first task is to load this dataset into a DataFrame and then inspect it using the <code>.head()</code> and <code>.tail()</code> methods. However, you'll find out very quickly that the printed results don't allow you to see everything you need, since there are too many columns.\n",
    "Therefore, you need to look at the data in another way.\n",
    "\n",
    "The <code>.shape</code> and <code>.columns</code> attributes let you see the shape of the DataFrame and obtain a list of its columns. From here, you can see which columns are relevant to the questions you'd like to ask of the data. To this end, a new DataFrame, <code>df_subset</code>, consisting only of these relevant columns, has been pre-loaded. This is the DataFrame you'll work with in the rest of the chapter.\n",
    "\n",
    "Get acquainted with the dataset now by exploring it with pandas! This initial exploratory analysis is a crucial first step of data cleaning."
   ]
  },
  {
   "cell_type": "markdown",
   "metadata": {},
   "source": [
    "#### INSTRUCTIONS:\n",
    "* Import <code>pandas</code> as <code>pd</code>.\n",
    "* Read <code>'dob_job_application_filings_subset.csv'</code> into a DataFrame called <code>df</code>.\n",
    "* Print the head and tail of <code>df</code>.\n",
    "* Print the shape of <code>df</code> and its columns. Note: <code>.shape</code> and <code>.columns</code> are <em>attributes</em>, not <em>methods</em>, so you don't need to follow these with parentheses <code>()</code>.\n",
    "* Hit 'Submit Answer' to view the results! Notice the suspicious number of <code>0</code> values. Perhaps these represent missing data."
   ]
  },
  {
   "cell_type": "markdown",
   "metadata": {},
   "source": [
    "#### SCRIPT.PY:"
   ]
  },
  {
   "cell_type": "code",
   "execution_count": null,
   "metadata": {},
   "outputs": [],
   "source": [
    "# Import pandas\n",
    "____\n",
    "\n",
    "# Read the file into a DataFrame: df\n",
    "df = ____\n",
    "\n",
    "# Print the head of df\n",
    "print(____)\n",
    "\n",
    "# Print the tail of df\n",
    "print(____)\n",
    "\n",
    "# Print the shape of df\n",
    "print(____)\n",
    "\n",
    "# Print the columns of df\n",
    "print(____)\n",
    "\n",
    "# Print the head and tail of df_subset\n",
    "print(df_subset.head())\n",
    "print(df_subset.tail())\n"
   ]
  }
 ],
 "metadata": {
  "kernelspec": {
   "display_name": "Python 3",
   "language": "python",
   "name": "python3"
  },
  "language_info": {
   "codemirror_mode": {
    "name": "ipython",
    "version": 3
   },
   "file_extension": ".py",
   "mimetype": "text/x-python",
   "name": "python",
   "nbconvert_exporter": "python",
   "pygments_lexer": "ipython3",
   "version": "3.6.7"
  }
 },
 "nbformat": 4,
 "nbformat_minor": 2
}
