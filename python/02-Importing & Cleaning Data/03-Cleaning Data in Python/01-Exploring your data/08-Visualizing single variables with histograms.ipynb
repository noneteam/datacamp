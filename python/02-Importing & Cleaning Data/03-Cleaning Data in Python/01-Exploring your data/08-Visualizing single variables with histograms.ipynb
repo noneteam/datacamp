{
 "cells": [
  {
   "cell_type": "markdown",
   "metadata": {},
   "source": [
    "# Visualizing single variables with histograms"
   ]
  },
  {
   "cell_type": "markdown",
   "metadata": {},
   "source": [
    "#### EXERCISE:\n",
    "Up until now, you've been looking at descriptive statistics of your data. One of the best ways to confirm what the numbers are telling you is to plot and visualize the data.\n",
    "\n",
    "You'll start by visualizing single variables using a histogram for numeric values. The column you will work on in this exercise is <code>'Existing Zoning Sqft'</code>.\n",
    "\n",
    "The <code>.plot()</code> method allows you to create a plot of each column of a DataFrame. The <code>kind</code> parameter allows you to specify the type of plot to use - <code>kind='hist'</code>, for example, plots a histogram.\n",
    "\n",
    "In the IPython Shell, begin by computing summary statistics for the <code>'Existing Zoning Sqft'</code> column using the <code>.describe()</code> method. You'll notice that there are extremely large differences between the <code>min</code> and <code>max</code> values,\n",
    "and the plot will need to be adjusted accordingly. In such cases, it's good to look at the plot on a log scale. The keyword arguments <code>logx=True</code> or <code>logy=True</code> can be passed in to <code>.plot()</code> depending on which axis you want to rescale.\n",
    "\n",
    "Finally, note that Python will render a plot such that the axis will hold all the information. That is, if you end up with large amounts of whitespace in your plot, it indicates counts or values too small to render."
   ]
  },
  {
   "cell_type": "markdown",
   "metadata": {},
   "source": [
    "#### INSTRUCTIONS:\n",
    "* Import <code>matplotlib.pyplot</code> as <code>plt</code>.\n",
    "* Create a histogram of the <code>'Existing Zoning Sqft'</code> column. Rotate the axis labels by 70 degrees and use a log scale for both axes.\n",
    "* Display the histogram using <code>plt.show()</code>."
   ]
  },
  {
   "cell_type": "markdown",
   "metadata": {},
   "source": [
    "#### SCRIPT.PY:"
   ]
  },
  {
   "cell_type": "code",
   "execution_count": null,
   "metadata": {},
   "outputs": [],
   "source": [
    "# Import matplotlib.pyplot\n",
    "____\n",
    "\n",
    "# Describe the column\n",
    "df['Existing Zoning Sqft'].describe()\n",
    "\n",
    "# Plot the histogram\n",
    "df['____'].____(kind='____', rot=70, logx=____, logy=True)\n",
    "\n",
    "# Display the histogram\n",
    "____\n"
   ]
  }
 ],
 "metadata": {
  "kernelspec": {
   "display_name": "Python 3",
   "language": "python",
   "name": "python3"
  },
  "language_info": {
   "codemirror_mode": {
    "name": "ipython",
    "version": 3
   },
   "file_extension": ".py",
   "mimetype": "text/x-python",
   "name": "python",
   "nbconvert_exporter": "python",
   "pygments_lexer": "ipython3",
   "version": "3.6.7"
  }
 },
 "nbformat": 4,
 "nbformat_minor": 2
}
