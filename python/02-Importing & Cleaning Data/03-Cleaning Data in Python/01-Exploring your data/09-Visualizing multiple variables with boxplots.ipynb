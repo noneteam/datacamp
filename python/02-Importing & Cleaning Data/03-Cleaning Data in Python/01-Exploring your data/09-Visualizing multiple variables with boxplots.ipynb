{
 "cells": [
  {
   "cell_type": "markdown",
   "metadata": {},
   "source": [
    "# Visualizing multiple variables with boxplots"
   ]
  },
  {
   "cell_type": "markdown",
   "metadata": {},
   "source": [
    "#### EXERCISE:\n",
    "Histograms are great ways of visualizing single variables. To visualize multiple variables, boxplots are useful, especially when one of the variables is categorical.\n",
    "\n",
    "In this exercise, your job is to use a boxplot to compare the <code>'initial_cost'</code> across the different values of the <code>'Borough'</code> column. The pandas <code>.boxplot()</code> method is a quick way to do this, in which you have to specify the <code>column</code> and <code>by</code> parameters. Here, you want to visualize how <code>'initial_cost'</code> varies <em>by</em> <code>'Borough'</code>.\n",
    "\n",
    "<code>pandas</code> and <code>matplotlib.pyplot</code> have been imported for you as <code>pd</code> and <code>plt</code>, respectively, and the DataFrame has been pre-loaded as <code>df</code>."
   ]
  },
  {
   "cell_type": "markdown",
   "metadata": {},
   "source": [
    "#### INSTRUCTIONS:\n",
    "* Using the <code>.boxplot()</code> method of <code>df</code>, create a boxplot of <code>'initial_cost'</code> across the different values of <code>'Borough'</code>.\n",
    "* Display the plot."
   ]
  },
  {
   "cell_type": "markdown",
   "metadata": {},
   "source": [
    "#### SCRIPT.PY:"
   ]
  },
  {
   "cell_type": "code",
   "execution_count": null,
   "metadata": {},
   "outputs": [],
   "source": [
    "# Import necessary modules\n",
    "import pandas as pd\n",
    "import matplotlib.pyplot as plt\n",
    "\n",
    "# Create the boxplot\n",
    "df.____(column=____, by=____, rot=90)\n",
    "\n",
    "# Display the plot\n",
    "____\n"
   ]
  }
 ],
 "metadata": {
  "kernelspec": {
   "display_name": "Python 3",
   "language": "python",
   "name": "python3"
  },
  "language_info": {
   "codemirror_mode": {
    "name": "ipython",
    "version": 3
   },
   "file_extension": ".py",
   "mimetype": "text/x-python",
   "name": "python",
   "nbconvert_exporter": "python",
   "pygments_lexer": "ipython3",
   "version": "3.6.7"
  }
 },
 "nbformat": 4,
 "nbformat_minor": 2
}
