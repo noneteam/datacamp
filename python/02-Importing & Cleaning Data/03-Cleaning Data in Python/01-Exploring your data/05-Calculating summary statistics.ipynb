{
 "cells": [
  {
   "cell_type": "markdown",
   "metadata": {},
   "source": [
    "# Calculating summary statistics"
   ]
  },
  {
   "cell_type": "markdown",
   "metadata": {},
   "source": [
    "#### QUESTION:\n",
    "You'll now use the <code>.describe()</code> method to calculate summary statistics of your data.\n",
    "\n",
    "In this exercise, the columns <code>'Initial Cost'</code> and <code>'Total Est. Fee'</code> have been cleaned up for you. That is, the dollar sign has been removed and they have been converted into two new numeric columns: <code>initial_cost</code> and <code>total_est_fee</code>.\n",
    "You'll learn how to do this yourself in later chapters. It's also worth noting that some columns such as <code>Job #</code> are encoded as numeric columns, but it does not make sense to compute summary statistics for such columns.\n",
    "\n",
    "This cleaned DataFrame has been pre-loaded as <code>df</code>. Your job is to use the <code>.describe()</code> method on it in the IPython Shell and select the statement below that is <strong>False</strong>."
   ]
  },
  {
   "cell_type": "markdown",
   "metadata": {},
   "source": [
    "#### POSSIBLE ANSWERS:\n",
    "* The mean of <code>'Proposed No. of Stories'</code> is <code>8.144325</code>.\n",
    "* The standard deviation of <code>'Existing Height'</code> is <code>146.917360</code>.\n",
    "* There are <code>12846 entries</code> in the DataFrame.\n",
    "* The standard deviation of <code>'Street Frontage'</code> is <code>11.874080</code>.\n",
    "* The maximum of <code>'Proposed Height'</code> is <code>4200</code>."
   ]
  }
 ],
 "metadata": {
  "kernelspec": {
   "display_name": "Python 3",
   "language": "python",
   "name": "python3"
  },
  "language_info": {
   "codemirror_mode": {
    "name": "ipython",
    "version": 3
   },
   "file_extension": ".py",
   "mimetype": "text/x-python",
   "name": "python",
   "nbconvert_exporter": "python",
   "pygments_lexer": "ipython3",
   "version": "3.6.7"
  }
 },
 "nbformat": 4,
 "nbformat_minor": 2
}
