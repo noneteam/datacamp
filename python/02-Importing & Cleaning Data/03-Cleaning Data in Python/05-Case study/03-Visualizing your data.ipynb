{
 "cells": [
  {
   "cell_type": "markdown",
   "metadata": {},
   "source": [
    "# Visualizing your data"
   ]
  },
  {
   "cell_type": "markdown",
   "metadata": {},
   "source": [
    "#### EXERCISE:\n",
    "Since 1800, life expectancy around the globe has been steadily going up. You would expect the Gapminder data to confirm this.\n",
    "\n",
    "The DataFrame <code>g1800s</code> has been pre-loaded. Your job in this exercise is to create a scatter plot with life expectancy in <code>'1800'</code> on the x-axis and life expectancy in <code>'1899'</code> on the y-axis.\n",
    "\n",
    "Here, the goal is to visually check the data for insights as well as errors. When looking at the plot, pay attention to whether the scatter plot takes the form of a diagonal line, and which points fall below or above the diagonal line. This will inform how life expectancy in 1899 changed (or did not change) compared to 1800 for different countries. If points fall on a diagonal line, it means that life expectancy remained the same!"
   ]
  },
  {
   "cell_type": "markdown",
   "metadata": {},
   "source": [
    "#### INSTRUCTIONS:\n",
    "* Import <code>matplotlib.pyplot</code> as <code>plt</code>.\n",
    "* Use the <code>.plot()</code> method on <code>g1800s</code> with <code>kind='scatter'</code> to create a scatter plot with <code>'1800'</code> on the x-axis and <code>'1899'</code> on the y-axis.\n",
    "* Display the plot."
   ]
  },
  {
   "cell_type": "markdown",
   "metadata": {},
   "source": [
    "#### SCRIPT.PY:"
   ]
  },
  {
   "cell_type": "code",
   "execution_count": null,
   "metadata": {},
   "outputs": [],
   "source": [
    "# Import matplotlib.pyplot\n",
    "____\n",
    "\n",
    "# Create the scatter plot\n",
    "____(kind=____, x=____, y=____)\n",
    "\n",
    "# Specify axis labels\n",
    "plt.xlabel('Life Expectancy by Country in 1800')\n",
    "plt.ylabel('Life Expectancy by Country in 1899')\n",
    "\n",
    "# Specify axis limits\n",
    "plt.xlim(20, 55)\n",
    "plt.ylim(20, 55)\n",
    "\n",
    "# Display the plot\n",
    "____\n"
   ]
  }
 ],
 "metadata": {
  "kernelspec": {
   "display_name": "Python 3",
   "language": "python",
   "name": "python3"
  },
  "language_info": {
   "codemirror_mode": {
    "name": "ipython",
    "version": 3
   },
   "file_extension": ".py",
   "mimetype": "text/x-python",
   "name": "python",
   "nbconvert_exporter": "python",
   "pygments_lexer": "ipython3",
   "version": "3.6.7"
  }
 },
 "nbformat": 4,
 "nbformat_minor": 2
}
