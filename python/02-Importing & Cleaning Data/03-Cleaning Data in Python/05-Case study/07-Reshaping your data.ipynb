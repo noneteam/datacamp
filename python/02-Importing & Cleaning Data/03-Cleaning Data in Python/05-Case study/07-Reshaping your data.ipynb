{
 "cells": [
  {
   "cell_type": "markdown",
   "metadata": {},
   "source": [
    "# Reshaping your data"
   ]
  },
  {
   "cell_type": "markdown",
   "metadata": {},
   "source": [
    "#### EXERCISE:\n",
    "Now that you have all the data combined into a single DataFrame, the next step is to reshape it into a <em>tidy</em> data format.\n",
    "\n",
    "Currently, the gapminder DataFrame has a separate column for each year. What you want instead is a single column that contains the year, and a single column that represents the average life expectancy for each year and country. By having year in its own column, you can use it as a predictor variable in a later analysis.\n",
    "\n",
    "You can convert the DataFrame into the desired tidy format by <em>melting</em> it."
   ]
  },
  {
   "cell_type": "markdown",
   "metadata": {},
   "source": [
    "#### INSTRUCTIONS:\n",
    "* Reshape <code>gapminder</code> by melting it. Keep <code>'Life expectancy'</code> fixed by specifying it as an argument to the <code>id_vars</code> parameter.\n",
    "* Rename the three columns of the melted DataFrame to <code>'country'</code>, <code>'year'</code>, and <code>'life_expectancy'</code> by passing them in as a list to <code>gapminder_melt.columns</code>.\n",
    "* Print the head of the melted DataFrame."
   ]
  },
  {
   "cell_type": "markdown",
   "metadata": {},
   "source": [
    "#### SCRIPT.PY:"
   ]
  },
  {
   "cell_type": "code",
   "execution_count": null,
   "metadata": {},
   "outputs": [],
   "source": [
    "import pandas as pd\n",
    "\n",
    "# Melt gapminder: gapminder_melt\n",
    "gapminder_melt = ____\n",
    "\n",
    "# Rename the columns\n",
    "gapminder_melt.columns = ____\n",
    "\n",
    "# Print the head of gapminder_melt\n",
    "print(____)\n",
    "\n"
   ]
  }
 ],
 "metadata": {
  "kernelspec": {
   "display_name": "Python 3",
   "language": "python",
   "name": "python3"
  },
  "language_info": {
   "codemirror_mode": {
    "name": "ipython",
    "version": 3
   },
   "file_extension": ".py",
   "mimetype": "text/x-python",
   "name": "python",
   "nbconvert_exporter": "python",
   "pygments_lexer": "ipython3",
   "version": "3.6.7"
  }
 },
 "nbformat": 4,
 "nbformat_minor": 2
}
