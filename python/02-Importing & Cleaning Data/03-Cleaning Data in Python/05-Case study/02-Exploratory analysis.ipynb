{
 "cells": [
  {
   "cell_type": "markdown",
   "metadata": {},
   "source": [
    "# Exploratory analysis"
   ]
  },
  {
   "cell_type": "markdown",
   "metadata": {},
   "source": [
    "#### QUESTION:\n",
    "Whenever you obtain a new dataset, your first task should always be to do some exploratory analysis\n",
    "to get a better understanding of the data and diagnose it for any potential issues.\n",
    "\n",
    "The Gapminder data for the 19th century has been loaded into a DataFrame called <code>g1800s</code>. In the IPython Shell, use pandas methods such as <code>.head()</code>, <code>.info()</code>, and <code>.describe()</code>, and DataFrame attributes like <code>.columns</code> and <code>.shape</code> to explore it.\n",
    "\n",
    "Use the information that you acquire from your exploratory analysis to choose the <strong>true</strong> statement from the options provided below."
   ]
  },
  {
   "cell_type": "markdown",
   "metadata": {},
   "source": [
    "#### POSSIBLE ANSWERS:\n",
    "* The DataFrame has <code>259</code> rows and <code>100</code> columns.\n",
    "* The DataFrame has no missing values encoded as <code>NaN</code>.\n",
    "* 100 of the columns are of type <code>float64</code> and 1 column is of type <code>object</code>.\n",
    "* The DataFrame takes up <code>203.2+ KB</code> of memory."
   ]
  }
 ],
 "metadata": {
  "kernelspec": {
   "display_name": "Python 3",
   "language": "python",
   "name": "python3"
  },
  "language_info": {
   "codemirror_mode": {
    "name": "ipython",
    "version": 3
   },
   "file_extension": ".py",
   "mimetype": "text/x-python",
   "name": "python",
   "nbconvert_exporter": "python",
   "pygments_lexer": "ipython3",
   "version": "3.6.7"
  }
 },
 "nbformat": 4,
 "nbformat_minor": 2
}
