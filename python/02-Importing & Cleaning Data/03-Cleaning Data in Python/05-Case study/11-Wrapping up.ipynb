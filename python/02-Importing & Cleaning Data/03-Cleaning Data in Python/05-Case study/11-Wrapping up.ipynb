{
 "cells": [
  {
   "cell_type": "markdown",
   "metadata": {},
   "source": [
    "# Wrapping up"
   ]
  },
  {
   "cell_type": "markdown",
   "metadata": {},
   "source": [
    "#### EXERCISE:\n",
    "Now that you have a clean and tidy dataset, you can do a bit of visualization and aggregation.\n",
    "In this exercise, you'll begin by creating a histogram of the <code>life_expectancy</code> column.\n",
    "You should not get any values under 0 and you should see something reasonable on the higher end of the <code>life_expectancy</code> age range.\n",
    "\n",
    "Your next task is to investigate how average life expectancy changed over the years.\n",
    "To do this, you need to subset the data by each year, get the <code>life_expectancy</code> column from each subset, and take an average of the values.\n",
    "You can achieve this using the <a href=\"http://pandas.pydata.org/pandas-docs/stable/generated/pandas.DataFrame.groupby.html\" target=\"_blank\"><code>.groupby()</code> method</a>. This\n",
    "<code>.groupby()</code> method is covered in greater depth in <a href=\"https://www.datacamp.com/courses/manipulating-dataframes-with-pandas\" target=\"_blank\">Manipulating DataFrames with pandas</a>.\n",
    "\n",
    "Finally, you can save your tidy and summarized DataFrame to a file using the <code>.to_csv()</code> method.\n",
    "\n",
    "matplotlib.pyplot and pandas have been pre-imported as <code>plt</code> and <code>pd</code>. Go for it!"
   ]
  },
  {
   "cell_type": "markdown",
   "metadata": {},
   "source": [
    "#### INSTRUCTIONS:\n",
    "* Create a histogram of the <code>life_expectancy</code> column using the <code>.plot()</code> method of <code>gapminder</code>. Specify <code>kind='hist'</code>.\n",
    "* Group <code>gapminder</code> by <code>'year'</code> and aggregate <code>'life_expectancy'</code> by the mean. To do this:\n",
    " * Use the <code>.groupby()</code> method on <code>gapminder</code> with <code>'year'</code> as the argument. Then select <code>'life_expectancy'</code> and chain the <code>.mean()</code> method to it.\n",
    "* Print the head and tail of <code>gapminder_agg</code>. This has been done for you.\n",
    "* Create a line plot of average life expectancy per year by using the <code>.plot()</code> method (without any arguments in plot) on <code>gapminder_agg</code>.\n",
    "* Save <code>gapminder</code> and <code>gapminder_agg</code> to csv files called <code>'gapminder.csv'</code> and <code>'gapminder_agg.csv'</code>, respectively, using the <code>.to_csv()</code> method."
   ]
  },
  {
   "cell_type": "markdown",
   "metadata": {},
   "source": [
    "#### SCRIPT.PY:"
   ]
  },
  {
   "cell_type": "code",
   "execution_count": 3,
   "metadata": {},
   "outputs": [
    {
     "name": "stdout",
     "output_type": "stream",
     "text": [
      "year\n",
      "1800    31.486020\n",
      "1801    31.448905\n",
      "1802    31.463483\n",
      "1803    31.377413\n",
      "1804    31.446318\n",
      "Name: life_expectancy, dtype: float64\n",
      "year\n",
      "2012    71.663077\n",
      "2013    71.916106\n",
      "2014    72.088125\n",
      "2015    72.321010\n",
      "2016    72.556635\n",
      "Name: life_expectancy, dtype: float64\n"
     ]
    },
    {
     "data": {
      "image/png": "[encoded data removed]",
      "text/plain": [
       "<Figure size 432x288 with 2 Axes>"
      ]
     },
     "metadata": {
      "needs_background": "light"
     },
     "output_type": "display_data"
    }
   ],
   "source": [
    "%matplotlib inline\n",
    "import pandas as pd\n",
    "from matplotlib import pyplot as plt\n",
    "gapminder = pd.melt(pd.concat([pd.read_csv(\"g1800.csv\"), pd.read_csv(\"g1900.csv\"), pd.read_csv(\"g2000.csv\")], sort=False), id_vars=\"Life expectancy\")\n",
    "gapminder.columns = [\"country\", \"year\", \"life_expectancy\"]\n",
    "gapminder = gapminder.dropna()\n",
    "# Add first subplot\n",
    "plt.subplot(2, 1, 1) \n",
    "\n",
    "# Create a histogram of life_expectancy\n",
    "gapminder.life_expectancy.plot(kind=\"hist\")\n",
    "\n",
    "# Group gapminder: gapminder_agg\n",
    "gapminder_agg = gapminder.groupby('year')['life_expectancy'].mean()\n",
    "\n",
    "# Print the head of gapminder_agg\n",
    "print(gapminder_agg.head())\n",
    "\n",
    "# Print the tail of gapminder_agg\n",
    "print(gapminder_agg.tail())\n",
    "\n",
    "# Add second subplot\n",
    "plt.subplot(2, 1, 2)\n",
    "\n",
    "# Create a line plot of life expectancy per year\n",
    "gapminder_agg.plot()\n",
    "\n",
    "# Add title and specify axis labels\n",
    "plt.title('Life expectancy over the years')\n",
    "plt.ylabel('Life expectancy')\n",
    "plt.xlabel('Year')\n",
    "\n",
    "# Display the plots\n",
    "plt.tight_layout()\n",
    "plt.show()\n",
    "\n",
    "# Save both DataFrames to csv files\n",
    "gapminder.to_csv(\"gapminder.csv\")\n",
    "gapminder_agg.to_csv(\"gapminder_agg.csv\")"
   ]
  }
 ],
 "metadata": {
  "kernelspec": {
   "display_name": "Python 3",
   "language": "python",
   "name": "python3"
  },
  "language_info": {
   "codemirror_mode": {
    "name": "ipython",
    "version": 3
   },
   "file_extension": ".py",
   "mimetype": "text/x-python",
   "name": "python",
   "nbconvert_exporter": "python",
   "pygments_lexer": "ipython3",
   "version": "3.6.7"
  }
 },
 "nbformat": 4,
 "nbformat_minor": 2
}
