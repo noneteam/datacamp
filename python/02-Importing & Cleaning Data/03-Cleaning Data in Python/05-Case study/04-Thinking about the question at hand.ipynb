{
 "cells": [
  {
   "cell_type": "markdown",
   "metadata": {},
   "source": [
    "# Thinking about the question at hand"
   ]
  },
  {
   "cell_type": "markdown",
   "metadata": {},
   "source": [
    "#### EXERCISE:\n",
    "Since you are given life expectancy level data by country and year, you could ask questions about how much the average life expectancy changes over each year.\n",
    "\n",
    "Before continuing, however, it's important to make sure that the following assumptions about the data are true:\n",
    "\n",
    "* <code>'Life expectancy'</code> is the first column (index <code>0</code>) of the DataFrame.\n",
    "* The other columns contain either null or numeric values.\n",
    "* The numeric values are all greater than or equal to 0.\n",
    "* There is only one instance of each country.\n",
    "\n",
    "You can write a function that you can apply over the entire DataFrame to verify some of these assumptions. Note that spending the time to write such a script will help you when working with other datasets as well."
   ]
  },
  {
   "cell_type": "markdown",
   "metadata": {},
   "source": [
    "#### INSTRUCTIONS:\n",
    "* Define a function called <code>check_null_or_valid()</code> that takes in one argument: <code>row_data</code>.\n",
    "* Inside the function, convert <code>no_na</code> to a numeric data type using <code>pd.to_numeric()</code>.\n",
    "* Write an assert statement to make sure the first column (index <code>0</code>) of the <code>g1800s</code> DataFrame is <code>'Life expectancy'</code>.\n",
    "* Write an assert statement to test that all the values are valid for the <code>g1800s</code> DataFrame. Use the <code>check_null_or_valid()</code> function placed inside the <code>.apply()</code> method for this. Note that because you're applying it over the entire DataFrame, and not just one column, you'll have to chain the <code>.all()</code> method twice, and remember that you don't have to use <code>()</code> for functions placed inside <code>.apply()</code>.\n",
    "* Write an assert statement to make sure that each country occurs only once in the data. Use the <code>.value_counts()</code> method on the <code>'Life expectancy'</code> column for this. Specifically, index <code>0</code> of <code>.value_counts()</code> will contain the most frequently occuring value. If this is equal to <code>1</code> for the <code>'Life expectancy'</code> column, then you can be certain that no country appears more than once in the data."
   ]
  },
  {
   "cell_type": "markdown",
   "metadata": {},
   "source": [
    "#### SCRIPT.PY:"
   ]
  },
  {
   "cell_type": "code",
   "execution_count": 9,
   "metadata": {},
   "outputs": [],
   "source": [
    "import pandas as pd\n",
    "g1800s = pd.read_csv(\"g1800.csv\")\n",
    "def check_null_or_valid(row_data):\n",
    "    \"\"\"Function that takes a row of data,\n",
    "    drops all missing values,\n",
    "    and checks if all remaining values are greater than or equal to 0\n",
    "    \"\"\"\n",
    "    no_na = row_data.dropna()\n",
    "    numeric = pd.to_numeric(no_na)\n",
    "    ge0 = numeric >= 0\n",
    "    return ge0\n",
    "\n",
    "# Check whether the first column is 'Life expectancy'\n",
    "assert g1800s.columns[0] == \"Life expectancy\"\n",
    "\n",
    "# Check whether the values in the row are valid\n",
    "assert g1800s.iloc[:, 1:].apply(check_null_or_valid, axis=1).all().all()\n",
    "\n",
    "# Check that there is only one instance of each country\n",
    "assert g1800s['Life expectancy'].value_counts()[0] == 1\n"
   ]
  }
 ],
 "metadata": {
  "kernelspec": {
   "display_name": "Python 3",
   "language": "python",
   "name": "python3"
  },
  "language_info": {
   "codemirror_mode": {
    "name": "ipython",
    "version": 3
   },
   "file_extension": ".py",
   "mimetype": "text/x-python",
   "name": "python",
   "nbconvert_exporter": "python",
   "pygments_lexer": "ipython3",
   "version": "3.6.7"
  }
 },
 "nbformat": 4,
 "nbformat_minor": 2
}
