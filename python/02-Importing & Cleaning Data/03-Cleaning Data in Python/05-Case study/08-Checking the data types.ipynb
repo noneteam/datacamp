{
 "cells": [
  {
   "cell_type": "markdown",
   "metadata": {},
   "source": [
    "# Checking the data types"
   ]
  },
  {
   "cell_type": "markdown",
   "metadata": {},
   "source": [
    "#### EXERCISE:\n",
    "Now that your data are in the proper shape, you need to ensure that the columns are of the proper data type. That is, you need to ensure\n",
    "that <code>country</code> is of type <code>object</code>, <code>year</code> is of type <code>int64</code>, and <code>life_expectancy</code> is of type <code>float64</code>.\n",
    "\n",
    "The tidy DataFrame has been pre-loaded as <code>gapminder</code>. Explore it in the IPython Shell using the <code>.info()</code> method. Notice that the column <code>'year'</code> is of type <code>object</code>. This is incorrect, so you'll need to use the <code>pd.to_numeric()</code> function to convert it to a numeric data type.\n",
    "\n",
    "NumPy and pandas have been pre-imported as <code>np</code> and <code>pd</code>."
   ]
  },
  {
   "cell_type": "markdown",
   "metadata": {},
   "source": [
    "#### INSTRUCTIONS:\n",
    "* Convert the <code>year</code> column of <code>gapminder</code> using <code>pd.to_numeric()</code>.\n",
    "* Assert that the <code>country</code> column is of type <code>np.object</code>. This has been done for you.\n",
    "* Assert that the <code>year</code> column is of type <code>np.int64</code>.\n",
    "* Assert that the <code>life_expectancy</code> column is of type <code>np.float64</code>."
   ]
  },
  {
   "cell_type": "markdown",
   "metadata": {},
   "source": [
    "#### SCRIPT.PY:"
   ]
  },
  {
   "cell_type": "code",
   "execution_count": 6,
   "metadata": {},
   "outputs": [],
   "source": [
    "import pandas as pd\n",
    "import numpy as np\n",
    "gapminder = pd.melt(pd.concat([pd.read_csv(\"g1800.csv\"), pd.read_csv(\"g1900.csv\"), pd.read_csv(\"g2000.csv\")], sort=False), id_vars=\"Life expectancy\")\n",
    "gapminder.columns = [\"country\", \"year\", \"life_expectancy\"]\n",
    "\n",
    "# Convert the year column to numeric\n",
    "gapminder.year = pd.to_numeric(gapminder.year)\n",
    "\n",
    "# Test if country is of type object\n",
    "assert gapminder.country.dtypes == np.object\n",
    "\n",
    "# Test if year is of type int64\n",
    "assert gapminder.year.dtypes == np.int64\n",
    "\n",
    "# Test if life_expectancy is of type float64\n",
    "assert gapminder.life_expectancy.dtypes == np.float64\n"
   ]
  }
 ],
 "metadata": {
  "kernelspec": {
   "display_name": "Python 3",
   "language": "python",
   "name": "python3"
  },
  "language_info": {
   "codemirror_mode": {
    "name": "ipython",
    "version": 3
   },
   "file_extension": ".py",
   "mimetype": "text/x-python",
   "name": "python",
   "nbconvert_exporter": "python",
   "pygments_lexer": "ipython3",
   "version": "3.6.7"
  }
 },
 "nbformat": 4,
 "nbformat_minor": 2
}
