{
 "cells": [
  {
   "cell_type": "markdown",
   "metadata": {},
   "source": [
    "# More data cleaning and processing"
   ]
  },
  {
   "cell_type": "markdown",
   "metadata": {},
   "source": [
    "#### EXERCISE:\n",
    "It's now time to deal with the missing data. There are several strategies for this: You can drop them, fill them in using the mean of the column or row that the missing value is in (also known as <a href=\"https://en.wikipedia.org/wiki/Imputation_(statistics)\" target=\"_blank\">imputation</a>), or, if you are dealing with time series data, use a forward fill or backward fill, in which you replace missing values in a column with the most recent known value in the column. See <a href=\"https://www.datacamp.com/courses/pandas-foundations\" target=\"_blank\">pandas Foundations</a> for more on forward fill and backward fill.\n",
    "\n",
    "In general, it is not the best idea to drop missing values, because in doing so you may end up throwing away useful information. In this data, the missing values refer to years where no estimate for life expectancy is available for a given country. You could fill in, or guess what these life expectancies could be by looking at the average life expectancies for other countries in that year, for example. Whichever strategy you go with, it is important to carefully consider all options and understand how they will affect your data.\n",
    "\n",
    "In this exercise, you'll practice dropping missing values. Your job is to drop all the rows that have <code>NaN</code> in the <code>life_expectancy</code> column. Before doing so, it would be valuable to use assert statements to confirm that <code>year</code> and <code>country</code> do not have any missing values.\n",
    "\n",
    "Begin by printing the shape of <code>gapminder</code> in the IPython Shell prior to dropping the missing values. Complete the exercise to find out what its shape will be <em>after</em> dropping the missing values!"
   ]
  },
  {
   "cell_type": "markdown",
   "metadata": {},
   "source": [
    "#### INSTRUCTIONS:\n",
    "* Assert that <code>country</code> and <code>year</code> do not contain any missing values. The first assert statement has been written for you. Note the chaining of the <code>.all()</code> method to <code>pd.notnull()</code> to confirm that <em>all</em> values in the column are not null.\n",
    "* Drop the rows in the data where <em>any</em> observation in <code>life_expectancy</code> is missing. As you confirmed that <code>country</code>\n",
    "and <code>year</code> don't have missing values, you can use the <code>.dropna()</code> method on the <em>entire</em> <code>gapminder</code> DataFrame, because any missing values would have to be in the <code>life_expectancy</code> column. The <code>.dropna()</code> method has the default keyword arguments <code>axis=0</code> and <code>how='any'</code>, which specify that <em>rows</em> with <em>any</em> missing values should be dropped.\n",
    "* Print the shape of <code>gapminder</code>."
   ]
  },
  {
   "cell_type": "markdown",
   "metadata": {},
   "source": [
    "#### SCRIPT.PY:"
   ]
  },
  {
   "cell_type": "code",
   "execution_count": 2,
   "metadata": {},
   "outputs": [
    {
     "name": "stdout",
     "output_type": "stream",
     "text": [
      "(43857, 3)\n"
     ]
    }
   ],
   "source": [
    "import pandas as pd\n",
    "gapminder = pd.melt(pd.concat([pd.read_csv(\"g1800.csv\"), pd.read_csv(\"g1900.csv\"), pd.read_csv(\"g2000.csv\")], sort=False), id_vars=\"Life expectancy\")\n",
    "gapminder.columns = [\"country\", \"year\", \"life_expectancy\"]\n",
    "# Assert that country does not contain any missing values\n",
    "assert pd.notnull(gapminder.country).all()\n",
    "\n",
    "# Assert that year does not contain any missing values\n",
    "assert pd.notnull(gapminder.year).all()\n",
    "\n",
    "# Drop the missing values\n",
    "gapminder = gapminder.dropna()\n",
    "\n",
    "# Print the shape of gapminder\n",
    "print(gapminder.shape)\n"
   ]
  }
 ],
 "metadata": {
  "kernelspec": {
   "display_name": "Python 3",
   "language": "python",
   "name": "python3"
  },
  "language_info": {
   "codemirror_mode": {
    "name": "ipython",
    "version": 3
   },
   "file_extension": ".py",
   "mimetype": "text/x-python",
   "name": "python",
   "nbconvert_exporter": "python",
   "pygments_lexer": "ipython3",
   "version": "3.6.7"
  }
 },
 "nbformat": 4,
 "nbformat_minor": 2
}
