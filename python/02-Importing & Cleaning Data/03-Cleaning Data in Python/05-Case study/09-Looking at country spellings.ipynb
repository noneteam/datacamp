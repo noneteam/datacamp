{
 "cells": [
  {
   "cell_type": "markdown",
   "metadata": {},
   "source": [
    "# Looking at country spellings"
   ]
  },
  {
   "cell_type": "markdown",
   "metadata": {},
   "source": [
    "#### EXERCISE:\n",
    "Having tidied your DataFrame and checked the data types, your next task in the data cleaning process is to look at the <code>'country'</code> column to see if there are any special or invalid characters you may need to deal with.\n",
    "\n",
    "It is reasonable to assume that country names will contain:\n",
    "\n",
    "* The set of lower and upper case letters.\n",
    "* Whitespace between words.\n",
    "* Periods for any abbreviations.\n",
    "\n",
    "To confirm that this is the case, you can leverage the power of regular expressions again. For common operations like this, Pandas has a built-in string method - <code>str.contains()</code> - which takes a regular expression pattern, and applies it to the Series, returning\n",
    "<code>True</code> if there is a match, and <code>False</code> otherwise.\n",
    "\n",
    "Since here you want to find the values that do <em>not</em> match, you have to invert the boolean, which can be done using <code>~</code>. This Boolean series can then be used to get the Series of countries that have invalid names."
   ]
  },
  {
   "cell_type": "markdown",
   "metadata": {},
   "source": [
    "#### INSTRUCTIONS:\n",
    "* Create a Series called <code>countries</code> consisting of the <code>'country'</code> column of <code>gapminder</code>.\n",
    "* Drop all duplicates from <code>countries</code> using the <code>.drop_duplicates()</code> method.\n",
    "* Write a regular expression that tests your assumptions of what characters belong in <code>countries</code>:\n",
    " * Anchor the pattern to match exactly what you want by placing a <code>^</code> in the beginning and <code>$</code> in the end.\n",
    " * Use <code>A-Za-z</code> to match the set of lower and upper case letters, <code>\\.</code> to match periods, and <code>\\s</code> to match whitespace between words.\n",
    "* Use <code>str.contains()</code> to create a Boolean vector representing values that match the pattern.\n",
    "* Invert the mask by placing a <code>~</code> before it.\n",
    "* Subset the <code>countries</code> series using the <code>.loc[]</code> accessor and <code>mask_inverse</code>. Then hit 'Submit Answer' to see the invalid country names!"
   ]
  },
  {
   "cell_type": "markdown",
   "metadata": {},
   "source": [
    "#### SCRIPT.PY:"
   ]
  },
  {
   "cell_type": "code",
   "execution_count": null,
   "metadata": {},
   "outputs": [],
   "source": [
    "# Create the series of countries: countries\n",
    "countries = ____\n",
    "\n",
    "# Drop all the duplicates from countries\n",
    "countries = ____\n",
    "\n",
    "# Write the regular expression: pattern\n",
    "pattern = '^[____]*$'\n",
    "\n",
    "# Create the Boolean vector: mask\n",
    "mask = countries.str.contains(____)\n",
    "\n",
    "# Invert the mask: mask_inverse\n",
    "mask_inverse = ____\n",
    "\n",
    "# Subset countries using mask_inverse: invalid_countries\n",
    "invalid_countries = ____\n",
    "\n",
    "# Print invalid_countries\n",
    "print(invalid_countries)\n"
   ]
  }
 ],
 "metadata": {
  "kernelspec": {
   "display_name": "Python 3",
   "language": "python",
   "name": "python3"
  },
  "language_info": {
   "codemirror_mode": {
    "name": "ipython",
    "version": 3
   },
   "file_extension": ".py",
   "mimetype": "text/x-python",
   "name": "python",
   "nbconvert_exporter": "python",
   "pygments_lexer": "ipython3",
   "version": "3.6.7"
  }
 },
 "nbformat": 4,
 "nbformat_minor": 2
}
