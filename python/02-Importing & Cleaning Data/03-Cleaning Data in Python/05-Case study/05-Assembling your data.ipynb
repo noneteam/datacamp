{
 "cells": [
  {
   "cell_type": "markdown",
   "metadata": {},
   "source": [
    "# Assembling your data"
   ]
  },
  {
   "cell_type": "markdown",
   "metadata": {},
   "source": [
    "#### EXERCISE:\n",
    "Here, three DataFrames have been pre-loaded: <code>g1800s</code>, <code>g1900s</code>, and <code>g2000s</code>. These contain the Gapminder life expectancy data for, respectively, the 19th century, the 20th century, and the 21st century.\n",
    "\n",
    "Your task in this exercise is to concatenate them into a single DataFrame called <code>gapminder</code>. This is a row-wise concatenation, similar to how you concatenated the monthly Uber datasets in Chapter 3."
   ]
  },
  {
   "cell_type": "markdown",
   "metadata": {},
   "source": [
    "#### INSTRUCTIONS:\n",
    "* Use <code>pd.concat()</code> to concatenate <code>g1800s</code>, <code>g1900s</code>, and <code>g2000s</code> into one DataFrame called <code>gapminder</code>. Make sure you pass DataFrames to <code>pd.concat()</code> in the form of a list.\n",
    "* Print the shape and the head of the concatenated DataFrame."
   ]
  },
  {
   "cell_type": "markdown",
   "metadata": {},
   "source": [
    "#### SCRIPT.PY:"
   ]
  },
  {
   "cell_type": "code",
   "execution_count": null,
   "metadata": {},
   "outputs": [],
   "source": [
    "# Concatenate the DataFrames row-wise\n",
    "gapminder = ____\n",
    "\n",
    "# Print the shape of gapminder\n",
    "print(____)\n",
    "\n",
    "# Print the head of gapminder\n",
    "print(____)\n"
   ]
  }
 ],
 "metadata": {
  "kernelspec": {
   "display_name": "Python 3",
   "language": "python",
   "name": "python3"
  },
  "language_info": {
   "codemirror_mode": {
    "name": "ipython",
    "version": 3
   },
   "file_extension": ".py",
   "mimetype": "text/x-python",
   "name": "python",
   "nbconvert_exporter": "python",
   "pygments_lexer": "ipython3",
   "version": "3.6.7"
  }
 },
 "nbformat": 4,
 "nbformat_minor": 2
}
