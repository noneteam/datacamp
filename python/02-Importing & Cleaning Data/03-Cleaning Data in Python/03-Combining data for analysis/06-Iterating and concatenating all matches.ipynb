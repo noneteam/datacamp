{
 "cells": [
  {
   "cell_type": "markdown",
   "metadata": {},
   "source": [
    "# Iterating and concatenating all matches"
   ]
  },
  {
   "cell_type": "markdown",
   "metadata": {},
   "source": [
    "#### EXERCISE:\n",
    "Now that you have a list of filenames to load,\n",
    "you can load all the files into a list of DataFrames that can then be concatenated.\n",
    "\n",
    "You'll start with an empty list called <code>frames</code>. Your job is to use a <code>for</code> loop to:\n",
    "\n",
    "1. iterate through each of the filenames\n",
    "2. read each filename into a DataFrame, and then\n",
    "3. append it to the <code>frames</code> list.\n",
    "\n",
    "You can then concatenate this list of DataFrames using <code>pd.concat()</code>. Go for it!"
   ]
  },
  {
   "cell_type": "markdown",
   "metadata": {},
   "source": [
    "#### INSTRUCTIONS:\n",
    "* Write a <code>for</code> loop to iterate through <code>csv_files</code>:\n",
    " * In each iteration of the loop, read <code>csv</code> into a DataFrame called <code>df</code>.\n",
    " * After creating <code>df</code>, append it to the list <code>frames</code> using the <code>.append()</code> method.\n",
    "* Concatenate <code>frames</code> into a single DataFrame called <code>uber</code>.\n",
    "* Hit 'Submit Answer' to see the head and shape of the concatenated DataFrame!"
   ]
  },
  {
   "cell_type": "markdown",
   "metadata": {},
   "source": [
    "#### SCRIPT.PY:"
   ]
  },
  {
   "cell_type": "code",
   "execution_count": null,
   "metadata": {},
   "outputs": [],
   "source": [
    "# Create an empty list: frames\n",
    "frames = []\n",
    "\n",
    "#  Iterate over csv_files\n",
    "for csv in ____:\n",
    "\n",
    "    #  Read csv into a DataFrame: df\n",
    "    df = ____\n",
    "    \n",
    "    # Append df to frames\n",
    "    ____.____\n",
    "\n",
    "# Concatenate frames into a single DataFrame: uber\n",
    "uber = ____\n",
    "\n",
    "# Print the shape of uber\n",
    "print(uber.shape)\n",
    "\n",
    "# Print the head of uber\n",
    "print(uber.head())\n"
   ]
  }
 ],
 "metadata": {
  "kernelspec": {
   "display_name": "Python 3",
   "language": "python",
   "name": "python3"
  },
  "language_info": {
   "codemirror_mode": {
    "name": "ipython",
    "version": 3
   },
   "file_extension": ".py",
   "mimetype": "text/x-python",
   "name": "python",
   "nbconvert_exporter": "python",
   "pygments_lexer": "ipython3",
   "version": "3.6.7"
  }
 },
 "nbformat": 4,
 "nbformat_minor": 2
}
