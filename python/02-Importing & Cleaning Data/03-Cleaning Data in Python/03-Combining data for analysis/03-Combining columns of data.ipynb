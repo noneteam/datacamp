{
 "cells": [
  {
   "cell_type": "markdown",
   "metadata": {},
   "source": [
    "# Combining columns of data"
   ]
  },
  {
   "cell_type": "markdown",
   "metadata": {},
   "source": [
    "#### EXERCISE:\n",
    "Think of column-wise concatenation of data as stitching data together from the sides instead of the top and bottom.\n",
    "To perform this action, you use the same <code>pd.concat()</code> function, but this time with the keyword argument <code>axis=1</code>. The default, <code>axis=0</code>, is for a row-wise concatenation.\n",
    "\n",
    "You'll return to the <a href=\"https://data.humdata.org/dataset/ebola-cases-2014\" target=\"_blank\">Ebola dataset</a> you worked with briefly in the last chapter. It has been pre-loaded into\n",
    "a DataFrame called <code>ebola_melt</code>. In this DataFrame, the status and country of a patient is contained in a single column. \n",
    "This column has been parsed into a new DataFrame, <code>status_country</code>, where there are separate columns for status and country.\n",
    "\n",
    "Explore the <code>ebola_melt</code> and <code>status_country</code> DataFrames in the IPython Shell. Your job is to concatenate them column-wise in order to obtain a final, clean DataFrame."
   ]
  },
  {
   "cell_type": "markdown",
   "metadata": {},
   "source": [
    "#### INSTRUCTIONS:\n",
    "* Concatenate <code>ebola_melt</code> and <code>status_country</code> column-wise into a single DataFrame called <code>ebola_tidy</code>. Be sure to specify <code>axis=1</code> and to pass the two DataFrames in as a list.\n",
    "* Print the shape and then the head of the concatenated DataFrame, <code>ebola_tidy</code>."
   ]
  },
  {
   "cell_type": "markdown",
   "metadata": {},
   "source": [
    "#### SCRIPT.PY:"
   ]
  },
  {
   "cell_type": "code",
   "execution_count": null,
   "metadata": {},
   "outputs": [],
   "source": [
    "# Concatenate ebola_melt and status_country column-wise: ebola_tidy\n",
    "ebola_tidy = ____\n",
    "\n",
    "# Print the shape of ebola_tidy\n",
    "print(____)\n",
    "\n",
    "# Print the head of ebola_tidy\n",
    "print(____)\n"
   ]
  }
 ],
 "metadata": {
  "kernelspec": {
   "display_name": "Python 3",
   "language": "python",
   "name": "python3"
  },
  "language_info": {
   "codemirror_mode": {
    "name": "ipython",
    "version": 3
   },
   "file_extension": ".py",
   "mimetype": "text/x-python",
   "name": "python",
   "nbconvert_exporter": "python",
   "pygments_lexer": "ipython3",
   "version": "3.6.7"
  }
 },
 "nbformat": 4,
 "nbformat_minor": 2
}
