{
 "cells": [
  {
   "cell_type": "markdown",
   "metadata": {},
   "source": [
    "# Many-to-many data merge"
   ]
  },
  {
   "cell_type": "markdown",
   "metadata": {},
   "source": [
    "#### EXERCISE:\n",
    "The final merging scenario occurs when both DataFrames do not have unique keys for a merge.\n",
    "What happens here is that for each duplicated key, every pairwise combination will be created.\n",
    "\n",
    "Two example DataFrames that share common key values have been pre-loaded: <code>df1</code> and <code>df2</code>. Another DataFrame <code>df3</code>,\n",
    "which is the result of <code>df1</code> merged with <code>df2</code>, has been pre-loaded. All three DataFrames have been  printed - look at the output and notice how pairwise combinations have been created. This example is to help you develop your intuition for many-to-many merges.\n",
    "\n",
    "Here, you'll work with the <code>site</code> and <code>visited</code> DataFrames from before, and a new <code>survey</code> DataFrame. Your task\n",
    "is to merge <code>site</code> and <code>visited</code> as you did in the earlier exercises. You will then merge this merged DataFrame with <code>survey</code>.\n",
    "\n",
    "Begin by exploring the <code>site</code>, <code>visited</code>, and <code>survey</code> DataFrames in the IPython Shell."
   ]
  },
  {
   "cell_type": "markdown",
   "metadata": {},
   "source": [
    "#### INSTRUCTIONS:\n",
    "* Merge the <code>site</code> and <code>visited</code> DataFrames on the <code>'name'</code> column of <code>site</code> and <code>'site'</code> column of <code>visited</code>, exactly as you did in the previous two exercises. Save the result as <code>m2m</code>.\n",
    "* Merge the <code>m2m</code> and <code>survey</code> DataFrames on the <code>'ident'</code> column of <code>m2m</code> and <code>'taken'</code> column of <code>survey</code>.\n",
    "* Hit 'Submit Answer' to print the first 20 lines of the merged DataFrame!"
   ]
  },
  {
   "cell_type": "markdown",
   "metadata": {},
   "source": [
    "#### SCRIPT.PY:"
   ]
  },
  {
   "cell_type": "code",
   "execution_count": 2,
   "metadata": {},
   "outputs": [
    {
     "name": "stdout",
     "output_type": "stream",
     "text": [
      "     name     lat     long  ident   site       dated  taken person quant  \\\n",
      "0    DR-1  -49.85  -128.57    619   DR-1  1927-02-08    619   dyer   rad   \n",
      "1    DR-1  -49.85  -128.57    619   DR-1  1927-02-08    619   dyer   sal   \n",
      "2    DR-1  -49.85  -128.57    622   DR-1  1927-02-10    622   dyer   rad   \n",
      "3    DR-1  -49.85  -128.57    622   DR-1  1927-02-10    622   dyer   sal   \n",
      "4    DR-1  -49.85  -128.57    844   DR-1  1932-03-22    844    roe   rad   \n",
      "5    DR-3  -47.15  -126.72    734   DR-3  1939-01-07    734     pb   rad   \n",
      "6    DR-3  -47.15  -126.72    734   DR-3  1939-01-07    734   lake   sal   \n",
      "7    DR-3  -47.15  -126.72    734   DR-3  1939-01-07    734     pb  temp   \n",
      "8    DR-3  -47.15  -126.72    735   DR-3  1930-01-12    735     pb   rad   \n",
      "9    DR-3  -47.15  -126.72    735   DR-3  1930-01-12    735          sal   \n",
      "10   DR-3  -47.15  -126.72    735   DR-3  1930-01-12    735         temp   \n",
      "11   DR-3  -47.15  -126.72    751   DR-3  1930-02-26    751     pb   rad   \n",
      "12   DR-3  -47.15  -126.72    751   DR-3  1930-02-26    751     pb  temp   \n",
      "13   DR-3  -47.15  -126.72    751   DR-3  1930-02-26    751   lake   sal   \n",
      "14   DR-3  -47.15  -126.72    752   DR-3                752   lake   rad   \n",
      "15   DR-3  -47.15  -126.72    752   DR-3                752   lake   sal   \n",
      "16   DR-3  -47.15  -126.72    752   DR-3                752   lake  temp   \n",
      "17   DR-3  -47.15  -126.72    752   DR-3                752    roe   sal   \n",
      "18  MSK-4  -48.87  -123.40    837  MSK-4  1932-01-14    837   lake   rad   \n",
      "19  MSK-4  -48.87  -123.40    837  MSK-4  1932-01-14    837   lake   sal   \n",
      "\n",
      "    reading  \n",
      "0      9.82  \n",
      "1      0.13  \n",
      "2      7.80  \n",
      "3      0.09  \n",
      "4     11.25  \n",
      "5      8.41  \n",
      "6      0.05  \n",
      "7    -21.50  \n",
      "8      7.22  \n",
      "9      0.06  \n",
      "10   -26.00  \n",
      "11     4.35  \n",
      "12   -18.50  \n",
      "13     0.10  \n",
      "14     2.19  \n",
      "15     0.09  \n",
      "16   -16.00  \n",
      "17    41.60  \n",
      "18     1.46  \n",
      "19     0.21  \n"
     ]
    }
   ],
   "source": [
    "import pandas as pd\n",
    "site = pd.DataFrame({\n",
    "    \"name\": [\"DR-1\", \"DR-3\", \"MSK-4\"],\n",
    "    \"lat\": [\"-49.85\", \"-47.15\", \"-48.87\"],\n",
    "    \"long\": [\"-128.57\", \"-126.72\", \"-123.40\"]\n",
    "})\n",
    "visited = pd.DataFrame({\n",
    "    \"ident\": [619, 622, 734, 735, 751, 752, 837, 844],\n",
    "    \"site\": [\"DR-1\", \"DR-1\", \"DR-3\", \"DR-3\", \"DR-3\", \"DR-3\", \"MSK-4\", \"DR-1\"],\n",
    "    \"dated\": [\"1927-02-08\", \"1927-02-10\", \"1939-01-07\", \"1930-01-12\", \"1930-02-26\", \"\", \"1932-01-14\", \"1932-03-22\"]\n",
    "})\n",
    "survey = pd.DataFrame({\n",
    "    \"taken\": [619, 619, 622, 622, 734, 734, 734, 735, 735, 735, 751, 751, 751, 752, 752, 752, 752, 837, 837, 837, 844],\n",
    "    \"person\": [\"dyer\", \"dyer\", \"dyer\", \"dyer\", \"pb\", \"lake\", \"pb\", \"pb\", \"\", \"\", \"pb\", \"pb\", \"lake\", \"lake\", \"lake\", \"lake\", \"roe\", \"lake\", \"lake\", \"roe\", \"roe\"],\n",
    "    \"quant\": [\"rad\", \"sal\", \"rad\", \"sal\", \"rad\", \"sal\", \"temp\", \"rad\", \"sal\", \"temp\", \"rad\", \"temp\", \"sal\", \"rad\", \"sal\", \"temp\", \"sal\", \"rad\", \"sal\", \"sal\", \"rad\"],\n",
    "    \"reading\": [9.82, 0.13, 7.8, 0.09, 8.41, 0.05, -21.5, 7.22, 0.06, -26, 4.35, -18.5, 0.1, 2.19, 0.09, -16, 41.6, 1.46, 0.21, 22.5, 11.25]\n",
    "})\n",
    "# Merge site and visited: m2m\n",
    "m2m = pd.merge(left=site, right=visited, left_on=\"name\", right_on=\"site\")\n",
    "\n",
    "# Merge m2m and survey: m2m\n",
    "m2m = pd.merge(left=m2m, right=survey, left_on=\"ident\", right_on=\"taken\")\n",
    "\n",
    "# Print the first 20 lines of m2m\n",
    "print(m2m.head(20))\n"
   ]
  }
 ],
 "metadata": {
  "kernelspec": {
   "display_name": "Python 3",
   "language": "python",
   "name": "python3"
  },
  "language_info": {
   "codemirror_mode": {
    "name": "ipython",
    "version": 3
   },
   "file_extension": ".py",
   "mimetype": "text/x-python",
   "name": "python",
   "nbconvert_exporter": "python",
   "pygments_lexer": "ipython3",
   "version": "3.6.7"
  }
 },
 "nbformat": 4,
 "nbformat_minor": 2
}
