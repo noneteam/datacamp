{
 "cells": [
  {
   "cell_type": "markdown",
   "metadata": {},
   "source": [
    "# Many-to-many data merge"
   ]
  },
  {
   "cell_type": "markdown",
   "metadata": {},
   "source": [
    "#### EXERCISE:\n",
    "The final merging scenario occurs when both DataFrames do not have unique keys for a merge.\n",
    "What happens here is that for each duplicated key, every pairwise combination will be created.\n",
    "\n",
    "Two example DataFrames that share common key values have been pre-loaded: <code>df1</code> and <code>df2</code>. Another DataFrame <code>df3</code>,\n",
    "which is the result of <code>df1</code> merged with <code>df2</code>, has been pre-loaded. All three DataFrames have been  printed - look at the output and notice how pairwise combinations have been created. This example is to help you develop your intuition for many-to-many merges.\n",
    "\n",
    "Here, you'll work with the <code>site</code> and <code>visited</code> DataFrames from before, and a new <code>survey</code> DataFrame. Your task\n",
    "is to merge <code>site</code> and <code>visited</code> as you did in the earlier exercises. You will then merge this merged DataFrame with <code>survey</code>.\n",
    "\n",
    "Begin by exploring the <code>site</code>, <code>visited</code>, and <code>survey</code> DataFrames in the IPython Shell."
   ]
  },
  {
   "cell_type": "markdown",
   "metadata": {},
   "source": [
    "#### INSTRUCTIONS:\n",
    "* Merge the <code>site</code> and <code>visited</code> DataFrames on the <code>'name'</code> column of <code>site</code> and <code>'site'</code> column of <code>visited</code>, exactly as you did in the previous two exercises. Save the result as <code>m2m</code>.\n",
    "* Merge the <code>m2m</code> and <code>survey</code> DataFrames on the <code>'ident'</code> column of <code>m2m</code> and <code>'taken'</code> column of <code>survey</code>.\n",
    "* Hit 'Submit Answer' to print the first 20 lines of the merged DataFrame!"
   ]
  },
  {
   "cell_type": "markdown",
   "metadata": {},
   "source": [
    "#### SCRIPT.PY:"
   ]
  },
  {
   "cell_type": "code",
   "execution_count": null,
   "metadata": {},
   "outputs": [],
   "source": [
    "# Merge site and visited: m2m\n",
    "m2m = ____(left=____, right=____, left_on=____, right_on=____)\n",
    "\n",
    "# Merge m2m and survey: m2m\n",
    "m2m = ____(left=____, right=____, left_on=____, right_on=____)\n",
    "\n",
    "# Print the first 20 lines of m2m\n",
    "print(m2m.head(20))\n"
   ]
  }
 ],
 "metadata": {
  "kernelspec": {
   "display_name": "Python 3",
   "language": "python",
   "name": "python3"
  },
  "language_info": {
   "codemirror_mode": {
    "name": "ipython",
    "version": 3
   },
   "file_extension": ".py",
   "mimetype": "text/x-python",
   "name": "python",
   "nbconvert_exporter": "python",
   "pygments_lexer": "ipython3",
   "version": "3.6.7"
  }
 },
 "nbformat": 4,
 "nbformat_minor": 2
}
