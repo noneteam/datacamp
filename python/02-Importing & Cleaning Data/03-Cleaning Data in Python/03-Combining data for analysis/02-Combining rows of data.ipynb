{
 "cells": [
  {
   "cell_type": "markdown",
   "metadata": {},
   "source": [
    "# Combining rows of data"
   ]
  },
  {
   "cell_type": "markdown",
   "metadata": {},
   "source": [
    "#### EXERCISE:\n",
    "The dataset you'll be working with here relates to <a href=\"http://data.beta.nyc/dataset/uber-trip-data-foiled-apr-sep-2014\" target=\"_blank\">NYC Uber data</a>.\n",
    "The original dataset has all the originating Uber pickup locations by time and latitude and longitude.\n",
    "For didactic purposes, you'll be working with a very small portion of the actual data.\n",
    "\n",
    "Three DataFrames have been pre-loaded: <code>uber1</code>, which contains data for April 2014, <code>uber2</code>, which contains data for May 2014, and <code>uber3</code>, which contains data for June 2014. Your job in this exercise is to concatenate these DataFrames together such that the resulting DataFrame has the data for all three months.\n",
    "\n",
    "Begin by exploring the structure of these three DataFrames in the IPython Shell using methods such as <code>.head()</code>."
   ]
  },
  {
   "cell_type": "markdown",
   "metadata": {},
   "source": [
    "#### INSTRUCTIONS:\n",
    "* Concatenate <code>uber1</code>, <code>uber2</code>, and <code>uber3</code> together using <code>pd.concat()</code>. You'll have to pass the DataFrames in as a list.\n",
    "* Print the shape and then the head of the concatenated DataFrame, <code>row_concat</code>."
   ]
  },
  {
   "cell_type": "markdown",
   "metadata": {},
   "source": [
    "#### SCRIPT.PY:"
   ]
  },
  {
   "cell_type": "code",
   "execution_count": null,
   "metadata": {},
   "outputs": [],
   "source": [
    "# Concatenate uber1, uber2, and uber3: row_concat\n",
    "row_concat = ____\n",
    "\n",
    "# Print the shape of row_concat\n",
    "print(____)\n",
    "\n",
    "# Print the head of row_concat\n",
    "print(____)\n"
   ]
  }
 ],
 "metadata": {
  "kernelspec": {
   "display_name": "Python 3",
   "language": "python",
   "name": "python3"
  },
  "language_info": {
   "codemirror_mode": {
    "name": "ipython",
    "version": 3
   },
   "file_extension": ".py",
   "mimetype": "text/x-python",
   "name": "python",
   "nbconvert_exporter": "python",
   "pygments_lexer": "ipython3",
   "version": "3.6.7"
  }
 },
 "nbformat": 4,
 "nbformat_minor": 2
}
