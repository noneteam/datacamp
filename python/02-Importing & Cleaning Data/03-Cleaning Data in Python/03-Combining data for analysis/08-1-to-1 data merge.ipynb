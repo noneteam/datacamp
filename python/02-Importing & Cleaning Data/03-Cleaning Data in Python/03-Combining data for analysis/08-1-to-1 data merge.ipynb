{
 "cells": [
  {
   "cell_type": "markdown",
   "metadata": {},
   "source": [
    "# 1-to-1 data merge"
   ]
  },
  {
   "cell_type": "markdown",
   "metadata": {},
   "source": [
    "#### EXERCISE:\n",
    "Merging data allows you to combine disparate datasets into a single dataset to do more complex analysis.\n",
    "\n",
    "Here, you'll be using survey data that contains readings that William Dyer, Frank Pabodie, and Valentina Roerich took in the late 1920 and 1930 while they were on an expedition towards Antarctica.\n",
    "The dataset was taken from a sqlite database from the <a href=\"http://swcarpentry.github.io/sql-novice-survey/\" target=\"_blank\">Software Carpentry SQL lesson</a>.\n",
    "\n",
    "Two DataFrames have been pre-loaded: <code>site</code> and <code>visited</code>. Explore them in the IPython Shell and take note of their structure and column names. Your task is to perform a 1-to-1 merge of these two DataFrames using the <code>'name'</code> column of <code>site</code> and the <code>'site'</code> column of <code>visited</code>."
   ]
  },
  {
   "cell_type": "markdown",
   "metadata": {},
   "source": [
    "#### INSTRUCTIONS:\n",
    "* Merge the <code>site</code> and <code>visited</code> DataFrames on the <code>'name'</code> column of <code>site</code> and <code>'site'</code> column of <code>visited</code>.\n",
    "* Print the merged DataFrame <code>o2o</code>."
   ]
  },
  {
   "cell_type": "markdown",
   "metadata": {},
   "source": [
    "#### SCRIPT.PY:"
   ]
  },
  {
   "cell_type": "code",
   "execution_count": 5,
   "metadata": {},
   "outputs": [
    {
     "name": "stdout",
     "output_type": "stream",
     "text": [
      "    name     lat     long  ident   site       dated\n",
      "0   DR-1  -49.85  -128.57    619   DR-1  1927-02-08\n",
      "1   DR-3  -47.15  -126.72    734   DR-3  1939-01-07\n",
      "2  MSK-4  -48.87  -123.40    837  MSK-4  1932-01-14\n"
     ]
    }
   ],
   "source": [
    "import pandas as pd\n",
    "site = pd.DataFrame({\n",
    "    \"name\": [\"DR-1\", \"DR-3\", \"MSK-4\"],\n",
    "    \"lat\": [\"-49.85\", \"-47.15\", \"-48.87\"],\n",
    "    \"long\": [\"-128.57\", \"-126.72\", \"-123.40\"]\n",
    "})\n",
    "visited = pd.DataFrame({\n",
    "    \"ident\": [619, 734, 837],\n",
    "    \"site\": [\"DR-1\", \"DR-3\", \"MSK-4\"],\n",
    "    \"dated\": [\"1927-02-08\", \"1939-01-07\", \"1932-01-14\"]\n",
    "})\n",
    "# Merge the DataFrames: o2o\n",
    "o2o = pd.merge(left=site, right=visited, left_on=\"name\", right_on=\"site\")\n",
    "\n",
    "# Print o2o\n",
    "print(o2o)\n"
   ]
  }
 ],
 "metadata": {
  "kernelspec": {
   "display_name": "Python 3",
   "language": "python",
   "name": "python3"
  },
  "language_info": {
   "codemirror_mode": {
    "name": "ipython",
    "version": 3
   },
   "file_extension": ".py",
   "mimetype": "text/x-python",
   "name": "python",
   "nbconvert_exporter": "python",
   "pygments_lexer": "ipython3",
   "version": "3.6.7"
  }
 },
 "nbformat": 4,
 "nbformat_minor": 2
}
