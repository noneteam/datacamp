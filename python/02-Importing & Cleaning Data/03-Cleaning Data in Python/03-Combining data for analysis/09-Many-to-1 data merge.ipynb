{
 "cells": [
  {
   "cell_type": "markdown",
   "metadata": {},
   "source": [
    "# Many-to-1 data merge"
   ]
  },
  {
   "cell_type": "markdown",
   "metadata": {},
   "source": [
    "#### EXERCISE:\n",
    "In a many-to-one (or one-to-many) merge, one of the values will be duplicated and recycled in the output.\n",
    "That is, one of the keys in the merge is not unique.\n",
    "\n",
    "Here, the two DataFrames <code>site</code> and <code>visited</code> have been pre-loaded once again.\n",
    "Note that this time, <code>visited</code> has multiple entries for the <code>site</code> column. Confirm this by exploring it in the IPython Shell.\n",
    "\n",
    "The <code>.merge()</code> method call is the same as the 1-to-1 merge from the previous exercise, but the data and output will be different."
   ]
  },
  {
   "cell_type": "markdown",
   "metadata": {},
   "source": [
    "#### INSTRUCTIONS:\n",
    "* Merge the <code>site</code> and <code>visited</code> DataFrames on the <code>'name'</code> column of <code>site</code> and <code>'site'</code> column of <code>visited</code>, exactly as you did in the previous exercise.\n",
    "* Print the merged DataFrame and then hit 'Submit Answer' to see the different output produced by this merge!"
   ]
  },
  {
   "cell_type": "markdown",
   "metadata": {},
   "source": [
    "#### SCRIPT.PY:"
   ]
  },
  {
   "cell_type": "code",
   "execution_count": 6,
   "metadata": {},
   "outputs": [
    {
     "name": "stdout",
     "output_type": "stream",
     "text": [
      "    name     lat     long  ident   site       dated\n",
      "0   DR-1  -49.85  -128.57    619   DR-1  1927-02-08\n",
      "1   DR-1  -49.85  -128.57    622   DR-1  1927-02-10\n",
      "2   DR-1  -49.85  -128.57    844   DR-1  1932-03-22\n",
      "3   DR-3  -47.15  -126.72    734   DR-3  1939-01-07\n",
      "4   DR-3  -47.15  -126.72    735   DR-3  1930-01-12\n",
      "5   DR-3  -47.15  -126.72    751   DR-3  1930-02-26\n",
      "6   DR-3  -47.15  -126.72    752   DR-3            \n",
      "7  MSK-4  -48.87  -123.40    837  MSK-4  1932-01-14\n"
     ]
    }
   ],
   "source": [
    "import pandas as pd\n",
    "site = pd.DataFrame({\n",
    "    \"name\": [\"DR-1\", \"DR-3\", \"MSK-4\"],\n",
    "    \"lat\": [\"-49.85\", \"-47.15\", \"-48.87\"],\n",
    "    \"long\": [\"-128.57\", \"-126.72\", \"-123.40\"]\n",
    "})\n",
    "visited = pd.DataFrame({\n",
    "    \"ident\": [619, 622, 734, 735, 751, 752, 837, 844],\n",
    "    \"site\": [\"DR-1\", \"DR-1\", \"DR-3\", \"DR-3\", \"DR-3\", \"DR-3\", \"MSK-4\", \"DR-1\"],\n",
    "    \"dated\": [\"1927-02-08\", \"1927-02-10\", \"1939-01-07\", \"1930-01-12\", \"1930-02-26\", \"\", \"1932-01-14\", \"1932-03-22\"]\n",
    "})\n",
    "# Merge the DataFrames: m2o\n",
    "m2o = pd.merge(left=site, right=visited, left_on=\"name\", right_on=\"site\")\n",
    "\n",
    "# Print m2o\n",
    "print(m2o)\n"
   ]
  }
 ],
 "metadata": {
  "kernelspec": {
   "display_name": "Python 3",
   "language": "python",
   "name": "python3"
  },
  "language_info": {
   "codemirror_mode": {
    "name": "ipython",
    "version": 3
   },
   "file_extension": ".py",
   "mimetype": "text/x-python",
   "name": "python",
   "nbconvert_exporter": "python",
   "pygments_lexer": "ipython3",
   "version": "3.6.7"
  }
 },
 "nbformat": 4,
 "nbformat_minor": 2
}
