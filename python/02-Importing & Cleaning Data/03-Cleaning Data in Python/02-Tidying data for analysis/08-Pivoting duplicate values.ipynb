{
 "cells": [
  {
   "cell_type": "markdown",
   "metadata": {},
   "source": [
    "# Pivoting duplicate values"
   ]
  },
  {
   "cell_type": "markdown",
   "metadata": {},
   "source": [
    "#### EXERCISE:\n",
    "So far, you've used the <code>.pivot_table()</code> method when there are multiple <code>index</code> values you want to hold constant during a pivot. In the video, Dan showed you how you can also use pivot tables to deal with duplicate values by providing an aggregation function through the <code>aggfunc</code> parameter. Here, you're going to combine both these uses of pivot tables.\n",
    "\n",
    "Let's say your data collection method accidentally duplicated your dataset. Such a dataset, in which each row is duplicated, has been pre-loaded as <code>airquality_dup</code>. In addition, the <code>airquality_melt</code> DataFrame from the previous exercise has been pre-loaded. Explore their shapes in the IPython Shell by accessing their <code>.shape</code> attributes to confirm the duplicate rows present in <code>airquality_dup</code>.\n",
    "\n",
    "You'll see that by using <code>.pivot_table()</code> and the <code>aggfunc</code> parameter, you can not only reshape your data, but also remove duplicates. Finally, you can then flatten the columns of the pivoted DataFrame using <code>.reset_index()</code>.\n",
    "\n",
    "NumPy and pandas have been imported as <code>np</code> and <code>pd</code> respectively."
   ]
  },
  {
   "cell_type": "markdown",
   "metadata": {},
   "source": [
    "#### INSTRUCTIONS:\n",
    "* Pivot <code>airquality_dup</code> by using <code>.pivot_table()</code> with the rows indexed by <code>'Month'</code> and <code>'Day'</code>, the columns indexed by <code>'measurement'</code>, and the values populated with <code>'reading'</code>. Use <code>np.mean</code> for the aggregation function.\n",
    "* Print the head of <code>airquality_pivot</code>.\n",
    "* Flatten <code>airquality_pivot</code> by resetting its index.\n",
    "* Print the head of <code>airquality_pivot</code> and then the original <code>airquality</code> DataFrame to compare their structure."
   ]
  },
  {
   "cell_type": "markdown",
   "metadata": {},
   "source": [
    "#### SCRIPT.PY:"
   ]
  },
  {
   "cell_type": "code",
   "execution_count": 2,
   "metadata": {},
   "outputs": [
    {
     "name": "stdout",
     "output_type": "stream",
     "text": [
      "measurement  Ozone  Solar.R  Temp  Wind\n",
      "Month Day                              \n",
      "5     1       41.0    190.0  67.0   7.4\n",
      "      2       36.0    118.0  72.0   8.0\n",
      "      3       12.0    149.0  74.0  12.6\n",
      "      4       18.0    313.0  62.0  11.5\n",
      "      5        NaN      NaN  56.0  14.3\n",
      "measurement  Month  Day  Ozone  Solar.R  Temp  Wind\n",
      "0                5    1   41.0    190.0  67.0   7.4\n",
      "1                5    2   36.0    118.0  72.0   8.0\n",
      "2                5    3   12.0    149.0  74.0  12.6\n",
      "3                5    4   18.0    313.0  62.0  11.5\n",
      "4                5    5    NaN      NaN  56.0  14.3\n",
      "   Ozone  Solar.R  Wind  Temp  Month  Day\n",
      "0   41.0    190.0   7.4    67      5    1\n",
      "1   36.0    118.0   8.0    72      5    2\n",
      "2   12.0    149.0  12.6    74      5    3\n",
      "3   18.0    313.0  11.5    62      5    4\n",
      "4    NaN      NaN  14.3    56      5    5\n"
     ]
    }
   ],
   "source": [
    "import pandas as pd\n",
    "import numpy as np\n",
    "airquality_dup = pd.read_csv(\"airquality_dup.csv\")\n",
    "airquality = pd.read_csv(\"airquality.csv\")\n",
    "airquality_melt = pd.melt(airquality, id_vars=['Month', 'Day'], var_name=\"measurement\", value_name=\"reading\")\n",
    "# Pivot table the airquality_dup: airquality_pivot\n",
    "airquality_pivot = airquality_dup.pivot_table(index=[\"Month\", \"Day\"], columns=\"measurement\", values=\"reading\", aggfunc=np.mean)\n",
    "\n",
    "# Print the head of airquality_pivot before reset_index\n",
    "print(airquality_pivot.head())\n",
    "\n",
    "# Reset the index of airquality_pivot\n",
    "airquality_pivot = airquality_pivot.reset_index()\n",
    "\n",
    "# Print the head of airquality_pivot\n",
    "print(airquality_pivot.head())\n",
    "\n",
    "# Print the head of airquality\n",
    "print(airquality.head())\n"
   ]
  }
 ],
 "metadata": {
  "kernelspec": {
   "display_name": "Python 3",
   "language": "python",
   "name": "python3"
  },
  "language_info": {
   "codemirror_mode": {
    "name": "ipython",
    "version": 3
   },
   "file_extension": ".py",
   "mimetype": "text/x-python",
   "name": "python",
   "nbconvert_exporter": "python",
   "pygments_lexer": "ipython3",
   "version": "3.6.7"
  }
 },
 "nbformat": 4,
 "nbformat_minor": 2
}
