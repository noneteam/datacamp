{
 "cells": [
  {
   "cell_type": "markdown",
   "metadata": {},
   "source": [
    "# Splitting a column with .str"
   ]
  },
  {
   "cell_type": "markdown",
   "metadata": {},
   "source": [
    "#### EXERCISE:\n",
    "The dataset you saw in the video, consisting of case counts of tuberculosis by country, year, gender, and age group, has been pre-loaded into a DataFrame as <code>tb</code>.\n",
    "\n",
    "In this exercise, you're going to tidy the <code>'m014'</code> column, which represents males aged 0-14 years of age.\n",
    "In order to parse this value, you need to extract the first letter into a new column for <code>gender</code>, and the rest into a column for <code>age_group</code>.\n",
    "Here, since you can parse values by position, you can take advantage of pandas' vectorized string slicing by using the <code>str</code> attribute of columns of type <code>object</code>.\n",
    "\n",
    "Begin by printing the columns of <code>tb</code> in the IPython Shell using its <code>.columns</code> attribute, and take note of the problematic column."
   ]
  },
  {
   "cell_type": "markdown",
   "metadata": {},
   "source": [
    "#### INSTRUCTIONS:\n",
    "* Melt <code>tb</code> keeping <code>'country'</code> and <code>'year'</code> fixed.\n",
    "* Create a <code>'gender'</code> column by slicing the first letter of the <code>variable</code> column of <code>tb_melt</code>.\n",
    "* Create an <code>'age_group'</code> column by slicing the rest of the <code>variable</code> column of <code>tb_melt</code>.\n",
    "* Print the head of <code>tb_melt</code>. This has been done for you, so hit 'Submit Answer' to see the results!"
   ]
  },
  {
   "cell_type": "markdown",
   "metadata": {},
   "source": [
    "#### SCRIPT.PY:"
   ]
  },
  {
   "cell_type": "code",
   "execution_count": null,
   "metadata": {},
   "outputs": [],
   "source": [
    "# Melt tb: tb_melt\n",
    "tb_melt = ____(____, id_vars=[____, ____])\n",
    "\n",
    "# Create the 'gender' column\n",
    "tb_melt['gender'] = tb_melt.variable.str[____]\n",
    "\n",
    "# Create the 'age_group' column\n",
    "tb_melt['age_group'] = ____\n",
    "\n",
    "# Print the head of tb_melt\n",
    "print(tb_melt.head())\n"
   ]
  }
 ],
 "metadata": {
  "kernelspec": {
   "display_name": "Python 3",
   "language": "python",
   "name": "python3"
  },
  "language_info": {
   "codemirror_mode": {
    "name": "ipython",
    "version": 3
   },
   "file_extension": ".py",
   "mimetype": "text/x-python",
   "name": "python",
   "nbconvert_exporter": "python",
   "pygments_lexer": "ipython3",
   "version": "3.6.7"
  }
 },
 "nbformat": 4,
 "nbformat_minor": 2
}
