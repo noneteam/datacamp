{
 "cells": [
  {
   "cell_type": "markdown",
   "metadata": {},
   "source": [
    "# Reshaping your data using melt"
   ]
  },
  {
   "cell_type": "markdown",
   "metadata": {},
   "source": [
    "#### EXERCISE:\n",
    "Melting data is the process of turning columns of your data into rows of data. Consider the DataFrames from the previous exercise. In the tidy DataFrame, the variables <code>Ozone</code>, <code>Solar.R</code>, <code>Wind</code>, and <code>Temp</code> each had their own column.\n",
    "If, however, you wanted these variables to be in rows instead, you could melt the DataFrame. In doing so, however, you would make the data untidy! This is important to keep in mind: Depending on how your data is represented, you will have to reshape it differently (e.g., this could make it easier to plot values).\n",
    "\n",
    "In this exercise, you will practice melting a DataFrame using <code>pd.melt()</code>. There are two parameters you should be aware of: <code>id_vars</code> and <code>value_vars</code>.\n",
    "The <code>id_vars</code> represent the columns of the data you <strong>do not</strong> want to melt (i.e., keep it in its current shape), while the <code>value_vars</code> represent the columns you <strong>do</strong> wish to melt into rows.  By default, if no <code>value_vars</code> are provided, all columns not set in the <code>id_vars</code> will be melted. This could save a bit of typing, depending on the number of columns that need to be melted.\n",
    "\n",
    "The (tidy) DataFrame <code>airquality</code> has been pre-loaded. Your job is to melt its <code>Ozone</code>, <code>Solar.R</code>, <code>Wind</code>, and <code>Temp</code> columns into rows. Later in this chapter, you'll learn how to bring this melted DataFrame back into a tidy form."
   ]
  },
  {
   "cell_type": "markdown",
   "metadata": {},
   "source": [
    "#### INSTRUCTIONS:\n",
    "* Print the head of <code>airquality</code>.\n",
    "* Use <code>pd.melt()</code> to melt the <code>Ozone</code>, <code>Solar.R</code>, <code>Wind</code>, and <code>Temp</code> columns of <code>airquality</code> into rows. Do this by using <code>id_vars</code> to specify the columns you <strong>do not</strong> wish to melt: <code>'Month'</code> and <code>'Day'</code>.\n",
    "* Print the head of <code>airquality_melt</code>."
   ]
  },
  {
   "cell_type": "markdown",
   "metadata": {},
   "source": [
    "#### SCRIPT.PY:"
   ]
  },
  {
   "cell_type": "code",
   "execution_count": null,
   "metadata": {},
   "outputs": [],
   "source": [
    "# Print the head of airquality\n",
    "print(____)\n",
    "\n",
    "# Melt airquality: airquality_melt\n",
    "airquality_melt = ____(____, ____=[____, ____])\n",
    "\n",
    "# Print the head of airquality_melt\n",
    "print(____)\n"
   ]
  }
 ],
 "metadata": {
  "kernelspec": {
   "display_name": "Python 3",
   "language": "python",
   "name": "python3"
  },
  "language_info": {
   "codemirror_mode": {
    "name": "ipython",
    "version": 3
   },
   "file_extension": ".py",
   "mimetype": "text/x-python",
   "name": "python",
   "nbconvert_exporter": "python",
   "pygments_lexer": "ipython3",
   "version": "3.6.7"
  }
 },
 "nbformat": 4,
 "nbformat_minor": 2
}
