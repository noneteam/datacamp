{
 "cells": [
  {
   "cell_type": "markdown",
   "metadata": {},
   "source": [
    "# Pivot data"
   ]
  },
  {
   "cell_type": "markdown",
   "metadata": {},
   "source": [
    "#### EXERCISE:\n",
    "Pivoting data is the opposite of melting it. Remember the tidy form that the <code>airquality</code> DataFrame was in before you melted it? You'll now begin pivoting it back into that form using the <code>.pivot_table()</code> method!\n",
    "\n",
    "While melting takes a set of columns and turns it into a single column, pivoting will create a new column for each unique value in a specified column.\n",
    "\n",
    "<code>.pivot_table()</code> has an <code>index</code> parameter which you can use to specify the columns that you <em>don't</em> want pivoted: It is similar to the <code>id_vars</code> parameter of <code>pd.melt()</code>. Two other parameters that you have to specify are <code>columns</code> (the name of the column you want to pivot), and <code>values</code> (the values to be used when the column is pivoted). The melted DataFrame <code>airquality_melt</code> has been pre-loaded for you."
   ]
  },
  {
   "cell_type": "markdown",
   "metadata": {},
   "source": [
    "#### INSTRUCTIONS:\n",
    "* Print the head of <code>airquality_melt</code>.\n",
    "* Pivot <code>airquality_melt</code> by using <code>.pivot_table()</code> with the rows indexed by <code>'Month'</code> and <code>'Day'</code>, the columns indexed by <code>'measurement'</code>, and the values populated with <code>'reading'</code>.\n",
    "* Print the head of <code>airquality_pivot</code>."
   ]
  },
  {
   "cell_type": "markdown",
   "metadata": {},
   "source": [
    "#### SCRIPT.PY:"
   ]
  },
  {
   "cell_type": "code",
   "execution_count": null,
   "metadata": {},
   "outputs": [],
   "source": [
    "# Print the head of airquality_melt\n",
    "print(____)\n",
    "\n",
    "# Pivot airquality_melt: airquality_pivot\n",
    "airquality_pivot = ____(index=[____, ____], columns=____, values=____)\n",
    "\n",
    "# Print the head of airquality_pivot\n",
    "print(____)\n"
   ]
  }
 ],
 "metadata": {
  "kernelspec": {
   "display_name": "Python 3",
   "language": "python",
   "name": "python3"
  },
  "language_info": {
   "codemirror_mode": {
    "name": "ipython",
    "version": 3
   },
   "file_extension": ".py",
   "mimetype": "text/x-python",
   "name": "python",
   "nbconvert_exporter": "python",
   "pygments_lexer": "ipython3",
   "version": "3.6.7"
  }
 },
 "nbformat": 4,
 "nbformat_minor": 2
}
