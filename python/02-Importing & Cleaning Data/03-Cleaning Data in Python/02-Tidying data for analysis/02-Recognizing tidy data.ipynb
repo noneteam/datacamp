{
 "cells": [
  {
   "cell_type": "markdown",
   "metadata": {},
   "source": [
    "# Recognizing tidy data"
   ]
  },
  {
   "cell_type": "markdown",
   "metadata": {},
   "source": [
    "#### QUESTION:\n",
    "For data to be tidy, it must have:\n",
    "\n",
    "* Each variable as a separate column.\n",
    "* Each row as a separate observation.\n",
    "\n",
    "As a data scientist, you'll encounter data that is represented in a variety\n",
    "of different ways, so it is important to be able to recognize tidy (or untidy) data when you see it.\n",
    "\n",
    "In this exercise, two example datasets have been pre-loaded into the DataFrames <code>df1</code> and <code>df2</code>. Only one of them is tidy. Your job is to explore these further in the IPython Shell and identify the one that is <strong>not</strong> tidy, and <em>why</em> it is not tidy.\n",
    "\n",
    "In the rest of this course, you will frequently be asked to explore the structure of DataFrames in the IPython Shell prior to performing different operations on them. Doing this will not only strengthen your comprehension of the data cleaning concepts covered in this course, but will also help you realize and take advantage of the relationship between working in the Shell and in the script."
   ]
  },
  {
   "cell_type": "markdown",
   "metadata": {},
   "source": [
    "#### POSSIBLE ANSWERS:\n",
    "* <code>df2</code>; the rows are not all separate observations.\n",
    "* <code>df1</code>; each variable is not a separate column.\n",
    "* <code>df2</code>; each variable is not a separate column.\n",
    "* <code>df1</code>; the rows are not all separate observations."
   ]
  }
 ],
 "metadata": {
  "kernelspec": {
   "display_name": "Python 3",
   "language": "python",
   "name": "python3"
  },
  "language_info": {
   "codemirror_mode": {
    "name": "ipython",
    "version": 3
   },
   "file_extension": ".py",
   "mimetype": "text/x-python",
   "name": "python",
   "nbconvert_exporter": "python",
   "pygments_lexer": "ipython3",
   "version": "3.6.7"
  }
 },
 "nbformat": 4,
 "nbformat_minor": 2
}
