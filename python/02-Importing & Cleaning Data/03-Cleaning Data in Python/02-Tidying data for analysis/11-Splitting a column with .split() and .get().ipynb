{
 "cells": [
  {
   "cell_type": "markdown",
   "metadata": {},
   "source": [
    "# Splitting a column with .split() and .get()"
   ]
  },
  {
   "cell_type": "markdown",
   "metadata": {},
   "source": [
    "#### EXERCISE:\n",
    "Another common way <strong>multiple variables are stored in columns</strong> is with a delimiter. You'll learn how to deal with such cases in this exercise,\n",
    "using a <a href=\"https://data.humdata.org/dataset/ebola-cases-2014\" target=\"_blank\">dataset consisting of Ebola cases and death counts by state and country</a>. It has been pre-loaded into a DataFrame as <code>ebola</code>.\n",
    "\n",
    "Print the columns of <code>ebola</code> in the IPython Shell using <code>ebola.columns</code>. Notice that the data has column names such as <code>Cases_Guinea</code> and <code>Deaths_Guinea</code>. Here,\n",
    "the underscore <code>_</code> serves as a delimiter between the first part (cases or deaths), and the second part (country).\n",
    "\n",
    "This time, you cannot directly slice the variable by position as in the previous exercise. You now need to use Python's built-in string method called <code>.split()</code>. By default,\n",
    "this method will split a string into parts separated by a space. However, in this case you want it to split by an underscore. You can do this on <code>Cases_Guinea</code>, for example,\n",
    "using <code>Cases_Guinea.split('_')</code>, which returns the list <code>['Cases', 'Guinea']</code>.\n",
    "\n",
    "The next challenge is to extract the first element of this list and assign it to a <code>type</code> variable, and the second element of the list to a <code>country</code> variable. You can accomplish this by accessing the <code>str</code> attribute of the column and using the <code>.get()</code> method to retrieve the <code>0</code> or <code>1</code> index, depending on the part you want."
   ]
  },
  {
   "cell_type": "markdown",
   "metadata": {},
   "source": [
    "#### INSTRUCTIONS:\n",
    "* Melt <code>ebola</code> using <code>'Date'</code> and <code>'Day'</code> as the <code>id_vars</code>, <code>'type_country'</code> as the <code>var_name</code>, and <code>'counts'</code> as the <code>value_name</code>.\n",
    "* Create a column called <code>'str_split'</code> by splitting the <code>'type_country'</code> column of <code>ebola_melt</code> on <code>'\\_'</code>. Note that you will first have to access the <code>str</code> attribute of <code>type_country</code> before you can use <code>.split()</code>.\n",
    "* Create a column called <code>'type'</code> by using the <code>.get()</code> method to retrieve index <code>0</code> of the <code>'str_split'</code> column of <code>ebola_melt</code>.\n",
    "* Create a column called <code>'country'</code> by using the <code>.get()</code> method to retrieve index <code>1</code> of the <code>'str_split'</code> column of <code>ebola_melt</code>.\n",
    "* Print the head of <code>ebola</code>. This has been done for you, so hit 'Submit Answer' to view the results!"
   ]
  },
  {
   "cell_type": "markdown",
   "metadata": {},
   "source": [
    "#### SCRIPT.PY:"
   ]
  },
  {
   "cell_type": "code",
   "execution_count": 22,
   "metadata": {},
   "outputs": [
    {
     "name": "stdout",
     "output_type": "stream",
     "text": [
      "         Date  Day  Cases_Guinea  Cases_Liberia  Cases_SierraLeone  \\\n",
      "0    1/5/2015  289        2776.0            NaN            10030.0   \n",
      "1    1/4/2015  288        2775.0            NaN             9780.0   \n",
      "2    1/3/2015  287        2769.0         8166.0             9722.0   \n",
      "3    1/2/2015  286           NaN         8157.0                NaN   \n",
      "4  12/31/2014  284        2730.0         8115.0             9633.0   \n",
      "\n",
      "   Cases_Nigeria  Cases_Senegal  Cases_UnitedStates  Cases_Spain  Cases_Mali  \\\n",
      "0            NaN            NaN                 NaN          NaN         NaN   \n",
      "1            NaN            NaN                 NaN          NaN         NaN   \n",
      "2            NaN            NaN                 NaN          NaN         NaN   \n",
      "3            NaN            NaN                 NaN          NaN         NaN   \n",
      "4            NaN            NaN                 NaN          NaN         NaN   \n",
      "\n",
      "   Deaths_Guinea  Deaths_Liberia  Deaths_SierraLeone  Deaths_Nigeria  \\\n",
      "0         1786.0             NaN              2977.0             NaN   \n",
      "1         1781.0             NaN              2943.0             NaN   \n",
      "2         1767.0          3496.0              2915.0             NaN   \n",
      "3            NaN          3496.0                 NaN             NaN   \n",
      "4         1739.0          3471.0              2827.0             NaN   \n",
      "\n",
      "   Deaths_Senegal  Deaths_UnitedStates  Deaths_Spain  Deaths_Mali  \n",
      "0             NaN                  NaN           NaN          NaN  \n",
      "1             NaN                  NaN           NaN          NaN  \n",
      "2             NaN                  NaN           NaN          NaN  \n",
      "3             NaN                  NaN           NaN          NaN  \n",
      "4             NaN                  NaN           NaN          NaN  \n",
      "         Date  Day  type_country  counts        str_split   type country\n",
      "0    1/5/2015  289  Cases_Guinea  2776.0  [Cases, Guinea]  Cases  Guinea\n",
      "1    1/4/2015  288  Cases_Guinea  2775.0  [Cases, Guinea]  Cases  Guinea\n",
      "2    1/3/2015  287  Cases_Guinea  2769.0  [Cases, Guinea]  Cases  Guinea\n",
      "3    1/2/2015  286  Cases_Guinea     NaN  [Cases, Guinea]  Cases  Guinea\n",
      "4  12/31/2014  284  Cases_Guinea  2730.0  [Cases, Guinea]  Cases  Guinea\n"
     ]
    }
   ],
   "source": [
    "import pandas as pd\n",
    "ebola = pd.read_csv(\"ebola.csv\")\n",
    "# Melt ebola: ebola_melt\n",
    "ebola_melt = pd.melt(ebola, id_vars=[\"Date\", \"Day\"], var_name=\"type_country\", value_name=\"counts\")\n",
    "\n",
    "# Create the 'str_split' column\n",
    "ebola_melt['str_split'] = ebola_melt[\"type_country\"].str.split(\"_\")\n",
    "\n",
    "# Create the 'type' column\n",
    "ebola_melt['type'] = ebola_melt['str_split'].str.get(0)\n",
    "\n",
    "# Create the 'country' column\n",
    "ebola_melt['country'] = ebola_melt['str_split'].str.get(1)\n",
    "\n",
    "# Print the head of ebola_melt\n",
    "print(ebola_melt.head())\n"
   ]
  }
 ],
 "metadata": {
  "kernelspec": {
   "display_name": "Python 3",
   "language": "python",
   "name": "python3"
  },
  "language_info": {
   "codemirror_mode": {
    "name": "ipython",
    "version": 3
   },
   "file_extension": ".py",
   "mimetype": "text/x-python",
   "name": "python",
   "nbconvert_exporter": "python",
   "pygments_lexer": "ipython3",
   "version": "3.6.7"
  }
 },
 "nbformat": 4,
 "nbformat_minor": 2
}
