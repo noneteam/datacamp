{
 "cells": [
  {
   "cell_type": "markdown",
   "metadata": {},
   "source": [
    "# Customizing melted data"
   ]
  },
  {
   "cell_type": "markdown",
   "metadata": {},
   "source": [
    "#### EXERCISE:\n",
    "When melting DataFrames, it would be better to have column names more meaningful than <code>variable</code> and <code>value</code> (the default names used by <code>pd.melt()</code>).\n",
    "\n",
    "The default names may work in certain situations, but it's best to always have data that is self explanatory.\n",
    "\n",
    "You can rename the <code>variable</code> column by specifying an argument to the <code>var_name</code> parameter, and the <code>value</code> column by specifying an argument to the <code>value_name</code> parameter. You will now practice doing exactly this. Pandas as <code>pd</code> and the DataFrame <code>airquality</code> has been pre-loaded for you."
   ]
  },
  {
   "cell_type": "markdown",
   "metadata": {},
   "source": [
    "#### INSTRUCTIONS:\n",
    "* Print the head of <code>airquality</code>.\n",
    "* Melt the columns of <code>airquality</code> with the default <code>variable</code> column renamed to <code>'measurement'</code> and the default <code>value</code>column renamed to <code>'reading'</code>. You can do this by specifying, respectively, the <code>var_name</code> and <code>value_name</code>` parameters.\n",
    "* Print the head of <code>airquality_melt</code>."
   ]
  },
  {
   "cell_type": "markdown",
   "metadata": {},
   "source": [
    "#### SCRIPT.PY:"
   ]
  },
  {
   "cell_type": "code",
   "execution_count": 1,
   "metadata": {},
   "outputs": [
    {
     "name": "stdout",
     "output_type": "stream",
     "text": [
      "   Ozone  Solar.R  Wind  Temp  Month  Day\n",
      "0   41.0    190.0   7.4    67      5    1\n",
      "1   36.0    118.0   8.0    72      5    2\n",
      "2   12.0    149.0  12.6    74      5    3\n",
      "3   18.0    313.0  11.5    62      5    4\n",
      "4    NaN      NaN  14.3    56      5    5\n",
      "   Month  Day measurement  reading\n",
      "0      5    1       Ozone     41.0\n",
      "1      5    2       Ozone     36.0\n",
      "2      5    3       Ozone     12.0\n",
      "3      5    4       Ozone     18.0\n",
      "4      5    5       Ozone      NaN\n"
     ]
    }
   ],
   "source": [
    "import pandas as pd\n",
    "airquality = pd.read_csv(\"airquality.csv\")\n",
    "# Print the head of airquality\n",
    "print(airquality.head())\n",
    "\n",
    "# Melt airquality: airquality_melt\n",
    "airquality_melt = pd.melt(airquality, id_vars=['Month', 'Day'], var_name=\"measurement\", value_name=\"reading\")\n",
    "\n",
    "# Print the head of airquality_melt\n",
    "print(airquality_melt.head())\n"
   ]
  }
 ],
 "metadata": {
  "kernelspec": {
   "display_name": "Python 3",
   "language": "python",
   "name": "python3"
  },
  "language_info": {
   "codemirror_mode": {
    "name": "ipython",
    "version": 3
   },
   "file_extension": ".py",
   "mimetype": "text/x-python",
   "name": "python",
   "nbconvert_exporter": "python",
   "pygments_lexer": "ipython3",
   "version": "3.6.7"
  }
 },
 "nbformat": 4,
 "nbformat_minor": 2
}
