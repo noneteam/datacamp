{
 "cells": [
  {
   "cell_type": "markdown",
   "metadata": {},
   "source": [
    "# Customizing melted data"
   ]
  },
  {
   "cell_type": "markdown",
   "metadata": {},
   "source": [
    "#### EXERCISE:\n",
    "When melting DataFrames, it would be better to have column names more meaningful than <code>variable</code> and <code>value</code> (the default names used by <code>pd.melt()</code>).\n",
    "\n",
    "The default names may work in certain situations, but it's best to always have data that is self explanatory.\n",
    "\n",
    "You can rename the <code>variable</code> column by specifying an argument to the <code>var_name</code> parameter, and the <code>value</code> column by specifying an argument to the <code>value_name</code> parameter. You will now practice doing exactly this. Pandas as <code>pd</code> and the DataFrame <code>airquality</code> has been pre-loaded for you."
   ]
  },
  {
   "cell_type": "markdown",
   "metadata": {},
   "source": [
    "#### INSTRUCTIONS:\n",
    "* Print the head of <code>airquality</code>.\n",
    "* Melt the columns of <code>airquality with the default</code>variable<code>column renamed to</code>'measurement'<code>and the default</code>value<code>column renamed to</code>'reading'<code>. You can do this by specifying, respectively, the</code>var<em>name<code>and</code>value</em>name` parameters.\n",
    "* Print the head of <code>airquality_melt</code>."
   ]
  },
  {
   "cell_type": "markdown",
   "metadata": {},
   "source": [
    "#### SCRIPT.PY:"
   ]
  },
  {
   "cell_type": "code",
   "execution_count": null,
   "metadata": {},
   "outputs": [],
   "source": [
    "# Print the head of airquality\n",
    "print(airquality.head())\n",
    "\n",
    "# Melt airquality: airquality_melt\n",
    "airquality_melt = pd.melt(airquality, id_vars=['Month', 'Day'], var_name=____, value_name=____)\n",
    "\n",
    "# Print the head of airquality_melt\n",
    "print(____)\n"
   ]
  }
 ],
 "metadata": {
  "kernelspec": {
   "display_name": "Python 3",
   "language": "python",
   "name": "python3"
  },
  "language_info": {
   "codemirror_mode": {
    "name": "ipython",
    "version": 3
   },
   "file_extension": ".py",
   "mimetype": "text/x-python",
   "name": "python",
   "nbconvert_exporter": "python",
   "pygments_lexer": "ipython3",
   "version": "3.6.7"
  }
 },
 "nbformat": 4,
 "nbformat_minor": 2
}
