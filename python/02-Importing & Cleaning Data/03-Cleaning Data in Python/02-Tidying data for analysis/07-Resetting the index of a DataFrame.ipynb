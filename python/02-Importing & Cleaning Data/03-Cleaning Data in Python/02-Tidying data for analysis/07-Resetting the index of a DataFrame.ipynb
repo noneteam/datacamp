{
 "cells": [
  {
   "cell_type": "markdown",
   "metadata": {},
   "source": [
    "# Resetting the index of a DataFrame"
   ]
  },
  {
   "cell_type": "markdown",
   "metadata": {},
   "source": [
    "#### EXERCISE:\n",
    "After pivoting <code>airquality_melt</code> in the previous exercise, you didn't quite get back the original DataFrame.\n",
    "\n",
    "What you got back instead was a pandas DataFrame with a <a href=\"http://pandas.pydata.org/pandas-docs/stable/advanced.html\" target=\"_blank\">hierarchical index (also known as a MultiIndex)</a>.\n",
    "\n",
    "Hierarchical indexes are covered in depth in <a href=\"https://www.datacamp.com/courses/manipulating-dataframes-with-pandas\" target=\"_blank\">Manipulating DataFrames with pandas</a>. In essence, they allow you to group columns or rows by another variable - in this case, by <code>'Month'</code> as well as <code>'Day'</code>.\n",
    "\n",
    "There's a very simple method you can use to get back the original DataFrame from the pivoted DataFrame: <code>.reset_index()</code>. Dan didn't show you how to use this method in the video, but you're now going to practice using it in this exercise to get back the original DataFrame from <code>airquality_pivot</code>, which has been pre-loaded."
   ]
  },
  {
   "cell_type": "markdown",
   "metadata": {},
   "source": [
    "#### INSTRUCTIONS:\n",
    "* Print the index of <code>airquality_pivot</code> by accessing its <code>.index</code> attribute. This has been done for you.\n",
    "* Reset the index of <code>airquality_pivot</code> using its <code>.reset_index()</code> method.\n",
    "* Print the new index of <code>airquality_pivot</code>.\n",
    "* Print the head of <code>airquality_pivot</code>."
   ]
  },
  {
   "cell_type": "markdown",
   "metadata": {},
   "source": [
    "#### SCRIPT.PY:"
   ]
  },
  {
   "cell_type": "code",
   "execution_count": null,
   "metadata": {},
   "outputs": [],
   "source": [
    "# Print the index of airquality_pivot\n",
    "print(airquality_pivot.index)\n",
    "\n",
    "# Reset the index of airquality_pivot: airquality_pivot_reset\n",
    "airquality_pivot_reset = ____\n",
    "\n",
    "# Print the new index of airquality_pivot_reset\n",
    "print(____)\n",
    "\n",
    "# Print the head of airquality_pivot_reset\n",
    "print(____)\n"
   ]
  }
 ],
 "metadata": {
  "kernelspec": {
   "display_name": "Python 3",
   "language": "python",
   "name": "python3"
  },
  "language_info": {
   "codemirror_mode": {
    "name": "ipython",
    "version": 3
   },
   "file_extension": ".py",
   "mimetype": "text/x-python",
   "name": "python",
   "nbconvert_exporter": "python",
   "pygments_lexer": "ipython3",
   "version": "3.6.7"
  }
 },
 "nbformat": 4,
 "nbformat_minor": 2
}
