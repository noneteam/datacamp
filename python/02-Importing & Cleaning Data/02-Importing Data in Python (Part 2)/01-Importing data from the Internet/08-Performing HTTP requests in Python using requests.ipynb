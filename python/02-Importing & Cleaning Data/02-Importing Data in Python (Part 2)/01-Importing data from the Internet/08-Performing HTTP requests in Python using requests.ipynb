{
 "cells": [
  {
   "cell_type": "markdown",
   "metadata": {},
   "source": [
    "# Performing HTTP requests in Python using requests"
   ]
  },
  {
   "cell_type": "markdown",
   "metadata": {},
   "source": [
    "#### EXERCISE:\n",
    "Now that you've got your head and hands around making HTTP requests using the urllib package, you're going to figure out how to do the same using the higher-level requests library. You'll once again be pinging DataCamp servers for their <code>\"http://www.datacamp.com/teach/documentation\"</code> page.\n",
    "\n",
    "Note that unlike in the previous exercises using urllib, you don't have to close the connection when using requests!"
   ]
  },
  {
   "cell_type": "markdown",
   "metadata": {},
   "source": [
    "#### INSTRUCTIONS:\n",
    "* Import the package <code>requests</code>.\n",
    "* Assign the URL of interest to the variable <code>url</code>.\n",
    "* Package the request to the URL, send the request and catch the response with a single function <code>requests.get()</code>, assigning the response to the variable <code>r</code>.\n",
    "* Use the <code>text</code> attribute of the object <code>r</code> to return the HTML of the webpage as a string; store the result in a variable <code>text</code>.\n",
    "* Hit submit to print the HTML of the webpage."
   ]
  },
  {
   "cell_type": "markdown",
   "metadata": {},
   "source": [
    "#### SCRIPT.PY:"
   ]
  },
  {
   "cell_type": "code",
   "execution_count": null,
   "metadata": {},
   "outputs": [],
   "source": [
    "# Import package\n",
    "\n",
    "\n",
    "# Specify the url: url\n",
    "\n",
    "\n",
    "# Packages the request, send the request and catch the response: r\n",
    "\n",
    "\n",
    "# Extract the response: text\n",
    "\n",
    "\n",
    "# Print the html\n",
    "print(text)\n"
   ]
  }
 ],
 "metadata": {
  "kernelspec": {
   "display_name": "Python 3",
   "language": "python",
   "name": "python3"
  },
  "language_info": {
   "codemirror_mode": {
    "name": "ipython",
    "version": 3
   },
   "file_extension": ".py",
   "mimetype": "text/x-python",
   "name": "python",
   "nbconvert_exporter": "python",
   "pygments_lexer": "ipython3",
   "version": "3.6.7"
  }
 },
 "nbformat": 4,
 "nbformat_minor": 2
}
