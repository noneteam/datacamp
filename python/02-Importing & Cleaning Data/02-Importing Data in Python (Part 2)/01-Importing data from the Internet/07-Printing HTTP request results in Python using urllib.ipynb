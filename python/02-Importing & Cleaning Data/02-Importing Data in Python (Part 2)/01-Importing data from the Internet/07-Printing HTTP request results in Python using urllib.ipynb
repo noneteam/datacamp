{
 "cells": [
  {
   "cell_type": "markdown",
   "metadata": {},
   "source": [
    "# Printing HTTP request results in Python using urllib"
   ]
  },
  {
   "cell_type": "markdown",
   "metadata": {},
   "source": [
    "#### EXERCISE:\n",
    "You have just packaged and sent a GET request to <code>\"http://www.datacamp.com/teach/documentation\"</code> and then caught the response. You saw that such a response is a <code>http.client.HTTPResponse</code> object. The question remains: what can you do with this response?\n",
    "\n",
    "Well, as it came from an HTML page, you could <em>read</em> it to extract the HTML and, in fact, such a <code>http.client.HTTPResponse</code> object has an associated <code>read()</code> method. In this exercise, you'll build on your previous great work to extract the response and print the HTML."
   ]
  },
  {
   "cell_type": "markdown",
   "metadata": {},
   "source": [
    "#### INSTRUCTIONS:\n",
    "* Send the request and catch the response in the variable <code>response</code> with the function <code>urlopen()</code>, as in the previous exercise.\n",
    "* Extract the response using the <code>read()</code> method and store the result in the variable <code>html</code>.\n",
    "* Print the string <code>html</code>.\n",
    "* Hit submit to perform all of the above and to close the response: be tidy!"
   ]
  },
  {
   "cell_type": "markdown",
   "metadata": {},
   "source": [
    "#### SCRIPT.PY:"
   ]
  },
  {
   "cell_type": "code",
   "execution_count": null,
   "metadata": {},
   "outputs": [],
   "source": [
    "# Import packages\n",
    "from urllib.request import urlopen, Request\n",
    "\n",
    "# Specify the url\n",
    "url = \"http://www.datacamp.com/teach/documentation\"\n",
    "\n",
    "# This packages the request\n",
    "request = Request(url)\n",
    "\n",
    "# Sends the request and catches the response: response\n",
    "\n",
    "\n",
    "# Extract the response: html\n",
    "\n",
    "\n",
    "# Print the html\n",
    "\n",
    "\n",
    "# Be polite and close the response!\n",
    "response.close()\n"
   ]
  }
 ],
 "metadata": {
  "kernelspec": {
   "display_name": "Python 3",
   "language": "python",
   "name": "python3"
  },
  "language_info": {
   "codemirror_mode": {
    "name": "ipython",
    "version": 3
   },
   "file_extension": ".py",
   "mimetype": "text/x-python",
   "name": "python",
   "nbconvert_exporter": "python",
   "pygments_lexer": "ipython3",
   "version": "3.6.7"
  }
 },
 "nbformat": 4,
 "nbformat_minor": 2
}
