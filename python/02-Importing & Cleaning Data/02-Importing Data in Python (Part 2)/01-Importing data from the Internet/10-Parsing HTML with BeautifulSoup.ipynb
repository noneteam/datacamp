{
 "cells": [
  {
   "cell_type": "markdown",
   "metadata": {},
   "source": [
    "# Parsing HTML with BeautifulSoup"
   ]
  },
  {
   "cell_type": "markdown",
   "metadata": {},
   "source": [
    "#### EXERCISE:\n",
    "In this interactive exercise, you'll learn how to use the BeautifulSoup package to <em>parse</em>, <em>prettify</em> and <em>extract</em> information from HTML. You'll scrape the data from the webpage of Guido van Rossum, Python's very own <a href=\"https://en.wikipedia.org/wiki/Benevolent_dictator_for_life\" target=\"_blank\">Benevolent Dictator for Life</a>. In the following exercises, you'll prettify the HTML and then extract the text and the hyperlinks.\n",
    "\n",
    "The URL of interest is <code>url = 'https://www.python.org/~guido/'</code>."
   ]
  },
  {
   "cell_type": "markdown",
   "metadata": {},
   "source": [
    "#### INSTRUCTIONS:\n",
    "* Import the function <code>BeautifulSoup</code> from the package <code>bs4</code>.\n",
    "* Assign the URL of interest to the variable <code>url</code>.\n",
    "* Package the request to the URL, send the request and catch the response with a single function <code>requests.get()</code>, assigning the response to the variable <code>r</code>.\n",
    "* Use the <code>text</code> attribute of the object <code>r</code> to return the HTML of the webpage as a string; store the result in a variable <code>html_doc</code>.\n",
    "* Create a BeautifulSoup object <code>soup</code> from the resulting HTML using the function <code>BeautifulSoup()</code>.\n",
    "* Use the method <code>prettify()</code> on <code>soup</code> and assign the result to <code>pretty_soup</code>.\n",
    "* Hit submit to print to prettified HTML to your shell!"
   ]
  },
  {
   "cell_type": "markdown",
   "metadata": {},
   "source": [
    "#### SCRIPT.PY:"
   ]
  },
  {
   "cell_type": "code",
   "execution_count": null,
   "metadata": {},
   "outputs": [],
   "source": [
    "# Import packages\n",
    "import requests\n",
    "from ____ import ____\n",
    "\n",
    "# Specify url: url\n",
    "\n",
    "\n",
    "# Package the request, send the request and catch the response: r\n",
    "\n",
    "\n",
    "# Extracts the response as html: html_doc\n",
    "\n",
    "\n",
    "# Create a BeautifulSoup object from the HTML: soup\n",
    "\n",
    "\n",
    "# Prettify the BeautifulSoup object: pretty_soup\n",
    "\n",
    "\n",
    "# Print the response\n",
    "print(pretty_soup)\n"
   ]
  }
 ],
 "metadata": {
  "kernelspec": {
   "display_name": "Python 3",
   "language": "python",
   "name": "python3"
  },
  "language_info": {
   "codemirror_mode": {
    "name": "ipython",
    "version": 3
   },
   "file_extension": ".py",
   "mimetype": "text/x-python",
   "name": "python",
   "nbconvert_exporter": "python",
   "pygments_lexer": "ipython3",
   "version": "3.6.7"
  }
 },
 "nbformat": 4,
 "nbformat_minor": 2
}
