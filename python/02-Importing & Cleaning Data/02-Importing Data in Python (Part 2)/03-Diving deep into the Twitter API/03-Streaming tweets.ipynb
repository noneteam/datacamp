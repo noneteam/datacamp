{
 "cells": [
  {
   "cell_type": "markdown",
   "metadata": {},
   "source": [
    "# Streaming tweets"
   ]
  },
  {
   "cell_type": "markdown",
   "metadata": {},
   "source": [
    "#### EXERCISE:\n",
    "Now that you have set up your authentication credentials, it is time to stream some tweets!\n",
    "We have already defined the tweet stream listener class, <code>MyStreamListener</code>, just as Hugo did in the introductory video.\n",
    "You can find the code for the tweet stream listener class <a href=\"https://gist.github.com/hugobowne/18f1c0c0709ed1a52dc5bcd462ac69f4\" target=\"_blank\">here</a>.\n",
    "\n",
    "Your task is to create the <code>Stream</code>object and to filter tweets according to particular keywords."
   ]
  },
  {
   "cell_type": "markdown",
   "metadata": {},
   "source": [
    "#### INSTRUCTIONS:\n",
    "* Create your <code>Stream</code> object with authentication by passing <code>tweepy.Stream()</code> the authentication handler <code>auth</code> and the Stream listener <code>l</code>;\n",
    "* To filter Twitter streams, pass to the <code>track</code> argument in <code>stream.filter()</code> a list containing the desired keywords <code>'clinton'</code>, <code>'trump'</code>, <code>'sanders'</code>, and <code>'cruz'</code>."
   ]
  },
  {
   "cell_type": "markdown",
   "metadata": {},
   "source": [
    "#### SCRIPT.PY:"
   ]
  },
  {
   "cell_type": "code",
   "execution_count": null,
   "metadata": {},
   "outputs": [],
   "source": [
    "# Initialize Stream listener\n",
    "l = MyStreamListener()\n",
    "\n",
    "# Create your Stream object with authentication\n",
    "stream = tweepy.Stream(____, ____)\n",
    "\n",
    "\n",
    "# Filter Twitter Streams to capture data by the keywords:\n",
    "stream.filter(____)\n"
   ]
  }
 ],
 "metadata": {
  "kernelspec": {
   "display_name": "Python 3",
   "language": "python",
   "name": "python3"
  },
  "language_info": {
   "codemirror_mode": {
    "name": "ipython",
    "version": 3
   },
   "file_extension": ".py",
   "mimetype": "text/x-python",
   "name": "python",
   "nbconvert_exporter": "python",
   "pygments_lexer": "ipython3",
   "version": "3.6.7"
  }
 },
 "nbformat": 4,
 "nbformat_minor": 2
}
