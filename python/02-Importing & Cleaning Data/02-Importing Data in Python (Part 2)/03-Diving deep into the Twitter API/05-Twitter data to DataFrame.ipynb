{
 "cells": [
  {
   "cell_type": "markdown",
   "metadata": {},
   "source": [
    "# Twitter data to DataFrame"
   ]
  },
  {
   "cell_type": "markdown",
   "metadata": {},
   "source": [
    "#### EXERCISE:\n",
    "Now you have the Twitter data in a list of dictionaries, <code>tweets_data</code>, where each dictionary corresponds to a single tweet. Next, you're going to extract the text and language of each tweet. The text in a tweet, <code>t1</code>, is stored as the value <code>t1['text']</code>; similarly, the language is stored in <code>t1['lang']</code>. Your task is to build a DataFrame in which each row is a tweet and the columns are <code>'text'</code> and <code>'lang'</code>."
   ]
  },
  {
   "cell_type": "markdown",
   "metadata": {},
   "source": [
    "#### INSTRUCTIONS:\n",
    "* Use <code>pd.DataFrame()</code> to construct a DataFrame of tweet texts and languages; to do so, the first argument should be <code>tweets_data</code>, a list of dictionaries. The second argument to <code>pd.DataFrame()</code> is a <em>list</em> of the keys you wish to have as columns. Assign the result of the <code>pd.DataFrame()</code> call to <code>df</code>.\n",
    "* Print the head of the DataFrame."
   ]
  },
  {
   "cell_type": "markdown",
   "metadata": {},
   "source": [
    "#### SCRIPT.PY:"
   ]
  },
  {
   "cell_type": "code",
   "execution_count": 6,
   "metadata": {},
   "outputs": [
    {
     "name": "stdout",
     "output_type": "stream",
     "text": [
      "                                                text lang\n",
      "0  RT @bpolitics: .@krollbondrating's Christopher...   en\n",
      "1  RT @HeidiAlpine: @dmartosko Cruz video found.....   en\n",
      "2  Njihuni me Zonjën Trump !!! | Ekskluzive https...   et\n",
      "3  Your an idiot she shouldn't have tried to grab...   en\n",
      "4  RT @AlanLohner: The anti-American D.C. elites ...   en\n"
     ]
    }
   ],
   "source": [
    "import json\n",
    "tweets_data = list()\n",
    "with open(\"tweets.txt\", \"r\") as file:\n",
    "    for line in file.readlines():\n",
    "        tweets_data.append(json.loads(line))\n",
    "# Import package\n",
    "import pandas as pd\n",
    "\n",
    "# Build DataFrame of tweet texts and languages\n",
    "df = pd.DataFrame(tweets_data, columns=[\"text\", \"lang\"])\n",
    "\n",
    "# Print head of DataFrame\n",
    "print(df.head())\n"
   ]
  }
 ],
 "metadata": {
  "kernelspec": {
   "display_name": "Python 3",
   "language": "python",
   "name": "python3"
  },
  "language_info": {
   "codemirror_mode": {
    "name": "ipython",
    "version": 3
   },
   "file_extension": ".py",
   "mimetype": "text/x-python",
   "name": "python",
   "nbconvert_exporter": "python",
   "pygments_lexer": "ipython3",
   "version": "3.6.7"
  }
 },
 "nbformat": 4,
 "nbformat_minor": 2
}
