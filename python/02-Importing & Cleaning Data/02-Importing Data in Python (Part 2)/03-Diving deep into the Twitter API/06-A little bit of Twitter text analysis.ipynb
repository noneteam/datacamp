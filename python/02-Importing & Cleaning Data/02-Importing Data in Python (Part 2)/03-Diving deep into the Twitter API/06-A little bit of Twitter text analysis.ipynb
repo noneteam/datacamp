{
 "cells": [
  {
   "cell_type": "markdown",
   "metadata": {},
   "source": [
    "# A little bit of Twitter text analysis"
   ]
  },
  {
   "cell_type": "markdown",
   "metadata": {},
   "source": [
    "#### EXERCISE:\n",
    "Now that you have your DataFrame of tweets set up, you're going to do a bit of text analysis to count how many tweets contain the words <code>'clinton'</code>, <code>'trump'</code>, <code>'sanders'</code> and <code>'cruz'</code>. In the pre-exercise code, we have defined the following function <code>word_in_text()</code>, which will tell you whether the first argument (a word) occurs within the 2nd argument (a tweet).\n",
    "\n",
    "<pre><code>import re\n",
    "\n",
    "def word_in_text(word, text):\n",
    "    word = word.lower()\n",
    "    text = tweet.lower()\n",
    "    match = re.search(word, text)\n",
    "\n",
    "    if match:\n",
    "        return True\n",
    "    return False\n",
    "</code></pre>\n",
    "\n",
    "You're going to iterate over the rows of the DataFrame and calculate how many tweets contain each of our keywords! The list of objects for each candidate has been initialized to 0."
   ]
  },
  {
   "cell_type": "markdown",
   "metadata": {},
   "source": [
    "#### INSTRUCTIONS:\n",
    "* Within the <code>for</code> loop <code>for index, row in df.iterrows():</code>, the code currently increases the value of <code>clinton</code> by <code>1</code> each time a tweet (text row) mentioning 'Clinton' is encountered; complete the code so that the same happens for <code>trump</code>, <code>sanders</code> and <code>cruz</code>."
   ]
  },
  {
   "cell_type": "markdown",
   "metadata": {},
   "source": [
    "#### SCRIPT.PY:"
   ]
  },
  {
   "cell_type": "code",
   "execution_count": 2,
   "metadata": {},
   "outputs": [],
   "source": [
    "import json\n",
    "import pandas as pd\n",
    "import re\n",
    "tweets_data = list()\n",
    "with open(\"tweets.txt\", \"r\") as file:\n",
    "    for line in file.readlines():\n",
    "        tweets_data.append(json.loads(line))\n",
    "    df = pd.DataFrame(tweets_data, columns=[\"text\", \"lang\"])\n",
    "def word_in_text(word, text):\n",
    "    word = word.lower()\n",
    "    text = text.lower()\n",
    "    match = re.search(word, text)\n",
    "    if match:\n",
    "        return True\n",
    "    return False\n",
    "# Initialize list to store tweet counts\n",
    "[clinton, trump, sanders, cruz] = [0, 0, 0, 0]\n",
    "\n",
    "# Iterate through df, counting the number of tweets in which\n",
    "# each candidate is mentioned\n",
    "for index, row in df.iterrows():\n",
    "    clinton += word_in_text('clinton', row['text'])\n",
    "    trump += word_in_text(\"trump\", row[\"text\"])\n",
    "    sanders += word_in_text(\"sanders\", row[\"text\"])\n",
    "    cruz += word_in_text(\"cruz\", row[\"text\"])\n"
   ]
  }
 ],
 "metadata": {
  "kernelspec": {
   "display_name": "Python 3",
   "language": "python",
   "name": "python3"
  },
  "language_info": {
   "codemirror_mode": {
    "name": "ipython",
    "version": 3
   },
   "file_extension": ".py",
   "mimetype": "text/x-python",
   "name": "python",
   "nbconvert_exporter": "python",
   "pygments_lexer": "ipython3",
   "version": "3.6.7"
  }
 },
 "nbformat": 4,
 "nbformat_minor": 2
}
