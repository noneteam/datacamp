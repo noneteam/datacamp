{
 "cells": [
  {
   "cell_type": "markdown",
   "metadata": {},
   "source": [
    "# Pop quiz: Exploring your JSON"
   ]
  },
  {
   "cell_type": "markdown",
   "metadata": {},
   "source": [
    "#### QUESTION:\n",
    "Load the JSON <code>'a_movie.json'</code> into a variable, which will be a dictionary.\n",
    "Do so by copying, pasting and executing the following code in the IPython Shell:\n",
    "\n",
    "<pre><code>import json\n",
    "with open(\"a_movie.json\") as json_file:\n",
    "    json_data = json.load(json_file)\n",
    "</code></pre>\n",
    "\n",
    "Print the values corresponding to the keys <code>'Title'</code>\n",
    "and <code>'Year'</code> and answer the following question about the movie that the JSON\n",
    "describes:\n",
    "\n",
    "Which of the following statements is true of the movie in question?"
   ]
  },
  {
   "cell_type": "markdown",
   "metadata": {},
   "source": [
    "#### POSSIBLE ANSWERS:\n",
    "* The title is 'Kung Fu Panda' and the year is 2010.\n",
    "* The title is 'Kung Fu Panda' and the year is 2008.\n",
    "* The title is 'The Social Network' and the year is 2010.\n",
    "* The title is 'The Social Network' and the year is 2008."
   ]
  }
 ],
 "metadata": {
  "kernelspec": {
   "display_name": "Python 3",
   "language": "python",
   "name": "python3"
  },
  "language_info": {
   "codemirror_mode": {
    "name": "ipython",
    "version": 3
   },
   "file_extension": ".py",
   "mimetype": "text/x-python",
   "name": "python",
   "nbconvert_exporter": "python",
   "pygments_lexer": "ipython3",
   "version": "3.6.7"
  }
 },
 "nbformat": 4,
 "nbformat_minor": 2
}
