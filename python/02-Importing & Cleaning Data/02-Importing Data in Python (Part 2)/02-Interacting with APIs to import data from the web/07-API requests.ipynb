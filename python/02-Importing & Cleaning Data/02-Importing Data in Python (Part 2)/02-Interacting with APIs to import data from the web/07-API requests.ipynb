{
 "cells": [
  {
   "cell_type": "markdown",
   "metadata": {},
   "source": [
    "# API requests"
   ]
  },
  {
   "cell_type": "markdown",
   "metadata": {},
   "source": [
    "#### EXERCISE:\n",
    "Now it's your turn to pull some movie data down from the Open Movie Database (OMDB) using their API.\n",
    "The movie you'll query the API about is <em>The Social Network</em>.\n",
    "Recall that, in the video, to query the API about the movie <em>Hackers</em>, Hugo's <em>query string</em> was <code>'http://www.omdbapi.com/?t=hackers'</code> and had a single argument <code>t=hackers</code>.\n",
    "\n",
    "Note: recently, OMDB has changed their API: you now also have to specify an API key. This means you'll have to add another argument to the URL: <code>apikey=72bc447a</code>."
   ]
  },
  {
   "cell_type": "markdown",
   "metadata": {},
   "source": [
    "#### INSTRUCTIONS:\n",
    "* Import the <code>requests</code> package.\n",
    "* Assign to the variable <code>url</code> the URL of interest in order to query <code>'http://www.omdbapi.com'</code> for the data corresponding to the movie <em>The Social Network</em>. The <em>query string</em> should have two arguments: <code>apikey=72bc447a</code> and <code>t=the+social+network</code>. You can combine them as follows: <code>apikey=72bc447a&amp;t=the+social+network</code>.\n",
    "* Print the text of the reponse object <code>r</code> by using its <code>text</code> attribute and passing the result to the <code>print()</code> function."
   ]
  },
  {
   "cell_type": "markdown",
   "metadata": {},
   "source": [
    "#### SCRIPT.PY:"
   ]
  },
  {
   "cell_type": "code",
   "execution_count": null,
   "metadata": {},
   "outputs": [],
   "source": [
    "# Import requests package\n",
    "\n",
    "\n",
    "# Assign URL to variable: url\n",
    "\n",
    "\n",
    "# Package the request, send the request and catch the response: r\n",
    "r = requests.get(url)\n",
    "\n",
    "# Print the text of the response\n",
    "\n"
   ]
  }
 ],
 "metadata": {
  "kernelspec": {
   "display_name": "Python 3",
   "language": "python",
   "name": "python3"
  },
  "language_info": {
   "codemirror_mode": {
    "name": "ipython",
    "version": 3
   },
   "file_extension": ".py",
   "mimetype": "text/x-python",
   "name": "python",
   "nbconvert_exporter": "python",
   "pygments_lexer": "ipython3",
   "version": "3.6.7"
  }
 },
 "nbformat": 4,
 "nbformat_minor": 2
}
