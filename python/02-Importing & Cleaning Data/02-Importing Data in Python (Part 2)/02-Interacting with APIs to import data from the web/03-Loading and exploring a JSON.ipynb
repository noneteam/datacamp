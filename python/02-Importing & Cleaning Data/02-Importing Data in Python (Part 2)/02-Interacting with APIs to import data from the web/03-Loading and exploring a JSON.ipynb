{
 "cells": [
  {
   "cell_type": "markdown",
   "metadata": {},
   "source": [
    "# Loading and exploring a JSON"
   ]
  },
  {
   "cell_type": "markdown",
   "metadata": {},
   "source": [
    "#### EXERCISE:\n",
    "Now that you know what a JSON is, you'll load one into your Python\n",
    "environment and explore it yourself. Here, you'll load the JSON\n",
    "<code>'a_movie.json'</code> into the variable <code>json_data</code>, which will be a\n",
    "dictionary. You'll then explore the JSON contents by printing the\n",
    "key-value pairs of <code>json_data</code> to the shell."
   ]
  },
  {
   "cell_type": "markdown",
   "metadata": {},
   "source": [
    "#### INSTRUCTIONS:\n",
    "* Load the JSON <code>'a_movie.json'</code> into the variable <code>json_data</code> <em>within the context</em> provided by the <code>with</code> statement. To do so, use the function <code>json.load()</code> <em>within the context manager</em>.\n",
    "* Use a <code>for</code> loop to print all key-value pairs in the dictionary <code>json_data</code>. Recall that you can access a value in a dictionary using the syntax: <em>dictionary</em><code>[</code>key<code>]</code>."
   ]
  },
  {
   "cell_type": "markdown",
   "metadata": {},
   "source": [
    "#### SCRIPT.PY:"
   ]
  },
  {
   "cell_type": "code",
   "execution_count": 2,
   "metadata": {},
   "outputs": [
    {
     "name": "stdout",
     "output_type": "stream",
     "text": [
      "Genre:  Biography, Drama\n",
      "Language:  English, French\n",
      "Poster:  https://m.media-amazon.com/images/M/MV5BOGUyZDUxZjEtMmIzMC00MzlmLTg4MGItZWJmMzBhZjE0Mjc1XkEyXkFqcGdeQXVyMTMxODk2OTU@._V1_SX300.jpg\n",
      "Director:  David Fincher\n",
      "Year:  2010\n",
      "Response:  True\n",
      "Metascore:  95\n",
      "Country:  USA\n",
      "BoxOffice:  $96,400,000\n",
      "Ratings:  [{'Value': '7.7/10', 'Source': 'Internet Movie Database'}, {'Value': '95%', 'Source': 'Rotten Tomatoes'}, {'Value': '95/100', 'Source': 'Metacritic'}]\n",
      "Runtime:  120 min\n",
      "Writer:  Aaron Sorkin (screenplay), Ben Mezrich (book)\n",
      "imdbVotes:  556,761\n",
      "Awards:  Won 3 Oscars. Another 165 wins & 168 nominations.\n",
      "Title:  The Social Network\n",
      "Website:  http://www.thesocialnetwork-movie.com/\n",
      "Released:  01 Oct 2010\n",
      "Plot:  Harvard student Mark Zuckerberg creates the social networking site that would become known as Facebook, but is later sued by two brothers who claimed he stole their idea, and the co-founder who was later squeezed out of the business.\n",
      "Actors:  Jesse Eisenberg, Rooney Mara, Bryan Barter, Dustin Fitzsimons\n",
      "imdbID:  tt1285016\n",
      "imdbRating:  7.7\n",
      "DVD:  11 Jan 2011\n",
      "Rated:  PG-13\n",
      "Production:  Columbia Pictures\n",
      "Type:  movie\n"
     ]
    }
   ],
   "source": [
    "import json\n",
    "# Load JSON: json_data\n",
    "with open(\"a_movie.json\") as json_file:\n",
    "    json_data = json.load(json_file)\n",
    "\n",
    "# Print each key-value pair in json_data\n",
    "for k in json_data.keys():\n",
    "    print(k + ': ', json_data[k])\n"
   ]
  }
 ],
 "metadata": {
  "kernelspec": {
   "display_name": "Python 3",
   "language": "python",
   "name": "python3"
  },
  "language_info": {
   "codemirror_mode": {
    "name": "ipython",
    "version": 3
   },
   "file_extension": ".py",
   "mimetype": "text/x-python",
   "name": "python",
   "nbconvert_exporter": "python",
   "pygments_lexer": "ipython3",
   "version": "3.6.7"
  }
 },
 "nbformat": 4,
 "nbformat_minor": 2
}
