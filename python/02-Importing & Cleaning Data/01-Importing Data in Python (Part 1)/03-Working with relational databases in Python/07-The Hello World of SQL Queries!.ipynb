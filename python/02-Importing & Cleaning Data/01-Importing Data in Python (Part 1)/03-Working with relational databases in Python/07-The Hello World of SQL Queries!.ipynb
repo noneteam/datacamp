{
 "cells": [
  {
   "cell_type": "markdown",
   "metadata": {},
   "source": [
    "# The Hello World of SQL Queries!"
   ]
  },
  {
   "cell_type": "markdown",
   "metadata": {},
   "source": [
    "#### EXERCISE:\n",
    "Now, it's time for liftoff! In this exercise, you'll perform the Hello World of SQL queries, <code>SELECT</code>, in order to retrieve all columns of the table <code>Album</code> in the Chinook database. Recall that the query <code>SELECT *</code> selects all columns."
   ]
  },
  {
   "cell_type": "markdown",
   "metadata": {},
   "source": [
    "#### INSTRUCTIONS:\n",
    "* Open the engine connection as <code>con</code> using the method <code>connect()</code> on the engine.\n",
    "* Execute the query that <strong>selects</strong> <em>ALL columns</em> <strong>from</strong> the <code>Album</code> table. Store the results in <code>rs</code>.\n",
    "* Store all of your query results in the DataFrame <code>df</code> by applying the <code>fetchall()</code> method to the results <code>rs</code>.\n",
    "* Close the connection!"
   ]
  },
  {
   "cell_type": "markdown",
   "metadata": {},
   "source": [
    "#### SCRIPT.PY:"
   ]
  },
  {
   "cell_type": "code",
   "execution_count": null,
   "metadata": {},
   "outputs": [],
   "source": [
    "# Import packages\n",
    "from sqlalchemy import create_engine\n",
    "import pandas as pd\n",
    "\n",
    "# Create engine: engine\n",
    "engine = create_engine('sqlite:///Chinook.sqlite')\n",
    "\n",
    "# Open engine connection: con\n",
    "\n",
    "\n",
    "# Perform query: rs\n",
    "rs = con.execute(____)\n",
    "\n",
    "# Save results of the query to DataFrame: df\n",
    "df = pd.DataFrame(____)\n",
    "\n",
    "# Close connection\n",
    "\n",
    "\n",
    "# Print head of DataFrame df\n",
    "print(df.head())\n"
   ]
  }
 ],
 "metadata": {
  "kernelspec": {
   "display_name": "Python 3",
   "language": "python",
   "name": "python3"
  },
  "language_info": {
   "codemirror_mode": {
    "name": "ipython",
    "version": 3
   },
   "file_extension": ".py",
   "mimetype": "text/x-python",
   "name": "python",
   "nbconvert_exporter": "python",
   "pygments_lexer": "ipython3",
   "version": "3.6.7"
  }
 },
 "nbformat": 4,
 "nbformat_minor": 2
}
