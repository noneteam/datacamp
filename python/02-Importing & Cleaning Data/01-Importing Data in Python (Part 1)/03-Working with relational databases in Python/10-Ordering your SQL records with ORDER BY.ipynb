{
 "cells": [
  {
   "cell_type": "markdown",
   "metadata": {},
   "source": [
    "# Ordering your SQL records with ORDER BY"
   ]
  },
  {
   "cell_type": "markdown",
   "metadata": {},
   "source": [
    "#### EXERCISE:\n",
    "You can also <em>order</em> your SQL query results. For example, if you wanted to get all records from the <code>Customer</code> table of the Chinook database and order them in increasing order by the column <code>SupportRepId</code>, you could do so with the following query:\n",
    "\n",
    "<pre><code>\"SELECT * FROM Customer ORDER BY SupportRepId\"\n",
    "</code></pre>\n",
    "\n",
    "In fact, you can order any <code>SELECT</code> statement by any column.\n",
    "\n",
    "In this interactive exercise, you'll select all records of the <code>Employee</code> table and order them in increasing order by the column <code>BirthDate</code>.\n",
    "\n",
    "Packages are already imported as follows:\n",
    "\n",
    "<pre><code>import pandas as pd\n",
    "from sqlalchemy import create_engine\n",
    "</code></pre>\n",
    "\n",
    "Get querying!"
   ]
  },
  {
   "cell_type": "markdown",
   "metadata": {},
   "source": [
    "#### INSTRUCTIONS:\n",
    "* Using the function <code>create_engine()</code>, create an engine for the SQLite database <code>Chinook.sqlite</code> and assign it to the variable <code>engine</code>.\n",
    "* In the context manager, execute the query that <strong>selects</strong> <em>all</em> records <strong>from</strong> the <code>Employee</code> table and <strong>orders</strong> them in increasing order <strong>by</strong> the column <code>BirthDate</code>. Assign the result to <code>rs</code>.\n",
    "* In a call to <code>pd.DataFrame()</code>, apply the method <code>fetchall()</code> to <code>rs</code> in order to fetch all records in <code>rs</code>. Store them in the DataFrame <code>df</code>.\n",
    "* Set the DataFrame's column names to the corresponding names of the table columns."
   ]
  },
  {
   "cell_type": "markdown",
   "metadata": {},
   "source": [
    "#### SCRIPT.PY:"
   ]
  },
  {
   "cell_type": "code",
   "execution_count": null,
   "metadata": {},
   "outputs": [],
   "source": [
    "# Create engine: engine\n",
    "\n",
    "\n",
    "# Open engine in context manager\n",
    "with engine.connect() as con:\n",
    "    rs = ____\n",
    "    df = ____\n",
    "\n",
    "    # Set the DataFrame's column names\n",
    "\n",
    "\n",
    "# Print head of DataFrame\n",
    "print(df.head())\n"
   ]
  }
 ],
 "metadata": {
  "kernelspec": {
   "display_name": "Python 3",
   "language": "python",
   "name": "python3"
  },
  "language_info": {
   "codemirror_mode": {
    "name": "ipython",
    "version": 3
   },
   "file_extension": ".py",
   "mimetype": "text/x-python",
   "name": "python",
   "nbconvert_exporter": "python",
   "pygments_lexer": "ipython3",
   "version": "3.6.7"
  }
 },
 "nbformat": 4,
 "nbformat_minor": 2
}
