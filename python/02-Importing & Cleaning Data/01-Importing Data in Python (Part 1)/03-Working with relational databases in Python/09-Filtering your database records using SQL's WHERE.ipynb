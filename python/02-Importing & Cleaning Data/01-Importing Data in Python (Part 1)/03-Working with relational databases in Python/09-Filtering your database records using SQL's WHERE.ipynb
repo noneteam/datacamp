{
 "cells": [
  {
   "cell_type": "markdown",
   "metadata": {},
   "source": [
    "# Filtering your database records using SQL's WHERE"
   ]
  },
  {
   "cell_type": "markdown",
   "metadata": {},
   "source": [
    "#### EXERCISE:\n",
    "You can now execute a basic SQL query to select records from any table in your database and you can also perform simple query customizations to select particular columns and numbers of rows.\n",
    "\n",
    "There are a couple more standard SQL query chops that will aid you in your journey to becoming an SQL ninja.\n",
    "\n",
    "Let's say, for example that you wanted to get all records from the <code>Customer</code> table of the Chinook database for which the <code>Country</code> is <code>'Canada'</code>. You can do this very easily in SQL using a <code>SELECT</code> statement followed by a <code>WHERE</code> clause as follows:\n",
    "\n",
    "<pre><code>SELECT * FROM Customer WHERE Country = 'Canada'\n",
    "</code></pre>\n",
    "\n",
    "In fact, you can filter any <code>SELECT</code> statement by any condition using a <code>WHERE</code> clause. This is called <em>filtering</em> your records.\n",
    "\n",
    "In this interactive exercise, you'll select all records of the <code>Employee</code> table for which <code>'EmployeeId'</code> is greater than or equal to <code>6</code>.\n",
    "\n",
    "Packages are already imported as follows:\n",
    "\n",
    "<pre><code>import pandas as pd\n",
    "from sqlalchemy import create_engine\n",
    "</code></pre>\n",
    "\n",
    "Query away!"
   ]
  },
  {
   "cell_type": "markdown",
   "metadata": {},
   "source": [
    "#### INSTRUCTIONS:\n",
    "* Complete the argument of <code>create_engine()</code> so that the engine for the SQLite database <code>'Chinook.sqlite'</code> is created.\n",
    "* Execute the query that <strong>selects</strong> <em>all</em> records <strong>from</strong> the <code>Employee</code> table <strong>where</strong> <code>'EmployeeId'</code> is greater than or equal to <code>6</code>. Use the <code>&gt;=</code> operator and assign the results to <code>rs</code>.\n",
    "* Apply the method <code>fetchall()</code> to <code>rs</code> in order to fetch all records in <code>rs</code>. Store them in the DataFrame <code>df</code>.\n",
    "* Using the <code>rs</code> object, set the DataFrame's column names to the corresponding names of the table columns."
   ]
  },
  {
   "cell_type": "markdown",
   "metadata": {},
   "source": [
    "#### SCRIPT.PY:"
   ]
  },
  {
   "cell_type": "code",
   "execution_count": 1,
   "metadata": {},
   "outputs": [
    {
     "name": "stdout",
     "output_type": "stream",
     "text": [
      "   EmployeeId  LastName FirstName       Title  ReportsTo            BirthDate  \\\n",
      "0           6  Mitchell   Michael  IT Manager          1  1973-07-01 00:00:00   \n",
      "1           7      King    Robert    IT Staff          6  1970-05-29 00:00:00   \n",
      "2           8  Callahan     Laura    IT Staff          6  1968-01-09 00:00:00   \n",
      "\n",
      "              HireDate                      Address        City State Country  \\\n",
      "0  2003-10-17 00:00:00         5827 Bowness Road NW     Calgary    AB  Canada   \n",
      "1  2004-01-02 00:00:00  590 Columbia Boulevard West  Lethbridge    AB  Canada   \n",
      "2  2004-03-04 00:00:00                  923 7 ST NW  Lethbridge    AB  Canada   \n",
      "\n",
      "  PostalCode              Phone                Fax                    Email  \n",
      "0    T3B 0C5  +1 (403) 246-9887  +1 (403) 246-9899  michael@chinookcorp.com  \n",
      "1    T1K 5N8  +1 (403) 456-9986  +1 (403) 456-8485   robert@chinookcorp.com  \n",
      "2    T1H 1Y8  +1 (403) 467-3351  +1 (403) 467-8772    laura@chinookcorp.com  \n"
     ]
    }
   ],
   "source": [
    "from sqlalchemy import create_engine\n",
    "import pandas as pd\n",
    "# Create engine: engine\n",
    "engine = create_engine(\"sqlite:///Chinook.sqlite\")\n",
    "\n",
    "# Open engine in context manager\n",
    "# Perform query and save results to DataFrame: df\n",
    "with engine.connect() as con:\n",
    "    rs = con.execute(\"SELECT * FROM Employee WHERE EmployeeId >= 6\")\n",
    "    df = pd.DataFrame(rs.fetchall())\n",
    "    df.columns = rs.keys()\n",
    "\n",
    "# Print the head of the DataFrame df\n",
    "print(df.head())\n"
   ]
  }
 ],
 "metadata": {
  "kernelspec": {
   "display_name": "Python 3",
   "language": "python",
   "name": "python3"
  },
  "language_info": {
   "codemirror_mode": {
    "name": "ipython",
    "version": 3
   },
   "file_extension": ".py",
   "mimetype": "text/x-python",
   "name": "python",
   "nbconvert_exporter": "python",
   "pygments_lexer": "ipython3",
   "version": "3.6.7"
  }
 },
 "nbformat": 4,
 "nbformat_minor": 2
}
