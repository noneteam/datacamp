{
 "cells": [
  {
   "cell_type": "markdown",
   "metadata": {},
   "source": [
    "# Filtering your INNER JOIN"
   ]
  },
  {
   "cell_type": "markdown",
   "metadata": {},
   "source": [
    "#### EXERCISE:\n",
    "Congrats on performing your first <code>INNER JOIN</code>! You're now going to finish this chapter with one final exercise in which you perform an <code>INNER JOIN</code> and filter the result using a <code>WHERE</code> clause.\n",
    "\n",
    "Recall that to <code>INNER JOIN</code> the <code>Orders</code> and <code>Customers</code> tables from the Northwind database, Hugo executed the following SQL query:\n",
    "\n",
    "<pre><code>\"SELECT OrderID, CompanyName FROM Orders INNER JOIN Customers on Orders.CustomerID = Customers.CustomerID\"\n",
    "</code></pre>\n",
    "\n",
    "The following code has already been executed to import the necessary packages and to create the engine:\n",
    "\n",
    "<pre><code>import pandas as pd\n",
    "from sqlalchemy import create_engine\n",
    "engine = create_engine('sqlite:///Chinook.sqlite')\n",
    "</code></pre>"
   ]
  },
  {
   "cell_type": "markdown",
   "metadata": {},
   "source": [
    "#### INSTRUCTIONS:\n",
    "* Use the <code>pandas</code> function <code>read_sql_query()</code> to assign to the variable <code>df</code> the DataFrame of results from the following query: <strong>select</strong> <em>all</em> records <strong>from</strong> <code>PlaylistTrack INNER JOIN Track on PlaylistTrack.TrackId = Track.TrackId</code> that satisfy the condition <code>Milliseconds &lt; 250000</code>."
   ]
  },
  {
   "cell_type": "markdown",
   "metadata": {},
   "source": [
    "#### SCRIPT.PY:"
   ]
  },
  {
   "cell_type": "code",
   "execution_count": null,
   "metadata": {},
   "outputs": [],
   "source": [
    "# Execute query and store records in DataFrame: df\n",
    "\n",
    "\n",
    "# Print head of DataFrame\n",
    "print(df.head())"
   ]
  }
 ],
 "metadata": {
  "kernelspec": {
   "display_name": "Python 3",
   "language": "python",
   "name": "python3"
  },
  "language_info": {
   "codemirror_mode": {
    "name": "ipython",
    "version": 3
   },
   "file_extension": ".py",
   "mimetype": "text/x-python",
   "name": "python",
   "nbconvert_exporter": "python",
   "pygments_lexer": "ipython3",
   "version": "3.6.7"
  }
 },
 "nbformat": 4,
 "nbformat_minor": 2
}
