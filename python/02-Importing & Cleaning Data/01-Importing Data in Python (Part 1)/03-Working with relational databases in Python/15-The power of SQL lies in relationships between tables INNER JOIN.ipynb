{
 "cells": [
  {
   "cell_type": "markdown",
   "metadata": {},
   "source": [
    "# The power of SQL lies in relationships between tables: INNER JOIN"
   ]
  },
  {
   "cell_type": "markdown",
   "metadata": {},
   "source": [
    "#### EXERCISE:\n",
    "Here, you'll perform your first <code>INNER JOIN</code>! You'll be working with your favourite SQLite database, <code>Chinook.sqlite</code>. For each record in the <code>Album</code> table, you'll extract the <code>Title</code> along with the <code>Name</code> of the <code>Artist</code>. The latter will come from the <code>Artist</code> table and so you will need to <code>INNER JOIN</code> these two tables on the <code>ArtistID</code> column of both.\n",
    "\n",
    "Recall that to <code>INNER JOIN</code> the <code>Orders</code> and <code>Customers</code> tables from the Northwind database, Hugo executed the following SQL query:\n",
    "\n",
    "<pre><code>\"SELECT OrderID, CompanyName FROM Orders INNER JOIN Customers on Orders.CustomerID = Customers.CustomerID\"\n",
    "</code></pre>\n",
    "\n",
    "The following code has already been executed to import the necessary packages and to create the engine:\n",
    "\n",
    "<pre><code>import pandas as pd\n",
    "from sqlalchemy import create_engine\n",
    "engine = create_engine('sqlite:///Chinook.sqlite')\n",
    "</code></pre>"
   ]
  },
  {
   "cell_type": "markdown",
   "metadata": {},
   "source": [
    "#### INSTRUCTIONS:\n",
    "* Assign to <code>rs</code> the results from the following query: <strong>select</strong> <em>all</em> the records, extracting the <code>Title</code> of the record and <code>Name</code> of the artist of each record <strong>from</strong> the <code>Album</code> table and the <code>Artist</code> table, respectively. To do so, <code>INNER JOIN</code> these two tables on the <code>ArtistID</code> column of both.\n",
    "* In a call to <code>pd.DataFrame()</code>, apply the method <code>fetchall()</code> to <code>rs</code> in order to fetch all records in <code>rs</code>. Store them in the DataFrame <code>df</code>.\n",
    "* Set the DataFrame's column names to the corresponding names of the table columns."
   ]
  },
  {
   "cell_type": "markdown",
   "metadata": {},
   "source": [
    "#### SCRIPT.PY:"
   ]
  },
  {
   "cell_type": "code",
   "execution_count": null,
   "metadata": {},
   "outputs": [],
   "source": [
    "# Open engine in context manager\n",
    "# Perform query and save results to DataFrame: df\n",
    "with engine.connect() as con:\n",
    "    ____\n",
    "    ____\n",
    "    ____\n",
    "\n",
    "# Print head of DataFrame df\n",
    "print(df.head())\n"
   ]
  }
 ],
 "metadata": {
  "kernelspec": {
   "display_name": "Python 3",
   "language": "python",
   "name": "python3"
  },
  "language_info": {
   "codemirror_mode": {
    "name": "ipython",
    "version": 3
   },
   "file_extension": ".py",
   "mimetype": "text/x-python",
   "name": "python",
   "nbconvert_exporter": "python",
   "pygments_lexer": "ipython3",
   "version": "3.6.7"
  }
 },
 "nbformat": 4,
 "nbformat_minor": 2
}
