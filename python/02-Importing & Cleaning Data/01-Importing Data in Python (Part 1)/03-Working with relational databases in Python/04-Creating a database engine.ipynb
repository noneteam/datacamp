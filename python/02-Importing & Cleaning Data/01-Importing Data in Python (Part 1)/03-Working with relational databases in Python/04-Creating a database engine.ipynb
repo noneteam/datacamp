{
 "cells": [
  {
   "cell_type": "markdown",
   "metadata": {},
   "source": [
    "# Creating a database engine"
   ]
  },
  {
   "cell_type": "markdown",
   "metadata": {},
   "source": [
    "#### EXERCISE:\n",
    "Here, you're going to fire up your very first SQL engine. You'll create an engine to connect to the SQLite database <code>'Chinook.sqlite'</code>, which is in your working directory. Remember that to create an engine to connect to <code>'Northwind.sqlite'</code>, Hugo executed the command\n",
    "\n",
    "<pre><code>engine = create_engine('sqlite:///Northwind.sqlite')\n",
    "</code></pre>\n",
    "\n",
    "Here, <code>'sqlite:///Northwind.sqlite'</code> is called the <em>connection string</em> to the SQLite database <code>Northwind.sqlite</code>.\n",
    "A little bit of background on the <a href=\"http://chinookdatabase.codeplex.com/\" target=\"_blank\">Chinook database</a>: the Chinook database contains information about a semi-fictional digital media store in which media data is real and customer, employee and sales data has been manually created.\n",
    "\n",
    "Why the name Chinook, you ask? According to their <a href=\"http://chinookdatabase.codeplex.com/\" target=\"_blank\">website</a>,\n",
    "\n",
    "<blockquote>\n",
    "The name of this sample database was based on the Northwind database. Chinooks are winds in the interior West of North America, where the Canadian Prairies and Great Plains meet various mountain ranges. Chinooks are most prevalent over southern Alberta in Canada. Chinook is a good name choice for a database that intends to be an alternative to Northwind.\n",
    "</blockquote>"
   ]
  },
  {
   "cell_type": "markdown",
   "metadata": {},
   "source": [
    "#### INSTRUCTIONS:\n",
    "* Import the function <code>create_engine</code> from the module <code>sqlalchemy</code>.\n",
    "* Create an engine to connect to the SQLite database <code>'Chinook.sqlite'</code> and assign it to <code>engine</code>."
   ]
  },
  {
   "cell_type": "markdown",
   "metadata": {},
   "source": [
    "#### SCRIPT.PY:"
   ]
  },
  {
   "cell_type": "code",
   "execution_count": null,
   "metadata": {},
   "outputs": [],
   "source": [
    "# Import necessary module\n",
    "from ____ import ____\n",
    "\n",
    "# Create engine: engine\n"
   ]
  }
 ],
 "metadata": {
  "kernelspec": {
   "display_name": "Python 3",
   "language": "python",
   "name": "python3"
  },
  "language_info": {
   "codemirror_mode": {
    "name": "ipython",
    "version": 3
   },
   "file_extension": ".py",
   "mimetype": "text/x-python",
   "name": "python",
   "nbconvert_exporter": "python",
   "pygments_lexer": "ipython3",
   "version": "3.6.7"
  }
 },
 "nbformat": 4,
 "nbformat_minor": 2
}
