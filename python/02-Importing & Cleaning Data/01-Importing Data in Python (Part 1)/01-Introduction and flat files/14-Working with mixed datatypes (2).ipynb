{
 "cells": [
  {
   "cell_type": "markdown",
   "metadata": {},
   "source": [
    "# Working with mixed datatypes (2)"
   ]
  },
  {
   "cell_type": "markdown",
   "metadata": {},
   "source": [
    "#### EXERCISE:\n",
    "You have just used <code>np.genfromtxt()</code> to import data containing\n",
    "mixed datatypes. There is also another function <code>np.recfromcsv()</code> that behaves\n",
    "similarly to <code>np.genfromtxt()</code>, except that its default\n",
    "<code>dtype</code> is <code>None</code>. In this exercise, you'll practice using this to\n",
    "achieve the same result."
   ]
  },
  {
   "cell_type": "markdown",
   "metadata": {},
   "source": [
    "#### INSTRUCTIONS:\n",
    "* Import <code>titanic.csv</code> using the function <code>np.recfromcsv()</code> and assign it to the variable, <code>d</code>. You'll only need to pass <code>file</code> to it because it has the defaults <code>delimiter=','</code> and <code>names=True</code> in addition to <code>dtype=None</code>!\n",
    "* Run the remaining code to print the first three entries of the resulting array <code>d</code>."
   ]
  },
  {
   "cell_type": "markdown",
   "metadata": {},
   "source": [
    "#### SCRIPT.PY:"
   ]
  },
  {
   "cell_type": "code",
   "execution_count": null,
   "metadata": {},
   "outputs": [],
   "source": [
    "# Assign the filename: file\n",
    "file = 'titanic.csv'\n",
    "\n",
    "# Import file using np.recfromcsv: d\n",
    "\n",
    "\n",
    "# Print out first three entries of d\n",
    "print(d[:3])\n"
   ]
  }
 ],
 "metadata": {
  "kernelspec": {
   "display_name": "Python 3",
   "language": "python",
   "name": "python3"
  },
  "language_info": {
   "codemirror_mode": {
    "name": "ipython",
    "version": 3
   },
   "file_extension": ".py",
   "mimetype": "text/x-python",
   "name": "python",
   "nbconvert_exporter": "python",
   "pygments_lexer": "ipython3",
   "version": "3.6.7"
  }
 },
 "nbformat": 4,
 "nbformat_minor": 2
}
