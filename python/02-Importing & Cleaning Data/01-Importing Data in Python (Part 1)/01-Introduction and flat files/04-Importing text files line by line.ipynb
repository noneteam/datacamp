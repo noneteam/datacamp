{
 "cells": [
  {
   "cell_type": "markdown",
   "metadata": {},
   "source": [
    "# Importing text files line by line"
   ]
  },
  {
   "cell_type": "markdown",
   "metadata": {},
   "source": [
    "#### EXERCISE:\n",
    "For large files, we may not want to print all of their content to the shell:\n",
    "you may wish to print only the first few lines. Enter the <code>readline()</code> method,\n",
    "which allows you to do this. When a file called <code>file</code> is open, you can print\n",
    "out the first line by executing <code>file.readline()</code>. If you execute the same\n",
    "command again, the second line will print, and so on.\n",
    "\n",
    "In the introductory video, Hugo also introduced the concept of a <strong>context manager</strong>. He showed that you can bind a variable <code>file</code> by using a context manager construct:\n",
    "\n",
    "<pre><code>with open('huck_finn.txt') as file:\n",
    "</code></pre>\n",
    "\n",
    "While still within this construct, the variable <code>file</code> will be bound to <code>open('huck_finn.txt')</code>; thus, to print the file to the shell, all the code you need to execute is:\n",
    "\n",
    "<pre><code>with open('huck_finn.txt') as file:\n",
    "    print(file.read())\n",
    "</code></pre>\n",
    "\n",
    "You'll now use these tools to print the first few lines of <code>moby_dick.txt</code>!"
   ]
  },
  {
   "cell_type": "markdown",
   "metadata": {},
   "source": [
    "#### INSTRUCTIONS:\n",
    "* Open <code>moby_dick.txt</code> using the <code>with</code> context manager and the variable <code>file</code>.\n",
    "* Print the first three lines of the file to the shell by using <code>readline()</code> three times within the context manager."
   ]
  },
  {
   "cell_type": "markdown",
   "metadata": {},
   "source": [
    "#### SCRIPT.PY:"
   ]
  },
  {
   "cell_type": "code",
   "execution_count": null,
   "metadata": {},
   "outputs": [],
   "source": [
    "# Read & print the first 3 lines\n",
    "with open('moby_dick.txt') as ____:\n",
    "    print(____)\n",
    "    print(____)\n",
    "    print(____)\n"
   ]
  }
 ],
 "metadata": {
  "kernelspec": {
   "display_name": "Python 3",
   "language": "python",
   "name": "python3"
  },
  "language_info": {
   "codemirror_mode": {
    "name": "ipython",
    "version": 3
   },
   "file_extension": ".py",
   "mimetype": "text/x-python",
   "name": "python",
   "nbconvert_exporter": "python",
   "pygments_lexer": "ipython3",
   "version": "3.6.7"
  }
 },
 "nbformat": 4,
 "nbformat_minor": 2
}
