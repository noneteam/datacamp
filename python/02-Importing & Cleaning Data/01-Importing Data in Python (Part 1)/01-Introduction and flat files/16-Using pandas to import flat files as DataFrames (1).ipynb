{
 "cells": [
  {
   "cell_type": "markdown",
   "metadata": {},
   "source": [
    "# Using pandas to import flat files as DataFrames (1)"
   ]
  },
  {
   "cell_type": "markdown",
   "metadata": {},
   "source": [
    "#### EXERCISE:\n",
    "In the last exercise, you were able to import flat files\n",
    "containing columns with different datatypes as <code>numpy</code> arrays. However,\n",
    "the <code>DataFrame</code> object in pandas is\n",
    "a more appropriate structure in which to store such data and,\n",
    "thankfully, we can easily import files of mixed data types as DataFrames\n",
    "using the pandas functions <code>read_csv()</code> and <code>read_table()</code>."
   ]
  },
  {
   "cell_type": "markdown",
   "metadata": {},
   "source": [
    "#### INSTRUCTIONS:\n",
    "* Import the <code>pandas</code> package using the alias <code>pd</code>.\n",
    "* Read <code>titanic.csv</code> into a DataFrame called <code>df</code>. The file name is already stored in the <code>file</code> object.\n",
    "* In a <code>print()</code> call, view the head of the DataFrame."
   ]
  },
  {
   "cell_type": "markdown",
   "metadata": {},
   "source": [
    "#### SCRIPT.PY:"
   ]
  },
  {
   "cell_type": "code",
   "execution_count": null,
   "metadata": {},
   "outputs": [],
   "source": [
    "# Import pandas as pd\n",
    "\n",
    "\n",
    "# Assign the filename: file\n",
    "file = 'titanic.csv'\n",
    "\n",
    "# Read the file into a DataFrame: df\n",
    "df = pd.read_csv(____)\n",
    "\n",
    "# View the head of the DataFrame\n",
    "\n"
   ]
  }
 ],
 "metadata": {
  "kernelspec": {
   "display_name": "Python 3",
   "language": "python",
   "name": "python3"
  },
  "language_info": {
   "codemirror_mode": {
    "name": "ipython",
    "version": 3
   },
   "file_extension": ".py",
   "mimetype": "text/x-python",
   "name": "python",
   "nbconvert_exporter": "python",
   "pygments_lexer": "ipython3",
   "version": "3.6.7"
  }
 },
 "nbformat": 4,
 "nbformat_minor": 2
}
