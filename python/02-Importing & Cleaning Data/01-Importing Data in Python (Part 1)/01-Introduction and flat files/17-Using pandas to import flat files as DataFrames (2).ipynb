{
 "cells": [
  {
   "cell_type": "markdown",
   "metadata": {},
   "source": [
    "# Using pandas to import flat files as DataFrames (2)"
   ]
  },
  {
   "cell_type": "markdown",
   "metadata": {},
   "source": [
    "#### EXERCISE:\n",
    "In the last exercise, you were able to import flat files\n",
    "into a <code>pandas</code> DataFrame. As a bonus, it is then straightforward\n",
    "to retrieve the corresponding\n",
    "<code>numpy</code> array using the attribute <code>values</code>. You'll now have a chance\n",
    "to do this using the MNIST dataset, which is available as <code>digits.csv</code>."
   ]
  },
  {
   "cell_type": "markdown",
   "metadata": {},
   "source": [
    "#### INSTRUCTIONS:\n",
    "* Import the first 5 rows of the file into a DataFrame using the function <code>pd.read_csv()</code> and assign the result to <code>data</code>. You'll need to use the arguments <code>nrows</code> and <code>header</code> (there is no header in this file).\n",
    "* Build a <code>numpy</code> array from the resulting DataFrame in <code>data</code> and assign to <code>data_array</code>.\n",
    "* Execute <code>print(type(data_array))</code> to print the datatype of <code>data_array</code>."
   ]
  },
  {
   "cell_type": "markdown",
   "metadata": {},
   "source": [
    "#### SCRIPT.PY:"
   ]
  },
  {
   "cell_type": "code",
   "execution_count": null,
   "metadata": {},
   "outputs": [],
   "source": [
    "# Assign the filename: file\n",
    "file = 'digits.csv'\n",
    "\n",
    "# Read the first 5 rows of the file into a DataFrame: data\n",
    "\n",
    "\n",
    "# Build a numpy array from the DataFrame: data_array\n",
    "\n",
    "\n",
    "# Print the datatype of data_array to the shell\n",
    "print(type(data_array))"
   ]
  }
 ],
 "metadata": {
  "kernelspec": {
   "display_name": "Python 3",
   "language": "python",
   "name": "python3"
  },
  "language_info": {
   "codemirror_mode": {
    "name": "ipython",
    "version": 3
   },
   "file_extension": ".py",
   "mimetype": "text/x-python",
   "name": "python",
   "nbconvert_exporter": "python",
   "pygments_lexer": "ipython3",
   "version": "3.6.7"
  }
 },
 "nbformat": 4,
 "nbformat_minor": 2
}
