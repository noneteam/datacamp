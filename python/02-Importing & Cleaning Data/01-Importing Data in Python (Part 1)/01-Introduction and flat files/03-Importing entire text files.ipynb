{
 "cells": [
  {
   "cell_type": "markdown",
   "metadata": {},
   "source": [
    "# Importing entire text files"
   ]
  },
  {
   "cell_type": "markdown",
   "metadata": {},
   "source": [
    "#### EXERCISE:\n",
    "In this exercise, you'll be working with the file <code>moby_dick.txt</code>. It is a text file that contains the opening sentences of Moby Dick, one of the great American novels! Here you'll get experience\n",
    "opening a text file, printing its contents to the shell and, finally, closing it."
   ]
  },
  {
   "cell_type": "markdown",
   "metadata": {},
   "source": [
    "#### INSTRUCTIONS:\n",
    "* Open the file <code>moby_dick.txt</code> as <em>read-only</em> and store it in the variable <code>file</code>. Make sure to pass the filename enclosed in quotation marks <code>''</code>.\n",
    "* Print the contents of the file to the shell using the <code>print()</code> function. As Hugo showed in the video, you'll need to apply the method <code>read()</code> to the object <code>file</code>.\n",
    "* Check whether the file is closed by executing <code>print(file.closed)</code>.\n",
    "* Close the file using the <code>close()</code> method.\n",
    "* Check again that the file is closed as you did above."
   ]
  },
  {
   "cell_type": "markdown",
   "metadata": {},
   "source": [
    "#### SCRIPT.PY:"
   ]
  },
  {
   "cell_type": "code",
   "execution_count": null,
   "metadata": {},
   "outputs": [],
   "source": [
    "# Open a file: file\n",
    "file = open(____, ____)\n",
    "\n",
    "# Print it\n",
    "print(____)\n",
    "\n",
    "# Check whether file is closed\n",
    "print(file.closed)\n",
    "\n",
    "# Close file\n",
    "\n",
    "\n",
    "# Check whether file is closed\n",
    "\n"
   ]
  }
 ],
 "metadata": {
  "kernelspec": {
   "display_name": "Python 3",
   "language": "python",
   "name": "python3"
  },
  "language_info": {
   "codemirror_mode": {
    "name": "ipython",
    "version": 3
   },
   "file_extension": ".py",
   "mimetype": "text/x-python",
   "name": "python",
   "nbconvert_exporter": "python",
   "pygments_lexer": "ipython3",
   "version": "3.6.7"
  }
 },
 "nbformat": 4,
 "nbformat_minor": 2
}
