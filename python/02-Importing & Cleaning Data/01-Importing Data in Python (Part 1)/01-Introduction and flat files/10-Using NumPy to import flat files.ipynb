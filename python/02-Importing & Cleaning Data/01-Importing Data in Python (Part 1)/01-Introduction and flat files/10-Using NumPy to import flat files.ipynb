{
 "cells": [
  {
   "cell_type": "markdown",
   "metadata": {},
   "source": [
    "# Using NumPy to import flat files"
   ]
  },
  {
   "cell_type": "markdown",
   "metadata": {},
   "source": [
    "#### EXERCISE:\n",
    "In this exercise, you're now going to load the MNIST digit recognition dataset using the numpy function <code>loadtxt()</code> and see just how easy it can be:\n",
    "\n",
    "* The first argument will be the filename.\n",
    "* The second will be the delimiter which, in this case, is a comma.\n",
    "\n",
    "You can find more information about the MNIST dataset <a href=\"http://yann.lecun.com/exdb/mnist/\" target=\"_blank\">here</a> on the webpage of Yann LeCun, who is currently Director of AI Research at Facebook and Founding Director of the NYU Center for Data Science, among many other things."
   ]
  },
  {
   "cell_type": "markdown",
   "metadata": {},
   "source": [
    "#### INSTRUCTIONS:\n",
    "* Fill in the arguments of <code>np.loadtxt()</code> by passing <code>file</code> and a  comma <code>','</code> for the delimiter.\n",
    "* Fill in the argument of <code>print()</code> to print the type of the object <code>digits</code>. Use the function <code>type()</code>.\n",
    "* Execute the rest of the code to visualize one of the rows of the data."
   ]
  },
  {
   "cell_type": "markdown",
   "metadata": {},
   "source": [
    "#### SCRIPT.PY:"
   ]
  },
  {
   "cell_type": "code",
   "execution_count": null,
   "metadata": {},
   "outputs": [],
   "source": [
    "# Import package\n",
    "import numpy as np\n",
    "\n",
    "# Assign filename to variable: file\n",
    "file = 'digits.csv'\n",
    "\n",
    "# Load file as array: digits\n",
    "digits = np.loadtxt(____, delimiter=____)\n",
    "\n",
    "# Print datatype of digits\n",
    "print(____)\n",
    "\n",
    "# Select and reshape a row\n",
    "im = digits[21, 1:]\n",
    "im_sq = np.reshape(im, (28, 28))\n",
    "\n",
    "# Plot reshaped data (matplotlib.pyplot already loaded as plt)\n",
    "plt.imshow(im_sq, cmap='Greys', interpolation='nearest')\n",
    "plt.show()\n"
   ]
  }
 ],
 "metadata": {
  "kernelspec": {
   "display_name": "Python 3",
   "language": "python",
   "name": "python3"
  },
  "language_info": {
   "codemirror_mode": {
    "name": "ipython",
    "version": 3
   },
   "file_extension": ".py",
   "mimetype": "text/x-python",
   "name": "python",
   "nbconvert_exporter": "python",
   "pygments_lexer": "ipython3",
   "version": "3.6.7"
  }
 },
 "nbformat": 4,
 "nbformat_minor": 2
}
