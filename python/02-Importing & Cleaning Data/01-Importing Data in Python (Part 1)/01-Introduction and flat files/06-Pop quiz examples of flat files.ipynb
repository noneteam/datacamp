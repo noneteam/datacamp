{
 "cells": [
  {
   "cell_type": "markdown",
   "metadata": {},
   "source": [
    "# Pop quiz: examples of flat files"
   ]
  },
  {
   "cell_type": "markdown",
   "metadata": {},
   "source": [
    "#### QUESTION:\n",
    "In order to import data into Python, you should first have an idea of what files are in your working\n",
    "directory.\n",
    "\n",
    "IPython, which is running on DataCamp's servers, has a bunch of cool commands,\n",
    "including its <a href=\"http://ipython.readthedocs.io/en/stable/overview.html\" target=\"_blank\">magic commands</a>.\n",
    "For example, starting a line with <code>!</code> gives you complete system shell access. This\n",
    "means that the IPython magic command <code>! ls</code> will display the contents of your\n",
    "current directory. Your task is to use the IPython magic command <code>! ls</code> to check out the contents of\n",
    "your current directory and answer the following question: which of the following files\n",
    "is in your working directory?"
   ]
  },
  {
   "cell_type": "markdown",
   "metadata": {},
   "source": [
    "#### POSSIBLE ANSWERS:\n",
    "* A .csv file.\n",
    "* A tab-delimited .txt.\n",
    "* A relational database (e.g. PostgreSQL)."
   ]
  }
 ],
 "metadata": {
  "kernelspec": {
   "display_name": "Python 3",
   "language": "python",
   "name": "python3"
  },
  "language_info": {
   "codemirror_mode": {
    "name": "ipython",
    "version": 3
   },
   "file_extension": ".py",
   "mimetype": "text/x-python",
   "name": "python",
   "nbconvert_exporter": "python",
   "pygments_lexer": "ipython3",
   "version": "3.6.7"
  }
 },
 "nbformat": 4,
 "nbformat_minor": 2
}
