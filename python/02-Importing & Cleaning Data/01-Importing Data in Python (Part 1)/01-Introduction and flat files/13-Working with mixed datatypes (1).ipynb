{
 "cells": [
  {
   "cell_type": "markdown",
   "metadata": {},
   "source": [
    "# Working with mixed datatypes (1)"
   ]
  },
  {
   "cell_type": "markdown",
   "metadata": {},
   "source": [
    "#### QUESTION:\n",
    "Much of the time you will need to import datasets which have\n",
    "different datatypes in different columns; one column\n",
    "may contain strings and another floats, for example. The function\n",
    "<code>np.loadtxt()</code> will freak at this. There is another function,\n",
    "<code>np.genfromtxt()</code>, which can handle such structures. If we\n",
    "pass <code>dtype=None</code> to it, it will figure out what types\n",
    "each column should be.\n",
    "\n",
    "Import <code>'titanic.csv'</code> using the function <code>np.genfromtxt()</code> as follows:\n",
    "\n",
    "<pre><code>data = np.genfromtxt('titanic.csv', delimiter=',', names=True, dtype=None)\n",
    "</code></pre>\n",
    "\n",
    "Here, the first argument is the filename, the second\n",
    "specifies the delimiter <code>,</code> and the third argument <code>names</code> tells us there is a header.\n",
    "Because the data are of different types, <code>data</code> is an object called a\n",
    "<a href=\"http://docs.scipy.org/doc/numpy/user/basics.rec.html\" target=\"_blank\">structured array</a>. Because numpy arrays have\n",
    "to contain elements that are all the same type, the structured array solves this by being a 1D array,\n",
    "where each element of the array is a row of the flat file imported. You can test this by checking\n",
    "out the array's shape in the shell by executing <code>np.shape(data)</code>.\n",
    "\n",
    "Accessing rows and columns of structured arrays is super-intuitive: to get the ith row, merely\n",
    "execute <code>data[i]</code> and to get the column with name <code>'Fare'</code>, execute <code>data['Fare']</code>.\n",
    "\n",
    "Print the entire column with name <code>Survived</code> to the shell. What are the last 4 values of this column?"
   ]
  },
  {
   "cell_type": "markdown",
   "metadata": {},
   "source": [
    "#### POSSIBLE ANSWERS:\n",
    "* 1,0,0,1.\n",
    "* 1,2,0,0.\n",
    "* 1,0,1,0.\n",
    "* 0,1,1,1."
   ]
  }
 ],
 "metadata": {
  "kernelspec": {
   "display_name": "Python 3",
   "language": "python",
   "name": "python3"
  },
  "language_info": {
   "codemirror_mode": {
    "name": "ipython",
    "version": 3
   },
   "file_extension": ".py",
   "mimetype": "text/x-python",
   "name": "python",
   "nbconvert_exporter": "python",
   "pygments_lexer": "ipython3",
   "version": "3.6.7"
  }
 },
 "nbformat": 4,
 "nbformat_minor": 2
}
