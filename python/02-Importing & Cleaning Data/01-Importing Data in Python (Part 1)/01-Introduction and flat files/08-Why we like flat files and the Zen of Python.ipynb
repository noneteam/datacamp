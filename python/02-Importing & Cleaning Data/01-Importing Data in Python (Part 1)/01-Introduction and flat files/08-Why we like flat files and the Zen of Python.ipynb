{
 "cells": [
  {
   "cell_type": "markdown",
   "metadata": {},
   "source": [
    "# Why we like flat files and the Zen of Python"
   ]
  },
  {
   "cell_type": "markdown",
   "metadata": {},
   "source": [
    "#### QUESTION:\n",
    "In PythonLand, there are currently hundreds of <em>Python Enhancement Proposals</em>, commonly referred to as <em>PEP</em>s. <a href=\"https://www.python.org/dev/peps/pep-0008/\" target=\"_blank\">PEP8</a>, for example, is a standard style guide for Python, written by our sensei Guido van Rossum himself. It is the basis for how we here at DataCamp ask our instructors to <a href=\"https://www.datacamp.com/teach/documentation#tab_style_guide_python\" target=\"_blank\">style their code</a>. Another one of my favorites is <a href=\"https://www.python.org/dev/peps/pep-0020/\" target=\"_blank\">PEP20</a>, commonly called the <em>Zen of Python</em>. Its abstract is as follows:\n",
    "\n",
    "<blockquote>\n",
    "  Long time Pythoneer Tim Peters succinctly channels the BDFL's guiding principles for Python's design into 20 aphorisms, only 19 of which have been written down.\n",
    "</blockquote>\n",
    "\n",
    "If you don't know what the acronym <code>BDFL</code> stands for, I suggest that you look <a href=\"https://docs.python.org/3.3/glossary.html#term-bdfl\" target=\"_blank\">here</a>. You can print the Zen of Python in your shell by typing <code>import this</code> into it! You're going to do this now and the 5th aphorism (line) will say something of particular interest.\n",
    "\n",
    "The question you need to answer is: <strong>what is the 5th aphorism of the <em>Zen of Python</em>?</strong>"
   ]
  },
  {
   "cell_type": "markdown",
   "metadata": {},
   "source": [
    "#### POSSIBLE ANSWERS:\n",
    "* Flat is better than nested.\n",
    "* Flat files are essential for data science.\n",
    "* The world is representable as a flat file.\n",
    "* Flatness is in the eye of the beholder."
   ]
  }
 ],
 "metadata": {
  "kernelspec": {
   "display_name": "Python 3",
   "language": "python",
   "name": "python3"
  },
  "language_info": {
   "codemirror_mode": {
    "name": "ipython",
    "version": 3
   },
   "file_extension": ".py",
   "mimetype": "text/x-python",
   "name": "python",
   "nbconvert_exporter": "python",
   "pygments_lexer": "ipython3",
   "version": "3.6.7"
  }
 },
 "nbformat": 4,
 "nbformat_minor": 2
}
