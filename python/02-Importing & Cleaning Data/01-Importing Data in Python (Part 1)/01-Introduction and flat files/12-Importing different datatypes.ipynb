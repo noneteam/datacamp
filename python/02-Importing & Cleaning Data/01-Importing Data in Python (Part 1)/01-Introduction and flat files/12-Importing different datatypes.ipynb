{
 "cells": [
  {
   "cell_type": "markdown",
   "metadata": {},
   "source": [
    "# Importing different datatypes"
   ]
  },
  {
   "cell_type": "markdown",
   "metadata": {},
   "source": [
    "#### EXERCISE:\n",
    "The file <code>seaslug.txt</code>\n",
    "\n",
    "* has a text header, consisting of strings\n",
    "* is tab-delimited.\n",
    "\n",
    "These data consists of percentage of\n",
    "sea slug larvae that had metamorphosed in a given time period.\n",
    "Read more <a href=\"http://www.stat.ucla.edu/projects/datasets/seaslug-explanation.html\" target=\"_blank\">here</a>.\n",
    "\n",
    "Due to the header, if you tried to import it as-is using\n",
    "<code>np.loadtxt()</code>, Python would throw you a <code>ValueError</code> and tell\n",
    "you that it <code>could not convert string to float</code>. There are\n",
    "two ways to deal with this: firstly, you can set the data type\n",
    "argument <code>dtype</code> equal to <code>str</code> (for string).\n",
    "\n",
    "Alternatively, you can skip the first row as we have seen before, using the <code>skiprows</code> argument."
   ]
  },
  {
   "cell_type": "markdown",
   "metadata": {},
   "source": [
    "#### INSTRUCTIONS:\n",
    "* Complete the first call to <code>np.loadtxt()</code> by passing <code>file</code> as the first argument.\n",
    "* Execute <code>print(data[0])</code> to print the first element of <code>data</code>.\n",
    "* Complete the second call to <code>np.loadtxt()</code>. The file you're importing is tab-delimited, the datatype is <code>float</code>, and you want to skip the first row.\n",
    "* Print the 10th element of <code>data_float</code> by completing the <code>print()</code> command. Be guided by the previous <code>print()</code> call.\n",
    "* Execute the rest of the code to visualize the data."
   ]
  },
  {
   "cell_type": "markdown",
   "metadata": {},
   "source": [
    "#### SCRIPT.PY:"
   ]
  },
  {
   "cell_type": "code",
   "execution_count": null,
   "metadata": {},
   "outputs": [],
   "source": [
    "# Assign filename: file\n",
    "file = 'seaslug.txt'\n",
    "\n",
    "# Import file: data\n",
    "data = np.loadtxt(____, delimiter='\\t', dtype=str)\n",
    "\n",
    "# Print the first element of data\n",
    "print(data[0])\n",
    "\n",
    "# Import data as floats and skip the first row: data_float\n",
    "data_float = np.loadtxt(____, delimiter=____, dtype=____, skiprows=____)\n",
    "\n",
    "# Print the 10th element of data_float\n",
    "print(____)\n",
    "\n",
    "# Plot a scatterplot of the data\n",
    "plt.scatter(data_float[:, 0], data_float[:, 1])\n",
    "plt.xlabel('time (min.)')\n",
    "plt.ylabel('percentage of larvae')\n",
    "plt.show()\n"
   ]
  }
 ],
 "metadata": {
  "kernelspec": {
   "display_name": "Python 3",
   "language": "python",
   "name": "python3"
  },
  "language_info": {
   "codemirror_mode": {
    "name": "ipython",
    "version": 3
   },
   "file_extension": ".py",
   "mimetype": "text/x-python",
   "name": "python",
   "nbconvert_exporter": "python",
   "pygments_lexer": "ipython3",
   "version": "3.6.7"
  }
 },
 "nbformat": 4,
 "nbformat_minor": 2
}
