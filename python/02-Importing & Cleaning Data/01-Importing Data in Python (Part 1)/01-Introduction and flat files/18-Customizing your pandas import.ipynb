{
 "cells": [
  {
   "cell_type": "markdown",
   "metadata": {},
   "source": [
    "# Customizing your pandas import"
   ]
  },
  {
   "cell_type": "markdown",
   "metadata": {},
   "source": [
    "#### EXERCISE:\n",
    "The <code>pandas</code> package is also great at dealing with many of the issues you will\n",
    "encounter when importing data as a data scientist, such as comments\n",
    "occurring in flat files, empty lines and missing values. Note that missing values are also commonly referred to as <code>NA</code> or <code>NaN</code>. To wrap up this chapter, you're now going to import a slightly corrupted\n",
    "copy of the Titanic dataset <code>titanic_corrupt.txt</code>, which\n",
    "\n",
    "* contains comments after the character <code>'#'</code>\n",
    "* is tab-delimited."
   ]
  },
  {
   "cell_type": "markdown",
   "metadata": {},
   "source": [
    "#### INSTRUCTIONS:\n",
    "* Complete the <code>sep</code> (the <code>pandas</code> version of <code>delim</code>), <code>comment</code> and <code>na_values</code> arguments of <code>pd.read_csv()</code>. <code>comment</code> takes characters that comments occur after in the file, which in this case is <code>'#'</code>. <code>na_values</code> takes a list of strings to recognize as <code>NA</code>/<code>NaN</code>, in this case the string <code>'Nothing'</code>.\n",
    "* Execute the rest of the code to print the head of the resulting DataFrame and plot the histogram of the <code>'Age'</code> of passengers aboard the Titanic."
   ]
  },
  {
   "cell_type": "markdown",
   "metadata": {},
   "source": [
    "#### SCRIPT.PY:"
   ]
  },
  {
   "cell_type": "code",
   "execution_count": null,
   "metadata": {},
   "outputs": [],
   "source": [
    "# Import matplotlib.pyplot as plt\n",
    "import matplotlib.pyplot as plt\n",
    "\n",
    "# Assign filename: file\n",
    "file = 'titanic_corrupt.txt'\n",
    "\n",
    "# Import file: data\n",
    "data = pd.read_csv(file, sep=____, comment=____, na_values=____)\n",
    "\n",
    "# Print the head of the DataFrame\n",
    "print(data.head())\n",
    "\n",
    "# Plot 'Age' variable in a histogram\n",
    "pd.DataFrame.hist(data[['Age']])\n",
    "plt.xlabel('Age (years)')\n",
    "plt.ylabel('count')\n",
    "plt.show()\n"
   ]
  }
 ],
 "metadata": {
  "kernelspec": {
   "display_name": "Python 3",
   "language": "python",
   "name": "python3"
  },
  "language_info": {
   "codemirror_mode": {
    "name": "ipython",
    "version": 3
   },
   "file_extension": ".py",
   "mimetype": "text/x-python",
   "name": "python",
   "nbconvert_exporter": "python",
   "pygments_lexer": "ipython3",
   "version": "3.6.7"
  }
 },
 "nbformat": 4,
 "nbformat_minor": 2
}
