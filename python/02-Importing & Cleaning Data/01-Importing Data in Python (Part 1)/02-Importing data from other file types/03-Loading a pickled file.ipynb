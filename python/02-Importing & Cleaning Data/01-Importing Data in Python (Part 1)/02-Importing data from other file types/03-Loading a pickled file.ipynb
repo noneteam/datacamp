{
 "cells": [
  {
   "cell_type": "markdown",
   "metadata": {},
   "source": [
    "# Loading a pickled file"
   ]
  },
  {
   "cell_type": "markdown",
   "metadata": {},
   "source": [
    "#### EXERCISE:\n",
    "There are a number of datatypes that cannot be saved easily to flat files, such as lists and dictionaries. If you want your files to be human readable, you may want to save them as text files in a clever manner. JSONs, which you will see in a later chapter, are appropriate for Python dictionaries.\n",
    "\n",
    "However, if you merely want to be able to import them into Python, you can <a href=\"https://en.wikipedia.org/wiki/Serialization\" target=\"_blank\">serialize</a> them. All this means is converting the object into a sequence of bytes, or a bytestream.\n",
    "\n",
    "In this exercise, you'll import the <code>pickle</code> package, open a previously pickled data structure from a file and load it."
   ]
  },
  {
   "cell_type": "markdown",
   "metadata": {},
   "source": [
    "#### INSTRUCTIONS:\n",
    "* Import the <code>pickle</code> package.\n",
    "* Complete the second argument of <code>open()</code> so that it is read only for a binary file. This argument will be a string of two letters, one signifying 'read only', the other 'binary'.\n",
    "* Pass the correct argument to <code>pickle.load()</code>; it should use the variable that is bound to <code>open</code>.\n",
    "* Print the data, <code>d</code>.\n",
    "* Print the datatype of <code>d</code>; take your mind back to your previous use of the function <code>type()</code>."
   ]
  },
  {
   "cell_type": "markdown",
   "metadata": {},
   "source": [
    "#### SCRIPT.PY:"
   ]
  },
  {
   "cell_type": "code",
   "execution_count": null,
   "metadata": {},
   "outputs": [],
   "source": [
    "# Import pickle package\n",
    "\n",
    "\n",
    "# Open pickle file and load data: d\n",
    "with open('data.pkl', ____) as file:\n",
    "    d = pickle.load(____)\n",
    "\n",
    "# Print d\n",
    "print(____)\n",
    "\n",
    "# Print datatype of d\n",
    "print(____)\n"
   ]
  }
 ],
 "metadata": {
  "kernelspec": {
   "display_name": "Python 3",
   "language": "python",
   "name": "python3"
  },
  "language_info": {
   "codemirror_mode": {
    "name": "ipython",
    "version": 3
   },
   "file_extension": ".py",
   "mimetype": "text/x-python",
   "name": "python",
   "nbconvert_exporter": "python",
   "pygments_lexer": "ipython3",
   "version": "3.6.7"
  }
 },
 "nbformat": 4,
 "nbformat_minor": 2
}
