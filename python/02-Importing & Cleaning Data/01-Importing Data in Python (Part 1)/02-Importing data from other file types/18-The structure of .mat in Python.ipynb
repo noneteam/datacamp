{
 "cells": [
  {
   "cell_type": "markdown",
   "metadata": {},
   "source": [
    "# The structure of .mat in Python"
   ]
  },
  {
   "cell_type": "markdown",
   "metadata": {},
   "source": [
    "#### EXERCISE:\n",
    "Here, you'll discover what is in the MATLAB dictionary that you loaded in the previous exercise.\n",
    "\n",
    "The file <code>'albeck_gene_expression.mat'</code> is already loaded into the variable <code>mat</code>. The following libraries have already been imported as follows:\n",
    "\n",
    "<pre><code>import scipy.io \n",
    "import matplotlib.pyplot as plt\n",
    "import numpy as np\n",
    "</code></pre>\n",
    "\n",
    "Once again, this file contains <a href=\"https://www.mcb.ucdavis.edu/faculty-labs/albeck/workshop.htm\" target=\"_blank\">gene expression data</a> from the Albeck Lab at UCDavis. You can find the data and some great documentation <a href=\"https://www.mcb.ucdavis.edu/faculty-labs/albeck/workshop.htm\" target=\"_blank\">here</a>."
   ]
  },
  {
   "cell_type": "markdown",
   "metadata": {},
   "source": [
    "#### INSTRUCTIONS:\n",
    "* Use the method <code>.keys()</code> on the dictionary <code>mat</code> to print the keys. Most of these keys (in fact the ones that do NOT begin and end with '__') are variables from the corresponding MATLAB environment.\n",
    "* Print the type of the value corresponding to the key <code>'CYratioCyt'</code> in <code>mat</code>. Recall that <code>mat['CYratioCyt']</code> accesses the value.\n",
    "* Print the shape of the value corresponding to the key <code>'CYratioCyt'</code> using the <code>numpy</code> function <code>shape()</code>.\n",
    "* Execute the entire script to see some oscillatory gene expression data!"
   ]
  },
  {
   "cell_type": "markdown",
   "metadata": {},
   "source": [
    "#### SCRIPT.PY:"
   ]
  },
  {
   "cell_type": "code",
   "execution_count": null,
   "metadata": {},
   "outputs": [],
   "source": [
    "# Print the keys of the MATLAB dictionary\n",
    "\n",
    "\n",
    "# Print the type of the value corresponding to the key 'CYratioCyt'\n",
    "\n",
    "\n",
    "# Print the shape of the value corresponding to the key 'CYratioCyt'\n",
    "\n",
    "\n",
    "# Subset the array and plot it\n",
    "data = mat['CYratioCyt'][25, 5:]\n",
    "fig = plt.figure()\n",
    "plt.plot(data)\n",
    "plt.xlabel('time (min.)')\n",
    "plt.ylabel('normalized fluorescence (measure of expression)')\n",
    "plt.show()\n"
   ]
  }
 ],
 "metadata": {
  "kernelspec": {
   "display_name": "Python 3",
   "language": "python",
   "name": "python3"
  },
  "language_info": {
   "codemirror_mode": {
    "name": "ipython",
    "version": 3
   },
   "file_extension": ".py",
   "mimetype": "text/x-python",
   "name": "python",
   "nbconvert_exporter": "python",
   "pygments_lexer": "ipython3",
   "version": "3.6.7"
  }
 },
 "nbformat": 4,
 "nbformat_minor": 2
}
