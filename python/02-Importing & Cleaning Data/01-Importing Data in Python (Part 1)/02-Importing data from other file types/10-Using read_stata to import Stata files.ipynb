{
 "cells": [
  {
   "cell_type": "markdown",
   "metadata": {},
   "source": [
    "# Using read_stata to import Stata files"
   ]
  },
  {
   "cell_type": "markdown",
   "metadata": {},
   "source": [
    "#### QUESTION:\n",
    "The <code>pandas</code> package has been imported in the environment as <code>pd</code> and the file <code>disarea.dta</code> is in your working directory. The data consist of disease extents for several diseases in various countries (more information can be found <a href=\"http://www.cid.harvard.edu/ciddata/geog/readme_disarea.html\" target=\"_blank\">here</a>).\n",
    "\n",
    "What is the correct way of using the <code>read_stata()</code> function to import\n",
    "<code>disarea.dta</code> into the object <code>df</code>?"
   ]
  },
  {
   "cell_type": "markdown",
   "metadata": {},
   "source": [
    "#### POSSIBLE ANSWERS:\n",
    "* <code>df = 'disarea.dta'</code>\n",
    "* <code>df = read_stata.pd('disarea.dta')</code>\n",
    "* <code>df = pd.read_stata('disarea.dta')</code>\n",
    "* <code>df = pd.read_stata(disarea.dta)</code>"
   ]
  }
 ],
 "metadata": {
  "kernelspec": {
   "display_name": "Python 3",
   "language": "python",
   "name": "python3"
  },
  "language_info": {
   "codemirror_mode": {
    "name": "ipython",
    "version": 3
   },
   "file_extension": ".py",
   "mimetype": "text/x-python",
   "name": "python",
   "nbconvert_exporter": "python",
   "pygments_lexer": "ipython3",
   "version": "3.6.7"
  }
 },
 "nbformat": 4,
 "nbformat_minor": 2
}
