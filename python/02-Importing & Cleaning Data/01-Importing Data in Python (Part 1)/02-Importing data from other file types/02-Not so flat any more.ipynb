{
 "cells": [
  {
   "cell_type": "markdown",
   "metadata": {},
   "source": [
    "# Not so flat any more"
   ]
  },
  {
   "cell_type": "markdown",
   "metadata": {},
   "source": [
    "#### QUESTION:\n",
    "In Chapter 1, you learned how to use the IPython magic command <code>! ls</code> to explore your current working directory. You can also do this natively in Python using the <a href=\"https://docs.python.org/2/library/os.html\" target=\"_blank\">library <code>os</code></a>, which consists of miscellaneous operating system interfaces.\n",
    "\n",
    "The first line of the following code imports the library <code>os</code>, the second line stores the name of the current directory in a string called <code>wd</code> and the third outputs the contents of the directory in a list to the shell.\n",
    "\n",
    "<pre><code>import os\n",
    "wd = os.getcwd()\n",
    "os.listdir(wd)\n",
    "</code></pre>\n",
    "\n",
    "Run this code in the IPython shell and answer the following questions. Ignore the files that begin with <code>.</code>.\n",
    "\n",
    "Check out the contents of your current directory and answer the following questions: (1) which file is in your directory and NOT an example of a flat file; (2) why is it not a flat file?"
   ]
  },
  {
   "cell_type": "markdown",
   "metadata": {},
   "source": [
    "#### POSSIBLE ANSWERS:\n",
    "* <code>database.db</code> is not a flat file because relational databases contain structured relationships and flat files do not.\n",
    "* <code>battledeath.xlsx</code> is not a flat because it is a spreadsheet consisting of many sheets, not a single table.\n",
    "* <code>titanic.txt</code> is not a flat file because it is a <code>.txt</code>, not a <code>.csv</code>."
   ]
  }
 ],
 "metadata": {
  "kernelspec": {
   "display_name": "Python 3",
   "language": "python",
   "name": "python3"
  },
  "language_info": {
   "codemirror_mode": {
    "name": "ipython",
    "version": 3
   },
   "file_extension": ".py",
   "mimetype": "text/x-python",
   "name": "python",
   "nbconvert_exporter": "python",
   "pygments_lexer": "ipython3",
   "version": "3.6.7"
  }
 },
 "nbformat": 4,
 "nbformat_minor": 2
}
