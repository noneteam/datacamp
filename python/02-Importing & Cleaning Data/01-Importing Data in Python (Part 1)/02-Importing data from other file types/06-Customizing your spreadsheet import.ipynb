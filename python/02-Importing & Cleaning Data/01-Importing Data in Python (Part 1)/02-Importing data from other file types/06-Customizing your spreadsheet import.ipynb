{
 "cells": [
  {
   "cell_type": "markdown",
   "metadata": {},
   "source": [
    "# Customizing your spreadsheet import"
   ]
  },
  {
   "cell_type": "markdown",
   "metadata": {},
   "source": [
    "#### EXERCISE:\n",
    "Here, you'll parse your spreadsheets and use additional\n",
    "arguments to skip rows, rename columns and select only\n",
    "particular columns.\n",
    "\n",
    "The spreadsheet <code>'battledeath.xlsx'</code> is already loaded as\n",
    "<code>xl</code>.\n",
    "As before, you'll use the method <code>parse()</code>. This time, however,\n",
    "you'll add the additional arguments <code>skiprows</code>, <code>names</code> and\n",
    "<code>parse_cols</code>. These skip rows, name the columns and designate\n",
    "which columns to parse, respectively. All these arguments can\n",
    "be assigned to lists containing the specific row numbers, strings\n",
    "and column numbers, as appropriate."
   ]
  },
  {
   "cell_type": "markdown",
   "metadata": {},
   "source": [
    "#### INSTRUCTIONS:\n",
    "* Parse the first sheet by index. In doing so, skip the first row of data and name the columns <code>'Country'</code> and <code>'AAM due to War (2002)'</code> using the argument <code>names</code>. The values passed to <code>skiprows</code> and <code>names</code> all need to be of type <code>list</code>.\n",
    "* Parse the second sheet by index. In doing so, parse only the first column with the <code>parse_cols</code> parameter, skip the first row and rename the column <code>'Country'</code>. The argument passed to <code>parse_cols</code> also needs to be of type <code>list</code>."
   ]
  },
  {
   "cell_type": "markdown",
   "metadata": {},
   "source": [
    "#### SCRIPT.PY:"
   ]
  },
  {
   "cell_type": "code",
   "execution_count": null,
   "metadata": {},
   "outputs": [],
   "source": [
    "# Parse the first sheet and rename the columns: df1\n",
    "df1 = xl.parse(____, skiprows=____, names=____)\n",
    "\n",
    "# Print the head of the DataFrame df1\n",
    "print(df1.head())\n",
    "\n",
    "# Parse the first column of the second sheet and rename the column: df2\n",
    "df2 = xl.parse(____, parse_cols=____, skiprows=____, names=____)\n",
    "\n",
    "# Print the head of the DataFrame df2\n",
    "print(df2.head())\n"
   ]
  }
 ],
 "metadata": {
  "kernelspec": {
   "display_name": "Python 3",
   "language": "python",
   "name": "python3"
  },
  "language_info": {
   "codemirror_mode": {
    "name": "ipython",
    "version": 3
   },
   "file_extension": ".py",
   "mimetype": "text/x-python",
   "name": "python",
   "nbconvert_exporter": "python",
   "pygments_lexer": "ipython3",
   "version": "3.6.7"
  }
 },
 "nbformat": 4,
 "nbformat_minor": 2
}
