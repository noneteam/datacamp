{
 "cells": [
  {
   "cell_type": "markdown",
   "metadata": {},
   "source": [
    "# Importing SAS files"
   ]
  },
  {
   "cell_type": "markdown",
   "metadata": {},
   "source": [
    "#### EXERCISE:\n",
    "In this exercise, you'll figure out how to\n",
    "import a SAS file as a DataFrame using <code>SAS7BDAT</code> and\n",
    "<code>pandas</code>. The file <code>'sales.sas7bdat'</code> is already\n",
    "in your working directory and both <code>pandas</code> and <code>matplotlib.pyplot</code> have\n",
    "already been imported as follows:\n",
    "\n",
    "<pre><code>import pandas as pd\n",
    "import matplotlib.pyplot as plt\n",
    "</code></pre>\n",
    "\n",
    "The data are adapted from the website of the undergraduate text book\n",
    "<a href=\"http://www.principlesofeconometrics.com/sas/\" target=\"_blank\">Principles of Econometrics</a>\n",
    "by Hill, Griffiths and Lim."
   ]
  },
  {
   "cell_type": "markdown",
   "metadata": {},
   "source": [
    "#### INSTRUCTIONS:\n",
    "* Import the module <code>SAS7BDAT</code> from the library <code>sas7bdat</code>.\n",
    "* In the context of the file <code>'sales.sas7bdat'</code>, load its contents to a DataFrame <code>df_sas</code>, using the method <code>to_data_frame()</code> on the object <code>file</code>.\n",
    "* Print the head of the DataFrame <code>df_sas</code>.\n",
    "* Execute your entire script to produce a histogram plot!"
   ]
  },
  {
   "cell_type": "markdown",
   "metadata": {},
   "source": [
    "#### SCRIPT.PY:"
   ]
  },
  {
   "cell_type": "code",
   "execution_count": null,
   "metadata": {},
   "outputs": [],
   "source": [
    "# Import sas7bdat package\n",
    "from ____ import ____\n",
    "\n",
    "# Save file to a DataFrame: df_sas\n",
    "with SAS7BDAT('sales.sas7bdat') as file:\n",
    "    ____\n",
    "\n",
    "# Print head of DataFrame\n",
    "\n",
    "\n",
    "# Plot histogram of DataFrame features (pandas and pyplot already imported)\n",
    "pd.DataFrame.hist(df_sas[['P']])\n",
    "plt.ylabel('count')\n",
    "plt.show()\n"
   ]
  }
 ],
 "metadata": {
  "kernelspec": {
   "display_name": "Python 3",
   "language": "python",
   "name": "python3"
  },
  "language_info": {
   "codemirror_mode": {
    "name": "ipython",
    "version": 3
   },
   "file_extension": ".py",
   "mimetype": "text/x-python",
   "name": "python",
   "nbconvert_exporter": "python",
   "pygments_lexer": "ipython3",
   "version": "3.6.7"
  }
 },
 "nbformat": 4,
 "nbformat_minor": 2
}
