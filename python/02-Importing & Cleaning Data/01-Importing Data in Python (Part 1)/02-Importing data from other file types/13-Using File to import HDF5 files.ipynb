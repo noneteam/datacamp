{
 "cells": [
  {
   "cell_type": "markdown",
   "metadata": {},
   "source": [
    "# Using File to import HDF5 files"
   ]
  },
  {
   "cell_type": "markdown",
   "metadata": {},
   "source": [
    "#### QUESTION:\n",
    "The <code>h5py</code> package has been imported in the environment and the file <code>LIGO_data.hdf5</code>\n",
    "is loaded in the object <code>h5py_file</code>.\n",
    "\n",
    "What is the correct way of using the h5py function, <code>File()</code>, to import the file in <code>h5py_file</code> into an object,\n",
    "<code>h5py_data</code>, for <em>reading</em> only?"
   ]
  },
  {
   "cell_type": "markdown",
   "metadata": {},
   "source": [
    "#### POSSIBLE ANSWERS:\n",
    "* <code>h5py_data = File(h5py_file, 'r')</code>\n",
    "* <code>h5py_data = h5py.File(h5py_file, 'r')</code>\n",
    "* <code>h5py_data = h5py.File(h5py_file, read)</code>\n",
    "* <code>h5py_data = h5py.File(h5py_file, 'read')</code>"
   ]
  }
 ],
 "metadata": {
  "kernelspec": {
   "display_name": "Python 3",
   "language": "python",
   "name": "python3"
  },
  "language_info": {
   "codemirror_mode": {
    "name": "ipython",
    "version": 3
   },
   "file_extension": ".py",
   "mimetype": "text/x-python",
   "name": "python",
   "nbconvert_exporter": "python",
   "pygments_lexer": "ipython3",
   "version": "3.6.7"
  }
 },
 "nbformat": 4,
 "nbformat_minor": 2
}
