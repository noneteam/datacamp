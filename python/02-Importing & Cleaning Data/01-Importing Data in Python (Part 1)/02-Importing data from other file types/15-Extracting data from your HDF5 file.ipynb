{
 "cells": [
  {
   "cell_type": "markdown",
   "metadata": {},
   "source": [
    "# Using h5py to import HDF5 files"
   ]
  },
  {
   "cell_type": "markdown",
   "metadata": {},
   "source": [
    "#### EXERCISE:\n",
    "In this exercise, you'll extract some of the LIGO experiment's\n",
    "actual data from the HDF5 file and you'll visualize it.\n",
    "\n",
    "To do so, you'll need to first explore the HDF5 group <code>'strain'</code>."
   ]
  },
  {
   "cell_type": "markdown",
   "metadata": {},
   "source": [
    "#### INSTRUCTIONS:\n",
    "* Assign the HDF5 group <code>data['strain']</code> to <code>group</code>.\n",
    "* In the <code>for</code> loop, print out the keys of the HDF5 group in <code>group</code>.\n",
    "* Assign to the variable <code>strain</code> the values of the time series data <code>data['strain']['Strain']</code> using the attribute <code>.value</code>.\n",
    "* Set <code>num_samples</code> equal to <code>10000</code>, the number of time points we wish to sample.\n",
    "* Execute the rest of the code to produce a plot of the time series data in <code>LIGO_data.hdf5</code>."
   ]
  },
  {
   "cell_type": "markdown",
   "metadata": {},
   "source": [
    "#### SCRIPT.PY:"
   ]
  },
  {
   "cell_type": "code",
   "execution_count": null,
   "metadata": {},
   "outputs": [],
   "source": [
    "# Get the HDF5 group: group\n",
    "\n",
    "\n",
    "# Check out keys of group\n",
    "for key in ____:\n",
    "    print(____)\n",
    "\n",
    "# Set variable equal to time series data: strain\n",
    "\n",
    "\n",
    "# Set number of time points to sample: num_samples\n",
    "\n",
    "\n",
    "# Set time vector\n",
    "time = np.arange(0, 1, 1/num_samples)\n",
    "\n",
    "# Plot data\n",
    "plt.plot(time, strain[:num_samples])\n",
    "plt.xlabel('GPS Time (s)')\n",
    "plt.ylabel('strain')\n",
    "plt.show()\n"
   ]
  }
 ],
 "metadata": {
  "kernelspec": {
   "display_name": "Python 3",
   "language": "python",
   "name": "python3"
  },
  "language_info": {
   "codemirror_mode": {
    "name": "ipython",
    "version": 3
   },
   "file_extension": ".py",
   "mimetype": "text/x-python",
   "name": "python",
   "nbconvert_exporter": "python",
   "pygments_lexer": "ipython3",
   "version": "3.6.7"
  }
 },
 "nbformat": 4,
 "nbformat_minor": 2
}
