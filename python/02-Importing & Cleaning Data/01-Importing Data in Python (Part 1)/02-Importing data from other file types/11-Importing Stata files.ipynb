{
 "cells": [
  {
   "cell_type": "markdown",
   "metadata": {},
   "source": [
    "# Importing Stata files"
   ]
  },
  {
   "cell_type": "markdown",
   "metadata": {},
   "source": [
    "#### EXERCISE:\n",
    "Here, you'll gain expertise in\n",
    "importing Stata files as DataFrames using the\n",
    "<code>pd.read_stata()</code> function from <code>pandas</code>.\n",
    "The last exercise's file, <code>'disarea.dta'</code>, is still\n",
    "in your working directory."
   ]
  },
  {
   "cell_type": "markdown",
   "metadata": {},
   "source": [
    "#### INSTRUCTIONS:\n",
    "* Use <code>pd.read_stata()</code> to load the file <code>'disarea.dta'</code> into the DataFrame <code>df</code>.\n",
    "* Print the head of the DataFrame <code>df</code>.\n",
    "* Visualize your results by plotting a histogram of the column <code>disa10</code>. We’ve already provided this code for you, so just run it!"
   ]
  },
  {
   "cell_type": "markdown",
   "metadata": {},
   "source": [
    "#### SCRIPT.PY:"
   ]
  },
  {
   "cell_type": "code",
   "execution_count": 1,
   "metadata": {},
   "outputs": [
    {
     "name": "stdout",
     "output_type": "stream",
     "text": [
      "  wbcode               country  disa1  disa2  disa3  disa4  disa5  disa6  \\\n",
      "0    AFG           Afghanistan   0.00   0.00   0.76   0.73    0.0   0.00   \n",
      "1    AGO                Angola   0.32   0.02   0.56   0.00    0.0   0.00   \n",
      "2    ALB               Albania   0.00   0.00   0.02   0.00    0.0   0.00   \n",
      "3    ARE  United Arab Emirates   0.00   0.00   0.00   0.00    0.0   0.00   \n",
      "4    ARG             Argentina   0.00   0.24   0.24   0.00    0.0   0.23   \n",
      "\n",
      "   disa7  disa8   ...    disa16  disa17  disa18  disa19  disa20  disa21  \\\n",
      "0   0.00    0.0   ...       0.0     0.0     0.0    0.00    0.00     0.0   \n",
      "1   0.56    0.0   ...       0.0     0.4     0.0    0.61    0.00     0.0   \n",
      "2   0.00    0.0   ...       0.0     0.0     0.0    0.00    0.00     0.0   \n",
      "3   0.00    0.0   ...       0.0     0.0     0.0    0.00    0.00     0.0   \n",
      "4   0.00    0.0   ...       0.0     0.0     0.0    0.00    0.05     0.0   \n",
      "\n",
      "   disa22  disa23  disa24  disa25  \n",
      "0    0.00    0.02    0.00    0.00  \n",
      "1    0.99    0.98    0.61    0.00  \n",
      "2    0.00    0.00    0.00    0.16  \n",
      "3    0.00    0.00    0.00    0.00  \n",
      "4    0.00    0.01    0.00    0.11  \n",
      "\n",
      "[5 rows x 27 columns]\n"
     ]
    },
    {
     "data": {
      "image/png": "[encoded data removed]",
      "text/plain": [
       "<Figure size 432x288 with 1 Axes>"
      ]
     },
     "metadata": {
      "needs_background": "light"
     },
     "output_type": "display_data"
    }
   ],
   "source": [
    "%matplotlib inline\n",
    "from matplotlib import pyplot as plt\n",
    "# Import pandas\n",
    "import pandas as pd\n",
    "\n",
    "# Load Stata file into a pandas DataFrame: df\n",
    "df = pd.read_stata(\"disarea.dta\")\n",
    "\n",
    "# Print the head of the DataFrame df\n",
    "print(df.head())\n",
    "\n",
    "# Plot histogram of one column of the DataFrame\n",
    "pd.DataFrame.hist(df[['disa10']])\n",
    "plt.xlabel('Extent of disease')\n",
    "plt.ylabel('Number of countries')\n",
    "plt.show()\n"
   ]
  }
 ],
 "metadata": {
  "kernelspec": {
   "display_name": "Python 3",
   "language": "python",
   "name": "python3"
  },
  "language_info": {
   "codemirror_mode": {
    "name": "ipython",
    "version": 3
   },
   "file_extension": ".py",
   "mimetype": "text/x-python",
   "name": "python",
   "nbconvert_exporter": "python",
   "pygments_lexer": "ipython3",
   "version": "3.6.7"
  }
 },
 "nbformat": 4,
 "nbformat_minor": 2
}
