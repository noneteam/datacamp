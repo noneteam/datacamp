{
 "cells": [
  {
   "cell_type": "markdown",
   "metadata": {},
   "source": [
    "# Using h5py to import HDF5 files"
   ]
  },
  {
   "cell_type": "markdown",
   "metadata": {},
   "source": [
    "#### EXERCISE:\n",
    "In this exercise, you'll figure out how to\n",
    "load a MATLAB file using <code>scipy.io.loadmat()</code>\n",
    "and you'll discover what Python\n",
    "datatype it yields.\n",
    "\n",
    "The file <code>'albeck_gene_expression.mat'</code> is in\n",
    "your working directory. This file contains <a href=\"https://www.mcb.ucdavis.edu/faculty-labs/albeck/workshop.htm\" target=\"_blank\">gene expression data</a> from the Albeck Lab at UC Davis. You can find the data and some great documentation <a href=\"https://www.mcb.ucdavis.edu/faculty-labs/albeck/workshop.htm\" target=\"_blank\">here</a>."
   ]
  },
  {
   "cell_type": "markdown",
   "metadata": {},
   "source": [
    "#### INSTRUCTIONS:\n",
    "* Import the package <code>scipy.io</code>.\n",
    "* Load the file <code>'albeck_gene_expression.mat'</code> into the variable <code>mat</code>; do so using the function <code>scipy.io.loadmat()</code>.\n",
    "* Use the function <code>type()</code> to print the datatype of <code>mat</code> to the IPython shell."
   ]
  },
  {
   "cell_type": "markdown",
   "metadata": {},
   "source": [
    "#### SCRIPT.PY:"
   ]
  },
  {
   "cell_type": "code",
   "execution_count": 2,
   "metadata": {},
   "outputs": [
    {
     "name": "stdout",
     "output_type": "stream",
     "text": [
      "<class 'dict'>\n"
     ]
    }
   ],
   "source": [
    "# Import package\n",
    "import scipy.io\n",
    "\n",
    "\n",
    "# Load MATLAB file: mat\n",
    "mat = scipy.io.loadmat('albeck_gene_expression.mat')\n",
    "\n",
    "# Print the datatype type of mat\n",
    "print(type(mat))\n"
   ]
  }
 ],
 "metadata": {
  "kernelspec": {
   "display_name": "Python 3",
   "language": "python",
   "name": "python3"
  },
  "language_info": {
   "codemirror_mode": {
    "name": "ipython",
    "version": 3
   },
   "file_extension": ".py",
   "mimetype": "text/x-python",
   "name": "python",
   "nbconvert_exporter": "python",
   "pygments_lexer": "ipython3",
   "version": "3.6.7"
  }
 },
 "nbformat": 4,
 "nbformat_minor": 2
}
