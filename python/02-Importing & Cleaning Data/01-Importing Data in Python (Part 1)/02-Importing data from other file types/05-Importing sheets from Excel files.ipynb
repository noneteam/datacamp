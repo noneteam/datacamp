{
 "cells": [
  {
   "cell_type": "markdown",
   "metadata": {},
   "source": [
    "# Importing sheets from Excel files"
   ]
  },
  {
   "cell_type": "markdown",
   "metadata": {},
   "source": [
    "#### EXERCISE:\n",
    "In the previous exercises, you saw that the Excel file contains two sheets, <code>'2002'</code> and <code>'2004'</code>. The next step is to import these.\n",
    "\n",
    "In this exercise, you'll learn how to import any given sheet of your loaded .xlsx file as a DataFrame. You'll be able to do so by specifying either the sheet's name or its index.\n",
    "\n",
    "The spreadsheet <code>'battledeath.xlsx'</code> is already loaded as <code>xl</code>."
   ]
  },
  {
   "cell_type": "markdown",
   "metadata": {},
   "source": [
    "#### INSTRUCTIONS:\n",
    "* Load the sheet <code>'2004'</code> into the DataFrame <code>df1</code> using its name as a string.\n",
    "* Print the head of <code>df1</code> to the shell.\n",
    "* Load the sheet <code>2002</code> into the DataFrame <code>df2</code> using its index (<code>0</code>).\n",
    "* Print the head of <code>df2</code> to the shell."
   ]
  },
  {
   "cell_type": "markdown",
   "metadata": {},
   "source": [
    "#### SCRIPT.PY:"
   ]
  },
  {
   "cell_type": "code",
   "execution_count": null,
   "metadata": {},
   "outputs": [],
   "source": [
    "# Load a sheet into a DataFrame by name: df1\n",
    "df1 = xl.parse(____)\n",
    "\n",
    "# Print the head of the DataFrame df1\n",
    "print(____)\n",
    "\n",
    "# Load a sheet into a DataFrame by index: df2\n",
    "\n",
    "\n",
    "# Print the head of the DataFrame df2\n",
    "print(____)"
   ]
  }
 ],
 "metadata": {
  "kernelspec": {
   "display_name": "Python 3",
   "language": "python",
   "name": "python3"
  },
  "language_info": {
   "codemirror_mode": {
    "name": "ipython",
    "version": 3
   },
   "file_extension": ".py",
   "mimetype": "text/x-python",
   "name": "python",
   "nbconvert_exporter": "python",
   "pygments_lexer": "ipython3",
   "version": "3.6.7"
  }
 },
 "nbformat": 4,
 "nbformat_minor": 2
}
