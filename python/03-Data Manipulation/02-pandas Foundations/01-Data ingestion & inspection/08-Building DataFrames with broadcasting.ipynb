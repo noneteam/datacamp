{
 "cells": [
  {
   "cell_type": "markdown",
   "metadata": {},
   "source": [
    "# Labeling your data"
   ]
  },
  {
   "cell_type": "markdown",
   "metadata": {},
   "source": [
    "#### EXERCISE:\n",
    "You can implicitly use 'broadcasting', a feature of NumPy, when creating pandas DataFrames. In this exercise,\n",
    "you're going to create a DataFrame of cities in Pennsylvania that contains the city name in one column and the state name\n",
    "in the second. We have imported the names of 15 cities as the list <code>cities</code>.\n",
    "\n",
    "Your job is to construct a DataFrame from the list of cities and the string <code>'PA'</code>."
   ]
  },
  {
   "cell_type": "markdown",
   "metadata": {},
   "source": [
    "#### INSTRUCTIONS:\n",
    "* Make a string object with the value <code>'PA'</code> and assign it to <code>state</code>.\n",
    "* Construct a dictionary with 2 key:value pairs: <code>'state':state</code> and <code>'city':cities</code>.\n",
    "* Construct a pandas DataFrame from the dictionary you created and assign it to <code>df</code>."
   ]
  },
  {
   "cell_type": "markdown",
   "metadata": {},
   "source": [
    "#### SCRIPT.PY:"
   ]
  },
  {
   "cell_type": "code",
   "execution_count": null,
   "metadata": {},
   "outputs": [],
   "source": [
    "# Make a string with the value 'PA': state\n",
    "state = ____\n",
    "\n",
    "# Construct a dictionary: data\n",
    "data = {'state':____, 'city':____}\n",
    "\n",
    "# Construct a DataFrame from dictionary data: df\n",
    "df = ____\n",
    "\n",
    "# Print the DataFrame\n",
    "print(df)"
   ]
  }
 ],
 "metadata": {
  "kernelspec": {
   "display_name": "Python 3",
   "language": "python",
   "name": "python3"
  },
  "language_info": {
   "codemirror_mode": {
    "name": "ipython",
    "version": 3
   },
   "file_extension": ".py",
   "mimetype": "text/x-python",
   "name": "python",
   "nbconvert_exporter": "python",
   "pygments_lexer": "ipython3",
   "version": "3.6.7"
  }
 },
 "nbformat": 4,
 "nbformat_minor": 2
}
