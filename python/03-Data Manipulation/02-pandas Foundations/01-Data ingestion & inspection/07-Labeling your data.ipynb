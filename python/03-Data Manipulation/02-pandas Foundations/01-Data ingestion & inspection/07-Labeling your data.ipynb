{
 "cells": [
  {
   "cell_type": "markdown",
   "metadata": {},
   "source": [
    "# Labeling your data"
   ]
  },
  {
   "cell_type": "markdown",
   "metadata": {},
   "source": [
    "#### EXERCISE:\n",
    "You can use the DataFrame attribute <code>df.columns</code> to view and assign new string labels to columns in a pandas DataFrame.\n",
    "\n",
    "In this exercise, we have imported pandas as <code>pd</code> and defined a DataFrame <code>df</code> containing top Billboard hits from the\n",
    "1980s (from <a href=\"https://en.wikipedia.org/wiki/List_of_Billboard_Hot_100_number-one_singles_of_the_1980s#1980\" target=\"_blank\">Wikipedia</a>). Each row has the year, artist, song name and the number of weeks at the top. However, this DataFrame has the column\n",
    "labels <code>a, b, c, d</code>. Your job is to use the <code>df.columns</code> attribute to re-assign descriptive column labels."
   ]
  },
  {
   "cell_type": "markdown",
   "metadata": {},
   "source": [
    "#### INSTRUCTIONS:\n",
    "* Create a list of new column labels with <code>'year'</code>, <code>'artist'</code>, <code>'song'</code>, <code>'chart weeks'</code>, and assign it to <code>list_labels</code>.\n",
    "* Assign your list of labels to <code>df.columns</code>."
   ]
  },
  {
   "cell_type": "markdown",
   "metadata": {},
   "source": [
    "#### SCRIPT.PY:"
   ]
  },
  {
   "cell_type": "code",
   "execution_count": null,
   "metadata": {},
   "outputs": [],
   "source": [
    "# Build a list of labels: list_labels\n",
    "list_labels = ____\n",
    "\n",
    "# Assign the list of labels to the columns attribute: df.columns\n",
    "____ = list_labels"
   ]
  }
 ],
 "metadata": {
  "kernelspec": {
   "display_name": "Python 3",
   "language": "python",
   "name": "python3"
  },
  "language_info": {
   "codemirror_mode": {
    "name": "ipython",
    "version": 3
   },
   "file_extension": ".py",
   "mimetype": "text/x-python",
   "name": "python",
   "nbconvert_exporter": "python",
   "pygments_lexer": "ipython3",
   "version": "3.6.7"
  }
 },
 "nbformat": 4,
 "nbformat_minor": 2
}
