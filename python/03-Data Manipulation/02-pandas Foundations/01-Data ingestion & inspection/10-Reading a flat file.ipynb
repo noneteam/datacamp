{
 "cells": [
  {
   "cell_type": "markdown",
   "metadata": {},
   "source": [
    "# Reading a flat file"
   ]
  },
  {
   "cell_type": "markdown",
   "metadata": {},
   "source": [
    "#### EXERCISE:\n",
    "In previous exercises, we have preloaded the data for you using the pandas function <code>read_csv()</code>. Now, it's your turn!\n",
    "Your job is to read the World Bank population data you saw earlier into a DataFrame using <code>read_csv()</code>. The file is available in the variable <code>data_file</code>.\n",
    "\n",
    "The next step is to reread the same file, but simultaneously rename the columns using the <code>names</code> keyword input parameter, set equal to a list of new column labels. You will also need to set <code>header=0</code> to rename the column labels.\n",
    "\n",
    "Finish up by inspecting the result with <code>df.head()</code> and <code>df.info()</code> in the IPython Shell (changing <code>df</code> to the name of your DataFrame variable).\n",
    "\n",
    "<code>pandas</code> has already been imported and is available in the workspace as <code>pd</code>."
   ]
  },
  {
   "cell_type": "markdown",
   "metadata": {},
   "source": [
    "#### INSTRUCTIONS:\n",
    "* Use <code>pd.read_csv()</code> with the string <code>data_file</code> to read the CSV file into a DataFrame and assign it to <code>df1</code>.\n",
    "* Create a list of new column labels - <code>'year'</code>, <code>'population'</code> - and assign it to the variable <code>new_labels</code>.\n",
    "* Reread the same file, again using <code>pd.read_csv()</code>, but this time, add the keyword arguments <code>header=0</code> and <code>names=new_labels</code>. Assign the resulting DataFrame to <code>df2</code>.\n",
    "* Print both the <code>df1</code> and <code>df2</code> DataFrames to see the change in column names. This has already been done for you."
   ]
  },
  {
   "cell_type": "markdown",
   "metadata": {},
   "source": [
    "#### SCRIPT.PY:"
   ]
  },
  {
   "cell_type": "code",
   "execution_count": null,
   "metadata": {},
   "outputs": [],
   "source": [
    "# Read in the file: df1\n",
    "df1 = ____\n",
    "\n",
    "# Create a list of the new column labels: new_labels\n",
    "new_labels = ____\n",
    "\n",
    "# Read in the file, specifying the header and names parameters: df2\n",
    "df2 = ____('world_population.csv', ____=0, ____=new_labels)\n",
    "\n",
    "# Print both the DataFrames\n",
    "print(df1)\n",
    "print(df2)"
   ]
  }
 ],
 "metadata": {
  "kernelspec": {
   "display_name": "Python 3",
   "language": "python",
   "name": "python3"
  },
  "language_info": {
   "codemirror_mode": {
    "name": "ipython",
    "version": 3
   },
   "file_extension": ".py",
   "mimetype": "text/x-python",
   "name": "python",
   "nbconvert_exporter": "python",
   "pygments_lexer": "ipython3",
   "version": "3.6.7"
  }
 },
 "nbformat": 4,
 "nbformat_minor": 2
}
