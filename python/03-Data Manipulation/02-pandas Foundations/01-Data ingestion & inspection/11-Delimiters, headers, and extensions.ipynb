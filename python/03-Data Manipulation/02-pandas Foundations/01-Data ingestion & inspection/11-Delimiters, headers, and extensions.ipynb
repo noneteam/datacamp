{
 "cells": [
  {
   "cell_type": "markdown",
   "metadata": {},
   "source": [
    "# Delimiters, headers, and extensions"
   ]
  },
  {
   "cell_type": "markdown",
   "metadata": {},
   "source": [
    "#### EXERCISE:\n",
    "Not all data files are clean and tidy. Pandas provides methods for reading those not-so-perfect data files that you encounter far too often.\n",
    "\n",
    "In this exercise, you have monthly stock data for four companies downloaded from\n",
    "<a href=\"http://finance.yahoo.com\" target=\"_blank\">Yahoo Finance</a>.  The data is stored as one row for each company and each column is the\n",
    "end-of-month closing price. The file name is given to you in the variable <code>file_messy</code>.\n",
    "\n",
    "In addition, this file has three aspects that may cause trouble for lesser tools: multiple header lines, comment records (rows) interleaved throughout the data rows, and space delimiters instead of commas.\n",
    "\n",
    "Your job is to use pandas to read the data from this problematic <code>file_messy</code> using non-default input options with <code>read_csv()</code> so as to tidy up the mess at read time. Then, write the cleaned up data to a CSV file with the variable <code>file_clean</code> that has been prepared for you, as you might do in a real data workflow.\n",
    "\n",
    "You can learn about the option input parameters needed by using <code>help()</code> on the pandas function <code>pd.read_csv()</code>."
   ]
  },
  {
   "cell_type": "markdown",
   "metadata": {},
   "source": [
    "#### INSTRUCTIONS:\n",
    "* Use <code>pd.read_csv()</code> <em>without using any keyword arguments</em> to read <code>file_messy</code> into a pandas DataFrame <code>df1</code>.\n",
    "* Use <code>.head()</code> to print the first 5 rows of <code>df1</code> and see how messy it is. Do this in the IPython Shell first so you can see how modifying <code>read_csv()</code> can clean up this mess.\n",
    "* Using the keyword arguments <code>delimiter=' '</code>, <code>header=3</code> and <code>comment='#'</code>, use <code>pd.read_csv()</code> again to read <code>file_messy</code> into a new DataFrame <code>df2</code>.\n",
    "* Print the output of <code>df2.head()</code> to verify the file was read correctly.\n",
    "* Use the DataFrame method <code>.to_csv()</code> to save the DataFrame <code>df2</code> to the variable <code>file_clean</code>. Be sure to specify <code>index=False</code>.\n",
    "* Use the DataFrame method <code>.to_excel()</code> to save the DataFrame <code>df2</code> to the file <code>'file_clean.xlsx'</code>. Again, remember to specify <code>index=False</code>."
   ]
  },
  {
   "cell_type": "markdown",
   "metadata": {},
   "source": [
    "#### SCRIPT.PY:"
   ]
  },
  {
   "cell_type": "code",
   "execution_count": null,
   "metadata": {},
   "outputs": [],
   "source": [
    "# Read the raw file as-is: df1\n",
    "df1 = pd.read_csv(____)\n",
    "\n",
    "# Print the output of df1.head()\n",
    "print(df1.head())\n",
    "\n",
    "# Read in the file with the correct parameters: df2\n",
    "df2 = pd.read_csv(____, delimiter=____, header=____, comment=____)\n",
    "\n",
    "# Print the output of df2.head()\n",
    "print(df2.head())\n",
    "\n",
    "# Save the cleaned up DataFrame to a CSV file without the index\n",
    "df2.____(file_clean, index=False)\n",
    "\n",
    "# Save the cleaned up DataFrame to an excel file without the index\n",
    "df2.____('file_clean.xlsx', index=False)"
   ]
  }
 ],
 "metadata": {
  "kernelspec": {
   "display_name": "Python 3",
   "language": "python",
   "name": "python3"
  },
  "language_info": {
   "codemirror_mode": {
    "name": "ipython",
    "version": 3
   },
   "file_extension": ".py",
   "mimetype": "text/x-python",
   "name": "python",
   "nbconvert_exporter": "python",
   "pygments_lexer": "ipython3",
   "version": "3.6.7"
  }
 },
 "nbformat": 4,
 "nbformat_minor": 2
}
