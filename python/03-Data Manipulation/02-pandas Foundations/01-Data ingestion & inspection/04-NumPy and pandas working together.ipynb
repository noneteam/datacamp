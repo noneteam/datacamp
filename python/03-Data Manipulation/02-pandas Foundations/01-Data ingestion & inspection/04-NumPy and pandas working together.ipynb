{
 "cells": [
  {
   "cell_type": "markdown",
   "metadata": {},
   "source": [
    "# NumPy and pandas working together"
   ]
  },
  {
   "cell_type": "markdown",
   "metadata": {},
   "source": [
    "#### EXERCISE:\n",
    "Pandas depends upon and interoperates with NumPy, the Python library for fast numeric array computations. For example, you can use the\n",
    "DataFrame attribute <code>.values</code> to represent a DataFrame <code>df</code> as a NumPy\n",
    "array. You can also pass pandas data structures to NumPy methods. In this exercise, we have imported pandas as <code>pd</code> and loaded world population data every 10 years since 1960 into the DataFrame <code>df</code>. This dataset was derived from the one used in the previous exercise.\n",
    "\n",
    "Your job is to extract the values and store them in an array using the attribute <code>.values</code>. You'll then use those values\n",
    "as input into the NumPy <code>np.log10()</code> method to compute the base 10 logarithm of the population values.\n",
    "Finally, you will pass the entire pandas DataFrame into the same NumPy <code>np.log10()</code> method and compare the results."
   ]
  },
  {
   "cell_type": "markdown",
   "metadata": {},
   "source": [
    "#### INSTRUCTIONS:\n",
    "* Import <code>numpy</code> using the standard alias <code>np</code>.\n",
    "* Assign the numerical values in the DataFrame <code>df</code> to an array <code>np_vals</code> using the attribute <code>values</code>.\n",
    "* Pass <code>np_vals</code> into the NumPy method <code>log10()</code> and store the results in <code>np_vals_log10</code>.\n",
    "* Pass the entire <code>df</code> DataFrame into the NumPy method <code>log10()</code> and store the results in <code>df_log10</code>.\n",
    "* Inspect the output of the <code>print()</code> code to see the <code>type()</code> of the variables that you created."
   ]
  },
  {
   "cell_type": "markdown",
   "metadata": {},
   "source": [
    "#### SCRIPT.PY:"
   ]
  },
  {
   "cell_type": "code",
   "execution_count": null,
   "metadata": {},
   "outputs": [],
   "source": [
    "# Import numpy\n",
    "\n",
    "\n",
    "# Create array of DataFrame values: np_vals\n",
    "np_vals = ____\n",
    "\n",
    "# Create new array of base 10 logarithm values: np_vals_log10\n",
    "np_vals_log10 = ____\n",
    "\n",
    "# Create array of new DataFrame by passing df to np.log10(): df_log10\n",
    "df_log10 = ____\n",
    "\n",
    "# Print original and new data containers\n",
    "[print(x, 'has type', type(eval(x))) for x in ['np_vals', 'np_vals_log10', 'df', 'df_log10']]"
   ]
  }
 ],
 "metadata": {
  "kernelspec": {
   "display_name": "Python 3",
   "language": "python",
   "name": "python3"
  },
  "language_info": {
   "codemirror_mode": {
    "name": "ipython",
    "version": 3
   },
   "file_extension": ".py",
   "mimetype": "text/x-python",
   "name": "python",
   "nbconvert_exporter": "python",
   "pygments_lexer": "ipython3",
   "version": "3.6.7"
  }
 },
 "nbformat": 4,
 "nbformat_minor": 2
}
