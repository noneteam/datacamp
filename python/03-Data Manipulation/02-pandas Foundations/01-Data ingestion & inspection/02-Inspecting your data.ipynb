{
 "cells": [
  {
   "cell_type": "markdown",
   "metadata": {},
   "source": [
    "# Inspecting your data"
   ]
  },
  {
   "cell_type": "markdown",
   "metadata": {},
   "source": [
    "#### EXERCISE:\n",
    "You can use the DataFrame methods <code>.head()</code> and <code>.tail()</code> to view the first few and last few rows of a DataFrame.\n",
    "In this exercise, we have imported pandas as <code>pd</code> and loaded population data from 1960 to 2014 as a DataFrame <code>df</code>.\n",
    "This dataset was obtained from the <a href=\"http://databank.worldbank.org/data/reports.aspx?source=2&amp;type=metadata&amp;series=SP.URB.TOTL.IN.ZS#\" target=\"_blank\">World Bank</a>.\n",
    "\n",
    "Your job is to use <code>df.head()</code> and  <code>df.tail()</code> to verify that the first and last rows match a file on disk. In later exercises, you will see how to extract values from DataFrames with indexing, but for now, manually copy/paste or type values into assignment statements where needed. Select the correct answer for the first and last values in the <code>'Year'</code> and \n",
    "<code>'Total Population'</code> columns."
   ]
  },
  {
   "cell_type": "markdown",
   "metadata": {},
   "source": [
    "#### POSSIBLE ANSWERS:\n",
    "* First: 1980, 26183676.0; Last: 2000, 35.\n",
    "* First: 1960, 92495902.0; Last: 2014, 15245855.0.\n",
    "* First: 40.472, 2001; Last: 44.5, 1880.\n",
    "* First: CSS, 104170.0; Last: USA, 95.203."
   ]
  }
 ],
 "metadata": {
  "kernelspec": {
   "display_name": "Python 3",
   "language": "python",
   "name": "python3"
  },
  "language_info": {
   "codemirror_mode": {
    "name": "ipython",
    "version": 3
   },
   "file_extension": ".py",
   "mimetype": "text/x-python",
   "name": "python",
   "nbconvert_exporter": "python",
   "pygments_lexer": "ipython3",
   "version": "3.6.7"
  }
 },
 "nbformat": 4,
 "nbformat_minor": 2
}
