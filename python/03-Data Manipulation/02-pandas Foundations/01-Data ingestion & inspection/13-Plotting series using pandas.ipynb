{
 "cells": [
  {
   "cell_type": "markdown",
   "metadata": {},
   "source": [
    "# Plotting series using pandas"
   ]
  },
  {
   "cell_type": "markdown",
   "metadata": {},
   "source": [
    "#### EXERCISE:\n",
    "Data visualization is often a very effective first step in gaining a rough understanding of a data set to be analyzed. Pandas provides data visualization by both depending upon and interoperating with the matplotlib library. You will now explore some of the basic plotting mechanics with pandas as well as related matplotlib options. We have pre-loaded a pandas DataFrame <code>df</code> which contains the data you need. Your job is to use the DataFrame method <code>df.plot()</code> to visualize the data, and then explore the optional matplotlib input parameters that this <code>.plot()</code> method accepts.\n",
    "\n",
    "The pandas <code>.plot()</code> method makes calls to matplotlib to construct the plots. This means that you can use\n",
    "the skills you've learned in previous visualization courses to customize the plot. In this exercise, you'll add a custom\n",
    "title and axis labels to the figure.\n",
    "\n",
    "Before plotting, inspect the DataFrame in the IPython Shell using <code>df.head()</code>. Also, use <code>type(df)</code> and note that it is a single column DataFrame."
   ]
  },
  {
   "cell_type": "markdown",
   "metadata": {},
   "source": [
    "#### INSTRUCTIONS:\n",
    "* Create the plot with the DataFrame method <code>df.plot()</code>. Specify a <code>color</code> of <code>'red'</code>.\n",
    " * <em>Note</em>: <code>c</code> and <code>color</code> are interchangeable as parameters here, but we ask you to be explicit and specify <code>color</code>.\n",
    "* Use <code>plt.title()</code> to give the plot a title of <code>'Temperature in Austin'</code>.\n",
    "* Use <code>plt.xlabel()</code> to give the plot an x-axis label of <code>'Hours since midnight August 1, 2010'</code>.\n",
    "* Use <code>plt.ylabel()</code> to give the plot a y-axis label of <code>'Temperature (degrees F)'</code>.\n",
    "* Finally, display the plot using <code>plt.show()</code>."
   ]
  },
  {
   "cell_type": "markdown",
   "metadata": {},
   "source": [
    "#### SCRIPT.PY:"
   ]
  },
  {
   "cell_type": "code",
   "execution_count": null,
   "metadata": {},
   "outputs": [],
   "source": [
    "# Create a plot with color='red'\n",
    "\n",
    "\n",
    "# Add a title\n",
    "\n",
    "\n",
    "# Specify the x-axis label\n",
    "\n",
    "\n",
    "# Specify the y-axis label\n",
    "\n",
    "\n",
    "# Display the plot\n"
   ]
  }
 ],
 "metadata": {
  "kernelspec": {
   "display_name": "Python 3",
   "language": "python",
   "name": "python3"
  },
  "language_info": {
   "codemirror_mode": {
    "name": "ipython",
    "version": 3
   },
   "file_extension": ".py",
   "mimetype": "text/x-python",
   "name": "python",
   "nbconvert_exporter": "python",
   "pygments_lexer": "ipython3",
   "version": "3.6.7"
  }
 },
 "nbformat": 4,
 "nbformat_minor": 2
}
