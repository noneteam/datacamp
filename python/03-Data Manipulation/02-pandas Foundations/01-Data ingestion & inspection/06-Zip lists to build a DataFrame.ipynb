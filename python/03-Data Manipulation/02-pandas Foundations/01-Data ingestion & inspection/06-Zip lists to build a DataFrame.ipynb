{
 "cells": [
  {
   "cell_type": "markdown",
   "metadata": {},
   "source": [
    "# Zip lists to build a DataFrame"
   ]
  },
  {
   "cell_type": "markdown",
   "metadata": {},
   "source": [
    "#### EXERCISE:\n",
    "In this exercise, you're going to make a pandas DataFrame of the top three countries to win gold medals since 1896 by first building a dictionary. <code>list_keys</code> contains the column names <code>'Country'</code> and <code>'Total'</code>. <code>list_values</code> contains\n",
    "the full names of each country and the number of gold medals awarded. The values have been taken from <a href=\"https://en.wikipedia.org/wiki/All-time_Olympic_Games_medal_table\" target=\"_blank\">Wikipedia</a>.\n",
    "\n",
    "Your job is to use these lists to construct a list of tuples, use the list of tuples to construct a dictionary, and then use that dictionary to construct a DataFrame. In doing so, you'll make use of the <code>list()</code>, <code>zip()</code>, <code>dict()</code> and <code>pd.DataFrame()</code> functions. Pandas has already been imported as <code>pd</code>.\n",
    "\n",
    "Note: The <a href=\"https://docs.python.org/3/library/functions.html#zip\" target=\"_blank\"><code>zip()</code></a> function in Python 3 and above returns a special zip object, which is essentially a generator. To convert this <code>zip</code> object into a list, you'll need to use <code>list()</code>. You can learn more about the <code>zip()</code> function as well as generators in <a href=\"https://www.datacamp.com/courses/python-data-science-toolbox-part-2\" target=\"_blank\">Python Data Science Toolbox (Part 2)</a>."
   ]
  },
  {
   "cell_type": "markdown",
   "metadata": {},
   "source": [
    "#### INSTRUCTIONS:\n",
    "* Zip the 2 lists <code>list_keys</code> and <code>list_values</code> together into one list of (key, value) tuples. Be sure to convert the <code>zip</code> object into a list, and store the result in <code>zipped</code>.\n",
    "* Inspect the contents of <code>zipped</code> using <code>print()</code>. This has been done for you.\n",
    "* Construct a dictionary using <code>zipped</code>. Store the result as <code>data</code>.\n",
    "* Construct a DataFrame using the dictionary. Store the result as <code>df</code>."
   ]
  },
  {
   "cell_type": "markdown",
   "metadata": {},
   "source": [
    "#### SCRIPT.PY:"
   ]
  },
  {
   "cell_type": "code",
   "execution_count": null,
   "metadata": {},
   "outputs": [],
   "source": [
    "# Zip the 2 lists together into one list of (key,value) tuples: zipped\n",
    "zipped = ____\n",
    "\n",
    "# Inspect the list using print()\n",
    "print(zipped)\n",
    "\n",
    "# Build a dictionary with the zipped list: data\n",
    "data = ____\n",
    "\n",
    "# Build and inspect a DataFrame from the dictionary: df\n",
    "df = ____\n",
    "print(df)"
   ]
  }
 ],
 "metadata": {
  "kernelspec": {
   "display_name": "Python 3",
   "language": "python",
   "name": "python3"
  },
  "language_info": {
   "codemirror_mode": {
    "name": "ipython",
    "version": 3
   },
   "file_extension": ".py",
   "mimetype": "text/x-python",
   "name": "python",
   "nbconvert_exporter": "python",
   "pygments_lexer": "ipython3",
   "version": "3.6.7"
  }
 },
 "nbformat": 4,
 "nbformat_minor": 2
}
