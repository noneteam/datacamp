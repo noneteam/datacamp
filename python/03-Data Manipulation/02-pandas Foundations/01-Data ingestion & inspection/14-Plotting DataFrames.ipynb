{
 "cells": [
  {
   "cell_type": "markdown",
   "metadata": {},
   "source": [
    "# Plotting DataFrames"
   ]
  },
  {
   "cell_type": "markdown",
   "metadata": {},
   "source": [
    "#### EXERCISE:\n",
    "Comparing data from several columns can be very illuminating. Pandas makes doing so easy with multi-column DataFrames. By default, calling <code>df.plot()</code> will cause pandas to over-plot all column data, with each column as a single line. In this exercise, we have pre-loaded three columns of data from a weather data set - temperature, dew point, and pressure - but the problem is that pressure has different units of measure. The pressure data, measured in Atmospheres, has a different vertical scaling than that of the other two data columns, which are both measured in degrees Fahrenheit.\n",
    "\n",
    "Your job is to plot all columns as a multi-line plot, to see the nature of vertical scaling problem. Then, use a list of column names passed into the DataFrame <code>df[column_list]</code> to limit plotting to just one column, and then just 2 columns of data. When you are finished, you will have created 4 plots. You can cycle through them by clicking on the 'Previous Plot' and 'Next Plot' buttons.\n",
    "\n",
    "As in the previous exercise, inspect the DataFrame <code>df</code> in the IPython Shell using the <code>.head()</code> and <code>.info()</code> methods."
   ]
  },
  {
   "cell_type": "markdown",
   "metadata": {},
   "source": [
    "#### INSTRUCTIONS:\n",
    "* Plot all columns together on one figure by calling <code>df.plot()</code>, and noting the vertical scaling problem.\n",
    "* Plot all columns as subplots. To do so, you need to specify <code>subplots=True</code> inside <code>.plot()</code>.\n",
    "* Plot a single column of dew point data. To do this, define a column list containing a single column name <code>'Dew Point (deg F)'</code>, and call <code>df[column_list1].plot()</code>.\n",
    "* Plot two columns of data, <code>'Temperature (deg F)'</code> and <code>'Dew Point (deg F)'</code>. To do this, define a list containing those column names and pass it into <code>df[]</code>, as <code>df[column_list2].plot()</code>."
   ]
  },
  {
   "cell_type": "markdown",
   "metadata": {},
   "source": [
    "#### SCRIPT.PY:"
   ]
  },
  {
   "cell_type": "code",
   "execution_count": null,
   "metadata": {},
   "outputs": [],
   "source": [
    "# Plot all columns (default)\n",
    "____\n",
    "plt.show()\n",
    "\n",
    "# Plot all columns as subplots\n",
    "____\n",
    "plt.show()\n",
    "\n",
    "# Plot just the Dew Point data\n",
    "column_list1 = ['Dew Point (deg F)']\n",
    "____\n",
    "plt.show()\n",
    "\n",
    "# Plot the Dew Point and Temperature data, but not the Pressure data\n",
    "column_list2 = ['Temperature (deg F)','Dew Point (deg F)']\n",
    "____\n",
    "plt.show()"
   ]
  }
 ],
 "metadata": {
  "kernelspec": {
   "display_name": "Python 3",
   "language": "python",
   "name": "python3"
  },
  "language_info": {
   "codemirror_mode": {
    "name": "ipython",
    "version": 3
   },
   "file_extension": ".py",
   "mimetype": "text/x-python",
   "name": "python",
   "nbconvert_exporter": "python",
   "pygments_lexer": "ipython3",
   "version": "3.6.7"
  }
 },
 "nbformat": 4,
 "nbformat_minor": 2
}
