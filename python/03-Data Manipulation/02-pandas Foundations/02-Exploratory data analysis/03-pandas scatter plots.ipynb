{
 "cells": [
  {
   "cell_type": "markdown",
   "metadata": {},
   "source": [
    "# pandas scatter plots"
   ]
  },
  {
   "cell_type": "markdown",
   "metadata": {},
   "source": [
    "#### EXERCISE:\n",
    "Pandas scatter plots are generated using the <code>kind='scatter'</code> keyword argument. Scatter plots require\n",
    "that the x and y columns be chosen by specifying the <code>x</code> and <code>y</code> parameters inside <code>.plot()</code>. Scatter plots also take an <code>s</code>\n",
    "keyword argument to provide the radius of each circle to plot in pixels.\n",
    "\n",
    "In this exercise, you're going to plot fuel efficiency (miles-per-gallon) versus horse-power for 392 automobiles\n",
    "manufactured from 1970 to 1982 from the <a href=\"https://archive.ics.uci.edu/ml/datasets/Auto+MPG\" target=\"_blank\">UCI Machine Learning Repository</a>.\n",
    "\n",
    "The size of each circle is provided as a NumPy array called <code>sizes</code>. This array contains the normalized <code>'weight'</code> of each automobile in the dataset.\n",
    "\n",
    "All necessary modules have been imported and the DataFrame is available in the workspace as <code>df</code>."
   ]
  },
  {
   "cell_type": "markdown",
   "metadata": {},
   "source": [
    "#### INSTRUCTIONS:\n",
    "* Generate a scatter plot with <code>'hp'</code> on the x-axis and <code>'mpg'</code> on the y-axis. Specify <code>s=sizes</code>.\n",
    "* Add a title to the plot.\n",
    "* Specify the x-axis and y-axis labels."
   ]
  },
  {
   "cell_type": "markdown",
   "metadata": {},
   "source": [
    "#### SCRIPT.PY:"
   ]
  },
  {
   "cell_type": "code",
   "execution_count": null,
   "metadata": {},
   "outputs": [],
   "source": [
    "# Generate a scatter plot\n",
    "df.plot(____=____, ____='hp', ____='mpg', ____=sizes)\n",
    "\n",
    "# Add the title\n",
    "plt.____('Fuel efficiency vs Horse-power')\n",
    "\n",
    "# Add the x-axis label\n",
    "plt.____('Horse-power')\n",
    "\n",
    "# Add the y-axis label\n",
    "plt.____('Fuel efficiency (mpg)')\n",
    "\n",
    "# Display the plot\n",
    "plt.show()"
   ]
  }
 ],
 "metadata": {
  "kernelspec": {
   "display_name": "Python 3",
   "language": "python",
   "name": "python3"
  },
  "language_info": {
   "codemirror_mode": {
    "name": "ipython",
    "version": 3
   },
   "file_extension": ".py",
   "mimetype": "text/x-python",
   "name": "python",
   "nbconvert_exporter": "python",
   "pygments_lexer": "ipython3",
   "version": "3.6.7"
  }
 },
 "nbformat": 4,
 "nbformat_minor": 2
}
