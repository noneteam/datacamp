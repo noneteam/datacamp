{
 "cells": [
  {
   "cell_type": "markdown",
   "metadata": {},
   "source": [
    "# pandas hist, pdf and cdf"
   ]
  },
  {
   "cell_type": "markdown",
   "metadata": {},
   "source": [
    "#### EXERCISE:\n",
    "Pandas relies on the <code>.hist()</code> method to not only generate histograms, but also plots of probability density functions (PDFs) and cumulative density functions (CDFs).\n",
    "\n",
    "In this exercise, you will work with a dataset consisting of restaurant bills that includes the amount customers tipped.\n",
    "\n",
    "The original dataset is provided by the <a href=\"https://github.com/mwaskom/seaborn-data/blob/master/tips.csv\" target=\"_blank\">Seaborn package</a>.\n",
    "\n",
    "Your job is to plot a PDF and CDF for the <code>fraction</code> column of the tips dataset. This column contains information about what fraction of the total bill is comprised of the tip.\n",
    "\n",
    "Remember, when plotting the PDF, you need to specify <code>normed=True</code> in your call to <code>.hist()</code>, and when plotting the CDF, you need to specify <code>cumulative=True</code> in addition to <code>normed=True</code>.\n",
    "\n",
    "All necessary modules have been imported and the tips dataset is available in the workspace as <code>df</code>. Also, some formatting code has been written so that the plots you generate will appear on separate rows."
   ]
  },
  {
   "cell_type": "markdown",
   "metadata": {},
   "source": [
    "#### INSTRUCTIONS:\n",
    "* Plot a PDF for the values in <code>fraction</code> with 30 <code>bins</code> between 0 and 30%. The range has been taken care of for you. <code>ax=axes[0]</code> means that this plot will appear in the first row.\n",
    "* Plot a CDF for the values in <code>fraction</code> with 30 <code>bins</code> between 0 and 30%. Again, the range has been specified for you. To make the CDF appear on the second row, you need to specify <code>ax=axes[1]</code>."
   ]
  },
  {
   "cell_type": "markdown",
   "metadata": {},
   "source": [
    "#### SCRIPT.PY:"
   ]
  },
  {
   "cell_type": "code",
   "execution_count": null,
   "metadata": {},
   "outputs": [],
   "source": [
    "# This formats the plots such that they appear on separate rows\n",
    "fig, axes = plt.subplots(nrows=2, ncols=1)\n",
    "\n",
    "# Plot the PDF\n",
    "df.fraction.plot(ax=axes[0], ____='hist', ____=____, ____=____, range=(0,.3))\n",
    "plt.show()\n",
    "\n",
    "# Plot the CDF\n",
    "df.fraction.plot(____=____, ____=____, ____=____, ____=____, ____=____, range=(0,.3))\n",
    "plt.show()"
   ]
  }
 ],
 "metadata": {
  "kernelspec": {
   "display_name": "Python 3",
   "language": "python",
   "name": "python3"
  },
  "language_info": {
   "codemirror_mode": {
    "name": "ipython",
    "version": 3
   },
   "file_extension": ".py",
   "mimetype": "text/x-python",
   "name": "python",
   "nbconvert_exporter": "python",
   "pygments_lexer": "ipython3",
   "version": "3.6.7"
  }
 },
 "nbformat": 4,
 "nbformat_minor": 2
}
