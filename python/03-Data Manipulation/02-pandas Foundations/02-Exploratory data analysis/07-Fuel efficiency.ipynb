{
 "cells": [
  {
   "cell_type": "markdown",
   "metadata": {},
   "source": [
    "# Fuel efficiency"
   ]
  },
  {
   "cell_type": "markdown",
   "metadata": {},
   "source": [
    "#### EXERCISE:\n",
    "From the automobiles data set, which value corresponds to the median value of the <code>'mpg'</code> column?\n",
    "Your job is to select the <code>'mpg'</code> column and call the <code>.median()</code> method on it.  The automobile DataFrame\n",
    "has been provided as <code>df</code>."
   ]
  },
  {
   "cell_type": "markdown",
   "metadata": {},
   "source": [
    "#### POSSIBLE ANSWERS:\n",
    "* 29.0\n",
    "* 23.45\n",
    "* 22.75\n",
    "* 32"
   ]
  }
 ],
 "metadata": {
  "kernelspec": {
   "display_name": "Python 3",
   "language": "python",
   "name": "python3"
  },
  "language_info": {
   "codemirror_mode": {
    "name": "ipython",
    "version": 3
   },
   "file_extension": ".py",
   "mimetype": "text/x-python",
   "name": "python",
   "nbconvert_exporter": "python",
   "pygments_lexer": "ipython3",
   "version": "3.6.7"
  }
 },
 "nbformat": 4,
 "nbformat_minor": 2
}
