{
 "cells": [
  {
   "cell_type": "markdown",
   "metadata": {},
   "source": [
    "# Separate and summarize"
   ]
  },
  {
   "cell_type": "markdown",
   "metadata": {},
   "source": [
    "#### EXERCISE:\n",
    "Let's use population filtering to determine how the automobiles in the US\n",
    "differ from the global average and standard deviation. How does the distribution of fuel efficiency (MPG) \n",
    "for the US differ from the global average and standard deviation?\n",
    "\n",
    "In this exercise, you'll compute the means and standard deviations of all columns in the\n",
    "full automobile dataset. Next, you'll compute the same quantities for just the US population\n",
    "and subtract the global values from the US values.\n",
    "\n",
    "All necessary modules have been imported and the DataFrame has been pre-loaded as <code>df</code>."
   ]
  },
  {
   "cell_type": "markdown",
   "metadata": {},
   "source": [
    "#### INSTRUCTIONS:\n",
    "* Compute the global mean and global standard deviations of <code>df</code> using the <code>.mean()</code> and <code>.std()</code> methods. Assign the results to <code>global_mean</code> and <code>global_std</code>.\n",
    "* Filter the <code>'US'</code> population from the <code>'origin'</code> column and assign the result to <code>us</code>.\n",
    "* Compute the US mean and US standard deviations of <code>us</code> using the <code>.mean()</code> and <code>.std()</code> methods. Assign the results to <code>us_mean</code> and <code>us_std</code>.\n",
    "* Print the differences between <code>us_mean</code> and <code>global_mean</code> and <code>us_std</code> and <code>global_std</code>. This has already been done for you."
   ]
  },
  {
   "cell_type": "markdown",
   "metadata": {},
   "source": [
    "#### SCRIPT.PY:"
   ]
  },
  {
   "cell_type": "code",
   "execution_count": null,
   "metadata": {},
   "outputs": [],
   "source": [
    "# Compute the global mean and global standard deviation: global_mean, global_std\n",
    "global_mean = ____\n",
    "global_std = ____\n",
    "\n",
    "# Filter the US population from the origin column: us\n",
    "us = ____\n",
    "\n",
    "# Compute the US mean and US standard deviation: us_mean, us_std\n",
    "us_mean = ____\n",
    "us_std = ____\n",
    "\n",
    "# Print the differences\n",
    "print(us_mean - global_mean)\n",
    "print(us_std - global_std)"
   ]
  }
 ],
 "metadata": {
  "kernelspec": {
   "display_name": "Python 3",
   "language": "python",
   "name": "python3"
  },
  "language_info": {
   "codemirror_mode": {
    "name": "ipython",
    "version": 3
   },
   "file_extension": ".py",
   "mimetype": "text/x-python",
   "name": "python",
   "nbconvert_exporter": "python",
   "pygments_lexer": "ipython3",
   "version": "3.6.7"
  }
 },
 "nbformat": 4,
 "nbformat_minor": 2
}
