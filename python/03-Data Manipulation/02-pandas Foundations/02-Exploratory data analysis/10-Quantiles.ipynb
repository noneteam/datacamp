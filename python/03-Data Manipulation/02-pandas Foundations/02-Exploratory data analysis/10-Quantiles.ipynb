{
 "cells": [
  {
   "cell_type": "markdown",
   "metadata": {},
   "source": [
    "# Quantiles"
   ]
  },
  {
   "cell_type": "markdown",
   "metadata": {},
   "source": [
    "#### EXERCISE:\n",
    "In many data sets, there can be large differences in the mean and median value due to the presence of outliers. \n",
    "\n",
    "In this exercise, you'll investigate the mean, median, and max fare prices paid by passengers on the Titanic and generate a box plot of the fare prices. This data set was obtained from <a href=\"http://biostat.mc.vanderbilt.edu/wiki/pub/Main/DataSets/titanic.html\" target=\"_blank\">Vanderbilt University</a>.\n",
    "\n",
    "All necessary modules have been imported and the DataFrame is available in the workspace as <code>df</code>."
   ]
  },
  {
   "cell_type": "markdown",
   "metadata": {},
   "source": [
    "#### INSTRUCTIONS:\n",
    "* Print the number of countries reported in 2015. To do this, use the <code>.count()</code> method on the <code>'2015'</code> column of <code>df</code>.\n",
    "* Print the 5th and 95th percentiles of <code>df</code>. To do this, use the <code>.quantile()</code> method with the list <code>[0.05, 0.95]</code>.\n",
    "* Generate a box plot using the list of columns provided in <code>years</code>. This has already been done for you, so click on 'Submit Answer' to view the result!"
   ]
  },
  {
   "cell_type": "markdown",
   "metadata": {},
   "source": [
    "#### SCRIPT.PY:"
   ]
  },
  {
   "cell_type": "code",
   "execution_count": null,
   "metadata": {},
   "outputs": [],
   "source": [
    "# Print the number of countries reported in 2015\n",
    "print(____)\n",
    "\n",
    "# Print the 5th and 95th percentiles\n",
    "print(____)\n",
    "\n",
    "# Generate a box plot\n",
    "years = ['1800','1850','1900','1950','2000']\n",
    "df[years].plot(kind='box')\n",
    "plt.show()"
   ]
  }
 ],
 "metadata": {
  "kernelspec": {
   "display_name": "Python 3",
   "language": "python",
   "name": "python3"
  },
  "language_info": {
   "codemirror_mode": {
    "name": "ipython",
    "version": 3
   },
   "file_extension": ".py",
   "mimetype": "text/x-python",
   "name": "python",
   "nbconvert_exporter": "python",
   "pygments_lexer": "ipython3",
   "version": "3.6.7"
  }
 },
 "nbformat": 4,
 "nbformat_minor": 2
}
