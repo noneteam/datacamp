{
 "cells": [
  {
   "cell_type": "markdown",
   "metadata": {},
   "source": [
    "# Bachelor's degrees awarded to women"
   ]
  },
  {
   "cell_type": "markdown",
   "metadata": {},
   "source": [
    "#### EXERCISE:\n",
    "In this exercise, you will investigate statistics of the percentage of Bachelor's degrees awarded to women from 1970 to 2011. Data is recorded every year for 17 different fields. This data set was obtained from the <a href=\"http://nces.ed.gov/programs/digest/2013menu_tables.asp\" target=\"_blank\">Digest of Education Statistics</a>.\n",
    "\n",
    "Your job is to compute the minimum and maximum values of the <code>'Engineering'</code> column and generate a line plot of the mean value of all 17 academic fields per year. To perform this step, you'll use the <code>.mean()</code> method with the keyword argument <code>axis='columns'</code>. This computes the mean <em>across</em> all columns per row.\n",
    "\n",
    "The DataFrame has been pre-loaded for you as <code>df</code> with the index set to <code>'Year'</code>."
   ]
  },
  {
   "cell_type": "markdown",
   "metadata": {},
   "source": [
    "#### INSTRUCTIONS:\n",
    "* Print the minimum value of the <code>'Engineering'</code> column.\n",
    "* Print the maximum value of the <code>'Engineering'</code> column.\n",
    "* Construct the mean percentage per year with <code>.mean(axis='columns')</code>. Assign the result to <code>mean</code>.\n",
    "* Plot the average percentage per year. Since <code>'Year'</code> is the index of <code>df</code>, it will appear on the x-axis of the plot. No keyword arguments are needed in your call to <code>.plot()</code>."
   ]
  },
  {
   "cell_type": "markdown",
   "metadata": {},
   "source": [
    "#### SCRIPT.PY:"
   ]
  },
  {
   "cell_type": "code",
   "execution_count": null,
   "metadata": {},
   "outputs": [],
   "source": [
    "# Print the minimum value of the Engineering column\n",
    "print(____)\n",
    "\n",
    "# Print the maximum value of the Engineering column\n",
    "print(____)\n",
    "\n",
    "# Construct the mean percentage per year: mean\n",
    "mean = ____\n",
    "\n",
    "# Plot the average percentage per year\n",
    "____\n",
    "\n",
    "# Display the plot\n",
    "plt.show()"
   ]
  }
 ],
 "metadata": {
  "kernelspec": {
   "display_name": "Python 3",
   "language": "python",
   "name": "python3"
  },
  "language_info": {
   "codemirror_mode": {
    "name": "ipython",
    "version": 3
   },
   "file_extension": ".py",
   "mimetype": "text/x-python",
   "name": "python",
   "nbconvert_exporter": "python",
   "pygments_lexer": "ipython3",
   "version": "3.6.7"
  }
 },
 "nbformat": 4,
 "nbformat_minor": 2
}
