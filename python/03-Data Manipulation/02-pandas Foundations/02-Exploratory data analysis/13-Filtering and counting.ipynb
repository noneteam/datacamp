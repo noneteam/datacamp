{
 "cells": [
  {
   "cell_type": "markdown",
   "metadata": {},
   "source": [
    "# Filtering and counting"
   ]
  },
  {
   "cell_type": "markdown",
   "metadata": {},
   "source": [
    "#### EXERCISE:\n",
    "How many automobiles were manufactured in Asia in the automobile dataset? The DataFrame has been\n",
    "provided for you as <code>df</code>. Use filtering and the <code>.count()</code> member method to determine the number of rows\n",
    "where the <code>'origin'</code> column has the value <code>'Asia'</code>.\n",
    "\n",
    "As an example, you can extract the rows that contain <code>'US'</code> as the country of origin using <code>df[df['origin'] == 'US']</code>."
   ]
  },
  {
   "cell_type": "markdown",
   "metadata": {},
   "source": [
    "#### POSSIBLE ANSWERS:\n",
    "* 68\n",
    "* 79\n",
    "* 245\n",
    "* 392"
   ]
  }
 ],
 "metadata": {
  "kernelspec": {
   "display_name": "Python 3",
   "language": "python",
   "name": "python3"
  },
  "language_info": {
   "codemirror_mode": {
    "name": "ipython",
    "version": 3
   },
   "file_extension": ".py",
   "mimetype": "text/x-python",
   "name": "python",
   "nbconvert_exporter": "python",
   "pygments_lexer": "ipython3",
   "version": "3.6.7"
  }
 },
 "nbformat": 4,
 "nbformat_minor": 2
}
