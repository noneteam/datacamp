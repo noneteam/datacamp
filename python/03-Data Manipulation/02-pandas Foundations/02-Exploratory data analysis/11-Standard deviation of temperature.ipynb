{
 "cells": [
  {
   "cell_type": "markdown",
   "metadata": {},
   "source": [
    "# Standard deviation of temperature"
   ]
  },
  {
   "cell_type": "markdown",
   "metadata": {},
   "source": [
    "#### EXERCISE:\n",
    "Let's use the mean and standard deviation to explore differences in temperature distributions\n",
    "in Pittsburgh in 2013. The data has been obtained from <a href=\"https://www.wunderground.com/history/\" target=\"_blank\">Weather Underground</a>.\n",
    "\n",
    "In this exercise, you're going to compare the distribution of daily temperatures in January and March.\n",
    "You'll compute the mean and standard deviation for these two months.\n",
    "You will notice that while the mean values are similar, the standard deviations are quite\n",
    "different, meaning that one month had a larger fluctuation in temperature than the other.\n",
    "\n",
    "The DataFrames have been pre-loaded for you as <code>january</code>, which contains the January data, and <code>march</code>, which contains the March data."
   ]
  },
  {
   "cell_type": "markdown",
   "metadata": {},
   "source": [
    "#### INSTRUCTIONS:\n",
    "* Compute and print the means of the January and March data using the <code>.mean()</code> method.\n",
    "* Compute and print the standard deviations of the January and March data using the <code>.std()</code> method."
   ]
  },
  {
   "cell_type": "markdown",
   "metadata": {},
   "source": [
    "#### SCRIPT.PY:"
   ]
  },
  {
   "cell_type": "code",
   "execution_count": null,
   "metadata": {},
   "outputs": [],
   "source": [
    "# Print the mean of the January and March data\n",
    "print(____, ____)\n",
    "\n",
    "# Print the standard deviation of the January and March data\n"
   ]
  }
 ],
 "metadata": {
  "kernelspec": {
   "display_name": "Python 3",
   "language": "python",
   "name": "python3"
  },
  "language_info": {
   "codemirror_mode": {
    "name": "ipython",
    "version": 3
   },
   "file_extension": ".py",
   "mimetype": "text/x-python",
   "name": "python",
   "nbconvert_exporter": "python",
   "pygments_lexer": "ipython3",
   "version": "3.6.7"
  }
 },
 "nbformat": 4,
 "nbformat_minor": 2
}
