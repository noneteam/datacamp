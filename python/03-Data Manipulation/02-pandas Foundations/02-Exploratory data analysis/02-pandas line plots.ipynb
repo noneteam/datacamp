{
 "cells": [
  {
   "cell_type": "markdown",
   "metadata": {},
   "source": [
    "# pandas line plots"
   ]
  },
  {
   "cell_type": "markdown",
   "metadata": {},
   "source": [
    "#### EXERCISE:\n",
    "In the previous chapter, you saw that the <code>.plot()</code> method will place the Index values on the\n",
    "x-axis by default. In this exercise, you'll practice making line plots with specific columns on the x\n",
    "and y axes.\n",
    "\n",
    "You will work with a dataset consisting of monthly stock prices in 2015 for AAPL, GOOG, and IBM. \n",
    "The stock prices were obtained from <a href=\"http://finance.yahoo.com/\" target=\"_blank\">Yahoo Finance</a>. Your job is to plot the\n",
    "<code>'Month'</code> column on the x-axis and the AAPL and IBM prices on the y-axis using a list of column names.\n",
    "\n",
    "All necessary modules have been imported for you, and the DataFrame is available in the workspace as <code>df</code>. Explore it using methods\n",
    "such as <code>.head()</code>, <code>.info()</code>, and <code>.describe()</code> to see the column names."
   ]
  },
  {
   "cell_type": "markdown",
   "metadata": {},
   "source": [
    "#### INSTRUCTIONS:\n",
    "* Create a list of y-axis column names called <code>y_columns</code> consisting of <code>'AAPL'</code> and <code>'IBM'</code>.\n",
    "* Generate a line plot with <code>x='Month'</code> and <code>y=y_columns</code> as inputs.\n",
    "* Give the plot a title of <code>'Monthly stock prices'</code>.\n",
    "* Specify the y-axis label.\n",
    "* Display the plot."
   ]
  },
  {
   "cell_type": "markdown",
   "metadata": {},
   "source": [
    "#### SCRIPT.PY:"
   ]
  },
  {
   "cell_type": "code",
   "execution_count": null,
   "metadata": {},
   "outputs": [],
   "source": [
    "# Create a list of y-axis column names: y_columns\n",
    "y_columns = ____\n",
    "\n",
    "# Generate a line plot\n",
    "df.plot(x=____, y=____)\n",
    "\n",
    "# Add the title\n",
    "plt.____('Monthly stock prices')\n",
    "\n",
    "# Add the y-axis label\n",
    "plt.____('Price ($US)')\n",
    "\n",
    "# Display the plot\n",
    "plt.____()"
   ]
  }
 ],
 "metadata": {
  "kernelspec": {
   "display_name": "Python 3",
   "language": "python",
   "name": "python3"
  },
  "language_info": {
   "codemirror_mode": {
    "name": "ipython",
    "version": 3
   },
   "file_extension": ".py",
   "mimetype": "text/x-python",
   "name": "python",
   "nbconvert_exporter": "python",
   "pygments_lexer": "ipython3",
   "version": "3.6.7"
  }
 },
 "nbformat": 4,
 "nbformat_minor": 2
}
