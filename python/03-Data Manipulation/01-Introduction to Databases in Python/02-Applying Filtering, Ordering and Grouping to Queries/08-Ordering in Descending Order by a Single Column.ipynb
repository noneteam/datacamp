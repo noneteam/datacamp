{
 "cells": [
  {
   "cell_type": "markdown",
   "metadata": {},
   "source": [
    "# Ordering in Descending Order by a Single Column"
   ]
  },
  {
   "cell_type": "markdown",
   "metadata": {},
   "source": [
    "#### EXERCISE:\n",
    "You can also use <code>.order_by()</code> to sort from highest to lowest by wrapping a column\n",
    "in the <code>desc()</code> function. Although you haven't seen this function in action, it generalizes what you have already learned.\n",
    "\n",
    "Pass <code>desc()</code> (for \"descending\") inside an <code>.order_by()</code> with the name of the column you want to sort by. For instance,\n",
    "<code>stmt.order_by(desc(table.columns.column_name))</code> sorts <code>column_name</code> in descending order."
   ]
  },
  {
   "cell_type": "markdown",
   "metadata": {},
   "source": [
    "#### INSTRUCTIONS:\n",
    "* Import <code>desc</code> from the <code>sqlalchemy</code> module.\n",
    "* Select all records of the <code>state</code> column from the <code>census</code> table.\n",
    "* Append an <code>.order_by()</code> to sort the result output by the <code>state</code> column in <strong>descending</strong> order. Save the result as <code>rev_stmt</code>.\n",
    "* Execute <code>rev_stmt</code> using <code>connection.execute()</code> and fetch all the results with <code>.fetchall()</code>. Save them as <code>rev_results</code>.\n",
    "* Print the first 10 rows of <code>rev_results</code>."
   ]
  },
  {
   "cell_type": "markdown",
   "metadata": {},
   "source": [
    "#### SCRIPT.PY:"
   ]
  },
  {
   "cell_type": "code",
   "execution_count": null,
   "metadata": {},
   "outputs": [],
   "source": [
    "# Import desc\n",
    "from ____ import ____\n",
    "\n",
    "# Build a query to select the state column: stmt\n",
    "stmt = ____\n",
    "\n",
    "# Order stmt by state in descending order: rev_stmt\n",
    "rev_stmt = stmt.order_by(____)\n",
    "\n",
    "# Execute the query and store the results: rev_results\n",
    "rev_results = ____\n",
    "\n",
    "# Print the first 10 rev_results\n",
    "print(____)\n"
   ]
  }
 ],
 "metadata": {
  "kernelspec": {
   "display_name": "Python 3",
   "language": "python",
   "name": "python3"
  },
  "language_info": {
   "codemirror_mode": {
    "name": "ipython",
    "version": 3
   },
   "file_extension": ".py",
   "mimetype": "text/x-python",
   "name": "python",
   "nbconvert_exporter": "python",
   "pygments_lexer": "ipython3",
   "version": "3.6.7"
  }
 },
 "nbformat": 4,
 "nbformat_minor": 2
}
