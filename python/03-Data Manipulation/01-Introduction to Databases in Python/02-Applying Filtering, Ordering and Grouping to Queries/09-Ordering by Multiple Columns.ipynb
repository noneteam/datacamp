{
 "cells": [
  {
   "cell_type": "markdown",
   "metadata": {},
   "source": [
    "# Ordering by Multiple Columns"
   ]
  },
  {
   "cell_type": "markdown",
   "metadata": {},
   "source": [
    "#### EXERCISE:\n",
    "We can pass multiple arguments to the <code>.order_by()</code> method to order by multiple\n",
    "columns. In fact, we can also sort in ascending or descending order for each individual\n",
    "column. Each column in the <code>.order_by()</code> method is fully sorted from left to right.\n",
    "This means that the first column is completely sorted, and then within each\n",
    "matching group of values in the first column, it's sorted by the next column in\n",
    "the <code>.order_by()</code> method. This process is repeated until all the columns in the\n",
    "<code>.order_by()</code> are sorted."
   ]
  },
  {
   "cell_type": "markdown",
   "metadata": {},
   "source": [
    "#### INSTRUCTIONS:\n",
    "* Select all records of the <code>state</code> and <code>age</code> columns from the <code>census</code> table.\n",
    "* Use <code>.order_by()</code> to sort the output of the <code>state</code> column in ascending order and <code>age</code> in descending order. (NOTE: <code>desc</code> is already imported).\n",
    "* Execute <code>stmt</code> using the <code>.execute()</code> method on <code>connection</code> and retrieve all the results using <code>.fetchall()</code>.\n",
    "* Print the first 20 results."
   ]
  },
  {
   "cell_type": "markdown",
   "metadata": {},
   "source": [
    "#### SCRIPT.PY:"
   ]
  },
  {
   "cell_type": "code",
   "execution_count": 1,
   "metadata": {},
   "outputs": [
    {
     "name": "stdout",
     "output_type": "stream",
     "text": [
      "[('Alabama', 85), ('Alabama', 85), ('Alabama', 84), ('Alabama', 84), ('Alabama', 83), ('Alabama', 83), ('Alabama', 82), ('Alabama', 82), ('Alabama', 81), ('Alabama', 81), ('Alabama', 80), ('Alabama', 80), ('Alabama', 79), ('Alabama', 79), ('Alabama', 78), ('Alabama', 78), ('Alabama', 77), ('Alabama', 77), ('Alabama', 76), ('Alabama', 76)]\n"
     ]
    }
   ],
   "source": [
    "from sqlalchemy import create_engine, MetaData, Table, select, desc\n",
    "engine = create_engine(\"sqlite:///../01-Basics of Relational Databases/census.sqlite\")\n",
    "connection = engine.connect()\n",
    "census = Table(\"census\", MetaData(bind=None), autoload=True, autoload_with=engine)\n",
    "# Build a query to select state and age: stmt\n",
    "stmt = select([census.columns.state, census.columns.age])\n",
    "\n",
    "# Append order by to ascend by state and descend by age\n",
    "stmt = stmt.order_by(census.columns.state, desc(census.columns.age))\n",
    "\n",
    "# Execute the statement and store all the records: results\n",
    "results = connection.execute(stmt).fetchall()\n",
    "\n",
    "# Print the first 20 results\n",
    "print(results[:20])\n"
   ]
  }
 ],
 "metadata": {
  "kernelspec": {
   "display_name": "Python 3",
   "language": "python",
   "name": "python3"
  },
  "language_info": {
   "codemirror_mode": {
    "name": "ipython",
    "version": 3
   },
   "file_extension": ".py",
   "mimetype": "text/x-python",
   "name": "python",
   "nbconvert_exporter": "python",
   "pygments_lexer": "ipython3",
   "version": "3.6.7"
  }
 },
 "nbformat": 4,
 "nbformat_minor": 2
}
