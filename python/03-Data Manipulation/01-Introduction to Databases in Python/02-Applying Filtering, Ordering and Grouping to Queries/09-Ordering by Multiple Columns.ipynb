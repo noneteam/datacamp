{
 "cells": [
  {
   "cell_type": "markdown",
   "metadata": {},
   "source": [
    "# Ordering by Multiple Columns"
   ]
  },
  {
   "cell_type": "markdown",
   "metadata": {},
   "source": [
    "#### EXERCISE:\n",
    "We can pass multiple arguments to the <code>.order_by()</code> method to order by multiple\n",
    "columns. In fact, we can also sort in ascending or descending order for each individual\n",
    "column. Each column in the <code>.order_by()</code> method is fully sorted from left to right.\n",
    "This means that the first column is completely sorted, and then within each\n",
    "matching group of values in the first column, it's sorted by the next column in\n",
    "the <code>.order_by()</code> method. This process is repeated until all the columns in the\n",
    "<code>.order_by()</code> are sorted."
   ]
  },
  {
   "cell_type": "markdown",
   "metadata": {},
   "source": [
    "#### INSTRUCTIONS:\n",
    "* Select all records of the <code>state</code> and <code>age</code> columns from the <code>census</code> table.\n",
    "* Use <code>.order_by()</code> to sort the output of the <code>state</code> column in ascending order and <code>age</code> in descending order. (NOTE: <code>desc</code> is already imported).\n",
    "* Execute <code>stmt</code> using the <code>.execute()</code> method on <code>connection</code> and retrieve all the results using <code>.fetchall()</code>.\n",
    "* Print the first 20 results."
   ]
  },
  {
   "cell_type": "markdown",
   "metadata": {},
   "source": [
    "#### SCRIPT.PY:"
   ]
  },
  {
   "cell_type": "code",
   "execution_count": null,
   "metadata": {},
   "outputs": [],
   "source": [
    "# Build a query to select state and age: stmt\n",
    "stmt = select([____, ____])\n",
    "\n",
    "# Append order by to ascend by state and descend by age\n",
    "stmt = stmt.order_by(____, ____)\n",
    "\n",
    "# Execute the statement and store all the records: results\n",
    "results = ____\n",
    "\n",
    "# Print the first 20 results\n",
    "print(____)\n"
   ]
  }
 ],
 "metadata": {
  "kernelspec": {
   "display_name": "Python 3",
   "language": "python",
   "name": "python3"
  },
  "language_info": {
   "codemirror_mode": {
    "name": "ipython",
    "version": 3
   },
   "file_extension": ".py",
   "mimetype": "text/x-python",
   "name": "python",
   "nbconvert_exporter": "python",
   "pygments_lexer": "ipython3",
   "version": "3.6.7"
  }
 },
 "nbformat": 4,
 "nbformat_minor": 2
}
