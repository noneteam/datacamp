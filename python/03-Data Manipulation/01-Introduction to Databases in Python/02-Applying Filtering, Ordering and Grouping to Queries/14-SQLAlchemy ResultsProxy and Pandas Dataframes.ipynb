{
 "cells": [
  {
   "cell_type": "markdown",
   "metadata": {},
   "source": [
    "# SQLAlchemy ResultsProxy and Pandas Dataframes"
   ]
  },
  {
   "cell_type": "markdown",
   "metadata": {},
   "source": [
    "#### EXERCISE:\n",
    "We can feed a ResultProxy directly into a pandas DataFrame, which is the workhorse of many Data Scientists in PythonLand. Jason demonstrated this in the video. In this exercise, you'll follow exactly the same approach to convert a ResultProxy into a DataFrame."
   ]
  },
  {
   "cell_type": "markdown",
   "metadata": {},
   "source": [
    "#### INSTRUCTIONS:\n",
    "* Import <code>pandas</code> as <code>pd</code>.\n",
    "* Create a DataFrame <code>df</code> using <code>pd.DataFrame()</code> on the ResultProxy <code>results</code>.\n",
    "* Set the columns of the DataFrame <code>df.columns</code> to be the columns from the first result object <code>results[0].keys()</code>.\n",
    "* Print the DataFrame."
   ]
  },
  {
   "cell_type": "markdown",
   "metadata": {},
   "source": [
    "#### SCRIPT.PY:"
   ]
  },
  {
   "cell_type": "code",
   "execution_count": null,
   "metadata": {},
   "outputs": [],
   "source": [
    "# import pandas\n",
    "\n",
    "\n",
    "# Create a DataFrame from the results: df\n",
    "df = ____\n",
    "\n",
    "# Set column names\n",
    "df.columns = ____\n",
    "\n",
    "# Print the Dataframe\n",
    "print(____)"
   ]
  }
 ],
 "metadata": {
  "kernelspec": {
   "display_name": "Python 3",
   "language": "python",
   "name": "python3"
  },
  "language_info": {
   "codemirror_mode": {
    "name": "ipython",
    "version": 3
   },
   "file_extension": ".py",
   "mimetype": "text/x-python",
   "name": "python",
   "nbconvert_exporter": "python",
   "pygments_lexer": "ipython3",
   "version": "3.6.7"
  }
 },
 "nbformat": 4,
 "nbformat_minor": 2
}
