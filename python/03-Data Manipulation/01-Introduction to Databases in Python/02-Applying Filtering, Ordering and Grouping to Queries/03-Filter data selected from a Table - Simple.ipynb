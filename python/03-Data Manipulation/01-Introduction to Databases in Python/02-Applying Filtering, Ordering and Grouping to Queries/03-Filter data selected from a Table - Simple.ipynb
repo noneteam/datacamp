{
 "cells": [
  {
   "cell_type": "markdown",
   "metadata": {},
   "source": [
    "# Filter data selected from a Table - Simple"
   ]
  },
  {
   "cell_type": "markdown",
   "metadata": {},
   "source": [
    "#### EXERCISE:\n",
    "Having connected to the database, it's now time to practice filtering your queries!\n",
    "\n",
    "As mentioned in the video, a <code>where()</code> clause is used to filter the data that\n",
    "a statement returns. For example, to select all the records from the <code>census</code> table where the sex is\n",
    "Female (or <code>'F'</code>) we would do the following:\n",
    "\n",
    "<code>select([census]).where(census.columns.sex == 'F')</code>\n",
    "\n",
    "In addition to <code>==</code> we can use basically any python comparison operator (such as <code>&lt;=</code>,\n",
    "  <code>!=</code>, etc) in the <code>where()</code> clause."
   ]
  },
  {
   "cell_type": "markdown",
   "metadata": {},
   "source": [
    "#### INSTRUCTIONS:\n",
    "* Select all records from the <code>census</code> table by passing in <code>census</code> as a list to <code>select()</code>.\n",
    "* Append a where clause to <code>stmt</code> to return only the records with a <code>state</code> of <code>'New York'</code>.\n",
    "* Execute the statement <code>stmt</code> using <code>.execute()</code> and retrieve the results using <code>.fetchall()</code>.\n",
    "* Iterate over <code>results</code> and print the <code>age</code>, <code>sex</code> and <code>pop2008</code> columns from\n",
    "each record. For example, you can print out the <code>age</code> of <code>result</code> with <code>result.age</code>."
   ]
  },
  {
   "cell_type": "markdown",
   "metadata": {},
   "source": [
    "#### SCRIPT.PY:"
   ]
  },
  {
   "cell_type": "code",
   "execution_count": null,
   "metadata": {},
   "outputs": [],
   "source": [
    "# Create a select query: stmt\n",
    "stmt = ____\n",
    "\n",
    "# Add a where clause to filter the results to only those for New York\n",
    "stmt = ____\n",
    "\n",
    "# Execute the query to retrieve all the data returned: results\n",
    "results = ____\n",
    "\n",
    "# Loop over the results and print the age, sex, and pop2008\n",
    "for ___ in ____:\n",
    "    print(result.age, ____, ____)\n"
   ]
  }
 ],
 "metadata": {
  "kernelspec": {
   "display_name": "Python 3",
   "language": "python",
   "name": "python3"
  },
  "language_info": {
   "codemirror_mode": {
    "name": "ipython",
    "version": 3
   },
   "file_extension": ".py",
   "mimetype": "text/x-python",
   "name": "python",
   "nbconvert_exporter": "python",
   "pygments_lexer": "ipython3",
   "version": "3.6.7"
  }
 },
 "nbformat": 4,
 "nbformat_minor": 2
}
