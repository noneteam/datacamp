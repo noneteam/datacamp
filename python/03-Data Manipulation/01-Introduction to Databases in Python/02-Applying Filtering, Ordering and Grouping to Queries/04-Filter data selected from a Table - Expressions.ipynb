{
 "cells": [
  {
   "cell_type": "markdown",
   "metadata": {},
   "source": [
    "# Filter data selected from a Table - Expressions"
   ]
  },
  {
   "cell_type": "markdown",
   "metadata": {},
   "source": [
    "#### EXERCISE:\n",
    "In addition to standard Python comparators, we can also use methods such as\n",
    "<code>in_()</code> to create more powerful <code>where()</code> clauses. You can see a full list of\n",
    "expressions in the <a href=\"http://docs.sqlalchemy.org/en/latest/core/sqlelement.html#module-sqlalchemy.sql.expression\" target=\"_blank\">SQLAlchemy Documentation</a>.\n",
    "\n",
    "We've already created a list of some of the most densely populated states."
   ]
  },
  {
   "cell_type": "markdown",
   "metadata": {},
   "source": [
    "#### INSTRUCTIONS:\n",
    "* Select all records from the <code>census</code> table by passing it in as a list to <code>select()</code>.\n",
    "* Append a where clause to return all the records with a <code>state</code> in the\n",
    "<code>states</code> list. Use <code>in_(states)</code> on <code>census.columns.state</code> to do this.\n",
    "* Loop over the ResultProxy <code>connection.execute(stmt)</code> and print the <code>state</code> and <code>pop2000</code> columns\n",
    "from each record."
   ]
  },
  {
   "cell_type": "markdown",
   "metadata": {},
   "source": [
    "#### SCRIPT.PY:"
   ]
  },
  {
   "cell_type": "code",
   "execution_count": null,
   "metadata": {},
   "outputs": [],
   "source": [
    "# Create a query for the census table: stmt\n",
    "stmt = select(____)\n",
    "\n",
    "# Append a where clause to match all the states in_ the list states\n",
    "stmt = stmt.where(____)\n",
    "\n",
    "# Loop over the ResultProxy and print the state and its population in 2000\n",
    "for ____ in connection.execute(____):\n",
    "    print(____, ____)\n"
   ]
  }
 ],
 "metadata": {
  "kernelspec": {
   "display_name": "Python 3",
   "language": "python",
   "name": "python3"
  },
  "language_info": {
   "codemirror_mode": {
    "name": "ipython",
    "version": 3
   },
   "file_extension": ".py",
   "mimetype": "text/x-python",
   "name": "python",
   "nbconvert_exporter": "python",
   "pygments_lexer": "ipython3",
   "version": "3.6.7"
  }
 },
 "nbformat": 4,
 "nbformat_minor": 2
}
