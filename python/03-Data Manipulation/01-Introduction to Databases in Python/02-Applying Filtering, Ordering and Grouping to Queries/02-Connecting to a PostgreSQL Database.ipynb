{
 "cells": [
  {
   "cell_type": "markdown",
   "metadata": {},
   "source": [
    "# Connecting to a PostgreSQL Database"
   ]
  },
  {
   "cell_type": "markdown",
   "metadata": {},
   "source": [
    "#### EXERCISE:\n",
    "In these exercises, you will be working with real databases hosted on the cloud via Amazon Web Services (AWS)!\n",
    "\n",
    "Let's begin by connecting to a PostgreSQL database. When connecting to a PostgreSQL database, many prefer to use the psycopg2 database driver as it supports practically all of PostgreSQL's features efficiently and is the standard dialect for PostgreSQL in SQLAlchemy.\n",
    "\n",
    "You might recall from Chapter 1 that we use the <code>create_engine()</code> function and a\n",
    "connection string to connect to a database.\n",
    "\n",
    "There are three components to the connection string in this exercise: the dialect and driver (<code>'postgresql+psycopg2://'</code>), followed by the username and password (<code>'student:datacamp'</code>), followed by the host and port (<code>'@postgresql.csrrinzqubik.us-east-1.rds.amazonaws.com:5432/'</code>), and finally, the database name (<code>'census'</code>). You will have to pass this string as an argument to <code>create_engine()</code> in order to connect to the database."
   ]
  },
  {
   "cell_type": "markdown",
   "metadata": {},
   "source": [
    "#### INSTRUCTIONS:\n",
    "* Import <code>create_engine</code> from <code>sqlalchemy</code>.\n",
    "* Create an engine to the <code>census</code> database by concatenating the following strings:\n",
    " * <code>'postgresql+psycopg2://'</code>\n",
    " * <code>'student:datacamp'</code>\n",
    " * <code>'@postgresql.csrrinzqubik.us-east-1.rds.amazonaws.com'</code>\n",
    " * <code>':5432/census'</code>\n",
    "* Use the <code>.table_names()</code> method on <code>engine</code> to print the table names."
   ]
  },
  {
   "cell_type": "markdown",
   "metadata": {},
   "source": [
    "#### SCRIPT.PY:"
   ]
  },
  {
   "cell_type": "code",
   "execution_count": 5,
   "metadata": {},
   "outputs": [
    {
     "name": "stdout",
     "output_type": "stream",
     "text": [
      "['census', 'state_fact', 'vrska', 'data', 'data1', 'users']\n"
     ]
    }
   ],
   "source": [
    "# Import create_engine function\n",
    "from sqlalchemy import create_engine\n",
    "\n",
    "# Create an engine to the census database\n",
    "engine = create_engine(\"postgresql+psycopg2://\"\n",
    "                       \"student:datacamp\"\n",
    "                       \"@postgresql.csrrinzqubik.us-east-1.rds.amazonaws.com\"\n",
    "                       \":5432/census\")\n",
    "\n",
    "# Use the .table_names() method on the engine to print the table names\n",
    "print(engine.table_names())"
   ]
  }
 ],
 "metadata": {
  "kernelspec": {
   "display_name": "Python 3",
   "language": "python",
   "name": "python3"
  },
  "language_info": {
   "codemirror_mode": {
    "name": "ipython",
    "version": 3
   },
   "file_extension": ".py",
   "mimetype": "text/x-python",
   "name": "python",
   "nbconvert_exporter": "python",
   "pygments_lexer": "ipython3",
   "version": "3.6.7"
  }
 },
 "nbformat": 4,
 "nbformat_minor": 2
}
