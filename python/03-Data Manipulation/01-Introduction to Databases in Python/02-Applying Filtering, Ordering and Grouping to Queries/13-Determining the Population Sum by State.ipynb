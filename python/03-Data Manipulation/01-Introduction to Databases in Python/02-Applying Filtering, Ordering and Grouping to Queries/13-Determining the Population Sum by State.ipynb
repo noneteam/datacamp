{
 "cells": [
  {
   "cell_type": "markdown",
   "metadata": {},
   "source": [
    "# Determining the Population Sum by State"
   ]
  },
  {
   "cell_type": "markdown",
   "metadata": {},
   "source": [
    "#### EXERCISE:\n",
    "To avoid confusion with query result column names like <code>count_1</code>, we can use the <code>.label()</code> method to provide a name for the resulting column. This gets appendedto the function method we are using, and its argument is the name we want to use.\n",
    "\n",
    "We can pair <code>func.sum()</code> with <code>.group_by()</code> to get a sum of the population by <code>State</code> and use the <code>label()</code> method to name the output.\n",
    "\n",
    "We can also create the <code>func.sum()</code> expression before using it in the select statement. We do it the same way we would inside the select statement and store it in a variable. Then we use that variable in the select statement where the <code>func.sum()</code> would normally be."
   ]
  },
  {
   "cell_type": "markdown",
   "metadata": {},
   "source": [
    "#### INSTRUCTIONS:\n",
    "* Import <code>func</code> from <code>sqlalchemy</code>.\n",
    "* Build an expression to calculate the sum of the values in the <code>pop2008</code> field labeled as <code>'population'</code>.\n",
    "* Build a select statement to get the value of the <code>state</code> field and the sum of the values in <code>pop2008</code>.\n",
    "* Group the statement by <code>state</code> using a <code>.group_by()</code> method.\n",
    "* Execute <code>stmt</code> using the <code>connection</code> to get the count and store the results as <code>results</code>.\n",
    "* Print the keys/column names of the results returned using <code>results[0].keys()</code>."
   ]
  },
  {
   "cell_type": "markdown",
   "metadata": {},
   "source": [
    "#### SCRIPT.PY:"
   ]
  },
  {
   "cell_type": "code",
   "execution_count": null,
   "metadata": {},
   "outputs": [],
   "source": [
    "# Import func\n",
    "____\n",
    "\n",
    "# Build an expression to calculate the sum of pop2008 labeled as population\n",
    "pop2008_sum = func.sum(____).label(____)\n",
    "\n",
    "# Build a query to select the state and sum of pop2008: stmt\n",
    "stmt = select([____, ____])\n",
    "\n",
    "# Group stmt by state\n",
    "stmt = stmt.group_by(____)\n",
    "\n",
    "# Execute the statement and store all the records: results\n",
    "results = connection.execute(____).fetchall()\n",
    "\n",
    "# Print results\n",
    "print(results)\n",
    "\n",
    "# Print the keys/column names of the results returned\n",
    "print(____)"
   ]
  }
 ],
 "metadata": {
  "kernelspec": {
   "display_name": "Python 3",
   "language": "python",
   "name": "python3"
  },
  "language_info": {
   "codemirror_mode": {
    "name": "ipython",
    "version": 3
   },
   "file_extension": ".py",
   "mimetype": "text/x-python",
   "name": "python",
   "nbconvert_exporter": "python",
   "pygments_lexer": "ipython3",
   "version": "3.6.7"
  }
 },
 "nbformat": 4,
 "nbformat_minor": 2
}
