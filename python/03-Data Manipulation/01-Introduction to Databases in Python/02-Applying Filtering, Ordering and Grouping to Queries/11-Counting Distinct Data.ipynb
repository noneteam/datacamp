{
 "cells": [
  {
   "cell_type": "markdown",
   "metadata": {},
   "source": [
    "# Counting Distinct Data"
   ]
  },
  {
   "cell_type": "markdown",
   "metadata": {},
   "source": [
    "#### EXERCISE:\n",
    "As mentioned in the video, SQLAlchemy's <code>func</code> module provides access to built-in\n",
    "SQL functions that can make operations like counting and summing faster and more efficient.\n",
    "\n",
    "In the video, Jason used <code>func.sum()</code> to get a <strong>sum</strong> of the <code>pop2008</code> column of <code>census</code> as shown below:\n",
    "\n",
    "<pre><code>select([func.sum(census.columns.pop2008)])\n",
    "</code></pre>\n",
    "\n",
    "If instead you want to <strong>count</strong> the number of values in <code>pop2008</code>, you could use <code>func.count()</code> like this:\n",
    "\n",
    "<pre><code>select([func.count(census.columns.pop2008)])\n",
    "</code></pre>\n",
    "\n",
    "Furthermore, if you only want to count the <strong>distinct</strong> values of <code>pop2008</code>, you can use the <code>.distinct()</code> method:\n",
    "\n",
    "<pre><code>select([func.count(census.columns.pop2008.distinct())])\n",
    "</code></pre>\n",
    "\n",
    "In this exercise, you will practice using <code>func.count()</code> and <code>.distinct()</code> to get a count of the distinct number of states in <code>census</code>.\n",
    "\n",
    "So far, you've seen <code>.fetchall()</code> and <code>.first()</code> used on a ResultProxy to get the results. The ResultProxy also has a method called <code>.scalar()</code> for getting just the value of a query that returns only one row and column.\n",
    "\n",
    "This can be very useful when you are querying for just a count or sum."
   ]
  },
  {
   "cell_type": "markdown",
   "metadata": {},
   "source": [
    "#### INSTRUCTIONS:\n",
    "* Build a <code>select</code> statement to <strong>count</strong> the <strong>distinct</strong> values in the <code>state</code> field of <code>census</code>.\n",
    "* Execute <code>stmt</code> to get the count and store the results as <code>distinct_state_count</code>.\n",
    "* Print the value of <code>distinct_state_count</code>."
   ]
  },
  {
   "cell_type": "markdown",
   "metadata": {},
   "source": [
    "#### SCRIPT.PY:"
   ]
  },
  {
   "cell_type": "code",
   "execution_count": 4,
   "metadata": {},
   "outputs": [
    {
     "name": "stdout",
     "output_type": "stream",
     "text": [
      "8772\n"
     ]
    }
   ],
   "source": [
    "from sqlalchemy import create_engine, MetaData, Table, select, func\n",
    "engine = create_engine(\"sqlite:///../01-Basics of Relational Databases/census.sqlite\")\n",
    "connection = engine.connect()\n",
    "census = Table(\"census\", MetaData(bind=None), autoload=True, autoload_with=engine)\n",
    "# Build a query to count the distinct states values: stmt\n",
    "stmt = select([func.count(census.columns.state).distinct()])\n",
    "\n",
    "# Execute the query and store the scalar result: distinct_state_count\n",
    "distinct_state_count = connection.execute(stmt).scalar()\n",
    "\n",
    "# Print the distinct_state_count\n",
    "print(distinct_state_count)\n"
   ]
  }
 ],
 "metadata": {
  "kernelspec": {
   "display_name": "Python 3",
   "language": "python",
   "name": "python3"
  },
  "language_info": {
   "codemirror_mode": {
    "name": "ipython",
    "version": 3
   },
   "file_extension": ".py",
   "mimetype": "text/x-python",
   "name": "python",
   "nbconvert_exporter": "python",
   "pygments_lexer": "ipython3",
   "version": "3.6.7"
  }
 },
 "nbformat": 4,
 "nbformat_minor": 2
}
