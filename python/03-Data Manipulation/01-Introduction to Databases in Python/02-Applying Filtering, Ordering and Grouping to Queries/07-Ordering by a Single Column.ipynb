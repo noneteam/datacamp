{
 "cells": [
  {
   "cell_type": "markdown",
   "metadata": {},
   "source": [
    "# Ordering by a Single Column"
   ]
  },
  {
   "cell_type": "markdown",
   "metadata": {},
   "source": [
    "#### EXERCISE:\n",
    "To sort the result output by a field, we use the <code>.order_by()</code> method. By default, the <code>.order_by()</code> method sorts from lowest to highest on the supplied column. You just have to pass in the name of the column you want sorted to <code>.order_by()</code>.\n",
    "\n",
    "In the video, for example, Jason used <code>stmt.order_by(census.columns.state)</code> to sort the result output by the <code>state</code> column."
   ]
  },
  {
   "cell_type": "markdown",
   "metadata": {},
   "source": [
    "#### INSTRUCTIONS:\n",
    "* Select all records of the <code>state</code> column from the <code>census</code> table. To do this, pass <code>census.columns.state</code> as a list to <code>select()</code>.\n",
    "* Append an <code>.order_by()</code> to sort the result output by the <code>state</code> column.\n",
    "* Execute <code>stmt</code> using the <code>.execute()</code> method on <code>connection</code> and retrieve all the results using <code>.fetchall()</code>.\n",
    "* Print the first 10 rows of <code>results</code>."
   ]
  },
  {
   "cell_type": "markdown",
   "metadata": {},
   "source": [
    "#### SCRIPT.PY:"
   ]
  },
  {
   "cell_type": "code",
   "execution_count": null,
   "metadata": {},
   "outputs": [],
   "source": [
    "# Build a query to select the state column: stmt\n",
    "stmt = ____\n",
    "\n",
    "# Order stmt by the state column\n",
    "stmt = ____\n",
    "\n",
    "# Execute the query and store the results: results\n",
    "results = ____\n",
    "\n",
    "# Print the first 10 results\n",
    "print(____[:10])\n"
   ]
  }
 ],
 "metadata": {
  "kernelspec": {
   "display_name": "Python 3",
   "language": "python",
   "name": "python3"
  },
  "language_info": {
   "codemirror_mode": {
    "name": "ipython",
    "version": 3
   },
   "file_extension": ".py",
   "mimetype": "text/x-python",
   "name": "python",
   "nbconvert_exporter": "python",
   "pygments_lexer": "ipython3",
   "version": "3.6.7"
  }
 },
 "nbformat": 4,
 "nbformat_minor": 2
}
