{
 "cells": [
  {
   "cell_type": "markdown",
   "metadata": {},
   "source": [
    "# Count of Records by State"
   ]
  },
  {
   "cell_type": "markdown",
   "metadata": {},
   "source": [
    "#### EXERCISE:\n",
    "Often, we want to get a count for each record with a particular value in another\n",
    "column. The <code>.group_by()</code> method helps answer this type of query. You can pass a column\n",
    "to the <code>.group_by()</code> method and use in an aggregate function like <code>sum()</code> or <code>count()</code>.\n",
    "Much like the <code>.order_by()</code> method, <code>.group_by()</code> can take multiple columns as\n",
    "arguments."
   ]
  },
  {
   "cell_type": "markdown",
   "metadata": {},
   "source": [
    "#### INSTRUCTIONS:\n",
    "* Import <code>func</code> from <code>sqlalchemy</code>.\n",
    "* Build a <code>select</code> statement to get the value of the state field and a count of the values in the <code>age</code> field, and store it as <code>stmt</code>.\n",
    "* Use the <code>.group_by()</code> method to group the statement by the <code>state</code> column.\n",
    "* Execute <code>stmt</code> using the <code>connection</code> to get the count and store the results as <code>results</code>.\n",
    "* Print the keys/column names of the results returned using <code>results[0].keys()</code>."
   ]
  },
  {
   "cell_type": "markdown",
   "metadata": {},
   "source": [
    "#### SCRIPT.PY:"
   ]
  },
  {
   "cell_type": "code",
   "execution_count": null,
   "metadata": {},
   "outputs": [],
   "source": [
    "# Import func\n",
    "\n",
    "\n",
    "# Build a query to select the state and count of ages by state: stmt\n",
    "stmt = select([____, ____])\n",
    "\n",
    "# Group stmt by state\n",
    "stmt = stmt.group_by(____)\n",
    "\n",
    "# Execute the statement and store all the records: results\n",
    "results = connection.execute(____).fetchall()\n",
    "\n",
    "# Print results\n",
    "print(results)\n",
    "\n",
    "# Print the keys/column names of the results returned\n",
    "print(____)"
   ]
  }
 ],
 "metadata": {
  "kernelspec": {
   "display_name": "Python 3",
   "language": "python",
   "name": "python3"
  },
  "language_info": {
   "codemirror_mode": {
    "name": "ipython",
    "version": 3
   },
   "file_extension": ".py",
   "mimetype": "text/x-python",
   "name": "python",
   "nbconvert_exporter": "python",
   "pygments_lexer": "ipython3",
   "version": "3.6.7"
  }
 },
 "nbformat": 4,
 "nbformat_minor": 2
}
