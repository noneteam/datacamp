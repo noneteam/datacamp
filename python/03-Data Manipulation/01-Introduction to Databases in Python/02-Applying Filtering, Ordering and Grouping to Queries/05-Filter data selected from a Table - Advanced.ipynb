{
 "cells": [
  {
   "cell_type": "markdown",
   "metadata": {},
   "source": [
    "# Filter data selected from a Table - Advanced"
   ]
  },
  {
   "cell_type": "markdown",
   "metadata": {},
   "source": [
    "#### EXERCISE:\n",
    "You're really getting the hang of this! SQLAlchemy also allows users to use conjunctions such as <code>and_()</code>, <code>or_()</code>, and\n",
    "<code>not_()</code> to build more complex filtering. For example, we can get a set of records\n",
    "for people in New York who are 21 or 37 years old with the following code:\n",
    "\n",
    "<pre><code>select([census]).where(\n",
    "  and_(census.columns.state == 'New York',\n",
    "       or_(census.columns.age == 21,\n",
    "          census.columns.age == 37\n",
    "         )\n",
    "      )\n",
    "  )\n",
    "</code></pre>"
   ]
  },
  {
   "cell_type": "markdown",
   "metadata": {},
   "source": [
    "#### INSTRUCTIONS:\n",
    "* Import <code>and_</code> from the <code>sqlalchemy</code> module.\n",
    "* Select all records from the <code>census</code> table.\n",
    "* Append a where clause to filter all the records whose <code>state</code> is <code>'California'</code>, and whose <code>sex</code> is <strong>not</strong> <code>'M'</code>.\n",
    "* Iterate over the ResultProxy and print the <code>age</code> and <code>sex</code> columns from\n",
    "each record."
   ]
  },
  {
   "cell_type": "markdown",
   "metadata": {},
   "source": [
    "#### SCRIPT.PY:"
   ]
  },
  {
   "cell_type": "code",
   "execution_count": null,
   "metadata": {},
   "outputs": [],
   "source": [
    "# Import and_\n",
    "from ____ import ____\n",
    "\n",
    "# Build a query for the census table: stmt\n",
    "stmt = select(____)\n",
    "\n",
    "# Append a where clause to select only non-male records from California using and_\n",
    "stmt = stmt.where(\n",
    "    # The state of California with a non-male sex\n",
    "    ____(census.columns.state == ____,\n",
    "         census.columns.sex != ____\n",
    "         )\n",
    ")\n",
    "\n",
    "# Loop over the ResultProxy printing the age and sex\n",
    "for result in ____:\n",
    "    print(____, ____)\n"
   ]
  }
 ],
 "metadata": {
  "kernelspec": {
   "display_name": "Python 3",
   "language": "python",
   "name": "python3"
  },
  "language_info": {
   "codemirror_mode": {
    "name": "ipython",
    "version": 3
   },
   "file_extension": ".py",
   "mimetype": "text/x-python",
   "name": "python",
   "nbconvert_exporter": "python",
   "pygments_lexer": "ipython3",
   "version": "3.6.7"
  }
 },
 "nbformat": 4,
 "nbformat_minor": 2
}
