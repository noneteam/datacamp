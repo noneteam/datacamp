{
 "cells": [
  {
   "cell_type": "markdown",
   "metadata": {},
   "source": [
    "# Filter data selected from a Table - Advanced"
   ]
  },
  {
   "cell_type": "markdown",
   "metadata": {},
   "source": [
    "#### EXERCISE:\n",
    "You're really getting the hang of this! SQLAlchemy also allows users to use conjunctions such as <code>and_()</code>, <code>or_()</code>, and\n",
    "<code>not_()</code> to build more complex filtering. For example, we can get a set of records\n",
    "for people in New York who are 21 or 37 years old with the following code:\n",
    "\n",
    "<pre><code>select([census]).where(\n",
    "  and_(census.columns.state == 'New York',\n",
    "       or_(census.columns.age == 21,\n",
    "          census.columns.age == 37\n",
    "         )\n",
    "      )\n",
    "  )\n",
    "</code></pre>"
   ]
  },
  {
   "cell_type": "markdown",
   "metadata": {},
   "source": [
    "#### INSTRUCTIONS:\n",
    "* Import <code>and_</code> from the <code>sqlalchemy</code> module.\n",
    "* Select all records from the <code>census</code> table.\n",
    "* Append a where clause to filter all the records whose <code>state</code> is <code>'California'</code>, and whose <code>sex</code> is <strong>not</strong> <code>'M'</code>.\n",
    "* Iterate over the ResultProxy and print the <code>age</code> and <code>sex</code> columns from\n",
    "each record."
   ]
  },
  {
   "cell_type": "markdown",
   "metadata": {},
   "source": [
    "#### SCRIPT.PY:"
   ]
  },
  {
   "cell_type": "code",
   "execution_count": 3,
   "metadata": {},
   "outputs": [
    {
     "name": "stdout",
     "output_type": "stream",
     "text": [
      "0 F\n",
      "1 F\n",
      "2 F\n",
      "3 F\n",
      "4 F\n",
      "5 F\n",
      "6 F\n",
      "7 F\n",
      "8 F\n",
      "9 F\n",
      "10 F\n",
      "11 F\n",
      "12 F\n",
      "13 F\n",
      "14 F\n",
      "15 F\n",
      "16 F\n",
      "17 F\n",
      "18 F\n",
      "19 F\n",
      "20 F\n",
      "21 F\n",
      "22 F\n",
      "23 F\n",
      "24 F\n",
      "25 F\n",
      "26 F\n",
      "27 F\n",
      "28 F\n",
      "29 F\n",
      "30 F\n",
      "31 F\n",
      "32 F\n",
      "33 F\n",
      "34 F\n",
      "35 F\n",
      "36 F\n",
      "37 F\n",
      "38 F\n",
      "39 F\n",
      "40 F\n",
      "41 F\n",
      "42 F\n",
      "43 F\n",
      "44 F\n",
      "45 F\n",
      "46 F\n",
      "47 F\n",
      "48 F\n",
      "49 F\n",
      "50 F\n",
      "51 F\n",
      "52 F\n",
      "53 F\n",
      "54 F\n",
      "55 F\n",
      "56 F\n",
      "57 F\n",
      "58 F\n",
      "59 F\n",
      "60 F\n",
      "61 F\n",
      "62 F\n",
      "63 F\n",
      "64 F\n",
      "65 F\n",
      "66 F\n",
      "67 F\n",
      "68 F\n",
      "69 F\n",
      "70 F\n",
      "71 F\n",
      "72 F\n",
      "73 F\n",
      "74 F\n",
      "75 F\n",
      "76 F\n",
      "77 F\n",
      "78 F\n",
      "79 F\n",
      "80 F\n",
      "81 F\n",
      "82 F\n",
      "83 F\n",
      "84 F\n",
      "85 F\n"
     ]
    }
   ],
   "source": [
    "from sqlalchemy import create_engine, MetaData, select, Table\n",
    "engine = create_engine(\"sqlite:///../01-Basics of Relational Databases/census.sqlite\")\n",
    "connection = engine.connect()\n",
    "census = Table(\"census\", MetaData(bind=None), autoload=True, autoload_with=engine)\n",
    "# Import and_\n",
    "from sqlalchemy import and_\n",
    "\n",
    "# Build a query for the census table: stmt\n",
    "stmt = select([census])\n",
    "\n",
    "# Append a where clause to select only non-male records from California using and_\n",
    "stmt = stmt.where(\n",
    "    # The state of California with a non-male sex\n",
    "    and_(census.columns.state == \"California\",\n",
    "         census.columns.sex != \"M\"\n",
    "         )\n",
    ")\n",
    "\n",
    "# Loop over the ResultProxy printing the age and sex\n",
    "for result in connection.execute(stmt):\n",
    "    print(result[\"age\"], result[\"sex\"])\n"
   ]
  }
 ],
 "metadata": {
  "kernelspec": {
   "display_name": "Python 3",
   "language": "python",
   "name": "python3"
  },
  "language_info": {
   "codemirror_mode": {
    "name": "ipython",
    "version": 3
   },
   "file_extension": ".py",
   "mimetype": "text/x-python",
   "name": "python",
   "nbconvert_exporter": "python",
   "pygments_lexer": "ipython3",
   "version": "3.6.7"
  }
 },
 "nbformat": 4,
 "nbformat_minor": 2
}
