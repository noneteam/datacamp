{
 "cells": [
  {
   "cell_type": "markdown",
   "metadata": {},
   "source": [
    "# From SQLAlchemy results to a Graph"
   ]
  },
  {
   "cell_type": "markdown",
   "metadata": {},
   "source": [
    "#### EXERCISE:\n",
    "We can also take advantage of <code>pandas</code> and <code>Matplotlib</code> to build figures of our data. Remember that data visualization is essential for both exploratory data analysis and communication of your data!"
   ]
  },
  {
   "cell_type": "markdown",
   "metadata": {},
   "source": [
    "#### INSTRUCTIONS:\n",
    "* Import <code>matplotlib.pyplot</code> as <code>plt</code>.\n",
    "* Create a DataFrame <code>df</code> using <code>pd.DataFrame()</code> on the provided <code>results</code>.\n",
    "* Set the columns of the DataFrame <code>df.columns</code> to be the columns from the first result object <code>results[0].keys()</code>.\n",
    "* Print the DataFrame <code>df</code>.\n",
    "* Use the <code>plot.bar()</code> method on <code>df</code> to create a bar plot of the results.\n",
    "* Display the plot with <code>plt.show()</code>."
   ]
  },
  {
   "cell_type": "markdown",
   "metadata": {},
   "source": [
    "#### SCRIPT.PY:"
   ]
  },
  {
   "cell_type": "code",
   "execution_count": 5,
   "metadata": {},
   "outputs": [
    {
     "name": "stdout",
     "output_type": "stream",
     "text": [
      "        state  population\n",
      "0  California    36609002\n",
      "1       Texas    24214127\n",
      "2    New York    19465159\n",
      "3     Florida    18257662\n",
      "4    Illinois    12867077\n"
     ]
    },
    {
     "data": {
      "image/png": "[encoded data removed]",
      "text/plain": [
       "<Figure size 432x288 with 1 Axes>"
      ]
     },
     "metadata": {
      "needs_background": "light"
     },
     "output_type": "display_data"
    }
   ],
   "source": [
    "from sqlalchemy import create_engine, MetaData, Table, select, func, desc\n",
    "import pandas as pd\n",
    "engine = create_engine(\"sqlite:///../01-Basics of Relational Databases/census.sqlite\")\n",
    "connection = engine.connect()\n",
    "census = Table(\"census\", MetaData(bind=None), autoload=True, autoload_with=engine)\n",
    "pop2008_sum = func.sum(census.columns.pop2008).label(\"population\")\n",
    "stmt = select([census.columns.state, pop2008_sum])\n",
    "stmt = stmt.order_by(desc(pop2008_sum))\n",
    "stmt = stmt.group_by(census.columns.state)\n",
    "results = connection.execute(stmt).fetchmany(5)\n",
    "%matplotlib inline\n",
    "# Import pyplot as plt from matplotlib\n",
    "from matplotlib import pyplot as plt\n",
    "\n",
    "# Create a DataFrame from the results: df\n",
    "df = pd.DataFrame(results)\n",
    "\n",
    "# Set Column names\n",
    "df.columns = results[0].keys()\n",
    "\n",
    "# Print the DataFrame\n",
    "print(df)\n",
    "\n",
    "# Plot the DataFrame\n",
    "df.plot.bar()\n",
    "plt.show()"
   ]
  }
 ],
 "metadata": {
  "kernelspec": {
   "display_name": "Python 3",
   "language": "python",
   "name": "python3"
  },
  "language_info": {
   "codemirror_mode": {
    "name": "ipython",
    "version": 3
   },
   "file_extension": ".py",
   "mimetype": "text/x-python",
   "name": "python",
   "nbconvert_exporter": "python",
   "pygments_lexer": "ipython3",
   "version": "3.6.7"
  }
 },
 "nbformat": 4,
 "nbformat_minor": 2
}
