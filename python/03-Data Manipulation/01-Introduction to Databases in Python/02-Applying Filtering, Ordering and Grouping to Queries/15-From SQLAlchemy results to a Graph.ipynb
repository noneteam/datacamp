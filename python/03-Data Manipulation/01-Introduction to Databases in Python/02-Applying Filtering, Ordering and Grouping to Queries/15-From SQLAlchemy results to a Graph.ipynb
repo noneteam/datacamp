{
 "cells": [
  {
   "cell_type": "markdown",
   "metadata": {},
   "source": [
    "# From SQLAlchemy results to a Graph"
   ]
  },
  {
   "cell_type": "markdown",
   "metadata": {},
   "source": [
    "#### EXERCISE:\n",
    "We can also take advantage of <code>pandas</code> and <code>Matplotlib</code> to build figures of our data. Remember that data visualization is essential for both exploratory data analysis and communication of your data!"
   ]
  },
  {
   "cell_type": "markdown",
   "metadata": {},
   "source": [
    "#### INSTRUCTIONS:\n",
    "* Import <code>matplotlib.pyplot</code> as <code>plt</code>.\n",
    "* Create a DataFrame <code>df</code> using <code>pd.DataFrame()</code> on the provided <code>results</code>.\n",
    "* Set the columns of the DataFrame <code>df.columns</code> to be the columns from the first result object <code>results[0].keys()</code>.\n",
    "* Print the DataFrame <code>df</code>.\n",
    "* Use the <code>plot.bar()</code> method on <code>df</code> to create a bar plot of the results.\n",
    "* Display the plot with <code>plt.show()</code>."
   ]
  },
  {
   "cell_type": "markdown",
   "metadata": {},
   "source": [
    "#### SCRIPT.PY:"
   ]
  },
  {
   "cell_type": "code",
   "execution_count": null,
   "metadata": {},
   "outputs": [],
   "source": [
    "# Import pyplot as plt from matplotlib\n",
    "\n",
    "\n",
    "# Create a DataFrame from the results: df\n",
    "df = ____\n",
    "\n",
    "# Set Column names\n",
    "df.columns = ____\n",
    "\n",
    "# Print the DataFrame\n",
    "\n",
    "\n",
    "# Plot the DataFrame\n",
    "\n"
   ]
  }
 ],
 "metadata": {
  "kernelspec": {
   "display_name": "Python 3",
   "language": "python",
   "name": "python3"
  },
  "language_info": {
   "codemirror_mode": {
    "name": "ipython",
    "version": 3
   },
   "file_extension": ".py",
   "mimetype": "text/x-python",
   "name": "python",
   "nbconvert_exporter": "python",
   "pygments_lexer": "ipython3",
   "version": "3.6.7"
  }
 },
 "nbformat": 4,
 "nbformat_minor": 2
}
