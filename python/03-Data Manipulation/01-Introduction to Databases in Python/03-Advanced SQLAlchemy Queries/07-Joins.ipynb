{
 "cells": [
  {
   "cell_type": "markdown",
   "metadata": {},
   "source": [
    "# Joins"
   ]
  },
  {
   "cell_type": "markdown",
   "metadata": {},
   "source": [
    "#### EXERCISE:\n",
    "If you aren't selecting columns from both tables or the two tables don't have a defined relationship, you can still use the <code>.join()</code> method on a table to join it with another table and get\n",
    "extra data related to our query. The <code>join()</code> takes the table object you want to join in as the first argument and a condition that\n",
    "indicates how the tables are related to the second argument. Finally,\n",
    "you use the <code>.select_from()</code> method on the select statement to wrap the join\n",
    "clause. For example, in the video, Jason executed the following code to join the <code>census</code> table to the <code>state_fact</code> table such that the <code>state</code> column of the <code>census</code> table corresponded to the <code>name</code> column of the <code>state_fact</code> table.\n",
    "\n",
    "<pre><code>stmt = stmt.select_from(\n",
    "    census.join(\n",
    "        state_fact, census.columns.state == \n",
    "        state_fact.columns.name)\n",
    "</code></pre>"
   ]
  },
  {
   "cell_type": "markdown",
   "metadata": {},
   "source": [
    "#### INSTRUCTIONS:\n",
    "* Build a statement to select ALL the columns from the <code>census</code> and <code>state_fact</code> tables. To select ALL the columns from two tables <code>employees</code> and <code>sales</code>, for example, you would use <code>stmt = select([employees, sales])</code>.\n",
    "* Append a <code>select_from</code> to <code>stmt</code> to join the <code>census</code> table to the <code>state_fact</code> table by the <code>state</code> column in <code>census</code> and the <code>name</code> column in the <code>state_fact</code> table.\n",
    "* Execute the statement to get the first result and save it as <code>result</code>. This code is already written\n",
    "* Hit 'Submit Answer' to loop over the keys of the result object, and print the key and value for each!"
   ]
  },
  {
   "cell_type": "markdown",
   "metadata": {},
   "source": [
    "#### SCRIPT.PY:"
   ]
  },
  {
   "cell_type": "code",
   "execution_count": null,
   "metadata": {},
   "outputs": [],
   "source": [
    "# Build a statement to select the census and state_fact tables: stmt\n",
    "stmt = select([____, ____])\n",
    "\n",
    "# Add a select_from clause that wraps a join for the census and state_fact\n",
    "# tables where the census state column and state_fact name column match\n",
    "stmt = stmt.select_from(\n",
    "    ____(____, census.columns.____ == state_fact.columns.____))\n",
    "\n",
    "# Execute the statement and get the first result: result\n",
    "result = connection.execute(stmt).first()\n",
    "\n",
    "# Loop over the keys in the result object and print the key and value\n",
    "for key in result.keys():\n",
    "    print(key, getattr(result, key))\n"
   ]
  }
 ],
 "metadata": {
  "kernelspec": {
   "display_name": "Python 3",
   "language": "python",
   "name": "python3"
  },
  "language_info": {
   "codemirror_mode": {
    "name": "ipython",
    "version": 3
   },
   "file_extension": ".py",
   "mimetype": "text/x-python",
   "name": "python",
   "nbconvert_exporter": "python",
   "pygments_lexer": "ipython3",
   "version": "3.6.7"
  }
 },
 "nbformat": 4,
 "nbformat_minor": 2
}
