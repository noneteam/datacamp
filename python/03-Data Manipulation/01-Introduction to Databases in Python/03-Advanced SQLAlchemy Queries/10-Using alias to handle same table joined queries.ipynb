{
 "cells": [
  {
   "cell_type": "markdown",
   "metadata": {},
   "source": [
    "# Using alias to handle same table joined queries"
   ]
  },
  {
   "cell_type": "markdown",
   "metadata": {},
   "source": [
    "#### EXERCISE:\n",
    "Often, you'll have tables that contain hierarchical data, such as employees\n",
    "and managers who are also employees. For this reason, you may wish to join a table to itself on different columns. The <code>.alias()</code> method, which creates a copy of a table, helps accomplish\n",
    "this task. Because it's the same table, you only need a where clause to specify\n",
    "the join condition.\n",
    "\n",
    "Here, you'll use the <code>.alias()</code> method to build a query to join the\n",
    "<code>employees</code> table against itself to determine to whom everyone reports."
   ]
  },
  {
   "cell_type": "markdown",
   "metadata": {},
   "source": [
    "#### INSTRUCTIONS:\n",
    "* Save an alias of the <code>employees</code> table as <code>managers</code>. To do so, apply the method <code>.alias()</code> to <code>employees</code>.\n",
    "* Build a query to select the employee <code>name</code> and their manager's <code>name</code>. The manager's <code>name</code> has already been selected for you. Use <code>label</code> to label the <code>name</code> column of <code>employees</code> as <code>'employee'</code>.\n",
    "* Append a where clause to <code>stmt</code> to match where the <code>id</code> column of the <code>managers</code> table corresponds to the <code>mgr</code> column of the <code>employees</code> table.\n",
    "* Order the statement by the <code>name</code> column of the <code>managers</code> table.\n",
    "* Execute the statement and store all the results. This code is already written. Hit 'Submit Answer' to print the names of the managers and all their employees."
   ]
  },
  {
   "cell_type": "markdown",
   "metadata": {},
   "source": [
    "#### SCRIPT.PY:"
   ]
  },
  {
   "cell_type": "code",
   "execution_count": 4,
   "metadata": {},
   "outputs": [
    {
     "name": "stdout",
     "output_type": "stream",
     "text": [
      "('FILLMORE', 'GRANT')\n",
      "('FILLMORE', 'ADAMS')\n",
      "('FILLMORE', 'MONROE')\n",
      "('GARFIELD', 'JOHNSON')\n",
      "('GARFIELD', 'LINCOLN')\n",
      "('GARFIELD', 'POLK')\n",
      "('GARFIELD', 'WASHINGTON')\n",
      "('HARDING', 'TAFT')\n",
      "('HARDING', 'HOOVER')\n",
      "('JACKSON', 'HARDING')\n",
      "('JACKSON', 'GARFIELD')\n",
      "('JACKSON', 'FILLMORE')\n",
      "('JACKSON', 'ROOSEVELT')\n"
     ]
    }
   ],
   "source": [
    "from sqlalchemy import create_engine, select, MetaData, Table\n",
    "engine = create_engine(\"sqlite:///employees.sqlite\")\n",
    "connection = engine.connect()\n",
    "employees = Table(\"employees\", MetaData(bind=None), autoload=True, autoload_with=engine)\n",
    "# Make an alias of the employees table: managers\n",
    "managers = employees.alias()\n",
    "\n",
    "# Build a query to select manager's and their employees names: stmt\n",
    "stmt = select(\n",
    "    [managers.columns.name.label('manager'),\n",
    "     employees.columns.name.label('employee')]\n",
    ")\n",
    "\n",
    "# Match managers id with employees mgr: stmt\n",
    "stmt = stmt.where(managers.columns.id == employees.columns.mgr)\n",
    "\n",
    "# Order the statement by the managers name: stmt\n",
    "stmt = stmt.order_by(managers.columns.name)\n",
    "\n",
    "# Execute statement: results\n",
    "results = connection.execute(stmt).fetchall()\n",
    "\n",
    "# Print records\n",
    "for record in results:\n",
    "    print(record)\n",
    "\n"
   ]
  }
 ],
 "metadata": {
  "kernelspec": {
   "display_name": "Python 3",
   "language": "python",
   "name": "python3"
  },
  "language_info": {
   "codemirror_mode": {
    "name": "ipython",
    "version": 3
   },
   "file_extension": ".py",
   "mimetype": "text/x-python",
   "name": "python",
   "nbconvert_exporter": "python",
   "pygments_lexer": "ipython3",
   "version": "3.6.7"
  }
 },
 "nbformat": 4,
 "nbformat_minor": 2
}
