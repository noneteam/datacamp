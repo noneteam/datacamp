{
 "cells": [
  {
   "cell_type": "markdown",
   "metadata": {},
   "source": [
    "# Determining the Overall Percentage of Females"
   ]
  },
  {
   "cell_type": "markdown",
   "metadata": {},
   "source": [
    "#### EXERCISE:\n",
    "It's possible to combine functions and operators in a single select statement as well.\n",
    "These combinations can be exceptionally handy when we want to calculate percentages or\n",
    "averages, and we can also use the <code>case()</code> expression to operate\n",
    "on data that meets specific criteria while not affecting the query as a whole.\n",
    "The <code>case()</code> expression accepts a list of conditions to match and the column to\n",
    "return if the condition matches, followed by an <code>else_</code> if none of the conditions\n",
    "match. We can wrap this entire expression in any function or math operation we like.\n",
    "\n",
    "Often when performing integer division, we want to get a float back. While some databases\n",
    "will do this automatically, you can use the <code>cast()</code> function to convert an\n",
    "expression to a particular type."
   ]
  },
  {
   "cell_type": "markdown",
   "metadata": {},
   "source": [
    "#### INSTRUCTIONS:\n",
    "* Import <code>case</code>, <code>cast</code>, and <code>Float</code> from <code>sqlalchemy</code>.\n",
    "* Build an expression <code>female_pop2000</code>to calculate female population in 2000. To achieve this:\n",
    " * Use <code>case()</code> inside <code>func.sum()</code>.\n",
    " * The first argument of <code>case()</code> is a list containing a tuple of\n",
    "   * i) A boolean checking that <code>census.columns.sex</code> is equal to <code>'F'</code>.\n",
    "   * ii) The column <code>census.columns.pop2000</code>.\n",
    " * The second argument is the <code>else_</code> condition, which should be set to 0.\n",
    "* Calculate the total population in 2000 and use <code>cast()</code> to convert it to <code>Float</code>.\n",
    "* Build a query to calculate the percentage of females in 2000. To do this, divide <code>female_pop2000</code> by <code>total_pop2000</code> and multiply by <code>100</code>.\n",
    "* Execute the query and print <code>percent_female</code>."
   ]
  },
  {
   "cell_type": "markdown",
   "metadata": {},
   "source": [
    "#### SCRIPT.PY:"
   ]
  },
  {
   "cell_type": "code",
   "execution_count": 4,
   "metadata": {},
   "outputs": [
    {
     "name": "stdout",
     "output_type": "stream",
     "text": [
      "51.09467432293413\n"
     ]
    }
   ],
   "source": [
    "from sqlalchemy import create_engine, select, MetaData, Table, desc, func\n",
    "engine = create_engine(\"sqlite:///../01-Basics of Relational Databases/census.sqlite\")\n",
    "connection = engine.connect()\n",
    "census = Table(\"census\", MetaData(bind=None), autoload=True, autoload_with=engine)\n",
    "# import case, cast and Float from sqlalchemy\n",
    "from sqlalchemy import case, cast, Float\n",
    "\n",
    "# Build an expression to calculate female population in 2000\n",
    "female_pop2000 = func.sum(\n",
    "    case([\n",
    "        (census.columns.sex == \"F\", census.columns.pop2000)\n",
    "    ], else_=0))\n",
    "\n",
    "# Cast an expression to calculate total population in 2000 to Float\n",
    "total_pop2000 = cast(func.sum(census.columns.pop2000), Float)\n",
    "\n",
    "# Build a query to calculate the percentage of females in 2000: stmt\n",
    "stmt = select([female_pop2000 / total_pop2000* 100])\n",
    "\n",
    "# Execute the query and store the scalar result: percent_female\n",
    "percent_female = connection.execute(stmt).scalar()\n",
    "\n",
    "# Print the percentage\n",
    "print(percent_female)\n"
   ]
  }
 ],
 "metadata": {
  "kernelspec": {
   "display_name": "Python 3",
   "language": "python",
   "name": "python3"
  },
  "language_info": {
   "codemirror_mode": {
    "name": "ipython",
    "version": 3
   },
   "file_extension": ".py",
   "mimetype": "text/x-python",
   "name": "python",
   "nbconvert_exporter": "python",
   "pygments_lexer": "ipython3",
   "version": "3.6.7"
  }
 },
 "nbformat": 4,
 "nbformat_minor": 2
}
