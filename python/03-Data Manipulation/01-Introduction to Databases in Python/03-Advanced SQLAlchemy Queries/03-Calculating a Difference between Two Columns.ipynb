{
 "cells": [
  {
   "cell_type": "markdown",
   "metadata": {},
   "source": [
    "# Calculating a Difference between Two Columns"
   ]
  },
  {
   "cell_type": "markdown",
   "metadata": {},
   "source": [
    "#### EXERCISE:\n",
    "Often, you'll need to perform math operations as part of a query, such as if you wanted to calculate the change in population from 2000 to 2008. For math operations on numbers, the operators in SQLAlchemy work the same way as they do in Python.\n",
    "\n",
    "You can use these operators to perform addition (<code>+</code>), subtraction (<code>-</code>), multiplication (<code>*</code>), division (<code>/</code>), and modulus (<code>%</code>) operations. Note: They behave differently when used with non-numeric column types.\n",
    "\n",
    "Let's now find the top 5 states by population growth between 2000 and 2008."
   ]
  },
  {
   "cell_type": "markdown",
   "metadata": {},
   "source": [
    "#### INSTRUCTIONS:\n",
    "* Define a select statement called <code>stmt</code> to return:\n",
    " * i) The state column of the <code>census</code> table (<code>census.columns.state</code>).\n",
    " * ii) The difference in population count between 2008 (<code>census.columns.pop2008</code>) and 2000 (<code>census.columns.pop2000</code>) labeled as <code>'pop_change'</code>.\n",
    "* Group the statement by <code>census.columns.state</code>.\n",
    "* Order the statement by population change (<code>'pop_change'</code>) in descending order. Do so by passing it <code>desc('pop_change')</code>.\n",
    "* Use the <code>.limit()</code> method on the statement to return only 5 records.\n",
    "* Execute the statement and <code>fetchall()</code> the records.\n",
    "* The print statement has already been written for you. Hit 'Submit Answer' to view the results!"
   ]
  },
  {
   "cell_type": "markdown",
   "metadata": {},
   "source": [
    "#### SCRIPT.PY:"
   ]
  },
  {
   "cell_type": "code",
   "execution_count": null,
   "metadata": {},
   "outputs": [],
   "source": [
    "# Build query to return state names by population difference from 2008 to 2000: stmt\n",
    "stmt = select([____, (____-____).label(____)])\n",
    "\n",
    "# Append group by for the state: stmt\n",
    "stmt = stmt.group_by(____)\n",
    "\n",
    "# Append order by for pop_change descendingly: stmt\n",
    "stmt = stmt.order_by(____)\n",
    "\n",
    "# Return only 5 results: stmt\n",
    "stmt = ____\n",
    "\n",
    "# Use connection to execute the statement and fetch all results\n",
    "results = connection.execute(____).fetchall()\n",
    "\n",
    "# Print the state and population change for each record\n",
    "for result in results:\n",
    "    print('{}:{}'.format(result.state, result.pop_change))\n"
   ]
  }
 ],
 "metadata": {
  "kernelspec": {
   "display_name": "Python 3",
   "language": "python",
   "name": "python3"
  },
  "language_info": {
   "codemirror_mode": {
    "name": "ipython",
    "version": 3
   },
   "file_extension": ".py",
   "mimetype": "text/x-python",
   "name": "python",
   "nbconvert_exporter": "python",
   "pygments_lexer": "ipython3",
   "version": "3.6.7"
  }
 },
 "nbformat": 4,
 "nbformat_minor": 2
}
