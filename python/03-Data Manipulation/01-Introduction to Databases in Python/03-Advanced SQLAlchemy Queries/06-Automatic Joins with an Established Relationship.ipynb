{
 "cells": [
  {
   "cell_type": "markdown",
   "metadata": {},
   "source": [
    "# Automatic Joins with an Established Relationship"
   ]
  },
  {
   "cell_type": "markdown",
   "metadata": {},
   "source": [
    "#### EXERCISE:\n",
    "If you have two tables that already have an established relationship, you can automatically use that relationship by just adding the columns we want from each table to the select statement. Recall that Jason constructed the following query:\n",
    "\n",
    "<pre><code>stmt = select([census.columns.pop2008, state_fact.columns.abbreviation])\n",
    "</code></pre>\n",
    "\n",
    "in order to join the <code>census</code> and <code>state_fact</code> tables and select the <code>pop2008</code> column from the first and the <code>abbreviation</code> column from the second. In this case, the <code>census</code> and <code>state_fact</code> tables had a pre-defined relationship: the <code>state</code> column of the former corresponded to the <code>name</code> column of the latter.\n",
    "\n",
    "In this exercise, you'll use the same predefined relationship to select the <code>pop2000</code> and <code>abbreviation</code> columns!"
   ]
  },
  {
   "cell_type": "markdown",
   "metadata": {},
   "source": [
    "#### INSTRUCTIONS:\n",
    "* Build a statement to join the <code>census</code> and <code>state_fact</code> tables and select the <code>pop2000</code> column from the first and the <code>abbreviation</code> column from the second.\n",
    "* Execute the statement to get the first result and save it as <code>result</code>.\n",
    "* Hit 'Submit Answer' to loop over the keys of the result object, and print the key and value for each!"
   ]
  },
  {
   "cell_type": "markdown",
   "metadata": {},
   "source": [
    "#### SCRIPT.PY:"
   ]
  },
  {
   "cell_type": "code",
   "execution_count": null,
   "metadata": {},
   "outputs": [],
   "source": [
    "# Build a statement to join census and state_fact tables: stmt\n",
    "stmt = select([____, ____])\n",
    "\n",
    "# Execute the statement and get the first result: result\n",
    "result = connection.execute(____).first()\n",
    "\n",
    "# Loop over the keys in the result object and print the key and value\n",
    "for key in result.keys():\n",
    "    print(key, getattr(result, key))\n"
   ]
  }
 ],
 "metadata": {
  "kernelspec": {
   "display_name": "Python 3",
   "language": "python",
   "name": "python3"
  },
  "language_info": {
   "codemirror_mode": {
    "name": "ipython",
    "version": 3
   },
   "file_extension": ".py",
   "mimetype": "text/x-python",
   "name": "python",
   "nbconvert_exporter": "python",
   "pygments_lexer": "ipython3",
   "version": "3.6.7"
  }
 },
 "nbformat": 4,
 "nbformat_minor": 2
}
