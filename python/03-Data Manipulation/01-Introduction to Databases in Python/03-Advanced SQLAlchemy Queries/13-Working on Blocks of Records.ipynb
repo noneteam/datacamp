{
 "cells": [
  {
   "cell_type": "markdown",
   "metadata": {},
   "source": [
    "# Working on Blocks of Records"
   ]
  },
  {
   "cell_type": "markdown",
   "metadata": {},
   "source": [
    "#### EXERCISE:\n",
    "Fantastic work so far! As Jason discussed in the video, sometimes you may have the need to work on a large ResultProxy, and you may not\n",
    "have the memory to load all the results at once. To work around that issue, you\n",
    "can get blocks of rows from the ResultProxy by using the <code>.fetchmany()</code> method inside a loop. With\n",
    "<code>.fetchmany()</code>, give it an argument of the number of records you want. When you\n",
    "reach an empty list, there are no more rows left to fetch, and you have\n",
    "processed all the results of the query. Then you need to use the <code>.close()</code>\n",
    "method to close out the connection to the database.\n",
    "\n",
    "You'll now have the chance to practice this on a large ResultProxy called <code>results_proxy</code> that has been pre-loaded for you to work with."
   ]
  },
  {
   "cell_type": "markdown",
   "metadata": {},
   "source": [
    "#### INSTRUCTIONS:\n",
    "* Use a <code>while</code> loop that checks if there are <code>more_results</code>.\n",
    "* Inside the loop, apply the method <code>.fetchmany()</code> to <code>results_proxy</code> to get <code>50</code> records at a time and store those records as <code>partial_results</code>.\n",
    "* After fetching the records, if <code>partial_results</code> is an empty list (that is, if it is equal to <code>[]</code>), set <code>more_results</code> to <code>False</code>.\n",
    "* Loop over the <code>partial_results</code> and, if <code>row.state</code> is a key in the <code>state_count</code> dictionary, increment <code>state_count[row.state]</code> by 1; otherwise set <code>state_count[row.state]</code> to 1.\n",
    "* After the while loop, close the ResultProxy <code>results_proxy</code> using <code>.close()</code>.</li>\n",
    "* Hit 'Submit Answer' to print <code>state_count</code>."
   ]
  },
  {
   "cell_type": "markdown",
   "metadata": {},
   "source": [
    "#### SCRIPT.PY:"
   ]
  },
  {
   "cell_type": "code",
   "execution_count": 34,
   "metadata": {},
   "outputs": [
    {
     "name": "stdout",
     "output_type": "stream",
     "text": [
      "{'Illinois': 172, 'New Jersey': 172, 'District of Columbia': 172, 'North Dakota': 172, 'Florida': 172, 'Maryland': 172, 'Idaho': 172, 'Massachusetts': 172, 'Oregon': 172, 'Nevada': 172, 'Michigan': 172, 'Wisconsin': 172, 'Missouri': 172, 'Washington': 172, 'North Carolina': 172, 'Arizona': 172, 'Arkansas': 172, 'Colorado': 172, 'Indiana': 172, 'Pennsylvania': 172, 'Hawaii': 172, 'Kansas': 172, 'Louisiana': 172, 'Alabama': 172, 'Minnesota': 172, 'South Dakota': 172, 'New York': 172, 'California': 172, 'Connecticut': 172, 'Ohio': 172, 'Rhode Island': 172, 'Georgia': 172, 'South Carolina': 172, 'Alaska': 172, 'Delaware': 172, 'Tennessee': 172, 'Vermont': 172, 'Montana': 172, 'Kentucky': 172, 'Utah': 172, 'Nebraska': 172, 'West Virginia': 172, 'Iowa': 172, 'Wyoming': 172, 'Maine': 172, 'New Hampshire': 172, 'Mississippi': 172, 'Oklahoma': 172, 'New Mexico': 172, 'Virginia': 172, 'Texas': 172}\n"
     ]
    }
   ],
   "source": [
    "from sqlalchemy import create_engine, select, MetaData, Table\n",
    "engine = create_engine(\"sqlite:///../01-Basics of Relational Databases/census.sqlite\")\n",
    "connection = engine.connect()\n",
    "results_proxy = connection.execute(\"SELECT census.state FROM census\")\n",
    "state_count = {}\n",
    "more_results = True\n",
    "# Start a while loop checking for more results\n",
    "while more_results:\n",
    "    # Fetch the first 50 results from the ResultProxy: partial_results\n",
    "    partial_results = results_proxy.fetchmany(50)\n",
    "\n",
    "    # if empty list, set more_results to False\n",
    "    if partial_results == []:\n",
    "        more_results = False\n",
    "\n",
    "    # Loop over the fetched records and increment the count for the state\n",
    "    for row in partial_results:\n",
    "        if row.state in state_count:\n",
    "            state_count[row.state] += 1\n",
    "        else:\n",
    "            state_count[row.state] = 1\n",
    "\n",
    "# Close the ResultProxy, and thus the connection\n",
    "results_proxy.close()\n",
    "\n",
    "# Print the count by state\n",
    "print(state_count)"
   ]
  }
 ],
 "metadata": {
  "kernelspec": {
   "display_name": "Python 3",
   "language": "python",
   "name": "python3"
  },
  "language_info": {
   "codemirror_mode": {
    "name": "ipython",
    "version": 3
   },
   "file_extension": ".py",
   "mimetype": "text/x-python",
   "name": "python",
   "nbconvert_exporter": "python",
   "pygments_lexer": "ipython3",
   "version": "3.6.7"
  }
 },
 "nbformat": 4,
 "nbformat_minor": 2
}
