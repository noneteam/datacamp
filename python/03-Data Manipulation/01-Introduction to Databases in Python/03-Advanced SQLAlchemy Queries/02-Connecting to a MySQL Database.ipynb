{
 "cells": [
  {
   "cell_type": "markdown",
   "metadata": {},
   "source": [
    "# Connecting to a MySQL Database"
   ]
  },
  {
   "cell_type": "markdown",
   "metadata": {},
   "source": [
    "#### EXERCISE:\n",
    "Before you jump into the calculation exercises, let's begin by connecting to our database. Recall that in the last chapter you connected to a PostgreSQL database. Now, you'll connect to a MySQL database, for which many prefer to use the <code>pymysql</code> database driver, which, like <code>psycopg2</code> for PostgreSQL, you have to install prior to use.\n",
    "\n",
    "This connection string is going to start with <code>'mysql+pymysql://'</code>, indicating which dialect\n",
    "and driver you're using to establish the connection. The dialect block is followed by the <code>'username:password'</code> combo.\n",
    "Next, you specify the host and port with the following <code>'@host:port/'</code>. Finally, you wrap up the\n",
    "connection string with the <code>'database_name'</code>.\n",
    "\n",
    "Now you'll practice connecting to a MySQL database: it will be the same <code>census</code> database that you have already been working with. One of the great things about SQLAlchemy is that, after connecting, it abstracts over the type of database it has connected to and you can write the same SQLAlchemy code, regardless!"
   ]
  },
  {
   "cell_type": "markdown",
   "metadata": {},
   "source": [
    "#### INSTRUCTIONS:\n",
    "* Import the <code>create_engine</code> function from the <code>sqlalchemy</code> library.\n",
    "* Create an engine to the <code>census</code> database by concatenating the following strings and passing them to <code>create_engine()</code>:\n",
    " * <code>'mysql+pymysql://'</code> (the dialect and driver).\n",
    " * <code>'student:datacamp'</code> (the username and password).\n",
    " * <code>'@courses.csrrinzqubik.us-east-1.rds.amazonaws.com:3306/'</code> (the host and port).\n",
    " * <code>'census'</code> (the database name).\n",
    "* Use the <code>.table_names()</code> method on <code>engine</code> to print the table names."
   ]
  },
  {
   "cell_type": "markdown",
   "metadata": {},
   "source": [
    "#### SCRIPT.PY:"
   ]
  },
  {
   "cell_type": "code",
   "execution_count": 2,
   "metadata": {},
   "outputs": [
    {
     "name": "stdout",
     "output_type": "stream",
     "text": [
      "['census', 'state_fact']\n"
     ]
    }
   ],
   "source": [
    "# Import create_engine function\n",
    "from sqlalchemy import create_engine\n",
    "\n",
    "# Create an engine to the census database\n",
    "engine = create_engine(\"mysql+pymysql://\"\n",
    "                       \"student:datacamp\"\n",
    "                       \"@courses.csrrinzqubik.us-east-1.rds.amazonaws.com:3306/\"\n",
    "                       \"census\")\n",
    "\n",
    "# Print the table names\n",
    "print(engine.table_names())\n"
   ]
  }
 ],
 "metadata": {
  "kernelspec": {
   "display_name": "Python 3",
   "language": "python",
   "name": "python3"
  },
  "language_info": {
   "codemirror_mode": {
    "name": "ipython",
    "version": 3
   },
   "file_extension": ".py",
   "mimetype": "text/x-python",
   "name": "python",
   "nbconvert_exporter": "python",
   "pygments_lexer": "ipython3",
   "version": "3.6.7"
  }
 },
 "nbformat": 4,
 "nbformat_minor": 2
}
