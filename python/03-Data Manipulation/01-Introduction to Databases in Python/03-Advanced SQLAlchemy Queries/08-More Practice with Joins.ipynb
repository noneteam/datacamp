{
 "cells": [
  {
   "cell_type": "markdown",
   "metadata": {},
   "source": [
    "# More Practice with Joins"
   ]
  },
  {
   "cell_type": "markdown",
   "metadata": {},
   "source": [
    "#### EXERCISE:\n",
    "You can use the same select statement you built in the last exercise, however,\n",
    "let's add a twist and only return a few columns and use the other table in a\n",
    "<code>group_by()</code> clause."
   ]
  },
  {
   "cell_type": "markdown",
   "metadata": {},
   "source": [
    "#### INSTRUCTIONS:\n",
    "* Build a statement to select:\n",
    " * The <code>state</code> column from the <code>census</code> table.\n",
    " * The sum of the <code>pop2008</code> column from the <code>census</code> table.\n",
    " * The <code>census_division_name</code> column from the <code>state_fact</code> table.\n",
    "* Append a <code>.select_from()</code> to <code>stmt</code> in order to join the <code>census</code> and <code>state_fact</code> tables by the <code>state</code> and <code>name</code> columns.\n",
    "* Group the statement by the <code>name</code> column of the <code>state_fact</code> table.\n",
    "* Execute the statement to get all the records and save it as <code>results</code>.\n",
    "* Hit 'Submit Answer' to loop over the <code>results</code> object and print each record."
   ]
  },
  {
   "cell_type": "markdown",
   "metadata": {},
   "source": [
    "#### SCRIPT.PY:"
   ]
  },
  {
   "cell_type": "code",
   "execution_count": 7,
   "metadata": {},
   "outputs": [
    {
     "name": "stdout",
     "output_type": "stream",
     "text": [
      "('Alabama', 4649367, 'East South Central')\n",
      "('Alaska', 664546, 'Pacific')\n",
      "('Arizona', 6480767, 'Mountain')\n",
      "('Arkansas', 2848432, 'West South Central')\n",
      "('California', 36609002, 'Pacific')\n",
      "('Colorado', 4912947, 'Mountain')\n",
      "('Connecticut', 3493783, 'New England')\n",
      "('Delaware', 869221, 'South Atlantic')\n",
      "('Florida', 18257662, 'South Atlantic')\n",
      "('Georgia', 9622508, 'South Atlantic')\n",
      "('Hawaii', 1250676, 'Pacific')\n",
      "('Idaho', 1518914, 'Mountain')\n",
      "('Illinois', 12867077, 'East North Central')\n",
      "('Indiana', 6373299, 'East North Central')\n",
      "('Iowa', 3000490, 'West North Central')\n",
      "('Kansas', 2782245, 'West North Central')\n",
      "('Kentucky', 4254964, 'East South Central')\n",
      "('Louisiana', 4395797, 'West South Central')\n",
      "('Maine', 1312972, 'New England')\n",
      "('Maryland', 5604174, 'South Atlantic')\n",
      "('Massachusetts', 6492024, 'New England')\n",
      "('Michigan', 9998854, 'East North Central')\n",
      "('Minnesota', 5215815, 'West North Central')\n",
      "('Mississippi', 2922355, 'East South Central')\n",
      "('Missouri', 5891974, 'West North Central')\n",
      "('Montana', 963802, 'Mountain')\n",
      "('Nebraska', 1776757, 'West North Central')\n",
      "('Nevada', 2579387, 'Mountain')\n",
      "('New Hampshire', 1314533, 'New England')\n",
      "('New Jersey', 8670204, 'Mid-Atlantic')\n",
      "('New Mexico', 1974993, 'Mountain')\n",
      "('New York', 19465159, 'Mid-Atlantic')\n",
      "('North Carolina', 9121606, 'South Atlantic')\n",
      "('North Dakota', 634282, 'West North Central')\n",
      "('Ohio', 11476782, 'East North Central')\n",
      "('Oklahoma', 3620620, 'West South Central')\n",
      "('Oregon', 3786824, 'Pacific')\n",
      "('Pennsylvania', 12440129, 'Mid-Atlantic')\n",
      "('Rhode Island', 1046535, 'New England')\n",
      "('South Carolina', 4438870, 'South Atlantic')\n",
      "('South Dakota', 800997, 'West North Central')\n",
      "('Tennessee', 6202407, 'East South Central')\n",
      "('Texas', 24214127, 'West South Central')\n",
      "('Utah', 2730919, 'Mountain')\n",
      "('Vermont', 620602, 'New England')\n",
      "('Virginia', 7648902, 'South Atlantic')\n",
      "('Washington', 6502019, 'Pacific')\n",
      "('West Virginia', 1812879, 'South Atlantic')\n",
      "('Wisconsin', 5625013, 'East North Central')\n",
      "('Wyoming', 529490, 'Mountain')\n"
     ]
    }
   ],
   "source": [
    "from sqlalchemy import create_engine, select, MetaData, Table, func\n",
    "engine = create_engine(\"sqlite:///../01-Basics of Relational Databases/census.sqlite\")\n",
    "connection = engine.connect()\n",
    "census = Table(\"census\", MetaData(bind=None), autoload=True, autoload_with=engine)\n",
    "state_fact = Table(\"state_fact\", MetaData(bind=None), autoload=True, autoload_with=engine)\n",
    "# Build a statement to select the state, sum of 2008 population and census\n",
    "# division name: stmt\n",
    "stmt = select([\n",
    "    census.columns.state,\n",
    "    func.sum(census.columns.pop2008),\n",
    "    state_fact.columns.census_division_name\n",
    "])\n",
    "\n",
    "# Append select_from to join the census and state_fact tables by the census state and state_fact name columns\n",
    "stmt = stmt.select_from(\n",
    "    census.join(state_fact, census.columns.state == state_fact.columns.name)\n",
    ")\n",
    "\n",
    "# Append a group by for the state_fact name column\n",
    "stmt = stmt.group_by(state_fact.columns.name)\n",
    "\n",
    "# Execute the statement and get the results: results\n",
    "results = connection.execute(stmt).fetchall()\n",
    "\n",
    "# Loop over the the results object and print each record.\n",
    "for record in results:\n",
    "    print(record)\n"
   ]
  }
 ],
 "metadata": {
  "kernelspec": {
   "display_name": "Python 3",
   "language": "python",
   "name": "python3"
  },
  "language_info": {
   "codemirror_mode": {
    "name": "ipython",
    "version": 3
   },
   "file_extension": ".py",
   "mimetype": "text/x-python",
   "name": "python",
   "nbconvert_exporter": "python",
   "pygments_lexer": "ipython3",
   "version": "3.6.7"
  }
 },
 "nbformat": 4,
 "nbformat_minor": 2
}
