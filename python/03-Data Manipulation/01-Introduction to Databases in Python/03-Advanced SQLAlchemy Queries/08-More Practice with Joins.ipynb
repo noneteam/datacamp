{
 "cells": [
  {
   "cell_type": "markdown",
   "metadata": {},
   "source": [
    "# More Practice with Joins"
   ]
  },
  {
   "cell_type": "markdown",
   "metadata": {},
   "source": [
    "#### EXERCISE:\n",
    "You can use the same select statement you built in the last exercise, however,\n",
    "let's add a twist and only return a few columns and use the other table in a\n",
    "<code>group_by()</code> clause."
   ]
  },
  {
   "cell_type": "markdown",
   "metadata": {},
   "source": [
    "#### INSTRUCTIONS:\n",
    "* Build a statement to select:\n",
    " * The <code>state</code> column from the <code>census</code> table.\n",
    " * The sum of the <code>pop2008</code> column from the <code>census</code> table.\n",
    " * The <code>census_division_name</code> column from the <code>state_fact</code> table.\n",
    "* Append a <code>.select_from()</code> to <code>stmt</code> in order to join the <code>census</code> and <code>state_fact</code> tables by the <code>state</code> and <code>name</code> columns.\n",
    "* Group the statement by the <code>name</code> column of the <code>state_fact</code> table.\n",
    "* Execute the statement to get all the records and save it as <code>results</code>.\n",
    "* Hit 'Submit Answer' to loop over the <code>results</code> object and print each record."
   ]
  },
  {
   "cell_type": "markdown",
   "metadata": {},
   "source": [
    "#### SCRIPT.PY:"
   ]
  },
  {
   "cell_type": "code",
   "execution_count": null,
   "metadata": {},
   "outputs": [],
   "source": [
    "# Build a statement to select the state, sum of 2008 population and census\n",
    "# division name: stmt\n",
    "stmt = select([\n",
    "    ____,\n",
    "    func.sum(____),\n",
    "    ____\n",
    "])\n",
    "\n",
    "# Append select_from to join the census and state_fact tables by the census state and state_fact name columns\n",
    "stmt = stmt.select_from(\n",
    "    census.join(____, census.columns.____ == state_fact.columns.____)\n",
    ")\n",
    "\n",
    "# Append a group by for the state_fact name column\n",
    "stmt = stmt.group_by(____)\n",
    "\n",
    "# Execute the statement and get the results: results\n",
    "results = connection.execute(____).fetchall()\n",
    "\n",
    "# Loop over the the results object and print each record.\n",
    "for record in results:\n",
    "    print(record)\n"
   ]
  }
 ],
 "metadata": {
  "kernelspec": {
   "display_name": "Python 3",
   "language": "python",
   "name": "python3"
  },
  "language_info": {
   "codemirror_mode": {
    "name": "ipython",
    "version": 3
   },
   "file_extension": ".py",
   "mimetype": "text/x-python",
   "name": "python",
   "nbconvert_exporter": "python",
   "pygments_lexer": "ipython3",
   "version": "3.6.7"
  }
 },
 "nbformat": 4,
 "nbformat_minor": 2
}
