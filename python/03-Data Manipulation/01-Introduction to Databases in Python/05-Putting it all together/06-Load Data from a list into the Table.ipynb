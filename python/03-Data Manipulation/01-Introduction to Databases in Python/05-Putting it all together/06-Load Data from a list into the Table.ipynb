{
 "cells": [
  {
   "cell_type": "markdown",
   "metadata": {},
   "source": [
    "# Load Data from a list into the Table"
   ]
  },
  {
   "cell_type": "markdown",
   "metadata": {},
   "source": [
    "#### EXERCISE:\n",
    "Using the multiple insert pattern, in this exercise, you will load the data from <code>values_list</code> into the table."
   ]
  },
  {
   "cell_type": "markdown",
   "metadata": {},
   "source": [
    "#### INSTRUCTIONS:\n",
    "* Import <code>insert</code> from <code>sqlalchemy</code>.\n",
    "* Build an insert statement for the <code>census</code> table.\n",
    "* Execute the statement <code>stmt</code> along with <code>values_list</code>. You will need to pass them both as arguments to <code>connection.execute()</code>.\n",
    "* Print the <code>rowcount</code> attribute of <code>results</code>."
   ]
  },
  {
   "cell_type": "markdown",
   "metadata": {},
   "source": [
    "#### SCRIPT.PY:"
   ]
  },
  {
   "cell_type": "code",
   "execution_count": 4,
   "metadata": {},
   "outputs": [
    {
     "name": "stdout",
     "output_type": "stream",
     "text": [
      "8772\n"
     ]
    }
   ],
   "source": [
    "import csv\n",
    "from sqlalchemy import create_engine, MetaData, Table\n",
    "csv_reader = csv.reader(open(\"../04-Creating and Manipulating your own Databases/census.csv\"))\n",
    "values_list = []\n",
    "for row in csv_reader:\n",
    "    values_list.append({'state': row[0], 'sex': row[1], 'age':row[2], 'pop2000': row[3], 'pop2008': row[4]})\n",
    "engine = create_engine(\"sqlite:///chapter5.sqlite\")\n",
    "connection = engine.connect()\n",
    "census = Table('census', MetaData(), autoload=True, autoload_with=engine)\n",
    "# Import insert\n",
    "from sqlalchemy import insert\n",
    "\n",
    "# Build insert statement: stmt\n",
    "stmt = insert(census)\n",
    "\n",
    "# Use values_list to insert data: results\n",
    "results = connection.execute(stmt, values_list)\n",
    "\n",
    "# Print rowcount\n",
    "print(results.rowcount)\n"
   ]
  }
 ],
 "metadata": {
  "kernelspec": {
   "display_name": "Python 3",
   "language": "python",
   "name": "python3"
  },
  "language_info": {
   "codemirror_mode": {
    "name": "ipython",
    "version": 3
   },
   "file_extension": ".py",
   "mimetype": "text/x-python",
   "name": "python",
   "nbconvert_exporter": "python",
   "pygments_lexer": "ipython3",
   "version": "3.6.7"
  }
 },
 "nbformat": 4,
 "nbformat_minor": 2
}
