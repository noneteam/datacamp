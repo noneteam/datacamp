{
 "cells": [
  {
   "cell_type": "markdown",
   "metadata": {},
   "source": [
    "# Build a Query to Determine the Percentage of Population by Gender and State"
   ]
  },
  {
   "cell_type": "markdown",
   "metadata": {},
   "source": [
    "#### EXERCISE:\n",
    "In this exercise, you will write a query to determine the percentage of the population in 2000 that comprised of women. You will group this query by state."
   ]
  },
  {
   "cell_type": "markdown",
   "metadata": {},
   "source": [
    "#### INSTRUCTIONS:\n",
    "* Import <code>case</code>, <code>cast</code> and <code>Float</code> from <code>sqlalchemy</code>.\n",
    "* Define a statement to select <code>state</code> and the percentage of females in 2000.\n",
    " * Inside <code>func.sum()</code>, use <code>case()</code> to select females (using the <code>sex</code> column) from <code>pop2000</code>. Remember to specify <code>else_=0</code> if the <code>sex</code> is <em>not</em> <code>'F'</code>.\n",
    " * To get the percentage, divide the number of females in the year 2000 by the overall population in 2000. Cast the divisor - <code>census.columns.pop2000</code> - to <code>Float</code> before multiplying by 100.\n",
    "* Group the query by <code>state</code>.\n",
    "* Execute the query and store it as <code>results</code>.\n",
    "* Print <code>state</code> and <code>percent_female</code> for each record. This has been done for you, so hit 'Submit Answer' to see the result."
   ]
  },
  {
   "cell_type": "markdown",
   "metadata": {},
   "source": [
    "#### SCRIPT.PY:"
   ]
  },
  {
   "cell_type": "code",
   "execution_count": 5,
   "metadata": {},
   "outputs": [
    {
     "name": "stdout",
     "output_type": "stream",
     "text": [
      "Alabama 51.832407770179465\n",
      "Alaska 49.301497893484594\n",
      "Arizona 50.22361303057914\n",
      "Arkansas 51.26992846221834\n",
      "California 50.35233214901979\n",
      "Colorado 49.84767060299562\n",
      "Connecticut 51.66816507130644\n",
      "Delaware 51.61109733558627\n",
      "District of Columbia 53.129626141738385\n",
      "Florida 51.36488001165242\n",
      "Georgia 51.11408350339436\n",
      "Hawaii 51.118011836915514\n",
      "Idaho 49.98972623903102\n",
      "Illinois 51.11224234802867\n",
      "Indiana 50.95480313297678\n",
      "Iowa 50.950398342534264\n",
      "Kansas 50.821864107754735\n",
      "Kentucky 51.32687036927168\n",
      "Louisiana 51.75351596554121\n",
      "Maine 51.50570813418951\n",
      "Maryland 51.93575549972231\n",
      "Massachusetts 51.843023571316785\n",
      "Michigan 50.97246518318712\n",
      "Minnesota 50.49332944301148\n",
      "Mississippi 51.92229481794672\n",
      "Missouri 51.46888602639692\n",
      "Montana 50.32202690728538\n",
      "Nebraska 50.8584549336086\n",
      "Nevada 49.36736361384359\n",
      "New Hampshire 50.858019844961746\n",
      "New Jersey 51.51713956125773\n",
      "New Mexico 51.0471720798335\n",
      "New York 51.83453865150073\n",
      "North Carolina 51.482262322084594\n",
      "North Dakota 50.50069363231332\n",
      "Ohio 51.46550350015544\n",
      "Oklahoma 51.11362457075227\n",
      "Oregon 50.4294670361772\n",
      "Pennsylvania 51.74043473051053\n",
      "Rhode Island 52.07343391902215\n",
      "South Carolina 51.73072129765755\n",
      "South Dakota 50.52583581373275\n",
      "Tennessee 51.430689699449275\n",
      "Texas 50.515721664207966\n",
      "Utah 49.97295275106927\n",
      "Vermont 51.018573209949466\n",
      "Virginia 51.657252447241795\n",
      "Washington 50.518565087218334\n",
      "West Virginia 51.40042318092286\n",
      "Wisconsin 50.61486452653393\n",
      "Wyoming 49.94595542648306\n"
     ]
    }
   ],
   "source": [
    "from sqlalchemy import create_engine, MetaData, Table, func, select\n",
    "engine = create_engine(\"sqlite:///chapter5.sqlite\")\n",
    "connection = engine.connect()\n",
    "census = Table('census', MetaData(), autoload=True, autoload_with=engine)\n",
    "# import case, cast and Float from sqlalchemy\n",
    "from sqlalchemy import case, cast, Float\n",
    "\n",
    "# Build a query to calculate the percentage of females in 2000: stmt\n",
    "stmt = select([census.columns.state,\n",
    "    (func.sum(\n",
    "        case([\n",
    "            (census.columns.sex == 'F', census.columns.pop2000)\n",
    "        ], else_=0)) /\n",
    "     cast(func.sum(census.columns.pop2000), Float) * 100).label('percent_female')\n",
    "])\n",
    "\n",
    "# Group By state\n",
    "stmt = stmt.group_by('state')\n",
    "\n",
    "# Execute the query and store the results: results\n",
    "results = connection.execute(stmt).fetchall()\n",
    "\n",
    "# Print the percentage\n",
    "for result in results:\n",
    "    print(result.state, result.percent_female)\n"
   ]
  }
 ],
 "metadata": {
  "kernelspec": {
   "display_name": "Python 3",
   "language": "python",
   "name": "python3"
  },
  "language_info": {
   "codemirror_mode": {
    "name": "ipython",
    "version": 3
   },
   "file_extension": ".py",
   "mimetype": "text/x-python",
   "name": "python",
   "nbconvert_exporter": "python",
   "pygments_lexer": "ipython3",
   "version": "3.6.7"
  }
 },
 "nbformat": 4,
 "nbformat_minor": 2
}
