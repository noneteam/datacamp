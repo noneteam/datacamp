{
 "cells": [
  {
   "cell_type": "markdown",
   "metadata": {},
   "source": [
    "# Build a Query to Determine the Percentage of Population by Gender and State"
   ]
  },
  {
   "cell_type": "markdown",
   "metadata": {},
   "source": [
    "#### EXERCISE:\n",
    "In this exercise, you will write a query to determine the percentage of the population in 2000 that comprised of women. You will group this query by state."
   ]
  },
  {
   "cell_type": "markdown",
   "metadata": {},
   "source": [
    "#### INSTRUCTIONS:\n",
    "* Import <code>case</code>, <code>cast</code> and <code>Float</code> from <code>sqlalchemy</code>.\n",
    "* Define a statement to select <code>state</code> and the percentage of females in 2000.\n",
    " * Inside <code>func.sum()</code>, use <code>case()</code> to select females (using the <code>sex</code> column) from <code>pop2000</code>. Remember to specify <code>else_=0</code> if the <code>sex</code> is <em>not</em> <code>'F'</code>.\n",
    " * To get the percentage, divide the number of females in the year 2000 by the overall population in 2000. Cast the divisor - <code>census.columns.pop2000</code> - to <code>Float</code> before multiplying by 100.\n",
    "* Group the query by <code>state</code>.\n",
    "* Execute the query and store it as <code>results</code>.\n",
    "* Print <code>state</code> and <code>percent_female</code> for each record. This has been done for you, so hit 'Submit Answer' to see the result."
   ]
  },
  {
   "cell_type": "markdown",
   "metadata": {},
   "source": [
    "#### SCRIPT.PY:"
   ]
  },
  {
   "cell_type": "code",
   "execution_count": null,
   "metadata": {},
   "outputs": [],
   "source": [
    "# import case, cast and Float from sqlalchemy\n",
    "from sqlalchemy import ____, ____, ____\n",
    "\n",
    "# Build a query to calculate the percentage of females in 2000: stmt\n",
    "stmt = select([____,\n",
    "    (func.sum(\n",
    "        ____([\n",
    "            (____ == 'F', ____)\n",
    "        ], else_=0)) /\n",
    "     cast(func.sum(____), ____) * 100).label('percent_female')\n",
    "])\n",
    "\n",
    "# Group By state\n",
    "stmt = stmt.group_by(____)\n",
    "\n",
    "# Execute the query and store the results: results\n",
    "results = connection.execute(____).fetchall()\n",
    "\n",
    "# Print the percentage\n",
    "for result in results:\n",
    "    print(result.state, result.percent_female)\n"
   ]
  }
 ],
 "metadata": {
  "kernelspec": {
   "display_name": "Python 3",
   "language": "python",
   "name": "python3"
  },
  "language_info": {
   "codemirror_mode": {
    "name": "ipython",
    "version": 3
   },
   "file_extension": ".py",
   "mimetype": "text/x-python",
   "name": "python",
   "nbconvert_exporter": "python",
   "pygments_lexer": "ipython3",
   "version": "3.6.7"
  }
 },
 "nbformat": 4,
 "nbformat_minor": 2
}
