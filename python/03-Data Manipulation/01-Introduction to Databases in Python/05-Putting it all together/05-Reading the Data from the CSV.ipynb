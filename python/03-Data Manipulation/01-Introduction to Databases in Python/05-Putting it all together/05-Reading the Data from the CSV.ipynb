{
 "cells": [
  {
   "cell_type": "markdown",
   "metadata": {},
   "source": [
    "# Reading the Data from the CSV"
   ]
  },
  {
   "cell_type": "markdown",
   "metadata": {},
   "source": [
    "#### EXERCISE:\n",
    "Leverage the Python CSV module from the standard library and load the data into a list of dictionaries.\n",
    "\n",
    "It may help to refer back to the <a href=\"https://campus.datacamp.com/courses/introduction-to-relational-databases-in-python/creating-and-manipulating-your-own-databases?ex=7\" target=\"_blank\">Chapter 4 exercise</a> in which you did something similar."
   ]
  },
  {
   "cell_type": "markdown",
   "metadata": {},
   "source": [
    "#### INSTRUCTIONS:\n",
    "* Create an empty list called <code>values_list</code>.\n",
    "* Iterate over the rows of <code>csv_reader</code> with a for loop, creating a dictionary called <code>data</code> for each row and append it to <code>values_list</code>.\n",
    " * Within the for loop, <code>row</code> will be a list whose entries are <code>'state'</code> , <code>'sex'</code>, <code>'age'</code>, <code>'pop2000'</code> and <code>'pop2008'</code> (in that order)."
   ]
  },
  {
   "cell_type": "markdown",
   "metadata": {},
   "source": [
    "#### SCRIPT.PY:"
   ]
  },
  {
   "cell_type": "code",
   "execution_count": null,
   "metadata": {},
   "outputs": [],
   "source": [
    "# Create an empty list: values_list\n",
    "values_list = ____\n",
    "\n",
    "# Iterate over the rows\n",
    "for row in csv_reader:\n",
    "    # Create a dictionary with the values\n",
    "    data = {____: row[____], ____: row[____], ____:____, ____: ____,\n",
    "            ____: ____}\n",
    "    # Append the dictionary to the values list\n",
    "    values_list.append(____)\n"
   ]
  }
 ],
 "metadata": {
  "kernelspec": {
   "display_name": "Python 3",
   "language": "python",
   "name": "python3"
  },
  "language_info": {
   "codemirror_mode": {
    "name": "ipython",
    "version": 3
   },
   "file_extension": ".py",
   "mimetype": "text/x-python",
   "name": "python",
   "nbconvert_exporter": "python",
   "pygments_lexer": "ipython3",
   "version": "3.6.7"
  }
 },
 "nbformat": 4,
 "nbformat_minor": 2
}
