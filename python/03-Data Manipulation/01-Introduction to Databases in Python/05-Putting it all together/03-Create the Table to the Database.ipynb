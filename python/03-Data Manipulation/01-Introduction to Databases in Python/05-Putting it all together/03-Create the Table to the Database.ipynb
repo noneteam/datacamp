{
 "cells": [
  {
   "cell_type": "markdown",
   "metadata": {},
   "source": [
    "# Create the Table to the Database"
   ]
  },
  {
   "cell_type": "markdown",
   "metadata": {},
   "source": [
    "#### EXERCISE:\n",
    "Having setup the engine and initialized the metadata, you will now define the <code>census</code> table object and then create it in the database using the <code>metadata</code> and <code>engine</code> from the previous exercise. To create it in the database, you will have to use the <code>.create_all()</code> method on the <code>metadata</code> with <code>engine</code> as the argument.\n",
    "\n",
    "It may help to refer back to the <a href=\"https://campus.datacamp.com/courses/introduction-to-relational-databases-in-python/creating-and-manipulating-your-own-databases?ex=2\" target=\"_blank\">Chapter 4 exercise</a> in which you learned how to create a table."
   ]
  },
  {
   "cell_type": "markdown",
   "metadata": {},
   "source": [
    "#### INSTRUCTIONS:\n",
    "* Import <code>Table</code>, <code>Column</code>, <code>String</code>, and <code>Integer</code> from <code>sqlalchemy</code>.\n",
    "* Define a <code>census</code> table with the following columns:\n",
    " * <code>'state'</code> - String - length of 30\n",
    " * <code>'sex'</code> - String - length of 1\n",
    " * <code>'age'</code> - Integer\n",
    " * <code>'pop2000'</code> - Integer\n",
    " * <code>'pop2008'</code> - Integer\n",
    "* Create the table in the database using the <code>metadata</code> and <code>engine</code>."
   ]
  },
  {
   "cell_type": "markdown",
   "metadata": {},
   "source": [
    "#### SCRIPT.PY:"
   ]
  },
  {
   "cell_type": "code",
   "execution_count": 2,
   "metadata": {},
   "outputs": [],
   "source": [
    "from sqlalchemy import create_engine, MetaData\n",
    "engine = create_engine(\"sqlite:///chapter5.sqlite\")\n",
    "metadata = MetaData()\n",
    "# Import Table, Column, String, and Integer\n",
    "from sqlalchemy import Table, Column, String, Integer\n",
    "\n",
    "# Build a census table: census\n",
    "census = Table('census', metadata,\n",
    "               Column('state', String(30)),\n",
    "               Column('sex', String(1)),\n",
    "               Column('age', Integer()),\n",
    "               Column('pop2000', Integer()),\n",
    "               Column('pop2008', Integer()))\n",
    "\n",
    "# Create the table in the database\n",
    "metadata.create_all(engine)\n"
   ]
  }
 ],
 "metadata": {
  "kernelspec": {
   "display_name": "Python 3",
   "language": "python",
   "name": "python3"
  },
  "language_info": {
   "codemirror_mode": {
    "name": "ipython",
    "version": 3
   },
   "file_extension": ".py",
   "mimetype": "text/x-python",
   "name": "python",
   "nbconvert_exporter": "python",
   "pygments_lexer": "ipython3",
   "version": "3.6.7"
  }
 },
 "nbformat": 4,
 "nbformat_minor": 2
}
