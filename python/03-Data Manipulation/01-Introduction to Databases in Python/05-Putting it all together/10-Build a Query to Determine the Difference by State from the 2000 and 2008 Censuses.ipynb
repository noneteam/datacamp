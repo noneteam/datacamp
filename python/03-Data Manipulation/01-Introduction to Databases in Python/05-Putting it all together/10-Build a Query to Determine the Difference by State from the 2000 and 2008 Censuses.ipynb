{
 "cells": [
  {
   "cell_type": "markdown",
   "metadata": {},
   "source": [
    "# Build a Query to Determine the Difference by State from the 2000 and 2008 Censuses"
   ]
  },
  {
   "cell_type": "markdown",
   "metadata": {},
   "source": [
    "#### EXERCISE:\n",
    "In this final exercise, you will write a query to calculate the states that changed the most in population. You will limit your query to display only the top 10 states."
   ]
  },
  {
   "cell_type": "markdown",
   "metadata": {},
   "source": [
    "#### INSTRUCTIONS:\n",
    "* Build a statement to:\n",
    " * Select <code>state</code>.\n",
    " * Calculate the difference in population between 2008 (<code>pop2008</code>) and 2000 (<code>pop2000</code>).\n",
    "* Group the query by <code>census.columns.state</code> using the <code>.group_by()</code> method on <code>stmt</code>.\n",
    "* Order by <code>'pop_change'</code> in descending order using the <code>.order_by()</code> method with the <code>desc()</code> function on <code>'pop_change'</code>.\n",
    "* Limit the query to the top <code>10</code> states using the <code>.limit()</code> method.\n",
    "* Execute the query and store it as <code>results</code>.\n",
    "* Print the state and the population change for each result. This has been done for you, so hit 'Submit Answer' to see the result!"
   ]
  },
  {
   "cell_type": "markdown",
   "metadata": {},
   "source": [
    "#### SCRIPT.PY:"
   ]
  },
  {
   "cell_type": "code",
   "execution_count": null,
   "metadata": {},
   "outputs": [],
   "source": [
    "# Build query to return state name and population difference from 2008 to 2000\n",
    "stmt = select([____,\n",
    "     (____-____).label('pop_change')\n",
    "])\n",
    "\n",
    "# Group by State\n",
    "stmt = stmt.____(____)\n",
    "\n",
    "# Order by Population Change\n",
    "stmt = stmt.____(____)\n",
    "\n",
    "# Limit to top 10\n",
    "stmt = stmt.____(____)\n",
    "\n",
    "# Use connection to execute the statement and fetch all results\n",
    "results = connection.execute(____).fetchall()\n",
    "\n",
    "# Print the state and population change for each record\n",
    "for result in results:\n",
    "    print('{}:{}'.format(result.state, result.pop_change))"
   ]
  }
 ],
 "metadata": {
  "kernelspec": {
   "display_name": "Python 3",
   "language": "python",
   "name": "python3"
  },
  "language_info": {
   "codemirror_mode": {
    "name": "ipython",
    "version": 3
   },
   "file_extension": ".py",
   "mimetype": "text/x-python",
   "name": "python",
   "nbconvert_exporter": "python",
   "pygments_lexer": "ipython3",
   "version": "3.6.7"
  }
 },
 "nbformat": 4,
 "nbformat_minor": 2
}
