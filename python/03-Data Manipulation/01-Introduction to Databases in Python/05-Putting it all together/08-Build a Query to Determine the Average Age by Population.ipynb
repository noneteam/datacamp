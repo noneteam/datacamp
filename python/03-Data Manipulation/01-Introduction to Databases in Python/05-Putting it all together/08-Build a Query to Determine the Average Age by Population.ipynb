{
 "cells": [
  {
   "cell_type": "markdown",
   "metadata": {},
   "source": [
    "# Build a Query to Determine the Average Age by Population"
   ]
  },
  {
   "cell_type": "markdown",
   "metadata": {},
   "source": [
    "#### EXERCISE:\n",
    "In this exercise, you will use the <code>func.sum()</code> and <code>group_by()</code> methods to first determine the average age weighted by the population in 2008,\n",
    "and then group by sex.\n",
    "\n",
    "As Jason discussed in the video, a weighted average is calculated as the sum of the product of \n",
    "the weights and averages divided by the sum of all the weights.\n",
    "\n",
    "For example, the following statement determines the average age weighted by the population in 2000:\n",
    "\n",
    "<pre><code>stmt = select([census.columns.sex,\n",
    "               (func.sum(census.columns.pop2000 * census.columns.age) /\n",
    "                func.sum(census.columns.pop2000)).label('average_age')\n",
    "               ])\n",
    "</code></pre>"
   ]
  },
  {
   "cell_type": "markdown",
   "metadata": {},
   "source": [
    "#### INSTRUCTIONS:\n",
    "* Import <code>select</code> from <code>sqlalchemy</code>.\n",
    "* Build a statement to:\n",
    " * Select <code>sex</code> from the <code>census</code> table.\n",
    " * Select the average age weighted by the population in 2008 (<code>pop2008</code>). See the example given in the assignment text to see how you can do this. Label this average age calculation as <code>'average_age'</code>.\n",
    "* Group the query by <code>sex</code>.\n",
    "* Execute the query and store it as <code>results</code>.\n",
    "* Loop over <code>results</code> and print the <code>sex</code> and <code>average_age</code> for each record."
   ]
  },
  {
   "cell_type": "markdown",
   "metadata": {},
   "source": [
    "#### SCRIPT.PY:"
   ]
  },
  {
   "cell_type": "code",
   "execution_count": 2,
   "metadata": {},
   "outputs": [
    {
     "name": "stdout",
     "output_type": "stream",
     "text": [
      "F 38\n",
      "M 35\n"
     ]
    }
   ],
   "source": [
    "from sqlalchemy import create_engine, MetaData, Table, func\n",
    "engine = create_engine(\"sqlite:///chapter5.sqlite\")\n",
    "connection = engine.connect()\n",
    "census = Table('census', MetaData(), autoload=True, autoload_with=engine)\n",
    "# Import select\n",
    "from sqlalchemy import select\n",
    "\n",
    "# Calculate weighted average age: stmt\n",
    "stmt = select([census.columns.sex,\n",
    "               (func.sum(census.columns.pop2008 * census.columns.age) /\n",
    "                func.sum(census.columns.pop2008)).label('average_age')\n",
    "               ])\n",
    "\n",
    "# Group by sex\n",
    "stmt = stmt.group_by('sex')\n",
    "\n",
    "# Execute the query and store the results: results\n",
    "results = connection.execute(stmt).fetchall()\n",
    "\n",
    "# Print the average age by sex\n",
    "for sex, average_age in results:\n",
    "    print(sex, average_age)"
   ]
  }
 ],
 "metadata": {
  "kernelspec": {
   "display_name": "Python 3",
   "language": "python",
   "name": "python3"
  },
  "language_info": {
   "codemirror_mode": {
    "name": "ipython",
    "version": 3
   },
   "file_extension": ".py",
   "mimetype": "text/x-python",
   "name": "python",
   "nbconvert_exporter": "python",
   "pygments_lexer": "ipython3",
   "version": "3.6.7"
  }
 },
 "nbformat": 4,
 "nbformat_minor": 2
}
