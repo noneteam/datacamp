{
 "cells": [
  {
   "cell_type": "markdown",
   "metadata": {},
   "source": [
    "# Updating individual records"
   ]
  },
  {
   "cell_type": "markdown",
   "metadata": {},
   "source": [
    "#### EXERCISE:\n",
    "The <code>update</code> statement is very similar to an <code>insert</code> statement, except that it\n",
    "also typically uses a <code>where</code> clause to help us determine what data to update. You'll be using the FIPS state code using here, which is appropriated by the U.S. government to identify U.S. states and certain other associated areas. Recall that you can update all wages in the <code>employees</code> table as follows:\n",
    "\n",
    "<pre><code>stmt = update(employees).values(wage=100.00)\n",
    "</code></pre>\n",
    "\n",
    "For your convenience, the names of the tables and columns of interest in this exercise are: <code>state_fact</code> (Table), <code>name</code> (Column), and <code>fips_state</code> (Column)."
   ]
  },
  {
   "cell_type": "markdown",
   "metadata": {},
   "source": [
    "#### INSTRUCTIONS:\n",
    "* Build a statement to select all columns from the <code>state_fact</code> table where the <code>name</code> column is New York. Call it <code>select_stmt</code>.\n",
    "* Print the results of executing the <code>select_stmt</code> and fetching all records.\n",
    "* Build an <code>update</code> statement to change the <code>fips_state</code> column code to <code>36</code>, save it as <code>stmt</code>.\n",
    "* Use a <code>where</code> clause to filter for states with the <code>name</code> of <code>'New York'</code> in the <code>state_fact</code> table.\n",
    "* Execute <code>stmt</code> via the <code>connection</code> and save the output as <code>results</code>.\n",
    "* Hit 'Submit Answer' to print the <code>rowcount</code> of the <code>results</code> and the results of executing <code>select_stmt</code>. This will verify the fips_state code is now 36."
   ]
  },
  {
   "cell_type": "markdown",
   "metadata": {},
   "source": [
    "#### SCRIPT.PY:"
   ]
  },
  {
   "cell_type": "code",
   "execution_count": 4,
   "metadata": {},
   "outputs": [
    {
     "ename": "SyntaxError",
     "evalue": "keyword can't be an expression (<ipython-input-4-3fcb17a12850>, line 12)",
     "output_type": "error",
     "traceback": [
      "\u001b[0;36m  File \u001b[0;32m\"<ipython-input-4-3fcb17a12850>\"\u001b[0;36m, line \u001b[0;32m12\u001b[0m\n\u001b[0;31m    stmt = update(state_fact).values('fips_state' = 36)\u001b[0m\n\u001b[0m                                    ^\u001b[0m\n\u001b[0;31mSyntaxError\u001b[0m\u001b[0;31m:\u001b[0m keyword can't be an expression\n"
     ]
    }
   ],
   "source": [
    "from sqlalchemy import MetaData, create_engine, Table, select, update\n",
    "engine = create_engine(\"sqlite:///../01-Basics of Relational Databases/census.sqlite\")\n",
    "connection = engine.connect()\n",
    "state_fact = Table('state_fact', MetaData(bind=None), autoload=True, autoload_with=engine)\n",
    "# Build a select statement: select_stmt\n",
    "select_stmt = select([state_fact]).where(state_fact.columns.name == 'New York')\n",
    "\n",
    "# Print the results of executing the select_stmt\n",
    "print(connection.execute(select_stmt).fetchall())\n",
    "\n",
    "# Build a statement to update the fips_state to 36: stmt\n",
    "stmt = update(state_fact).values(fips_state = 36)\n",
    "\n",
    "# Append a where clause to limit it to records for New York state\n",
    "stmt = stmt.where(state_fact.columns.name == 'New York')\n",
    "\n",
    "# Execute the statement: results\n",
    "results = connection.execute(stmt)\n",
    "\n",
    "# Print rowcount\n",
    "print(results.rowcount)\n",
    "\n",
    "# Execute the select_stmt again to view the changes\n",
    "print(connection.execute(select_stmt).fetchall())\n"
   ]
  }
 ],
 "metadata": {
  "kernelspec": {
   "display_name": "Python 3",
   "language": "python",
   "name": "python3"
  },
  "language_info": {
   "codemirror_mode": {
    "name": "ipython",
    "version": 3
   },
   "file_extension": ".py",
   "mimetype": "text/x-python",
   "name": "python",
   "nbconvert_exporter": "python",
   "pygments_lexer": "ipython3",
   "version": "3.6.7"
  }
 },
 "nbformat": 4,
 "nbformat_minor": 2
}
