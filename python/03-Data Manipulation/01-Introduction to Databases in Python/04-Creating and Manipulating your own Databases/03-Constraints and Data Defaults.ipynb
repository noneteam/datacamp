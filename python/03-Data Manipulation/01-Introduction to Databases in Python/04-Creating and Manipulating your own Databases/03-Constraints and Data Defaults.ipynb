{
 "cells": [
  {
   "cell_type": "markdown",
   "metadata": {},
   "source": [
    "# Constraints and Data Defaults"
   ]
  },
  {
   "cell_type": "markdown",
   "metadata": {},
   "source": [
    "#### EXERCISE:\n",
    "You're now going to practice creating a table with some constraints! \n",
    "Often, you'll need to make sure that a column is unique, nullable, a positive\n",
    "value, or related to a column in another table. This is where constraints come in.\n",
    "\n",
    "As Jason showed you in the video, in addition to constraints, you can also set a default value for the column if no data is passed to it via the <code>default</code> keyword on the column."
   ]
  },
  {
   "cell_type": "markdown",
   "metadata": {},
   "source": [
    "#### INSTRUCTIONS:\n",
    "* <code>Table</code>, <code>Column</code>, <code>String</code>, <code>Integer</code>, <code>Float</code>, <code>Boolean</code> are already imported from <code>sqlalchemy</code>.\n",
    "* Build a new table called data with a unique <code>name</code> (String), <code>count</code> (Integer) defaulted to <code>1</code>, <code>amount</code> (Float), and <code>valid</code> (Boolean) defaulted to <code>False</code>.\n",
    "* Hit 'Submit Answer' to create the table in the database and to print the table details for <code>data</code>."
   ]
  },
  {
   "cell_type": "markdown",
   "metadata": {},
   "source": [
    "#### SCRIPT.PY:"
   ]
  },
  {
   "cell_type": "code",
   "execution_count": 1,
   "metadata": {},
   "outputs": [
    {
     "name": "stdout",
     "output_type": "stream",
     "text": [
      "Table('data', MetaData(bind=None), Column('name', String(length=255), table=<data>), Column('count', Integer(), table=<data>, default=ColumnDefault(1)), Column('amount', Float(), table=<data>), Column('valid', Boolean(), table=<data>, default=ColumnDefault(False)), schema=None)\n"
     ]
    }
   ],
   "source": [
    "from sqlalchemy import MetaData, create_engine\n",
    "metadata = MetaData(bind=None)\n",
    "engine = create_engine(\"sqlite:///:memory:\")\n",
    "# Import Table, Column, String, Integer, Float, Boolean from sqlalchemy\n",
    "from sqlalchemy import Table, Column, String, Integer, Float, Boolean\n",
    "\n",
    "# Define a new table with a name, count, amount, and valid column: data\n",
    "data = Table('data', metadata,\n",
    "             Column('name', String(255), unique=True),\n",
    "             Column('count', Integer(), default=1),\n",
    "             Column('amount', Float()),\n",
    "             Column('valid', Boolean(), default=False)\n",
    ")\n",
    "\n",
    "# Use the metadata to create the table\n",
    "metadata.create_all(engine)\n",
    "\n",
    "# Print the table details\n",
    "print(repr(metadata.tables['data']))\n"
   ]
  }
 ],
 "metadata": {
  "kernelspec": {
   "display_name": "Python 3",
   "language": "python",
   "name": "python3"
  },
  "language_info": {
   "codemirror_mode": {
    "name": "ipython",
    "version": 3
   },
   "file_extension": ".py",
   "mimetype": "text/x-python",
   "name": "python",
   "nbconvert_exporter": "python",
   "pygments_lexer": "ipython3",
   "version": "3.6.7"
  }
 },
 "nbformat": 4,
 "nbformat_minor": 2
}
