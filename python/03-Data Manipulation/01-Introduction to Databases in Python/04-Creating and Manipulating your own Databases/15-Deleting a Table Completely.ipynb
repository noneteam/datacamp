{
 "cells": [
  {
   "cell_type": "markdown",
   "metadata": {},
   "source": [
    "# Deleting a Table Completely"
   ]
  },
  {
   "cell_type": "markdown",
   "metadata": {},
   "source": [
    "#### EXERCISE:\n",
    "You're now going to practice dropping individual tables from a database with the <code>.drop()</code> method, as well as <em>all</em> tables in a database with the <code>.drop_all()</code> method!\n",
    "\n",
    "As Spider-Man's Uncle Ben (as well as Jason, in the video!) said: With great power, comes great responsibility. Do be careful when deleting tables,\n",
    "as it's not simple or fast to restore large databases! Remember, you can check to see if a table exists with the <code>.exists()</code> method.\n",
    "\n",
    "This is the final exercise in this chapter: After this, you'll be ready to apply everything you've learned to a case study in the final chapter of this course!"
   ]
  },
  {
   "cell_type": "markdown",
   "metadata": {},
   "source": [
    "#### INSTRUCTIONS:\n",
    "* Drop the <code>state_fact</code> table by applying the method <code>.drop()</code> to it and passing it the argument <code>engine</code> (in fact, <code>engine</code> will be the sole argument for every function/method in this exercise!)\n",
    "* Check to see if <code>state_fact</code> exists via <code>print</code>. Use the <code>.exists()</code> method with <code>engine</code> as the argument.\n",
    "* Drop all the tables via the <code>metadata</code> using the <code>.drop_all()</code> method.\n",
    "* Use a print statement to check if the <code>census</code> table exists."
   ]
  },
  {
   "cell_type": "markdown",
   "metadata": {},
   "source": [
    "#### SCRIPT.PY:"
   ]
  },
  {
   "cell_type": "code",
   "execution_count": 9,
   "metadata": {},
   "outputs": [
    {
     "name": "stdout",
     "output_type": "stream",
     "text": [
      "False\n",
      "False\n"
     ]
    }
   ],
   "source": [
    "from sqlalchemy import MetaData, create_engine, Table, select, delete, func, and_\n",
    "engine = create_engine(\"sqlite:///census_ex_15.sqlite\")\n",
    "connection = engine.connect()\n",
    "metadata = MetaData(bind=None)\n",
    "state_fact = Table('state_fact', metadata, autoload=True, autoload_with=engine)\n",
    "census = Table('census', metadata, autoload=True, autoload_with=engine)\n",
    "# Drop the state_fact table\n",
    "state_fact.drop(engine)\n",
    "\n",
    "# Check to see if state_fact exists\n",
    "print(state_fact.exists(engine))\n",
    "\n",
    "# Drop all tables\n",
    "metadata.drop_all(engine)\n",
    "\n",
    "# Check to see if census exists\n",
    "print(census.exists(engine))\n"
   ]
  }
 ],
 "metadata": {
  "kernelspec": {
   "display_name": "Python 3",
   "language": "python",
   "name": "python3"
  },
  "language_info": {
   "codemirror_mode": {
    "name": "ipython",
    "version": 3
   },
   "file_extension": ".py",
   "mimetype": "text/x-python",
   "name": "python",
   "nbconvert_exporter": "python",
   "pygments_lexer": "ipython3",
   "version": "3.6.7"
  }
 },
 "nbformat": 4,
 "nbformat_minor": 2
}
