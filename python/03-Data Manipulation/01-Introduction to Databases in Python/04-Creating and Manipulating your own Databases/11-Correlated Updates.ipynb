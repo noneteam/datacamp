{
 "cells": [
  {
   "cell_type": "markdown",
   "metadata": {},
   "source": [
    "# Correlated Updates"
   ]
  },
  {
   "cell_type": "markdown",
   "metadata": {},
   "source": [
    "#### EXERCISE:\n",
    "You can also update records with data from a select statement. This is called a\n",
    "correlated update. It works by defining a <code>select</code> statement that returns the\n",
    "value you want to update the record with and assigning that as the value in an\n",
    "<code>update</code> statement.\n",
    "\n",
    "You'll be using a <code>flat_census</code> in this exercise as the target of your correlated update. The <code>flat_census</code> table is a summarized copy of your census table."
   ]
  },
  {
   "cell_type": "markdown",
   "metadata": {},
   "source": [
    "#### INSTRUCTIONS:\n",
    "* Build a statement to select the <code>name</code> column from <code>state_fact</code>. Save the statement as <code>fips_stmt</code>.\n",
    "* Append a where clause to <code>fips_stmt</code> that matches <code>fips_state</code> from the <code>state_fact</code> table with <code>fips_code</code> in the <code>flat_census</code> table.\n",
    "* Build an update statement to set the <code>state_name</code> in <code>flat_census</code> to\n",
    "<code>fips_stmt</code>. Save the statement as <code>update_stmt</code>.\n",
    "* Hit 'Submit Answer' to execute <code>update_stmt</code>, store the <code>results</code> and print the <code>rowcount</code> of <code>results</code>."
   ]
  },
  {
   "cell_type": "markdown",
   "metadata": {},
   "source": [
    "#### SCRIPT.PY:"
   ]
  },
  {
   "cell_type": "code",
   "execution_count": null,
   "metadata": {},
   "outputs": [],
   "source": [
    "# Build a statement to select name from state_fact: stmt\n",
    "fips_stmt = select([____])\n",
    "\n",
    "# Append a where clause to Match the fips_state to flat_census fips_code\n",
    "fips_stmt = fips_stmt.____(\n",
    "    ____ == ____)\n",
    "\n",
    "# Build an update statement to set the name to fips_stmt: update_stmt\n",
    "update_stmt = update(____).values(____=____)\n",
    "\n",
    "# Execute update_stmt: results\n",
    "results = connection.execute(update_stmt)\n",
    "\n",
    "# Print rowcount\n",
    "print(results.rowcount)\n"
   ]
  }
 ],
 "metadata": {
  "kernelspec": {
   "display_name": "Python 3",
   "language": "python",
   "name": "python3"
  },
  "language_info": {
   "codemirror_mode": {
    "name": "ipython",
    "version": 3
   },
   "file_extension": ".py",
   "mimetype": "text/x-python",
   "name": "python",
   "nbconvert_exporter": "python",
   "pygments_lexer": "ipython3",
   "version": "3.6.7"
  }
 },
 "nbformat": 4,
 "nbformat_minor": 2
}
