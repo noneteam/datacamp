{
 "cells": [
  {
   "cell_type": "markdown",
   "metadata": {},
   "source": [
    "# Loading a CSV into a Table"
   ]
  },
  {
   "cell_type": "markdown",
   "metadata": {},
   "source": [
    "#### EXERCISE:\n",
    "You've done a great job so far at inserting data into tables! You're now going to learn how to load the contents of a CSV file into a table.\n",
    "\n",
    "We have used the <code>csv</code> module to set up a <code>csv_reader</code>, which is just a <em>reader</em> object that can iterate over the lines in a given CSV file - in this case, a census CSV file. Using the <code>enumerate()</code> function, you can loop over the <code>csv_reader</code> to handle the results one at a time. Here, for example, the first line it would return is:\n",
    "\n",
    "<code>0 ['Illinois', 'M', '0', '89600', '95012']</code>\n",
    "\n",
    "<code>0</code> is the <code>idx</code> - or line number - while <code>['Illinois', 'M', '0', '89600', '95012']</code> is the <code>row</code>, corresponding to the column names <code>'state'</code> , <code>'sex'</code>, <code>'age'</code>, <code>'pop2000 '</code>and <code>'pop2008'</code>. <code>'Illinois'</code> can be accessed with <code>row[0]</code>, <code>'M'</code> with <code>row[1]</code>, and so on. You can create a dictionary containing this information where the keys are the column names and the values are the entries in each line. Then, by appending this dictionary to a list, you can combine it with an <code>insert</code> statement to load it all into a table!"
   ]
  },
  {
   "cell_type": "markdown",
   "metadata": {},
   "source": [
    "#### INSTRUCTIONS:\n",
    "* Create a statement for bulk insert into the <code>census</code> table. To do this, just use <code>insert()</code> and <code>census</code>.\n",
    "* Create an empty list called <code>values_list</code> and a variable called <code>total_rowcount</code> that is set to <code>0</code>.\n",
    "* Within the <code>for</code> loop:\n",
    " * Complete the <code>data</code> dictionary by filling in the values for each of the keys. The values are contained in <code>row</code>. <code>row[0]</code> represents the value for <code>'state'</code>, <code>row[1]</code> represents the value for <code>'sex'</code>, and so on.\n",
    " * Append <code>data</code> to <code>values_list</code>.\n",
    " * If <code>51</code> cleanly divides into the current <code>idx</code>:\n",
    "   * Execute <code>stmt</code> with the <code>values_list</code> and save it as <code>results</code>.\n",
    "* Hit 'Submit Answer' to print <code>total_rowcount</code> when done with all the records."
   ]
  },
  {
   "cell_type": "markdown",
   "metadata": {},
   "source": [
    "#### SCRIPT.PY:"
   ]
  },
  {
   "cell_type": "code",
   "execution_count": null,
   "metadata": {},
   "outputs": [],
   "source": [
    "# Create a insert statement for census: stmt\n",
    "stmt = ____\n",
    "\n",
    "# Create an empty list and zeroed row count: values_list, total_rowcount\n",
    "values_list = ____\n",
    "total_rowcount = ____\n",
    "\n",
    "# Enumerate the rows of csv_reader\n",
    "for idx, row in enumerate(csv_reader):\n",
    "    #create data and append to values_list\n",
    "    data = {'state': ____, 'sex': ____, 'age': ____, 'pop2000': ____,\n",
    "            'pop2008': ____}\n",
    "    values_list.append(____)\n",
    "\n",
    "    # Check to see if divisible by 51\n",
    "    if idx % 51 == 0:\n",
    "        results = connection.execute(____, ____)\n",
    "        total_rowcount += results.rowcount\n",
    "        values_list = []\n",
    "\n",
    "# Print total rowcount\n",
    "print(total_rowcount)"
   ]
  }
 ],
 "metadata": {
  "kernelspec": {
   "display_name": "Python 3",
   "language": "python",
   "name": "python3"
  },
  "language_info": {
   "codemirror_mode": {
    "name": "ipython",
    "version": 3
   },
   "file_extension": ".py",
   "mimetype": "text/x-python",
   "name": "python",
   "nbconvert_exporter": "python",
   "pygments_lexer": "ipython3",
   "version": "3.6.7"
  }
 },
 "nbformat": 4,
 "nbformat_minor": 2
}
