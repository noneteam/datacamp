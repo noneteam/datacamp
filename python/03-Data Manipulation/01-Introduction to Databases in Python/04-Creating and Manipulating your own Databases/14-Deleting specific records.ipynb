{
 "cells": [
  {
   "cell_type": "markdown",
   "metadata": {},
   "source": [
    "# Deleting specific records"
   ]
  },
  {
   "cell_type": "markdown",
   "metadata": {},
   "source": [
    "#### EXERCISE:\n",
    "By using a <code>where()</code> clause, you can target the <code>delete</code> statement to remove only\n",
    "certain records. For example, Jason deleted all rows from the <code>employees</code> table that had <code>id</code> 3 with the following delete statement:\n",
    "\n",
    "<pre><code>delete(employees).where(employees.columns.id == 3) \n",
    "</code></pre>\n",
    "\n",
    "Here you'll delete ALL rows which have <code>'M'</code> in the <code>sex</code> column and <code>36</code> in the <code>age</code> column. We have included code at the start which computes the total number of these rows. It is important to make sure that this is the number of rows that you actually delete."
   ]
  },
  {
   "cell_type": "markdown",
   "metadata": {},
   "source": [
    "#### INSTRUCTIONS:\n",
    "* Build a <code>delete</code> statement to remove data from the <code>census</code> table. Save it as <code>stmt_del</code>.\n",
    "* Append a <code>where</code> clause to <code>stmt_del</code> that contains an <code>and_</code> to filter for rows which have <code>'M'</code> in the <code>sex</code> column <strong>AND</strong> <code>36</code> in the <code>age</code> column.\n",
    "* Execute the delete statement.\n",
    "* Hit 'Submit Answer' to print the <code>rowcount</code> of the <code>results</code>, as well as <code>to_delete</code>, which returns the number of rows that should be deleted. These should match and this is an important sanity check!"
   ]
  },
  {
   "cell_type": "markdown",
   "metadata": {},
   "source": [
    "#### SCRIPT.PY:"
   ]
  },
  {
   "cell_type": "code",
   "execution_count": null,
   "metadata": {},
   "outputs": [],
   "source": [
    "# Build a statement to count records using the sex column for Men ('M') age 36: stmt\n",
    "stmt = select([func.count(census.columns.sex)]).where(\n",
    "    and_(census.columns.sex == 'M',\n",
    "         census.columns.age == 36)\n",
    ")\n",
    "\n",
    "# Execute the select statement and use the scalar() fetch method to save the record count\n",
    "to_delete = connection.execute(stmt).scalar()\n",
    "\n",
    "# Build a statement to delete records from the census table: stmt_del\n",
    "stmt_del = ____\n",
    "\n",
    "# Append a where clause to target Men ('M') age 36\n",
    "stmt_del = stmt_del.____(\n",
    "    ____(census.columns.sex == ____,\n",
    "         ____ == ____)\n",
    ")\n",
    "\n",
    "# Execute the statement: results\n",
    "results = connection.execute(____)\n",
    "\n",
    "# Print affected rowcount and to_delete record count, make sure they match\n",
    "print(results.rowcount, to_delete)\n"
   ]
  }
 ],
 "metadata": {
  "kernelspec": {
   "display_name": "Python 3",
   "language": "python",
   "name": "python3"
  },
  "language_info": {
   "codemirror_mode": {
    "name": "ipython",
    "version": 3
   },
   "file_extension": ".py",
   "mimetype": "text/x-python",
   "name": "python",
   "nbconvert_exporter": "python",
   "pygments_lexer": "ipython3",
   "version": "3.6.7"
  }
 },
 "nbformat": 4,
 "nbformat_minor": 2
}
