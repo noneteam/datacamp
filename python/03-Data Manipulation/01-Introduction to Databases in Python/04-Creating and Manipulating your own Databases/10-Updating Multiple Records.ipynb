{
 "cells": [
  {
   "cell_type": "markdown",
   "metadata": {},
   "source": [
    "# Updating Multiple Records"
   ]
  },
  {
   "cell_type": "markdown",
   "metadata": {},
   "source": [
    "#### EXERCISE:\n",
    "As Jason discussed in the video, by using a <code>where</code> clause that selects more records, you can update multiple\n",
    "records at once. It's time now to practice this!\n",
    "\n",
    "For your convenience, the names of the tables and columns of interest in this exercise are: <code>state_fact</code> (Table), <code>notes</code> (Column), and <code>census_region_name</code> (Column)."
   ]
  },
  {
   "cell_type": "markdown",
   "metadata": {},
   "source": [
    "#### INSTRUCTIONS:\n",
    "* Build an <code>update</code> statement to update the <code>notes</code> column in the <code>state_fact</code> table to <code>'The Wild West'</code>. Save it\n",
    "as <code>stmt</code>.\n",
    "* Use a <code>where</code> clause to filter for records that have <code>'West'</code> in the <code>census_region_name</code> column of the <code>state_fact</code> table.\n",
    "* Execute <code>stmt</code> via the <code>connection</code> and save the output as <code>results</code>.\n",
    "* Hit 'Submit Answer' to print <code>rowcount</code> of the <code>results</code>."
   ]
  },
  {
   "cell_type": "markdown",
   "metadata": {},
   "source": [
    "#### SCRIPT.PY:"
   ]
  },
  {
   "cell_type": "code",
   "execution_count": 7,
   "metadata": {},
   "outputs": [
    {
     "name": "stdout",
     "output_type": "stream",
     "text": [
      "13\n"
     ]
    }
   ],
   "source": [
    "from sqlalchemy import MetaData, create_engine, Table, select, update\n",
    "engine = create_engine(\"sqlite:///../01-Basics of Relational Databases/census.sqlite\")\n",
    "connection = engine.connect()\n",
    "state_fact = Table('state_fact', MetaData(bind=None), autoload=True, autoload_with=engine)\n",
    "# Build a statement to update the notes to 'The Wild West': stmt\n",
    "stmt = update(state_fact).values(notes = 'The Wild West')\n",
    "\n",
    "# Append a where clause to match the West census region records\n",
    "stmt = stmt.where(state_fact.columns.census_region_name == 'West')\n",
    "\n",
    "# Execute the statement: results\n",
    "results = connection.execute(stmt)\n",
    "\n",
    "# Print rowcount\n",
    "print(results.rowcount)\n"
   ]
  }
 ],
 "metadata": {
  "kernelspec": {
   "display_name": "Python 3",
   "language": "python",
   "name": "python3"
  },
  "language_info": {
   "codemirror_mode": {
    "name": "ipython",
    "version": 3
   },
   "file_extension": ".py",
   "mimetype": "text/x-python",
   "name": "python",
   "nbconvert_exporter": "python",
   "pygments_lexer": "ipython3",
   "version": "3.6.7"
  }
 },
 "nbformat": 4,
 "nbformat_minor": 2
}
