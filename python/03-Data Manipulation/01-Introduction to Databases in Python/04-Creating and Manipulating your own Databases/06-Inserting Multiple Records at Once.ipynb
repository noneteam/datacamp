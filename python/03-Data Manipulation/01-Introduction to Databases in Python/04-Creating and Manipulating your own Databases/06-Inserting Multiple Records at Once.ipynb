{
 "cells": [
  {
   "cell_type": "markdown",
   "metadata": {},
   "source": [
    "# Inserting Multiple Records at Once"
   ]
  },
  {
   "cell_type": "markdown",
   "metadata": {},
   "source": [
    "#### EXERCISE:\n",
    "It's time to practice inserting multiple records at once!\n",
    "\n",
    "As Jason showed you in the video, you'll want to first build a list of dictionaries that represents the data you want to insert. Then,\n",
    "in the <code>.execute()</code> method, you can pair this list of dictionaries with an <code>insert</code> statement, which will insert all the records\n",
    "in your list of dictionaries."
   ]
  },
  {
   "cell_type": "markdown",
   "metadata": {},
   "source": [
    "#### INSTRUCTIONS:\n",
    "* Build a list of dictionaries called <code>values_list</code> with two dictionaries. In\n",
    "the first dictionary set <code>name</code> to <code>'Anna'</code>, <code>count</code> to <code>1</code>, <code>amount</code> to <code>1000.00</code>, and <code>valid</code> to <code>True</code>.\n",
    "In the second dictionary of the list, set <code>name</code> to <code>'Taylor'</code>, <code>count</code> to <code>1</code>, <code>amount</code> to <code>750.00</code>, and <code>valid</code> to <code>False</code>.\n",
    "* Build an <code>insert</code> statement for the <code>data</code> table for a multiple insert, save it as <code>stmt</code>.\n",
    "* Execute <code>stmt</code> with the <code>values_list</code> via <code>connection</code> and store the <code>results</code>. Make sure <code>values_list</code> is the second argument to <code>.execute()</code>.\n",
    "* Print the <code>rowcount</code> of the <code>results</code>."
   ]
  },
  {
   "cell_type": "markdown",
   "metadata": {},
   "source": [
    "#### SCRIPT.PY:"
   ]
  },
  {
   "cell_type": "code",
   "execution_count": null,
   "metadata": {},
   "outputs": [],
   "source": [
    "# Build a list of dictionaries: values_list\n",
    "values_list = [\n",
    "    {'name': ____, 'count': ____, 'amount': ____, 'valid': ____},\n",
    "    ____\n",
    "]\n",
    "\n",
    "# Build an insert statement for the data table: stmt\n",
    "stmt = ____\n",
    "\n",
    "# Execute stmt with the values_list: results\n",
    "results = connection.execute(____, ____)\n",
    "\n",
    "# Print rowcount\n",
    "print(results.rowcount)\n"
   ]
  }
 ],
 "metadata": {
  "kernelspec": {
   "display_name": "Python 3",
   "language": "python",
   "name": "python3"
  },
  "language_info": {
   "codemirror_mode": {
    "name": "ipython",
    "version": 3
   },
   "file_extension": ".py",
   "mimetype": "text/x-python",
   "name": "python",
   "nbconvert_exporter": "python",
   "pygments_lexer": "ipython3",
   "version": "3.6.7"
  }
 },
 "nbformat": 4,
 "nbformat_minor": 2
}
