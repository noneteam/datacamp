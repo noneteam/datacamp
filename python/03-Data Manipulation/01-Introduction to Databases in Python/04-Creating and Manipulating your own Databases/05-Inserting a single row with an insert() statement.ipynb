{
 "cells": [
  {
   "cell_type": "markdown",
   "metadata": {},
   "source": [
    "# Inserting a single row with an insert() statement"
   ]
  },
  {
   "cell_type": "markdown",
   "metadata": {},
   "source": [
    "#### EXERCISE:\n",
    "There are several ways to perform an insert with SQLAlchemy; however, we are going\n",
    "to focus on the one that follows the same pattern as the <code>select</code> statement.\n",
    "\n",
    "It uses an <code>insert</code> statement where you specify the table as an argument, and\n",
    "supply the data you wish to insert into the value via the <code>.values()</code> method as\n",
    "keyword arguments.\n",
    "\n",
    "Here, the name of the table is <code>data</code>."
   ]
  },
  {
   "cell_type": "markdown",
   "metadata": {},
   "source": [
    "#### INSTRUCTIONS:\n",
    "* Import <code>insert</code> and <code>select</code> from the <code>sqlalchemy</code> module.\n",
    "* Build an insert statement for the <code>data</code> table to set <code>name</code> to <code>'Anna'</code>, <code>count</code> to <code>1</code>, <code>amount</code> to <code>1000.00</code>, and <code>valid</code> to <code>True</code>. Save the statement as <code>stmt</code>.\n",
    "* Execute <code>stmt</code> with the <code>connection</code> and store the <code>results</code>.\n",
    "* Print the <code>rowcount</code> attribute of <code>results</code> to see how many records were\n",
    "inserted.\n",
    "* Build a select statement to query for the record with the <code>name</code> of <code>'Anna'</code>.\n",
    "* Hit 'Submit Answer' to print the results of executing the select statement."
   ]
  },
  {
   "cell_type": "markdown",
   "metadata": {},
   "source": [
    "#### SCRIPT.PY:"
   ]
  },
  {
   "cell_type": "code",
   "execution_count": null,
   "metadata": {},
   "outputs": [],
   "source": [
    "# Import insert and select from sqlalchemy\n",
    "from sqlalchemy import ____, ____\n",
    "\n",
    "# Build an insert statement to insert a record into the data table: stmt\n",
    "stmt = insert(____).values(name=____, count=____, amount=____, valid=____)\n",
    "\n",
    "# Execute the statement via the connection: results\n",
    "results = connection.execute(____)\n",
    "\n",
    "# Print result rowcount\n",
    "print(____)\n",
    "\n",
    "# Build a select statement to validate the insert\n",
    "stmt = select([data]).where(____ == ____)\n",
    "\n",
    "# Print the result of executing the query.\n",
    "print(connection.execute(stmt).first())\n"
   ]
  }
 ],
 "metadata": {
  "kernelspec": {
   "display_name": "Python 3",
   "language": "python",
   "name": "python3"
  },
  "language_info": {
   "codemirror_mode": {
    "name": "ipython",
    "version": 3
   },
   "file_extension": ".py",
   "mimetype": "text/x-python",
   "name": "python",
   "nbconvert_exporter": "python",
   "pygments_lexer": "ipython3",
   "version": "3.6.7"
  }
 },
 "nbformat": 4,
 "nbformat_minor": 2
}
