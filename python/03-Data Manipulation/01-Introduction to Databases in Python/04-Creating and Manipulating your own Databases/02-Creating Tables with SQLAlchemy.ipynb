{
 "cells": [
  {
   "cell_type": "markdown",
   "metadata": {},
   "source": [
    "# Creating Tables with SQLAlchemy"
   ]
  },
  {
   "cell_type": "markdown",
   "metadata": {},
   "source": [
    "#### EXERCISE:\n",
    "Previously, you used the <code>Table</code> object to reflect a table from an <em>existing</em>\n",
    "database, but what if you wanted to create a <em>new</em> table? You'd still use the <code>Table</code>\n",
    "object; however, you'd need to replace the <code>autoload</code> and <code>autoload_with</code> parameters with Column objects.\n",
    "The <code>Column</code> object takes a name, a SQLAlchemy type with an optional\n",
    "format, and optional keyword arguments for different constraints.\n",
    "\n",
    "When defining the table, recall how in the video Jason passed in <code>255</code> as the maximum length of a String by using <code>Column('name', String(255))</code>. Checking out the slides from the video may help: you can download them by clicking on 'Slides' next to the IPython Shell.\n",
    "\n",
    "After defining the table, you can create the table in the database by using the\n",
    "<code>.create_all()</code> method on metadata and supplying the engine as the only parameter. Go for it!"
   ]
  },
  {
   "cell_type": "markdown",
   "metadata": {},
   "source": [
    "#### INSTRUCTIONS:\n",
    "* Import <code>Table</code>, <code>Column</code>, <code>String</code>, <code>Integer</code>, <code>Float</code>, <code>Boolean</code> from <code>sqlalchemy</code>.\n",
    "* Build a new table called <code>data</code> with columns <code>'name'</code> (<code>String(255)</code>), <code>'count'</code> (<code>Integer()</code>), <code>'amount'</code>(<code>Float()</code>), and <code>'valid'</code> (<code>Boolean()</code>) columns. The second argument of <code>Table()</code> needs to be <code>metadata</code>, which has already been initialized.\n",
    "* Create the table in the database by passing <code>engine</code> to <code>metadata.create_all()</code>."
   ]
  },
  {
   "cell_type": "markdown",
   "metadata": {},
   "source": [
    "#### SCRIPT.PY:"
   ]
  },
  {
   "cell_type": "code",
   "execution_count": null,
   "metadata": {},
   "outputs": [],
   "source": [
    "# Import Table, Column, String, Integer, Float, Boolean from sqlalchemy\n",
    "from sqlalchemy import ____, ____, ____, ____, ____, ____\n",
    "\n",
    "# Define a new table with a name, count, amount, and valid column: data\n",
    "data = Table('data', ____,\n",
    "             Column(____, ____),\n",
    "             Column('count', Integer()),\n",
    "             Column(____, ____),\n",
    "             Column(____, ____)\n",
    ")\n",
    "\n",
    "# Use the metadata to create the table\n",
    "metadata.create_all(____)\n",
    "\n",
    "# Print table details\n",
    "print(repr(data))\n"
   ]
  }
 ],
 "metadata": {
  "kernelspec": {
   "display_name": "Python 3",
   "language": "python",
   "name": "python3"
  },
  "language_info": {
   "codemirror_mode": {
    "name": "ipython",
    "version": 3
   },
   "file_extension": ".py",
   "mimetype": "text/x-python",
   "name": "python",
   "nbconvert_exporter": "python",
   "pygments_lexer": "ipython3",
   "version": "3.6.7"
  }
 },
 "nbformat": 4,
 "nbformat_minor": 2
}
