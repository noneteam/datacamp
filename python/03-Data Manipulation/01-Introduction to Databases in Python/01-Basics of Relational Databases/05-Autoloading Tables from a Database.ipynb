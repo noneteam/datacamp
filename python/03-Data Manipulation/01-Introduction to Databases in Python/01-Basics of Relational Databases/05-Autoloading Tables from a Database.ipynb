{
 "cells": [
  {
   "cell_type": "markdown",
   "metadata": {},
   "source": [
    "# Autoloading Tables from a Database"
   ]
  },
  {
   "cell_type": "markdown",
   "metadata": {},
   "source": [
    "#### EXERCISE:\n",
    "SQLAlchemy can be used to automatically load tables from a database using something called reflection. Reflection is the process of reading the database and building the metadata based on that information. It's the opposite of creating a Table by hand and is very useful for working with existing databases. To perform reflection, you need to import the <code>Table</code> object from the SQLAlchemy package. Then, you use this <code>Table</code> object to read your table from the engine and autoload the columns. Using the <code>Table</code> object in this manner is a lot like passing arguments to a function. For example, to autoload the columns with the engine, you have to specify the keyword arguments <code>autoload=True</code> and <code>autoload_with=engine</code> to <code>Table()</code>.\n",
    "\n",
    "In this exercise, your job is to reflect the <code>census</code> table available on your <code>engine</code> into a variable called <code>census</code>. The metadata has already been loaded for you using <code>MetaData()</code> and is available in the variable <code>metadata</code>."
   ]
  },
  {
   "cell_type": "markdown",
   "metadata": {},
   "source": [
    "#### INSTRUCTIONS:\n",
    "* Import the <code>Table</code> object from <code>sqlalchemy</code>.\n",
    "* Reflect the <code>census</code> table by using the Table object with the arguments:\n",
    " * The name of the table as a string (<code>'census'</code>).\n",
    " * The metadata, contained in the variable <code>metadata</code>.\n",
    " * <code>autoload=True</code>\n",
    " * The engine to autoload with - in this case, <code>engine</code>.\n",
    "* Print the details of <code>census</code> using the <code>repr()</code> function."
   ]
  },
  {
   "cell_type": "markdown",
   "metadata": {},
   "source": [
    "#### SCRIPT.PY:"
   ]
  },
  {
   "cell_type": "code",
   "execution_count": null,
   "metadata": {},
   "outputs": [],
   "source": [
    "# Import Table\n",
    "from ____ import ____\n",
    "\n",
    "# Reflect census table from the engine: census\n",
    "census = Table(____, ____, autoload=____, autoload_with=____)\n",
    "\n",
    "# Print census table metadata\n",
    "print(____)\n"
   ]
  }
 ],
 "metadata": {
  "kernelspec": {
   "display_name": "Python 3",
   "language": "python",
   "name": "python3"
  },
  "language_info": {
   "codemirror_mode": {
    "name": "ipython",
    "version": 3
   },
   "file_extension": ".py",
   "mimetype": "text/x-python",
   "name": "python",
   "nbconvert_exporter": "python",
   "pygments_lexer": "ipython3",
   "version": "3.6.7"
  }
 },
 "nbformat": 4,
 "nbformat_minor": 2
}
