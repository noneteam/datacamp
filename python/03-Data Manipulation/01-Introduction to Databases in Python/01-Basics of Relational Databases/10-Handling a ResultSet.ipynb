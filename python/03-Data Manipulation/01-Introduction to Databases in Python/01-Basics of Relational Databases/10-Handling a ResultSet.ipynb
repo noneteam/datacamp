{
 "cells": [
  {
   "cell_type": "markdown",
   "metadata": {},
   "source": [
    "# Handling a ResultSet"
   ]
  },
  {
   "cell_type": "markdown",
   "metadata": {},
   "source": [
    "#### EXERCISE:\n",
    "Recall the differences between a ResultProxy and a ResultSet:\n",
    "\n",
    "* ResultProxy: The object returned by the <code>.execute()</code> method. It can be used in a variety of ways to get the data returned by the query.\n",
    "* ResultSet: The actual data asked for in the query when using a fetch method such as <code>.fetchall()</code> on a ResultProxy.\n",
    "\n",
    "This separation between the ResultSet and ResultProxy allows us to fetch as much or as little data as we desire.\n",
    "\n",
    "Once we have a ResultSet, we can use Python to access all the data within\n",
    "it by column name and by list style indexes. For example, you can get the first\n",
    "row of the results by using <code>results[0]</code>. With that first row then assigned to a variable <code>first_row</code>, you can get\n",
    "data from the first column by either using <code>first_row[0]</code> or by column name such\n",
    "as <code>first_row['column_name']</code>. You'll now practice exactly this using the ResultSet you obtained from the <code>census</code> table in the previous exercise. It is stored in the variable <code>results</code>. Enjoy!"
   ]
  },
  {
   "cell_type": "markdown",
   "metadata": {},
   "source": [
    "#### INSTRUCTIONS:\n",
    "* Extract the first row of <code>results</code> and assign it to the variable <code>first_row</code>.\n",
    "* Print the value of the first column in <code>first_row</code>.\n",
    "* Print the value of the <code>'state'</code> column in <code>first_row</code>."
   ]
  },
  {
   "cell_type": "markdown",
   "metadata": {},
   "source": [
    "#### SCRIPT.PY:"
   ]
  },
  {
   "cell_type": "code",
   "execution_count": null,
   "metadata": {},
   "outputs": [],
   "source": [
    "# Get the first row of the results by using an index: first_row\n",
    "first_row = ____\n",
    "\n",
    "# Print the first row of the results\n",
    "print(first_row)\n",
    "\n",
    "# Print the first column of the first row by using an index\n",
    "print(____)\n",
    "\n",
    "# Print the 'state' column of the first row by using its name\n",
    "print(____)\n"
   ]
  }
 ],
 "metadata": {
  "kernelspec": {
   "display_name": "Python 3",
   "language": "python",
   "name": "python3"
  },
  "language_info": {
   "codemirror_mode": {
    "name": "ipython",
    "version": 3
   },
   "file_extension": ".py",
   "mimetype": "text/x-python",
   "name": "python",
   "nbconvert_exporter": "python",
   "pygments_lexer": "ipython3",
   "version": "3.6.7"
  }
 },
 "nbformat": 4,
 "nbformat_minor": 2
}
