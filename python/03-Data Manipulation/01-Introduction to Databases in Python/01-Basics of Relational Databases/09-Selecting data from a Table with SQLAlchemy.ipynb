{
 "cells": [
  {
   "cell_type": "markdown",
   "metadata": {},
   "source": [
    "# Selecting data from a Table with SQLAlchemy"
   ]
  },
  {
   "cell_type": "markdown",
   "metadata": {},
   "source": [
    "#### EXERCISE:\n",
    "Excellent work so far! It's now time to build your first select statement using SQLAlchemy. SQLAlchemy provides a nice \"Pythonic\" way of interacting with databases. So rather than dealing with the differences between specific dialects of traditional SQL such as MySQL or PostgreSQL, you can leverage the Pythonic framework of SQLAlchemy to streamline your workflow and more efficiently query your data. For this reason, it is worth learning even if you may already be familiar with traditional SQL.\n",
    "\n",
    "In this exercise, you'll once again build a statement to query all records from the <code>census</code> table. This time, however, you'll make use of the <code>select()</code> function of the <code>sqlalchemy</code> module. This function requires a <strong>list</strong> of tables or columns as the only required argument.\n",
    "\n",
    "<code>Table</code> and <code>MetaData</code> have already been imported. The metadata is available as <code>metadata</code> and the connection to the database as <code>connection</code>."
   ]
  },
  {
   "cell_type": "markdown",
   "metadata": {},
   "source": [
    "#### INSTRUCTIONS:\n",
    "* Import <code>select</code> from the <code>sqlalchemy</code> module.\n",
    "* Reflect the <code>census</code> table. This code is already written for you.\n",
    "* Create a query using the <code>select()</code> function to retrieve the <code>census</code> table. To do so, pass a list to <code>select()</code> containing a single element: <code>census</code>.\n",
    "* Print <code>stmt</code> to see the actual SQL query being created. This code has been written for you.\n",
    "* Using the provided <code>print()</code> function, print all the records from the <code>census</code> table. To do this:\n",
    " * Use the <code>.execute()</code> method on <code>connection</code> with <code>stmt</code> as the argument to retrieve the ResultProxy.\n",
    " * Use <code>.fetchall()</code> on <code>connection.execute(stmt)</code> to retrieve the ResultSet."
   ]
  },
  {
   "cell_type": "markdown",
   "metadata": {},
   "source": [
    "#### SCRIPT.PY:"
   ]
  },
  {
   "cell_type": "code",
   "execution_count": null,
   "metadata": {},
   "outputs": [],
   "source": [
    "# Import select\n",
    "from ____ import ____\n",
    "\n",
    "# Reflect census table via engine: census\n",
    "census = Table('census', metadata, autoload=True, autoload_with=engine)\n",
    "\n",
    "# Build select statement for census table: stmt\n",
    "stmt = ____\n",
    "\n",
    "# Print the emitted statement to see the SQL emitted\n",
    "print(stmt)\n",
    "\n",
    "# Execute the statement and print the results\n",
    "print(____)\n"
   ]
  }
 ],
 "metadata": {
  "kernelspec": {
   "display_name": "Python 3",
   "language": "python",
   "name": "python3"
  },
  "language_info": {
   "codemirror_mode": {
    "name": "ipython",
    "version": 3
   },
   "file_extension": ".py",
   "mimetype": "text/x-python",
   "name": "python",
   "nbconvert_exporter": "python",
   "pygments_lexer": "ipython3",
   "version": "3.6.7"
  }
 },
 "nbformat": 4,
 "nbformat_minor": 2
}
