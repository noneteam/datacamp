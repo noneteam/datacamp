{
 "cells": [
  {
   "cell_type": "markdown",
   "metadata": {},
   "source": [
    "# Selecting data from a Table: raw SQL"
   ]
  },
  {
   "cell_type": "markdown",
   "metadata": {},
   "source": [
    "#### EXERCISE:\n",
    "Using what we just learned about SQL and applying the <code>.execute()</code> method on our connection, we can leverage a raw SQL query to query all the records in our <code>census</code> table. The object returned by the <code>.execute()</code> method is a <strong>ResultProxy</strong>. On this ResultProxy, we can then use the <code>.fetchall()</code> method to get our results - that is, the <strong>ResultSet</strong>.\n",
    "\n",
    "In this exercise, you'll use a traditional SQL query. In the next exercise, you'll move to SQLAlchemy and begin to understand its advantages. Go for it!"
   ]
  },
  {
   "cell_type": "markdown",
   "metadata": {},
   "source": [
    "#### INSTRUCTIONS:\n",
    "* Build a SQL statement to query <strong>all</strong> the columns from <code>census</code> and store it in <code>stmt</code>. Note that your SQL statement must be a <em>string</em>.\n",
    "* Use the <code>.execute()</code> and <code>.fetchall()</code> methods on <code>connection</code> and store the result in <code>results</code>. Remember that <code>.execute()</code> comes before <code>.fetchall()</code> and that <code>stmt</code> needs to be passed to <code>.execute()</code>.\n",
    "* Print <code>results</code>."
   ]
  },
  {
   "cell_type": "markdown",
   "metadata": {},
   "source": [
    "#### SCRIPT.PY:"
   ]
  },
  {
   "cell_type": "code",
   "execution_count": null,
   "metadata": {},
   "outputs": [],
   "source": [
    "# Build select statement for census table: stmt\n",
    "stmt = ____\n",
    "\n",
    "# Execute the statement and fetch the results: results\n",
    "results = ____\n",
    "\n",
    "# Print results\n",
    "print(____)"
   ]
  }
 ],
 "metadata": {
  "kernelspec": {
   "display_name": "Python 3",
   "language": "python",
   "name": "python3"
  },
  "language_info": {
   "codemirror_mode": {
    "name": "ipython",
    "version": 3
   },
   "file_extension": ".py",
   "mimetype": "text/x-python",
   "name": "python",
   "nbconvert_exporter": "python",
   "pygments_lexer": "ipython3",
   "version": "3.6.7"
  }
 },
 "nbformat": 4,
 "nbformat_minor": 2
}
