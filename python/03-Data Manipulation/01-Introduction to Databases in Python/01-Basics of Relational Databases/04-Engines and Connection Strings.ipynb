{
 "cells": [
  {
   "cell_type": "markdown",
   "metadata": {},
   "source": [
    "# Engines and Connection Strings"
   ]
  },
  {
   "cell_type": "markdown",
   "metadata": {},
   "source": [
    "#### EXERCISE:\n",
    "Alright, it's time to create your first engine! An engine is just a common interface to a database, and the information it requires to connect to one is contained in a connection string, such as <code>sqlite:///census_nyc.sqlite</code>. Here, <code>sqlite</code> is the database driver, while <code>census_nyc.sqlite</code> is a SQLite file contained in the local directory.\n",
    "\n",
    "You can learn a lot more about connection strings in the\n",
    "<a href=\"http://docs.sqlalchemy.org/en/latest/core/engines.html#database-urls\" target=\"_blank\">SQLAlchemy documentation</a>.\n",
    "\n",
    "Your job in this exercise is to create an engine that connects to a local SQLite file named <code>census.sqlite</code>. Then, print the names of the tables it contains using the <code>.table_names()</code> method. Note that when you just want to print the table names, you do not need to use <code>engine.connect()</code> after creating the engine."
   ]
  },
  {
   "cell_type": "markdown",
   "metadata": {},
   "source": [
    "#### INSTRUCTIONS:\n",
    "* Import <code>create_engine</code> from the <code>sqlalchemy</code> module.\n",
    "* Using the <code>create_engine()</code> function, create an engine for a local file named <code>census.sqlite</code> with <code>sqlite</code> as the driver. Be sure to enclose the connection string within quotation marks.\n",
    "* Print the output from the <code>.table_names()</code> method on the <code>engine</code>."
   ]
  },
  {
   "cell_type": "markdown",
   "metadata": {},
   "source": [
    "#### SCRIPT.PY:"
   ]
  },
  {
   "cell_type": "code",
   "execution_count": 2,
   "metadata": {},
   "outputs": [
    {
     "name": "stdout",
     "output_type": "stream",
     "text": [
      "['census', 'state_fact']\n"
     ]
    }
   ],
   "source": [
    "# Import create_engine\n",
    "from sqlalchemy import create_engine\n",
    "\n",
    "# Create an engine that connects to the census.sqlite file: engine\n",
    "engine = create_engine(\"sqlite:///census.sqlite\")\n",
    "\n",
    "# Print table names\n",
    "print(engine.table_names())\n"
   ]
  }
 ],
 "metadata": {
  "kernelspec": {
   "display_name": "Python 3",
   "language": "python",
   "name": "python3"
  },
  "language_info": {
   "codemirror_mode": {
    "name": "ipython",
    "version": 3
   },
   "file_extension": ".py",
   "mimetype": "text/x-python",
   "name": "python",
   "nbconvert_exporter": "python",
   "pygments_lexer": "ipython3",
   "version": "3.6.7"
  }
 },
 "nbformat": 4,
 "nbformat_minor": 2
}
