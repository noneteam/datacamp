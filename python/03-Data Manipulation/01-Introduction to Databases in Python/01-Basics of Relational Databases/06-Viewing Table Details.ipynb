{
 "cells": [
  {
   "cell_type": "markdown",
   "metadata": {},
   "source": [
    "# Viewing Table Details"
   ]
  },
  {
   "cell_type": "markdown",
   "metadata": {},
   "source": [
    "#### EXERCISE:\n",
    "Great job reflecting the <code>census</code> table! Now you can begin to learn more about the columns and\n",
    "structure of your table. It is important to get an understanding of your database by examining the column names. This can be done by using the <code>.columns</code> attribute and accessing the <code>.keys()</code> method. For example, <code>census.columns.keys()</code> would return a list of\n",
    "column names of the <code>census</code> table.\n",
    "\n",
    "Following this, we can use the metadata container to find out more details about the reflected table such as the columns and their types. For example, table objects are stored in the <code>metadata.tables</code> dictionary, so you can get the metadata of your <code>census</code> table with <code>metadata.tables['census']</code>. This is similar to your use of the <code>repr()</code> function on the <code>census</code> table from the previous exercise."
   ]
  },
  {
   "cell_type": "markdown",
   "metadata": {},
   "source": [
    "#### INSTRUCTIONS:\n",
    "* Reflect the <code>census</code> table as you did in the previous exercise using the <code>Table()</code> function.\n",
    "* Print a list of column names of the <code>census</code> table by applying the <code>.keys()</code> method to <code>census.columns</code>.\n",
    "* Print the details of the <code>census</code> table using the <code>metadata.tables</code> dictionary along with the <code>repr()</code> function. To do this, first access the <code>'census'</code> key of the <code>metadata.tables</code> dictionary, and place this inside the provided <code>repr()</code> function."
   ]
  },
  {
   "cell_type": "markdown",
   "metadata": {},
   "source": [
    "#### SCRIPT.PY:"
   ]
  },
  {
   "cell_type": "code",
   "execution_count": null,
   "metadata": {},
   "outputs": [],
   "source": [
    "# Reflect the census table from the engine: census\n",
    "census = ____(____, ____, autoload=____, autoload_with=____)\n",
    "\n",
    "# Print the column names\n",
    "print(____)\n",
    "\n",
    "# Print full table metadata\n",
    "print(repr(____))\n"
   ]
  }
 ],
 "metadata": {
  "kernelspec": {
   "display_name": "Python 3",
   "language": "python",
   "name": "python3"
  },
  "language_info": {
   "codemirror_mode": {
    "name": "ipython",
    "version": 3
   },
   "file_extension": ".py",
   "mimetype": "text/x-python",
   "name": "python",
   "nbconvert_exporter": "python",
   "pygments_lexer": "ipython3",
   "version": "3.6.7"
  }
 },
 "nbformat": 4,
 "nbformat_minor": 2
}
